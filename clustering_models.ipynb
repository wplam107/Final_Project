{
 "cells": [
  {
   "cell_type": "markdown",
   "metadata": {},
   "source": [
    "# Clustering Models"
   ]
  },
  {
   "cell_type": "code",
   "execution_count": 1,
   "metadata": {
    "ExecuteTime": {
     "end_time": "2020-04-12T19:41:28.357034Z",
     "start_time": "2020-04-12T19:41:23.411373Z"
    }
   },
   "outputs": [],
   "source": [
    "import numpy as np\n",
    "import pandas as pd\n",
    "import sklearn\n",
    "import pickle\n",
    "import matplotlib.pyplot as plt\n",
    "import seaborn as sns\n",
    "import dtale\n",
    "import plotly.express as px\n",
    "import plotly.graph_objects as go\n",
    "import plotly.io as pio\n",
    "from sklearn.preprocessing import MinMaxScaler, StandardScaler, RobustScaler\n",
    "from sklearn.decomposition import PCA\n",
    "from sklearn.cluster import *\n",
    "from sklearn.model_selection import train_test_split\n",
    "from sklearn.manifold import TSNE\n",
    "from mpl_toolkits.mplot3d import Axes3D\n",
    "\n",
    "pd.set_option('display.max_columns', 300)"
   ]
  },
  {
   "cell_type": "code",
   "execution_count": null,
   "metadata": {
    "ExecuteTime": {
     "end_time": "2020-04-10T18:11:17.776847Z",
     "start_time": "2020-04-10T18:11:17.706783Z"
    }
   },
   "outputs": [],
   "source": [
    "file = open('dataframe.p', 'rb')\n",
    "df1 = pickle.load(file)\n",
    "file.close()\n",
    "file = open('data.p', 'rb')\n",
    "df2 = pickle.load(file)\n",
    "file.close()"
   ]
  },
  {
   "cell_type": "code",
   "execution_count": null,
   "metadata": {
    "ExecuteTime": {
     "end_time": "2020-04-10T18:11:18.483535Z",
     "start_time": "2020-04-10T18:11:18.474182Z"
    }
   },
   "outputs": [],
   "source": [
    "# Set df1 as article text data\n",
    "df1 = df1.iloc[:, :5]"
   ]
  },
  {
   "cell_type": "code",
   "execution_count": null,
   "metadata": {
    "ExecuteTime": {
     "end_time": "2020-04-10T18:11:19.134041Z",
     "start_time": "2020-04-10T18:11:19.130075Z"
    }
   },
   "outputs": [],
   "source": [
    "model_df = df2"
   ]
  },
  {
   "cell_type": "code",
   "execution_count": null,
   "metadata": {
    "ExecuteTime": {
     "end_time": "2020-04-10T18:11:19.993481Z",
     "start_time": "2020-04-10T18:11:19.986590Z"
    }
   },
   "outputs": [],
   "source": [
    "X_model = model_df.drop(columns=['source', 'total_sentences'])\n",
    "y_model = model_df['source']"
   ]
  },
  {
   "cell_type": "markdown",
   "metadata": {},
   "source": [
    "## Pre-Model Scaling and PCA"
   ]
  },
  {
   "cell_type": "code",
   "execution_count": null,
   "metadata": {
    "ExecuteTime": {
     "end_time": "2020-04-10T18:11:22.885745Z",
     "start_time": "2020-04-10T18:11:22.872941Z"
    }
   },
   "outputs": [],
   "source": [
    "scaler = RobustScaler()\n",
    "X_model = scaler.fit_transform(X_model)"
   ]
  },
  {
   "cell_type": "code",
   "execution_count": null,
   "metadata": {
    "ExecuteTime": {
     "end_time": "2020-04-10T18:11:23.214940Z",
     "start_time": "2020-04-10T18:11:23.166723Z"
    }
   },
   "outputs": [],
   "source": [
    "# Find lowest n-components with explained variance > 95%\n",
    "for n in range(2, 10):\n",
    "    pca_ = PCA(n_components=n)\n",
    "    pca_.fit_transform(X_model)\n",
    "    print(f'{n} Components: {np.sum(pca_.explained_variance_ratio_)}')"
   ]
  },
  {
   "cell_type": "code",
   "execution_count": null,
   "metadata": {
    "ExecuteTime": {
     "end_time": "2020-04-10T18:11:24.746028Z",
     "start_time": "2020-04-10T18:11:24.737033Z"
    }
   },
   "outputs": [],
   "source": [
    "pca_model = PCA(n_components=6)\n",
    "X_model = pca_model.fit_transform(X_model)"
   ]
  },
  {
   "cell_type": "markdown",
   "metadata": {},
   "source": [
    "## Models"
   ]
  },
  {
   "cell_type": "markdown",
   "metadata": {},
   "source": [
    "### Hierarchical and K-Means"
   ]
  },
  {
   "cell_type": "code",
   "execution_count": null,
   "metadata": {
    "ExecuteTime": {
     "end_time": "2020-04-10T18:10:22.480647Z",
     "start_time": "2020-04-10T18:10:21.635711Z"
    }
   },
   "outputs": [],
   "source": [
    "# Find best n-clusters for AggClustering and K-Means\n",
    "for n in range(2, 6):\n",
    "    hc = AgglomerativeClustering(n_clusters=n, affinity='euclidean', linkage='ward')\n",
    "    kc = KMeans(n_clusters=n)\n",
    "    y_hc = hc.fit(X_model)\n",
    "    y_kc = kc.fit(X_model)\n",
    "    print(f'---{n} Clusters---')\n",
    "    print('Hierarchical Clustering:', sklearn.metrics.silhouette_score(X_model, y_hc.labels_))\n",
    "    print('K-Means Clustering:', sklearn.metrics.silhouette_score(X_model, y_kc.labels_))"
   ]
  },
  {
   "cell_type": "markdown",
   "metadata": {},
   "source": [
    "### DBSCAN and OPTICS"
   ]
  },
  {
   "cell_type": "code",
   "execution_count": null,
   "metadata": {
    "ExecuteTime": {
     "end_time": "2020-04-10T17:33:10.272678Z",
     "start_time": "2020-04-10T17:33:09.661932Z"
    }
   },
   "outputs": [],
   "source": [
    "# DBSCAN\n",
    "for n in np.arange(1.5, 2.3, 0.1):\n",
    "    dbc = DBSCAN(eps=n)\n",
    "    y_dbc = dbc.fit(X_model)\n",
    "    print(f'Sil. Score (eps={round(n, 1)}): {sklearn.metrics.silhouette_score(X_model, y_dbc.labels_)}')"
   ]
  },
  {
   "cell_type": "code",
   "execution_count": null,
   "metadata": {
    "ExecuteTime": {
     "end_time": "2020-04-10T17:33:24.444593Z",
     "start_time": "2020-04-10T17:33:16.181039Z"
    },
    "scrolled": true
   },
   "outputs": [],
   "source": [
    "# OPTICS\n",
    "for n in range(24, 30, 1):\n",
    "    opc = OPTICS(min_samples=n, metric='correlation')\n",
    "    y_opc = opc.fit(X_model)\n",
    "    print(f'Sil. Score (min_samples={n}): {sklearn.metrics.silhouette_score(X_model, y_opc.labels_)}')"
   ]
  },
  {
   "cell_type": "markdown",
   "metadata": {},
   "source": [
    "### Mean Shift and Spectral Clustering"
   ]
  },
  {
   "cell_type": "code",
   "execution_count": null,
   "metadata": {
    "ExecuteTime": {
     "end_time": "2020-04-10T17:38:19.074832Z",
     "start_time": "2020-04-10T17:37:31.940085Z"
    }
   },
   "outputs": [],
   "source": [
    "# Mean Shift \n",
    "for n in np.arange(3.3, 3.9, 0.1):\n",
    "    msc = MeanShift(bandwidth=n)\n",
    "    y_msc = msc.fit(X_model)\n",
    "    print(f'Sil. Score (bw={round(n, 1)}): {sklearn.metrics.silhouette_score(X_model, y_msc.labels_)}')"
   ]
  },
  {
   "cell_type": "code",
   "execution_count": null,
   "metadata": {
    "ExecuteTime": {
     "end_time": "2020-04-10T17:38:22.250549Z",
     "start_time": "2020-04-10T17:38:19.077791Z"
    }
   },
   "outputs": [],
   "source": [
    "# Spectral Clustering\n",
    "for n in range(2, 8):\n",
    "    scc = SpectralClustering(n_clusters=n)\n",
    "    y_scc = scc.fit(X_model)\n",
    "    print(f'Sil. Score ({n} clusters): {sklearn.metrics.silhouette_score(X_model, y_scc.labels_)}')"
   ]
  },
  {
   "cell_type": "markdown",
   "metadata": {},
   "source": [
    "### Affinity Propagation"
   ]
  },
  {
   "cell_type": "code",
   "execution_count": null,
   "metadata": {
    "ExecuteTime": {
     "end_time": "2020-04-10T17:38:44.722460Z",
     "start_time": "2020-04-10T17:38:22.253885Z"
    }
   },
   "outputs": [],
   "source": [
    "# Affinity Propagation\n",
    "for n in np.arange(0.86, 0.92, 0.01):\n",
    "    apc = AffinityPropagation(damping=n)\n",
    "    y_apc = apc.fit(X_model)\n",
    "    print(f'Sil. Score (damping={round(n, 2)}): {sklearn.metrics.silhouette_score(X_model, y_apc.labels_)}')"
   ]
  },
  {
   "cell_type": "code",
   "execution_count": null,
   "metadata": {
    "ExecuteTime": {
     "end_time": "2020-04-10T18:11:45.632253Z",
     "start_time": "2020-04-10T18:11:33.032480Z"
    }
   },
   "outputs": [],
   "source": [
    "# Top clustering models\n",
    "hc_model = AgglomerativeClustering(n_clusters=3, affinity='euclidean', linkage='ward')\n",
    "kc_model = KMeans(n_clusters=3)\n",
    "dbc_model = DBSCAN(eps=1.9)\n",
    "opc_model = OPTICS(min_samples=26)\n",
    "msc_model = MeanShift(bandwidth=3.4)\n",
    "scc_model = SpectralClustering(n_clusters=2)\n",
    "apc_model = AffinityPropagation(damping=0.87)\n",
    "\n",
    "# Labels from models\n",
    "y_hc = hc_model.fit(X_model).labels_.reshape(1341,1)\n",
    "y_kc = kc_model.fit(X_model).labels_.reshape(1341,1)\n",
    "y_dbc = dbc_model.fit(X_model).labels_.reshape(1341,1)\n",
    "y_opc = opc_model.fit(X_model).labels_.reshape(1341,1)\n",
    "y_msc = msc_model.fit(X_model).labels_.reshape(1341,1)\n",
    "y_scc = scc_model.fit(X_model).labels_.reshape(1341,1)\n",
    "y_apc = apc_model.fit(X_model).labels_.reshape(1341,1)"
   ]
  },
  {
   "cell_type": "code",
   "execution_count": null,
   "metadata": {
    "ExecuteTime": {
     "end_time": "2020-04-10T18:11:49.192385Z",
     "start_time": "2020-04-10T18:11:49.184818Z"
    }
   },
   "outputs": [],
   "source": [
    "labels = [y_hc, y_kc, y_dbc, y_opc, y_msc, y_scc, y_apc]\n",
    "models = ['Hierarchical', 'K-Means', 'DBSCAN', 'OPTICS', 'Mean Shift', 'Spectral', 'Aff. Prop.']\n",
    "mod_lab = list(zip(models, labels))\n",
    "for m, l in mod_lab:\n",
    "    print(f'{m} - Number of Labels: {len(set(l.reshape(1341,)))}')"
   ]
  },
  {
   "cell_type": "markdown",
   "metadata": {},
   "source": [
    "### Notes\n",
    "- DBSCAN and OPTICS both had 2 clusters: 1 labeled cluster, 1 outliers cluster\n",
    "- Mean Shift had 2 clusters: Cluster 0 had 1297 obs, Cluster 1 had 44 obs (43 were CCTV articles)\n",
    "- Spectral Clustering had 2 clusters: Cluster 0 had 1319 obs, Cluster 1 had 22 obs (all CCTV)\n",
    "- Affinity Propagation had 44 clusters"
   ]
  },
  {
   "cell_type": "markdown",
   "metadata": {},
   "source": [
    "## Model Visualizations"
   ]
  },
  {
   "cell_type": "code",
   "execution_count": null,
   "metadata": {
    "ExecuteTime": {
     "end_time": "2020-04-10T18:11:52.403379Z",
     "start_time": "2020-04-10T18:11:52.399737Z"
    }
   },
   "outputs": [],
   "source": [
    "data_col = ['pc1', 'pc2', 'pc3', 'pc4', 'pc5', 'pc6']"
   ]
  },
  {
   "cell_type": "code",
   "execution_count": null,
   "metadata": {
    "ExecuteTime": {
     "end_time": "2020-04-10T18:11:53.134769Z",
     "start_time": "2020-04-10T18:11:53.128625Z"
    }
   },
   "outputs": [],
   "source": [
    "mod_lab_df = pd.DataFrame(np.concatenate((y_hc, y_kc, y_dbc, y_opc, y_msc, y_scc, y_apc, X_model), axis=1))\n",
    "mod_lab_df.columns = models + data_col"
   ]
  },
  {
   "cell_type": "code",
   "execution_count": null,
   "metadata": {
    "ExecuteTime": {
     "end_time": "2020-04-11T15:38:45.058562Z",
     "start_time": "2020-04-11T15:38:45.051585Z"
    }
   },
   "outputs": [],
   "source": [
    "viz_df = pd.concat((mod_lab_df, model_df, df1['headline'], df1['date']), axis=1)"
   ]
  },
  {
   "cell_type": "code",
   "execution_count": null,
   "metadata": {
    "ExecuteTime": {
     "end_time": "2020-04-11T15:38:45.483818Z",
     "start_time": "2020-04-11T15:38:45.467429Z"
    }
   },
   "outputs": [],
   "source": [
    "viz_df['headline'] = viz_df['headline'].map(lambda x: ' '.join(x.split()[:10]))\n",
    "viz_df['date'] = viz_df['date'].map(lambda x: x.date())"
   ]
  },
  {
   "cell_type": "code",
   "execution_count": null,
   "metadata": {
    "ExecuteTime": {
     "end_time": "2020-04-11T15:38:47.315482Z",
     "start_time": "2020-04-11T15:38:47.279651Z"
    }
   },
   "outputs": [],
   "source": [
    "viz_df['Hierarchical'] = viz_df['Hierarchical'].map(lambda x: round(x)).astype(str)\n",
    "viz_df['K-Means'] = viz_df['K-Means'].map(lambda x: round(x)).astype(str)\n",
    "viz_df['DBSCAN'] = viz_df['DBSCAN'].map(lambda x: round(x)).astype(str)\n",
    "viz_df['OPTICS'] = viz_df['OPTICS'].map(lambda x: round(x)).astype(str)\n",
    "viz_df['Mean Shift'] = viz_df['Mean Shift'].map(lambda x: round(x)).astype(str)\n",
    "viz_df['Spectral'] = viz_df['Spectral'].map(lambda x: round(x)).astype(str)\n",
    "viz_df['Aff. Prop.'] = viz_df['Aff. Prop.'].map(lambda x: round(x)).astype(str)"
   ]
  },
  {
   "cell_type": "code",
   "execution_count": null,
   "metadata": {
    "ExecuteTime": {
     "end_time": "2020-04-11T15:38:48.562148Z",
     "start_time": "2020-04-11T15:38:48.553975Z"
    }
   },
   "outputs": [],
   "source": [
    "# file = open('viz_df.p', 'wb')      \n",
    "# pickle.dump(viz_df, file)\n",
    "# file.close()"
   ]
  },
  {
   "cell_type": "code",
   "execution_count": 2,
   "metadata": {
    "ExecuteTime": {
     "end_time": "2020-04-12T19:41:38.663799Z",
     "start_time": "2020-04-12T19:41:38.652270Z"
    }
   },
   "outputs": [],
   "source": [
    "file = open('viz_df.p', 'rb')      \n",
    "viz_df = pickle.load(file)\n",
    "file.close()"
   ]
  },
  {
   "cell_type": "code",
   "execution_count": 6,
   "metadata": {
    "ExecuteTime": {
     "end_time": "2020-04-12T19:41:59.145336Z",
     "start_time": "2020-04-12T19:41:59.139939Z"
    }
   },
   "outputs": [
    {
     "data": {
      "text/plain": [
       "'Coronavirus: police arrest 54 at Hong Kong Prince Edward protest,'"
      ]
     },
     "execution_count": 6,
     "metadata": {},
     "output_type": "execute_result"
    }
   ],
   "source": [
    "viz_df['headline'][0]"
   ]
  },
  {
   "cell_type": "code",
   "execution_count": 11,
   "metadata": {
    "ExecuteTime": {
     "end_time": "2020-04-12T20:53:10.154517Z",
     "start_time": "2020-04-12T20:53:10.140940Z"
    }
   },
   "outputs": [],
   "source": [
    "def two_d(mod, viz_df=viz_df, components=['pc1', 'pc3']):\n",
    "    n_clusters = len(viz_df[mod].unique())\n",
    "    c_label = list(viz_df[mod].unique())\n",
    "    color_map = {'0': 'green', '1': 'blue', '2': 'red', '-1': 'fuchsia'}\n",
    "    fig = px.scatter(viz_df, x=components[0], y=components[1], symbol='source',\n",
    "                     color=mod, color_discrete_map=color_map, opacity=0.8,\n",
    "                     hover_name='headline', hover_data=[mod, 'date'])\n",
    "    fig.update_layout(legend_orientation=\"v\")\n",
    "#     fig.update_layout(legend=dict(orientation='bottom'))\n",
    "    dicts = []\n",
    "    for i in c_label:\n",
    "        if i != '-1':\n",
    "            a = dict(type=\"circle\", xref=\"x\", yref=\"y\",\n",
    "                     x0=min(viz_df.loc[viz_df[mod] == f'{i}' ][components[0]]),\n",
    "                     y0=min(viz_df.loc[viz_df[mod] == f'{i}' ][components[1]]),\n",
    "                     x1=max(viz_df.loc[viz_df[mod] == f'{i}' ][components[0]]),\n",
    "                     y1=max(viz_df.loc[viz_df[mod] == f'{i}' ][components[1]]),\n",
    "                     opacity=0.2, fillcolor=color_map[f'{i}'],\n",
    "                     line_color=color_map[f'{i}'])\n",
    "            dicts.append(a)\n",
    "         \n",
    "    fig.update_layout(shapes=dicts)\n",
    "    fig.update_layout(\n",
    "        title={'text': f'{mod} (n={n_clusters}) in 2D (n-components=6)',\n",
    "               'y':0.9,\n",
    "               'x':0.5,\n",
    "               'xanchor': 'center',\n",
    "               'yanchor': 'top'},\n",
    "        font=dict(family='Arial',\n",
    "                  size=18,\n",
    "                  color='#7f7f7f'))\n",
    "    \n",
    "    fig.update_layout(xaxis_title=f\"Principal Component: {components[0][2]}\",\n",
    "                      yaxis_title=f\"Principal Component: {components[1][2]}\",\n",
    "                      font=dict(family='Arial',\n",
    "                                size=12,\n",
    "                                color='#7f7f7f'))\n",
    "    \n",
    "    fig.show()"
   ]
  },
  {
   "cell_type": "code",
   "execution_count": 12,
   "metadata": {
    "ExecuteTime": {
     "end_time": "2020-04-12T20:53:11.421420Z",
     "start_time": "2020-04-12T20:53:10.606694Z"
    }
   },
   "outputs": [
    {
     "data": {
      "application/vnd.plotly.v1+json": {
       "config": {
        "plotlyServerURL": "https://plot.ly"
       },
       "data": [
        {
         "customdata": [
          [
           "0",
           "2020-04-02"
          ],
          [
           "0",
           "2020-04-01"
          ],
          [
           "0",
           "2020-03-31"
          ],
          [
           "0",
           "2020-03-31"
          ],
          [
           "0",
           "2020-03-30"
          ],
          [
           "0",
           "2020-03-27"
          ],
          [
           "0",
           "2020-03-26"
          ],
          [
           "0",
           "2020-03-23"
          ],
          [
           "0",
           "2020-03-20"
          ],
          [
           "0",
           "2020-03-19"
          ],
          [
           "0",
           "2020-03-17"
          ],
          [
           "0",
           "2020-03-16"
          ],
          [
           "0",
           "2020-03-16"
          ],
          [
           "0",
           "2020-03-14"
          ],
          [
           "0",
           "2020-03-12"
          ],
          [
           "0",
           "2020-03-11"
          ],
          [
           "0",
           "2020-03-10"
          ],
          [
           "0",
           "2020-03-10"
          ],
          [
           "0",
           "2020-03-09"
          ],
          [
           "0",
           "2020-03-07"
          ],
          [
           "0",
           "2020-03-02"
          ],
          [
           "0",
           "2020-03-02"
          ],
          [
           "0",
           "2020-02-28"
          ],
          [
           "0",
           "2020-02-27"
          ],
          [
           "0",
           "2020-02-27"
          ],
          [
           "0",
           "2020-02-21"
          ],
          [
           "0",
           "2020-02-20"
          ],
          [
           "0",
           "2020-02-13"
          ],
          [
           "0",
           "2020-02-12"
          ],
          [
           "0",
           "2020-02-10"
          ],
          [
           "0",
           "2020-02-05"
          ],
          [
           "0",
           "2020-02-14"
          ],
          [
           "0",
           "2020-01-31"
          ],
          [
           "0",
           "2020-01-31"
          ],
          [
           "0",
           "2020-01-29"
          ],
          [
           "0",
           "2020-01-29"
          ],
          [
           "0",
           "2020-01-28"
          ],
          [
           "0",
           "2020-01-27"
          ],
          [
           "0",
           "2020-01-26"
          ],
          [
           "0",
           "2020-02-17"
          ],
          [
           "0",
           "2020-01-24"
          ],
          [
           "0",
           "2020-01-24"
          ],
          [
           "0",
           "2020-01-23"
          ],
          [
           "0",
           "2020-01-22"
          ],
          [
           "0",
           "2020-01-21"
          ],
          [
           "0",
           "2020-03-12"
          ],
          [
           "0",
           "2020-01-20"
          ],
          [
           "0",
           "2020-01-20"
          ],
          [
           "0",
           "2020-01-20"
          ],
          [
           "0",
           "2020-01-20"
          ],
          [
           "0",
           "2020-01-19"
          ],
          [
           "0",
           "2020-01-17"
          ],
          [
           "0",
           "2020-01-17"
          ],
          [
           "0",
           "2020-01-16"
          ],
          [
           "0",
           "2020-01-16"
          ],
          [
           "0",
           "2020-01-16"
          ],
          [
           "0",
           "2020-01-15"
          ],
          [
           "0",
           "2020-01-15"
          ],
          [
           "0",
           "2020-01-21"
          ],
          [
           "0",
           "2020-01-15"
          ],
          [
           "0",
           "2020-01-14"
          ],
          [
           "0",
           "2020-01-15"
          ],
          [
           "0",
           "2020-01-14"
          ],
          [
           "0",
           "2020-01-13"
          ],
          [
           "0",
           "2020-01-13"
          ],
          [
           "0",
           "2020-01-13"
          ],
          [
           "0",
           "2020-01-13"
          ],
          [
           "0",
           "2020-01-13"
          ],
          [
           "0",
           "2020-01-11"
          ],
          [
           "0",
           "2020-01-11"
          ],
          [
           "0",
           "2020-01-10"
          ],
          [
           "0",
           "2020-01-10"
          ],
          [
           "0",
           "2020-01-09"
          ],
          [
           "0",
           "2020-01-09"
          ],
          [
           "0",
           "2020-01-08"
          ],
          [
           "0",
           "2020-01-08"
          ],
          [
           "0",
           "2020-02-17"
          ],
          [
           "0",
           "2020-01-07"
          ],
          [
           "0",
           "2020-01-07"
          ],
          [
           "0",
           "2020-01-06"
          ],
          [
           "0",
           "2020-01-04"
          ],
          [
           "0",
           "2020-01-03"
          ],
          [
           "0",
           "2020-01-03"
          ],
          [
           "0",
           "2020-01-03"
          ],
          [
           "0",
           "2020-01-03"
          ],
          [
           "0",
           "2020-01-02"
          ],
          [
           "0",
           "2020-01-01"
          ],
          [
           "0",
           "2020-01-01"
          ],
          [
           "0",
           "2020-01-01"
          ],
          [
           "0",
           "2020-01-01"
          ],
          [
           "0",
           "2019-12-31"
          ],
          [
           "0",
           "2020-01-01"
          ],
          [
           "0",
           "2020-01-01"
          ],
          [
           "0",
           "2019-12-31"
          ],
          [
           "0",
           "2019-12-31"
          ],
          [
           "0",
           "2020-02-15"
          ],
          [
           "0",
           "2019-12-31"
          ],
          [
           "0",
           "2019-12-30"
          ],
          [
           "0",
           "2019-12-29"
          ],
          [
           "0",
           "2019-12-29"
          ],
          [
           "0",
           "2019-12-29"
          ],
          [
           "0",
           "2019-12-28"
          ],
          [
           "0",
           "2019-12-28"
          ],
          [
           "0",
           "2019-12-28"
          ],
          [
           "0",
           "2019-12-27"
          ],
          [
           "0",
           "2019-12-27"
          ],
          [
           "0",
           "2019-12-28"
          ],
          [
           "0",
           "2019-12-26"
          ],
          [
           "0",
           "2019-12-26"
          ],
          [
           "0",
           "2019-12-25"
          ],
          [
           "0",
           "2019-12-24"
          ],
          [
           "0",
           "2019-12-24"
          ],
          [
           "0",
           "2019-12-23"
          ],
          [
           "0",
           "2019-12-24"
          ],
          [
           "0",
           "2019-12-23"
          ],
          [
           "0",
           "2019-12-22"
          ],
          [
           "0",
           "2019-12-22"
          ],
          [
           "0",
           "2019-12-21"
          ],
          [
           "0",
           "2019-12-20"
          ],
          [
           "0",
           "2019-12-20"
          ],
          [
           "0",
           "2019-12-19"
          ],
          [
           "0",
           "2019-12-20"
          ],
          [
           "0",
           "2019-12-19"
          ],
          [
           "0",
           "2019-12-17"
          ],
          [
           "0",
           "2019-12-18"
          ],
          [
           "0",
           "2019-12-16"
          ],
          [
           "0",
           "2019-12-14"
          ],
          [
           "0",
           "2019-12-14"
          ],
          [
           "0",
           "2019-12-16"
          ],
          [
           "0",
           "2019-12-13"
          ],
          [
           "0",
           "2019-12-13"
          ],
          [
           "0",
           "2019-12-13"
          ],
          [
           "0",
           "2019-12-11"
          ],
          [
           "0",
           "2019-12-11"
          ],
          [
           "0",
           "2019-12-11"
          ],
          [
           "0",
           "2019-12-11"
          ],
          [
           "0",
           "2019-12-10"
          ],
          [
           "0",
           "2019-12-11"
          ],
          [
           "0",
           "2019-12-09"
          ],
          [
           "0",
           "2019-12-09"
          ],
          [
           "0",
           "2019-12-09"
          ],
          [
           "0",
           "2019-12-10"
          ],
          [
           "0",
           "2019-12-07"
          ],
          [
           "0",
           "2019-12-07"
          ],
          [
           "0",
           "2019-12-07"
          ],
          [
           "0",
           "2019-12-08"
          ],
          [
           "0",
           "2019-12-07"
          ],
          [
           "0",
           "2019-12-06"
          ],
          [
           "0",
           "2019-12-06"
          ],
          [
           "0",
           "2019-12-06"
          ],
          [
           "0",
           "2019-12-05"
          ],
          [
           "0",
           "2019-12-05"
          ],
          [
           "0",
           "2019-12-06"
          ],
          [
           "0",
           "2019-12-05"
          ],
          [
           "0",
           "2019-12-05"
          ],
          [
           "0",
           "2019-12-05"
          ],
          [
           "0",
           "2019-12-04"
          ],
          [
           "0",
           "2019-12-03"
          ],
          [
           "0",
           "2019-12-03"
          ],
          [
           "0",
           "2019-12-03"
          ],
          [
           "0",
           "2019-12-03"
          ],
          [
           "0",
           "2019-12-02"
          ],
          [
           "0",
           "2019-11-30"
          ],
          [
           "0",
           "2019-11-29"
          ],
          [
           "0",
           "2019-11-29"
          ],
          [
           "0",
           "2019-11-29"
          ],
          [
           "0",
           "2019-11-27"
          ],
          [
           "0",
           "2019-11-28"
          ],
          [
           "0",
           "2019-11-27"
          ],
          [
           "0",
           "2019-11-27"
          ],
          [
           "0",
           "2019-11-26"
          ],
          [
           "0",
           "2019-11-25"
          ],
          [
           "0",
           "2019-11-25"
          ],
          [
           "0",
           "2019-11-25"
          ],
          [
           "0",
           "2019-11-23"
          ],
          [
           "0",
           "2019-11-26"
          ],
          [
           "0",
           "2019-11-22"
          ],
          [
           "0",
           "2019-11-22"
          ],
          [
           "0",
           "2019-11-21"
          ],
          [
           "0",
           "2019-11-21"
          ],
          [
           "0",
           "2019-11-21"
          ],
          [
           "0",
           "2019-11-21"
          ],
          [
           "0",
           "2019-11-20"
          ],
          [
           "0",
           "2019-11-20"
          ],
          [
           "0",
           "2019-11-20"
          ],
          [
           "0",
           "2019-11-19"
          ],
          [
           "0",
           "2019-11-19"
          ],
          [
           "0",
           "2019-12-18"
          ],
          [
           "0",
           "2019-11-20"
          ],
          [
           "0",
           "2019-11-19"
          ],
          [
           "0",
           "2019-11-19"
          ],
          [
           "0",
           "2019-11-18"
          ],
          [
           "0",
           "2019-11-17"
          ],
          [
           "0",
           "2019-11-16"
          ],
          [
           "0",
           "2019-11-17"
          ],
          [
           "0",
           "2019-11-16"
          ],
          [
           "0",
           "2019-11-16"
          ],
          [
           "0",
           "2019-11-15"
          ],
          [
           "0",
           "2019-11-15"
          ],
          [
           "0",
           "2019-11-15"
          ],
          [
           "0",
           "2019-11-15"
          ],
          [
           "0",
           "2019-11-15"
          ],
          [
           "0",
           "2019-11-14"
          ],
          [
           "0",
           "2019-11-14"
          ],
          [
           "0",
           "2019-11-13"
          ],
          [
           "0",
           "2019-11-13"
          ],
          [
           "0",
           "2019-11-12"
          ],
          [
           "0",
           "2019-11-12"
          ],
          [
           "0",
           "2019-11-12"
          ],
          [
           "0",
           "2019-11-12"
          ],
          [
           "0",
           "2019-11-15"
          ],
          [
           "0",
           "2019-11-11"
          ],
          [
           "0",
           "2019-11-11"
          ],
          [
           "0",
           "2019-11-10"
          ],
          [
           "0",
           "2020-03-16"
          ],
          [
           "0",
           "2019-11-08"
          ],
          [
           "0",
           "2019-11-08"
          ],
          [
           "0",
           "2019-11-07"
          ],
          [
           "0",
           "2019-11-06"
          ],
          [
           "0",
           "2019-11-06"
          ],
          [
           "0",
           "2019-11-06"
          ],
          [
           "0",
           "2019-11-05"
          ],
          [
           "0",
           "2019-11-04"
          ],
          [
           "0",
           "2019-11-02"
          ],
          [
           "0",
           "2019-11-01"
          ],
          [
           "0",
           "2019-11-02"
          ],
          [
           "0",
           "2019-11-01"
          ],
          [
           "0",
           "2019-10-31"
          ],
          [
           "0",
           "2019-10-31"
          ],
          [
           "0",
           "2019-10-30"
          ],
          [
           "0",
           "2019-10-30"
          ],
          [
           "0",
           "2019-10-30"
          ],
          [
           "0",
           "2019-10-30"
          ],
          [
           "0",
           "2019-10-29"
          ],
          [
           "0",
           "2019-10-29"
          ],
          [
           "0",
           "2019-10-29"
          ],
          [
           "0",
           "2019-10-28"
          ],
          [
           "0",
           "2019-10-28"
          ],
          [
           "0",
           "2019-10-27"
          ],
          [
           "0",
           "2019-10-28"
          ],
          [
           "0",
           "2019-10-27"
          ],
          [
           "0",
           "2019-10-25"
          ],
          [
           "0",
           "2019-10-25"
          ],
          [
           "0",
           "2019-10-25"
          ],
          [
           "0",
           "2019-10-26"
          ],
          [
           "0",
           "2019-10-25"
          ],
          [
           "0",
           "2019-10-25"
          ],
          [
           "0",
           "2019-10-25"
          ],
          [
           "0",
           "2019-10-24"
          ],
          [
           "0",
           "2019-10-24"
          ],
          [
           "0",
           "2019-10-24"
          ],
          [
           "0",
           "2019-10-24"
          ],
          [
           "0",
           "2019-10-23"
          ],
          [
           "0",
           "2019-10-23"
          ],
          [
           "0",
           "2019-10-24"
          ],
          [
           "0",
           "2019-10-23"
          ],
          [
           "0",
           "2019-10-24"
          ],
          [
           "0",
           "2019-10-24"
          ],
          [
           "0",
           "2019-10-23"
          ],
          [
           "0",
           "2019-10-23"
          ],
          [
           "0",
           "2019-10-22"
          ],
          [
           "0",
           "2019-10-21"
          ],
          [
           "0",
           "2019-10-21"
          ],
          [
           "0",
           "2019-10-21"
          ],
          [
           "0",
           "2019-10-21"
          ],
          [
           "0",
           "2019-10-23"
          ],
          [
           "0",
           "2019-10-20"
          ],
          [
           "0",
           "2019-10-19"
          ],
          [
           "0",
           "2019-10-19"
          ],
          [
           "0",
           "2019-10-18"
          ],
          [
           "0",
           "2019-10-18"
          ],
          [
           "0",
           "2019-10-18"
          ],
          [
           "0",
           "2019-10-15"
          ],
          [
           "0",
           "2019-10-15"
          ],
          [
           "0",
           "2019-10-15"
          ],
          [
           "0",
           "2019-10-14"
          ],
          [
           "0",
           "2019-10-14"
          ],
          [
           "0",
           "2019-10-12"
          ],
          [
           "0",
           "2019-10-12"
          ],
          [
           "0",
           "2019-10-12"
          ],
          [
           "0",
           "2019-10-12"
          ],
          [
           "0",
           "2019-10-12"
          ],
          [
           "0",
           "2019-10-11"
          ],
          [
           "0",
           "2019-10-11"
          ],
          [
           "0",
           "2019-10-11"
          ],
          [
           "0",
           "2019-10-10"
          ],
          [
           "0",
           "2019-10-10"
          ],
          [
           "0",
           "2019-10-10"
          ],
          [
           "0",
           "2019-10-09"
          ],
          [
           "0",
           "2019-10-09"
          ],
          [
           "0",
           "2019-10-08"
          ],
          [
           "0",
           "2019-10-08"
          ],
          [
           "0",
           "2019-10-08"
          ],
          [
           "0",
           "2019-10-06"
          ],
          [
           "0",
           "2019-10-06"
          ],
          [
           "0",
           "2019-10-05"
          ],
          [
           "0",
           "2019-10-04"
          ],
          [
           "0",
           "2019-10-04"
          ],
          [
           "0",
           "2019-10-03"
          ],
          [
           "0",
           "2019-10-03"
          ],
          [
           "0",
           "2019-10-03"
          ],
          [
           "0",
           "2019-10-03"
          ],
          [
           "0",
           "2019-10-03"
          ],
          [
           "0",
           "2019-10-03"
          ],
          [
           "0",
           "2019-10-03"
          ],
          [
           "0",
           "2019-10-02"
          ],
          [
           "0",
           "2019-10-02"
          ],
          [
           "0",
           "2019-10-04"
          ],
          [
           "0",
           "2019-10-02"
          ],
          [
           "0",
           "2019-10-01"
          ],
          [
           "0",
           "2019-09-30"
          ],
          [
           "0",
           "2019-09-30"
          ],
          [
           "0",
           "2019-09-30"
          ],
          [
           "0",
           "2019-09-30"
          ],
          [
           "0",
           "2019-09-30"
          ],
          [
           "0",
           "2019-09-29"
          ],
          [
           "0",
           "2019-09-29"
          ],
          [
           "0",
           "2019-09-27"
          ],
          [
           "0",
           "2019-09-27"
          ],
          [
           "0",
           "2019-09-27"
          ],
          [
           "0",
           "2019-10-03"
          ],
          [
           "0",
           "2019-09-27"
          ],
          [
           "0",
           "2019-09-26"
          ],
          [
           "0",
           "2019-09-26"
          ],
          [
           "0",
           "2019-09-25"
          ],
          [
           "0",
           "2019-09-25"
          ],
          [
           "0",
           "2019-09-25"
          ],
          [
           "0",
           "2019-09-25"
          ],
          [
           "0",
           "2019-09-24"
          ],
          [
           "0",
           "2019-09-25"
          ],
          [
           "0",
           "2019-09-23"
          ],
          [
           "0",
           "2019-09-23"
          ],
          [
           "0",
           "2019-09-22"
          ],
          [
           "0",
           "2019-09-23"
          ],
          [
           "0",
           "2019-09-21"
          ],
          [
           "0",
           "2019-09-22"
          ],
          [
           "0",
           "2019-09-20"
          ],
          [
           "0",
           "2019-09-20"
          ],
          [
           "0",
           "2019-09-19"
          ],
          [
           "0",
           "2019-09-18"
          ],
          [
           "0",
           "2019-09-18"
          ],
          [
           "0",
           "2019-09-18"
          ],
          [
           "0",
           "2019-09-19"
          ],
          [
           "0",
           "2019-09-18"
          ],
          [
           "0",
           "2019-09-18"
          ],
          [
           "0",
           "2019-09-17"
          ],
          [
           "0",
           "2019-09-17"
          ],
          [
           "0",
           "2019-09-17"
          ],
          [
           "0",
           "2019-09-16"
          ],
          [
           "0",
           "2019-09-17"
          ],
          [
           "0",
           "2019-09-16"
          ],
          [
           "0",
           "2019-09-15"
          ],
          [
           "0",
           "2019-09-14"
          ],
          [
           "0",
           "2019-09-13"
          ],
          [
           "0",
           "2019-09-13"
          ],
          [
           "0",
           "2019-09-14"
          ],
          [
           "0",
           "2019-09-13"
          ],
          [
           "0",
           "2019-09-13"
          ],
          [
           "0",
           "2019-09-13"
          ],
          [
           "0",
           "2019-09-13"
          ],
          [
           "0",
           "2019-09-12"
          ],
          [
           "0",
           "2019-09-12"
          ],
          [
           "0",
           "2019-09-11"
          ],
          [
           "0",
           "2019-09-12"
          ],
          [
           "0",
           "2019-09-11"
          ],
          [
           "0",
           "2019-10-16"
          ],
          [
           "0",
           "2019-09-10"
          ],
          [
           "0",
           "2019-09-10"
          ],
          [
           "0",
           "2019-09-09"
          ],
          [
           "0",
           "2019-09-08"
          ],
          [
           "0",
           "2019-09-07"
          ],
          [
           "0",
           "2019-09-07"
          ],
          [
           "0",
           "2019-09-06"
          ],
          [
           "0",
           "2019-09-06"
          ],
          [
           "0",
           "2019-09-05"
          ],
          [
           "0",
           "2019-09-05"
          ],
          [
           "0",
           "2019-09-06"
          ],
          [
           "0",
           "2019-09-04"
          ],
          [
           "0",
           "2019-09-04"
          ],
          [
           "0",
           "2019-09-04"
          ],
          [
           "0",
           "2019-09-03"
          ],
          [
           "0",
           "2019-09-03"
          ],
          [
           "0",
           "2019-09-03"
          ],
          [
           "0",
           "2019-09-03"
          ],
          [
           "0",
           "2019-09-03"
          ],
          [
           "0",
           "2019-09-03"
          ],
          [
           "0",
           "2019-09-02"
          ],
          [
           "0",
           "2019-09-01"
          ],
          [
           "0",
           "2019-09-02"
          ],
          [
           "0",
           "2019-08-31"
          ],
          [
           "0",
           "2019-08-31"
          ],
          [
           "0",
           "2019-08-31"
          ],
          [
           "0",
           "2019-08-31"
          ],
          [
           "0",
           "2019-08-30"
          ],
          [
           "0",
           "2019-08-30"
          ],
          [
           "0",
           "2019-08-30"
          ],
          [
           "0",
           "2019-08-30"
          ],
          [
           "0",
           "2019-08-29"
          ],
          [
           "0",
           "2019-08-28"
          ],
          [
           "0",
           "2019-08-28"
          ],
          [
           "0",
           "2019-11-25"
          ],
          [
           "0",
           "2019-08-28"
          ],
          [
           "0",
           "2019-08-28"
          ],
          [
           "0",
           "2019-08-26"
          ],
          [
           "0",
           "2019-08-26"
          ],
          [
           "0",
           "2019-08-26"
          ],
          [
           "0",
           "2019-08-26"
          ],
          [
           "0",
           "2019-08-25"
          ],
          [
           "0",
           "2019-08-23"
          ],
          [
           "0",
           "2019-08-23"
          ],
          [
           "0",
           "2019-08-23"
          ],
          [
           "0",
           "2019-08-22"
          ],
          [
           "0",
           "2019-12-19"
          ],
          [
           "0",
           "2019-08-23"
          ],
          [
           "0",
           "2019-08-22"
          ],
          [
           "0",
           "2019-08-22"
          ],
          [
           "0",
           "2019-08-22"
          ],
          [
           "0",
           "2019-11-25"
          ],
          [
           "0",
           "2019-08-21"
          ],
          [
           "0",
           "2019-08-21"
          ],
          [
           "0",
           "2019-08-20"
          ],
          [
           "0",
           "2019-08-19"
          ],
          [
           "0",
           "2019-08-19"
          ],
          [
           "0",
           "2019-11-25"
          ],
          [
           "0",
           "2019-08-20"
          ],
          [
           "0",
           "2019-08-18"
          ],
          [
           "0",
           "2019-08-17"
          ],
          [
           "0",
           "2019-08-16"
          ],
          [
           "0",
           "2019-08-16"
          ],
          [
           "0",
           "2019-08-16"
          ],
          [
           "0",
           "2019-08-16"
          ],
          [
           "0",
           "2019-08-17"
          ],
          [
           "0",
           "2019-08-16"
          ],
          [
           "0",
           "2019-08-15"
          ],
          [
           "0",
           "2019-08-15"
          ],
          [
           "0",
           "2019-08-15"
          ],
          [
           "0",
           "2019-08-14"
          ],
          [
           "0",
           "2020-02-18"
          ],
          [
           "0",
           "2019-08-14"
          ],
          [
           "0",
           "2019-08-14"
          ],
          [
           "0",
           "2019-08-14"
          ],
          [
           "0",
           "2019-08-13"
          ],
          [
           "0",
           "2019-08-13"
          ],
          [
           "0",
           "2019-08-13"
          ],
          [
           "0",
           "2019-08-12"
          ],
          [
           "0",
           "2019-08-10"
          ],
          [
           "0",
           "2019-08-10"
          ],
          [
           "0",
           "2019-08-09"
          ],
          [
           "0",
           "2019-08-09"
          ],
          [
           "0",
           "2019-08-08"
          ],
          [
           "0",
           "2019-08-08"
          ],
          [
           "0",
           "2019-08-07"
          ],
          [
           "0",
           "2019-08-07"
          ],
          [
           "0",
           "2019-08-07"
          ],
          [
           "0",
           "2019-08-07"
          ],
          [
           "0",
           "2019-08-07"
          ],
          [
           "0",
           "2019-08-07"
          ],
          [
           "0",
           "2019-08-07"
          ],
          [
           "0",
           "2019-08-06"
          ],
          [
           "0",
           "2019-08-07"
          ],
          [
           "0",
           "2019-08-06"
          ],
          [
           "0",
           "2019-08-06"
          ],
          [
           "0",
           "2019-08-06"
          ],
          [
           "0",
           "2019-08-06"
          ],
          [
           "0",
           "2019-08-03"
          ],
          [
           "0",
           "2019-08-02"
          ],
          [
           "0",
           "2019-08-02"
          ],
          [
           "0",
           "2019-08-01"
          ],
          [
           "0",
           "2019-08-01"
          ],
          [
           "0",
           "2019-07-31"
          ],
          [
           "0",
           "2019-07-31"
          ],
          [
           "0",
           "2019-07-29"
          ],
          [
           "0",
           "2019-07-29"
          ],
          [
           "0",
           "2019-07-28"
          ],
          [
           "0",
           "2019-07-28"
          ],
          [
           "0",
           "2019-07-26"
          ],
          [
           "0",
           "2019-08-07"
          ],
          [
           "0",
           "2019-07-24"
          ],
          [
           "0",
           "2019-07-24"
          ],
          [
           "0",
           "2019-07-23"
          ],
          [
           "0",
           "2019-07-24"
          ],
          [
           "0",
           "2019-07-23"
          ],
          [
           "0",
           "2019-07-23"
          ],
          [
           "0",
           "2019-07-23"
          ],
          [
           "0",
           "2019-07-24"
          ],
          [
           "0",
           "2019-07-24"
          ],
          [
           "0",
           "2019-07-23"
          ],
          [
           "0",
           "2019-07-23"
          ],
          [
           "0",
           "2019-07-23"
          ],
          [
           "0",
           "2019-07-24"
          ],
          [
           "0",
           "2019-07-23"
          ],
          [
           "0",
           "2019-07-23"
          ]
         ],
         "hoverlabel": {
          "namelength": 0
         },
         "hovertemplate": "<b>%{hovertext}</b><br><br>Hierarchical=%{customdata[0]}<br>source=SCMP<br>pc1=%{x}<br>pc3=%{y}<br>date=%{customdata[1]}",
         "hovertext": [
          "Coronavirus: police arrest 54 at Hong Kong Prince Edward protest,",
          "Three teens arrested after early-morning firebombing at Hong Kong police",
          "Hong Kong protests: Remand in jail for student, 17, who",
          "Hong Kong wages could drop 20 per cent in 2020",
          "Hong Kong protests: Telegram group operator faces incitement charges over",
          "Hong Kong drops to sixth in new global financial centre",
          "Hong Kong protests: opposition politician arrested under colonial-era offence of",
          "Petrol bomb attack at Hong Kong police married quarters",
          "Hong Kong protests: prosecutors abandon box cutter charge, after conceding",
          "Hong Kong court orders MTR Corp to disclose to student",
          "Hong Kong loses ranking as world’s freest economy due to",
          "First aid volunteer arrested at Hong Kong anti-government protest pleads",
          "Hong Kong Disneyland Resort losses double to HK$105 million as",
          "Year of living dangerously: Hong Kong bombing campaign ‘almost unprecedented’,",
          "Hong Kong protests: 13-year-old arrested on suspicion of assaulting police",
          "Arrests thwarted plan to attack Hong Kong police by rigging",
          "Hong Kong stock exchange decision to delist Superb Summit triggers",
          "Hong Kong protests: police to consider invoking anti-terrorist legislation for",
          "Hong Kong police arrest 17 people, seize 2.6 tonnes of",
          "Leaving Hong Kong: how coronavirus, anti-government protests soured the expat",
          "Hong Kong protests: Dutch tourist among four charged over weekend",
          "Hong Kong police chief says bumper budget increase is vital",
          "As Hong Kong protests raged, police solved lowest percentage of",
          "Hong Kong finance minister shoots down lawmakers’ proposal to seek",
          "Hong Kong police to ramp up manpower by more than",
          "Hong Kong protests: two men accused of rioting have charges",
          "Anti-government protesters’ slogan spray-painted outside Chinese army base in Hong",
          "Hong Kong teen who ‘received HK$48,000’ from financial supporter of",
          "Hong Kong police decry ‘chaos’ created by anti-government protests as",
          "Hong Kong protests: salesman accused of elbowing police officer has",
          "Bomb disposal team called after explosion in Hong Kong public",
          "Hong Kong activist Nathan Law to attend Trump’s State of",
          "Hong Kong protests: armed gang launches vicious attack on group",
          "Hong Kong protests: police on defensive as radicals threaten bombing",
          "Hong Kong protests: police hunting 300 suspects over serious cases",
          "Hong Kong student facing life in prison in connection with",
          "Unexploded IED found at Shenzhen border control point, after suspected",
          "Hong Kong protests: tear gas fired for second night in",
          "Hong Kong action choreographer linked to bomb plot, charged with",
          "‘Orwell would be proud’: US defence chief says China is",
          "Singapore PM: ‘one country, two systems’ may not last unless",
          "Ousted incumbents in Hong Kong district council polls cite smears,",
          "Hong Kong lawmaker files case against officer who shot protester",
          "Police officers ‘received verbal warnings’ for holding reporters’ identity cards",
          "Hong Kong’s privacy watchdog reveals 75-fold increase in doxxing complaints",
          "Hong Kong protest organiser Ventus Lau in court two days",
          "Hong Kong protests: ex-lawmaker Au Nok-hin accused of damaging police",
          "Plans to give Hong Kong’s privacy watchdog some teeth in",
          "Hong Kong police send out detectives for patrols as anti-government",
          "New chief, new tactics: Hong Kong police act more swiftly",
          "Six months after Yuen Long mob attack, most shops in",
          "Hong Kong protests: man who attacked Post photographer pleads guilty",
          "‘Police apologise?’ No, Hong Kong rioters should say sorry for",
          "Hong Kong airport’s long-term investment plans to stay on course",
          "Hong Kong mall Festival Walk reopens, but post-protest scars remain",
          "Hong Kong protests: police arrest 10 members of radical anti-government",
          "Flight cabin cleaner remanded in custody for taking baton and",
          "Hongkongers looking to move abroad warned to be careful when",
          "Hong Kong police consider arming officers with electroshock devices and",
          "Hong Kong police defuse powerful pipe bomb in flat and",
          "Hong Kong protests making investigations into corruption more complex, ICAC",
          "Ocean Park bailout plan by Hong Kong government will help",
          "Hong Kong protests: High Court test for warrants that let",
          "Hong Kong Chief Justice Geoffrey Ma on criticism of city",
          "Take ‘public interest’ into account on whether to bring cases",
          "Vandals scrawl ‘Free Hong Kong’ on Denmark’s famed Little Mermaid",
          "Hong Kong government unveils HK$10.6 billion plan to bail out",
          "What happens to Hong Kong’s economy when businesses are split",
          "‘My conscience is clear’: elite officers from disciplined forces roped",
          "Hong Kong anti-mask law: ban on face coverings would deal",
          "Demosisto member arrested at Hong Kong airport in connection with",
          "Ocean Park to launch HK$100 million light show in bid",
          "Hong Kong protests: two jailed over petrol bombs, while third",
          "Hong Kong police seized more than 3,700 mobile phones from",
          "Hong Kong protests: man who threatened group with 15cm knife",
          "Ocean Park to seek Hong Kong government help for HK$10",
          "Mike Pompeo stresses Hong Kong autonomy, urges global censure of",
          "Hong Kong Tourism Board splashes out 20 per cent more",
          "Student accused of rioting near PolyU protests arrested again for",
          "Hong Kong restaurant firebombed by black-clad attackers, police investigate protests",
          "Senior part-time Hong Kong police officer suspended over suspected leaking",
          "Man accused of vandalising Hong Kong police vehicle avoids jail",
          "Hong Kong’s Ocean Park will freeze salaries to avoid lay-offs",
          "Iconic HSBC lions in Hong Kong facing long period of",
          "Hong Kong police identify officer linked to shooting that left",
          "Police hunt for pair who posed as plain-clothes officers to",
          "Education Bureau says it needs to act against Hong Kong",
          "Hong Kong new year lucky draw website blacklisted by network",
          "New Year 2020: how the world’s cities ushered in the",
          "Hong Kong protests: three people arrested for hitting man over",
          "Hong Kong protests: mainland China student and two 14-year-olds among",
          "Tourist arrivals take sharpest plunge in November since protests began",
          "Hong Kong police find six jerry cans of petrol on",
          "Man arrested as HSBC cheque deposit machine is smashed in",
          "Hong Kong teen accused of snatching police officer’s gun denied",
          "PLA’s Hong Kong garrison holds joint drill in city’s harbour",
          "Hongkongers stage peaceful rally to remember those ‘lost’ during anti-government",
          "Hong Kong police officer who stopped students over protest posters",
          "Hong Kong’s top officials promise raft of economic measures in",
          "Man charged with criminal damage of Starbucks outlet during Hong",
          "Representatives of Hong Kong’s battered tourism industry keep fingers crossed",
          "Four houses burgled around midnight on Friday in Hong Kong’s",
          "Hong Kong police union chief condemns protesters who claim ‘peaceful’",
          "Hong Kong protests: police officers receive HK$235 million in meal",
          "Hong Kong police admit ‘mistargeting’ colleagues during operations against protesters",
          "Hong Kong police admit officer showing reporter’s ID to live-streaming",
          "Stay or go? Hong Kong’s protest crisis raises career doubts",
          "Five arrested over HK$2.8 million watch robbery, as Hong Kong",
          "Teenager in stable condition after falling from rooftop balcony of",
          "South China Sea live-fire drill for PLA’s Hong Kong garrison",
          "Fewer Hongkongers out for last-minute shopping on Christmas Eve, with",
          "Can the term ‘cockroach’ actually be a compliment for Hong",
          "Hong Kong’s eco-tourism industry to receive US$7 million boost amid",
          "Hong Kong teen who fired at police was part of",
          "Hong Kong drug seizures surge 74 per cent to HK$1.9",
          "Hong Kong police station damaged by suspected petrol bomb attack",
          "Hong Kong leader Carrie Lam calls doxxing a threat to",
          "Man who fired live round at police believed to be",
          "IPCC probe into Hong Kong police’s handling of protests to",
          "Monica Baey’s #MeToo story, Hong Kong protests and Christchurch shootings",
          "Hong Kong protests: axe-carrying security guard jailed for a year",
          "Police freeze HK$70 million raised by Spark Alliance for Hong",
          "Hong Kong protests: police commander in charge of Polytechnic University",
          "Hong Kong anti-government protester injured in eye loses court bid",
          "Cathay Pacific passenger arrivals to Hong Kong down 46 per",
          "Hong Kong court denies bail for suspects caught with remote-controlled",
          "Germany caught in the middle as Hong Kong protests linked",
          "Hong Kong police foil second bomb plot in under a",
          "Five teens arrested over Hong Kong protest clashes that claimed",
          "Airlines in Hong Kong extend cuts to passenger capacity into",
          "Hong Kong girl, 13, who burned Chinese flag ‘out of",
          "How Sarah Ferguson, Duchess of York, feels about Prince Andrew,",
          "Resignations from police watchdog’s protests review reveal system flaws but",
          "Singapore hotels cheer as Hong Kong protests fuel Chinese tourism",
          "Hong Kong protests and Typhoon Mangkhut prove a perfect storm",
          "Overseas experts advising police watchdog on Hong Kong protests quit",
          "Hong Kong Brands and Products Expo kicks off at Victoria",
          "Bombers planned attack on officers at Sunday’s protest march, Hong",
          "Hong Kong protests: gunman was to ‘slaughter’ police officers after",
          "Macau dismisses suggestion high-profile Americans were barred in retaliation against",
          "Hong Kong police seize weapons including handgun ahead of mass",
          "‘I just want a safe place to live with my",
          "Hong Kong budget deficit ‘unavoidable’ for two years, finance chief",
          "Spike in demand for security guards built like bouncers, to",
          "Hard times for Hong Kong’s tourism workers as protests keep",
          "Hong Kong tensions trigger meetings with Canadian school principals, after",
          "In the UK, how would a Jeremy Corbyn government engage",
          "Hong Kong protests: court orders prosecutors to pay innocent Filipino",
          "Indonesian journalist blinded during Hong Kong protest takes legal action",
          "Tenants at Kai Tak cruise terminal say relief efforts not",
          "Hong Kong protests: teacher accused of assaulting man by pouring",
          "German firms committed to Hong Kong but doubt political unrest",
          "Hong Kong protests: vandalised Festival Walk to remain closed until",
          "Hong Kong property buyers fall in love with Malaysia’s Penang",
          "For struggling Hong Kong firms, rent cuts and return to",
          "Hong Kong ‘paying the price’: number of crimes solved hits",
          "US Navy ‘invited’ to go to Taiwan and ‘have fun’",
          "Hong Kong protests: students sentenced to correctional training and to",
          "China Coast Guard posts video of patrols off Hong Kong",
          "Hong Kong anti-government protests bring biggest retail slump on record,",
          "Hong Kong man hit over head with drain cover while",
          "Hong Kong police chief Chris Tang warns of rising number",
          "Hong Kong protester accused of punching policeman sees charges dropped",
          "Hong Kong, Thailand agree to pursue free trade deal, Carrie",
          "Hong Kong’s flagship airline Cathay Pacific to scale back its",
          "Operator of Hong Kong’s first outlet shopping centre near Shenzhen",
          "Hong Kong Disneyland cancels New Year’s Eve countdown party over",
          "Hong Kong police receive 1,200 complaints over handling of anti-government",
          "Hong Kong protests: man who spat at police officer during",
          "Chinese students in South Korea investigated for vandalism of pro-Hong",
          "Hong Kong’s 2020 Lunar New Year parade replaced by carnival",
          "Chinese tourists blamed after vandals deface pro-Hong Kong protest messages",
          "First Hong Kong anti-government protester sentenced for carrying laser pen",
          "Beijing must reassess Hong Kong situation as pro-democracy camp wins",
          "Hong Kong man, 43, arrested over photos of elite ‘Flying",
          "Donald Trump says ‘very good chance’ of reaching trade deal",
          "Make BN(O) Hongkongers full British citizens, Boris Johnson urged by",
          "Hong Kong mask law: judges give themselves time to deliberate",
          "Boy, 12, is youngest to be convicted over Hong Kong",
          "Hong Kong restaurateur Alex Yeung sent home from Singapore over",
          "Hong Kong Department of Justice asks High Court to suspend",
          "Hong Kong protests: more than 200 defendants charged over stand-off",
          "Hong Kong police file disorderly conduct charge against couple accused",
          "Police respond to more menacing mob attacks by bringing out",
          "‘More than 200 radicals’ to be charged for rioting in",
          "Hong Kong protests: reporter charged with possession of ammunition after",
          "No redemption in sewers as desperate radicals search high and",
          "Singapore also vulnerable to protests that have left Hong Kong",
          "New Hong Kong police chief Chris Tang tells residents: the",
          "Polytechnic University war zone: how Hong Kong radicals got boxed",
          "Hong Kong passport holders don’t need visa to enter Singapore,",
          "PLA ‘committed to protecting’ Hong Kong as stand-off intensifies",
          "Hong Kong protests: violence and hatred ‘swallowing up’ city and",
          "Two German exchange students released on bail after being arrested",
          "‘Prison flying tigers’ join fight against Hong Kong protesters as",
          "Hong Kong protests: peaceful Friday turns violent again as government",
          "Hong Kong kindergarten teacher accused of slapping three-year-old with police",
          "Amid Hong Kong anti-government protests, city’s economy expected to shrink",
          "Hong Kong court extends online messaging ban aimed at those",
          "Hong Kong protests: Disney cast member, Australian tutor, and politician",
          "Trapped in Tai Po: McDonald’s runs out of buns and",
          "Hong Kong barristers condemn arson attack on court building, calling",
          "Hong Kong protests prompt Citigroup to warn employees to avoid",
          "Elderly man clings to life after being hit in head",
          "Hong Kong protests: five Chinese University students charged with rioting",
          "Hong Kong protests: ‘special police’ unit will be unveiled this",
          "Hong Kong protests: alleged ear-biter suffered years of depression, court",
          "Hong Kong’s anti-government protests hit rent prices at popular Lunar",
          "Hong Kong protests: shot student remains in critical condition after",
          "Hong Kong police officer who shot protester receives death threats",
          "Hong Kong father of two ‘burned alive’ after chasing protesters",
          "Hong Kong police No 2 Chris Tang expected to take",
          "Hong Kong police and paramedics turn on each other at",
          "Hong Kong teenager has abortion following allegations she was gang-raped",
          "Hong Kong protests could end up costing Disneyland US$135 million",
          "Hong Kong police officer slashed in neck reveals fears of",
          "Condition of Hong Kong student injured in car park fall",
          "Boy, 16, is first to be convicted of possessing laser",
          "Cheap tickets and cash rebates on offer to lure public",
          "Hong Kong protests: student reporter alleges police officer made reference",
          "Man accused of biting ear off Hong Kong district councillor",
          "Hong Kong protests: food and beverage businesses post steepest fall",
          "Court battle intensifies over medical records of woman who suffered",
          "Hong Kong’s ban on posting online material inciting violence will",
          "Hong Kong mask law enacted to ‘save as many young",
          "Hong Kong protests: police find pressurised gas canisters used to",
          "Hong Kong court order bans posting and spreading of online",
          "Hong Kong workers set for average pay rise of 3",
          "Mask ban means Hong Kong police could start removing Halloween",
          "Hong Kong protests: court dismisses claims police officers violated procedure",
          "Hong Kong police decline to give details of new scheme",
          "Hong Kong’s struggling restaurants hope city’s foodies give them a",
          "Burglaries and break-ins soar as Hong Kong police are left",
          "Former Cathay executive appointed head of Hong Kong Tourism Board",
          "Hong Kong food and beverage firms struggling amid protests and",
          "Hong Kong protester who desecrated Chinese flag ‘out of fun’",
          "Lawmakers across Hong Kong’s political spectrum urge the government to",
          "Bold gangs take advantage of Hong Kong protests and stretched",
          "Court order on officer data targets doxxers not journalists, Hong",
          "Singapore PM’s wife Ho Ching responds to Bloomberg report on",
          "Hong Kong police to rehire 1,000 retired officers to cope",
          "Hong Kong court refuses to endorse final appeal by five",
          "Hong Kong protests: heaviest jail sentence to date handed down",
          "Singapore activist Jolovan Wham loses appeal against fine for event",
          "Court grants interim injunction to ban doxxing of Hong Kong",
          "Singapore begins to see some gains from Hong Kong’s months",
          "US Senate bill calls for ending sale of crowd-control munitions",
          "Hong Kong ‘lives at risk’ from delays caused by protesters’",
          "Hong Kong protests: mainland Chinese student faces jail after pleading",
          "Hong Kong rises one spot to No 3 in World",
          "Hong Kong’s ongoing protests leave Australian airline Qantas with a",
          "Singapore sees small inflows of capital amid Hong Kong unrest,",
          "Murder suspect Chan Tong-kai’s release from Hong Kong prison: media",
          "Injunction to shield Hong Kong voter register from public to",
          "A look at Asia’s biggest student-led protests from South Korea",
          "Hong Kong man jailed for looting Xiaomi store that was",
          "Students vandalise Singapore lecturer’s office at City University of Hong",
          "Months of Hong Kong protests started with a murder. Will",
          "Hong Kong murder suspect at centre of extradition bill crisis",
          "Why Canada election candidates dodged Hong Kong protest ‘minefield’ ahead",
          "Hong Kong protest violence being fanned by foreign forces, China’s",
          "Hong Kong protests: police release man after complaint filed to",
          "US is instigating colour revolutions, China’s Defence Minister Wei Fenghe",
          "Hong Kong protests: growing number of repeat arrests prompts calls",
          "Hong Kong finance chief Paul Chan touts market resilience on",
          "Taiwan rejects murder suspect’s surrender offer, says Hong Kong must",
          "Man turns himself in at police station after attacking teenager",
          "Hong Kong leader Carrie Lam ‘relieved’ that murder suspect in",
          "Amid Hong Kong protesters’ attacks, 500 ATMs out of service",
          "Hong Kong teenager arrested over protest was victim of police",
          "Top US Democratic candidate Elizabeth Warren backs Hong Kong pro-democracy",
          "Hong Kong justice officials apply to hide identity of two",
          "Will Carrie Lam deliver a business-as-usual policy address or will",
          "Hong Kong protests: can other disciplined services lend manpower support",
          "Hong Kong protests: home-made bomb aimed to kill or maim",
          "Hong Kong man with learning disabilities arrested during protests was",
          "Demand for Hong Kong flights in smaller decline than expected",
          "Mike Pompeo urges NBA to stand up to China, saying",
          "Hong Kong police hunt for self-proclaimed radical anti-government group trying",
          "Hong Kong student who accused police of sexual violence against",
          "Hong Kong retiree sentenced to two months jail for box",
          "Shift in police tactics? Ex-commander of elite ‘Flying Tigers’ squad",
          "Hong Kong police buy new tear gas canisters from mainland",
          "From Apple to the NBA: the brands that have bowed",
          "More than 40 per cent of Hongkongers want to emigrate",
          "Hong Kong protests: police have right to remove masks from",
          "Hong Kong police say new hotline for reporting protest violence",
          "Hong Kong security guards arrested on suspicion of blocking police",
          "Thousands left out of work as hundreds of Hong Kong",
          "Apple under fire from China over HKmap.live app that tracks",
          "‘We cannot tell the world Hong Kong grooms local terrorists’",
          "No backlash from Beijing, Malaysian PM Mahathir Mohamad says, after",
          "Donald Trump says ‘bad’ developments in Hong Kong could affect",
          "Hundreds of masked Hong Kong pro-democracy supporters rally in London’s",
          "Hong Kong protests: hundreds take to streets in second straight",
          "UN human rights office cautions Hong Kong that mask ban",
          "Hong Kong court grants bail to 18-year-old student protester still",
          "Tycoon Li Ka-shing donates HK$1 billion to help Hong Kong",
          "Hong Kong police guidelines on live rounds usage relaxed earlier",
          "Hong Kong actor Gregory Wong may be stopped from attending",
          "Taking Hong Kong protester shot by police to court ‘completely",
          "Defiant Occupy leaders released from Hong Kong prison and immediately",
          "Hong Kong kindergarten denies allegation under police investigation that child",
          "97 protesters hauled to court over Sunday’s clashes on Hong",
          "Hong Kong protests: Indonesian journalist shot in face with police",
          "China’s state broadcaster urges Hong Kong’s youth to work with",
          "Hong Kong protests: retailers counting cost after hard-core demonstrators ravage",
          "Melania Trump, Carrie Symonds, Carrie Lam – what can we",
          "Hong Kong police ‘overwhelmed’ as anti-government protesters unleash new level",
          "Indonesian journalist shot in the face will request Hong Kong",
          "Seven Hong Kong protesters charged for entering Legislative Council building",
          "Malaysian police probe legality of rally in Kuala Lumpur backing",
          "Hong Kong solidarity rallies held in Malaysia, Australia, Taiwan",
          "Financial Secretary Paul Chan warns of deficit as Hong Kong",
          "Fight over Hong Kong ‘Lennon Wall’ leaves two men injured",
          "Hong Kong protests leave ‘golden week’ tourist boom in tatters",
          "Hong Kong protests: senior police officer Alan Lau calls on",
          "Hong Kong court refuses police applications for protection orders against",
          "Why Hong Kong police stopped sending anti-government protesters to the",
          "Hong Kong lawyer quits BNP Paribas after Facebook post supporting",
          "No shortage of ideas to boost land for homes in",
          "British Foreign Secretary Dominic Raab calls on China to live",
          "Andy Chan, founder of outlawed Hong Kong National Party, charged",
          "First person charged over Hong Kong protests denies attacking police",
          "Carrie Lam holds her first community dialogue and participants are",
          "Hong Kong government announces halving rent for tenants of EcoPark",
          "Hong Kong police looking into accusations that officer kicked anti-government",
          "Hong Kong man charged for ‘publicly mutilating’ Chinese national flag",
          "Third pro-Beijing party offers aggressive proposal to solve Hong Kong’s",
          "Hong Kong protests: police deny beating man during rally and",
          "Hong Kong police may have to open fire if protesters",
          "Hong Kong hotels look for ways to boost business affected",
          "Hong Kong commerce chief Edward Yau says American investors unshaken",
          "Hong Kong police brace for another weekend of violence with",
          "HSBC refutes claims it pressured contractor to remove worker who",
          "Ex-World Bank chief Robert Zoellick says Hong Kong leaders have",
          "Hong Kong newspaper Apple Daily gets injunction against reporters’ doxxing",
          "Why mainland students in US don’t sympathise with Hong Kong",
          "Hong Kong court orders MTR to preserve footage of police",
          "Second Hong Kong customs officer arrested over protest-related offence, bringing",
          "CLSA renews office lease with Swire Group, defying parent’s reported",
          "Public housing group calls on Hong Kong government to subsidise",
          "8 countries where rich Hongkongers would struggle to gain citizenship",
          "Hong Kong barristers challenge police chief Stephen Lo over accusations",
          "Hundreds of supporters turn out at Hong Kong court as",
          "Police handling of Yuen Long attacks the main source of",
          "Most hotel workers in Hong Kong having to take unpaid",
          "Police chief praises officers on 100th day of Hong Kong",
          "Hong Kong student leader takes MTR to court to preserve",
          "Baptist University raises concerns over student reporter arrested for allegedly",
          "Hong Kong protests: man seriously hurt after attack by anti-government",
          "Showdown with Beijing looms as more US lawmakers back Hong",
          "Hong Kong police’s anti-violence WhatsApp hotlines are suspended after only",
          "Hong Kong riot suspect in court in connection with extradition",
          "Woman who suffered eye injury during Hong Kong protest can",
          "Beijing piles pressure on Hong Kong developers, calling on government",
          "Hong Kong protesters launch series of legal challenges and ask",
          "Hong Kong keeps top spot as world’s freest economy but",
          "At least six hurt in Hong Kong as drain cleaner",
          "‘Communication problem’ led to Hong Kong police officer telling paramedics",
          "Lawyers for woman injured in Hong Kong protest accuse police",
          "‘Very minimal effect’ on Hong Kong whether US lawmakers succeed",
          "Hong Kong Airlines postpones public debut of new US$229 million",
          "Anti-government movement takes singing protest to Hong Kong malls",
          "Commerce minister warns of headwinds of US-China trade war and",
          "Prominent US senators back Hong Kong human rights and democracy",
          "Nearly 130 UK MPs and lords sign letter seeking Commonwealth",
          "Joshua Wong says Hong Kong is like Berlin in ‘new",
          "US making ‘unnecessary’ link between human rights and trade, Hong",
          "Hong Kong protests: group of police relatives comes forward to",
          "Hong Kong Journalists Association condemns attack on reporter covering anti-government",
          "Police groups in Hong Kong write to Yuen Long school",
          "‘Everyone affected’ as Hong Kong’s troubles divide the UK Chinese",
          "Hong Kong protests: As demonstrators besiege station in rage over",
          "Teenage boy sent to children’s home after arrest related to",
          "Fifteen-year-old boy arrested over attack on Hong Kong rights activist",
          "How Asia sees Carrie Lam’s withdrawal of Hong Kong extradition",
          "Hong Kong recession alert as new business orders dry up",
          "Rich Hongkongers ‘snap up UK golden visas at unheard-of pace’",
          "Hong Kong protests: police use pepper spray against angry crowd",
          "Hong Kong protests: owner of protective gear store vows to",
          "Singapore will not escape economic impact if Hong Kong unrest",
          "Australia’s top diplomat offers support to Hong Kong protesters, wants",
          "Hong Kong protests: minor among 18 people charged with rioting",
          "Head of local prosecutors’ group urges Hong Kong justice minister",
          "Hong Kong security chief John Lee praises police for railway",
          "Masked protesters wreak havoc on Hong Kong airport and trash",
          "Police say two undercover officers who fired warning shots during",
          "Chaos on Hong Kong’s MTR network as police chase protesters",
          "Off-duty Hong Kong police officer stabbed in ‘despicable’ attack by",
          "Prominent activists and lawmakers arrested in Hong Kong police crackdown,",
          "Hong Kong police provide personal alarms to children of officers",
          "Hong Kong court extends injunction to prevent anti-government protesters vandalising",
          "Number of tourists coming to Hong Kong drops as anti-government",
          "China’s paramilitary stages anti-riot drill near Hong Kong border",
          "Mainland Chinese taxi driver jailed for two weeks for defacing",
          "Hong Kong protests: secondary school pupils take charge of their",
          "PLA ‘ready to defend Hong Kong’ after morning arrival Beijing",
          "Hong Kong privacy watchdog refers 600 cases of doxxing to",
          "Hong Kong protests: two more demonstrators charged with rioting over",
          "Hong Kong property investors snub Singapore in favour of cheaper",
          "Hong Kong police defend force’s detention protocol after arrest of",
          "Police in southern China told to crack down on ‘violent",
          "Hong Kong customs bans model of laser pointer after tests",
          "Hong Kong protests: four people charged over Kwun Tong march",
          "Two men charged with rioting over Hong Kong train station",
          "Hong Kong protests: pair bailed after overnight dispute outside residential",
          "China set to step up tear gas production as demand",
          "Two men charged with rioting in relation to attack at",
          "Trainee Hong Kong lawyer can join legal profession, says justice",
          "Hong Kong protests: gentler approach to resolving stand-offs ‘worth considering’,",
          "Pro-Beijing lawmaker Alice Mak sues two Hong Kong democrats for",
          "Australia sees rush of Hong Kong millionaires as unrest rumbles",
          "Two Hong Kong men hit with riot charges over attack",
          "Hong Kong man accused of stabbing three at a Lennon",
          "Hong Kong hotel workers paying price for protests as Mira,",
          "Department of Justice demands trainee lawyer explain accusations of hate",
          "Hongkongers’ turn to Malaysia’s second home programme as protests persist",
          "Hong Kong woman accused of assaulting and detaining mainland reporter",
          "Mainland Chinese tourist jailed for defacing US consulate in Hong",
          "Mike Pence urges China to respect Hong Kong laws amid",
          "Hoax Chinese police cars on the streets of Australia spark",
          "Hong Kong campaigner who organises protests against parallel trading and",
          "Hong Kong protests are driving money into Thailand’s ultra-luxury condos,",
          "Chinese embassy warns Canada to ‘immediately stop meddling’ in Hong",
          "Hong Kong activists and Beijing supporters stage rival protests in",
          "Hong Kong protests: student leaders say they were victims of",
          "Daughter of South Korean farmer who died of injuries from",
          "Malaysian youths supporting Hong Kong protests don’t know ‘right from",
          "Hong Kong still heading for recession even with relief measures",
          "Chinese-Australian group to rally against Hong Kong protests",
          "Donald Trump urges Xi Jinping to meet Hong Kong protesters,",
          "Two men accused of assaulting police at Hong Kong airport",
          "Donald Trump says Xi Jinping can ‘quickly and humanely solve’",
          "Germany’s Angela Merkel, France’s foreign minister call for dialogue to",
          "US lawmakers vow ‘swift consequences’ if Chinese military cracks down",
          "Hong Kong pair go to High Court to challenge need",
          "K-pop fans call for GOT7 concerts in Hong Kong to",
          "Hong Kong protests perfect example of why public should not",
          "China rejects US request for American warships to visit Hong",
          "Boy, 14, youngest person to be charged in connection with",
          "Police defend firing tear gas and pepper balls in Hong",
          "Hong Kong airport protest chaos: Asian airlines wrestle with fallout",
          "Hong Kong protests take toll on city’s tourism workers as",
          "North Korea offers support for Beijing over Hong Kong protests,",
          "Majority of Filipino domestic helpers won’t consider leaving Hong Kong",
          "Hong Kong police dismiss online rumours of immediate mass arrests",
          "Hong Kong lawmaker Junius Ho sues district councillor Roy Tam",
          "Hong Kong police bring former top officer out of retirement",
          "Laser pointers are not illegal in Hong Kong, but are",
          "Protesters shine light on arrest of Hong Kong student with",
          "Hong Kong police defend arrest of Baptist University student leader",
          "Hong Kong designer charged with rioting after being arrested during",
          "Journalists union condemns attack on Hong Kong TV station vehicle",
          "Australia issues Hong Kong travel alert warning citizens of violence",
          "Help Hong Kong’s small traders weather political storm, government urged,",
          "Baptist University president calls on Hong Kong police to treat",
          "Police fired nearly 1,000 rounds of ammunition during chaos that",
          "Hong Kong protests: two charged with damaging traffic light, while",
          "Chinese police mass 12,000 anti-riot officers in Shenzhen for drill",
          "What do celebrities Denise Ho, Jackie Chan, Alan Tam, Tony",
          "Hong Kong International Airport plays catch-up after anti-government strike cancels",
          "US not saying if it will ban sales of tear",
          "Hong Kong protests: Filipino dancer and 15-year-old boy among those",
          "Police warn of more violence in Hong Kong protests after",
          "First suspect in court over Hong Kong extradition bill protests",
          "Explainer | How Hongkongers end up in the dock: everything",
          "US-based Hongkongers ask United Nations to help resolve extradition bill",
          "Hong Kong police left ‘dejected and discouraged’ by corruption watchdog’s",
          "Gun-toting officer was in fear for his life, Hong Kong",
          "Hong Kong protesters injured in drive-by firework attack from private",
          "Hong Kong police chief proud of how officers have handled",
          "Anti-riot vehicles equipped with water cannons to begin road tests",
          "Key figure behind Yuen Long march Max Chung arrested for",
          "Hong Kong police adopt new tactics to make protesters leave",
          "Hong Kong police confirm use of sponge grenades, rubber bullets",
          "Hong Kong and mainland China students clash at rally at",
          "Two calls per second ‘jammed emergency lines’ during violence in",
          "Hong Kong bracing for dip in hotel occupancy amid series",
          "Sales down at least 10 per cent at Hong Kong",
          "Cook caught up in shocking violence near Hong Kong MTR",
          "Donald Trump says Xi Jinping ‘acted responsibly’ in Hong Kong",
          "Hong Kong police chief defends officers arriving 35 minutes after",
          "Hong Kong police to launch raids on white-clad thugs, including",
          "Hong Kong Chief Executive Carrie Lam blasts violence at Yuen",
          "At least 45 injured as rod-wielding mob dressed in white",
          "Two of three men arrested over Hong Kong’s biggest bomb",
          "Suspected leak of personal data of Hong Kong leader, top",
          "Three arrested over Hong Kong’s ‘largest-ever’ bomb plot on eve",
          "Taxi driver accused of assaulting two men in Lennon Wall",
          "Hong Kong extradition bill protests begin to bite as city",
          "Police remove fences and bus stops from near Hong Kong"
         ],
         "legendgroup": "Hierarchical=0, source=SCMP",
         "marker": {
          "color": "green",
          "opacity": 0.8,
          "symbol": "circle"
         },
         "mode": "markers",
         "name": "Hierarchical=0, source=SCMP",
         "showlegend": true,
         "type": "scattergl",
         "x": [
          1.8446960374882362,
          -0.8300359820438368,
          -0.2752656903849369,
          -2.964947259959375,
          1.7656039669691312,
          -1.353593723049637,
          0.03211251877008647,
          -0.21746086287665592,
          -0.5337094962650237,
          -0.37480010210157727,
          -4.025264710794351,
          0.12929754433049345,
          -2.305595922195537,
          -1.7784670590980687,
          -0.4190013084761284,
          -0.5289106344773599,
          -2.15430105394512,
          0.8229740168774752,
          -0.2569309964886259,
          -2.13516039303105,
          -0.45720226927056806,
          -1.8362400187211796,
          -1.8544872306520352,
          3.2721058750573975,
          -3.858370899175324,
          -0.5033153956163333,
          0.1007264927237262,
          -0.40246526454479015,
          -0.5215725453809259,
          -0.580680185083174,
          -0.011336707004343359,
          1.110704274611985,
          -0.05049048186923064,
          1.0185241208131814,
          -0.42545213479383287,
          -0.07543343480635822,
          -0.45442920771315537,
          -0.5171308587182843,
          0.5158289244359299,
          0.39230951340652187,
          0.716238893553049,
          0.5580888828212623,
          0.5933002558503583,
          0.05608844367851801,
          -0.42147552466066884,
          -0.24161607452236558,
          -0.4145956041556331,
          -0.16249278181387408,
          -1.4015856424812934,
          2.859406208067641,
          -0.17286369173604235,
          -0.7206086883070868,
          0.056404135674662584,
          -0.5776515406685386,
          -0.8791767866028839,
          -0.552327693340895,
          -0.5017255466031987,
          -1.06117591058082,
          -0.7870757155641452,
          -0.6519112975429006,
          -0.4775643849296667,
          0.27199323458834884,
          1.2397704344577563,
          -1.560286575434043,
          0.8719386134099625,
          -0.2568714953396727,
          -2.706498591574887,
          -0.564650583059687,
          -0.817078560597968,
          0.7955206797577484,
          -0.5076491632117106,
          -0.47414174862318914,
          -1.202677094141844,
          -0.1493382009830121,
          -0.9048055904575432,
          -2.5740852262928886,
          -0.419449046635538,
          -0.58908651920846,
          -1.3083147894713352,
          -0.55914052915822,
          -0.46417298245434657,
          -0.432001818765786,
          -1.9515255084404362,
          -0.05117069027919481,
          -0.07994492034108165,
          0.2117238257034882,
          -0.0013821931857456208,
          -0.6174660595932985,
          -0.8194358597835496,
          -0.2680017251755186,
          -0.5115575203259364,
          -1.6641087562351902,
          1.516645959201145,
          -0.3635661231504788,
          -0.9475331522213288,
          -0.129485557715107,
          0.2053379437839375,
          0.6662810786924841,
          -1.9897069098303302,
          0.1366131467238045,
          -3.3913282776418963,
          -1.728885648108901,
          1.189962681012081,
          -0.5946404950273766,
          -0.5102118833355278,
          0.08123018238298471,
          -1.2715997391815321,
          -0.5531345265170039,
          -0.9244749591666301,
          -0.3791330018806113,
          -0.8208154112528863,
          -0.7939343654973127,
          0.46852082671721135,
          -0.5088480881226216,
          -2.7307937623464125,
          -0.4001892028245539,
          0.5681180755382907,
          -0.33776295510937915,
          0.0649763487017704,
          -0.7118801896153814,
          0.8177173831727667,
          -0.6698162221572708,
          -0.4623402217410406,
          -0.7919648896028426,
          -1.715640105614128,
          -0.4658220380167294,
          0.4682712936954346,
          -0.5287875518879462,
          -0.17602576816327387,
          -1.7039487937282927,
          0.9029153863995747,
          -1.4267755087129828,
          0.7749135906575946,
          -1.0953455784949935,
          -3.356357708663978,
          1.7476895241453403,
          -1.8797886078773143,
          -2.1166368673194373,
          2.0496196159507747,
          -0.1629550004404889,
          -0.02840269753108712,
          -0.5720546368413459,
          -1.077688209874571,
          -1.0773501719711558,
          -3.1302797388452217,
          1.1947315991996115,
          0.3422671419642987,
          2.8273884210162565,
          0.14304757343867497,
          -0.6716851105286569,
          0.10284511369502704,
          -0.12170922194537465,
          -0.5380841652318274,
          -3.067388477605466,
          -2.135873343425428,
          -0.34298413216552726,
          -0.9341365335823582,
          1.0521740414004064,
          -0.0666347641240933,
          -3.1618985296440854,
          -0.36946063333469487,
          0.5229926531124889,
          -1.4592619856801745,
          -1.9795395531898257,
          -2.9703049960660617,
          -3.198439354047453,
          -0.43849744449109596,
          0.1818025826054016,
          -0.4645038768174402,
          -0.3636110803551352,
          -1.4701389226904713,
          -0.8092923530703102,
          -0.5119312916215187,
          -0.15997481889827525,
          -0.12304097530464836,
          0.5051322173029738,
          2.142648894434366,
          0.9674790946084904,
          0.8037221324578806,
          0.47025733952912213,
          -0.2542033168316468,
          -0.8049240318036508,
          -0.7457478459713385,
          -0.4507786502182767,
          -1.04508070480265,
          0.018525362157548256,
          -0.400054868243629,
          -0.43940708793414535,
          0.7098805328415903,
          -0.66289111958065,
          0.5562416809515803,
          0.505070573256346,
          -1.266679924448418,
          -0.5098406340890126,
          0.20627347111023492,
          -0.1993070141117144,
          -0.28147607439786065,
          -3.4157517674860753,
          2.1618749583309773,
          -0.28026577911379474,
          -1.0137904932242505,
          -0.3538151245822992,
          -1.550274933172385,
          -0.5316267513941625,
          -1.1767762210555448,
          -0.4426802269680277,
          1.7989574153266477,
          -2.5559069477905507,
          -1.4047011628645358,
          -0.4224294154070202,
          -0.38327565284063164,
          0.28479731513598244,
          -0.12007947742301112,
          0.18328975930569016,
          -2.551832426879047,
          -1.1130381802262894,
          -2.3859390572653636,
          0.09659876339306334,
          0.06826210557290985,
          -1.7943630394917056,
          -0.2500319473395881,
          -3.8930828469557133,
          0.34295642701894863,
          0.2614647405369732,
          2.118535471295599,
          0.16574526128108585,
          0.9106187304862777,
          -1.7469164155703127,
          0.036275174593593376,
          -0.44110600290235813,
          -0.49017524765200643,
          -2.2918132833609275,
          -2.925730144633221,
          -1.4595270545740844,
          -1.8101925898847395,
          -0.5545769715053664,
          1.3884216224478572,
          0.12434572795436717,
          0.6404427849061464,
          -0.6081270056531312,
          1.0633614036168386,
          0.4524311768753933,
          -1.3672952817372757,
          -0.06623104159890401,
          1.9916273069373438,
          -1.8511570723643922,
          -0.1153202296085523,
          -1.6323170284814028,
          -1.6391809174422929,
          -2.3633275519082626,
          -2.5519082058925324,
          -1.7707490971294142,
          -0.10699393342316658,
          0.844066622472053,
          -0.6867235941669795,
          -1.2576101475491415,
          0.09392322459879802,
          -0.4580476242090125,
          -0.2136544452067197,
          -0.7162384708758562,
          1.575937456226184,
          -0.48941804809599837,
          2.6802641445458275,
          -0.376646512481902,
          0.39324895810306354,
          -0.0011411502537395208,
          -0.2403468516347781,
          0.7912223958510755,
          -0.0813346365936236,
          -0.09807186173151353,
          -0.4502398307915428,
          0.14037577401386414,
          -1.42917231847872,
          0.018996726695187954,
          0.9343913662883591,
          -0.5325887347122065,
          -2.3787671321539263,
          -0.03959576114009903,
          -1.003552109320614,
          0.09636525302347412,
          1.0739626055458353,
          -2.1583689219917934,
          -0.7982743926869691,
          -0.23890689648819494,
          -0.6398291585575555,
          1.4569967545881444,
          0.6780322612279012,
          -0.2657830776972352,
          -1.8828456390185495,
          0.23572417004437218,
          3.2764125389440837,
          -0.0534104293998655,
          -2.137487789368033,
          -0.7182006921321894,
          -0.27718162242416233,
          1.293929419887088,
          -0.3731267502874883,
          0.036878017257044475,
          0.11018242063453419,
          0.20910860646396745,
          0.6659737968530427,
          0.15563868238110587,
          -1.1114621098512294,
          -0.4707766497333483,
          -0.09416020284866286,
          -0.825287962995165,
          -0.9163309720950139,
          0.046431332021108704,
          0.10708102130941295,
          -0.5977527878049762,
          -0.1258132294549742,
          -0.4070905255524616,
          1.0435208592056797,
          -1.843513033790009,
          -0.2851394197633408,
          -2.2004861561243856,
          0.9828097223852331,
          -0.3902857163859406,
          -0.25629485150656084,
          0.05024236139243,
          -2.159936790192824,
          1.1746407102997605,
          0.29638188803335835,
          0.23665459785096646,
          -0.8813614973440057,
          -0.3320088458899428,
          -0.15384601078320828,
          1.9510664595993437,
          -0.23088457969326545,
          0.5864136890891851,
          -0.505671808204074,
          -1.0243520230654872,
          -0.11993140077994957,
          -0.4913431971984172,
          -0.0685839181370632,
          -0.46069421072896205,
          0.2797268662869587,
          -0.23273730321585148,
          0.8359994025318542,
          -0.5123553409302842,
          -0.30568960987136995,
          0.273122921220959,
          -0.13326600635084224,
          0.3670203160608587,
          -0.38430273339789767,
          1.774867948924058,
          -2.1951222228976306,
          0.06425118213996979,
          1.754867440035454,
          -0.4008359941198603,
          -0.376029463619382,
          1.9897942995865063,
          1.2377123861180392,
          0.9672300342453141,
          -1.0938499218242095,
          -0.17690066418737715,
          -0.41655822754830857,
          -0.08435144856084943,
          -0.5713603558273458,
          0.5323085195349189,
          1.3688376113887002,
          -0.38522062813184393,
          -0.6661116644853067,
          0.1267323274235901,
          -3.0922583782726893,
          3.620247314330796,
          0.6545795633571511,
          -0.4423048360735527,
          0.3527497216815693,
          2.1961227054024204,
          0.7278671489718703,
          -0.13481867493038394,
          -0.18039027901372234,
          -0.5350090223112167,
          0.8565576563365299,
          -0.37166237367159904,
          0.2413935495520086,
          -3.2247816308365107,
          -2.593365721931593,
          0.08472999220301419,
          -1.0928939595105407,
          -1.0826243432022642,
          1.2403754852424098,
          0.17791628535196463,
          0.14419633033487628,
          0.29164275698634823,
          -0.9242674437616788,
          -0.5763991027716235,
          -0.4484486106498194,
          -0.3696865758430291,
          -0.38398027319459377,
          -0.7661452997928014,
          -0.5096755601380396,
          -2.8056332708688427,
          0.22169069519075152,
          0.3615029736125707,
          -1.0018803364820392,
          -0.6363547405161147,
          0.4169055526206777,
          -0.5083800890557877,
          -1.731497293428048,
          -0.3010485466921276,
          2.104375092889489,
          0.6303770188638652,
          -0.07305917034944284,
          -0.1705185092641914,
          0.0004123200100437065,
          -1.4658153281727164,
          0.6855701827336514,
          -0.42861044619205807,
          0.3682160147977323,
          1.188714869849271,
          -1.431820053264663,
          -0.23258621695765727,
          -0.12810668555687196,
          -2.999276517000719,
          -0.5377910594131212,
          -1.8687172902579774,
          -0.23518462107674817,
          0.3415395231451601,
          0.5020363449587331,
          -0.20699072173712418,
          1.3661944144796099,
          -2.067310456531599,
          2.2573640962000985,
          -0.35385249063897295,
          -0.10973714716082959,
          -1.5820564916680302,
          0.815578874823132,
          -0.9667019825729062,
          1.0515012625679745,
          1.6328414643166436,
          -0.16098415593078164,
          -0.24565580819340593,
          -1.1225304744375506,
          0.4516790020436359,
          0.9578906780008214,
          -0.723390710743839,
          1.0611446082378193,
          0.1745013217508113,
          -0.3877048603694871,
          -0.37243005527832795,
          -2.8748024633966733,
          -0.7879375223313563,
          1.9207257760741754,
          -0.056213108732949456,
          -0.456278930650912,
          -0.4934520248983622,
          1.0501157852507423,
          1.616018240120311,
          -0.7530047538272631,
          -0.4720745386728128,
          1.475967351719821,
          0.3425671780376287,
          0.0581959380841805,
          -0.9864626269313849,
          -0.5091416675173652,
          -1.2252189292609954,
          0.6501514982681674,
          0.8436722969594147,
          0.5564686949084874,
          -2.945362804929807,
          0.8443450349563172,
          -0.43281573077521773,
          0.5918707787805582,
          0.10251956569176081,
          0.5880930354449037,
          0.27537145584950823,
          0.04052616111436647,
          0.4523126619237464,
          -2.7163439326283423,
          -0.09839675554003333,
          -0.6296591567906565,
          -0.7108357024613032,
          -0.5486446037876347,
          -0.51394786593288,
          -0.47879264733423754,
          -0.5319040422508635,
          -1.4936843741626047,
          -4.032217550436724,
          -0.26779530618104147,
          0.73614166068635,
          1.7719261731669103,
          -0.5241831206577606,
          2.16596850207262,
          -0.3508706627513045,
          -0.5085027836991879,
          0.7007768974587983,
          -0.8241044794450613,
          -0.5268864905712799,
          -2.8035508673234926,
          -0.583822143015453
         ],
         "xaxis": "x",
         "y": [
          -0.4183852512061332,
          -1.4312932193899215,
          -0.3774323693793083,
          -0.3195079460839499,
          -0.8940206961200409,
          -1.0662987904502303,
          0.049465380312729054,
          -1.859555519172108,
          -3.070767871771392,
          -1.3128453375651594,
          0.3673921222058944,
          -1.362512030682031,
          -1.2378509722554405,
          0.5729645633869312,
          -1.8579269676826302,
          -3.5523710011017844,
          0.41188538278488185,
          -1.4885817338820564,
          -2.074279404271573,
          -0.9487403715772535,
          -2.0069206825497794,
          0.24074438364895956,
          0.23935877050396467,
          -0.10381440715350496,
          0.7612130821850257,
          -2.8094047286498682,
          0.19538656573378546,
          -1.7171861065101772,
          -3.1758153965670615,
          -2.082988905849528,
          -1.181329009253224,
          0.790952571317375,
          2.2178336913098566,
          -1.9520004987682353,
          -2.446255888546546,
          -2.3649638900184606,
          -2.214383286325829,
          -3.085837894965785,
          -2.409179212822294,
          -0.6057835571988536,
          -0.867556796551427,
          1.751609372152529,
          2.106086340818064,
          3.7753884288401895,
          -0.7504094891039667,
          -2.0281463471707073,
          -1.9948976097567281,
          1.3678264746866213,
          -1.6617051291642047,
          -1.0892987493051538,
          0.756665384288926,
          -0.9744278458095224,
          0.24774943653351106,
          -0.6105202399614367,
          -2.60143023784436,
          -0.7008609415185603,
          -0.5487325346813373,
          -0.19845588883074922,
          -1.9439733158351054,
          -2.956901689219343,
          3.585562408939162,
          -0.7271001913953439,
          -1.7522950524974412,
          -0.16176775999848778,
          -0.23233314619747447,
          0.23699289286065583,
          0.663601293005887,
          -1.0479703652257237,
          -0.10282146546780216,
          -1.0842630538361027,
          -2.8231697378813414,
          -0.42767625773463774,
          -1.9661482032316313,
          1.415752363124253,
          -1.3743497921790375,
          -0.5829432683385571,
          1.7588407849128382,
          2.126470316737445,
          -1.7386245916363132,
          0.14127592305757675,
          -2.9263556054290727,
          -0.2621681915180534,
          -0.390326896049333,
          -0.9977101156169198,
          -1.8037106958361226,
          -1.837622463749677,
          2.244915915777165,
          0.5388209002685647,
          -1.5062797553304696,
          -0.31741638294230784,
          -3.0105375139119603,
          -1.4241823155496052,
          -0.7871493004911939,
          -1.774159283516384,
          -1.943533492063327,
          1.7052352978163707,
          -2.861891627485797,
          -0.9061698151720985,
          -0.13396898333504534,
          -1.0088678659023018,
          -0.17962966123224652,
          -0.7482798693723555,
          -2.049116537662773,
          -0.01935083360326094,
          -2.9246094969599197,
          -1.6152100684043302,
          -0.5178346183825663,
          -1.7208287738890322,
          -1.5361048621022433,
          -1.343317613918351,
          -0.7090553553636919,
          -2.204557913862319,
          -0.6832395745400828,
          -2.796436946946201,
          -0.8490545371224236,
          -1.271037572046257,
          3.286855100590258,
          -0.8032657165738508,
          0.40023076768666704,
          0.36421322075147033,
          -2.386517276375776,
          -0.9720898083441505,
          -2.468462960579423,
          3.4204368333773716,
          -0.015429885483494835,
          -2.678237723316407,
          -0.4442615139794928,
          -3.3881522207154084,
          0.7172219757104972,
          -0.5776308453192681,
          -0.4714853788828755,
          -0.40950842450129943,
          -1.1105882614828264,
          -1.3692338640267314,
          -0.44149874673237083,
          0.8706083589841571,
          0.28696141212927506,
          -0.21841724572804408,
          -1.4580929194051895,
          1.2649488056026563,
          -1.82847973295285,
          -2.4896531969435527,
          -0.5979965453094858,
          -1.1898725790479443,
          -0.21512168878220406,
          0.03393328056604206,
          -0.7808296044734965,
          -1.6620716079622901,
          -0.21867602366123431,
          -0.9638295798697512,
          -0.5679905052581331,
          -1.762491966337322,
          -1.0252824626302444,
          0.14648393699305642,
          1.0729123978410413,
          -0.054174262641317424,
          -0.22054513950421525,
          -2.610400934461905,
          2.304197642260241,
          -0.0950684319754541,
          -1.2178775627972322,
          -0.3141696973210223,
          -1.8087067691235008,
          0.0012939245079007157,
          -0.44083386093758503,
          0.7211691695085242,
          -0.26061417782161966,
          -2.384802114976224,
          -2.5433017513760534,
          -0.9119782408942245,
          -1.4044061972761441,
          -0.6301547308729546,
          -1.4128603340000188,
          -0.756041653340366,
          -1.5209803538032225,
          2.424320138906619,
          0.8116712502788184,
          1.7511139589557532,
          -0.84650994221906,
          3.154457654626886,
          1.024744314622784,
          -2.5808506240371405,
          -0.9183950091784705,
          -3.358127276288683,
          -0.8984063118447587,
          -1.151033979080459,
          -1.7024913390555605,
          0.60753785556958,
          4.234535650015777,
          -2.1115231823736083,
          -0.6880251504423707,
          0.5125280630212259,
          -1.1755049180075572,
          -2.857707388364963,
          -2.0415286696239545,
          -0.45384433918985667,
          -0.13624744017078785,
          -0.228478293308783,
          3.2255634446152306,
          0.6900900293541091,
          -0.7974474835804743,
          -1.0642742086390482,
          0.1781599698708511,
          -3.6726815327324376,
          -1.7024008896383596,
          0.18306017496947655,
          -0.946861300583471,
          -0.034149254299437444,
          0.7362862018565004,
          -1.9260746550109278,
          -1.7116932080202452,
          -0.5112136223420258,
          -0.6491635011236448,
          -1.0600281820748043,
          -0.49974621348044884,
          -0.9935208103099415,
          -1.1384351942416542,
          -2.640970150010041,
          -1.1532238561087598,
          2.175487521157363,
          -0.14471130895298848,
          0.20520995755913637,
          -0.4268317314521092,
          2.7982841676024353,
          -1.534289332200964,
          -3.1643213319542496,
          0.7389757799295513,
          -0.1936146653842591,
          -1.8083715109409402,
          -2.0115321220800086,
          -2.4250238815539418,
          1.087140507924473,
          -0.445200964574584,
          1.653738707222382,
          -0.49247059448136415,
          -2.2972347853347026,
          -0.555774624880012,
          -1.018898547653856,
          0.4543549551112948,
          -0.11838610663528595,
          -0.9100279651800857,
          -2.079170530307606,
          -1.9726297403823403,
          -1.055512293946322,
          -1.4626639968371113,
          -0.4991221471847932,
          -0.24473319562128054,
          -1.5316513913905287,
          -0.6780567986869304,
          0.45791648354995124,
          0.2336191721778626,
          -1.2573482458832543,
          2.1944250877678866,
          3.6180828698561873,
          -2.0314446896131875,
          -2.04590543352017,
          4.179787843092978,
          -2.246903588125293,
          0.6161894584010047,
          -0.28044669611929185,
          0.08099810530501701,
          -2.426254777754124,
          1.7935203309482015,
          -2.0986550779393744,
          0.05033076195678418,
          -0.19170370794230396,
          -0.1241339132791031,
          3.829435641017698,
          -1.6321633432304103,
          1.993105993323022,
          2.3185940355264556,
          -1.5789763742876712,
          -0.8953735347825438,
          -1.7090284231342519,
          -0.4845995271471918,
          -3.2822867845775074,
          -1.1523369952056712,
          0.02134173441699962,
          3.362425575818956,
          4.310845220711183,
          -1.525604388451205,
          -0.4883792618628556,
          -1.342943443453534,
          1.598193161034153,
          -0.9839685309027673,
          -1.1530595806874904,
          0.6587952412269176,
          -3.390569494416835,
          0.5719206759853719,
          2.261985760906664,
          -0.006962418201518822,
          -0.3214472233846937,
          0.7882619662574917,
          -2.603083241673643,
          0.07469917466047003,
          0.21873833155143757,
          -1.107881145354905,
          -0.648219400549225,
          1.1979891138229923,
          -2.1293562134958077,
          -0.9132185276586927,
          -1.6469186093587547,
          -0.09011807092873204,
          -2.487134164741892,
          -1.131580261173058,
          1.362412217354701,
          -2.593248800216038,
          0.3921212788408729,
          -2.2716150871007406,
          -2.2139026386673537,
          -1.5910755479284995,
          -1.4265900879843043,
          -1.123060865702846,
          -0.5184356511946684,
          -0.2440234392062557,
          -0.610231657030019,
          -0.6241487078983736,
          -1.4276893630528151,
          -0.030207942184889862,
          3.588252855389444,
          0.5233650813192029,
          0.09359974588627963,
          -2.1502981270644512,
          -1.902067064914966,
          -1.566328320412281,
          0.22611158072143359,
          -2.3976505035375757,
          -0.9417564387396864,
          -0.2494000454290573,
          -1.7712792689847132,
          -2.92975328918721,
          -0.8693360904797642,
          -1.3028012820700514,
          -2.5128604612763996,
          2.216493408003658,
          -0.1475417325228317,
          1.99498530258651,
          0.523771149400509,
          -0.23593910164406282,
          -3.121607625998015,
          0.20378887941121152,
          -0.9615963944614225,
          3.234051008896628,
          -0.08781022240861043,
          -1.3275678875301256,
          1.679926189252407,
          0.35809117519273104,
          -3.0782447718750188,
          -0.75358385610065,
          -1.5974643468221508,
          -1.9614612626633114,
          -0.8254124710128518,
          -1.1774959752469767,
          -2.030207585056998,
          -0.7672535801552467,
          0.9366238726343887,
          -2.0573008748671584,
          0.8506578181526535,
          -1.9808059446186628,
          -1.3706556325778692,
          -0.999438002934883,
          -0.6328761891871884,
          -0.6238307463455268,
          -1.69427698589908,
          -0.06356488079485625,
          1.350325647301302,
          1.3368575343680202,
          -1.9797456390445547,
          0.05859851448270023,
          -1.410539734181622,
          2.4812962837993986,
          1.380326388006275,
          1.0804457990223622,
          -3.156222020144625,
          -0.7150694425515469,
          -1.4652315941788194,
          -0.9427761931843737,
          -0.41294939406363096,
          -0.005616324266903375,
          -2.63575279230664,
          -0.9582344895966617,
          0.06636144661644473,
          4.17479179858526,
          -2.454220887227211,
          0.1265197653538887,
          -1.2193524439178207,
          -2.6870576577193974,
          -4.626285091216115,
          -2.5331300826188428,
          -1.0463071535318886,
          -1.2734728826052706,
          0.5984815344023768,
          -1.761592990788027,
          -0.514645446701658,
          -1.3979841977661622,
          -0.9343058910514899,
          -1.2002086122373885,
          -0.1622326311101948,
          3.4347355664900827,
          -3.083759272105351,
          0.03771159520015343,
          -1.7911503755079925,
          1.3234363920819092,
          -1.531931856476003,
          -0.9477562670638048,
          1.0176011673148369,
          -2.045820668589325,
          -2.0607397473446025,
          1.6636588370073009,
          2.5148318605291466,
          -0.49396168699730697,
          1.7098769545423464,
          -0.06608442106789848,
          0.026607798650452437,
          1.6702818069315009,
          0.25986014607903074,
          0.3622533887279584,
          0.7671607460561908,
          -0.16402416906578726,
          -2.0092062360770697,
          1.3769447463167834,
          0.8105009885027034,
          -1.687890469418695,
          0.40976550488425617,
          -1.1240618846602786,
          -0.6838535854551101,
          1.9076413779775463,
          -1.463755866952296,
          3.150314530109166,
          -0.19579208392870406,
          -0.2846639078687806,
          0.9865912718408593,
          -1.8823280134090676,
          2.397752232369655,
          2.011899465391744,
          2.9080135369857736,
          -0.6768216193447131,
          -0.03289664344692767,
          1.2735838226058782,
          1.2212159250182315,
          -2.014507188870358,
          -1.1509168152415952,
          -0.05091629591978214,
          -0.07994975999539379,
          -1.122031231950562,
          1.921278152952274,
          -2.279283614442056,
          -1.2501715489736798,
          -1.19902147917337,
          -2.294428941817376,
          -2.6706102053298832,
          -1.0164332858031144,
          -1.0800436965183369,
          -2.1121170420613447,
          3.747142547456223,
          -1.7318667764623148,
          -2.8715532781659117,
          -2.071771893731761,
          -1.6137018675957318,
          -1.0613978725295459,
          1.1960305342470476,
          0.08550873535213804,
          -0.4755021554568569,
          -1.8909250374679696,
          0.5219464841331448,
          -2.564874804055168,
          -0.7911093359738629,
          -0.01957230319196941,
          -1.491375289557051,
          -2.6364283726609017,
          -0.9597852548455023,
          1.9674799570715833,
          -2.1831288005513447,
          -2.0389135497519533,
          -3.8798840313269913,
          -3.173292720445835,
          -2.2667207943070395,
          -0.42790700258946557,
          -1.2923694515983903,
          0.4169188267268808,
          -0.14328527079691825,
          0.721328929928825,
          -1.004166565364275,
          -3.434692570652822,
          -0.05526602427957403,
          1.2135544192305354,
          -2.9528381144988294,
          4.336915231937204,
          -2.5412143582889226,
          0.7903706320678777,
          -0.10715371042428713,
          -1.6542351842217284
         ],
         "yaxis": "y"
        },
        {
         "customdata": [
          [
           "0",
           "2020-03-27"
          ],
          [
           "0",
           "2020-03-18"
          ],
          [
           "0",
           "2020-03-08"
          ],
          [
           "0",
           "2020-03-03"
          ],
          [
           "0",
           "2020-02-29"
          ],
          [
           "0",
           "2020-02-21"
          ],
          [
           "0",
           "2020-02-18"
          ],
          [
           "0",
           "2020-02-16"
          ],
          [
           "0",
           "2020-02-15"
          ],
          [
           "0",
           "2020-01-29"
          ],
          [
           "0",
           "2020-01-23"
          ],
          [
           "0",
           "2020-01-21"
          ],
          [
           "0",
           "2020-01-20"
          ],
          [
           "0",
           "2020-01-20"
          ],
          [
           "0",
           "2020-01-12"
          ],
          [
           "0",
           "2020-01-10"
          ],
          [
           "0",
           "2020-01-10"
          ],
          [
           "0",
           "2020-01-10"
          ],
          [
           "0",
           "2020-01-05"
          ],
          [
           "0",
           "2020-01-08"
          ],
          [
           "0",
           "2020-01-07"
          ],
          [
           "0",
           "2020-01-07"
          ],
          [
           "0",
           "2020-01-05"
          ],
          [
           "0",
           "2020-01-02"
          ],
          [
           "0",
           "2020-01-02"
          ],
          [
           "0",
           "2020-01-02"
          ],
          [
           "0",
           "2019-12-31"
          ],
          [
           "0",
           "2019-12-31"
          ],
          [
           "0",
           "2019-12-23"
          ],
          [
           "0",
           "2019-12-22"
          ],
          [
           "0",
           "2019-12-22"
          ],
          [
           "0",
           "2019-12-21"
          ],
          [
           "0",
           "2019-12-20"
          ],
          [
           "0",
           "2019-12-20"
          ],
          [
           "0",
           "2019-12-19"
          ],
          [
           "0",
           "2019-12-19"
          ],
          [
           "0",
           "2019-12-13"
          ],
          [
           "0",
           "2019-12-13"
          ],
          [
           "0",
           "2019-12-12"
          ],
          [
           "0",
           "2019-12-12"
          ],
          [
           "0",
           "2019-12-12"
          ],
          [
           "0",
           "2019-12-10"
          ],
          [
           "0",
           "2019-12-10"
          ],
          [
           "0",
           "2019-12-09"
          ],
          [
           "0",
           "2019-12-04"
          ],
          [
           "0",
           "2019-12-04"
          ],
          [
           "0",
           "2019-12-04"
          ],
          [
           "0",
           "2019-12-02"
          ],
          [
           "0",
           "2019-11-29"
          ],
          [
           "0",
           "2019-11-29"
          ],
          [
           "0",
           "2019-11-29"
          ],
          [
           "0",
           "2019-11-29"
          ],
          [
           "0",
           "2019-11-29"
          ],
          [
           "0",
           "2019-11-28"
          ],
          [
           "0",
           "2019-11-28"
          ],
          [
           "0",
           "2019-11-28"
          ],
          [
           "0",
           "2019-11-28"
          ],
          [
           "0",
           "2019-11-28"
          ],
          [
           "0",
           "2019-11-28"
          ],
          [
           "0",
           "2019-11-28"
          ],
          [
           "0",
           "2019-11-28"
          ],
          [
           "0",
           "2019-11-22"
          ],
          [
           "0",
           "2019-11-23"
          ],
          [
           "0",
           "2019-11-22"
          ],
          [
           "0",
           "2019-11-23"
          ],
          [
           "0",
           "2019-11-22"
          ],
          [
           "0",
           "2019-11-22"
          ],
          [
           "0",
           "2019-11-21"
          ],
          [
           "0",
           "2019-11-20"
          ],
          [
           "0",
           "2019-11-20"
          ],
          [
           "0",
           "2019-11-20"
          ],
          [
           "0",
           "2019-11-19"
          ],
          [
           "0",
           "2019-11-19"
          ],
          [
           "0",
           "2019-11-19"
          ],
          [
           "0",
           "2019-11-17"
          ],
          [
           "0",
           "2019-11-18"
          ],
          [
           "0",
           "2019-11-16"
          ],
          [
           "0",
           "2019-11-16"
          ],
          [
           "0",
           "2019-11-16"
          ],
          [
           "0",
           "2019-11-15"
          ],
          [
           "0",
           "2019-11-15"
          ],
          [
           "0",
           "2019-11-14"
          ],
          [
           "0",
           "2019-11-11"
          ],
          [
           "0",
           "2019-11-11"
          ],
          [
           "0",
           "2019-11-11"
          ],
          [
           "0",
           "2019-11-10"
          ],
          [
           "0",
           "2019-11-09"
          ],
          [
           "0",
           "2019-11-09"
          ],
          [
           "0",
           "2019-11-07"
          ],
          [
           "0",
           "2019-11-05"
          ],
          [
           "0",
           "2019-11-05"
          ],
          [
           "0",
           "2019-11-04"
          ],
          [
           "0",
           "2019-11-02"
          ],
          [
           "0",
           "2019-11-01"
          ],
          [
           "0",
           "2019-11-01"
          ],
          [
           "0",
           "2019-11-01"
          ],
          [
           "0",
           "2019-10-31"
          ],
          [
           "0",
           "2019-10-30"
          ],
          [
           "0",
           "2019-10-28"
          ],
          [
           "0",
           "2019-10-27"
          ],
          [
           "0",
           "2019-10-24"
          ],
          [
           "0",
           "2019-10-25"
          ],
          [
           "0",
           "2019-10-25"
          ],
          [
           "0",
           "2019-10-25"
          ],
          [
           "0",
           "2019-10-24"
          ],
          [
           "0",
           "2019-10-24"
          ],
          [
           "0",
           "2019-10-22"
          ],
          [
           "0",
           "2019-10-23"
          ],
          [
           "0",
           "2019-10-22"
          ],
          [
           "0",
           "2019-10-23"
          ],
          [
           "0",
           "2019-10-18"
          ],
          [
           "0",
           "2019-10-21"
          ],
          [
           "0",
           "2019-10-20"
          ],
          [
           "0",
           "2019-10-19"
          ],
          [
           "0",
           "2019-10-18"
          ],
          [
           "0",
           "2019-10-18"
          ],
          [
           "0",
           "2019-10-18"
          ],
          [
           "0",
           "2019-10-18"
          ],
          [
           "0",
           "2019-10-18"
          ],
          [
           "0",
           "2019-10-16"
          ],
          [
           "0",
           "2019-10-16"
          ],
          [
           "0",
           "2019-10-15"
          ],
          [
           "0",
           "2019-10-14"
          ],
          [
           "0",
           "2019-10-14"
          ],
          [
           "0",
           "2019-10-14"
          ],
          [
           "0",
           "2019-10-13"
          ],
          [
           "0",
           "2019-10-13"
          ],
          [
           "0",
           "2019-10-13"
          ],
          [
           "0",
           "2019-10-12"
          ],
          [
           "0",
           "2019-10-12"
          ],
          [
           "0",
           "2019-10-12"
          ],
          [
           "0",
           "2019-10-11"
          ],
          [
           "0",
           "2019-10-11"
          ],
          [
           "0",
           "2019-10-11"
          ],
          [
           "0",
           "2019-10-11"
          ],
          [
           "0",
           "2019-10-11"
          ],
          [
           "0",
           "2019-10-11"
          ],
          [
           "0",
           "2019-10-09"
          ],
          [
           "0",
           "2019-10-10"
          ],
          [
           "0",
           "2019-10-10"
          ],
          [
           "0",
           "2019-10-10"
          ],
          [
           "0",
           "2019-10-10"
          ],
          [
           "0",
           "2019-10-09"
          ],
          [
           "0",
           "2019-10-10"
          ],
          [
           "0",
           "2019-10-10"
          ],
          [
           "0",
           "2019-10-10"
          ],
          [
           "0",
           "2019-10-09"
          ],
          [
           "0",
           "2019-10-08"
          ],
          [
           "0",
           "2019-10-08"
          ],
          [
           "0",
           "2019-10-07"
          ],
          [
           "0",
           "2019-10-06"
          ],
          [
           "0",
           "2019-10-09"
          ],
          [
           "0",
           "2019-10-08"
          ],
          [
           "0",
           "2019-10-08"
          ],
          [
           "0",
           "2019-10-08"
          ],
          [
           "0",
           "2019-10-08"
          ],
          [
           "0",
           "2019-10-07"
          ],
          [
           "0",
           "2019-10-07"
          ],
          [
           "0",
           "2019-10-07"
          ],
          [
           "0",
           "2019-10-07"
          ],
          [
           "0",
           "2019-10-06"
          ],
          [
           "0",
           "2019-10-05"
          ],
          [
           "0",
           "2019-10-05"
          ],
          [
           "0",
           "2019-10-04"
          ],
          [
           "0",
           "2019-10-04"
          ],
          [
           "0",
           "2019-10-03"
          ],
          [
           "0",
           "2019-10-03"
          ],
          [
           "0",
           "2019-10-03"
          ],
          [
           "0",
           "2019-10-02"
          ],
          [
           "0",
           "2019-10-01"
          ],
          [
           "0",
           "2019-10-02"
          ],
          [
           "0",
           "2019-10-01"
          ],
          [
           "0",
           "2019-10-01"
          ],
          [
           "0",
           "2019-09-30"
          ],
          [
           "0",
           "2019-09-29"
          ],
          [
           "0",
           "2019-09-29"
          ],
          [
           "0",
           "2019-09-28"
          ],
          [
           "0",
           "2019-09-28"
          ],
          [
           "0",
           "2019-09-28"
          ],
          [
           "0",
           "2019-09-27"
          ],
          [
           "0",
           "2019-09-26"
          ],
          [
           "0",
           "2019-09-26"
          ],
          [
           "0",
           "2019-09-25"
          ],
          [
           "0",
           "2019-09-25"
          ],
          [
           "0",
           "2019-09-24"
          ],
          [
           "0",
           "2019-09-25"
          ],
          [
           "0",
           "2019-09-24"
          ],
          [
           "0",
           "2019-09-22"
          ],
          [
           "0",
           "2019-09-21"
          ],
          [
           "0",
           "2019-09-21"
          ],
          [
           "0",
           "2019-09-18"
          ],
          [
           "0",
           "2019-09-15"
          ],
          [
           "0",
           "2019-09-15"
          ],
          [
           "0",
           "2019-09-13"
          ],
          [
           "0",
           "2019-09-13"
          ],
          [
           "0",
           "2019-09-12"
          ],
          [
           "0",
           "2019-09-12"
          ],
          [
           "0",
           "2019-09-11"
          ],
          [
           "0",
           "2019-09-11"
          ],
          [
           "0",
           "2019-09-11"
          ],
          [
           "0",
           "2019-09-10"
          ],
          [
           "0",
           "2019-09-10"
          ],
          [
           "0",
           "2019-09-09"
          ],
          [
           "0",
           "2019-09-09"
          ],
          [
           "0",
           "2019-09-09"
          ],
          [
           "0",
           "2019-09-09"
          ],
          [
           "0",
           "2019-09-08"
          ],
          [
           "0",
           "2019-09-08"
          ],
          [
           "0",
           "2019-09-07"
          ],
          [
           "0",
           "2019-09-07"
          ],
          [
           "0",
           "2019-09-07"
          ],
          [
           "0",
           "2019-09-07"
          ],
          [
           "0",
           "2019-09-05"
          ],
          [
           "0",
           "2019-09-05"
          ],
          [
           "0",
           "2019-09-04"
          ],
          [
           "0",
           "2019-09-03"
          ],
          [
           "0",
           "2019-09-03"
          ],
          [
           "0",
           "2019-09-02"
          ],
          [
           "0",
           "2019-09-03"
          ],
          [
           "0",
           "2019-09-02"
          ],
          [
           "0",
           "2019-09-03"
          ],
          [
           "0",
           "2019-09-02"
          ],
          [
           "0",
           "2019-09-01"
          ],
          [
           "0",
           "2019-09-01"
          ],
          [
           "0",
           "2019-08-30"
          ],
          [
           "0",
           "2019-08-30"
          ],
          [
           "0",
           "2019-08-28"
          ],
          [
           "0",
           "2019-08-27"
          ],
          [
           "0",
           "2019-08-27"
          ],
          [
           "0",
           "2019-08-27"
          ],
          [
           "0",
           "2019-08-24"
          ],
          [
           "0",
           "2019-08-25"
          ],
          [
           "0",
           "2019-08-23"
          ],
          [
           "0",
           "2019-08-23"
          ],
          [
           "0",
           "2019-08-22"
          ],
          [
           "0",
           "2019-08-23"
          ],
          [
           "0",
           "2019-08-23"
          ],
          [
           "0",
           "2019-08-22"
          ],
          [
           "0",
           "2019-08-21"
          ],
          [
           "0",
           "2019-08-21"
          ],
          [
           "0",
           "2019-08-21"
          ],
          [
           "0",
           "2019-08-20"
          ],
          [
           "0",
           "2019-08-20"
          ],
          [
           "0",
           "2019-08-19"
          ],
          [
           "0",
           "2019-08-19"
          ],
          [
           "0",
           "2019-08-18"
          ],
          [
           "0",
           "2019-08-18"
          ],
          [
           "0",
           "2019-08-17"
          ],
          [
           "0",
           "2019-08-17"
          ],
          [
           "0",
           "2019-08-16"
          ],
          [
           "0",
           "2019-08-16"
          ],
          [
           "0",
           "2019-08-16"
          ],
          [
           "0",
           "2019-08-16"
          ],
          [
           "0",
           "2019-08-16"
          ],
          [
           "0",
           "2019-08-16"
          ],
          [
           "0",
           "2019-08-16"
          ],
          [
           "0",
           "2019-08-15"
          ],
          [
           "0",
           "2019-08-15"
          ],
          [
           "0",
           "2019-08-15"
          ],
          [
           "0",
           "2019-08-15"
          ],
          [
           "0",
           "2019-08-14"
          ],
          [
           "0",
           "2019-08-14"
          ],
          [
           "0",
           "2019-08-13"
          ],
          [
           "0",
           "2019-08-13"
          ],
          [
           "0",
           "2019-08-13"
          ],
          [
           "0",
           "2019-08-13"
          ],
          [
           "0",
           "2019-08-13"
          ],
          [
           "0",
           "2019-08-13"
          ],
          [
           "0",
           "2019-08-12"
          ],
          [
           "0",
           "2019-08-12"
          ],
          [
           "0",
           "2019-08-12"
          ],
          [
           "0",
           "2019-08-11"
          ],
          [
           "0",
           "2019-08-10"
          ],
          [
           "0",
           "2019-08-09"
          ],
          [
           "0",
           "2019-08-08"
          ],
          [
           "0",
           "2019-08-07"
          ],
          [
           "0",
           "2019-08-06"
          ],
          [
           "0",
           "2019-08-06"
          ],
          [
           "0",
           "2019-08-05"
          ],
          [
           "0",
           "2019-08-02"
          ],
          [
           "0",
           "2019-08-02"
          ],
          [
           "0",
           "2019-07-30"
          ],
          [
           "0",
           "2019-07-30"
          ],
          [
           "0",
           "2019-07-28"
          ],
          [
           "0",
           "2019-07-27"
          ],
          [
           "0",
           "2019-07-23"
          ],
          [
           "0",
           "2019-07-22"
          ],
          [
           "0",
           "2019-07-22"
          ],
          [
           "0",
           "2019-07-18"
          ],
          [
           "0",
           "2019-07-18"
          ],
          [
           "0",
           "2019-07-18"
          ],
          [
           "0",
           "2019-07-14"
          ],
          [
           "0",
           "2019-07-14"
          ],
          [
           "0",
           "2019-07-13"
          ],
          [
           "0",
           "2019-07-11"
          ],
          [
           "0",
           "2019-07-11"
          ],
          [
           "0",
           "2019-07-07"
          ],
          [
           "0",
           "2019-07-07"
          ],
          [
           "0",
           "2019-07-03"
          ],
          [
           "0",
           "2019-07-03"
          ],
          [
           "0",
           "2019-07-02"
          ],
          [
           "0",
           "2019-07-03"
          ],
          [
           "0",
           "2019-07-02"
          ],
          [
           "0",
           "2019-07-02"
          ],
          [
           "0",
           "2019-07-01"
          ],
          [
           "0",
           "2019-07-01"
          ],
          [
           "0",
           "2019-07-01"
          ],
          [
           "0",
           "2019-06-26"
          ],
          [
           "0",
           "2019-06-25"
          ],
          [
           "0",
           "2019-06-25"
          ],
          [
           "0",
           "2019-06-22"
          ],
          [
           "0",
           "2019-06-21"
          ],
          [
           "0",
           "2019-06-18"
          ],
          [
           "0",
           "2019-06-19"
          ],
          [
           "0",
           "2019-06-17"
          ],
          [
           "0",
           "2019-06-17"
          ],
          [
           "0",
           "2019-06-14"
          ],
          [
           "0",
           "2019-06-12"
          ],
          [
           "0",
           "2019-06-13"
          ],
          [
           "0",
           "2019-06-12"
          ],
          [
           "0",
           "2019-06-12"
          ],
          [
           "0",
           "2019-06-12"
          ],
          [
           "0",
           "2019-06-11"
          ]
         ],
         "hoverlabel": {
          "namelength": 0
         },
         "hovertemplate": "<b>%{hovertext}</b><br><br>Hierarchical=%{customdata[0]}<br>source=Reuters<br>pc1=%{x}<br>pc3=%{y}<br>date=%{customdata[1]}",
         "hovertext": [
          "Exclusive: Support for Hong Kong protesters' demands rises even as",
          "Hong Kong rail operator ordered to release police protest footage",
          "Hong Kong pro-democracy protesters hold vigil to mourn student's death",
          "Robert Walters' pretax profit falls, warns of likely coronavirus hit",
          "United States expresses concern over arrest of Hong Kong publisher",
          "Hong Kong protesters mark seven months since brutal mob attack",
          "Holiday Inn-owner IHG takes hit from Hong Kong protests",
          "Hong Kong protesters rally against planned virus quarantine centers",
          "Chinese tourist in France becomes first to die in Europe",
          "First love on the front lines: Coming of age in",
          "Arrested Hong Kong protesters stuck in limbo as cases grind",
          "Hong Kong protesters decry police inaction six months after brutal",
          "Hotels group Accor launches 300 mln euros buyback programme",
          "Police arrest organizer of Hong Kong protest after rally turns",
          "Hong Kong protesters fete landslide election win for Taiwan's Tsai",
          "Show Hong Kong value of democracy, Taiwan president says before",
          "Envy and solidarity from Hong Kong activists as democratic Taiwan",
          "Hong Kong workers flock to labor unions as new protest",
          "Taiwan election is make or break for fleeing Hong Kong",
          "Backstory: Inside Hong Kong’s protests as a campus became a",
          "Taiwan to vote in shadow of China pressure, Hong Kong",
          "United Airlines to record $90 million charge related to Hong",
          "Dozens arrested after Hong Kong protest taking aim at Chinese",
          "HSBC kicks off year with Hong Kong branches closed, vandalized",
          "Exclusive: China halts British stock link over political tensions -",
          "HSBC kicks off year with Hong Kong branches closed, vandalised",
          "Reuters launches a series of polls on the protest movement",
          "Exclusive: Hong Kongers support protester demands; minority wants independence from",
          "Hong Kong protest tide turns into sea of flames",
          "Clashes as police try to clear Hong Kong protesters after",
          "Hong Kong protesters rally in support of China's ethnic Uighurs",
          "Hong Kong protesters face off with police in mall protests",
          "Breakingviews - Jack Dorsey adds third job as anti-Facebook hero",
          "Hong Kong protesters denounce police raid on fund-raising platform",
          "Hong Kong protesters seek international support on rights",
          "UK urges China to open dialogue with Hong Kong on",
          "Hong Kong court orders counseling for girl, 13, for burning",
          "Revolution 101: For hardened teens of Hong Kong protests, violence",
          "Refinitiv created filter to block Reuters stories amid Hong Kong",
          "RPT-SPECIAL REPORT-Refinitiv created filter to block Reuters stories amid Hong",
          "Hong Kong protesters mark six months since pivotal clash with",
          "Eye blinded covering Hong Kong protests, Indonesian reporter seeks justice",
          "Taiwan president says not 'using' Hong Kong protests for election",
          "Fire and petrol bombs after 'generally peaceful' Hong Kong march,",
          "China's HK and Macau office complains over new U.S. law",
          "Firms move legal battles from protest-hit Hong Kong in fresh",
          "China demands 'fighting spirit' from diplomats as trade war, Hong",
          "Trump says new U.S. law on Hong Kong doesn't help",
          "FTSE 100 lower as trade angst persists; Ocado outperforms",
          "JGBs slip, post third consecutive monthly fall",
          "REFILE-Nikkei down, investors still wary over U.S.-China trade",
          "Hong Kong police exit wrecked campus, weekend protests planned",
          "Tokyo shares flat as market awaits more cues on U.S.-China",
          "CANADA STOCKS-TSX futures down amid trade uncertainties",
          "China could put U.S. Hong Kong law drafters on no-entry",
          "China could put U.S. Hong Kong law drafters on no-entry",
          "Hong Kong stocks fall on renewed trade deal worries",
          "Nikkei snaps 4-day winning streak after Trump move backing Hong",
          "China, HK stocks fall amid slowdown concerns, Sino-U.S. trade jitters",
          "Japanese shares dip after Trump move backing Hong Kong protesters",
          "FOREX-Yen rises, yuan falls after Trump signs Hong Kong protest",
          "Protesters left on besieged Hong Kong campus weigh options",
          "Still hope for U.S.-China deal this year: U.S. official",
          "Trump vague about whether he will veto bills that back",
          "'Time to calm down': Hong Kong protests simmer ahead of",
          "China stocks near 3-month lows amid worries over relations with",
          "Handful of Hong Kong protesters surrender as university siege staggers",
          "CANADA STOCKS-TSX dips on U.S.-China trade worries; energy, pot stocks",
          "Open homes, free rides: the people helping Hong Kong's protesters",
          "Tear gas above ground, snakes below: Hong Kong protesters take",
          "Breakingviews - Hadas: Hong Kong tips Beijing’s balance quandary",
          "U.N. decries Hong Kong protesters' violence, calls for calm",
          "HIGHLIGHTS-Hundreds of protesters leave Hong Kong university; about 100 remain",
          "HIGHLIGHTS-Hundreds of protesters leave Hong Kong university, over 100 remain",
          "At Hong Kong university, a daring escape but fears of",
          "Footage shows daring escape by Hong Kong protesters on motorbikes",
          "Hong Kong campus protesters fire arrows as anti-government unrest spreads",
          "China's PLA soldiers seen helping clean up streets after Hong",
          "China's PLA soldiers seen helping clean up streets after Hong",
          "Highway blockade reveals splits in Hong Kong protest movement",
          "South Korean, Chinese students face off over Hong Kong protests",
          "Flaming arrows and petrol bombs: Inside Hong Kong protesters' 'weapons",
          "Nikkei eases off 13-month high, consolidates gains",
          "GLOBAL MARKETS-Asian shares a sea of red as HK chaos",
          "Hong Kong protesters shot by police as chaos erupts across",
          "Protests expected at Hong Kong shopping malls one week after",
          "Thousands gather for 'martyrs' vigil amid Hong Kong protests",
          "Hong Kong faces 24th weekend of protest after student's death",
          "Singapore police investigate Hong Kong protest bar meeting",
          "China to 'perfect' HK system as water cannon breaks up",
          "Effort in U.S. Congress to rein in China on Hong",
          "Scores injured, one critical in chaotic weekend of Hong Kong",
          "Hong Kong protesters trash Xinhua agency office in night of",
          "'I stopped dancing, I'm fighting now': Hong Kong protesters take",
          "Hong Kong bourse's head calls himself great believer in 'one",
          "REFILE-Hong Kong bourse's head calls himself great believer in \"one",
          "Hong Kong police fire tear gas to break up Halloween",
          "Hong Kong protesters target party district on potentially hazardous Halloween",
          "Hong Kong enters recession, official says, as protests again erupt",
          "Hong Kong protesters hurl petrol bombs after police fire tear",
          "Pence backs Hong Kong protests in China speech, slams NBA",
          "Hong Kong stocks edge lower ahead of trade talks, Fed",
          "GLOBAL MARKETS-Asian shares stall, sterling falters amid Brexit, growth anxiety",
          "Hong Kong set for more subdued weekend of protests",
          "Hong Kong pro-democracy protesters rally for Catalan separatists",
          "Hong Kong protesters to rally in support of Catalan activists",
          "Season of discontent: protests flare around the world",
          "China's CCTV shuns NBA season opening games following Hong Kong",
          "Hong Kong protesters crash NBA opening night party",
          "Shaq backs Rockets' Morey in Hong Kong protest controversy",
          "Hong Kong protesters vow to hit the streets in major",
          "Facebook announces new steps to clamp down on misinformation ahead",
          "Resurgent Hong Kong protesters stage huge rally, violence erupts again",
          "Hong Kong protest leaders urge turnout for march, despite risk",
          "U.S. lawmakers urge Apple to restore HKMap app used in",
          "Apple's Cook meets China regulator after pulling Hong Kong app",
          "China stops couriers from shipping black clothing to Hong Kong",
          "Hong Kong stocks fall on weak China growth data",
          "China denies that it demanded firing of Houston Rockets GM",
          "Hong Kong protesters intend to topple city's government, says Singapore",
          "CANADA STOCKS-TSX buoyed by Aritzia, mining stocks gain",
          "U.S. concerned about some Hong Kong protest tactics, heavier China",
          "Tens of thousands of Hong Kong protesters plead for U.S.",
          "Blizzard Entertainment cuts punishment for gamer in Hong Kong protests",
          "Blizzard Entertainment cuts punishment for HK gamer in protests row",
          "Hong Kong protesters and police clash, metro and shops targeted",
          "China's Xi warns attempts to divide China will end in",
          "Hong Kong pro-democracy activists hoist 'Lady Liberty' statue above city",
          "Petrol bombs thrown in Hong Kong metro, protesters defy face",
          "HK leader ditches meeting Ted Cruz, says the U.S. senator",
          "Silver-haired sit-in, face mask party protests planned for Hong Kong",
          "Hong Kong protesters gear up at 'National Calamity Hardware Store'",
          "China denounces Thai politicians for show of support to Hong",
          "Thai army chief decries opposition, hints at threat to monarchy",
          "NBA scraps media access to teams in China amid HK",
          "NBA says no media sessions for Nets, Lakers for rest",
          "NBA says no media sessions for Nets, Lakers for rest",
          "Excited China fans cheer NBA game despite row over Hong",
          "Apple pulls app used to track Hong Kong police, Cook",
          "Hong Kong says not trying to stop protests, just violence",
          "Factbox: Global firms take action after China criticism over Hong",
          "Google pulls Hong Kong protester role-playing app",
          "NBA fans in China seek refund from Tencent as streaming",
          "NBA Shanghai game still scheduled amid Hong Kong free speech",
          "Apple removes police-tracking app used in Hong Kong protests from",
          "More Hong Kong protests planned as metro limps back to",
          "Hong Kong protesters stage peaceful rallies calling for 'liberation'",
          "China state newspaper criticizes Apple for app use by Hong",
          "China smartphone maker Vivo says to suspend all cooperation with",
          "Factbox: Fans, U.S. politicians, others react to NBA's China controversy",
          "NBA stirs U.S. hornet's nest, faces China backlash over Hong",
          "Chinese state media slam U.S. basketball's NBA in free speech",
          "Shoemaker Vans treads warily as China fumes over Hong Kong",
          "China TV drops NBA exhibition games; league defends free speech",
          "NBA's Silver says won't regulate what players, employees say on",
          "PageGroup warns on 2019 profit as macroeconomic problems persist",
          "U.S. lawmakers lash 'shameful' NBA response to Hong Kong protests",
          "Brooklyn Nets owner, Alibaba co-founder Tsai decries Houston Rockets GM's",
          "China criticizes EU, French 'hypocritical' reaction to Hong Kong protests",
          "NBA Rockets general manager apologizes for Hong Kong protest tweet",
          "Chinese soldiers in Hong Kong warn protesters as emergency rules",
          "Hong Kong goes quiet as subway, shops close after night",
          "U.N. calls for probe into violence related to Hong Kong",
          "COLUMN-Beset by Hong Kong protests, China's Xi showcases missiles: Peter",
          "Factbox: What's next for Hong Kong's protest movement",
          "About $4 billion Hong Kong deposits may have left for",
          "Hong Kong shares skid as U.S. slaps tariffs on Europe",
          "Hong Kong protesters go on rampage to denounce police shooting",
          "Mainland banks, pro-Beijing businesses caught in Hong Kong protest cross-hairs",
          "Police shoot teen protester as Hong Kong violence escalates",
          "In Hong Kong, protesters target mainland and pro-Beijing businesses",
          "Key dates in Hong Kong's protests",
          "Dramatic footage captures moment when Hong Kong protester was shot",
          "Hong Kong police fire water cannon, tear gas as protests",
          "Singer attacked with paint at pro-Hong Kong democracy rally in",
          "UK 'won't look the other way' when Hong Kong protesters",
          "Hong Kong police fire tear gas, water cannon to halt",
          "Hong Kong protesters block traffic, taunt police",
          "Hong Kong protesters set busy schedule ahead of China National",
          "Hong Kong protesters denounce police ahead of flashpoint weekend",
          "Hong Kong protesters trap leader for hours in stadium after",
          "Hong Kong protesters block roads near stadium where leader Carrie",
          "Taiwan church collects more than 4,000 gas masks to send",
          "Dozens of Hong Kong protesters appear in court on rioting",
          "What's next for Hong Kong's protest movement",
          "Apple Daily condemns attack on reporter covering Hong Kong protests",
          "Japan Sept factory activity shrinks most in 7 months, new",
          "Hong Kong police fire tear gas after storming shopping mall",
          "Hong Kong protests turn to violent clashes in multiple towns",
          "Pro-Beijing groups tear down Hong Kong's protest walls, raising risk",
          "U.S. Congress to advance 'Hong Kong Human Rights and Democracy'",
          "Hong Kong protesters hurl petrol bombs at government buildings in",
          "Hong Kong protesters call on former ruler Britain to pressure",
          "Lantern-waving Hong Kong protesters take to hills, as leader pledges",
          "Hong Kongers troubled by unrest look for new homes abroad",
          "Hong Kong protesters plan busy Mid-Autumn Festival",
          "Hong Kong protests combine with Mid-Autumn lantern celebrations",
          "Hong Kong protesters pause to mark Sept. 11",
          "Taiwan urges citizens to avoid Hong Kong and China after",
          "Hong Kong protesters hit pause to mark Sept. 11 attacks",
          "Hong Kong protesters boo Chinese anthem, as leader warns against",
          "Reuters hosts Newsmaker with General Jim Mattis and Honorable F.J.",
          "My town is the new Cold War's Berlin: Hong Kong",
          "Office provider The Executive Center pauses sale amid Hong Kong",
          "U.S. should side with Hong Kong protesters, says ex-Pentagon chief",
          "Office provider The Executive Centre pauses sale amid Hong Kong",
          "Hong Kong police fire tear gas as clashes erupt after",
          "Hong Kong protesters to take their democracy message to U.S.",
          "Germany's Merkel presses for peaceful Hong Kong resolution",
          "Germany's Merkel presses call for peaceful Hong Kong resolution",
          "Pentagon chief urges Chinese restraint over Hong Kong protests",
          "Hong Kong protests to target airport after night of violence",
          "Hong Kong a priority for U.S. Senate Democrats, leader says",
          "PRECIOUS-Gold eases as equities gain on Brexit, Hong Kong progress",
          "FTSE jumps on hopes Hong Kong unrest could end",
          "Activists urge Taiwan to join fight for Hong Kong democracy",
          "Britain calls for credible investigation into Hong Kong protests",
          "Lithuania raps Chinese diplomats for role at pro-Hong Kong protest",
          "Fashion brand Zara seeks to distance itself from Hong Kong",
          "Special Report: Hong Kong leader says she would 'quit' if",
          "RPT-SPECIAL REPORT-Hong Kong leader says she would 'quit' if she",
          "GLOBAL MARKETS-Stocks shiver as new U.S.-China tariffs add to global",
          "Hong Kong protesters target airport but planes keep flying",
          "Hong Kong protesters plan to disrupt airport after night of",
          "Exclusive: Messaging app Telegram moves to protect identity of Hong",
          "U.S. and China will meet in September, Trump says, but",
          "Hong Kong protesters denounce Cathay Pacific for firing cabin crew",
          "'Now or never': Hong Kong protesters say they have nothing",
          "Hong Kong violence becoming more serious, but government in control,",
          "Hong Kong protests fuel buyer interest in luxury Australia, New",
          "Hong Kong protests met with tear gas; China frees UK",
          "Gambling hub Macau chooses Beijing-backed man as leader",
          "Hong Kong families form peaceful human chains ahead of airport",
          "Lithuanian human chain links anti-Soviet and Hong Kong protesters",
          "YouTube finds influence campaign tied to Hong Kong protests",
          "Explainer: Hong Kong's 'borrowed time' - worry about 2047 hangs",
          "RPT-'All the forces': China's global social media push over Hong",
          "'All the forces': China's global social media push over Hong",
          "Frontline protesters make case for violence in Hong Kong protests",
          "Hong Kong protesters clash with police, angry at lack of",
          "Don't 'mess up Macau': gambling hub set to choose Beijing-backed",
          "Hong Kong leader says dialogue and 'mutual respect' offer way",
          "China cries foul over Facebook, Twitter block of fake accounts",
          "Twitter, Facebook accuse China of using fake accounts to undermine",
          "Twitter discloses China-backed interference in Hong Kong protests",
          "Hong Kong protesters throng streets peacefully in pouring rain",
          "RPT-DEALTALK-Alibaba and the $15 bln question: Amid Hong Kong's protests,",
          "Hong Kongers rally against government under stormy skies",
          "Australian police tell Chinese to keep peace after scuffles at",
          "Alibaba and the $15 billion question: Amid Hong Kong's protests,",
          "Special Report: Rudderless rebellion - Inside the Hong Kong protesters'",
          "Trump, Trudeau discussed developments in Hong Kong, Canadians held in",
          "Cathay CEO resigns amid Hong Kong protest blowback as more",
          "Breakingviews - Cathay shakeup clarifies China’s corporate muscle",
          "Cathay Pacific Airways CEO Rupert Hogg resigns as Chinese scrutiny",
          "SPECIAL REPORT-Rudderless rebellion: Inside the Hong Kong protesters' anarchic campaign",
          "China warns it could quell Hong Kong protesters; Trump urges",
          "Trump urges China's Xi to meet Hong Kong protesters",
          "China will not 'sit on its hands' if Hong Kong",
          "China says crew information submitted by Cathay Pacific meets requirements",
          "Hong Kong protesters offer apologies, China doubles down after airport",
          "Normal operations resume at Hong Kong airport as city braces",
          "Chinese state media urge action, voice support for Hong Kong",
          "Trump hopes 'tricky' Hong Kong situation works out 'for liberty'",
          "China hits back at U.N. rights boss over Hong Kong",
          "PRECIOUS-Gold hits more than 6-year high on Hong Kong, Argentina",
          "PRECIOUS-Gold hits over six-year peak on risk-off sentiment",
          "GLOBAL MARKETS-Asia shares tumble as Hong Kong unrest, Argentine peso",
          "U.S. yields tumble on trade worries, political tension",
          "Cathay Pacific shares slump after China cracks down on staff",
          "Hong Kong stocks end lower as protests threaten to dent",
          "Hong Kong braces for fresh protests as marchers set to",
          "Cathay Pacific suspends pilot arrested in Hong Kong protests",
          "Downturn to hit Hong Kong like a 'tsunami', as China",
          "Breakingviews - Hong Kong protesters strike market nerves at last",
          "New Zealand rebukes China over freedom of speech after student",
          "Group of Hong Kong activists says will not back down",
          "Group of HK activists says will not back down on",
          "Hong Kong protesters seek to shut down city with general",
          "Refinitiv removes Reuters story on Hong Kong protests from screens",
          "Trump says it's up to China to deal with Hong",
          "New protest erupts as Hong Kong charges 44 activists with",
          "Hong Kong protesters disrupt train services, cause commuter chaos",
          "China rejects U.S. lawmaker's comments on HK protests, human rights",
          "Australia says diplomats should not undermine rights, after HK protest",
          "Breakingviews - Corporate activism tastes different in China",
          "Trump says China's Xi has acted responsibly on Hong Kong",
          "Hong Kong protesters violated 'One Country, Two Systems' bottom line:",
          "Hong Kong's protesters dig in for long summer of discontent",
          "How Reuters counted a quarter million people at Hong Kong's",
          "Mooncakes, hymns and post-it notes: the color of Hong Kong's",
          "Clashes break out as Hong Kong protesters escalate fight in",
          "REUTERS NEWS SCHEDULE AT 1000 GMT/0600 ET",
          "Hong Kong protesters, police clash as demonstrations target Chinese traders",
          "Activists lay flowers at memorial for Hong Kong protester",
          "Imagine all the Post-its: Hong Kong protesters come together with",
          "Hong Kong protesters march again, reaching out to Chinese visitors",
          "Hong Kong protesters take aim at Chinese visitors to explain",
          "Hong Kong protests and China's tightening grip rattle business community",
          "Flag-waving Grandma Wong gives Hong Kong protesters lesson in endurance",
          "China condemns violent Hong Kong protests as 'undisguised challenge' to",
          "Hong Kong protests, Beijing's tightening grip rattle business community",
          "Hong Kong police tactics baffle the experts as legislature is",
          "Breakingviews - Hong Kong protesters score Pyrrhic victory",
          "EU calls for restraint, dialogue amid Hong Kong protests",
          "China tells Britain to stop 'gesticulating' about Hong Kong",
          "Hong Kong protesters smash windows at legislature in fresh chaos",
          "Hong Kong activists urge G20 leaders to help 'liberate' city",
          "Britain bans sales of tear gas to Hong Kong after",
          "Hong Kong activists crowdfund for anti-extradition bill voice at G20",
          "Hong Kong protesters disperse after blockading police headquarters",
          "Fate of 24 arrested Hong Kong protesters hangs in balance",
          "'Sing Hallelujah to the Lord' an unlikely anthem of Hong",
          "Breakingviews - Hadas: Hong Kong teaches lessons on taming China",
          "British PM May raises Hong Kong protests with China's Hu",
          "UK's May to raise Hong Kong protests with China's Hu",
          "'Hong Kong' searches surge behind China's Great Firewall",
          "Hong Kong protesters scuffle with police, government offices shut",
          "\"Hong Kong\" searches surge behind China's Great Firewall",
          "China state media blames Hong Kong protests on 'lawlessness'",
          "Heated Hong Kong protests dent stocks, spike cash demand",
          "Hundreds of Hong Kong protesters storm key road as extradition",
          "Hundreds rally in Hong Kong in fresh protests against extradition"
         ],
         "legendgroup": "Hierarchical=0, source=Reuters",
         "marker": {
          "color": "green",
          "opacity": 0.8,
          "symbol": "diamond"
         },
         "mode": "markers",
         "name": "Hierarchical=0, source=Reuters",
         "showlegend": true,
         "type": "scattergl",
         "x": [
          0.505682452935453,
          1.3361885430530684,
          -0.6778803142003069,
          -3.059597363198738,
          -0.6138461942549488,
          -1.7340207340740832,
          -2.3740636387017706,
          -0.4942501155192091,
          -0.19090544749392618,
          -1.2721476358328598,
          -0.6648427394949645,
          -0.4313262353605721,
          -2.0198451735239282,
          3.2531549964172126,
          0.2667623026202881,
          -0.3807093721286692,
          1.6408625990949859,
          -0.524729870185864,
          0.2892254345494712,
          -0.692223166767975,
          0.6673571230614553,
          -1.752125216010757,
          -2.7570695380686856,
          -0.5180180985319348,
          -1.1619840001057193,
          -0.5180180985319348,
          -0.4734716477510113,
          -0.9877093287481931,
          0.5723244471341192,
          0.2968825409410545,
          1.3289289479389483,
          -0.09823443594260096,
          -0.48454739538403707,
          -0.8021432593963106,
          -2.1367430437667267,
          -2.9365955843255978,
          -0.47422239218241335,
          -0.42197625437440617,
          -0.5814809084692986,
          -0.5814809084692986,
          0.5257757713035417,
          -1.6687615113957135,
          0.36028874013035916,
          -0.058379005785150186,
          -0.9800901090419419,
          -2.5527421296016173,
          2.648119859159271,
          -1.8338103850600427,
          -1.039338029668585,
          -1.8825789990739412,
          -3.042575483589057,
          0.8805092757691383,
          -3.4845798970368027,
          -1.9355787591268503,
          0.5807884459116892,
          1.5918070124503643,
          -2.8084833616702887,
          -2.6432168139397705,
          -1.4552873192175446,
          -2.955131120097748,
          -2.5708420632823814,
          -1.0477581231298556,
          -1.178255209385852,
          -0.18644416992325816,
          -0.16700069099844939,
          -0.266409136982286,
          -0.9153406950276082,
          -3.479358246156295,
          -0.9892569785964682,
          -0.4259806312120906,
          1.0476646923189006,
          2.0943101332437655,
          2.5733173253570385,
          1.0162088843566113,
          -0.8770226020492491,
          -0.6038795773343645,
          -0.3630549967273957,
          -0.46835191388881736,
          -0.4591256255643874,
          -0.3544304646341835,
          0.010298504232103075,
          -0.9812455449168515,
          -2.733100982941149,
          -2.7593830028309196,
          -0.4912800855927354,
          -1.0658542503870942,
          0.13424304000507656,
          0.7116809562531411,
          0.6156053678166579,
          2.8937809238156724,
          -1.8107149430696532,
          -0.2822372077508625,
          -0.568212967121827,
          -0.08874265825935265,
          1.332762737561336,
          1.919814315798778,
          -0.3455735089578487,
          0.06777680369231233,
          -1.669724727281851,
          -0.40492868712526503,
          -0.4966981201024149,
          -1.4994818337134792,
          -2.263167034010058,
          -0.18665201250845692,
          -0.5082862454869922,
          -0.4629061411108149,
          -1.5397170519163823,
          -0.8189308113744013,
          0.11886341291957694,
          -0.3117614507492474,
          -0.05873435343884125,
          1.2209610685266545,
          -2.3013989666338657,
          0.574519815363108,
          1.131294457644511,
          -0.9134440496988021,
          0.2943366771603834,
          -2.8561534514451514,
          -0.36296223361449603,
          0.7723653584455216,
          -2.2331747600383145,
          1.0290017344128186,
          0.4706922984223553,
          0.14508729675521773,
          0.2197361548157216,
          -0.23769923061599788,
          0.2274164498364843,
          -0.2842007440749514,
          0.7790042233010069,
          0.6807870191567902,
          0.1307509622781834,
          0.21765243383053415,
          0.970083655164415,
          -1.6483721948694519,
          -0.3876925349529135,
          -0.1507798137523574,
          -0.26728852698348565,
          0.37572666712961583,
          -0.034820127887067356,
          1.2858520260134874,
          -0.5228707571574449,
          -0.9016938152344568,
          -0.8633343169411123,
          0.28325398467052976,
          -0.2973989484406313,
          -1.666412600729486,
          -0.8343997267249191,
          -0.8126602900112594,
          -0.1500036066808368,
          -0.21951521733765786,
          -1.8292080122798204,
          -0.11350948455633013,
          -1.3824329286457093,
          0.8600431039151086,
          -0.1765274537124613,
          -1.1513930975720195,
          0.5904287430293188,
          0.630968697650017,
          2.5566922687612355,
          0.468789652349065,
          -0.46167673753167987,
          -0.06746701330734466,
          0.043947810905504016,
          -1.2704750147348547,
          -1.5292491802382682,
          -0.9185398627780771,
          -2.1249437599658902,
          -0.019665514949267316,
          -1.8262714354208838,
          0.06184798412901365,
          -1.6908820475166726,
          2.4948409718122107,
          -1.3890866360838525,
          -0.5149552302709863,
          1.2535753365994016,
          -0.014276774806621866,
          -0.5586136263524962,
          -0.4677319113374302,
          -0.9405484632240321,
          0.10356842050020856,
          3.0212193991686704,
          0.12482523282009252,
          0.33327700365646784,
          0.6497688030048937,
          0.7747852888982891,
          1.0238795973518025,
          -2.5946536633692054,
          -0.7344446034255067,
          -0.5762493585242647,
          0.5474311209664728,
          1.33400469558471,
          -0.567942188612566,
          1.2304469468254058,
          -1.0557511368851251,
          -2.4811134990410695,
          0.002750235597686152,
          -0.5310050543636561,
          0.40459083545331503,
          2.855871170856416,
          0.2246892794716756,
          0.06478742754341334,
          0.7212713206541178,
          -0.08215021544939287,
          -2.8722055827528123,
          1.3181887776206191,
          -2.8336041466618513,
          -0.7899704776040151,
          0.4075762969254031,
          -2.22164917496921,
          -1.2446623336285734,
          -0.27269244834169404,
          -0.3586985452250118,
          -0.5501680309434235,
          -2.2307212913464776,
          -3.7104836460297705,
          0.180280084084491,
          1.8687363551327536,
          1.9295196522772995,
          -3.576717463650949,
          0.505615166821026,
          0.5022612023522603,
          -2.8603997240001355,
          -0.9443015716238389,
          0.10254398276323196,
          -0.821233726498103,
          -1.5766871719124305,
          0.15202286261222048,
          0.1522086752887927,
          0.8722854062521463,
          -3.656980934374691,
          -0.5508003227128393,
          -0.3762518717664266,
          0.09626088235549518,
          -0.043543364760466566,
          0.7254638777541563,
          0.436968504210869,
          0.11913004013021831,
          0.10796268947294745,
          -0.5562378731435076,
          -0.7263030636882873,
          0.5237824500871775,
          1.1804323040239995,
          0.6941386744488222,
          2.9715168036053234,
          -0.1073949973182898,
          -0.7588096259988357,
          -2.033536680166208,
          -0.46943253618569947,
          0.052403792478374775,
          -2.033536680166208,
          -0.1748357610610222,
          1.2457001995997663,
          -0.855030036404967,
          -3.0439862328972622,
          -0.38041693503444807,
          -0.17702603091128352,
          1.3263071486989022,
          -1.016863219485463,
          2.8541815543691493,
          -0.13164984720174383,
          1.353906539089094,
          -0.6565117828508985,
          0.30438265357258487,
          0.6208228954975638,
          -0.3270718189792166,
          -3.5359167939683402,
          -1.4351173409472198,
          -3.7199949438907245,
          -2.344519370214108,
          -1.9505052633275786,
          -1.0314747317552628,
          1.5208821745764656,
          1.1971606466662075,
          0.13929230065753204,
          -2.2219582400943803,
          2.530583319685576,
          -0.14928829670306218,
          -0.14928829670306218,
          -0.7846754664940292,
          0.4654245172288005,
          -0.2941954212586184,
          -0.5755496940264455,
          0.324420727332831,
          0.42981286528803136,
          0.8433577877336127,
          -0.4267753377431678,
          -0.10545422029956118,
          0.9102156470300725,
          1.7114748736355436,
          -0.6557309519536686,
          -0.7268068906313756,
          -0.5603573720787883,
          -2.6001653049799165,
          -0.4849249326480457,
          2.5327268048343714,
          -0.2566491683037077,
          1.0145020668262499,
          -0.89386671789442,
          -1.6466574305224067,
          -0.8906775501605645,
          1.777372601936052,
          -2.3294257720289084,
          -0.36314497266061846,
          -1.385748494259067,
          0.16838319653295533,
          1.9900218271392176,
          -0.47762964802852687,
          -0.4917564704922358,
          0.036729902604549634,
          0.3804792386673433,
          1.0969223657793228,
          -0.39043092499662213,
          -0.19530400450603283,
          0.21651672432278715,
          1.8941208415183421,
          0.8708835712465071,
          0.19476801608168634,
          0.47132856878030227,
          0.19476801608168634,
          2.3348306011737994,
          -2.5587705539388166,
          2.0059460664029443,
          -2.114654549046741
         ],
         "xaxis": "x",
         "y": [
          0.18562693998772098,
          -1.7987336344516534,
          -3.3928249472951433,
          -0.05868196835839515,
          0.7656537175328578,
          -2.1877421829466295,
          0.08691451766694552,
          -0.10071250656936523,
          2.794119288446777,
          -2.6835125809758305,
          -2.2335773537002894,
          -2.745656603626785,
          -0.4988810050348657,
          -2.234132553008768,
          0.23785124595825882,
          3.5428396655880197,
          2.6495467555006695,
          -1.9489307992160418,
          0.7379179727246472,
          -2.2273747223401585,
          3.779127295727273,
          -0.6304066122704326,
          -1.5606646073593617,
          -0.43424742000674976,
          1.3376045387286304,
          -0.43424742000674976,
          -0.7207410418934755,
          0.40229637480232466,
          -1.7628027507764508,
          0.9638620249679061,
          0.46874675031141555,
          -2.686860750712061,
          5.594395065530372,
          -1.8424841717869762,
          0.475099673592993,
          2.1702513188347465,
          -1.1081647877462784,
          -1.7767611262492893,
          0.26939528774784877,
          0.26939528774784877,
          -2.513881265702371,
          -0.8623951979653084,
          5.577376034769439,
          -2.9007896063101515,
          -0.72690721637375,
          1.1602235798542042,
          1.9674008331034736,
          2.9580046887365508,
          -1.1676367384247437,
          0.026737303034533002,
          -0.3834132520789493,
          -1.6214130035201046,
          0.028468258309495297,
          -1.2939063526905945,
          0.40050581753411124,
          -0.9108581714003552,
          -0.3319196355140874,
          0.03350359648637529,
          -0.7596957046003382,
          0.05559628090777101,
          -0.5750352719249514,
          -2.069328274458951,
          1.0786675846748197,
          1.7904254701365556,
          -1.9281502274833175,
          0.24044823755801137,
          -2.1613013440101376,
          0.21819074678379471,
          -2.885497391883584,
          -2.1647634422756967,
          2.3054732982226214,
          -1.171144049008295,
          -1.1337382976050712,
          -1.3332965308967235,
          -2.688327897270012,
          -2.9414039860443917,
          -1.5122387567801756,
          -1.8927866754164913,
          -1.7386185451952938,
          -3.746765863515424,
          7.1319188429364475,
          -3.4202213464400932,
          -0.9900580055344516,
          -0.9236234406298933,
          -2.5242284323013475,
          -2.7384890567393083,
          -3.645878701881566,
          -3.430951173525301,
          0.31141805649921284,
          -1.0876018767403444,
          0.6548343955178071,
          -2.8513934144138324,
          -4.09381162001287,
          -3.681069156358357,
          5.776264882353377,
          4.584924324675678,
          -3.4145264400576814,
          -2.8868133742699045,
          -2.009802642225038,
          -2.961584339077803,
          2.169718032319166,
          -0.7775784947223588,
          -0.47039476295110805,
          -0.9490378810328449,
          -3.093620251861282,
          -2.771161936974728,
          -0.9355491436898111,
          3.329980467472152,
          0.4692927077482353,
          4.745881318913963,
          -3.4809693688180845,
          5.7628999615846785,
          -1.9211635563206977,
          -2.9291490542969676,
          -1.0138435088159197,
          1.704910440447083,
          -2.296210404291241,
          -0.5918826510564288,
          -0.8596106284554564,
          0.2637959693701126,
          -0.5902330198368048,
          -0.5473071259857872,
          -2.641894863167637,
          5.939395487210818,
          5.523336099022909,
          -3.7334859314226527,
          2.385496391279805,
          -3.2916056177032003,
          -3.6896322165254456,
          3.196928080573587,
          -2.4913446593662045,
          -1.024890682991617,
          2.9222169496244192,
          1.365038358612626,
          2.7622671234459424,
          1.536036499882295,
          0.2254666725170803,
          5.043841501729462,
          2.306910254788492,
          -0.47547651877069075,
          1.9373392392190254,
          0.2355373880389406,
          2.1417152769909356,
          5.078091971603221,
          1.0418595120392187,
          -2.36491241146001,
          -1.2676054969607244,
          0.18044675091887974,
          1.4878439847049285,
          3.768825671053555,
          1.7921034106270288,
          6.06683932595331,
          2.2822901413496632,
          7.8225483203392185,
          1.170683729271558,
          -0.9088484270077214,
          9.716244866473358,
          10.26723278715104,
          3.9716202916385126,
          5.981249453376028,
          -3.1318397087312606,
          -2.663216146226318,
          0.12219149633158478,
          3.4345902261523,
          -1.0369520168743613,
          -0.3766099010020144,
          -0.48822017797365275,
          -2.9575602392515603,
          -2.1701420326606686,
          -3.8903900340716793,
          -1.681542642867151,
          -1.577368027200939,
          -2.353779340329507,
          -3.745216019861326,
          -0.7165773685002871,
          -1.9813396357943092,
          -3.772855842899115,
          -1.8203240648500183,
          -1.3800213999927913,
          -2.9704831439550876,
          -0.02028155326885084,
          -1.457969925336381,
          -1.2720625905157472,
          -2.4271232976572965,
          -1.8964744181026658,
          3.266568423121725,
          0.2268428022006481,
          -3.781150646911387,
          -4.428746803261037,
          -2.378413750511858,
          3.9996769821737783,
          -4.2652688897522,
          1.1838018049202548,
          -1.5059685753286467,
          0.15018891439105006,
          -1.9666010762617632,
          -1.9467147614248903,
          1.3556140871712394,
          2.937302781920929,
          -0.6775823588366416,
          2.7421964970746964,
          7.005119203975456,
          -0.9781498717598385,
          0.3672432969547234,
          5.600860829473074,
          0.7579965273490188,
          -1.8828518775879386,
          -0.9224905590074297,
          0.15897785493389546,
          -0.6832040084838831,
          -0.8731269173437242,
          -1.7870286363164845,
          2.367727537076534,
          -0.7784754076529945,
          0.08995070814612624,
          -1.030531907006541,
          -0.8949559968004808,
          3.51684727433497,
          0.7979628367648904,
          -0.4840542543653525,
          -0.5185219583609283,
          0.12059425782422277,
          -3.4668725253412602,
          -3.9080993043795376,
          -1.9747623942533297,
          1.0857054004764009,
          -2.8423288678519887,
          -2.1738603547420423,
          -1.284574883392871,
          0.18840134847322834,
          -3.6204615226560395,
          -0.9453940558697091,
          -3.0531918590148197,
          2.37235823290302,
          1.9431394484582907,
          1.236437984455365,
          7.228978274770161,
          7.09883922446625,
          -3.5802092221634076,
          -3.77039893460386,
          -0.4651153747975019,
          -1.248474412854764,
          6.024399699170135,
          1.7425462313235014,
          2.0443049665499418,
          -2.5354867889439325,
          -0.45495152558760293,
          -1.824991852600495,
          -0.6621198538951113,
          -0.45495152558760293,
          -3.263984443846693,
          2.822209243251932,
          -2.3583511304955485,
          1.0846329426260333,
          3.80957828352476,
          -3.2864932013401864,
          0.28248706309500626,
          1.5177554731742475,
          1.4911830222581954,
          -0.1379771957438975,
          -1.2417470791200003,
          -2.5065435687264137,
          1.7664281933226103,
          6.613505981257039,
          -0.7322084000085578,
          -0.19752654994004154,
          -0.24873349088403016,
          0.16113157320495264,
          0.3615792201329093,
          -1.0294407076043568,
          -0.3241836518760461,
          -3.172627557010888,
          2.400123520798571,
          -0.6640801853683806,
          -0.9890994678785139,
          -0.9953212009068187,
          -1.824669427790929,
          -1.824669427790929,
          -0.6202754774693748,
          3.2731815575917387,
          -0.7786460436080583,
          -2.6817255143452625,
          -0.7676644995642834,
          3.4576006067132057,
          0.861616622622018,
          4.2306688558939385,
          0.7586523603495104,
          -1.5624113769979961,
          -1.5026002097669193,
          1.5799035000840027,
          -2.7377275266086287,
          -2.485180705668289,
          0.5199358326489496,
          -1.7547203348704916,
          -0.22431219620141069,
          -2.838763332117429,
          -0.36131018854631947,
          -2.488179550220841,
          0.4608478903370439,
          -0.6169832518532423,
          -2.2380049391848242,
          0.9153834029334139,
          -1.3041715647135306,
          -0.4992767304753409,
          -1.790627483726696,
          0.26416929894040403,
          -2.2524953223796356,
          -3.1410053472521873,
          0.20844425662427377,
          0.6144373730458229,
          -1.7351140188716268,
          -2.113488217723335,
          -2.0469440089809763,
          2.1780994440708312,
          -0.8912852485131817,
          -1.1161744615839917,
          2.7950194711742617,
          -1.9958210686774673,
          2.7950194711742617,
          -0.9967877476347268,
          -1.4385970218043749,
          -1.2130127352157853,
          -0.9565860049679649
         ],
         "yaxis": "y"
        },
        {
         "customdata": [
          [
           "0",
           "2019-08-26"
          ],
          [
           "0",
           "2019-08-13"
          ],
          [
           "0",
           "2019-10-04"
          ],
          [
           "0",
           "2019-10-21"
          ],
          [
           "0",
           "2019-08-13"
          ],
          [
           "0",
           "2020-01-01"
          ],
          [
           "0",
           "2019-11-26"
          ],
          [
           "0",
           "2019-11-14"
          ],
          [
           "0",
           "2019-11-13"
          ],
          [
           "0",
           "2019-10-16"
          ],
          [
           "0",
           "2019-12-24"
          ],
          [
           "0",
           "2019-10-27"
          ],
          [
           "0",
           "2019-09-03"
          ],
          [
           "0",
           "2019-08-16"
          ],
          [
           "0",
           "2019-12-04"
          ],
          [
           "0",
           "2019-11-20"
          ],
          [
           "0",
           "2019-10-07"
          ],
          [
           "0",
           "2019-09-15"
          ],
          [
           "0",
           "2019-09-05"
          ],
          [
           "0",
           "2019-09-02"
          ],
          [
           "0",
           "2019-08-28"
          ],
          [
           "0",
           "2019-08-27"
          ],
          [
           "0",
           "2019-08-24"
          ],
          [
           "0",
           "2019-08-13"
          ],
          [
           "0",
           "2019-08-13"
          ],
          [
           "0",
           "2019-08-10"
          ],
          [
           "0",
           "2019-08-03"
          ],
          [
           "0",
           "2019-07-08"
          ],
          [
           "0",
           "2019-07-04"
          ],
          [
           "0",
           "2019-08-30"
          ],
          [
           "0",
           "2019-08-28"
          ],
          [
           "0",
           "2019-08-14"
          ],
          [
           "0",
           "2019-08-11"
          ],
          [
           "0",
           "2019-08-04"
          ],
          [
           "0",
           "2019-07-31"
          ],
          [
           "0",
           "2019-09-21"
          ],
          [
           "0",
           "2019-09-12"
          ],
          [
           "0",
           "2019-08-30"
          ],
          [
           "0",
           "2019-08-27"
          ],
          [
           "0",
           "2019-08-18"
          ],
          [
           "0",
           "2019-08-15"
          ],
          [
           "0",
           "2019-08-09"
          ],
          [
           "0",
           "2019-08-06"
          ],
          [
           "0",
           "2019-08-04"
          ],
          [
           "0",
           "2019-07-30"
          ],
          [
           "0",
           "2019-07-05"
          ],
          [
           "0",
           "2019-11-13"
          ],
          [
           "0",
           "2019-11-21"
          ],
          [
           "0",
           "2019-11-26"
          ],
          [
           "0",
           "2019-11-21"
          ],
          [
           "0",
           "2019-10-26"
          ],
          [
           "0",
           "2019-08-14"
          ],
          [
           "0",
           "2019-09-01"
          ],
          [
           "0",
           "2019-10-24"
          ],
          [
           "0",
           "2019-11-19"
          ],
          [
           "0",
           "2019-08-19"
          ],
          [
           "0",
           "2019-09-11"
          ],
          [
           "0",
           "2019-10-22"
          ],
          [
           "0",
           "2019-09-01"
          ],
          [
           "0",
           "2019-08-03"
          ],
          [
           "0",
           "2019-08-06"
          ],
          [
           "0",
           "2019-08-19"
          ],
          [
           "0",
           "2020-01-01"
          ],
          [
           "0",
           "2019-10-08"
          ],
          [
           "0",
           "2019-11-26"
          ],
          [
           "0",
           "2019-07-31"
          ],
          [
           "0",
           "2020-01-02"
          ],
          [
           "0",
           "2019-08-25"
          ],
          [
           "0",
           "2019-12-06"
          ],
          [
           "0",
           "2020-01-03"
          ],
          [
           "0",
           "2019-10-26"
          ],
          [
           "0",
           "2019-12-13"
          ],
          [
           "0",
           "2019-07-02"
          ],
          [
           "0",
           "2019-08-15"
          ],
          [
           "0",
           "2019-08-09"
          ],
          [
           "0",
           "2019-09-17"
          ],
          [
           "0",
           "2019-07-01"
          ],
          [
           "0",
           "2019-10-10"
          ],
          [
           "0",
           "2019-12-19"
          ],
          [
           "0",
           "2019-07-27"
          ],
          [
           "0",
           "2019-10-10"
          ],
          [
           "0",
           "2019-09-03"
          ],
          [
           "0",
           "2019-08-14"
          ],
          [
           "0",
           "2020-01-14"
          ],
          [
           "0",
           "2019-08-26"
          ],
          [
           "0",
           "2019-09-04"
          ]
         ],
         "hoverlabel": {
          "namelength": 0
         },
         "hovertemplate": "<b>%{hovertext}</b><br><br>Hierarchical=%{customdata[0]}<br>source=CCTV<br>pc1=%{x}<br>pc3=%{y}<br>date=%{customdata[1]}",
         "hovertext": [
          "Hong Kong protests turn violent, several policemen injured",
          "Hong Kong cancels all flights as protesters disrupt airport",
          "Unrest-hit Hong Kong outlaws wearing masks in violent protests",
          "Double standards on Hong Kong and Catalonia will backfire",
          "Hong Kong police arrest 149 people during protests in last",
          "HKSAR gov't rejects foreign interference in Hong Kong's affairs",
          "Alibaba shares jump over 7% in Hong Kong debut",
          "Police issue statement on standoff at Chinese University of Hong",
          "China refutes U.S., U.K. remarks on Hong Kong violence",
          "China condemns U.S. House approval of bill on Hong Kong",
          "5 Hong Kong youths to join UN as junior professional",
          "Chinese experts, scholars brief journalists on Xinjiang, Hong Kong, Tibet",
          "New semester starts in Hong Kong, violence deplored",
          "Brutalities at Hong Kong airport resemble acts of terrorism",
          "Hong Kong to roll out more relief measures amid economic",
          "Two people accused of setting a man on fire granted",
          "Chinese diplomat condemns Houston Rockets manager for erroneous comments on",
          "Hong Kong residents voice support for police, national unity",
          "Hong Kong police: doxxed, ambushed, yet still resolute",
          "Don’t use the Hong Kong situation as leverage in the",
          "China voices firm opposition to G7 statement on Hong Kong",
          "Chinese in Southern California rally against violence in Hong Kong",
          "Taxis rally in Hong Kong calls for peace, restoring order",
          "China urges U.S. to stop interfering in Hong Kong affairs",
          "Commentary: Stop mobsters from pushing Hong Kong into abyss",
          "China refutes U.S. frequent intervening in Hong Kong affairs",
          "China urges Western nations not to intervene in Hong Kong",
          "Debunking the fallacies British politicians hold about Hong Kong",
          "China slashes British foreign secretary's Hong Kong comments",
          "3 leaders of Hong Kong groups advocating \"independence\" detained: police",
          "Hong Kong's embattled police force resolute in face of growing",
          "China refutes U.S. politicians' remarks on Hong Kong: FM spokesperson",
          "Hong Kong people express support for police, calling for end",
          "Hong Kong residents rally to denounce violence, support police force",
          "Hong Kong police charge 45 people following illegal assembly",
          "Hong Kong police reiterate standard procedure in handling persons under",
          "Women representative condemns violent unlawful acts in Hong Kong at",
          "Don't let violence ruin childhood, future of Hong Kong's next",
          "Demonstration staged in Hong Kong against U.S. interference in China's",
          "How violence has disrupted Hong Kong over last 2 months",
          "Hong Kong police arrest 5 people involved in unlawful assembly",
          "Hong Kong residents gather to express reverence to Chinese national",
          "China again urges U.S. side to stop interfering in Hong",
          "Central government strongly condemns flag-insulting act by radicals in Hong",
          "U.S. congressman's remarks on Hong Kong \"double standard\": Chinese FM",
          "Chinese ambassador urges Britain to reflect on words and deeds",
          "HK fire victim still in critical condition",
          "Ex-UK consulate worker Simon Cheng treated lawfully, China says",
          "China summons U.S. ambassador to lodge representations, protest against Congress",
          "Liu Xiaoming meets British foreign secretary, warns of interference in",
          "HKSAR gov't warns foreign legislatures not to interfere in its",
          "Protesters paralyze airport as HKSAR chief executive appeals for end",
          "CNN apologizes for wrongly blaming HK police",
          "Suspect in Taiwan homicide case released in HK, says to",
          "Commission of Legislative Affairs of NPC expresses concern over HK",
          "Peaceful global rallies reject HK 'independence' violence",
          "Prominent HK women speak out against protests",
          "HK to offer all necessary assistance for Taiwan to receive",
          "HKSAR gov't severely condemns illegal, violent acts of radical protesters",
          "HK police associations express confidence in safeguarding rule of law,",
          "Protesters cause mayhem as HKSAR chief executive warns of \"very",
          "Law must hold all wrongdoers in HK to account",
          "Chinese president delivers 2020 New Year speech, vowing to achieve",
          "Morey owes the Chinese an apology",
          "Beijing: Western media put on 'clumsy farce' on 'Chinese agent'",
          "Double standards a Western tactic to meddle in China's affairs",
          "Foreign media and analysts laud Xi Jinping's New Year speech",
          "HKSAR gov't strongly condemns vandalistic, violent acts of radical protesters",
          "HKSAR Legislative Council rejects motion to impeach Carrie Lam",
          "HK police condemn rioting behind early end of New Year",
          "China firmly opposes U.S. vice president's speech: spokeswoman",
          "Air travel during Spring Festival expected to set record",
          "5,000 HK citizens spell out \"I LOVE HK\" on anniversary",
          "Chinese journalists association denounces severe violence against reporter",
          "China summons U.S. officials for colluding with separatists in HKSAR",
          "\"We will certainly overcome difficulties,\" says HKSAR chief executive",
          "HK marks anniversary of return with tech",
          "Chinese people tell NBA: freedom of speech isn't an excuse",
          "20 years back with motherland, Macao model of \"one country,",
          "HK Official: Police withhold Saturday march permit for safety reasons",
          "Washington blacklisting Chinese entities exposes evil intentions over Xinjiang",
          "HKSAR chief executive says never tenders resignation to central government",
          "Central gov't spokesperson denounces severe violent acts at HK airport",
          "Expectations for the upcoming decade",
          "Commentary: Macao to further promote \"one country, two systems\" practice,",
          "FedEx will ruin its own reputation breaking the law"
         ],
         "legendgroup": "Hierarchical=0, source=CCTV",
         "marker": {
          "color": "green",
          "opacity": 0.8,
          "symbol": "square"
         },
         "mode": "markers",
         "name": "Hierarchical=0, source=CCTV",
         "showlegend": true,
         "type": "scattergl",
         "x": [
          0.18489023477087685,
          -2.753241539504269,
          -0.08072009345940359,
          -0.40252783721029717,
          1.1399605342773993,
          -0.31983952537353605,
          -2.2684272609045224,
          0.9743655121933175,
          0.5112916072828734,
          3.414096807890219,
          1.0350234330870705,
          1.5048868985834107,
          -0.040396114750435336,
          0.7485317643300334,
          -0.6770871332698382,
          -0.620003996640156,
          2.24506729455966,
          -0.08662188774641423,
          -1.7253394823622192,
          3.4914676529309627,
          3.0266121680711553,
          0.40247436730736247,
          0.2698107667986535,
          1.3869876661282867,
          3.7045694784913747,
          1.8519124629760264,
          3.439346952601572,
          2.7886121835861952,
          2.732791798632885,
          -0.4891095870678259,
          -0.37066766293890124,
          0.7008775277699985,
          -0.7600468807192631,
          1.3371031647250302,
          0.517556793779606,
          -0.7970064063430878,
          -1.8453782266842425,
          -0.9087021294664196,
          0.012843035436037955,
          2.8097474402131266,
          0.3647887127423802,
          0.6858383302815907,
          0.6319025601507761,
          0.6631956290776205,
          1.6657538130251308,
          3.6721465225524725,
          -0.2527935777882303,
          2.30111310245482,
          3.8412678710450203,
          3.0890757387524053,
          3.6019500357227403,
          -3.0012189696331077,
          0.9732444803461898,
          2.55832611690418,
          1.8256631087653148,
          0.2655914146583032,
          0.7162569580126924,
          2.2545522652435945,
          2.860142298017995,
          2.0318995756511287,
          -0.16311232805913226,
          1.6785703067295628,
          -2.861330841035132,
          0.28192047451209956,
          0.6953288034038002,
          1.1311530596131334,
          -1.4203783826952663,
          2.601459916279197,
          2.527610691726011,
          -0.0845144150965047,
          2.4017524142185507,
          -1.74155129738421,
          -0.35235143835424176,
          2.2713990032421747,
          2.3330695016372007,
          -1.241473814200386,
          0.38259202790407554,
          1.1386455784473153,
          0.8480137628316982,
          2.894446423310787,
          1.5862084485722467,
          0.9244891420853872,
          1.1796995608532306,
          0.04803528077746785,
          0.3985094099506973,
          3.1063320143821174
         ],
         "xaxis": "x",
         "y": [
          -1.5644314399215489,
          -0.5408583759498569,
          0.8403068117900198,
          5.147640490263729,
          -1.5086819491167558,
          0.6547908662694991,
          0.19174205987666962,
          -2.623168511449721,
          4.271544951889304,
          -1.07177162234298,
          -0.9502654741620135,
          4.807574862241902,
          3.6496344234825036,
          4.11183357964396,
          0.6666910353115224,
          0.826679046880405,
          3.729823279999732,
          -2.6476204231374414,
          0.8274755951560192,
          2.0919416178826244,
          2.0257653782123537,
          -1.6719203124384703,
          -0.9285428693454855,
          1.47917797195751,
          -0.9582691229702255,
          0.6380088912415508,
          1.6599597245590987,
          3.065566533548075,
          2.6000931624285966,
          -1.828385355650003,
          -2.0297368172938626,
          3.9091156283847788,
          -0.5200901269370365,
          -1.1770197911419744,
          -3.105179819388136,
          0.10170563354141395,
          0.23024897965648566,
          -2.170414409096253,
          -0.8654795945831634,
          -2.0780563551715354,
          -0.3958287080138693,
          -1.2564613705326113,
          1.2249223127145537,
          -0.5688009406638788,
          -0.43157227985147445,
          2.975119972663431,
          -3.1179967117530123,
          5.543990571195207,
          1.6169793169529603,
          4.526581025448976,
          1.9621728696436713,
          -0.22606060505711909,
          0.40805944256933613,
          4.1271478782792235,
          0.444204974973055,
          -1.7391442827910266,
          0.30921559656558983,
          6.349461661608689,
          -1.7760461150315607,
          -0.7835476042976676,
          -1.389545882058511,
          1.8167788394694284,
          1.6595438539241765,
          0.7925935492507385,
          10.857922267592434,
          2.4812579290219627,
          7.902121389651216,
          -2.265891673210206,
          2.3241254388142747,
          -2.67040303751722,
          1.259596720682409,
          -0.8998782708872444,
          8.022673185806621,
          6.122991764034833,
          2.6483503753402733,
          2.8918665663466046,
          2.053229323218493,
          10.224502954816485,
          2.656275618187217,
          -0.72293682399759,
          2.4394337443775216,
          -0.7382998714076827,
          -1.3521757851414204,
          -0.5345704500685674,
          0.4160790065208439,
          2.7382178615856207
         ],
         "yaxis": "y"
        },
        {
         "customdata": [
          [
           "0",
           "2020-03-06"
          ],
          [
           "0",
           "2020-02-29"
          ],
          [
           "0",
           "2020-02-27"
          ],
          [
           "0",
           "2019-12-12"
          ],
          [
           "0",
           "2019-12-09"
          ],
          [
           "0",
           "2019-12-07"
          ],
          [
           "0",
           "2019-12-02"
          ],
          [
           "0",
           "2019-11-13"
          ],
          [
           "0",
           "2019-11-13"
          ],
          [
           "0",
           "2019-11-11"
          ],
          [
           "0",
           "2019-11-09"
          ],
          [
           "0",
           "2019-11-02"
          ],
          [
           "0",
           "2019-10-29"
          ],
          [
           "0",
           "2019-10-29"
          ],
          [
           "0",
           "2019-10-24"
          ],
          [
           "0",
           "2019-10-21"
          ],
          [
           "0",
           "2019-10-16"
          ],
          [
           "0",
           "2019-10-15"
          ],
          [
           "0",
           "2019-10-14"
          ],
          [
           "0",
           "2019-10-11"
          ],
          [
           "0",
           "2019-10-08"
          ],
          [
           "0",
           "2019-10-05"
          ],
          [
           "0",
           "2019-10-05"
          ],
          [
           "0",
           "2019-10-04"
          ],
          [
           "0",
           "2019-10-02"
          ],
          [
           "0",
           "2019-10-01"
          ],
          [
           "0",
           "2019-09-30"
          ],
          [
           "0",
           "2019-09-17"
          ],
          [
           "0",
           "2019-09-16"
          ],
          [
           "0",
           "2019-09-16"
          ],
          [
           "0",
           "2019-09-09"
          ],
          [
           "0",
           "2019-09-06"
          ],
          [
           "0",
           "2019-09-05"
          ],
          [
           "0",
           "2019-09-05"
          ],
          [
           "0",
           "2019-09-05"
          ],
          [
           "0",
           "2019-09-03"
          ],
          [
           "0",
           "2019-09-03"
          ],
          [
           "0",
           "2019-09-03"
          ],
          [
           "0",
           "2019-09-02"
          ],
          [
           "0",
           "2019-09-01"
          ],
          [
           "0",
           "2019-09-01"
          ],
          [
           "0",
           "2019-08-29"
          ],
          [
           "0",
           "2019-08-26"
          ],
          [
           "0",
           "2019-08-25"
          ],
          [
           "0",
           "2019-08-26"
          ],
          [
           "0",
           "2019-08-24"
          ],
          [
           "0",
           "2019-08-26"
          ],
          [
           "0",
           "2019-08-23"
          ],
          [
           "0",
           "2019-08-20"
          ],
          [
           "0",
           "2019-08-20"
          ],
          [
           "0",
           "2019-08-17"
          ],
          [
           "0",
           "2019-08-16"
          ],
          [
           "0",
           "2019-08-16"
          ],
          [
           "0",
           "2019-08-16"
          ],
          [
           "0",
           "2019-08-16"
          ],
          [
           "0",
           "2019-08-16"
          ],
          [
           "0",
           "2019-09-02"
          ],
          [
           "0",
           "2019-08-14"
          ],
          [
           "0",
           "2019-08-13"
          ],
          [
           "0",
           "2019-08-14"
          ],
          [
           "0",
           "2019-08-13"
          ],
          [
           "0",
           "2019-08-12"
          ],
          [
           "0",
           "2019-08-12"
          ],
          [
           "0",
           "2019-08-11"
          ],
          [
           "0",
           "2019-08-10"
          ],
          [
           "0",
           "2019-08-12"
          ],
          [
           "0",
           "2019-08-08"
          ],
          [
           "0",
           "2019-08-07"
          ],
          [
           "0",
           "2019-08-05"
          ],
          [
           "0",
           "2019-08-05"
          ],
          [
           "0",
           "2019-08-03"
          ],
          [
           "0",
           "2019-08-01"
          ],
          [
           "0",
           "2019-07-27"
          ],
          [
           "0",
           "2019-07-25"
          ],
          [
           "0",
           "2019-07-25"
          ],
          [
           "0",
           "2019-07-15"
          ],
          [
           "0",
           "2019-07-09"
          ],
          [
           "0",
           "2019-07-06"
          ],
          [
           "0",
           "2019-07-04"
          ],
          [
           "0",
           "2019-07-04"
          ],
          [
           "0",
           "2019-07-02"
          ],
          [
           "0",
           "2019-07-02"
          ],
          [
           "0",
           "2019-07-01"
          ],
          [
           "0",
           "2019-07-01"
          ],
          [
           "0",
           "2019-06-23"
          ],
          [
           "0",
           "2019-06-19"
          ],
          [
           "0",
           "2019-06-17"
          ],
          [
           "0",
           "2019-06-17"
          ],
          [
           "0",
           "2019-06-17"
          ],
          [
           "0",
           "2019-06-17"
          ],
          [
           "0",
           "2019-06-17"
          ],
          [
           "0",
           "2019-06-13"
          ],
          [
           "0",
           "2019-06-13"
          ],
          [
           "0",
           "2019-06-13"
          ],
          [
           "0",
           "2019-06-12"
          ],
          [
           "0",
           "2019-06-10"
          ],
          [
           "0",
           "2019-06-10"
          ]
         ],
         "hoverlabel": {
          "namelength": 0
         },
         "hovertemplate": "<b>%{hovertext}</b><br><br>Hierarchical=%{customdata[0]}<br>source=ABC (Australia)<br>pc1=%{x}<br>pc3=%{y}<br>date=%{customdata[1]}",
         "hovertext": [
          "Hong Kong authorities accused of seizing on coronavirus outbreak to",
          "Coronavirus outbreak creates 'uneasy calm' on Hong Kong's streets as",
          "Australian artist Badiucao's exhibition finally shown in Melbourne after China",
          "Tourism Australia splashes cash on social media stars, led by",
          "Hong Kong protest reporter, Indonesian citizen journalist Yuli Riswati, deported",
          "Hong Kong's young protesters face years in prison as courts",
          "Hong Kong anti-Government protesters return in the thousands, but it",
          "Protesters barricade financial district and university campuses",
          "Hong Kong on 'brink of total breakdown', police warn after",
          "Hong Kong protesters vandalise subway station as violence spreads on",
          "Hong Kong protests escalate after candlelight vigil marking death of",
          "Cathay Pacific crew say fear of China is fuelling paranoia",
          "Hong Kong pro-democracy activist Joshua Wong disqualified from district elections",
          "Andrew Bogut questions NBA's backdown to China over support for",
          "Hong Kong man whose murder case sparked protests leaves prison",
          "Hong Kong protesters target Chinese businesses in latest demonstrations",
          "Hong Kong leader Carrie Lam aborts policy speech as members",
          "Hong Kong police say homemade bomb detonated during protests",
          "Hong Kong police were violently attacked in chaotic protests",
          "Urban sketcher Rob Sketcherman captures human side of Hong Kong",
          "Extinction Rebellion activists to use disruption tactics from Hong Kong",
          "Hong Kong protests over mask ban turn violent",
          "Hong Kong protests over 'authoritarian' mask ban quickly turn violent,",
          "Hong Kong teen shot by police during protests to be",
          "Protester is shot in the chest by a Hong Kong",
          "China holds National Day celebrations against backdrop of Hong Kong",
          "UK \"won't look the other way\" on beaten Hong Kong",
          "What it's like to be a news cameraman filming the",
          "Chinese Government hopes Hong Kong's 'silent majority' will bring pro-democracy",
          "Hong Kong police use water cannon on protesters",
          "Protesters picket US Consulate in Hong Kong",
          "ABC News quiz: Will you carry a ______ to the",
          "Carrie Lam announces formal withdrawal of extradition bill",
          "The top stories on ABC News",
          "The twin threats to democracy that link Hong Kong protests",
          "Hong Kong student protest delegation arrives in Australia amid fears",
          "Where has the ALP gone when Hong Kong needs it",
          "Carrie Lam says she would quit Hong Kong leadership",
          "Hong Kong protesters are young and angry. Here's why many",
          "Hong Kong protests escalate as police use water cannons, tear",
          "Hong Kong protests ramp up as police fire tear gas",
          "Why Chinese and Hong Kong students clash in Australia",
          "Hong Kong police officers aim guns at demonstrators",
          "Protesters topple high-tech lampposts over surveillance fears",
          "Why Macau hasn't been swept up by Hong Kong's pro-democracy",
          "Hong Kong residents form human chain across city",
          "Hong Kong protesters join hands in symbolic move as part",
          "Hong Kong protesters plan 'stress test' of international airport to",
          "Chinese Government voices support for counter Hong Kong protests in",
          "Pro-China death threat poster directed at Hong Kong protesters guarded",
          "Chinese ambassador to Australia warns foreigners not to interfere in",
          "Cathay Pacific boss resigns amid Chinese pressure over Hong Kong",
          "China's greatest weapon against Hong Kong's protests may be nationalist",
          "In Shenzhen, just across the harbour from Hong Kong, mainland",
          "Pro-China rally in Melbourne condemning Hong Kong protests delayed over",
          "Tiananmen Square organiser fears Hong Kong protests will come to",
          "Hong Kong protests: Satellite photos show scale of China's military",
          "Hong Kong protests highlight how China rejects international rule of",
          "Demonstrators flood Hong Kong airport",
          "Protesters greet arrivals to Hong Kong",
          "After Hong Kong protests, is Taiwan the next flashpoint in",
          "Hong Kong police fire tear gas into crowds",
          "Massed protesters pack Hong Kong airport",
          "Police charge demonstrating protesters on Hong Kong streets",
          "China bans Cathay Pacific staff involved in Hong Kong protests",
          "Hong Kong protests spread across Australia revealing deep divisions in",
          "Protesters beam lasers onto Hong Kong Space Museum",
          "The Drum Wednesday 7 August",
          "Hong Kong official says there is no need to deploy",
          "Hong Kong protests shut down shopping district as police respond",
          "Hong Kong protests: Colourful 'Lennon Walls' become flashpoints of violence",
          "Protesters storm Hong Kong's Kwai Chung police station",
          "Hong Kong's controversial extradition bill is 'dead' but protesters show",
          "UQ students 'shocked' by intimidation tactics in China-Hong Kong protest",
          "Hong Kong could see exodus of funds and people as",
          "Protesters and riot police injured in violent clashes in Hong",
          "Hong Kong leader Carrie Lam says extradition bill is dead",
          "Hong Kong mothers march in support of students who protested",
          "China issues stern warning to the UK to keep its",
          "Carrie Lam has lost control of Hong Kong protests and",
          "The Drum Tuesday June 2",
          "Hong Kong protesters cause havoc in parliament before police seize",
          "China censors Taiwan's Golden Melody Awards after presenter encourages Hong",
          "Hong Kong protesters break into parliament as tensions rise on",
          "Dodging tear gas and pepper spray to report on Hong",
          "Hong Kong exposes China's weak point as Xi meets with",
          "The Drum Monday June 17",
          "Hong Kong activist Joshua Wong released from prison after millions",
          "Sunday's march was the largest Hong Kong protest in decades",
          "A timelapse of protestors filling the streets of Hong Kong",
          "Hong Kong protesters demand Chief Executive Carrie Lam steps down",
          "Hong Kong Chief Executive responds to anti-extradition protests",
          "Hong Kong Chief Executive Carrie Lam blasts protesters after day",
          "Emotional Carrie Lam says she would never 'sell out' Hong",
          "Protesters and police clash in Hong Kong protests",
          "Hong Kong protests turn violent as hundreds of thousands protest",
          "Hong Kong protests over extradition law turn ugly as riot"
         ],
         "legendgroup": "Hierarchical=0, source=ABC (Australia)",
         "marker": {
          "color": "green",
          "opacity": 0.8,
          "symbol": "x"
         },
         "mode": "markers",
         "name": "Hierarchical=0, source=ABC (Australia)",
         "showlegend": true,
         "type": "scattergl",
         "x": [
          2.248624155032907,
          0.18294224007836954,
          0.44580472787719455,
          -1.340232877328868,
          -1.3725727117224624,
          -0.163701251581813,
          0.5093663710199118,
          -0.4621032386258405,
          0.1988372309628459,
          -0.28276989213007586,
          -0.9029010379794056,
          -0.09502906058114649,
          -0.1712848436906581,
          -0.7763993419414691,
          -0.1255484387533731,
          -0.5685319046918812,
          -0.0012879058003064843,
          -0.46035487109923445,
          -0.4661247287378661,
          -0.07601214040906193,
          -0.47218396663500867,
          -0.47111424441636324,
          0.9077405504434719,
          -0.5119131650897426,
          -0.45591720009051345,
          -0.4750517985344239,
          -0.3212781440340272,
          -0.6682425257609563,
          2.614013553426852,
          -0.45777865404419504,
          -0.45777865404419504,
          -0.3303587707390994,
          -0.21944508272662128,
          -0.4645640199798775,
          0.108581854020412,
          -0.6326184789844261,
          -2.3488062904142706,
          -0.4610280727779127,
          -0.23199628073896308,
          -0.46465867496954033,
          -0.8493195298891155,
          -0.11391579073116181,
          -0.4613229308175704,
          -0.4619723230760526,
          0.25733926166505916,
          -0.4527720476674987,
          -0.21146588592175045,
          0.5221586918063176,
          1.3188215106074843,
          -0.1133705586196991,
          -1.1719481408740118,
          0.21264608716708727,
          1.584372097515399,
          0.9544488247379815,
          -0.1241821714531982,
          0.6969051140524759,
          0.6745579008297427,
          3.9671506818827504,
          -0.4570966322491441,
          -0.4540182566072319,
          -0.45837667785194014,
          -0.45984634412550923,
          -0.45964608829536,
          -0.455518075740153,
          1.1389723725496288,
          1.665793426202008,
          -0.45777865404419504,
          0.6912523186621776,
          0.2893432810215972,
          -0.5023280161074957,
          -0.4026317981637037,
          -0.4602358043746754,
          0.9759649709156191,
          0.04231685628603121,
          -2.490436186169697,
          -0.9817663079289295,
          1.683258735516345,
          1.4970156672777613,
          -0.43734957953326475,
          -1.528157979932666,
          -0.45503262597154054,
          1.5687788525824755,
          0.7598857149921879,
          1.008278563975562,
          0.602721206402451,
          -0.1131454655919373,
          -1.0898628875413736,
          -0.20240416669269967,
          -0.455805662418553,
          -0.45748977630202087,
          0.5996129454268909,
          -0.46102209248042914,
          0.273786647380016,
          -0.459052703935909,
          -0.46034387246825664,
          -0.46899803202260715,
          -1.5415696169463453
         ],
         "xaxis": "x",
         "y": [
          -0.6852564120644802,
          -1.2781671916247093,
          12.407625098387696,
          2.7843452700595357,
          1.8321336387825098,
          0.7520940623773055,
          -0.9092299577588296,
          -1.9464627149803309,
          -3.8101420348858333,
          -3.037066660979388,
          -3.9809963282858516,
          1.2018852631481274,
          0.7919353953619193,
          2.430604441603482,
          3.9209570642838023,
          -4.289354053617227,
          -1.3798055676123964,
          -1.727218038359573,
          -1.861616604116987,
          0.04662848652204705,
          -2.571255764348302,
          -2.081124091135788,
          -3.108437718864973,
          -2.587067110053507,
          -1.777745804876933,
          -2.0300041126824633,
          -0.40367287000947066,
          0.2858082973301851,
          -1.531869275744929,
          -1.769838179970124,
          -1.769838179970124,
          -0.5417963852633201,
          0.7825273094162439,
          -2.055867292168502,
          2.8183022465365206,
          0.7173455659264706,
          2.215571397820409,
          -1.9864838917071774,
          -2.0114068953988626,
          -2.0508317583954527,
          -3.578979204312122,
          -0.4962560856780404,
          -1.998526473639691,
          -1.8129352801903516,
          -1.6274420429862098,
          -1.6492915975967826,
          -2.2864470729019017,
          -1.4610719487524972,
          -0.9329342049121557,
          3.7031138904069043,
          0.5923850098391535,
          3.5295952698521167,
          -0.25626965087933307,
          -1.0308469994735723,
          1.48033106510613,
          -1.0221888200787121,
          6.597852523054036,
          2.1780749400953527,
          -1.8259161326069888,
          -1.662098519450421,
          -2.5682774418561602,
          -1.8121161844996931,
          -1.8461078655427132,
          -1.6775117184875157,
          -0.181027215897854,
          0.29246223509291525,
          -1.769838179970124,
          -0.34764596187905944,
          -3.472258736593413,
          -3.6128513039637036,
          -1.4172954076524518,
          -1.8701930294077411,
          -0.9430221878041021,
          -2.8567065567171657,
          0.7108258316960712,
          -3.8490987244013137,
          0.12555160816333494,
          -0.6547944008485459,
          0.2794402429885876,
          0.04235400566575347,
          -1.7416180590793902,
          -2.662067138241334,
          5.576040746715973,
          -2.23835138169768,
          -2.0550954155667465,
          1.7240623081507596,
          -0.9309574076997406,
          0.13018139074424281,
          -1.6804671619922016,
          -1.8419729085170076,
          -1.7908752578382983,
          -1.9023065812277788,
          -2.112330391965995,
          -1.8490222422202482,
          -1.8022084486050773,
          -2.023326749120425,
          -1.3013396113534716
         ],
         "yaxis": "y"
        },
        {
         "customdata": [
          [
           "0",
           "2020-01-12"
          ],
          [
           "0",
           "2020-01-10"
          ],
          [
           "0",
           "2020-01-02"
          ],
          [
           "0",
           "2019-12-27"
          ],
          [
           "0",
           "2019-12-20"
          ],
          [
           "0",
           "2019-12-20"
          ],
          [
           "0",
           "2019-12-11"
          ],
          [
           "0",
           "2019-12-02"
          ],
          [
           "0",
           "2019-11-29"
          ],
          [
           "0",
           "2019-11-20"
          ],
          [
           "0",
           "2019-11-14"
          ],
          [
           "0",
           "2019-11-02"
          ],
          [
           "0",
           "2019-11-01"
          ],
          [
           "0",
           "2019-10-29"
          ],
          [
           "0",
           "2019-10-25"
          ],
          [
           "0",
           "2019-10-23"
          ],
          [
           "0",
           "2019-10-21"
          ],
          [
           "0",
           "2019-10-16"
          ],
          [
           "0",
           "2019-10-15"
          ],
          [
           "0",
           "2019-10-12"
          ],
          [
           "0",
           "2019-10-12"
          ],
          [
           "0",
           "2019-10-12"
          ],
          [
           "0",
           "2019-10-11"
          ],
          [
           "0",
           "2019-10-11"
          ],
          [
           "0",
           "2019-10-10"
          ],
          [
           "0",
           "2019-10-10"
          ],
          [
           "0",
           "2019-10-10"
          ],
          [
           "0",
           "2019-10-10"
          ],
          [
           "0",
           "2019-10-09"
          ],
          [
           "0",
           "2019-10-09"
          ],
          [
           "0",
           "2019-10-02"
          ],
          [
           "0",
           "2019-09-30"
          ],
          [
           "0",
           "2019-09-20"
          ],
          [
           "0",
           "2019-09-18"
          ],
          [
           "0",
           "2019-09-18"
          ],
          [
           "0",
           "2019-09-10"
          ],
          [
           "0",
           "2019-09-09"
          ],
          [
           "0",
           "2019-09-08"
          ],
          [
           "0",
           "2019-09-05"
          ],
          [
           "0",
           "2019-08-28"
          ],
          [
           "0",
           "2019-08-26"
          ],
          [
           "0",
           "2019-08-20"
          ],
          [
           "0",
           "2019-08-19"
          ],
          [
           "0",
           "2019-08-19"
          ],
          [
           "0",
           "2019-08-16"
          ],
          [
           "0",
           "2019-08-16"
          ],
          [
           "0",
           "2019-08-15"
          ],
          [
           "0",
           "2019-08-13"
          ],
          [
           "0",
           "2019-08-13"
          ],
          [
           "0",
           "2019-08-12"
          ],
          [
           "0",
           "2019-08-11"
          ],
          [
           "0",
           "2019-08-08"
          ],
          [
           "0",
           "2019-08-04"
          ],
          [
           "0",
           "2019-08-01"
          ],
          [
           "0",
           "2019-07-31"
          ],
          [
           "0",
           "2019-07-31"
          ],
          [
           "0",
           "2019-07-29"
          ],
          [
           "0",
           "2019-07-22"
          ],
          [
           "0",
           "2019-07-22"
          ],
          [
           "0",
           "2019-07-15"
          ],
          [
           "0",
           "2019-07-08"
          ],
          [
           "0",
           "2019-07-04"
          ],
          [
           "0",
           "2019-06-30"
          ],
          [
           "0",
           "2019-06-27"
          ],
          [
           "0",
           "2019-06-24"
          ],
          [
           "0",
           "2019-06-20"
          ],
          [
           "0",
           "2019-06-17"
          ],
          [
           "0",
           "2019-06-13"
          ],
          [
           "0",
           "2019-06-13"
          ]
         ],
         "hoverlabel": {
          "namelength": 0
         },
         "hovertemplate": "<b>%{hovertext}</b><br><br>Hierarchical=%{customdata[0]}<br>source=CNN<br>pc1=%{x}<br>pc3=%{y}<br>date=%{customdata[1]}",
         "hovertext": [
          "Human Rights Watch head says he was denied entry to",
          "Nearly 2 million adults are estimated to have shown symptoms",
          "Hong Kong protest fallout hits HSBC and the London Stock",
          "Grand Theft Auto V becomes latest battleground of Hong Kong",
          "From an extradition bill to a political crisis: A guide",
          "Chinese government cuts US Democratic debate feed during Xinjiang discussion",
          "Foreign experts in Hong Kong leave inquiry into police brutality",
          "China bans US military visits to Hong Kong in response",
          "Trump's risky move on Hong Kong",
          "Former British consulate worker says he was tortured in China",
          "Tencent vs. Alibaba: Why one Chinese titan is slumping while",
          "Blizzard accepts 'accountability' over Hong Kong controversy, but gamers still",
          "Blizzard apologizes following Hong Kong controversy amid gamer protests",
          "Hong Kong activist Joshua Wong banned from running in local",
          "Chinese #MeToo activist and journalist who joined Hong Kong protests",
          "Murder suspect whose alleged crime sparked Hong Kong protests walks",
          "West is paying the price for supporting Hong Kong riots,",
          "Blizzard bans a college esports team for holding a \"Free",
          "LeBron James says NBA exec was 'misinformed' in his tweet",
          "China President Xi Jinping's balancing act over Hong Kong",
          "Blizzard said it will return prize money to Hong Kong",
          "US Sen. Ted Cruz rips Beijing 'dictatorship' during Hong Kong",
          "Apple CEO Tim Cook defends decision to remove an app",
          "Google pulls Hong Kong protest role-playing app",
          "Apple removes Quartz app in China",
          "The NBA is feeling China's wrath. Here's what other businesses",
          "Apple removes app used by Hong Kong protesters to track",
          "US businesses are trying to please America and China. That's",
          "NBA postpones Shanghai press event amid worsening spat with China",
          "ESPN faces criticism over its coverage of Hong Kong tweet",
          "Man shot with live round in major escalation of Hong",
          "5 things to know for September 30: Whistleblower, Jamal Khashoggi,",
          "A FedEx pilot was arrested by Chinese authorities",
          "Hong Kong horse races canceled over fears of political unrest",
          "Hong Kong protests are growing smaller but more violent and",
          "Hong Kong's leader warns US and other countries not to",
          "Be wary, investors: the Hong Kong protests still threaten world",
          "Hong Kong protesters march to US Consulate to call for",
          "After a summer of being tear gassed, can Hong Kong",
          "China's top diplomat says Hong Kong protests are city's worst",
          "A gun shot, petrol bombs and water cannons mark violent",
          "Twitter cracks down on state media after unveiling Chinese campaign",
          "Hong Kong protests send a message Americans can hear loud",
          "'Big 4' accounting firms are on the defensive over Hong",
          "The man taking on Hong Kong from deep inside China's",
          "The week that Cathay Pacific surrendered to China",
          "Hong Kong protests: Trump offers to meet with China's Xi",
          "Beijing says Hong Kong protests 'show signs of terrorism.' If",
          "Hong Kong protests have reached a point of no return",
          "Cathay Pacific says it could fire staff who support Hong",
          "Hong Kong isn't just battling on the streets: There is",
          "United States becomes latest country to issue travel advisory over",
          "Start your Monday smart: Here's what's happening this week",
          "Hong Kong protests: Head of China's military garrison condemns violence",
          "China is blaming the US for the Hong Kong protests.",
          "Girl, 16, among 44 people charged with rioting in Hong",
          "Beijing to speak out after weeks of Hong Kong protests",
          "Hong Kong protests: Night of violence shocks city after seventh",
          "Hong Kong protests: Dramatic images of destruction draw both criticism",
          "Hong Kong's summer of dissent: After five weeks of protest,",
          "Hong Kong protesters take to Kowloon, in bid to appeal",
          "Diplomatic spat between UK and China after Beijing slams London's",
          "Start your Monday smart: Hong Kong, Putin & the Pope,",
          "Nike pulls products in China after designer sparks social media",
          "Beijing says it won't allow Hong Kong to be brought",
          "That viral photo of the Hong Kong protests is not",
          "Joshua Wong released from prison day after hundreds of thousands",
          "Hong Kong protests: Two people in serious condition with legislature",
          "Telegram reports powerful cyberattack from China during Hong Kong protests"
         ],
         "legendgroup": "Hierarchical=0, source=CNN",
         "marker": {
          "color": "green",
          "opacity": 0.8,
          "symbol": "cross"
         },
         "mode": "markers",
         "name": "Hierarchical=0, source=CNN",
         "showlegend": true,
         "type": "scattergl",
         "x": [
          -0.00027622446463521517,
          -1.7017689539268017,
          -3.536886491866096,
          1.0073146653992313,
          0.9753118746316264,
          0.12775328798430682,
          -0.027636225424474758,
          2.893562092738923,
          0.9708725687258123,
          1.6471139465349944,
          -2.732042080204868,
          -0.05162139995639045,
          1.3130222166356298,
          1.8431584872656503,
          -0.31506815471714505,
          -1.9404476637563095,
          -0.014840259844897724,
          0.7775531200642165,
          0.7632258134326331,
          -0.01609687723782799,
          0.37062671214068443,
          2.448985340110256,
          0.5547056324000877,
          0.12411338065313757,
          0.4629665757137487,
          0.9280062164864038,
          0.4629502671113049,
          -1.2778876954438754,
          0.6163588579597457,
          -0.3075744966306588,
          -0.583471378701202,
          -0.2729383983739008,
          -1.2624927048184096,
          -1.8302147030795415,
          -0.18768050544526815,
          0.2602510953442909,
          -1.2750397008793597,
          -0.8117534254937682,
          -0.4101876164180423,
          0.365053402786462,
          -0.5276073653569591,
          0.6099538165309174,
          -0.3416759011459124,
          0.08330169667792438,
          0.19285773663320832,
          -2.613051963614893,
          -0.5876456289695524,
          -0.20414774986131337,
          -2.136841556119787,
          0.18025827779868736,
          -0.1052323020690775,
          -0.1694887648871825,
          -0.3619157139804974,
          0.9807980774330918,
          -0.116786133060616,
          -0.2939935963903955,
          -0.22138434795720321,
          0.8500330270900729,
          1.4832485134704059,
          0.5379191348249348,
          2.330753229053113,
          2.11354557471163,
          0.10343527743540806,
          -0.7265378899753637,
          0.5495377898965185,
          0.7465221271227197,
          1.2990634627602393,
          0.07073121525753374,
          -0.3386377133594802
         ],
         "xaxis": "x",
         "y": [
          -0.24114751997182327,
          -1.1007911847868854,
          1.118751457203755,
          5.687440877586211,
          -0.6251871589783617,
          9.161454357952904,
          3.9032297789540613,
          3.991734220823891,
          4.78027475670265,
          6.400977321391807,
          0.8144001610543044,
          4.94017443852526,
          7.378242966856077,
          2.07465654698759,
          3.258253675610817,
          0.6826862493322873,
          2.49351210424271,
          5.18767300832564,
          5.35739240623977,
          0.1393229973618013,
          4.101353730760351,
          4.337872306957923,
          1.9591661314866144,
          2.67289408984224,
          1.5096341873474852,
          -0.15852511216820667,
          1.1063769599961417,
          0.860579298629556,
          4.001761533170405,
          3.077442234677362,
          -4.899511538197941,
          -0.7227766570578901,
          -0.1514013418886226,
          0.23238337677525583,
          -3.7028104268644007,
          -0.4262644950715182,
          -0.11316707838203566,
          -1.2840034584746658,
          -1.751483746051462,
          -0.2334999993500006,
          -3.6617068630616845,
          10.007190621314246,
          0.9982975420214987,
          1.443493093469108,
          2.9448044505157687,
          0.4287939594888241,
          1.6635515461408397,
          0.2358936943719025,
          -1.6263017733607124,
          3.041915959798429,
          1.4334661144430316,
          2.2706641150295273,
          -1.325890813441914,
          -1.473769662177765,
          5.00550430648393,
          -1.4095641158679417,
          -2.352931837930098,
          -1.1125901694552478,
          -2.1867599419335026,
          -2.2660006692450927,
          -2.022728488988478,
          4.329100520151673,
          -1.1385020522522242,
          2.356628710970651,
          1.7756634003002112,
          4.547980504692948,
          4.111200779363052,
          -3.416018545445389,
          3.1237301667175794
         ],
         "yaxis": "y"
        },
        {
         "customdata": [
          [
           "1",
           "2020-03-15"
          ],
          [
           "1",
           "2020-03-04"
          ],
          [
           "1",
           "2020-02-24"
          ],
          [
           "1",
           "2020-02-22"
          ],
          [
           "1",
           "2020-01-14"
          ],
          [
           "1",
           "2020-01-06"
          ],
          [
           "1",
           "2020-01-03"
          ],
          [
           "1",
           "2020-01-02"
          ],
          [
           "1",
           "2019-12-11"
          ],
          [
           "1",
           "2019-12-07"
          ],
          [
           "1",
           "2019-12-04"
          ],
          [
           "1",
           "2019-11-25"
          ],
          [
           "1",
           "2019-11-05"
          ],
          [
           "1",
           "2019-11-05"
          ],
          [
           "1",
           "2019-10-31"
          ],
          [
           "1",
           "2019-10-23"
          ],
          [
           "1",
           "2019-10-17"
          ],
          [
           "1",
           "2019-10-14"
          ],
          [
           "1",
           "2019-10-13"
          ],
          [
           "1",
           "2019-10-07"
          ],
          [
           "1",
           "2019-09-28"
          ],
          [
           "1",
           "2019-09-26"
          ],
          [
           "1",
           "2019-09-14"
          ],
          [
           "1",
           "2019-09-10"
          ],
          [
           "1",
           "2019-08-08"
          ],
          [
           "1",
           "2019-07-23"
          ]
         ],
         "hoverlabel": {
          "namelength": 0
         },
         "hovertemplate": "<b>%{hovertext}</b><br><br>Hierarchical=%{customdata[0]}<br>source=SCMP<br>pc1=%{x}<br>pc3=%{y}<br>date=%{customdata[1]}",
         "hovertext": [
          "Senior adviser to Beijing lashes out at ‘insufficient’ Hong Kong",
          "Prosecutors ask appeal court to jail Hong Kong protester who",
          "Hong Kong lawmaker targets taxi driver who hit anti-government protesters",
          "Hong Kong police caught up in coronavirus crisis after first",
          "Hong Kong’s chief justice sets up task force to speed",
          "Top Hong Kong officials condemn vandalism of High Court and",
          "Man jailed for a year over possession of petrol bombs",
          "Two top legal bodies in Hong Kong express outrage over",
          "Hong Kong mask ban lifted: court refuses government request to",
          "New Hong Kong police chief Chris Tang tells top Beijing",
          "Chinese, US generals vow to manage military differences, like South",
          "Hong Kong mask law: government lodges appeal against court ruling",
          "Taiwanese robbery suspect flees Hong Kong in echoes of Chan",
          "China’s Xi Jinping meets Hong Kong leader, backs Carrie Lam’s",
          "Special measures being looked at to help businesses tackle insurance",
          "Another legal blunder by Hong Kong prosecutors sees charges dropped",
          "In rare, ‘significant’ move, Hong Kong judiciary appoints two judges",
          "Criminal lawyer Edwin Choy opens up on resignation from Hong",
          "Hong Kong chief secretary appeals to opposition lawmakers to cooperate",
          "Hong Kong court rejects second attempt to get mask ban",
          "Hong Kong announces HK$1.4 billion package to help needy amid",
          "US bill on Hong Kong democracy, which has angered China,",
          "Can the Lands Resumption Ordinance offer a way out of",
          "New Zealand MP Simon Bridges defends Beijing visit, interview with",
          "Hong Kong protester accused of defacing city’s famous clock tower",
          "Hong Kong protest organisers lose appeal over shortened route for"
         ],
         "legendgroup": "Hierarchical=1, source=SCMP",
         "marker": {
          "color": "blue",
          "opacity": 0.8,
          "symbol": "circle"
         },
         "mode": "markers",
         "name": "Hierarchical=1, source=SCMP",
         "showlegend": true,
         "type": "scattergl",
         "x": [
          2.2477623037460073,
          4.197861440988019,
          1.937171966213656,
          2.2922225584305873,
          4.138784691782299,
          3.5649785998042276,
          3.885547287547342,
          2.75285788774032,
          5.8523659158436345,
          2.1942222586465654,
          6.342418669409771,
          3.4313866337074286,
          3.306356959603698,
          3.892162282989199,
          2.522595034456203,
          3.0290151226678432,
          5.1627266869768516,
          2.0211191371741393,
          7.8279775725653025,
          2.118260872319733,
          2.8819407535369614,
          2.2919375906805555,
          2.429711114727591,
          3.8667701263448166,
          3.27121426616226,
          2.0104469020409566
         ],
         "xaxis": "x",
         "y": [
          -0.23439488197283473,
          0.4866365547482616,
          -0.5952864500609206,
          0.2286531670204082,
          -0.6447213113323266,
          -0.5905058932995317,
          -0.5119816439971427,
          -0.39764258304995964,
          -0.002486357760993623,
          -1.2721413890288769,
          0.4943765474351597,
          1.2306574433935462,
          0.5649392584855583,
          0.8620642700346018,
          -0.7591571089487068,
          -0.2442633814793844,
          0.6047374460498683,
          -0.20884376456835177,
          0.6461428082469991,
          -0.3532186676239476,
          -1.128640880739217,
          -0.0108028173504342,
          0.6233801867307756,
          1.719567120658046,
          0.9172309386769936,
          -0.4212446527634761
         ],
         "yaxis": "y"
        },
        {
         "customdata": [
          [
           "1",
           "2020-03-18"
          ],
          [
           "1",
           "2020-01-16"
          ],
          [
           "1",
           "2020-01-04"
          ],
          [
           "1",
           "2019-12-12"
          ],
          [
           "1",
           "2019-11-27"
          ],
          [
           "1",
           "2019-11-28"
          ],
          [
           "1",
           "2019-11-28"
          ],
          [
           "1",
           "2019-11-26"
          ],
          [
           "1",
           "2019-11-18"
          ],
          [
           "1",
           "2019-10-18"
          ],
          [
           "1",
           "2019-10-16"
          ],
          [
           "1",
           "2019-09-18"
          ],
          [
           "1",
           "2019-08-29"
          ],
          [
           "1",
           "2019-08-14"
          ],
          [
           "1",
           "2019-08-12"
          ],
          [
           "1",
           "2019-08-09"
          ],
          [
           "1",
           "2019-08-09"
          ],
          [
           "1",
           "2019-08-07"
          ],
          [
           "1",
           "2019-08-06"
          ],
          [
           "1",
           "2019-07-29"
          ],
          [
           "1",
           "2019-07-07"
          ],
          [
           "1",
           "2019-07-04"
          ],
          [
           "1",
           "2019-06-18"
          ],
          [
           "1",
           "2019-06-12"
          ],
          [
           "1",
           "2019-06-09"
          ],
          [
           "1",
           "2019-06-08"
          ]
         ],
         "hoverlabel": {
          "namelength": 0
         },
         "hovertemplate": "<b>%{hovertext}</b><br><br>Hierarchical=%{customdata[0]}<br>source=Reuters<br>pc1=%{x}<br>pc3=%{y}<br>date=%{customdata[1]}",
         "hovertext": [
          "Exclusive: China's internal security force on frontlines of Hong Kong",
          "'One country, two systems' can continue beyond 2047: Hong Kong",
          "China replaces head of Hong Kong liaison office amid ongoing",
          "Enact refugee law to help Hong Kong, Taiwan presidential hopeful",
          "Trump approves legislation backing Hong Kong protesters",
          "Trump signs Hong Kong bills; Beijing vows retaliation: Now what?",
          "EXPLAINER-Trump signs Hong Kong bills; Beijing vows retaliation: Now what?",
          "Exclusive: China sets up Hong Kong crisis center in mainland,",
          "China accuses Britain of taking sides in Hong Kong protests",
          "U.S. lawmakers urge Apple to restore HKMap app used in",
          "China says U.S. House should stop interfering in Hong Kong",
          "Top U.S. diplomat for Asia welcomes plans for Hong Kong",
          "China's defense ministry says Hong Kong protests must respect law",
          "Cathay Pacific says has fired two pilots over Hong Kong",
          "U.S. Senate leader: Any violent crackdown in Hong Kong would",
          "Britain calls for independent investigation into Hong Kong protests",
          "China orders Cathay Pacific to suspend staff backing Hong Kong",
          "Hong Kong facing worst crisis since handover: senior China official",
          "China warns Hong Kong protesters not to 'play with fire'",
          "Beijing reiterates support for Hong Kong's Lam, police",
          "China's envoy to Britain laments 'Cold War mentality' over Hong",
          "Britain denies supporting violent Hong Kong protests as China media",
          "Many in Hong Kong, fearful of China's grasp, flee to",
          "Why proposed changes to Hong Kong's extradition law fueled protests",
          "Hong Kong protests against extradition law spill into Sydney",
          "Huge Hong Kong protest expected in last push to scrap"
         ],
         "legendgroup": "Hierarchical=1, source=Reuters",
         "marker": {
          "color": "blue",
          "opacity": 0.8,
          "symbol": "diamond"
         },
         "mode": "markers",
         "name": "Hierarchical=1, source=Reuters",
         "showlegend": true,
         "type": "scattergl",
         "x": [
          6.114822847346972,
          2.74962977100031,
          6.473812144053969,
          2.713324436433613,
          3.34904550809392,
          3.567171833949577,
          3.567171833949577,
          3.727269020183875,
          5.692729305663415,
          2.4401924707421094,
          2.9852540048196445,
          2.8085053640578654,
          2.8760149031673388,
          2.531267446123107,
          2.820677707145636,
          4.687752405473838,
          2.672211632615258,
          5.394294844721258,
          3.6034939925229206,
          4.322233566090555,
          3.298620164818207,
          3.7505771358985442,
          3.317683687801525,
          4.515010540820523,
          3.611443881009463,
          2.3106091522284893
         ],
         "xaxis": "x",
         "y": [
          -0.02211649400595001,
          0.3190316364558598,
          1.4667521232469793,
          0.1706149098066882,
          1.0966994164381243,
          0.7673616958426477,
          0.7673616958426477,
          0.26322229692608834,
          0.23998089755146407,
          0.06721141266788618,
          -0.7383907551824377,
          0.5437587783301358,
          -0.37226570313747515,
          0.0946583496241197,
          2.639340408585056,
          -0.47627074391930735,
          -0.2150085372172846,
          0.5520271126747018,
          -0.7973957224562751,
          -1.3102493308972996,
          1.825175672933644,
          0.699255554294879,
          -1.6539793808901706,
          -0.37081913576149367,
          1.5553444249457478,
          0.5737118899847745
         ],
         "yaxis": "y"
        },
        {
         "customdata": [
          [
           "1",
           "2019-11-18"
          ],
          [
           "1",
           "2019-10-17"
          ],
          [
           "1",
           "2019-09-27"
          ],
          [
           "1",
           "2019-10-23"
          ],
          [
           "1",
           "2019-09-02"
          ],
          [
           "1",
           "2019-08-09"
          ],
          [
           "1",
           "2019-12-05"
          ],
          [
           "1",
           "2019-12-03"
          ],
          [
           "1",
           "2019-12-02"
          ],
          [
           "1",
           "2019-12-02"
          ],
          [
           "1",
           "2019-11-19"
          ],
          [
           "1",
           "2019-08-23"
          ],
          [
           "1",
           "2019-08-06"
          ],
          [
           "1",
           "2019-08-05"
          ],
          [
           "1",
           "2019-07-24"
          ],
          [
           "1",
           "2019-11-26"
          ],
          [
           "1",
           "2019-11-22"
          ],
          [
           "1",
           "2019-11-20"
          ],
          [
           "1",
           "2019-11-16"
          ],
          [
           "1",
           "2019-11-11"
          ],
          [
           "1",
           "2020-01-02"
          ],
          [
           "1",
           "2019-11-08"
          ],
          [
           "1",
           "2019-09-04"
          ],
          [
           "1",
           "2019-08-22"
          ],
          [
           "1",
           "2019-08-21"
          ],
          [
           "1",
           "2019-08-17"
          ],
          [
           "1",
           "2019-08-15"
          ],
          [
           "1",
           "2019-08-10"
          ],
          [
           "1",
           "2019-07-21"
          ],
          [
           "1",
           "2019-07-03"
          ],
          [
           "1",
           "2020-02-20"
          ],
          [
           "1",
           "2019-11-27"
          ],
          [
           "1",
           "2019-11-20"
          ],
          [
           "1",
           "2019-09-28"
          ],
          [
           "1",
           "2019-09-20"
          ],
          [
           "1",
           "2019-09-02"
          ],
          [
           "1",
           "2020-03-01"
          ],
          [
           "1",
           "2019-10-17"
          ],
          [
           "1",
           "2019-08-05"
          ],
          [
           "1",
           "2019-09-26"
          ],
          [
           "1",
           "2019-08-20"
          ],
          [
           "1",
           "2019-08-16"
          ],
          [
           "1",
           "2019-08-15"
          ],
          [
           "1",
           "2019-08-08"
          ],
          [
           "1",
           "2019-08-04"
          ],
          [
           "1",
           "2019-08-01"
          ],
          [
           "1",
           "2019-11-12"
          ],
          [
           "1",
           "2020-01-10"
          ],
          [
           "1",
           "2019-11-29"
          ],
          [
           "1",
           "2019-11-21"
          ],
          [
           "1",
           "2019-08-09"
          ],
          [
           "1",
           "2019-11-14"
          ],
          [
           "1",
           "2020-01-06"
          ],
          [
           "1",
           "2019-11-15"
          ],
          [
           "1",
           "2019-12-17"
          ],
          [
           "1",
           "2019-11-05"
          ],
          [
           "1",
           "2019-11-20"
          ],
          [
           "1",
           "2019-12-17"
          ],
          [
           "1",
           "2019-11-28"
          ],
          [
           "1",
           "2019-08-05"
          ],
          [
           "1",
           "2019-07-03"
          ],
          [
           "1",
           "2019-12-06"
          ],
          [
           "1",
           "2019-07-03"
          ],
          [
           "1",
           "2019-08-15"
          ],
          [
           "1",
           "2019-07-19"
          ],
          [
           "1",
           "2019-12-20"
          ],
          [
           "1",
           "2019-07-29"
          ],
          [
           "1",
           "2019-12-01"
          ],
          [
           "1",
           "2019-12-22"
          ],
          [
           "1",
           "2019-08-16"
          ],
          [
           "1",
           "2019-09-10"
          ],
          [
           "1",
           "2019-08-07"
          ],
          [
           "1",
           "2019-07-22"
          ],
          [
           "1",
           "2019-09-05"
          ],
          [
           "1",
           "2019-06-16"
          ],
          [
           "1",
           "2019-08-10"
          ],
          [
           "1",
           "2019-12-06"
          ],
          [
           "1",
           "2019-08-16"
          ],
          [
           "1",
           "2019-07-29"
          ],
          [
           "1",
           "2019-07-11"
          ],
          [
           "1",
           "2019-08-04"
          ],
          [
           "1",
           "2019-08-21"
          ],
          [
           "1",
           "2019-10-06"
          ],
          [
           "1",
           "2019-12-08"
          ],
          [
           "1",
           "2019-12-16"
          ],
          [
           "1",
           "2019-07-23"
          ],
          [
           "1",
           "2019-08-11"
          ],
          [
           "1",
           "2019-12-27"
          ],
          [
           "1",
           "2019-10-07"
          ],
          [
           "1",
           "2019-12-26"
          ],
          [
           "1",
           "2019-08-25"
          ],
          [
           "1",
           "2019-09-29"
          ]
         ],
         "hoverlabel": {
          "namelength": 0
         },
         "hovertemplate": "<b>%{hovertext}</b><br><br>Hierarchical=%{customdata[0]}<br>source=CCTV<br>pc1=%{x}<br>pc3=%{y}<br>date=%{customdata[1]}",
         "hovertext": [
          "Pompeo's hypocritical face on Hong Kong",
          "Washington's Hong Kong act will have a boomerang effect",
          "U.S. interference in Hong Kong will backfire",
          "Chinese FM denounces violence, foreign interference in Hong Kong",
          "Violence in Hong Kong must end now",
          "Hong Kong developers' group condemns violence",
          "Hong Kong chief executive: 'One Country' is premise of 'Two",
          "China takes countermeasures after U.S. signs Hong Kong act",
          "China takes countermeasures after U.S. signing of Hong Kong bill",
          "People of different circles slam U.S. on Hong Kong-related act",
          "Murderous violence in Hong Kong 'must not be tolerated': China's",
          "Washington’s prejudice over Hong Kong is a judgement on itself",
          "Mainland spokesperson: Chaos must be stopped in Hong Kong",
          "Commentary: Bottom line on Hong Kong brooks no challenge",
          "No external forces allowed to disrupt Hong Kong: spokesperson",
          "Lion Rock Spirit needed for Hong Kong to stop violence,",
          "Backlash grows stronger against U.S. passage of Hong Kong-related legislation",
          "Hong Kong court ruling unconvincing, unhelpful for stopping violence: legal",
          "Spokesperson: Xi Jinping's remarks point way to stabilizing Hong Kong",
          "Hong Kong, Macao affairs chief reiterates patriots' principal role in",
          "Commissioner's office of Chinese foreign ministry in HKSAR slams foreign",
          "Central gov't spokesperson strongly condemns knife attack against Hong Kong",
          "Spokesperson condemns criminality by small number of rioters in Hong",
          "China calls for objective, fair position on Hong Kong situation",
          "Spokesperson slashes foreign meddling in Russia, Hong Kong affairs",
          "China responds to U.S. remarks on Hong Kong: FM spokesperson",
          "China has zero tolerance for foreign meddling in Hong Kong",
          "PLA garrison in Hong Kong holds blood donation activity",
          "Residents of China's Hong Kong rally to appeal for peace,",
          "China opposes other countries' interference in Hong Kong affairs",
          "106 Hong Kong residents aboard virus-hit cruise brought home by",
          "Senior Chinese official opposes, condemns U.S. Congress passing Hong Kong-related",
          "China expresses strong condemnation against U.S. Senate's passing of Hong",
          "British official's remarks on Hong Kong \"irresponsible,\" says Chinese embassy",
          "China urges U.S. to immediately stop interfering in Hong Kong",
          "China slams some U.S. politicians' remarks about Hong Kong",
          "Commissioner's office of Chinese foreign ministry urges U.S. to stop",
          "Principal official of liaison office of China's central gov't in",
          "Central government strongly condemns flag-insulting acts by radicals in Hong",
          "China strongly opposes U.S. congressional committees' passing of Hong Kong-related",
          "Hong Kong gov't to start work immediately on building platform",
          "Foreign forces must stop interfering in Hong Kong's affairs: Chinese",
          "Leung Chun-ying urges Hong Kong residents to help bring radicals",
          "Hong Kong's most urgent task is to stop violence, end",
          "Hong Kong society strongly condemns act of flinging Chinese national",
          "No compromise with \"black sheep\" attempting to disrupt Hong Kong's",
          "Carrie Lam: Violence is relentlessly destroying HK society",
          "Central govt will continue to support HKSAR govt: Luo",
          "Chinese Defense Ministry: PLA HK Garrison capable of safeguarding sovereignty",
          "China summons U.S. Embassy official to lodge protest against U.S.",
          "Commissioner's office of China's foreign ministry in HK lodges representations",
          "Officials: Violence will never prevail in HKSAR",
          "'One Country, Two Systems' HK's greatest advantage: New head of",
          "Xi says HK's most pressing task is to end violence,",
          "Xi meets with HKSAR chief executive",
          "Xi meets HKSAR chief executive",
          "Liaison office of China's central gov't in HKSAR says NPC",
          "Premier Li meets with HKSAR chief executive",
          "HK govt, Chinese Foreign Ministry strongly opposes U.S. move to",
          "HKSAR gov't says protests beyond rational limit, not to condone",
          "Attempts to interfere in China's internal affairs will never succeed",
          "Ambassador Cui decries distortion of facts in portraying HK, Xinjiang",
          "Protesters' storming of HK govt building condemned",
          "HK violence condemned by overseas specialists",
          "China strongly opposes European Parliament's interference in HK issue",
          "Central government fully supports HKSAR's future work plan: Xi",
          "HKSAR gov't strongly condemns radical protesters' violent acts, at least",
          "Washington's egoistic double standard on human rights",
          "China says relevant U.S. defense act clauses blatantly interfered in",
          "Commissioner's office of Chinese foreign ministry in HK criticizes foreign",
          "Officials, residents condemn MTR vandalism",
          "HK people urged to stop violence and chaos, bring back",
          "HKSAR gov't strongly condemns protesters' storming of liaison office of",
          "Carrie Lam announces formal withdrawal of fugitive bill",
          "HKSAR chief executive announces suspension of fugitive law amendments, promises",
          "Commissioner's office of China's foreign ministry in HK denounces \"gangster",
          "China Islamic Association denounces U.S. House approval of Xinjiang bill",
          "Upholding rule of law only way to make things right",
          "HK people urged to resolutely defend rule of law",
          "China warns against foreign interference in its internal affairs",
          "A prosperous, stable HK conducive to betterment of int'l community",
          "Canada urged to stop interfering in China's internal affairs",
          "HKSAR chief executive vows greatest resolve to end violence",
          "Senior Chinese official opposes, condemns U.S. interference in China's internal",
          "Macao, mainland's 20-year journey of shared development",
          "HKSAR chief executive condemns violent acts, calls for upholding rule",
          "Beijing asks London to stop interfering in HK",
          "Chinese military spokesperson urges U.S. not to implement negative fiscal",
          "Xi extends Seniors' Day greetings",
          "Beijing: Taiwan's compatriots suffer from DPP's 'green terror'",
          "HKSAR chief executive calls for dialogue to solve problems",
          "Top political advisor calls for broadest patriotic united front at"
         ],
         "legendgroup": "Hierarchical=1, source=CCTV",
         "marker": {
          "color": "blue",
          "opacity": 0.8,
          "symbol": "square"
         },
         "mode": "markers",
         "name": "Hierarchical=1, source=CCTV",
         "showlegend": true,
         "type": "scattergl",
         "x": [
          3.8548274875571886,
          1.7047891657034828,
          7.841976853978849,
          4.098395460570236,
          5.72043622168083,
          4.794126701017729,
          13.018840070587547,
          2.2789105662872755,
          6.543119919180939,
          8.134358518223905,
          5.704755859352145,
          2.13078919881098,
          5.341984950283551,
          8.577538593126878,
          11.846588786652354,
          2.4467449488190076,
          1.647568337619577,
          7.733102222324045,
          15.354120782457448,
          16.902666487582692,
          9.132783551024598,
          14.51366467267091,
          10.397778642053604,
          8.919478849156977,
          5.0067819659319825,
          3.0222082524200333,
          6.835497997474273,
          4.7292138244366715,
          4.770217517088381,
          3.2213323653248715,
          3.3602271115247166,
          10.54694220878653,
          13.651899019474737,
          11.894357582994273,
          5.527442304807611,
          14.92267654950674,
          6.550177951645381,
          8.233933061239899,
          9.477627735748115,
          14.97073962754168,
          6.365384471855552,
          6.686014121206574,
          6.853791103949468,
          6.8976523638857605,
          4.50119666524029,
          10.36836448221991,
          6.170092392981596,
          11.007250745511525,
          3.885138763822137,
          5.05836804303604,
          7.1274091265630535,
          4.653891637878768,
          7.67871010816789,
          8.58758428973773,
          6.202410464534389,
          14.338387342124623,
          6.674530965688924,
          8.371781155284422,
          13.57398363687056,
          11.144325446112557,
          9.94261511506713,
          5.156286600486733,
          12.37196134693779,
          9.77116563473181,
          8.65851301886885,
          5.37888047145661,
          4.331197127878466,
          2.7801984144455387,
          6.069813240273879,
          4.002961144861469,
          3.649283112890361,
          13.556293433525399,
          5.009919084837385,
          7.340027623348779,
          12.387837437171685,
          4.406025501465714,
          7.628475672261912,
          14.231329297614716,
          6.23850608255387,
          6.623160803528256,
          5.148425378359267,
          9.45963609468557,
          9.126346358992084,
          5.225456184618851,
          6.057741746806312,
          3.660053486262355,
          3.993465874521478,
          6.368039404958252,
          3.151808700026947,
          5.023373523559534,
          8.285141249122022,
          10.803020395168899
         ],
         "xaxis": "x",
         "y": [
          0.3145105978538111,
          1.0133295858964129,
          0.5609315033997829,
          -1.8190063944649488,
          -0.7422841754194289,
          -0.4480512548897633,
          0.7746751368571875,
          0.8143970898082714,
          -0.18383006238603897,
          0.7623551491376949,
          -1.1980623456128834,
          0.5839040164130345,
          0.3197157515687945,
          -0.12573723128631717,
          2.0282361920204246,
          1.0941975899236378,
          0.9828895392093114,
          0.39758039835077325,
          0.9982864992801207,
          1.3362996248139853,
          0.1943303272488091,
          0.7968502399546127,
          0.3318865388262484,
          -0.08084897069089886,
          2.5155646834996928,
          0.7262734239167924,
          1.9520405161422576,
          0.8958282597512259,
          -1.520705802270747,
          0.5288440815474327,
          0.803715752617498,
          0.7936547513206796,
          0.8504819550692162,
          0.7913233562757117,
          0.030961970479596538,
          1.0499812584046373,
          0.8849321161907185,
          0.7281698910118756,
          0.5658284646592998,
          1.2425378598955727,
          0.32477646396903354,
          1.2969438718832689,
          0.10333260704781658,
          0.2846601443945876,
          0.09000293178774908,
          0.5161406205228335,
          -1.5778471016518065,
          0.42333599184751497,
          -0.8455165918124805,
          1.3377459755957957,
          -0.09565878744783901,
          -0.45966875313505506,
          1.1547034519854185,
          0.7825501896126521,
          0.2756295112396719,
          0.961809983466437,
          0.4108096868549807,
          0.28421037757206724,
          0.8213629424064592,
          0.5492427081200005,
          0.28219246928106506,
          1.6495719538000526,
          0.20239661728657293,
          0.5984064185131013,
          -0.4454311841485016,
          -0.07780219768324699,
          -1.6517489236590106,
          1.74448631231381,
          1.1646010384441785,
          0.7650334522726604,
          -1.1683966054902708,
          1.4470835766195091,
          -0.3483286723301355,
          -0.11996397104178791,
          0.932571545962161,
          -0.33378534373517915,
          -0.16418514059774938,
          1.5545766388093851,
          -0.22787904183363047,
          0.39456078214612456,
          -0.409172609534139,
          0.20888225106983938,
          -0.08201479003007182,
          0.06045321532798154,
          1.09113998383333,
          0.8490618260683749,
          0.4130521212970484,
          1.7494248172871258,
          0.20801161576347924,
          0.5991133634799536,
          0.35875744240063967,
          1.672500873351811
         ],
         "yaxis": "y"
        },
        {
         "customdata": [
          [
           "1",
           "2019-11-05"
          ]
         ],
         "hoverlabel": {
          "namelength": 0
         },
         "hovertemplate": "<b>%{hovertext}</b><br><br>Hierarchical=%{customdata[0]}<br>source=ABC (Australia)<br>pc1=%{x}<br>pc3=%{y}<br>date=%{customdata[1]}",
         "hovertext": [
          "China's Xi Jinping meets Carrie Lam in 'vote of confidence'"
         ],
         "legendgroup": "Hierarchical=1, source=ABC (Australia)",
         "marker": {
          "color": "blue",
          "opacity": 0.8,
          "symbol": "x"
         },
         "mode": "markers",
         "name": "Hierarchical=1, source=ABC (Australia)",
         "showlegend": true,
         "type": "scattergl",
         "x": [
          6.821595030061745
         ],
         "xaxis": "x",
         "y": [
          2.22055891699438
         ],
         "yaxis": "y"
        },
        {
         "customdata": [
          [
           "1",
           "2019-11-30"
          ],
          [
           "1",
           "2019-11-21"
          ],
          [
           "1",
           "2019-10-16"
          ],
          [
           "1",
           "2019-09-12"
          ],
          [
           "1",
           "2019-09-05"
          ],
          [
           "1",
           "2019-07-02"
          ],
          [
           "1",
           "2019-06-17"
          ]
         ],
         "hoverlabel": {
          "namelength": 0
         },
         "hovertemplate": "<b>%{hovertext}</b><br><br>Hierarchical=%{customdata[0]}<br>source=CNN<br>pc1=%{x}<br>pc3=%{y}<br>date=%{customdata[1]}",
         "hovertext": [
          "China arrests two men for alleged involvement in Hong Kong",
          "Beijing vents fury at Washington over Hong Kong Human Rights",
          "Hong Kong leader's policy address abandoned as lawmakers say she",
          "Taiwan warns citizens not to travel to Hong Kong and",
          "Hong Kong government's attempt to outflank protesters is doomed to",
          "Beijing says 'radical' Hong Kong protests are an 'undisguised challenge'",
          "Trump may raise Hong Kong protests with Xi as city"
         ],
         "legendgroup": "Hierarchical=1, source=CNN",
         "marker": {
          "color": "blue",
          "opacity": 0.8,
          "symbol": "cross"
         },
         "mode": "markers",
         "name": "Hierarchical=1, source=CNN",
         "showlegend": true,
         "type": "scattergl",
         "x": [
          4.183339987281974,
          3.577199854886173,
          5.963189330990292,
          3.1711019860448424,
          3.4735774832268516,
          4.431634505127244,
          2.376341102768212
         ],
         "xaxis": "x",
         "y": [
          0.3926561504411496,
          2.4999839630453113,
          0.5288706341519801,
          0.5142228533914551,
          -1.271868063860953,
          -0.01896620332491603,
          0.4432892329898718
         ],
         "yaxis": "y"
        },
        {
         "customdata": [
          [
           "2",
           "2020-02-17"
          ],
          [
           "2",
           "2020-02-16"
          ],
          [
           "2",
           "2020-01-30"
          ],
          [
           "2",
           "2020-01-08"
          ],
          [
           "2",
           "2020-01-03"
          ],
          [
           "2",
           "2019-12-28"
          ],
          [
           "2",
           "2019-12-17"
          ],
          [
           "2",
           "2019-12-10"
          ],
          [
           "2",
           "2019-12-16"
          ],
          [
           "2",
           "2019-12-03"
          ],
          [
           "2",
           "2019-11-23"
          ],
          [
           "2",
           "2019-11-20"
          ],
          [
           "2",
           "2019-11-18"
          ],
          [
           "2",
           "2019-10-11"
          ],
          [
           "2",
           "2019-10-02"
          ],
          [
           "2",
           "2019-09-30"
          ],
          [
           "2",
           "2019-09-10"
          ],
          [
           "2",
           "2019-09-03"
          ],
          [
           "2",
           "2019-08-25"
          ],
          [
           "2",
           "2019-08-16"
          ],
          [
           "2",
           "2019-08-14"
          ],
          [
           "2",
           "2019-08-09"
          ],
          [
           "2",
           "2019-12-19"
          ],
          [
           "2",
           "2019-08-01"
          ]
         ],
         "hoverlabel": {
          "namelength": 0
         },
         "hovertemplate": "<b>%{hovertext}</b><br><br>Hierarchical=%{customdata[0]}<br>source=SCMP<br>pc1=%{x}<br>pc3=%{y}<br>date=%{customdata[1]}",
         "hovertext": [
          "‘Really scary what I saw in Hong Kong’: EU to",
          "Coronavirus: Hong Kong may see biggest ever budget deficit next",
          "‘Bad timing’: industry experts pan expanded fast-track immigration scheme by",
          "Hong Kong budget deficit will not top 3 per cent",
          "Hong Kong protests continue to batter retail sector as sales",
          "Advisers to public broadcaster RTHK write to Hong Kong government",
          "Hong Kong’s biggest free-to-air broadcaster TVB to lay off 350",
          "At least 5,600 retail jobs to go in Hong Kong",
          "Holiday season brings little cheer for Hong Kong businesses hit",
          "Hong Kong’s Ocean Park going through a more challenging phase",
          "Residential sales remain sluggish as Hong Kong homebuyers ‘stay on",
          "From Maserati importers to newspaper owners, companies warn of falling",
          "No fanfare, no farewell dinner as Hong Kong police chief",
          "MTR Corp and Airport Authority plan to offer rent cuts",
          "Hong Kong retail sales suffer worst decline on record amid",
          "Hong Kong’s tourism industry endures worst August since Sars outbreak",
          "Hong Kong tourism suffers worst downturn since Sars outbreak in",
          "Best month in years for Singapore hotels amid Hong Kong",
          "Hong Kong’s core industries hammered by anti-government protest crisis with",
          "Hong Kong’s economy shrinks worse-than-expected 0.4 per cent in second",
          "Aviation industry expected to suffer losses of more than US$76",
          "Hong Kong’s summer of discontent could lead to ‘chilly winter’",
          "Hongkongers scout properties in Malaysia as political turmoil rumbles on",
          "US-China trade war brings Hong Kong’s economic expansion to near"
         ],
         "legendgroup": "Hierarchical=2, source=SCMP",
         "marker": {
          "color": "red",
          "opacity": 0.8,
          "symbol": "circle"
         },
         "mode": "markers",
         "name": "Hierarchical=2, source=SCMP",
         "showlegend": true,
         "type": "scattergl",
         "x": [
          -3.4539506694239037,
          -6.098509378459572,
          -3.3314803123244285,
          -4.272692716122057,
          -4.497673904672974,
          -3.0671593893620597,
          -3.4646515251798244,
          -3.348449127598521,
          -4.495206045109402,
          -4.072394046920399,
          -3.686160114280037,
          -5.577779104459153,
          -4.77113457170389,
          -4.229500126335919,
          -6.66918152998883,
          -4.271570355072281,
          -3.737555656549689,
          -6.7087948717884975,
          -6.209100016972927,
          -5.038275219607724,
          -4.468293181902268,
          -4.947589381651695,
          -5.490921912605836,
          -6.991733856968647
         ],
         "xaxis": "x",
         "y": [
          0.829159121061903,
          1.2967529532271609,
          0.4451849093033651,
          0.9560421606054442,
          0.9804014257132204,
          1.5812664302795707,
          0.8716450993930404,
          0.8175990760098217,
          0.6308611057252669,
          -0.32512806108828574,
          0.39099630371092753,
          0.3565167425399936,
          0.40509949795454653,
          0.3507531692195097,
          1.416255429663073,
          0.22281512495601863,
          0.3047799754923283,
          1.605672325401041,
          1.1121042855441952,
          1.3170758722890052,
          -0.20622878158793856,
          0.9195971829759546,
          1.6432759934674575,
          1.6119610251087253
         ],
         "yaxis": "y"
        },
        {
         "customdata": [
          [
           "2",
           "2020-02-28"
          ],
          [
           "2",
           "2020-02-17"
          ],
          [
           "2",
           "2020-01-24"
          ],
          [
           "2",
           "2020-01-21"
          ],
          [
           "2",
           "2019-12-06"
          ],
          [
           "2",
           "2019-12-05"
          ],
          [
           "2",
           "2019-12-03"
          ],
          [
           "2",
           "2019-12-02"
          ],
          [
           "2",
           "2019-12-02"
          ],
          [
           "2",
           "2019-12-02"
          ],
          [
           "2",
           "2019-11-29"
          ],
          [
           "2",
           "2019-11-29"
          ],
          [
           "2",
           "2019-11-29"
          ],
          [
           "2",
           "2019-11-29"
          ],
          [
           "2",
           "2019-11-28"
          ],
          [
           "2",
           "2019-11-28"
          ],
          [
           "2",
           "2019-11-28"
          ],
          [
           "2",
           "2019-11-26"
          ],
          [
           "2",
           "2019-11-25"
          ],
          [
           "2",
           "2019-11-22"
          ],
          [
           "2",
           "2019-11-22"
          ],
          [
           "2",
           "2019-11-14"
          ],
          [
           "2",
           "2019-11-14"
          ],
          [
           "2",
           "2019-11-13"
          ],
          [
           "2",
           "2019-11-13"
          ],
          [
           "2",
           "2019-11-13"
          ],
          [
           "2",
           "2019-11-13"
          ],
          [
           "2",
           "2019-11-13"
          ],
          [
           "2",
           "2019-11-13"
          ],
          [
           "2",
           "2019-11-11"
          ],
          [
           "2",
           "2019-11-11"
          ],
          [
           "2",
           "2019-11-11"
          ],
          [
           "2",
           "2019-11-11"
          ],
          [
           "2",
           "2019-11-08"
          ],
          [
           "2",
           "2019-11-06"
          ],
          [
           "2",
           "2019-10-29"
          ],
          [
           "2",
           "2019-10-28"
          ],
          [
           "2",
           "2019-10-28"
          ],
          [
           "2",
           "2019-10-27"
          ],
          [
           "2",
           "2019-10-25"
          ],
          [
           "2",
           "2019-10-25"
          ],
          [
           "2",
           "2019-10-24"
          ],
          [
           "2",
           "2019-10-25"
          ],
          [
           "2",
           "2019-10-24"
          ],
          [
           "2",
           "2019-10-18"
          ],
          [
           "2",
           "2019-10-18"
          ],
          [
           "2",
           "2019-10-18"
          ],
          [
           "2",
           "2019-10-15"
          ],
          [
           "2",
           "2019-10-08"
          ],
          [
           "2",
           "2019-10-02"
          ],
          [
           "2",
           "2019-10-02"
          ],
          [
           "2",
           "2019-09-29"
          ],
          [
           "2",
           "2019-09-12"
          ],
          [
           "2",
           "2019-09-11"
          ],
          [
           "2",
           "2019-09-09"
          ],
          [
           "2",
           "2019-09-05"
          ],
          [
           "2",
           "2019-09-04"
          ],
          [
           "2",
           "2019-09-02"
          ],
          [
           "2",
           "2019-08-28"
          ],
          [
           "2",
           "2019-08-28"
          ],
          [
           "2",
           "2019-08-28"
          ],
          [
           "2",
           "2019-08-26"
          ],
          [
           "2",
           "2019-08-19"
          ],
          [
           "2",
           "2019-08-19"
          ],
          [
           "2",
           "2019-08-16"
          ],
          [
           "2",
           "2019-08-14"
          ],
          [
           "2",
           "2019-08-14"
          ],
          [
           "2",
           "2019-08-14"
          ],
          [
           "2",
           "2019-08-13"
          ],
          [
           "2",
           "2019-08-13"
          ],
          [
           "2",
           "2019-08-13"
          ],
          [
           "2",
           "2019-08-13"
          ],
          [
           "2",
           "2019-08-13"
          ],
          [
           "2",
           "2019-08-13"
          ],
          [
           "2",
           "2019-08-13"
          ],
          [
           "2",
           "2019-08-12"
          ],
          [
           "2",
           "2019-08-12"
          ],
          [
           "2",
           "2019-08-07"
          ],
          [
           "2",
           "2019-08-07"
          ],
          [
           "2",
           "2019-08-01"
          ],
          [
           "2",
           "2019-07-30"
          ],
          [
           "2",
           "2019-07-30"
          ],
          [
           "2",
           "2019-07-18"
          ],
          [
           "2",
           "2019-07-10"
          ],
          [
           "2",
           "2019-06-12"
          ]
         ],
         "hoverlabel": {
          "namelength": 0
         },
         "hovertemplate": "<b>%{hovertext}</b><br><br>Hierarchical=%{customdata[0]}<br>source=Reuters<br>pc1=%{x}<br>pc3=%{y}<br>date=%{customdata[1]}",
         "hovertext": [
          "Breakingviews - Hong Kong property tycoon builds model buyout",
          "Petra Diamonds warns of coronavirus hit as retail stores close",
          "Hong Kong protests weigh on Remy Cointreau Q3 sales",
          "China virus scare sends shudder through European luxury goods sector",
          "Chinese defy Hong Kong's protest gloom in hunt for bargain",
          "U.S. Uighur bill's threat to surveillance economy puts China on",
          "JGBs fall to 7 1/2-month lows after tepid auction",
          "Asian shares eke out third straight monthly gain in November",
          "Burst of social unrest tests emerging market risk models",
          "GLOBAL MARKETS-Global shares tick up as hopes for Sino-U.S. breakthrough",
          "EMERGING MARKETS-EM stocks fall on trade deal doubts; Lira firms",
          "REFILE-GLOBAL MARKETS-Stocks shy from breaking new highs as trade mood",
          "GLOBAL MARKETS-Stocks hesitate just short of new peaks as clouds",
          "GLOBAL MARKETS-Stocks stop short of new peaks as Sino-U.S. tensions",
          "World stocks stall as U.S.-China tensions flare again",
          "GLOBAL MARKETS-World stocks stall as U.S.-China tensions flare again",
          "China stocks end lower as Hong Kong tensions rekindle trade",
          "Abercrombie & Fitch trims forecast as Hollister, international business drag",
          "How LVMH's whirlwind courtship sealed $16 billion Tiffany deal",
          "GLOBAL MARKETS-Global shares inch up, but trade worries linger",
          "GLOBAL MARKETS-Asian shares recover from 3-week lows but trade deal",
          "Natura still struggling with Hong Kong protests, eyes China in",
          "EMERGING MARKETS-Stocks fall as Hong Kong protests go on; Turkish",
          "Asian airlines cancel annual gathering as Hong Kong violence escalates",
          "GLOBAL MARKETS-European shares knocked off four-year highs by Trump speech",
          "EMERGING MARKETS-Shares dip after Trump's trade speech, Hong Kong protests",
          "GLOBAL MARKETS-European shares knocked off four-year highs on Trump speech",
          "Cathay Pacific cuts profit guidance for second time amid Hong",
          "Nikkei slips as Trump speech, Hong Kong unrest dent mood",
          "Defensive stocks help European shares end flat, London lags",
          "FOREX-Euro near 4-week low vs dlr as traders look for",
          "FOREX-Euro hobbles around 4-week low vs dollar as traders look",
          "GLOBAL MARKETS-Asian shares give up gains as HK chaos hits",
          "Richemont hit by Hong Kong protests, online distributor losses",
          "Tod's nine-month sales slip; hit by Italy weakness, Hong Kong",
          "Lancome owner L'Oreal defies Chinese slowdown fears",
          "De Beers banks on 'diamonds are for me'",
          "HSBC warns of restructuring pain ahead as outlook darkens",
          "Hong Kong protests push insurer AIA to worst quarterly new",
          "What slowdown? China's riding to the rescue of luxury brands",
          "GLOBAL MARKETS-Brexit woes, mixed earnings see stocks lose steam, sterling",
          "Kering shares surge as Gucci shines despite Hong Kong protests",
          "GLOBAL MARKETS-Asian shares, sterling falter as Brexit, growth anxiety sap",
          "HSBC, StanChart results to show Hong Kong protests are starting",
          "Holiday Inn-owner IHG hit by weak China, Hong Kong bookings",
          "Cathay Pacific shelves U.S. dollar bond plans amid Hong Kong",
          "Cathay Pacific lowers full-year profit expectations as Hong Kong protests",
          "Hong Kong retail rents fall sharply in Q3 - consultancy",
          "PageGroup warns on annual profit as global problems mount",
          "Investors keep their faith in Hong Kong markets despite protests",
          "World's luxury brands count costs of Hong Kong protests",
          "Hong Kong's sky-high property prices prove resilient in face of",
          "Cathay Pacific freezes new hiring, to focus on cost cuts:",
          "Mainland China sales counter Hong Kong protest hit for Birkin-maker",
          "Japanese stocks end at 5-1/2-week high on global stimulus hopes",
          "Italy's fashion industry expects growth to stall in 2019 then",
          "Hong Kong protests overshadow Merkel trip to China",
          "GLOBAL MARKETS-Stocks slip as new U.S.-China tariffs add to growth",
          "PVH cuts profit and revenue forecast as tariffs, Hong Kong",
          "Tiffany profit tops estimates, Hong Kong and tourism hit sales",
          "Tiffany says sales could miss estimates if Hong Kong protests",
          "WRAPUP 2-China's yuan slumps to 11-year low, stocks fall as",
          "Estee Lauder sees no slowdown in China, forecasts robust fiscal",
          "China's State Council calls for Shenzhen integration with Hong Kong,",
          "FOREX-Dollar holds advantage for now, traders still wary about global",
          "Breakingviews - Western luxury brands’ China dilemma will worsen",
          "Prudential to split by year-end; monitoring Hong Kong protests",
          "Australia shares join global rally as miners bounce, CSL gains",
          "GLOBAL MARKETS-Shares fall after Argentina peso tumble, safe-havens shine",
          "FOREX-Yen and dollar rise as investors seek safety",
          "Hong Kong protests spark capital outflow fears, unnerve markets",
          "GLOBAL MARKETS-Shares shunted after Argentina crash, safe-havens shine",
          "FOREX-Yen, dollar buoyed as investors seek safety",
          "GLOBAL MARKETS-Asia shares jolted by Hong Kong unrest, Argentine peso",
          "GLOBAL MARKETS-Asia shares slip as Hong Kong unrest, Argentine peso",
          "Wall Street falls on geopolitical tensions, recession fears",
          "China stocks rally as regulator loosens margin financing; Hong Kong",
          "Cathay Pacific forward bookings drop amid Hong Kong protests",
          "Hong Kong protests take a toll as companies flag impact",
          "StanChart warns of trade war, rate risks after profit tops",
          "'We may lose Christmas': escalating Hong Kong protests taking bigger",
          "\"We may lose Christmas\": escalating Hong Kong protests taking bigger",
          "Watch sales stall at Richemont as Hong Kong protests bite",
          "PageGroup sees profit at lower end of market view, hiring",
          "Hong Kong protests send stocks lower, spark scramble for cash"
         ],
         "legendgroup": "Hierarchical=2, source=Reuters",
         "marker": {
          "color": "red",
          "opacity": 0.8,
          "symbol": "diamond"
         },
         "mode": "markers",
         "name": "Hierarchical=2, source=Reuters",
         "showlegend": true,
         "type": "scattergl",
         "x": [
          -9.009814516015831,
          -8.916693173333053,
          -4.737723327716041,
          -7.980087189879492,
          -4.989933229813182,
          -3.284200701387525,
          -4.686780273602709,
          -7.494110768806787,
          -4.494701977126082,
          -4.858380098977985,
          -7.715525590935335,
          -5.905298812133988,
          -4.3294144506456025,
          -4.018850510217658,
          -8.684025548412377,
          -5.858694357386359,
          -5.282372485215668,
          -6.199953143680497,
          -6.529532866531949,
          -5.07219374208086,
          -4.216914698038389,
          -9.568149945065587,
          -3.980952626519821,
          -3.942041174510226,
          -6.357187592002147,
          -5.720230776785613,
          -6.072968589587347,
          -6.105021735528797,
          -5.985850792573869,
          -4.196183442451347,
          -6.699201104193735,
          -6.699201104193735,
          -5.328294607953616,
          -7.447003896345142,
          -7.659822357423352,
          -7.272271545797602,
          -7.232927651046359,
          -3.596666374519219,
          -9.832971032279039,
          -5.571806293478414,
          -6.483106827949393,
          -5.489097725879349,
          -4.999688955712111,
          -8.5082856956359,
          -10.008466246983234,
          -5.602445571469212,
          -9.522160744082928,
          -4.667922913916671,
          -4.966920082594398,
          -3.8967532110973617,
          -5.60410308276821,
          -5.793012152975621,
          -4.748951413989503,
          -6.0045717006017165,
          -7.016728269855789,
          -5.600119617303296,
          -4.973439777030469,
          -5.0448465328829615,
          -6.180645871561075,
          -5.02578791934916,
          -4.526075845125893,
          -6.997595330213755,
          -6.53814185891868,
          -4.396042524631734,
          -6.072025414962807,
          -3.2299968198909466,
          -5.016887185915734,
          -6.6314173553140945,
          -6.640072746583818,
          -6.03573864648723,
          -4.186213686489102,
          -6.259845857603124,
          -6.516978839083129,
          -4.985851146900596,
          -5.419015504983186,
          -10.545472761297537,
          -6.564875459897015,
          -7.881764880578749,
          -5.284669042946869,
          -7.267783009411945,
          -7.0660374929638134,
          -7.0660374929638134,
          -5.942954620206925,
          -5.975722395571278,
          -4.952473430025852
         ],
         "xaxis": "x",
         "y": [
          3.008347819181235,
          2.693623133926099,
          0.6042406666037029,
          2.0897446667405375,
          0.5649715727287795,
          0.9009406097894724,
          0.3623238992475861,
          2.0855077474816706,
          1.8665474554117008,
          0.43747619667728144,
          2.3845215966333284,
          1.0382804165153294,
          0.07510885205555948,
          -0.14771546250312198,
          2.4135217878855646,
          0.9782978726897583,
          1.0840245932958978,
          1.2899039329865007,
          2.02038691474053,
          0.6178091824807771,
          0.40884308721030704,
          2.93398569047856,
          0.48312033869343235,
          0.9908039633799649,
          1.465093871695036,
          1.9609982395136203,
          1.3318903248399465,
          1.509985484718184,
          1.1086761041348268,
          0.11121938510726496,
          1.8137708970204025,
          1.8137708970204025,
          0.5810874112534387,
          1.7215972098577674,
          2.0396190187372367,
          1.877597996117042,
          2.175136761298339,
          0.5265143735249828,
          2.8297727353982456,
          1.8689354871474342,
          1.36341598470983,
          1.3607434648076235,
          0.7582884217838619,
          2.4823267595227367,
          3.2081881344420213,
          1.1499677946793316,
          2.9703119444969106,
          0.9375365495291006,
          0.7345939891065826,
          0.7241883403128705,
          0.9000434164133326,
          0.7950706972319942,
          0.3166851643775413,
          1.1924909369404344,
          1.6474504538362165,
          1.1375955654883134,
          1.2317194821322999,
          1.5340816890359168,
          0.9043308342444069,
          0.5233548273742431,
          0.613509806521458,
          1.489731480977093,
          1.3610942809225315,
          2.8230295025717846,
          1.2123266254681047,
          2.3310093971548427,
          1.715676848923593,
          1.4304185455105627,
          1.2715742168433612,
          1.187448515630036,
          -0.13821815321509467,
          1.0797430305035043,
          1.4131098438066525,
          0.8778259176559075,
          0.5376525835258561,
          3.3613161837498136,
          1.2706558629786235,
          2.158382773741582,
          1.185502978975606,
          1.9237253611965048,
          1.317402209586721,
          1.317402209586721,
          1.1464962706139035,
          1.207538035150658,
          0.5995232106756221
         ],
         "yaxis": "y"
        },
        {
         "customdata": [
          [
           "2",
           "2019-08-19"
          ],
          [
           "2",
           "2019-12-31"
          ],
          [
           "2",
           "2019-10-28"
          ],
          [
           "2",
           "2019-08-07"
          ]
         ],
         "hoverlabel": {
          "namelength": 0
         },
         "hovertemplate": "<b>%{hovertext}</b><br><br>Hierarchical=%{customdata[0]}<br>source=CCTV<br>pc1=%{x}<br>pc3=%{y}<br>date=%{customdata[1]}",
         "hovertext": [
          "Violence pales \"Pearl of the Orient\" economic outlook",
          "Full text: Chinese President Xi Jinping's 2020 New Year speech",
          "New Beijing airport open to international flights",
          "China regrets U.S. decision to label China currency manipulator"
         ],
         "legendgroup": "Hierarchical=2, source=CCTV",
         "marker": {
          "color": "red",
          "opacity": 0.8,
          "symbol": "square"
         },
         "mode": "markers",
         "name": "Hierarchical=2, source=CCTV",
         "showlegend": true,
         "type": "scattergl",
         "x": [
          -5.6622085383871585,
          -5.078722315664491,
          -4.403764885164732,
          -3.8644356520822063
         ],
         "xaxis": "x",
         "y": [
          0.6356383064582203,
          1.6095397154221993,
          0.6070574217382005,
          1.9997244563446461
         ],
         "yaxis": "y"
        },
        {
         "customdata": [
          [
           "2",
           "2019-11-12"
          ],
          [
           "2",
           "2019-10-23"
          ],
          [
           "2",
           "2019-08-13"
          ],
          [
           "2",
           "2019-08-10"
          ]
         ],
         "hoverlabel": {
          "namelength": 0
         },
         "hovertemplate": "<b>%{hovertext}</b><br><br>Hierarchical=%{customdata[0]}<br>source=ABC (Australia)<br>pc1=%{x}<br>pc3=%{y}<br>date=%{customdata[1]}",
         "hovertext": [
          "ASX falls as global markets mostly lower on trade uncertainty,",
          "Hong Kong unrest sees residents look to Australian property safe",
          "ASX falls as Argentinian stocks lose half their value, Wall",
          "Hong Kong's protests rattle the nerves of Chinese millionaires, and"
         ],
         "legendgroup": "Hierarchical=2, source=ABC (Australia)",
         "marker": {
          "color": "red",
          "opacity": 0.8,
          "symbol": "x"
         },
         "mode": "markers",
         "name": "Hierarchical=2, source=ABC (Australia)",
         "showlegend": true,
         "type": "scattergl",
         "x": [
          -10.406940336495884,
          -9.591075572752397,
          -5.60229383493068,
          -6.345329030386157
         ],
         "xaxis": "x",
         "y": [
          3.204708170787647,
          2.7457884657307856,
          0.9186365230187604,
          1.92292621860962
         ],
         "yaxis": "y"
        },
        {
         "customdata": [
          [
           "2",
           "2020-03-11"
          ],
          [
           "2",
           "2020-03-06"
          ],
          [
           "2",
           "2019-12-17"
          ],
          [
           "2",
           "2019-11-08"
          ],
          [
           "2",
           "2019-08-16"
          ]
         ],
         "hoverlabel": {
          "namelength": 0
         },
         "hovertemplate": "<b>%{hovertext}</b><br><br>Hierarchical=%{customdata[0]}<br>source=CNN<br>pc1=%{x}<br>pc3=%{y}<br>date=%{customdata[1]}",
         "hovertext": [
          "Cathay Pacific warns of 'substantial loss' as coronavirus slashes air",
          "Tens of thousands of airline jobs are at risk as",
          "Hong Kong protests and economic woes are pushing the city's",
          "Disney says Hong Kong protests could wipe out $275 million",
          "Cathay Pacific CEO resigns amid Hong Kong protests"
         ],
         "legendgroup": "Hierarchical=2, source=CNN",
         "marker": {
          "color": "red",
          "opacity": 0.8,
          "symbol": "cross"
         },
         "mode": "markers",
         "name": "Hierarchical=2, source=CNN",
         "showlegend": true,
         "type": "scattergl",
         "x": [
          -7.456901029100266,
          -4.890137041110426,
          -5.161033981988195,
          -5.181146087880827,
          -3.6112294078638345
         ],
         "xaxis": "x",
         "y": [
          2.123429282587238,
          0.7233303909334972,
          1.5292631767543814,
          1.9099835284122162,
          1.4731069398119043
         ],
         "yaxis": "y"
        }
       ],
       "layout": {
        "font": {
         "color": "#7f7f7f",
         "family": "Arial",
         "size": 12
        },
        "height": 600,
        "legend": {
         "orientation": "v",
         "tracegroupgap": 0
        },
        "margin": {
         "t": 60
        },
        "shapes": [
         {
          "fillcolor": "green",
          "line": {
           "color": "green"
          },
          "opacity": 0.2,
          "type": "circle",
          "x0": -4.032217550436724,
          "x1": 3.9671506818827504,
          "xref": "x",
          "y0": -4.899511538197941,
          "y1": 12.407625098387696,
          "yref": "y"
         },
         {
          "fillcolor": "blue",
          "line": {
           "color": "blue"
          },
          "opacity": 0.2,
          "type": "circle",
          "x0": 1.647568337619577,
          "x1": 16.902666487582692,
          "xref": "x",
          "y0": -1.8190063944649488,
          "y1": 2.639340408585056,
          "yref": "y"
         },
         {
          "fillcolor": "red",
          "line": {
           "color": "red"
          },
          "opacity": 0.2,
          "type": "circle",
          "x0": -10.545472761297537,
          "x1": -3.0671593893620597,
          "xref": "x",
          "y0": -0.32512806108828574,
          "y1": 3.3613161837498136,
          "yref": "y"
         }
        ],
        "template": {
         "data": {
          "bar": [
           {
            "error_x": {
             "color": "#2a3f5f"
            },
            "error_y": {
             "color": "#2a3f5f"
            },
            "marker": {
             "line": {
              "color": "#E5ECF6",
              "width": 0.5
             }
            },
            "type": "bar"
           }
          ],
          "barpolar": [
           {
            "marker": {
             "line": {
              "color": "#E5ECF6",
              "width": 0.5
             }
            },
            "type": "barpolar"
           }
          ],
          "carpet": [
           {
            "aaxis": {
             "endlinecolor": "#2a3f5f",
             "gridcolor": "white",
             "linecolor": "white",
             "minorgridcolor": "white",
             "startlinecolor": "#2a3f5f"
            },
            "baxis": {
             "endlinecolor": "#2a3f5f",
             "gridcolor": "white",
             "linecolor": "white",
             "minorgridcolor": "white",
             "startlinecolor": "#2a3f5f"
            },
            "type": "carpet"
           }
          ],
          "choropleth": [
           {
            "colorbar": {
             "outlinewidth": 0,
             "ticks": ""
            },
            "type": "choropleth"
           }
          ],
          "contour": [
           {
            "colorbar": {
             "outlinewidth": 0,
             "ticks": ""
            },
            "colorscale": [
             [
              0,
              "#0d0887"
             ],
             [
              0.1111111111111111,
              "#46039f"
             ],
             [
              0.2222222222222222,
              "#7201a8"
             ],
             [
              0.3333333333333333,
              "#9c179e"
             ],
             [
              0.4444444444444444,
              "#bd3786"
             ],
             [
              0.5555555555555556,
              "#d8576b"
             ],
             [
              0.6666666666666666,
              "#ed7953"
             ],
             [
              0.7777777777777778,
              "#fb9f3a"
             ],
             [
              0.8888888888888888,
              "#fdca26"
             ],
             [
              1,
              "#f0f921"
             ]
            ],
            "type": "contour"
           }
          ],
          "contourcarpet": [
           {
            "colorbar": {
             "outlinewidth": 0,
             "ticks": ""
            },
            "type": "contourcarpet"
           }
          ],
          "heatmap": [
           {
            "colorbar": {
             "outlinewidth": 0,
             "ticks": ""
            },
            "colorscale": [
             [
              0,
              "#0d0887"
             ],
             [
              0.1111111111111111,
              "#46039f"
             ],
             [
              0.2222222222222222,
              "#7201a8"
             ],
             [
              0.3333333333333333,
              "#9c179e"
             ],
             [
              0.4444444444444444,
              "#bd3786"
             ],
             [
              0.5555555555555556,
              "#d8576b"
             ],
             [
              0.6666666666666666,
              "#ed7953"
             ],
             [
              0.7777777777777778,
              "#fb9f3a"
             ],
             [
              0.8888888888888888,
              "#fdca26"
             ],
             [
              1,
              "#f0f921"
             ]
            ],
            "type": "heatmap"
           }
          ],
          "heatmapgl": [
           {
            "colorbar": {
             "outlinewidth": 0,
             "ticks": ""
            },
            "colorscale": [
             [
              0,
              "#0d0887"
             ],
             [
              0.1111111111111111,
              "#46039f"
             ],
             [
              0.2222222222222222,
              "#7201a8"
             ],
             [
              0.3333333333333333,
              "#9c179e"
             ],
             [
              0.4444444444444444,
              "#bd3786"
             ],
             [
              0.5555555555555556,
              "#d8576b"
             ],
             [
              0.6666666666666666,
              "#ed7953"
             ],
             [
              0.7777777777777778,
              "#fb9f3a"
             ],
             [
              0.8888888888888888,
              "#fdca26"
             ],
             [
              1,
              "#f0f921"
             ]
            ],
            "type": "heatmapgl"
           }
          ],
          "histogram": [
           {
            "marker": {
             "colorbar": {
              "outlinewidth": 0,
              "ticks": ""
             }
            },
            "type": "histogram"
           }
          ],
          "histogram2d": [
           {
            "colorbar": {
             "outlinewidth": 0,
             "ticks": ""
            },
            "colorscale": [
             [
              0,
              "#0d0887"
             ],
             [
              0.1111111111111111,
              "#46039f"
             ],
             [
              0.2222222222222222,
              "#7201a8"
             ],
             [
              0.3333333333333333,
              "#9c179e"
             ],
             [
              0.4444444444444444,
              "#bd3786"
             ],
             [
              0.5555555555555556,
              "#d8576b"
             ],
             [
              0.6666666666666666,
              "#ed7953"
             ],
             [
              0.7777777777777778,
              "#fb9f3a"
             ],
             [
              0.8888888888888888,
              "#fdca26"
             ],
             [
              1,
              "#f0f921"
             ]
            ],
            "type": "histogram2d"
           }
          ],
          "histogram2dcontour": [
           {
            "colorbar": {
             "outlinewidth": 0,
             "ticks": ""
            },
            "colorscale": [
             [
              0,
              "#0d0887"
             ],
             [
              0.1111111111111111,
              "#46039f"
             ],
             [
              0.2222222222222222,
              "#7201a8"
             ],
             [
              0.3333333333333333,
              "#9c179e"
             ],
             [
              0.4444444444444444,
              "#bd3786"
             ],
             [
              0.5555555555555556,
              "#d8576b"
             ],
             [
              0.6666666666666666,
              "#ed7953"
             ],
             [
              0.7777777777777778,
              "#fb9f3a"
             ],
             [
              0.8888888888888888,
              "#fdca26"
             ],
             [
              1,
              "#f0f921"
             ]
            ],
            "type": "histogram2dcontour"
           }
          ],
          "mesh3d": [
           {
            "colorbar": {
             "outlinewidth": 0,
             "ticks": ""
            },
            "type": "mesh3d"
           }
          ],
          "parcoords": [
           {
            "line": {
             "colorbar": {
              "outlinewidth": 0,
              "ticks": ""
             }
            },
            "type": "parcoords"
           }
          ],
          "scatter": [
           {
            "marker": {
             "colorbar": {
              "outlinewidth": 0,
              "ticks": ""
             }
            },
            "type": "scatter"
           }
          ],
          "scatter3d": [
           {
            "line": {
             "colorbar": {
              "outlinewidth": 0,
              "ticks": ""
             }
            },
            "marker": {
             "colorbar": {
              "outlinewidth": 0,
              "ticks": ""
             }
            },
            "type": "scatter3d"
           }
          ],
          "scattercarpet": [
           {
            "marker": {
             "colorbar": {
              "outlinewidth": 0,
              "ticks": ""
             }
            },
            "type": "scattercarpet"
           }
          ],
          "scattergeo": [
           {
            "marker": {
             "colorbar": {
              "outlinewidth": 0,
              "ticks": ""
             }
            },
            "type": "scattergeo"
           }
          ],
          "scattergl": [
           {
            "marker": {
             "colorbar": {
              "outlinewidth": 0,
              "ticks": ""
             }
            },
            "type": "scattergl"
           }
          ],
          "scattermapbox": [
           {
            "marker": {
             "colorbar": {
              "outlinewidth": 0,
              "ticks": ""
             }
            },
            "type": "scattermapbox"
           }
          ],
          "scatterpolar": [
           {
            "marker": {
             "colorbar": {
              "outlinewidth": 0,
              "ticks": ""
             }
            },
            "type": "scatterpolar"
           }
          ],
          "scatterpolargl": [
           {
            "marker": {
             "colorbar": {
              "outlinewidth": 0,
              "ticks": ""
             }
            },
            "type": "scatterpolargl"
           }
          ],
          "scatterternary": [
           {
            "marker": {
             "colorbar": {
              "outlinewidth": 0,
              "ticks": ""
             }
            },
            "type": "scatterternary"
           }
          ],
          "surface": [
           {
            "colorbar": {
             "outlinewidth": 0,
             "ticks": ""
            },
            "colorscale": [
             [
              0,
              "#0d0887"
             ],
             [
              0.1111111111111111,
              "#46039f"
             ],
             [
              0.2222222222222222,
              "#7201a8"
             ],
             [
              0.3333333333333333,
              "#9c179e"
             ],
             [
              0.4444444444444444,
              "#bd3786"
             ],
             [
              0.5555555555555556,
              "#d8576b"
             ],
             [
              0.6666666666666666,
              "#ed7953"
             ],
             [
              0.7777777777777778,
              "#fb9f3a"
             ],
             [
              0.8888888888888888,
              "#fdca26"
             ],
             [
              1,
              "#f0f921"
             ]
            ],
            "type": "surface"
           }
          ],
          "table": [
           {
            "cells": {
             "fill": {
              "color": "#EBF0F8"
             },
             "line": {
              "color": "white"
             }
            },
            "header": {
             "fill": {
              "color": "#C8D4E3"
             },
             "line": {
              "color": "white"
             }
            },
            "type": "table"
           }
          ]
         },
         "layout": {
          "annotationdefaults": {
           "arrowcolor": "#2a3f5f",
           "arrowhead": 0,
           "arrowwidth": 1
          },
          "colorscale": {
           "diverging": [
            [
             0,
             "#8e0152"
            ],
            [
             0.1,
             "#c51b7d"
            ],
            [
             0.2,
             "#de77ae"
            ],
            [
             0.3,
             "#f1b6da"
            ],
            [
             0.4,
             "#fde0ef"
            ],
            [
             0.5,
             "#f7f7f7"
            ],
            [
             0.6,
             "#e6f5d0"
            ],
            [
             0.7,
             "#b8e186"
            ],
            [
             0.8,
             "#7fbc41"
            ],
            [
             0.9,
             "#4d9221"
            ],
            [
             1,
             "#276419"
            ]
           ],
           "sequential": [
            [
             0,
             "#0d0887"
            ],
            [
             0.1111111111111111,
             "#46039f"
            ],
            [
             0.2222222222222222,
             "#7201a8"
            ],
            [
             0.3333333333333333,
             "#9c179e"
            ],
            [
             0.4444444444444444,
             "#bd3786"
            ],
            [
             0.5555555555555556,
             "#d8576b"
            ],
            [
             0.6666666666666666,
             "#ed7953"
            ],
            [
             0.7777777777777778,
             "#fb9f3a"
            ],
            [
             0.8888888888888888,
             "#fdca26"
            ],
            [
             1,
             "#f0f921"
            ]
           ],
           "sequentialminus": [
            [
             0,
             "#0d0887"
            ],
            [
             0.1111111111111111,
             "#46039f"
            ],
            [
             0.2222222222222222,
             "#7201a8"
            ],
            [
             0.3333333333333333,
             "#9c179e"
            ],
            [
             0.4444444444444444,
             "#bd3786"
            ],
            [
             0.5555555555555556,
             "#d8576b"
            ],
            [
             0.6666666666666666,
             "#ed7953"
            ],
            [
             0.7777777777777778,
             "#fb9f3a"
            ],
            [
             0.8888888888888888,
             "#fdca26"
            ],
            [
             1,
             "#f0f921"
            ]
           ]
          },
          "colorway": [
           "#636efa",
           "#EF553B",
           "#00cc96",
           "#ab63fa",
           "#FFA15A",
           "#19d3f3",
           "#FF6692",
           "#B6E880",
           "#FF97FF",
           "#FECB52"
          ],
          "font": {
           "color": "#2a3f5f"
          },
          "geo": {
           "bgcolor": "white",
           "lakecolor": "white",
           "landcolor": "#E5ECF6",
           "showlakes": true,
           "showland": true,
           "subunitcolor": "white"
          },
          "hoverlabel": {
           "align": "left"
          },
          "hovermode": "closest",
          "mapbox": {
           "style": "light"
          },
          "paper_bgcolor": "white",
          "plot_bgcolor": "#E5ECF6",
          "polar": {
           "angularaxis": {
            "gridcolor": "white",
            "linecolor": "white",
            "ticks": ""
           },
           "bgcolor": "#E5ECF6",
           "radialaxis": {
            "gridcolor": "white",
            "linecolor": "white",
            "ticks": ""
           }
          },
          "scene": {
           "xaxis": {
            "backgroundcolor": "#E5ECF6",
            "gridcolor": "white",
            "gridwidth": 2,
            "linecolor": "white",
            "showbackground": true,
            "ticks": "",
            "zerolinecolor": "white"
           },
           "yaxis": {
            "backgroundcolor": "#E5ECF6",
            "gridcolor": "white",
            "gridwidth": 2,
            "linecolor": "white",
            "showbackground": true,
            "ticks": "",
            "zerolinecolor": "white"
           },
           "zaxis": {
            "backgroundcolor": "#E5ECF6",
            "gridcolor": "white",
            "gridwidth": 2,
            "linecolor": "white",
            "showbackground": true,
            "ticks": "",
            "zerolinecolor": "white"
           }
          },
          "shapedefaults": {
           "line": {
            "color": "#2a3f5f"
           }
          },
          "ternary": {
           "aaxis": {
            "gridcolor": "white",
            "linecolor": "white",
            "ticks": ""
           },
           "baxis": {
            "gridcolor": "white",
            "linecolor": "white",
            "ticks": ""
           },
           "bgcolor": "#E5ECF6",
           "caxis": {
            "gridcolor": "white",
            "linecolor": "white",
            "ticks": ""
           }
          },
          "title": {
           "x": 0.05
          },
          "xaxis": {
           "automargin": true,
           "gridcolor": "white",
           "linecolor": "white",
           "ticks": "",
           "zerolinecolor": "white",
           "zerolinewidth": 2
          },
          "yaxis": {
           "automargin": true,
           "gridcolor": "white",
           "linecolor": "white",
           "ticks": "",
           "zerolinecolor": "white",
           "zerolinewidth": 2
          }
         }
        },
        "title": {
         "text": "Hierarchical (n=3) in 2D (n-components=6)",
         "x": 0.5,
         "xanchor": "center",
         "y": 0.9,
         "yanchor": "top"
        },
        "xaxis": {
         "anchor": "y",
         "domain": [
          0,
          0.98
         ],
         "title": {
          "text": "Principal Component: 1"
         }
        },
        "yaxis": {
         "anchor": "x",
         "domain": [
          0,
          1
         ],
         "title": {
          "text": "Principal Component: 3"
         }
        }
       }
      },
      "text/html": [
       "<div>\n",
       "        \n",
       "        \n",
       "            <div id=\"42adcc6e-7e66-4f67-a8c6-39e0ee4c7113\" class=\"plotly-graph-div\" style=\"height:600px; width:100%;\"></div>\n",
       "            <script type=\"text/javascript\">\n",
       "                require([\"plotly\"], function(Plotly) {\n",
       "                    window.PLOTLYENV=window.PLOTLYENV || {};\n",
       "                    \n",
       "                if (document.getElementById(\"42adcc6e-7e66-4f67-a8c6-39e0ee4c7113\")) {\n",
       "                    Plotly.newPlot(\n",
       "                        '42adcc6e-7e66-4f67-a8c6-39e0ee4c7113',\n",
       "                        [{\"customdata\": [[\"0\", \"2020-04-02\"], [\"0\", \"2020-04-01\"], [\"0\", \"2020-03-31\"], [\"0\", \"2020-03-31\"], [\"0\", \"2020-03-30\"], [\"0\", \"2020-03-27\"], [\"0\", \"2020-03-26\"], [\"0\", \"2020-03-23\"], [\"0\", \"2020-03-20\"], [\"0\", \"2020-03-19\"], [\"0\", \"2020-03-17\"], [\"0\", \"2020-03-16\"], [\"0\", \"2020-03-16\"], [\"0\", \"2020-03-14\"], [\"0\", \"2020-03-12\"], [\"0\", \"2020-03-11\"], [\"0\", \"2020-03-10\"], [\"0\", \"2020-03-10\"], [\"0\", \"2020-03-09\"], [\"0\", \"2020-03-07\"], [\"0\", \"2020-03-02\"], [\"0\", \"2020-03-02\"], [\"0\", \"2020-02-28\"], [\"0\", \"2020-02-27\"], [\"0\", \"2020-02-27\"], [\"0\", \"2020-02-21\"], [\"0\", \"2020-02-20\"], [\"0\", \"2020-02-13\"], [\"0\", \"2020-02-12\"], [\"0\", \"2020-02-10\"], [\"0\", \"2020-02-05\"], [\"0\", \"2020-02-14\"], [\"0\", \"2020-01-31\"], [\"0\", \"2020-01-31\"], [\"0\", \"2020-01-29\"], [\"0\", \"2020-01-29\"], [\"0\", \"2020-01-28\"], [\"0\", \"2020-01-27\"], [\"0\", \"2020-01-26\"], [\"0\", \"2020-02-17\"], [\"0\", \"2020-01-24\"], [\"0\", \"2020-01-24\"], [\"0\", \"2020-01-23\"], [\"0\", \"2020-01-22\"], [\"0\", \"2020-01-21\"], [\"0\", \"2020-03-12\"], [\"0\", \"2020-01-20\"], [\"0\", \"2020-01-20\"], [\"0\", \"2020-01-20\"], [\"0\", \"2020-01-20\"], [\"0\", \"2020-01-19\"], [\"0\", \"2020-01-17\"], [\"0\", \"2020-01-17\"], [\"0\", \"2020-01-16\"], [\"0\", \"2020-01-16\"], [\"0\", \"2020-01-16\"], [\"0\", \"2020-01-15\"], [\"0\", \"2020-01-15\"], [\"0\", \"2020-01-21\"], [\"0\", \"2020-01-15\"], [\"0\", \"2020-01-14\"], [\"0\", \"2020-01-15\"], [\"0\", \"2020-01-14\"], [\"0\", \"2020-01-13\"], [\"0\", \"2020-01-13\"], [\"0\", \"2020-01-13\"], [\"0\", \"2020-01-13\"], [\"0\", \"2020-01-13\"], [\"0\", \"2020-01-11\"], [\"0\", \"2020-01-11\"], [\"0\", \"2020-01-10\"], [\"0\", \"2020-01-10\"], [\"0\", \"2020-01-09\"], [\"0\", \"2020-01-09\"], [\"0\", \"2020-01-08\"], [\"0\", \"2020-01-08\"], [\"0\", \"2020-02-17\"], [\"0\", \"2020-01-07\"], [\"0\", \"2020-01-07\"], [\"0\", \"2020-01-06\"], [\"0\", \"2020-01-04\"], [\"0\", \"2020-01-03\"], [\"0\", \"2020-01-03\"], [\"0\", \"2020-01-03\"], [\"0\", \"2020-01-03\"], [\"0\", \"2020-01-02\"], [\"0\", \"2020-01-01\"], [\"0\", \"2020-01-01\"], [\"0\", \"2020-01-01\"], [\"0\", \"2020-01-01\"], [\"0\", \"2019-12-31\"], [\"0\", \"2020-01-01\"], [\"0\", \"2020-01-01\"], [\"0\", \"2019-12-31\"], [\"0\", \"2019-12-31\"], [\"0\", \"2020-02-15\"], [\"0\", \"2019-12-31\"], [\"0\", \"2019-12-30\"], [\"0\", \"2019-12-29\"], [\"0\", \"2019-12-29\"], [\"0\", \"2019-12-29\"], [\"0\", \"2019-12-28\"], [\"0\", \"2019-12-28\"], [\"0\", \"2019-12-28\"], [\"0\", \"2019-12-27\"], [\"0\", \"2019-12-27\"], [\"0\", \"2019-12-28\"], [\"0\", \"2019-12-26\"], [\"0\", \"2019-12-26\"], [\"0\", \"2019-12-25\"], [\"0\", \"2019-12-24\"], [\"0\", \"2019-12-24\"], [\"0\", \"2019-12-23\"], [\"0\", \"2019-12-24\"], [\"0\", \"2019-12-23\"], [\"0\", \"2019-12-22\"], [\"0\", \"2019-12-22\"], [\"0\", \"2019-12-21\"], [\"0\", \"2019-12-20\"], [\"0\", \"2019-12-20\"], [\"0\", \"2019-12-19\"], [\"0\", \"2019-12-20\"], [\"0\", \"2019-12-19\"], [\"0\", \"2019-12-17\"], [\"0\", \"2019-12-18\"], [\"0\", \"2019-12-16\"], [\"0\", \"2019-12-14\"], [\"0\", \"2019-12-14\"], [\"0\", \"2019-12-16\"], [\"0\", \"2019-12-13\"], [\"0\", \"2019-12-13\"], [\"0\", \"2019-12-13\"], [\"0\", \"2019-12-11\"], [\"0\", \"2019-12-11\"], [\"0\", \"2019-12-11\"], [\"0\", \"2019-12-11\"], [\"0\", \"2019-12-10\"], [\"0\", \"2019-12-11\"], [\"0\", \"2019-12-09\"], [\"0\", \"2019-12-09\"], [\"0\", \"2019-12-09\"], [\"0\", \"2019-12-10\"], [\"0\", \"2019-12-07\"], [\"0\", \"2019-12-07\"], [\"0\", \"2019-12-07\"], [\"0\", \"2019-12-08\"], [\"0\", \"2019-12-07\"], [\"0\", \"2019-12-06\"], [\"0\", \"2019-12-06\"], [\"0\", \"2019-12-06\"], [\"0\", \"2019-12-05\"], [\"0\", \"2019-12-05\"], [\"0\", \"2019-12-06\"], [\"0\", \"2019-12-05\"], [\"0\", \"2019-12-05\"], [\"0\", \"2019-12-05\"], [\"0\", \"2019-12-04\"], [\"0\", \"2019-12-03\"], [\"0\", \"2019-12-03\"], [\"0\", \"2019-12-03\"], [\"0\", \"2019-12-03\"], [\"0\", \"2019-12-02\"], [\"0\", \"2019-11-30\"], [\"0\", \"2019-11-29\"], [\"0\", \"2019-11-29\"], [\"0\", \"2019-11-29\"], [\"0\", \"2019-11-27\"], [\"0\", \"2019-11-28\"], [\"0\", \"2019-11-27\"], [\"0\", \"2019-11-27\"], [\"0\", \"2019-11-26\"], [\"0\", \"2019-11-25\"], [\"0\", \"2019-11-25\"], [\"0\", \"2019-11-25\"], [\"0\", \"2019-11-23\"], [\"0\", \"2019-11-26\"], [\"0\", \"2019-11-22\"], [\"0\", \"2019-11-22\"], [\"0\", \"2019-11-21\"], [\"0\", \"2019-11-21\"], [\"0\", \"2019-11-21\"], [\"0\", \"2019-11-21\"], [\"0\", \"2019-11-20\"], [\"0\", \"2019-11-20\"], [\"0\", \"2019-11-20\"], [\"0\", \"2019-11-19\"], [\"0\", \"2019-11-19\"], [\"0\", \"2019-12-18\"], [\"0\", \"2019-11-20\"], [\"0\", \"2019-11-19\"], [\"0\", \"2019-11-19\"], [\"0\", \"2019-11-18\"], [\"0\", \"2019-11-17\"], [\"0\", \"2019-11-16\"], [\"0\", \"2019-11-17\"], [\"0\", \"2019-11-16\"], [\"0\", \"2019-11-16\"], [\"0\", \"2019-11-15\"], [\"0\", \"2019-11-15\"], [\"0\", \"2019-11-15\"], [\"0\", \"2019-11-15\"], [\"0\", \"2019-11-15\"], [\"0\", \"2019-11-14\"], [\"0\", \"2019-11-14\"], [\"0\", \"2019-11-13\"], [\"0\", \"2019-11-13\"], [\"0\", \"2019-11-12\"], [\"0\", \"2019-11-12\"], [\"0\", \"2019-11-12\"], [\"0\", \"2019-11-12\"], [\"0\", \"2019-11-15\"], [\"0\", \"2019-11-11\"], [\"0\", \"2019-11-11\"], [\"0\", \"2019-11-10\"], [\"0\", \"2020-03-16\"], [\"0\", \"2019-11-08\"], [\"0\", \"2019-11-08\"], [\"0\", \"2019-11-07\"], [\"0\", \"2019-11-06\"], [\"0\", \"2019-11-06\"], [\"0\", \"2019-11-06\"], [\"0\", \"2019-11-05\"], [\"0\", \"2019-11-04\"], [\"0\", \"2019-11-02\"], [\"0\", \"2019-11-01\"], [\"0\", \"2019-11-02\"], [\"0\", \"2019-11-01\"], [\"0\", \"2019-10-31\"], [\"0\", \"2019-10-31\"], [\"0\", \"2019-10-30\"], [\"0\", \"2019-10-30\"], [\"0\", \"2019-10-30\"], [\"0\", \"2019-10-30\"], [\"0\", \"2019-10-29\"], [\"0\", \"2019-10-29\"], [\"0\", \"2019-10-29\"], [\"0\", \"2019-10-28\"], [\"0\", \"2019-10-28\"], [\"0\", \"2019-10-27\"], [\"0\", \"2019-10-28\"], [\"0\", \"2019-10-27\"], [\"0\", \"2019-10-25\"], [\"0\", \"2019-10-25\"], [\"0\", \"2019-10-25\"], [\"0\", \"2019-10-26\"], [\"0\", \"2019-10-25\"], [\"0\", \"2019-10-25\"], [\"0\", \"2019-10-25\"], [\"0\", \"2019-10-24\"], [\"0\", \"2019-10-24\"], [\"0\", \"2019-10-24\"], [\"0\", \"2019-10-24\"], [\"0\", \"2019-10-23\"], [\"0\", \"2019-10-23\"], [\"0\", \"2019-10-24\"], [\"0\", \"2019-10-23\"], [\"0\", \"2019-10-24\"], [\"0\", \"2019-10-24\"], [\"0\", \"2019-10-23\"], [\"0\", \"2019-10-23\"], [\"0\", \"2019-10-22\"], [\"0\", \"2019-10-21\"], [\"0\", \"2019-10-21\"], [\"0\", \"2019-10-21\"], [\"0\", \"2019-10-21\"], [\"0\", \"2019-10-23\"], [\"0\", \"2019-10-20\"], [\"0\", \"2019-10-19\"], [\"0\", \"2019-10-19\"], [\"0\", \"2019-10-18\"], [\"0\", \"2019-10-18\"], [\"0\", \"2019-10-18\"], [\"0\", \"2019-10-15\"], [\"0\", \"2019-10-15\"], [\"0\", \"2019-10-15\"], [\"0\", \"2019-10-14\"], [\"0\", \"2019-10-14\"], [\"0\", \"2019-10-12\"], [\"0\", \"2019-10-12\"], [\"0\", \"2019-10-12\"], [\"0\", \"2019-10-12\"], [\"0\", \"2019-10-12\"], [\"0\", \"2019-10-11\"], [\"0\", \"2019-10-11\"], [\"0\", \"2019-10-11\"], [\"0\", \"2019-10-10\"], [\"0\", \"2019-10-10\"], [\"0\", \"2019-10-10\"], [\"0\", \"2019-10-09\"], [\"0\", \"2019-10-09\"], [\"0\", \"2019-10-08\"], [\"0\", \"2019-10-08\"], [\"0\", \"2019-10-08\"], [\"0\", \"2019-10-06\"], [\"0\", \"2019-10-06\"], [\"0\", \"2019-10-05\"], [\"0\", \"2019-10-04\"], [\"0\", \"2019-10-04\"], [\"0\", \"2019-10-03\"], [\"0\", \"2019-10-03\"], [\"0\", \"2019-10-03\"], [\"0\", \"2019-10-03\"], [\"0\", \"2019-10-03\"], [\"0\", \"2019-10-03\"], [\"0\", \"2019-10-03\"], [\"0\", \"2019-10-02\"], [\"0\", \"2019-10-02\"], [\"0\", \"2019-10-04\"], [\"0\", \"2019-10-02\"], [\"0\", \"2019-10-01\"], [\"0\", \"2019-09-30\"], [\"0\", \"2019-09-30\"], [\"0\", \"2019-09-30\"], [\"0\", \"2019-09-30\"], [\"0\", \"2019-09-30\"], [\"0\", \"2019-09-29\"], [\"0\", \"2019-09-29\"], [\"0\", \"2019-09-27\"], [\"0\", \"2019-09-27\"], [\"0\", \"2019-09-27\"], [\"0\", \"2019-10-03\"], [\"0\", \"2019-09-27\"], [\"0\", \"2019-09-26\"], [\"0\", \"2019-09-26\"], [\"0\", \"2019-09-25\"], [\"0\", \"2019-09-25\"], [\"0\", \"2019-09-25\"], [\"0\", \"2019-09-25\"], [\"0\", \"2019-09-24\"], [\"0\", \"2019-09-25\"], [\"0\", \"2019-09-23\"], [\"0\", \"2019-09-23\"], [\"0\", \"2019-09-22\"], [\"0\", \"2019-09-23\"], [\"0\", \"2019-09-21\"], [\"0\", \"2019-09-22\"], [\"0\", \"2019-09-20\"], [\"0\", \"2019-09-20\"], [\"0\", \"2019-09-19\"], [\"0\", \"2019-09-18\"], [\"0\", \"2019-09-18\"], [\"0\", \"2019-09-18\"], [\"0\", \"2019-09-19\"], [\"0\", \"2019-09-18\"], [\"0\", \"2019-09-18\"], [\"0\", \"2019-09-17\"], [\"0\", \"2019-09-17\"], [\"0\", \"2019-09-17\"], [\"0\", \"2019-09-16\"], [\"0\", \"2019-09-17\"], [\"0\", \"2019-09-16\"], [\"0\", \"2019-09-15\"], [\"0\", \"2019-09-14\"], [\"0\", \"2019-09-13\"], [\"0\", \"2019-09-13\"], [\"0\", \"2019-09-14\"], [\"0\", \"2019-09-13\"], [\"0\", \"2019-09-13\"], [\"0\", \"2019-09-13\"], [\"0\", \"2019-09-13\"], [\"0\", \"2019-09-12\"], [\"0\", \"2019-09-12\"], [\"0\", \"2019-09-11\"], [\"0\", \"2019-09-12\"], [\"0\", \"2019-09-11\"], [\"0\", \"2019-10-16\"], [\"0\", \"2019-09-10\"], [\"0\", \"2019-09-10\"], [\"0\", \"2019-09-09\"], [\"0\", \"2019-09-08\"], [\"0\", \"2019-09-07\"], [\"0\", \"2019-09-07\"], [\"0\", \"2019-09-06\"], [\"0\", \"2019-09-06\"], [\"0\", \"2019-09-05\"], [\"0\", \"2019-09-05\"], [\"0\", \"2019-09-06\"], [\"0\", \"2019-09-04\"], [\"0\", \"2019-09-04\"], [\"0\", \"2019-09-04\"], [\"0\", \"2019-09-03\"], [\"0\", \"2019-09-03\"], [\"0\", \"2019-09-03\"], [\"0\", \"2019-09-03\"], [\"0\", \"2019-09-03\"], [\"0\", \"2019-09-03\"], [\"0\", \"2019-09-02\"], [\"0\", \"2019-09-01\"], [\"0\", \"2019-09-02\"], [\"0\", \"2019-08-31\"], [\"0\", \"2019-08-31\"], [\"0\", \"2019-08-31\"], [\"0\", \"2019-08-31\"], [\"0\", \"2019-08-30\"], [\"0\", \"2019-08-30\"], [\"0\", \"2019-08-30\"], [\"0\", \"2019-08-30\"], [\"0\", \"2019-08-29\"], [\"0\", \"2019-08-28\"], [\"0\", \"2019-08-28\"], [\"0\", \"2019-11-25\"], [\"0\", \"2019-08-28\"], [\"0\", \"2019-08-28\"], [\"0\", \"2019-08-26\"], [\"0\", \"2019-08-26\"], [\"0\", \"2019-08-26\"], [\"0\", \"2019-08-26\"], [\"0\", \"2019-08-25\"], [\"0\", \"2019-08-23\"], [\"0\", \"2019-08-23\"], [\"0\", \"2019-08-23\"], [\"0\", \"2019-08-22\"], [\"0\", \"2019-12-19\"], [\"0\", \"2019-08-23\"], [\"0\", \"2019-08-22\"], [\"0\", \"2019-08-22\"], [\"0\", \"2019-08-22\"], [\"0\", \"2019-11-25\"], [\"0\", \"2019-08-21\"], [\"0\", \"2019-08-21\"], [\"0\", \"2019-08-20\"], [\"0\", \"2019-08-19\"], [\"0\", \"2019-08-19\"], [\"0\", \"2019-11-25\"], [\"0\", \"2019-08-20\"], [\"0\", \"2019-08-18\"], [\"0\", \"2019-08-17\"], [\"0\", \"2019-08-16\"], [\"0\", \"2019-08-16\"], [\"0\", \"2019-08-16\"], [\"0\", \"2019-08-16\"], [\"0\", \"2019-08-17\"], [\"0\", \"2019-08-16\"], [\"0\", \"2019-08-15\"], [\"0\", \"2019-08-15\"], [\"0\", \"2019-08-15\"], [\"0\", \"2019-08-14\"], [\"0\", \"2020-02-18\"], [\"0\", \"2019-08-14\"], [\"0\", \"2019-08-14\"], [\"0\", \"2019-08-14\"], [\"0\", \"2019-08-13\"], [\"0\", \"2019-08-13\"], [\"0\", \"2019-08-13\"], [\"0\", \"2019-08-12\"], [\"0\", \"2019-08-10\"], [\"0\", \"2019-08-10\"], [\"0\", \"2019-08-09\"], [\"0\", \"2019-08-09\"], [\"0\", \"2019-08-08\"], [\"0\", \"2019-08-08\"], [\"0\", \"2019-08-07\"], [\"0\", \"2019-08-07\"], [\"0\", \"2019-08-07\"], [\"0\", \"2019-08-07\"], [\"0\", \"2019-08-07\"], [\"0\", \"2019-08-07\"], [\"0\", \"2019-08-07\"], [\"0\", \"2019-08-06\"], [\"0\", \"2019-08-07\"], [\"0\", \"2019-08-06\"], [\"0\", \"2019-08-06\"], [\"0\", \"2019-08-06\"], [\"0\", \"2019-08-06\"], [\"0\", \"2019-08-03\"], [\"0\", \"2019-08-02\"], [\"0\", \"2019-08-02\"], [\"0\", \"2019-08-01\"], [\"0\", \"2019-08-01\"], [\"0\", \"2019-07-31\"], [\"0\", \"2019-07-31\"], [\"0\", \"2019-07-29\"], [\"0\", \"2019-07-29\"], [\"0\", \"2019-07-28\"], [\"0\", \"2019-07-28\"], [\"0\", \"2019-07-26\"], [\"0\", \"2019-08-07\"], [\"0\", \"2019-07-24\"], [\"0\", \"2019-07-24\"], [\"0\", \"2019-07-23\"], [\"0\", \"2019-07-24\"], [\"0\", \"2019-07-23\"], [\"0\", \"2019-07-23\"], [\"0\", \"2019-07-23\"], [\"0\", \"2019-07-24\"], [\"0\", \"2019-07-24\"], [\"0\", \"2019-07-23\"], [\"0\", \"2019-07-23\"], [\"0\", \"2019-07-23\"], [\"0\", \"2019-07-24\"], [\"0\", \"2019-07-23\"], [\"0\", \"2019-07-23\"]], \"hoverlabel\": {\"namelength\": 0}, \"hovertemplate\": \"<b>%{hovertext}</b><br><br>Hierarchical=%{customdata[0]}<br>source=SCMP<br>pc1=%{x}<br>pc3=%{y}<br>date=%{customdata[1]}\", \"hovertext\": [\"Coronavirus: police arrest 54 at Hong Kong Prince Edward protest,\", \"Three teens arrested after early-morning firebombing at Hong Kong police\", \"Hong Kong protests: Remand in jail for student, 17, who\", \"Hong Kong wages could drop 20 per cent in 2020\", \"Hong Kong protests: Telegram group operator faces incitement charges over\", \"Hong Kong drops to sixth in new global financial centre\", \"Hong Kong protests: opposition politician arrested under colonial-era offence of\", \"Petrol bomb attack at Hong Kong police married quarters\", \"Hong Kong protests: prosecutors abandon box cutter charge, after conceding\", \"Hong Kong court orders MTR Corp to disclose to student\", \"Hong Kong loses ranking as world\\u2019s freest economy due to\", \"First aid volunteer arrested at Hong Kong anti-government protest pleads\", \"Hong Kong Disneyland Resort losses double to HK$105 million as\", \"Year of living dangerously: Hong Kong bombing campaign \\u2018almost unprecedented\\u2019,\", \"Hong Kong protests: 13-year-old arrested on suspicion of assaulting police\", \"Arrests thwarted plan to attack Hong Kong police by rigging\", \"Hong Kong stock exchange decision to delist Superb Summit triggers\", \"Hong Kong protests: police to consider invoking anti-terrorist legislation for\", \"Hong Kong police arrest 17 people, seize 2.6 tonnes of\", \"Leaving Hong Kong: how coronavirus, anti-government protests soured the expat\", \"Hong Kong protests: Dutch tourist among four charged over weekend\", \"Hong Kong police chief says bumper budget increase is vital\", \"As Hong Kong protests raged, police solved lowest percentage of\", \"Hong Kong finance minister shoots down lawmakers\\u2019 proposal to seek\", \"Hong Kong police to ramp up manpower by more than\", \"Hong Kong protests: two men accused of rioting have charges\", \"Anti-government protesters\\u2019 slogan spray-painted outside Chinese army base in Hong\", \"Hong Kong teen who \\u2018received HK$48,000\\u2019 from financial supporter of\", \"Hong Kong police decry \\u2018chaos\\u2019 created by anti-government protests as\", \"Hong Kong protests: salesman accused of elbowing police officer has\", \"Bomb disposal team called after explosion in Hong Kong public\", \"Hong Kong activist Nathan Law to attend Trump\\u2019s State of\", \"Hong Kong protests: armed gang launches vicious attack on group\", \"Hong Kong protests: police on defensive as radicals threaten bombing\", \"Hong Kong protests: police hunting 300 suspects over serious cases\", \"Hong Kong student facing life in prison in connection with\", \"Unexploded IED found at Shenzhen border control point, after suspected\", \"Hong Kong protests: tear gas fired for second night in\", \"Hong Kong action choreographer linked to bomb plot, charged with\", \"\\u2018Orwell would be proud\\u2019: US defence chief says China is\", \"Singapore PM: \\u2018one country, two systems\\u2019 may not last unless\", \"Ousted incumbents in Hong Kong district council polls cite smears,\", \"Hong Kong lawmaker files case against officer who shot protester\", \"Police officers \\u2018received verbal warnings\\u2019 for holding reporters\\u2019 identity cards\", \"Hong Kong\\u2019s privacy watchdog reveals 75-fold increase in doxxing complaints\", \"Hong Kong protest organiser Ventus Lau in court two days\", \"Hong Kong protests: ex-lawmaker Au Nok-hin accused of damaging police\", \"Plans to give Hong Kong\\u2019s privacy watchdog some teeth in\", \"Hong Kong police send out detectives for patrols as anti-government\", \"New chief, new tactics: Hong Kong police act more swiftly\", \"Six months after Yuen Long mob attack, most shops in\", \"Hong Kong protests: man who attacked Post photographer pleads guilty\", \"\\u2018Police apologise?\\u2019 No, Hong Kong rioters should say sorry for\", \"Hong Kong airport\\u2019s long-term investment plans to stay on course\", \"Hong Kong mall Festival Walk reopens, but post-protest scars remain\", \"Hong Kong protests: police arrest 10 members of radical anti-government\", \"Flight cabin cleaner remanded in custody for taking baton and\", \"Hongkongers looking to move abroad warned to be careful when\", \"Hong Kong police consider arming officers with electroshock devices and\", \"Hong Kong police defuse powerful pipe bomb in flat and\", \"Hong Kong protests making investigations into corruption more complex, ICAC\", \"Ocean Park bailout plan by Hong Kong government will help\", \"Hong Kong protests: High Court test for warrants that let\", \"Hong Kong Chief Justice Geoffrey Ma on criticism of city\", \"Take \\u2018public interest\\u2019 into account on whether to bring cases\", \"Vandals scrawl \\u2018Free Hong Kong\\u2019 on Denmark\\u2019s famed Little Mermaid\", \"Hong Kong government unveils HK$10.6 billion plan to bail out\", \"What happens to Hong Kong\\u2019s economy when businesses are split\", \"\\u2018My conscience is clear\\u2019: elite officers from disciplined forces roped\", \"Hong Kong anti-mask law: ban on face coverings would deal\", \"Demosisto member arrested at Hong Kong airport in connection with\", \"Ocean Park to launch HK$100 million light show in bid\", \"Hong Kong protests: two jailed over petrol bombs, while third\", \"Hong Kong police seized more than 3,700 mobile phones from\", \"Hong Kong protests: man who threatened group with 15cm knife\", \"Ocean Park to seek Hong Kong government help for HK$10\", \"Mike Pompeo stresses Hong Kong autonomy, urges global censure of\", \"Hong Kong Tourism Board splashes out 20 per cent more\", \"Student accused of rioting near PolyU protests arrested again for\", \"Hong Kong restaurant firebombed by black-clad attackers, police investigate protests\", \"Senior part-time Hong Kong police officer suspended over suspected leaking\", \"Man accused of vandalising Hong Kong police vehicle avoids jail\", \"Hong Kong\\u2019s Ocean Park will freeze salaries to avoid lay-offs\", \"Iconic HSBC lions in Hong Kong facing long period of\", \"Hong Kong police identify officer linked to shooting that left\", \"Police hunt for pair who posed as plain-clothes officers to\", \"Education Bureau says it needs to act against Hong Kong\", \"Hong Kong new year lucky draw website blacklisted by network\", \"New Year 2020: how the world\\u2019s cities ushered in the\", \"Hong Kong protests: three people arrested for hitting man over\", \"Hong Kong protests: mainland China student and two 14-year-olds among\", \"Tourist arrivals take sharpest plunge in November since protests began\", \"Hong Kong police find six jerry cans of petrol on\", \"Man arrested as HSBC cheque deposit machine is smashed in\", \"Hong Kong teen accused of snatching police officer\\u2019s gun denied\", \"PLA\\u2019s Hong Kong garrison holds joint drill in city\\u2019s harbour\", \"Hongkongers stage peaceful rally to remember those \\u2018lost\\u2019 during anti-government\", \"Hong Kong police officer who stopped students over protest posters\", \"Hong Kong\\u2019s top officials promise raft of economic measures in\", \"Man charged with criminal damage of Starbucks outlet during Hong\", \"Representatives of Hong Kong\\u2019s battered tourism industry keep fingers crossed\", \"Four houses burgled around midnight on Friday in Hong Kong\\u2019s\", \"Hong Kong police union chief condemns protesters who claim \\u2018peaceful\\u2019\", \"Hong Kong protests: police officers receive HK$235 million in meal\", \"Hong Kong police admit \\u2018mistargeting\\u2019 colleagues during operations against protesters\", \"Hong Kong police admit officer showing reporter\\u2019s ID to live-streaming\", \"Stay or go? Hong Kong\\u2019s protest crisis raises career doubts\", \"Five arrested over HK$2.8 million watch robbery, as Hong Kong\", \"Teenager in stable condition after falling from rooftop balcony of\", \"South China Sea live-fire drill for PLA\\u2019s Hong Kong garrison\", \"Fewer Hongkongers out for last-minute shopping on Christmas Eve, with\", \"Can the term \\u2018cockroach\\u2019 actually be a compliment for Hong\", \"Hong Kong\\u2019s eco-tourism industry to receive US$7 million boost amid\", \"Hong Kong teen who fired at police was part of\", \"Hong Kong drug seizures surge 74 per cent to HK$1.9\", \"Hong Kong police station damaged by suspected petrol bomb attack\", \"Hong Kong leader Carrie Lam calls doxxing a threat to\", \"Man who fired live round at police believed to be\", \"IPCC probe into Hong Kong police\\u2019s handling of protests to\", \"Monica Baey\\u2019s #MeToo story, Hong Kong protests and Christchurch shootings\", \"Hong Kong protests: axe-carrying security guard jailed for a year\", \"Police freeze HK$70 million raised by Spark Alliance for Hong\", \"Hong Kong protests: police commander in charge of Polytechnic University\", \"Hong Kong anti-government protester injured in eye loses court bid\", \"Cathay Pacific passenger arrivals to Hong Kong down 46 per\", \"Hong Kong court denies bail for suspects caught with remote-controlled\", \"Germany caught in the middle as Hong Kong protests linked\", \"Hong Kong police foil second bomb plot in under a\", \"Five teens arrested over Hong Kong protest clashes that claimed\", \"Airlines in Hong Kong extend cuts to passenger capacity into\", \"Hong Kong girl, 13, who burned Chinese flag \\u2018out of\", \"How Sarah Ferguson, Duchess of York, feels about Prince Andrew,\", \"Resignations from police watchdog\\u2019s protests review reveal system flaws but\", \"Singapore hotels cheer as Hong Kong protests fuel Chinese tourism\", \"Hong Kong protests and Typhoon Mangkhut prove a perfect storm\", \"Overseas experts advising police watchdog on Hong Kong protests quit\", \"Hong Kong Brands and Products Expo kicks off at Victoria\", \"Bombers planned attack on officers at Sunday\\u2019s protest march, Hong\", \"Hong Kong protests: gunman was to \\u2018slaughter\\u2019 police officers after\", \"Macau dismisses suggestion high-profile Americans were barred in retaliation against\", \"Hong Kong police seize weapons including handgun ahead of mass\", \"\\u2018I just want a safe place to live with my\", \"Hong Kong budget deficit \\u2018unavoidable\\u2019 for two years, finance chief\", \"Spike in demand for security guards built like bouncers, to\", \"Hard times for Hong Kong\\u2019s tourism workers as protests keep\", \"Hong Kong tensions trigger meetings with Canadian school principals, after\", \"In the UK, how would a Jeremy Corbyn government engage\", \"Hong Kong protests: court orders prosecutors to pay innocent Filipino\", \"Indonesian journalist blinded during Hong Kong protest takes legal action\", \"Tenants at Kai Tak cruise terminal say relief efforts not\", \"Hong Kong protests: teacher accused of assaulting man by pouring\", \"German firms committed to Hong Kong but doubt political unrest\", \"Hong Kong protests: vandalised Festival Walk to remain closed until\", \"Hong Kong property buyers fall in love with Malaysia\\u2019s Penang\", \"For struggling Hong Kong firms, rent cuts and return to\", \"Hong Kong \\u2018paying the price\\u2019: number of crimes solved hits\", \"US Navy \\u2018invited\\u2019 to go to Taiwan and \\u2018have fun\\u2019\", \"Hong Kong protests: students sentenced to correctional training and to\", \"China Coast Guard posts video of patrols off Hong Kong\", \"Hong Kong anti-government protests bring biggest retail slump on record,\", \"Hong Kong man hit over head with drain cover while\", \"Hong Kong police chief Chris Tang warns of rising number\", \"Hong Kong protester accused of punching policeman sees charges dropped\", \"Hong Kong, Thailand agree to pursue free trade deal, Carrie\", \"Hong Kong\\u2019s flagship airline Cathay Pacific to scale back its\", \"Operator of Hong Kong\\u2019s first outlet shopping centre near Shenzhen\", \"Hong Kong Disneyland cancels New Year\\u2019s Eve countdown party over\", \"Hong Kong police receive 1,200 complaints over handling of anti-government\", \"Hong Kong protests: man who spat at police officer during\", \"Chinese students in South Korea investigated for vandalism of pro-Hong\", \"Hong Kong\\u2019s 2020 Lunar New Year parade replaced by carnival\", \"Chinese tourists blamed after vandals deface pro-Hong Kong protest messages\", \"First Hong Kong anti-government protester sentenced for carrying laser pen\", \"Beijing must reassess Hong Kong situation as pro-democracy camp wins\", \"Hong Kong man, 43, arrested over photos of elite \\u2018Flying\", \"Donald Trump says \\u2018very good chance\\u2019 of reaching trade deal\", \"Make BN(O) Hongkongers full British citizens, Boris Johnson urged by\", \"Hong Kong mask law: judges give themselves time to deliberate\", \"Boy, 12, is youngest to be convicted over Hong Kong\", \"Hong Kong restaurateur Alex Yeung sent home from Singapore over\", \"Hong Kong Department of Justice asks High Court to suspend\", \"Hong Kong protests: more than 200 defendants charged over stand-off\", \"Hong Kong police file disorderly conduct charge against couple accused\", \"Police respond to more menacing mob attacks by bringing out\", \"\\u2018More than 200 radicals\\u2019 to be charged for rioting in\", \"Hong Kong protests: reporter charged with possession of ammunition after\", \"No redemption in sewers as desperate radicals search high and\", \"Singapore also vulnerable to protests that have left Hong Kong\", \"New Hong Kong police chief Chris Tang tells residents: the\", \"Polytechnic University war zone: how Hong Kong radicals got boxed\", \"Hong Kong passport holders don\\u2019t need visa to enter Singapore,\", \"PLA \\u2018committed to protecting\\u2019 Hong Kong as stand-off intensifies\", \"Hong Kong protests: violence and hatred \\u2018swallowing up\\u2019 city and\", \"Two German exchange students released on bail after being arrested\", \"\\u2018Prison flying tigers\\u2019 join fight against Hong Kong protesters as\", \"Hong Kong protests: peaceful Friday turns violent again as government\", \"Hong Kong kindergarten teacher accused of slapping three-year-old with police\", \"Amid Hong Kong anti-government protests, city\\u2019s economy expected to shrink\", \"Hong Kong court extends online messaging ban aimed at those\", \"Hong Kong protests: Disney cast member, Australian tutor, and politician\", \"Trapped in Tai Po: McDonald\\u2019s runs out of buns and\", \"Hong Kong barristers condemn arson attack on court building, calling\", \"Hong Kong protests prompt Citigroup to warn employees to avoid\", \"Elderly man clings to life after being hit in head\", \"Hong Kong protests: five Chinese University students charged with rioting\", \"Hong Kong protests: \\u2018special police\\u2019 unit will be unveiled this\", \"Hong Kong protests: alleged ear-biter suffered years of depression, court\", \"Hong Kong\\u2019s anti-government protests hit rent prices at popular Lunar\", \"Hong Kong protests: shot student remains in critical condition after\", \"Hong Kong police officer who shot protester receives death threats\", \"Hong Kong father of two \\u2018burned alive\\u2019 after chasing protesters\", \"Hong Kong police No 2 Chris Tang expected to take\", \"Hong Kong police and paramedics turn on each other at\", \"Hong Kong teenager has abortion following allegations she was gang-raped\", \"Hong Kong protests could end up costing Disneyland US$135 million\", \"Hong Kong police officer slashed in neck reveals fears of\", \"Condition of Hong Kong student injured in car park fall\", \"Boy, 16, is first to be convicted of possessing laser\", \"Cheap tickets and cash rebates on offer to lure public\", \"Hong Kong protests: student reporter alleges police officer made reference\", \"Man accused of biting ear off Hong Kong district councillor\", \"Hong Kong protests: food and beverage businesses post steepest fall\", \"Court battle intensifies over medical records of woman who suffered\", \"Hong Kong\\u2019s ban on posting online material inciting violence will\", \"Hong Kong mask law enacted to \\u2018save as many young\", \"Hong Kong protests: police find pressurised gas canisters used to\", \"Hong Kong court order bans posting and spreading of online\", \"Hong Kong workers set for average pay rise of 3\", \"Mask ban means Hong Kong police could start removing Halloween\", \"Hong Kong protests: court dismisses claims police officers violated procedure\", \"Hong Kong police decline to give details of new scheme\", \"Hong Kong\\u2019s struggling restaurants hope city\\u2019s foodies give them a\", \"Burglaries and break-ins soar as Hong Kong police are left\", \"Former Cathay executive appointed head of Hong Kong Tourism Board\", \"Hong Kong food and beverage firms struggling amid protests and\", \"Hong Kong protester who desecrated Chinese flag \\u2018out of fun\\u2019\", \"Lawmakers across Hong Kong\\u2019s political spectrum urge the government to\", \"Bold gangs take advantage of Hong Kong protests and stretched\", \"Court order on officer data targets doxxers not journalists, Hong\", \"Singapore PM\\u2019s wife Ho Ching responds to Bloomberg report on\", \"Hong Kong police to rehire 1,000 retired officers to cope\", \"Hong Kong court refuses to endorse final appeal by five\", \"Hong Kong protests: heaviest jail sentence to date handed down\", \"Singapore activist Jolovan Wham loses appeal against fine for event\", \"Court grants interim injunction to ban doxxing of Hong Kong\", \"Singapore begins to see some gains from Hong Kong\\u2019s months\", \"US Senate bill calls for ending sale of crowd-control munitions\", \"Hong Kong \\u2018lives at risk\\u2019 from delays caused by protesters\\u2019\", \"Hong Kong protests: mainland Chinese student faces jail after pleading\", \"Hong Kong rises one spot to No 3 in World\", \"Hong Kong\\u2019s ongoing protests leave Australian airline Qantas with a\", \"Singapore sees small inflows of capital amid Hong Kong unrest,\", \"Murder suspect Chan Tong-kai\\u2019s release from Hong Kong prison: media\", \"Injunction to shield Hong Kong voter register from public to\", \"A look at Asia\\u2019s biggest student-led protests from South Korea\", \"Hong Kong man jailed for looting Xiaomi store that was\", \"Students vandalise Singapore lecturer\\u2019s office at City University of Hong\", \"Months of Hong Kong protests started with a murder. Will\", \"Hong Kong murder suspect at centre of extradition bill crisis\", \"Why Canada election candidates dodged Hong Kong protest \\u2018minefield\\u2019 ahead\", \"Hong Kong protest violence being fanned by foreign forces, China\\u2019s\", \"Hong Kong protests: police release man after complaint filed to\", \"US is instigating colour revolutions, China\\u2019s Defence Minister Wei Fenghe\", \"Hong Kong protests: growing number of repeat arrests prompts calls\", \"Hong Kong finance chief Paul Chan touts market resilience on\", \"Taiwan rejects murder suspect\\u2019s surrender offer, says Hong Kong must\", \"Man turns himself in at police station after attacking teenager\", \"Hong Kong leader Carrie Lam \\u2018relieved\\u2019 that murder suspect in\", \"Amid Hong Kong protesters\\u2019 attacks, 500 ATMs out of service\", \"Hong Kong teenager arrested over protest was victim of police\", \"Top US Democratic candidate Elizabeth Warren backs Hong Kong pro-democracy\", \"Hong Kong justice officials apply to hide identity of two\", \"Will Carrie Lam deliver a business-as-usual policy address or will\", \"Hong Kong protests: can other disciplined services lend manpower support\", \"Hong Kong protests: home-made bomb aimed to kill or maim\", \"Hong Kong man with learning disabilities arrested during protests was\", \"Demand for Hong Kong flights in smaller decline than expected\", \"Mike Pompeo urges NBA to stand up to China, saying\", \"Hong Kong police hunt for self-proclaimed radical anti-government group trying\", \"Hong Kong student who accused police of sexual violence against\", \"Hong Kong retiree sentenced to two months jail for box\", \"Shift in police tactics? Ex-commander of elite \\u2018Flying Tigers\\u2019 squad\", \"Hong Kong police buy new tear gas canisters from mainland\", \"From Apple to the NBA: the brands that have bowed\", \"More than 40 per cent of Hongkongers want to emigrate\", \"Hong Kong protests: police have right to remove masks from\", \"Hong Kong police say new hotline for reporting protest violence\", \"Hong Kong security guards arrested on suspicion of blocking police\", \"Thousands left out of work as hundreds of Hong Kong\", \"Apple under fire from China over HKmap.live app that tracks\", \"\\u2018We cannot tell the world Hong Kong grooms local terrorists\\u2019\", \"No backlash from Beijing, Malaysian PM Mahathir Mohamad says, after\", \"Donald Trump says \\u2018bad\\u2019 developments in Hong Kong could affect\", \"Hundreds of masked Hong Kong pro-democracy supporters rally in London\\u2019s\", \"Hong Kong protests: hundreds take to streets in second straight\", \"UN human rights office cautions Hong Kong that mask ban\", \"Hong Kong court grants bail to 18-year-old student protester still\", \"Tycoon Li Ka-shing donates HK$1 billion to help Hong Kong\", \"Hong Kong police guidelines on live rounds usage relaxed earlier\", \"Hong Kong actor Gregory Wong may be stopped from attending\", \"Taking Hong Kong protester shot by police to court \\u2018completely\", \"Defiant Occupy leaders released from Hong Kong prison and immediately\", \"Hong Kong kindergarten denies allegation under police investigation that child\", \"97 protesters hauled to court over Sunday\\u2019s clashes on Hong\", \"Hong Kong protests: Indonesian journalist shot in face with police\", \"China\\u2019s state broadcaster urges Hong Kong\\u2019s youth to work with\", \"Hong Kong protests: retailers counting cost after hard-core demonstrators ravage\", \"Melania Trump, Carrie Symonds, Carrie Lam \\u2013 what can we\", \"Hong Kong police \\u2018overwhelmed\\u2019 as anti-government protesters unleash new level\", \"Indonesian journalist shot in the face will request Hong Kong\", \"Seven Hong Kong protesters charged for entering Legislative Council building\", \"Malaysian police probe legality of rally in Kuala Lumpur backing\", \"Hong Kong solidarity rallies held in Malaysia, Australia, Taiwan\", \"Financial Secretary Paul Chan warns of deficit as Hong Kong\", \"Fight over Hong Kong \\u2018Lennon Wall\\u2019 leaves two men injured\", \"Hong Kong protests leave \\u2018golden week\\u2019 tourist boom in tatters\", \"Hong Kong protests: senior police officer Alan Lau calls on\", \"Hong Kong court refuses police applications for protection orders against\", \"Why Hong Kong police stopped sending anti-government protesters to the\", \"Hong Kong lawyer quits BNP Paribas after Facebook post supporting\", \"No shortage of ideas to boost land for homes in\", \"British Foreign Secretary Dominic Raab calls on China to live\", \"Andy Chan, founder of outlawed Hong Kong National Party, charged\", \"First person charged over Hong Kong protests denies attacking police\", \"Carrie Lam holds her first community dialogue and participants are\", \"Hong Kong government announces halving rent for tenants of EcoPark\", \"Hong Kong police looking into accusations that officer kicked anti-government\", \"Hong Kong man charged for \\u2018publicly mutilating\\u2019 Chinese national flag\", \"Third pro-Beijing party offers aggressive proposal to solve Hong Kong\\u2019s\", \"Hong Kong protests: police deny beating man during rally and\", \"Hong Kong police may have to open fire if protesters\", \"Hong Kong hotels look for ways to boost business affected\", \"Hong Kong commerce chief Edward Yau says American investors unshaken\", \"Hong Kong police brace for another weekend of violence with\", \"HSBC refutes claims it pressured contractor to remove worker who\", \"Ex-World Bank chief Robert Zoellick says Hong Kong leaders have\", \"Hong Kong newspaper Apple Daily gets injunction against reporters\\u2019 doxxing\", \"Why mainland students in US don\\u2019t sympathise with Hong Kong\", \"Hong Kong court orders MTR to preserve footage of police\", \"Second Hong Kong customs officer arrested over protest-related offence, bringing\", \"CLSA renews office lease with Swire Group, defying parent\\u2019s reported\", \"Public housing group calls on Hong Kong government to subsidise\", \"8 countries where rich Hongkongers would struggle to gain citizenship\", \"Hong Kong barristers challenge police chief Stephen Lo over accusations\", \"Hundreds of supporters turn out at Hong Kong court as\", \"Police handling of Yuen Long attacks the main source of\", \"Most hotel workers in Hong Kong having to take unpaid\", \"Police chief praises officers on 100th day of Hong Kong\", \"Hong Kong student leader takes MTR to court to preserve\", \"Baptist University raises concerns over student reporter arrested for allegedly\", \"Hong Kong protests: man seriously hurt after attack by anti-government\", \"Showdown with Beijing looms as more US lawmakers back Hong\", \"Hong Kong police\\u2019s anti-violence WhatsApp hotlines are suspended after only\", \"Hong Kong riot suspect in court in connection with extradition\", \"Woman who suffered eye injury during Hong Kong protest can\", \"Beijing piles pressure on Hong Kong developers, calling on government\", \"Hong Kong protesters launch series of legal challenges and ask\", \"Hong Kong keeps top spot as world\\u2019s freest economy but\", \"At least six hurt in Hong Kong as drain cleaner\", \"\\u2018Communication problem\\u2019 led to Hong Kong police officer telling paramedics\", \"Lawyers for woman injured in Hong Kong protest accuse police\", \"\\u2018Very minimal effect\\u2019 on Hong Kong whether US lawmakers succeed\", \"Hong Kong Airlines postpones public debut of new US$229 million\", \"Anti-government movement takes singing protest to Hong Kong malls\", \"Commerce minister warns of headwinds of US-China trade war and\", \"Prominent US senators back Hong Kong human rights and democracy\", \"Nearly 130 UK MPs and lords sign letter seeking Commonwealth\", \"Joshua Wong says Hong Kong is like Berlin in \\u2018new\", \"US making \\u2018unnecessary\\u2019 link between human rights and trade, Hong\", \"Hong Kong protests: group of police relatives comes forward to\", \"Hong Kong Journalists Association condemns attack on reporter covering anti-government\", \"Police groups in Hong Kong write to Yuen Long school\", \"\\u2018Everyone affected\\u2019 as Hong Kong\\u2019s troubles divide the UK Chinese\", \"Hong Kong protests: As demonstrators besiege station in rage over\", \"Teenage boy sent to children\\u2019s home after arrest related to\", \"Fifteen-year-old boy arrested over attack on Hong Kong rights activist\", \"How Asia sees Carrie Lam\\u2019s withdrawal of Hong Kong extradition\", \"Hong Kong recession alert as new business orders dry up\", \"Rich Hongkongers \\u2018snap up UK golden visas at unheard-of pace\\u2019\", \"Hong Kong protests: police use pepper spray against angry crowd\", \"Hong Kong protests: owner of protective gear store vows to\", \"Singapore will not escape economic impact if Hong Kong unrest\", \"Australia\\u2019s top diplomat offers support to Hong Kong protesters, wants\", \"Hong Kong protests: minor among 18 people charged with rioting\", \"Head of local prosecutors\\u2019 group urges Hong Kong justice minister\", \"Hong Kong security chief John Lee praises police for railway\", \"Masked protesters wreak havoc on Hong Kong airport and trash\", \"Police say two undercover officers who fired warning shots during\", \"Chaos on Hong Kong\\u2019s MTR network as police chase protesters\", \"Off-duty Hong Kong police officer stabbed in \\u2018despicable\\u2019 attack by\", \"Prominent activists and lawmakers arrested in Hong Kong police crackdown,\", \"Hong Kong police provide personal alarms to children of officers\", \"Hong Kong court extends injunction to prevent anti-government protesters vandalising\", \"Number of tourists coming to Hong Kong drops as anti-government\", \"China\\u2019s paramilitary stages anti-riot drill near Hong Kong border\", \"Mainland Chinese taxi driver jailed for two weeks for defacing\", \"Hong Kong protests: secondary school pupils take charge of their\", \"PLA \\u2018ready to defend Hong Kong\\u2019 after morning arrival Beijing\", \"Hong Kong privacy watchdog refers 600 cases of doxxing to\", \"Hong Kong protests: two more demonstrators charged with rioting over\", \"Hong Kong property investors snub Singapore in favour of cheaper\", \"Hong Kong police defend force\\u2019s detention protocol after arrest of\", \"Police in southern China told to crack down on \\u2018violent\", \"Hong Kong customs bans model of laser pointer after tests\", \"Hong Kong protests: four people charged over Kwun Tong march\", \"Two men charged with rioting over Hong Kong train station\", \"Hong Kong protests: pair bailed after overnight dispute outside residential\", \"China set to step up tear gas production as demand\", \"Two men charged with rioting in relation to attack at\", \"Trainee Hong Kong lawyer can join legal profession, says justice\", \"Hong Kong protests: gentler approach to resolving stand-offs \\u2018worth considering\\u2019,\", \"Pro-Beijing lawmaker Alice Mak sues two Hong Kong democrats for\", \"Australia sees rush of Hong Kong millionaires as unrest rumbles\", \"Two Hong Kong men hit with riot charges over attack\", \"Hong Kong man accused of stabbing three at a Lennon\", \"Hong Kong hotel workers paying price for protests as Mira,\", \"Department of Justice demands trainee lawyer explain accusations of hate\", \"Hongkongers\\u2019 turn to Malaysia\\u2019s second home programme as protests persist\", \"Hong Kong woman accused of assaulting and detaining mainland reporter\", \"Mainland Chinese tourist jailed for defacing US consulate in Hong\", \"Mike Pence urges China to respect Hong Kong laws amid\", \"Hoax Chinese police cars on the streets of Australia spark\", \"Hong Kong campaigner who organises protests against parallel trading and\", \"Hong Kong protests are driving money into Thailand\\u2019s ultra-luxury condos,\", \"Chinese embassy warns Canada to \\u2018immediately stop meddling\\u2019 in Hong\", \"Hong Kong activists and Beijing supporters stage rival protests in\", \"Hong Kong protests: student leaders say they were victims of\", \"Daughter of South Korean farmer who died of injuries from\", \"Malaysian youths supporting Hong Kong protests don\\u2019t know \\u2018right from\", \"Hong Kong still heading for recession even with relief measures\", \"Chinese-Australian group to rally against Hong Kong protests\", \"Donald Trump urges Xi Jinping to meet Hong Kong protesters,\", \"Two men accused of assaulting police at Hong Kong airport\", \"Donald Trump says Xi Jinping can \\u2018quickly and humanely solve\\u2019\", \"Germany\\u2019s Angela Merkel, France\\u2019s foreign minister call for dialogue to\", \"US lawmakers vow \\u2018swift consequences\\u2019 if Chinese military cracks down\", \"Hong Kong pair go to High Court to challenge need\", \"K-pop fans call for GOT7 concerts in Hong Kong to\", \"Hong Kong protests perfect example of why public should not\", \"China rejects US request for American warships to visit Hong\", \"Boy, 14, youngest person to be charged in connection with\", \"Police defend firing tear gas and pepper balls in Hong\", \"Hong Kong airport protest chaos: Asian airlines wrestle with fallout\", \"Hong Kong protests take toll on city\\u2019s tourism workers as\", \"North Korea offers support for Beijing over Hong Kong protests,\", \"Majority of Filipino domestic helpers won\\u2019t consider leaving Hong Kong\", \"Hong Kong police dismiss online rumours of immediate mass arrests\", \"Hong Kong lawmaker Junius Ho sues district councillor Roy Tam\", \"Hong Kong police bring former top officer out of retirement\", \"Laser pointers are not illegal in Hong Kong, but are\", \"Protesters shine light on arrest of Hong Kong student with\", \"Hong Kong police defend arrest of Baptist University student leader\", \"Hong Kong designer charged with rioting after being arrested during\", \"Journalists union condemns attack on Hong Kong TV station vehicle\", \"Australia issues Hong Kong travel alert warning citizens of violence\", \"Help Hong Kong\\u2019s small traders weather political storm, government urged,\", \"Baptist University president calls on Hong Kong police to treat\", \"Police fired nearly 1,000 rounds of ammunition during chaos that\", \"Hong Kong protests: two charged with damaging traffic light, while\", \"Chinese police mass 12,000 anti-riot officers in Shenzhen for drill\", \"What do celebrities Denise Ho, Jackie Chan, Alan Tam, Tony\", \"Hong Kong International Airport plays catch-up after anti-government strike cancels\", \"US not saying if it will ban sales of tear\", \"Hong Kong protests: Filipino dancer and 15-year-old boy among those\", \"Police warn of more violence in Hong Kong protests after\", \"First suspect in court over Hong Kong extradition bill protests\", \"Explainer | How Hongkongers end up in the dock: everything\", \"US-based Hongkongers ask United Nations to help resolve extradition bill\", \"Hong Kong police left \\u2018dejected and discouraged\\u2019 by corruption watchdog\\u2019s\", \"Gun-toting officer was in fear for his life, Hong Kong\", \"Hong Kong protesters injured in drive-by firework attack from private\", \"Hong Kong police chief proud of how officers have handled\", \"Anti-riot vehicles equipped with water cannons to begin road tests\", \"Key figure behind Yuen Long march Max Chung arrested for\", \"Hong Kong police adopt new tactics to make protesters leave\", \"Hong Kong police confirm use of sponge grenades, rubber bullets\", \"Hong Kong and mainland China students clash at rally at\", \"Two calls per second \\u2018jammed emergency lines\\u2019 during violence in\", \"Hong Kong bracing for dip in hotel occupancy amid series\", \"Sales down at least 10 per cent at Hong Kong\", \"Cook caught up in shocking violence near Hong Kong MTR\", \"Donald Trump says Xi Jinping \\u2018acted responsibly\\u2019 in Hong Kong\", \"Hong Kong police chief defends officers arriving 35 minutes after\", \"Hong Kong police to launch raids on white-clad thugs, including\", \"Hong Kong Chief Executive Carrie Lam blasts violence at Yuen\", \"At least 45 injured as rod-wielding mob dressed in white\", \"Two of three men arrested over Hong Kong\\u2019s biggest bomb\", \"Suspected leak of personal data of Hong Kong leader, top\", \"Three arrested over Hong Kong\\u2019s \\u2018largest-ever\\u2019 bomb plot on eve\", \"Taxi driver accused of assaulting two men in Lennon Wall\", \"Hong Kong extradition bill protests begin to bite as city\", \"Police remove fences and bus stops from near Hong Kong\"], \"legendgroup\": \"Hierarchical=0, source=SCMP\", \"marker\": {\"color\": \"green\", \"opacity\": 0.8, \"symbol\": \"circle\"}, \"mode\": \"markers\", \"name\": \"Hierarchical=0, source=SCMP\", \"showlegend\": true, \"type\": \"scattergl\", \"x\": [1.8446960374882362, -0.8300359820438368, -0.2752656903849369, -2.964947259959375, 1.7656039669691312, -1.353593723049637, 0.03211251877008647, -0.21746086287665592, -0.5337094962650237, -0.37480010210157727, -4.025264710794351, 0.12929754433049345, -2.305595922195537, -1.7784670590980687, -0.4190013084761284, -0.5289106344773599, -2.15430105394512, 0.8229740168774752, -0.2569309964886259, -2.13516039303105, -0.45720226927056806, -1.8362400187211796, -1.8544872306520352, 3.2721058750573975, -3.858370899175324, -0.5033153956163333, 0.1007264927237262, -0.40246526454479015, -0.5215725453809259, -0.580680185083174, -0.011336707004343359, 1.110704274611985, -0.05049048186923064, 1.0185241208131814, -0.42545213479383287, -0.07543343480635822, -0.45442920771315537, -0.5171308587182843, 0.5158289244359299, 0.39230951340652187, 0.716238893553049, 0.5580888828212623, 0.5933002558503583, 0.05608844367851801, -0.42147552466066884, -0.24161607452236558, -0.4145956041556331, -0.16249278181387408, -1.4015856424812934, 2.859406208067641, -0.17286369173604235, -0.7206086883070868, 0.056404135674662584, -0.5776515406685386, -0.8791767866028839, -0.552327693340895, -0.5017255466031987, -1.06117591058082, -0.7870757155641452, -0.6519112975429006, -0.4775643849296667, 0.27199323458834884, 1.2397704344577563, -1.560286575434043, 0.8719386134099625, -0.2568714953396727, -2.706498591574887, -0.564650583059687, -0.817078560597968, 0.7955206797577484, -0.5076491632117106, -0.47414174862318914, -1.202677094141844, -0.1493382009830121, -0.9048055904575432, -2.5740852262928886, -0.419449046635538, -0.58908651920846, -1.3083147894713352, -0.55914052915822, -0.46417298245434657, -0.432001818765786, -1.9515255084404362, -0.05117069027919481, -0.07994492034108165, 0.2117238257034882, -0.0013821931857456208, -0.6174660595932985, -0.8194358597835496, -0.2680017251755186, -0.5115575203259364, -1.6641087562351902, 1.516645959201145, -0.3635661231504788, -0.9475331522213288, -0.129485557715107, 0.2053379437839375, 0.6662810786924841, -1.9897069098303302, 0.1366131467238045, -3.3913282776418963, -1.728885648108901, 1.189962681012081, -0.5946404950273766, -0.5102118833355278, 0.08123018238298471, -1.2715997391815321, -0.5531345265170039, -0.9244749591666301, -0.3791330018806113, -0.8208154112528863, -0.7939343654973127, 0.46852082671721135, -0.5088480881226216, -2.7307937623464125, -0.4001892028245539, 0.5681180755382907, -0.33776295510937915, 0.0649763487017704, -0.7118801896153814, 0.8177173831727667, -0.6698162221572708, -0.4623402217410406, -0.7919648896028426, -1.715640105614128, -0.4658220380167294, 0.4682712936954346, -0.5287875518879462, -0.17602576816327387, -1.7039487937282927, 0.9029153863995747, -1.4267755087129828, 0.7749135906575946, -1.0953455784949935, -3.356357708663978, 1.7476895241453403, -1.8797886078773143, -2.1166368673194373, 2.0496196159507747, -0.1629550004404889, -0.02840269753108712, -0.5720546368413459, -1.077688209874571, -1.0773501719711558, -3.1302797388452217, 1.1947315991996115, 0.3422671419642987, 2.8273884210162565, 0.14304757343867497, -0.6716851105286569, 0.10284511369502704, -0.12170922194537465, -0.5380841652318274, -3.067388477605466, -2.135873343425428, -0.34298413216552726, -0.9341365335823582, 1.0521740414004064, -0.0666347641240933, -3.1618985296440854, -0.36946063333469487, 0.5229926531124889, -1.4592619856801745, -1.9795395531898257, -2.9703049960660617, -3.198439354047453, -0.43849744449109596, 0.1818025826054016, -0.4645038768174402, -0.3636110803551352, -1.4701389226904713, -0.8092923530703102, -0.5119312916215187, -0.15997481889827525, -0.12304097530464836, 0.5051322173029738, 2.142648894434366, 0.9674790946084904, 0.8037221324578806, 0.47025733952912213, -0.2542033168316468, -0.8049240318036508, -0.7457478459713385, -0.4507786502182767, -1.04508070480265, 0.018525362157548256, -0.400054868243629, -0.43940708793414535, 0.7098805328415903, -0.66289111958065, 0.5562416809515803, 0.505070573256346, -1.266679924448418, -0.5098406340890126, 0.20627347111023492, -0.1993070141117144, -0.28147607439786065, -3.4157517674860753, 2.1618749583309773, -0.28026577911379474, -1.0137904932242505, -0.3538151245822992, -1.550274933172385, -0.5316267513941625, -1.1767762210555448, -0.4426802269680277, 1.7989574153266477, -2.5559069477905507, -1.4047011628645358, -0.4224294154070202, -0.38327565284063164, 0.28479731513598244, -0.12007947742301112, 0.18328975930569016, -2.551832426879047, -1.1130381802262894, -2.3859390572653636, 0.09659876339306334, 0.06826210557290985, -1.7943630394917056, -0.2500319473395881, -3.8930828469557133, 0.34295642701894863, 0.2614647405369732, 2.118535471295599, 0.16574526128108585, 0.9106187304862777, -1.7469164155703127, 0.036275174593593376, -0.44110600290235813, -0.49017524765200643, -2.2918132833609275, -2.925730144633221, -1.4595270545740844, -1.8101925898847395, -0.5545769715053664, 1.3884216224478572, 0.12434572795436717, 0.6404427849061464, -0.6081270056531312, 1.0633614036168386, 0.4524311768753933, -1.3672952817372757, -0.06623104159890401, 1.9916273069373438, -1.8511570723643922, -0.1153202296085523, -1.6323170284814028, -1.6391809174422929, -2.3633275519082626, -2.5519082058925324, -1.7707490971294142, -0.10699393342316658, 0.844066622472053, -0.6867235941669795, -1.2576101475491415, 0.09392322459879802, -0.4580476242090125, -0.2136544452067197, -0.7162384708758562, 1.575937456226184, -0.48941804809599837, 2.6802641445458275, -0.376646512481902, 0.39324895810306354, -0.0011411502537395208, -0.2403468516347781, 0.7912223958510755, -0.0813346365936236, -0.09807186173151353, -0.4502398307915428, 0.14037577401386414, -1.42917231847872, 0.018996726695187954, 0.9343913662883591, -0.5325887347122065, -2.3787671321539263, -0.03959576114009903, -1.003552109320614, 0.09636525302347412, 1.0739626055458353, -2.1583689219917934, -0.7982743926869691, -0.23890689648819494, -0.6398291585575555, 1.4569967545881444, 0.6780322612279012, -0.2657830776972352, -1.8828456390185495, 0.23572417004437218, 3.2764125389440837, -0.0534104293998655, -2.137487789368033, -0.7182006921321894, -0.27718162242416233, 1.293929419887088, -0.3731267502874883, 0.036878017257044475, 0.11018242063453419, 0.20910860646396745, 0.6659737968530427, 0.15563868238110587, -1.1114621098512294, -0.4707766497333483, -0.09416020284866286, -0.825287962995165, -0.9163309720950139, 0.046431332021108704, 0.10708102130941295, -0.5977527878049762, -0.1258132294549742, -0.4070905255524616, 1.0435208592056797, -1.843513033790009, -0.2851394197633408, -2.2004861561243856, 0.9828097223852331, -0.3902857163859406, -0.25629485150656084, 0.05024236139243, -2.159936790192824, 1.1746407102997605, 0.29638188803335835, 0.23665459785096646, -0.8813614973440057, -0.3320088458899428, -0.15384601078320828, 1.9510664595993437, -0.23088457969326545, 0.5864136890891851, -0.505671808204074, -1.0243520230654872, -0.11993140077994957, -0.4913431971984172, -0.0685839181370632, -0.46069421072896205, 0.2797268662869587, -0.23273730321585148, 0.8359994025318542, -0.5123553409302842, -0.30568960987136995, 0.273122921220959, -0.13326600635084224, 0.3670203160608587, -0.38430273339789767, 1.774867948924058, -2.1951222228976306, 0.06425118213996979, 1.754867440035454, -0.4008359941198603, -0.376029463619382, 1.9897942995865063, 1.2377123861180392, 0.9672300342453141, -1.0938499218242095, -0.17690066418737715, -0.41655822754830857, -0.08435144856084943, -0.5713603558273458, 0.5323085195349189, 1.3688376113887002, -0.38522062813184393, -0.6661116644853067, 0.1267323274235901, -3.0922583782726893, 3.620247314330796, 0.6545795633571511, -0.4423048360735527, 0.3527497216815693, 2.1961227054024204, 0.7278671489718703, -0.13481867493038394, -0.18039027901372234, -0.5350090223112167, 0.8565576563365299, -0.37166237367159904, 0.2413935495520086, -3.2247816308365107, -2.593365721931593, 0.08472999220301419, -1.0928939595105407, -1.0826243432022642, 1.2403754852424098, 0.17791628535196463, 0.14419633033487628, 0.29164275698634823, -0.9242674437616788, -0.5763991027716235, -0.4484486106498194, -0.3696865758430291, -0.38398027319459377, -0.7661452997928014, -0.5096755601380396, -2.8056332708688427, 0.22169069519075152, 0.3615029736125707, -1.0018803364820392, -0.6363547405161147, 0.4169055526206777, -0.5083800890557877, -1.731497293428048, -0.3010485466921276, 2.104375092889489, 0.6303770188638652, -0.07305917034944284, -0.1705185092641914, 0.0004123200100437065, -1.4658153281727164, 0.6855701827336514, -0.42861044619205807, 0.3682160147977323, 1.188714869849271, -1.431820053264663, -0.23258621695765727, -0.12810668555687196, -2.999276517000719, -0.5377910594131212, -1.8687172902579774, -0.23518462107674817, 0.3415395231451601, 0.5020363449587331, -0.20699072173712418, 1.3661944144796099, -2.067310456531599, 2.2573640962000985, -0.35385249063897295, -0.10973714716082959, -1.5820564916680302, 0.815578874823132, -0.9667019825729062, 1.0515012625679745, 1.6328414643166436, -0.16098415593078164, -0.24565580819340593, -1.1225304744375506, 0.4516790020436359, 0.9578906780008214, -0.723390710743839, 1.0611446082378193, 0.1745013217508113, -0.3877048603694871, -0.37243005527832795, -2.8748024633966733, -0.7879375223313563, 1.9207257760741754, -0.056213108732949456, -0.456278930650912, -0.4934520248983622, 1.0501157852507423, 1.616018240120311, -0.7530047538272631, -0.4720745386728128, 1.475967351719821, 0.3425671780376287, 0.0581959380841805, -0.9864626269313849, -0.5091416675173652, -1.2252189292609954, 0.6501514982681674, 0.8436722969594147, 0.5564686949084874, -2.945362804929807, 0.8443450349563172, -0.43281573077521773, 0.5918707787805582, 0.10251956569176081, 0.5880930354449037, 0.27537145584950823, 0.04052616111436647, 0.4523126619237464, -2.7163439326283423, -0.09839675554003333, -0.6296591567906565, -0.7108357024613032, -0.5486446037876347, -0.51394786593288, -0.47879264733423754, -0.5319040422508635, -1.4936843741626047, -4.032217550436724, -0.26779530618104147, 0.73614166068635, 1.7719261731669103, -0.5241831206577606, 2.16596850207262, -0.3508706627513045, -0.5085027836991879, 0.7007768974587983, -0.8241044794450613, -0.5268864905712799, -2.8035508673234926, -0.583822143015453], \"xaxis\": \"x\", \"y\": [-0.4183852512061332, -1.4312932193899215, -0.3774323693793083, -0.3195079460839499, -0.8940206961200409, -1.0662987904502303, 0.049465380312729054, -1.859555519172108, -3.070767871771392, -1.3128453375651594, 0.3673921222058944, -1.362512030682031, -1.2378509722554405, 0.5729645633869312, -1.8579269676826302, -3.5523710011017844, 0.41188538278488185, -1.4885817338820564, -2.074279404271573, -0.9487403715772535, -2.0069206825497794, 0.24074438364895956, 0.23935877050396467, -0.10381440715350496, 0.7612130821850257, -2.8094047286498682, 0.19538656573378546, -1.7171861065101772, -3.1758153965670615, -2.082988905849528, -1.181329009253224, 0.790952571317375, 2.2178336913098566, -1.9520004987682353, -2.446255888546546, -2.3649638900184606, -2.214383286325829, -3.085837894965785, -2.409179212822294, -0.6057835571988536, -0.867556796551427, 1.751609372152529, 2.106086340818064, 3.7753884288401895, -0.7504094891039667, -2.0281463471707073, -1.9948976097567281, 1.3678264746866213, -1.6617051291642047, -1.0892987493051538, 0.756665384288926, -0.9744278458095224, 0.24774943653351106, -0.6105202399614367, -2.60143023784436, -0.7008609415185603, -0.5487325346813373, -0.19845588883074922, -1.9439733158351054, -2.956901689219343, 3.585562408939162, -0.7271001913953439, -1.7522950524974412, -0.16176775999848778, -0.23233314619747447, 0.23699289286065583, 0.663601293005887, -1.0479703652257237, -0.10282146546780216, -1.0842630538361027, -2.8231697378813414, -0.42767625773463774, -1.9661482032316313, 1.415752363124253, -1.3743497921790375, -0.5829432683385571, 1.7588407849128382, 2.126470316737445, -1.7386245916363132, 0.14127592305757675, -2.9263556054290727, -0.2621681915180534, -0.390326896049333, -0.9977101156169198, -1.8037106958361226, -1.837622463749677, 2.244915915777165, 0.5388209002685647, -1.5062797553304696, -0.31741638294230784, -3.0105375139119603, -1.4241823155496052, -0.7871493004911939, -1.774159283516384, -1.943533492063327, 1.7052352978163707, -2.861891627485797, -0.9061698151720985, -0.13396898333504534, -1.0088678659023018, -0.17962966123224652, -0.7482798693723555, -2.049116537662773, -0.01935083360326094, -2.9246094969599197, -1.6152100684043302, -0.5178346183825663, -1.7208287738890322, -1.5361048621022433, -1.343317613918351, -0.7090553553636919, -2.204557913862319, -0.6832395745400828, -2.796436946946201, -0.8490545371224236, -1.271037572046257, 3.286855100590258, -0.8032657165738508, 0.40023076768666704, 0.36421322075147033, -2.386517276375776, -0.9720898083441505, -2.468462960579423, 3.4204368333773716, -0.015429885483494835, -2.678237723316407, -0.4442615139794928, -3.3881522207154084, 0.7172219757104972, -0.5776308453192681, -0.4714853788828755, -0.40950842450129943, -1.1105882614828264, -1.3692338640267314, -0.44149874673237083, 0.8706083589841571, 0.28696141212927506, -0.21841724572804408, -1.4580929194051895, 1.2649488056026563, -1.82847973295285, -2.4896531969435527, -0.5979965453094858, -1.1898725790479443, -0.21512168878220406, 0.03393328056604206, -0.7808296044734965, -1.6620716079622901, -0.21867602366123431, -0.9638295798697512, -0.5679905052581331, -1.762491966337322, -1.0252824626302444, 0.14648393699305642, 1.0729123978410413, -0.054174262641317424, -0.22054513950421525, -2.610400934461905, 2.304197642260241, -0.0950684319754541, -1.2178775627972322, -0.3141696973210223, -1.8087067691235008, 0.0012939245079007157, -0.44083386093758503, 0.7211691695085242, -0.26061417782161966, -2.384802114976224, -2.5433017513760534, -0.9119782408942245, -1.4044061972761441, -0.6301547308729546, -1.4128603340000188, -0.756041653340366, -1.5209803538032225, 2.424320138906619, 0.8116712502788184, 1.7511139589557532, -0.84650994221906, 3.154457654626886, 1.024744314622784, -2.5808506240371405, -0.9183950091784705, -3.358127276288683, -0.8984063118447587, -1.151033979080459, -1.7024913390555605, 0.60753785556958, 4.234535650015777, -2.1115231823736083, -0.6880251504423707, 0.5125280630212259, -1.1755049180075572, -2.857707388364963, -2.0415286696239545, -0.45384433918985667, -0.13624744017078785, -0.228478293308783, 3.2255634446152306, 0.6900900293541091, -0.7974474835804743, -1.0642742086390482, 0.1781599698708511, -3.6726815327324376, -1.7024008896383596, 0.18306017496947655, -0.946861300583471, -0.034149254299437444, 0.7362862018565004, -1.9260746550109278, -1.7116932080202452, -0.5112136223420258, -0.6491635011236448, -1.0600281820748043, -0.49974621348044884, -0.9935208103099415, -1.1384351942416542, -2.640970150010041, -1.1532238561087598, 2.175487521157363, -0.14471130895298848, 0.20520995755913637, -0.4268317314521092, 2.7982841676024353, -1.534289332200964, -3.1643213319542496, 0.7389757799295513, -0.1936146653842591, -1.8083715109409402, -2.0115321220800086, -2.4250238815539418, 1.087140507924473, -0.445200964574584, 1.653738707222382, -0.49247059448136415, -2.2972347853347026, -0.555774624880012, -1.018898547653856, 0.4543549551112948, -0.11838610663528595, -0.9100279651800857, -2.079170530307606, -1.9726297403823403, -1.055512293946322, -1.4626639968371113, -0.4991221471847932, -0.24473319562128054, -1.5316513913905287, -0.6780567986869304, 0.45791648354995124, 0.2336191721778626, -1.2573482458832543, 2.1944250877678866, 3.6180828698561873, -2.0314446896131875, -2.04590543352017, 4.179787843092978, -2.246903588125293, 0.6161894584010047, -0.28044669611929185, 0.08099810530501701, -2.426254777754124, 1.7935203309482015, -2.0986550779393744, 0.05033076195678418, -0.19170370794230396, -0.1241339132791031, 3.829435641017698, -1.6321633432304103, 1.993105993323022, 2.3185940355264556, -1.5789763742876712, -0.8953735347825438, -1.7090284231342519, -0.4845995271471918, -3.2822867845775074, -1.1523369952056712, 0.02134173441699962, 3.362425575818956, 4.310845220711183, -1.525604388451205, -0.4883792618628556, -1.342943443453534, 1.598193161034153, -0.9839685309027673, -1.1530595806874904, 0.6587952412269176, -3.390569494416835, 0.5719206759853719, 2.261985760906664, -0.006962418201518822, -0.3214472233846937, 0.7882619662574917, -2.603083241673643, 0.07469917466047003, 0.21873833155143757, -1.107881145354905, -0.648219400549225, 1.1979891138229923, -2.1293562134958077, -0.9132185276586927, -1.6469186093587547, -0.09011807092873204, -2.487134164741892, -1.131580261173058, 1.362412217354701, -2.593248800216038, 0.3921212788408729, -2.2716150871007406, -2.2139026386673537, -1.5910755479284995, -1.4265900879843043, -1.123060865702846, -0.5184356511946684, -0.2440234392062557, -0.610231657030019, -0.6241487078983736, -1.4276893630528151, -0.030207942184889862, 3.588252855389444, 0.5233650813192029, 0.09359974588627963, -2.1502981270644512, -1.902067064914966, -1.566328320412281, 0.22611158072143359, -2.3976505035375757, -0.9417564387396864, -0.2494000454290573, -1.7712792689847132, -2.92975328918721, -0.8693360904797642, -1.3028012820700514, -2.5128604612763996, 2.216493408003658, -0.1475417325228317, 1.99498530258651, 0.523771149400509, -0.23593910164406282, -3.121607625998015, 0.20378887941121152, -0.9615963944614225, 3.234051008896628, -0.08781022240861043, -1.3275678875301256, 1.679926189252407, 0.35809117519273104, -3.0782447718750188, -0.75358385610065, -1.5974643468221508, -1.9614612626633114, -0.8254124710128518, -1.1774959752469767, -2.030207585056998, -0.7672535801552467, 0.9366238726343887, -2.0573008748671584, 0.8506578181526535, -1.9808059446186628, -1.3706556325778692, -0.999438002934883, -0.6328761891871884, -0.6238307463455268, -1.69427698589908, -0.06356488079485625, 1.350325647301302, 1.3368575343680202, -1.9797456390445547, 0.05859851448270023, -1.410539734181622, 2.4812962837993986, 1.380326388006275, 1.0804457990223622, -3.156222020144625, -0.7150694425515469, -1.4652315941788194, -0.9427761931843737, -0.41294939406363096, -0.005616324266903375, -2.63575279230664, -0.9582344895966617, 0.06636144661644473, 4.17479179858526, -2.454220887227211, 0.1265197653538887, -1.2193524439178207, -2.6870576577193974, -4.626285091216115, -2.5331300826188428, -1.0463071535318886, -1.2734728826052706, 0.5984815344023768, -1.761592990788027, -0.514645446701658, -1.3979841977661622, -0.9343058910514899, -1.2002086122373885, -0.1622326311101948, 3.4347355664900827, -3.083759272105351, 0.03771159520015343, -1.7911503755079925, 1.3234363920819092, -1.531931856476003, -0.9477562670638048, 1.0176011673148369, -2.045820668589325, -2.0607397473446025, 1.6636588370073009, 2.5148318605291466, -0.49396168699730697, 1.7098769545423464, -0.06608442106789848, 0.026607798650452437, 1.6702818069315009, 0.25986014607903074, 0.3622533887279584, 0.7671607460561908, -0.16402416906578726, -2.0092062360770697, 1.3769447463167834, 0.8105009885027034, -1.687890469418695, 0.40976550488425617, -1.1240618846602786, -0.6838535854551101, 1.9076413779775463, -1.463755866952296, 3.150314530109166, -0.19579208392870406, -0.2846639078687806, 0.9865912718408593, -1.8823280134090676, 2.397752232369655, 2.011899465391744, 2.9080135369857736, -0.6768216193447131, -0.03289664344692767, 1.2735838226058782, 1.2212159250182315, -2.014507188870358, -1.1509168152415952, -0.05091629591978214, -0.07994975999539379, -1.122031231950562, 1.921278152952274, -2.279283614442056, -1.2501715489736798, -1.19902147917337, -2.294428941817376, -2.6706102053298832, -1.0164332858031144, -1.0800436965183369, -2.1121170420613447, 3.747142547456223, -1.7318667764623148, -2.8715532781659117, -2.071771893731761, -1.6137018675957318, -1.0613978725295459, 1.1960305342470476, 0.08550873535213804, -0.4755021554568569, -1.8909250374679696, 0.5219464841331448, -2.564874804055168, -0.7911093359738629, -0.01957230319196941, -1.491375289557051, -2.6364283726609017, -0.9597852548455023, 1.9674799570715833, -2.1831288005513447, -2.0389135497519533, -3.8798840313269913, -3.173292720445835, -2.2667207943070395, -0.42790700258946557, -1.2923694515983903, 0.4169188267268808, -0.14328527079691825, 0.721328929928825, -1.004166565364275, -3.434692570652822, -0.05526602427957403, 1.2135544192305354, -2.9528381144988294, 4.336915231937204, -2.5412143582889226, 0.7903706320678777, -0.10715371042428713, -1.6542351842217284], \"yaxis\": \"y\"}, {\"customdata\": [[\"0\", \"2020-03-27\"], [\"0\", \"2020-03-18\"], [\"0\", \"2020-03-08\"], [\"0\", \"2020-03-03\"], [\"0\", \"2020-02-29\"], [\"0\", \"2020-02-21\"], [\"0\", \"2020-02-18\"], [\"0\", \"2020-02-16\"], [\"0\", \"2020-02-15\"], [\"0\", \"2020-01-29\"], [\"0\", \"2020-01-23\"], [\"0\", \"2020-01-21\"], [\"0\", \"2020-01-20\"], [\"0\", \"2020-01-20\"], [\"0\", \"2020-01-12\"], [\"0\", \"2020-01-10\"], [\"0\", \"2020-01-10\"], [\"0\", \"2020-01-10\"], [\"0\", \"2020-01-05\"], [\"0\", \"2020-01-08\"], [\"0\", \"2020-01-07\"], [\"0\", \"2020-01-07\"], [\"0\", \"2020-01-05\"], [\"0\", \"2020-01-02\"], [\"0\", \"2020-01-02\"], [\"0\", \"2020-01-02\"], [\"0\", \"2019-12-31\"], [\"0\", \"2019-12-31\"], [\"0\", \"2019-12-23\"], [\"0\", \"2019-12-22\"], [\"0\", \"2019-12-22\"], [\"0\", \"2019-12-21\"], [\"0\", \"2019-12-20\"], [\"0\", \"2019-12-20\"], [\"0\", \"2019-12-19\"], [\"0\", \"2019-12-19\"], [\"0\", \"2019-12-13\"], [\"0\", \"2019-12-13\"], [\"0\", \"2019-12-12\"], [\"0\", \"2019-12-12\"], [\"0\", \"2019-12-12\"], [\"0\", \"2019-12-10\"], [\"0\", \"2019-12-10\"], [\"0\", \"2019-12-09\"], [\"0\", \"2019-12-04\"], [\"0\", \"2019-12-04\"], [\"0\", \"2019-12-04\"], [\"0\", \"2019-12-02\"], [\"0\", \"2019-11-29\"], [\"0\", \"2019-11-29\"], [\"0\", \"2019-11-29\"], [\"0\", \"2019-11-29\"], [\"0\", \"2019-11-29\"], [\"0\", \"2019-11-28\"], [\"0\", \"2019-11-28\"], [\"0\", \"2019-11-28\"], [\"0\", \"2019-11-28\"], [\"0\", \"2019-11-28\"], [\"0\", \"2019-11-28\"], [\"0\", \"2019-11-28\"], [\"0\", \"2019-11-28\"], [\"0\", \"2019-11-22\"], [\"0\", \"2019-11-23\"], [\"0\", \"2019-11-22\"], [\"0\", \"2019-11-23\"], [\"0\", \"2019-11-22\"], [\"0\", \"2019-11-22\"], [\"0\", \"2019-11-21\"], [\"0\", \"2019-11-20\"], [\"0\", \"2019-11-20\"], [\"0\", \"2019-11-20\"], [\"0\", \"2019-11-19\"], [\"0\", \"2019-11-19\"], [\"0\", \"2019-11-19\"], [\"0\", \"2019-11-17\"], [\"0\", \"2019-11-18\"], [\"0\", \"2019-11-16\"], [\"0\", \"2019-11-16\"], [\"0\", \"2019-11-16\"], [\"0\", \"2019-11-15\"], [\"0\", \"2019-11-15\"], [\"0\", \"2019-11-14\"], [\"0\", \"2019-11-11\"], [\"0\", \"2019-11-11\"], [\"0\", \"2019-11-11\"], [\"0\", \"2019-11-10\"], [\"0\", \"2019-11-09\"], [\"0\", \"2019-11-09\"], [\"0\", \"2019-11-07\"], [\"0\", \"2019-11-05\"], [\"0\", \"2019-11-05\"], [\"0\", \"2019-11-04\"], [\"0\", \"2019-11-02\"], [\"0\", \"2019-11-01\"], [\"0\", \"2019-11-01\"], [\"0\", \"2019-11-01\"], [\"0\", \"2019-10-31\"], [\"0\", \"2019-10-30\"], [\"0\", \"2019-10-28\"], [\"0\", \"2019-10-27\"], [\"0\", \"2019-10-24\"], [\"0\", \"2019-10-25\"], [\"0\", \"2019-10-25\"], [\"0\", \"2019-10-25\"], [\"0\", \"2019-10-24\"], [\"0\", \"2019-10-24\"], [\"0\", \"2019-10-22\"], [\"0\", \"2019-10-23\"], [\"0\", \"2019-10-22\"], [\"0\", \"2019-10-23\"], [\"0\", \"2019-10-18\"], [\"0\", \"2019-10-21\"], [\"0\", \"2019-10-20\"], [\"0\", \"2019-10-19\"], [\"0\", \"2019-10-18\"], [\"0\", \"2019-10-18\"], [\"0\", \"2019-10-18\"], [\"0\", \"2019-10-18\"], [\"0\", \"2019-10-18\"], [\"0\", \"2019-10-16\"], [\"0\", \"2019-10-16\"], [\"0\", \"2019-10-15\"], [\"0\", \"2019-10-14\"], [\"0\", \"2019-10-14\"], [\"0\", \"2019-10-14\"], [\"0\", \"2019-10-13\"], [\"0\", \"2019-10-13\"], [\"0\", \"2019-10-13\"], [\"0\", \"2019-10-12\"], [\"0\", \"2019-10-12\"], [\"0\", \"2019-10-12\"], [\"0\", \"2019-10-11\"], [\"0\", \"2019-10-11\"], [\"0\", \"2019-10-11\"], [\"0\", \"2019-10-11\"], [\"0\", \"2019-10-11\"], [\"0\", \"2019-10-11\"], [\"0\", \"2019-10-09\"], [\"0\", \"2019-10-10\"], [\"0\", \"2019-10-10\"], [\"0\", \"2019-10-10\"], [\"0\", \"2019-10-10\"], [\"0\", \"2019-10-09\"], [\"0\", \"2019-10-10\"], [\"0\", \"2019-10-10\"], [\"0\", \"2019-10-10\"], [\"0\", \"2019-10-09\"], [\"0\", \"2019-10-08\"], [\"0\", \"2019-10-08\"], [\"0\", \"2019-10-07\"], [\"0\", \"2019-10-06\"], [\"0\", \"2019-10-09\"], [\"0\", \"2019-10-08\"], [\"0\", \"2019-10-08\"], [\"0\", \"2019-10-08\"], [\"0\", \"2019-10-08\"], [\"0\", \"2019-10-07\"], [\"0\", \"2019-10-07\"], [\"0\", \"2019-10-07\"], [\"0\", \"2019-10-07\"], [\"0\", \"2019-10-06\"], [\"0\", \"2019-10-05\"], [\"0\", \"2019-10-05\"], [\"0\", \"2019-10-04\"], [\"0\", \"2019-10-04\"], [\"0\", \"2019-10-03\"], [\"0\", \"2019-10-03\"], [\"0\", \"2019-10-03\"], [\"0\", \"2019-10-02\"], [\"0\", \"2019-10-01\"], [\"0\", \"2019-10-02\"], [\"0\", \"2019-10-01\"], [\"0\", \"2019-10-01\"], [\"0\", \"2019-09-30\"], [\"0\", \"2019-09-29\"], [\"0\", \"2019-09-29\"], [\"0\", \"2019-09-28\"], [\"0\", \"2019-09-28\"], [\"0\", \"2019-09-28\"], [\"0\", \"2019-09-27\"], [\"0\", \"2019-09-26\"], [\"0\", \"2019-09-26\"], [\"0\", \"2019-09-25\"], [\"0\", \"2019-09-25\"], [\"0\", \"2019-09-24\"], [\"0\", \"2019-09-25\"], [\"0\", \"2019-09-24\"], [\"0\", \"2019-09-22\"], [\"0\", \"2019-09-21\"], [\"0\", \"2019-09-21\"], [\"0\", \"2019-09-18\"], [\"0\", \"2019-09-15\"], [\"0\", \"2019-09-15\"], [\"0\", \"2019-09-13\"], [\"0\", \"2019-09-13\"], [\"0\", \"2019-09-12\"], [\"0\", \"2019-09-12\"], [\"0\", \"2019-09-11\"], [\"0\", \"2019-09-11\"], [\"0\", \"2019-09-11\"], [\"0\", \"2019-09-10\"], [\"0\", \"2019-09-10\"], [\"0\", \"2019-09-09\"], [\"0\", \"2019-09-09\"], [\"0\", \"2019-09-09\"], [\"0\", \"2019-09-09\"], [\"0\", \"2019-09-08\"], [\"0\", \"2019-09-08\"], [\"0\", \"2019-09-07\"], [\"0\", \"2019-09-07\"], [\"0\", \"2019-09-07\"], [\"0\", \"2019-09-07\"], [\"0\", \"2019-09-05\"], [\"0\", \"2019-09-05\"], [\"0\", \"2019-09-04\"], [\"0\", \"2019-09-03\"], [\"0\", \"2019-09-03\"], [\"0\", \"2019-09-02\"], [\"0\", \"2019-09-03\"], [\"0\", \"2019-09-02\"], [\"0\", \"2019-09-03\"], [\"0\", \"2019-09-02\"], [\"0\", \"2019-09-01\"], [\"0\", \"2019-09-01\"], [\"0\", \"2019-08-30\"], [\"0\", \"2019-08-30\"], [\"0\", \"2019-08-28\"], [\"0\", \"2019-08-27\"], [\"0\", \"2019-08-27\"], [\"0\", \"2019-08-27\"], [\"0\", \"2019-08-24\"], [\"0\", \"2019-08-25\"], [\"0\", \"2019-08-23\"], [\"0\", \"2019-08-23\"], [\"0\", \"2019-08-22\"], [\"0\", \"2019-08-23\"], [\"0\", \"2019-08-23\"], [\"0\", \"2019-08-22\"], [\"0\", \"2019-08-21\"], [\"0\", \"2019-08-21\"], [\"0\", \"2019-08-21\"], [\"0\", \"2019-08-20\"], [\"0\", \"2019-08-20\"], [\"0\", \"2019-08-19\"], [\"0\", \"2019-08-19\"], [\"0\", \"2019-08-18\"], [\"0\", \"2019-08-18\"], [\"0\", \"2019-08-17\"], [\"0\", \"2019-08-17\"], [\"0\", \"2019-08-16\"], [\"0\", \"2019-08-16\"], [\"0\", \"2019-08-16\"], [\"0\", \"2019-08-16\"], [\"0\", \"2019-08-16\"], [\"0\", \"2019-08-16\"], [\"0\", \"2019-08-16\"], [\"0\", \"2019-08-15\"], [\"0\", \"2019-08-15\"], [\"0\", \"2019-08-15\"], [\"0\", \"2019-08-15\"], [\"0\", \"2019-08-14\"], [\"0\", \"2019-08-14\"], [\"0\", \"2019-08-13\"], [\"0\", \"2019-08-13\"], [\"0\", \"2019-08-13\"], [\"0\", \"2019-08-13\"], [\"0\", \"2019-08-13\"], [\"0\", \"2019-08-13\"], [\"0\", \"2019-08-12\"], [\"0\", \"2019-08-12\"], [\"0\", \"2019-08-12\"], [\"0\", \"2019-08-11\"], [\"0\", \"2019-08-10\"], [\"0\", \"2019-08-09\"], [\"0\", \"2019-08-08\"], [\"0\", \"2019-08-07\"], [\"0\", \"2019-08-06\"], [\"0\", \"2019-08-06\"], [\"0\", \"2019-08-05\"], [\"0\", \"2019-08-02\"], [\"0\", \"2019-08-02\"], [\"0\", \"2019-07-30\"], [\"0\", \"2019-07-30\"], [\"0\", \"2019-07-28\"], [\"0\", \"2019-07-27\"], [\"0\", \"2019-07-23\"], [\"0\", \"2019-07-22\"], [\"0\", \"2019-07-22\"], [\"0\", \"2019-07-18\"], [\"0\", \"2019-07-18\"], [\"0\", \"2019-07-18\"], [\"0\", \"2019-07-14\"], [\"0\", \"2019-07-14\"], [\"0\", \"2019-07-13\"], [\"0\", \"2019-07-11\"], [\"0\", \"2019-07-11\"], [\"0\", \"2019-07-07\"], [\"0\", \"2019-07-07\"], [\"0\", \"2019-07-03\"], [\"0\", \"2019-07-03\"], [\"0\", \"2019-07-02\"], [\"0\", \"2019-07-03\"], [\"0\", \"2019-07-02\"], [\"0\", \"2019-07-02\"], [\"0\", \"2019-07-01\"], [\"0\", \"2019-07-01\"], [\"0\", \"2019-07-01\"], [\"0\", \"2019-06-26\"], [\"0\", \"2019-06-25\"], [\"0\", \"2019-06-25\"], [\"0\", \"2019-06-22\"], [\"0\", \"2019-06-21\"], [\"0\", \"2019-06-18\"], [\"0\", \"2019-06-19\"], [\"0\", \"2019-06-17\"], [\"0\", \"2019-06-17\"], [\"0\", \"2019-06-14\"], [\"0\", \"2019-06-12\"], [\"0\", \"2019-06-13\"], [\"0\", \"2019-06-12\"], [\"0\", \"2019-06-12\"], [\"0\", \"2019-06-12\"], [\"0\", \"2019-06-11\"]], \"hoverlabel\": {\"namelength\": 0}, \"hovertemplate\": \"<b>%{hovertext}</b><br><br>Hierarchical=%{customdata[0]}<br>source=Reuters<br>pc1=%{x}<br>pc3=%{y}<br>date=%{customdata[1]}\", \"hovertext\": [\"Exclusive: Support for Hong Kong protesters' demands rises even as\", \"Hong Kong rail operator ordered to release police protest footage\", \"Hong Kong pro-democracy protesters hold vigil to mourn student's death\", \"Robert Walters' pretax profit falls, warns of likely coronavirus hit\", \"United States expresses concern over arrest of Hong Kong publisher\", \"Hong Kong protesters mark seven months since brutal mob attack\", \"Holiday Inn-owner IHG takes hit from Hong Kong protests\", \"Hong Kong protesters rally against planned virus quarantine centers\", \"Chinese tourist in France becomes first to die in Europe\", \"First love on the front lines: Coming of age in\", \"Arrested Hong Kong protesters stuck in limbo as cases grind\", \"Hong Kong protesters decry police inaction six months after brutal\", \"Hotels group Accor launches 300 mln euros buyback programme\", \"Police arrest organizer of Hong Kong protest after rally turns\", \"Hong Kong protesters fete landslide election win for Taiwan's Tsai\", \"Show Hong Kong value of democracy, Taiwan president says before\", \"Envy and solidarity from Hong Kong activists as democratic Taiwan\", \"Hong Kong workers flock to labor unions as new protest\", \"Taiwan election is make or break for fleeing Hong Kong\", \"Backstory: Inside Hong Kong\\u2019s protests as a campus became a\", \"Taiwan to vote in shadow of China pressure, Hong Kong\", \"United Airlines to record $90 million charge related to Hong\", \"Dozens arrested after Hong Kong protest taking aim at Chinese\", \"HSBC kicks off year with Hong Kong branches closed, vandalized\", \"Exclusive: China halts British stock link over political tensions -\", \"HSBC kicks off year with Hong Kong branches closed, vandalised\", \"Reuters launches a series of polls on the protest movement\", \"Exclusive: Hong Kongers support protester demands; minority wants independence from\", \"Hong Kong protest tide turns into sea of flames\", \"Clashes as police try to clear Hong Kong protesters after\", \"Hong Kong protesters rally in support of China's ethnic Uighurs\", \"Hong Kong protesters face off with police in mall protests\", \"Breakingviews - Jack Dorsey adds third job as anti-Facebook hero\", \"Hong Kong protesters denounce police raid on fund-raising platform\", \"Hong Kong protesters seek international support on rights\", \"UK urges China to open dialogue with Hong Kong on\", \"Hong Kong court orders counseling for girl, 13, for burning\", \"Revolution 101: For hardened teens of Hong Kong protests, violence\", \"Refinitiv created filter to block Reuters stories amid Hong Kong\", \"RPT-SPECIAL REPORT-Refinitiv created filter to block Reuters stories amid Hong\", \"Hong Kong protesters mark six months since pivotal clash with\", \"Eye blinded covering Hong Kong protests, Indonesian reporter seeks justice\", \"Taiwan president says not 'using' Hong Kong protests for election\", \"Fire and petrol bombs after 'generally peaceful' Hong Kong march,\", \"China's HK and Macau office complains over new U.S. law\", \"Firms move legal battles from protest-hit Hong Kong in fresh\", \"China demands 'fighting spirit' from diplomats as trade war, Hong\", \"Trump says new U.S. law on Hong Kong doesn't help\", \"FTSE 100 lower as trade angst persists; Ocado outperforms\", \"JGBs slip, post third consecutive monthly fall\", \"REFILE-Nikkei down, investors still wary over U.S.-China trade\", \"Hong Kong police exit wrecked campus, weekend protests planned\", \"Tokyo shares flat as market awaits more cues on U.S.-China\", \"CANADA STOCKS-TSX futures down amid trade uncertainties\", \"China could put U.S. Hong Kong law drafters on no-entry\", \"China could put U.S. Hong Kong law drafters on no-entry\", \"Hong Kong stocks fall on renewed trade deal worries\", \"Nikkei snaps 4-day winning streak after Trump move backing Hong\", \"China, HK stocks fall amid slowdown concerns, Sino-U.S. trade jitters\", \"Japanese shares dip after Trump move backing Hong Kong protesters\", \"FOREX-Yen rises, yuan falls after Trump signs Hong Kong protest\", \"Protesters left on besieged Hong Kong campus weigh options\", \"Still hope for U.S.-China deal this year: U.S. official\", \"Trump vague about whether he will veto bills that back\", \"'Time to calm down': Hong Kong protests simmer ahead of\", \"China stocks near 3-month lows amid worries over relations with\", \"Handful of Hong Kong protesters surrender as university siege staggers\", \"CANADA STOCKS-TSX dips on U.S.-China trade worries; energy, pot stocks\", \"Open homes, free rides: the people helping Hong Kong's protesters\", \"Tear gas above ground, snakes below: Hong Kong protesters take\", \"Breakingviews - Hadas: Hong Kong tips Beijing\\u2019s balance quandary\", \"U.N. decries Hong Kong protesters' violence, calls for calm\", \"HIGHLIGHTS-Hundreds of protesters leave Hong Kong university; about 100 remain\", \"HIGHLIGHTS-Hundreds of protesters leave Hong Kong university, over 100 remain\", \"At Hong Kong university, a daring escape but fears of\", \"Footage shows daring escape by Hong Kong protesters on motorbikes\", \"Hong Kong campus protesters fire arrows as anti-government unrest spreads\", \"China's PLA soldiers seen helping clean up streets after Hong\", \"China's PLA soldiers seen helping clean up streets after Hong\", \"Highway blockade reveals splits in Hong Kong protest movement\", \"South Korean, Chinese students face off over Hong Kong protests\", \"Flaming arrows and petrol bombs: Inside Hong Kong protesters' 'weapons\", \"Nikkei eases off 13-month high, consolidates gains\", \"GLOBAL MARKETS-Asian shares a sea of red as HK chaos\", \"Hong Kong protesters shot by police as chaos erupts across\", \"Protests expected at Hong Kong shopping malls one week after\", \"Thousands gather for 'martyrs' vigil amid Hong Kong protests\", \"Hong Kong faces 24th weekend of protest after student's death\", \"Singapore police investigate Hong Kong protest bar meeting\", \"China to 'perfect' HK system as water cannon breaks up\", \"Effort in U.S. Congress to rein in China on Hong\", \"Scores injured, one critical in chaotic weekend of Hong Kong\", \"Hong Kong protesters trash Xinhua agency office in night of\", \"'I stopped dancing, I'm fighting now': Hong Kong protesters take\", \"Hong Kong bourse's head calls himself great believer in 'one\", \"REFILE-Hong Kong bourse's head calls himself great believer in \\\"one\", \"Hong Kong police fire tear gas to break up Halloween\", \"Hong Kong protesters target party district on potentially hazardous Halloween\", \"Hong Kong enters recession, official says, as protests again erupt\", \"Hong Kong protesters hurl petrol bombs after police fire tear\", \"Pence backs Hong Kong protests in China speech, slams NBA\", \"Hong Kong stocks edge lower ahead of trade talks, Fed\", \"GLOBAL MARKETS-Asian shares stall, sterling falters amid Brexit, growth anxiety\", \"Hong Kong set for more subdued weekend of protests\", \"Hong Kong pro-democracy protesters rally for Catalan separatists\", \"Hong Kong protesters to rally in support of Catalan activists\", \"Season of discontent: protests flare around the world\", \"China's CCTV shuns NBA season opening games following Hong Kong\", \"Hong Kong protesters crash NBA opening night party\", \"Shaq backs Rockets' Morey in Hong Kong protest controversy\", \"Hong Kong protesters vow to hit the streets in major\", \"Facebook announces new steps to clamp down on misinformation ahead\", \"Resurgent Hong Kong protesters stage huge rally, violence erupts again\", \"Hong Kong protest leaders urge turnout for march, despite risk\", \"U.S. lawmakers urge Apple to restore HKMap app used in\", \"Apple's Cook meets China regulator after pulling Hong Kong app\", \"China stops couriers from shipping black clothing to Hong Kong\", \"Hong Kong stocks fall on weak China growth data\", \"China denies that it demanded firing of Houston Rockets GM\", \"Hong Kong protesters intend to topple city's government, says Singapore\", \"CANADA STOCKS-TSX buoyed by Aritzia, mining stocks gain\", \"U.S. concerned about some Hong Kong protest tactics, heavier China\", \"Tens of thousands of Hong Kong protesters plead for U.S.\", \"Blizzard Entertainment cuts punishment for gamer in Hong Kong protests\", \"Blizzard Entertainment cuts punishment for HK gamer in protests row\", \"Hong Kong protesters and police clash, metro and shops targeted\", \"China's Xi warns attempts to divide China will end in\", \"Hong Kong pro-democracy activists hoist 'Lady Liberty' statue above city\", \"Petrol bombs thrown in Hong Kong metro, protesters defy face\", \"HK leader ditches meeting Ted Cruz, says the U.S. senator\", \"Silver-haired sit-in, face mask party protests planned for Hong Kong\", \"Hong Kong protesters gear up at 'National Calamity Hardware Store'\", \"China denounces Thai politicians for show of support to Hong\", \"Thai army chief decries opposition, hints at threat to monarchy\", \"NBA scraps media access to teams in China amid HK\", \"NBA says no media sessions for Nets, Lakers for rest\", \"NBA says no media sessions for Nets, Lakers for rest\", \"Excited China fans cheer NBA game despite row over Hong\", \"Apple pulls app used to track Hong Kong police, Cook\", \"Hong Kong says not trying to stop protests, just violence\", \"Factbox: Global firms take action after China criticism over Hong\", \"Google pulls Hong Kong protester role-playing app\", \"NBA fans in China seek refund from Tencent as streaming\", \"NBA Shanghai game still scheduled amid Hong Kong free speech\", \"Apple removes police-tracking app used in Hong Kong protests from\", \"More Hong Kong protests planned as metro limps back to\", \"Hong Kong protesters stage peaceful rallies calling for 'liberation'\", \"China state newspaper criticizes Apple for app use by Hong\", \"China smartphone maker Vivo says to suspend all cooperation with\", \"Factbox: Fans, U.S. politicians, others react to NBA's China controversy\", \"NBA stirs U.S. hornet's nest, faces China backlash over Hong\", \"Chinese state media slam U.S. basketball's NBA in free speech\", \"Shoemaker Vans treads warily as China fumes over Hong Kong\", \"China TV drops NBA exhibition games; league defends free speech\", \"NBA's Silver says won't regulate what players, employees say on\", \"PageGroup warns on 2019 profit as macroeconomic problems persist\", \"U.S. lawmakers lash 'shameful' NBA response to Hong Kong protests\", \"Brooklyn Nets owner, Alibaba co-founder Tsai decries Houston Rockets GM's\", \"China criticizes EU, French 'hypocritical' reaction to Hong Kong protests\", \"NBA Rockets general manager apologizes for Hong Kong protest tweet\", \"Chinese soldiers in Hong Kong warn protesters as emergency rules\", \"Hong Kong goes quiet as subway, shops close after night\", \"U.N. calls for probe into violence related to Hong Kong\", \"COLUMN-Beset by Hong Kong protests, China's Xi showcases missiles: Peter\", \"Factbox: What's next for Hong Kong's protest movement\", \"About $4 billion Hong Kong deposits may have left for\", \"Hong Kong shares skid as U.S. slaps tariffs on Europe\", \"Hong Kong protesters go on rampage to denounce police shooting\", \"Mainland banks, pro-Beijing businesses caught in Hong Kong protest cross-hairs\", \"Police shoot teen protester as Hong Kong violence escalates\", \"In Hong Kong, protesters target mainland and pro-Beijing businesses\", \"Key dates in Hong Kong's protests\", \"Dramatic footage captures moment when Hong Kong protester was shot\", \"Hong Kong police fire water cannon, tear gas as protests\", \"Singer attacked with paint at pro-Hong Kong democracy rally in\", \"UK 'won't look the other way' when Hong Kong protesters\", \"Hong Kong police fire tear gas, water cannon to halt\", \"Hong Kong protesters block traffic, taunt police\", \"Hong Kong protesters set busy schedule ahead of China National\", \"Hong Kong protesters denounce police ahead of flashpoint weekend\", \"Hong Kong protesters trap leader for hours in stadium after\", \"Hong Kong protesters block roads near stadium where leader Carrie\", \"Taiwan church collects more than 4,000 gas masks to send\", \"Dozens of Hong Kong protesters appear in court on rioting\", \"What's next for Hong Kong's protest movement\", \"Apple Daily condemns attack on reporter covering Hong Kong protests\", \"Japan Sept factory activity shrinks most in 7 months, new\", \"Hong Kong police fire tear gas after storming shopping mall\", \"Hong Kong protests turn to violent clashes in multiple towns\", \"Pro-Beijing groups tear down Hong Kong's protest walls, raising risk\", \"U.S. Congress to advance 'Hong Kong Human Rights and Democracy'\", \"Hong Kong protesters hurl petrol bombs at government buildings in\", \"Hong Kong protesters call on former ruler Britain to pressure\", \"Lantern-waving Hong Kong protesters take to hills, as leader pledges\", \"Hong Kongers troubled by unrest look for new homes abroad\", \"Hong Kong protesters plan busy Mid-Autumn Festival\", \"Hong Kong protests combine with Mid-Autumn lantern celebrations\", \"Hong Kong protesters pause to mark Sept. 11\", \"Taiwan urges citizens to avoid Hong Kong and China after\", \"Hong Kong protesters hit pause to mark Sept. 11 attacks\", \"Hong Kong protesters boo Chinese anthem, as leader warns against\", \"Reuters hosts Newsmaker with General Jim Mattis and Honorable F.J.\", \"My town is the new Cold War's Berlin: Hong Kong\", \"Office provider The Executive Center pauses sale amid Hong Kong\", \"U.S. should side with Hong Kong protesters, says ex-Pentagon chief\", \"Office provider The Executive Centre pauses sale amid Hong Kong\", \"Hong Kong police fire tear gas as clashes erupt after\", \"Hong Kong protesters to take their democracy message to U.S.\", \"Germany's Merkel presses for peaceful Hong Kong resolution\", \"Germany's Merkel presses call for peaceful Hong Kong resolution\", \"Pentagon chief urges Chinese restraint over Hong Kong protests\", \"Hong Kong protests to target airport after night of violence\", \"Hong Kong a priority for U.S. Senate Democrats, leader says\", \"PRECIOUS-Gold eases as equities gain on Brexit, Hong Kong progress\", \"FTSE jumps on hopes Hong Kong unrest could end\", \"Activists urge Taiwan to join fight for Hong Kong democracy\", \"Britain calls for credible investigation into Hong Kong protests\", \"Lithuania raps Chinese diplomats for role at pro-Hong Kong protest\", \"Fashion brand Zara seeks to distance itself from Hong Kong\", \"Special Report: Hong Kong leader says she would 'quit' if\", \"RPT-SPECIAL REPORT-Hong Kong leader says she would 'quit' if she\", \"GLOBAL MARKETS-Stocks shiver as new U.S.-China tariffs add to global\", \"Hong Kong protesters target airport but planes keep flying\", \"Hong Kong protesters plan to disrupt airport after night of\", \"Exclusive: Messaging app Telegram moves to protect identity of Hong\", \"U.S. and China will meet in September, Trump says, but\", \"Hong Kong protesters denounce Cathay Pacific for firing cabin crew\", \"'Now or never': Hong Kong protesters say they have nothing\", \"Hong Kong violence becoming more serious, but government in control,\", \"Hong Kong protests fuel buyer interest in luxury Australia, New\", \"Hong Kong protests met with tear gas; China frees UK\", \"Gambling hub Macau chooses Beijing-backed man as leader\", \"Hong Kong families form peaceful human chains ahead of airport\", \"Lithuanian human chain links anti-Soviet and Hong Kong protesters\", \"YouTube finds influence campaign tied to Hong Kong protests\", \"Explainer: Hong Kong's 'borrowed time' - worry about 2047 hangs\", \"RPT-'All the forces': China's global social media push over Hong\", \"'All the forces': China's global social media push over Hong\", \"Frontline protesters make case for violence in Hong Kong protests\", \"Hong Kong protesters clash with police, angry at lack of\", \"Don't 'mess up Macau': gambling hub set to choose Beijing-backed\", \"Hong Kong leader says dialogue and 'mutual respect' offer way\", \"China cries foul over Facebook, Twitter block of fake accounts\", \"Twitter, Facebook accuse China of using fake accounts to undermine\", \"Twitter discloses China-backed interference in Hong Kong protests\", \"Hong Kong protesters throng streets peacefully in pouring rain\", \"RPT-DEALTALK-Alibaba and the $15 bln question: Amid Hong Kong's protests,\", \"Hong Kongers rally against government under stormy skies\", \"Australian police tell Chinese to keep peace after scuffles at\", \"Alibaba and the $15 billion question: Amid Hong Kong's protests,\", \"Special Report: Rudderless rebellion - Inside the Hong Kong protesters'\", \"Trump, Trudeau discussed developments in Hong Kong, Canadians held in\", \"Cathay CEO resigns amid Hong Kong protest blowback as more\", \"Breakingviews - Cathay shakeup clarifies China\\u2019s corporate muscle\", \"Cathay Pacific Airways CEO Rupert Hogg resigns as Chinese scrutiny\", \"SPECIAL REPORT-Rudderless rebellion: Inside the Hong Kong protesters' anarchic campaign\", \"China warns it could quell Hong Kong protesters; Trump urges\", \"Trump urges China's Xi to meet Hong Kong protesters\", \"China will not 'sit on its hands' if Hong Kong\", \"China says crew information submitted by Cathay Pacific meets requirements\", \"Hong Kong protesters offer apologies, China doubles down after airport\", \"Normal operations resume at Hong Kong airport as city braces\", \"Chinese state media urge action, voice support for Hong Kong\", \"Trump hopes 'tricky' Hong Kong situation works out 'for liberty'\", \"China hits back at U.N. rights boss over Hong Kong\", \"PRECIOUS-Gold hits more than 6-year high on Hong Kong, Argentina\", \"PRECIOUS-Gold hits over six-year peak on risk-off sentiment\", \"GLOBAL MARKETS-Asia shares tumble as Hong Kong unrest, Argentine peso\", \"U.S. yields tumble on trade worries, political tension\", \"Cathay Pacific shares slump after China cracks down on staff\", \"Hong Kong stocks end lower as protests threaten to dent\", \"Hong Kong braces for fresh protests as marchers set to\", \"Cathay Pacific suspends pilot arrested in Hong Kong protests\", \"Downturn to hit Hong Kong like a 'tsunami', as China\", \"Breakingviews - Hong Kong protesters strike market nerves at last\", \"New Zealand rebukes China over freedom of speech after student\", \"Group of Hong Kong activists says will not back down\", \"Group of HK activists says will not back down on\", \"Hong Kong protesters seek to shut down city with general\", \"Refinitiv removes Reuters story on Hong Kong protests from screens\", \"Trump says it's up to China to deal with Hong\", \"New protest erupts as Hong Kong charges 44 activists with\", \"Hong Kong protesters disrupt train services, cause commuter chaos\", \"China rejects U.S. lawmaker's comments on HK protests, human rights\", \"Australia says diplomats should not undermine rights, after HK protest\", \"Breakingviews - Corporate activism tastes different in China\", \"Trump says China's Xi has acted responsibly on Hong Kong\", \"Hong Kong protesters violated 'One Country, Two Systems' bottom line:\", \"Hong Kong's protesters dig in for long summer of discontent\", \"How Reuters counted a quarter million people at Hong Kong's\", \"Mooncakes, hymns and post-it notes: the color of Hong Kong's\", \"Clashes break out as Hong Kong protesters escalate fight in\", \"REUTERS NEWS SCHEDULE AT 1000 GMT/0600 ET\", \"Hong Kong protesters, police clash as demonstrations target Chinese traders\", \"Activists lay flowers at memorial for Hong Kong protester\", \"Imagine all the Post-its: Hong Kong protesters come together with\", \"Hong Kong protesters march again, reaching out to Chinese visitors\", \"Hong Kong protesters take aim at Chinese visitors to explain\", \"Hong Kong protests and China's tightening grip rattle business community\", \"Flag-waving Grandma Wong gives Hong Kong protesters lesson in endurance\", \"China condemns violent Hong Kong protests as 'undisguised challenge' to\", \"Hong Kong protests, Beijing's tightening grip rattle business community\", \"Hong Kong police tactics baffle the experts as legislature is\", \"Breakingviews - Hong Kong protesters score Pyrrhic victory\", \"EU calls for restraint, dialogue amid Hong Kong protests\", \"China tells Britain to stop 'gesticulating' about Hong Kong\", \"Hong Kong protesters smash windows at legislature in fresh chaos\", \"Hong Kong activists urge G20 leaders to help 'liberate' city\", \"Britain bans sales of tear gas to Hong Kong after\", \"Hong Kong activists crowdfund for anti-extradition bill voice at G20\", \"Hong Kong protesters disperse after blockading police headquarters\", \"Fate of 24 arrested Hong Kong protesters hangs in balance\", \"'Sing Hallelujah to the Lord' an unlikely anthem of Hong\", \"Breakingviews - Hadas: Hong Kong teaches lessons on taming China\", \"British PM May raises Hong Kong protests with China's Hu\", \"UK's May to raise Hong Kong protests with China's Hu\", \"'Hong Kong' searches surge behind China's Great Firewall\", \"Hong Kong protesters scuffle with police, government offices shut\", \"\\\"Hong Kong\\\" searches surge behind China's Great Firewall\", \"China state media blames Hong Kong protests on 'lawlessness'\", \"Heated Hong Kong protests dent stocks, spike cash demand\", \"Hundreds of Hong Kong protesters storm key road as extradition\", \"Hundreds rally in Hong Kong in fresh protests against extradition\"], \"legendgroup\": \"Hierarchical=0, source=Reuters\", \"marker\": {\"color\": \"green\", \"opacity\": 0.8, \"symbol\": \"diamond\"}, \"mode\": \"markers\", \"name\": \"Hierarchical=0, source=Reuters\", \"showlegend\": true, \"type\": \"scattergl\", \"x\": [0.505682452935453, 1.3361885430530684, -0.6778803142003069, -3.059597363198738, -0.6138461942549488, -1.7340207340740832, -2.3740636387017706, -0.4942501155192091, -0.19090544749392618, -1.2721476358328598, -0.6648427394949645, -0.4313262353605721, -2.0198451735239282, 3.2531549964172126, 0.2667623026202881, -0.3807093721286692, 1.6408625990949859, -0.524729870185864, 0.2892254345494712, -0.692223166767975, 0.6673571230614553, -1.752125216010757, -2.7570695380686856, -0.5180180985319348, -1.1619840001057193, -0.5180180985319348, -0.4734716477510113, -0.9877093287481931, 0.5723244471341192, 0.2968825409410545, 1.3289289479389483, -0.09823443594260096, -0.48454739538403707, -0.8021432593963106, -2.1367430437667267, -2.9365955843255978, -0.47422239218241335, -0.42197625437440617, -0.5814809084692986, -0.5814809084692986, 0.5257757713035417, -1.6687615113957135, 0.36028874013035916, -0.058379005785150186, -0.9800901090419419, -2.5527421296016173, 2.648119859159271, -1.8338103850600427, -1.039338029668585, -1.8825789990739412, -3.042575483589057, 0.8805092757691383, -3.4845798970368027, -1.9355787591268503, 0.5807884459116892, 1.5918070124503643, -2.8084833616702887, -2.6432168139397705, -1.4552873192175446, -2.955131120097748, -2.5708420632823814, -1.0477581231298556, -1.178255209385852, -0.18644416992325816, -0.16700069099844939, -0.266409136982286, -0.9153406950276082, -3.479358246156295, -0.9892569785964682, -0.4259806312120906, 1.0476646923189006, 2.0943101332437655, 2.5733173253570385, 1.0162088843566113, -0.8770226020492491, -0.6038795773343645, -0.3630549967273957, -0.46835191388881736, -0.4591256255643874, -0.3544304646341835, 0.010298504232103075, -0.9812455449168515, -2.733100982941149, -2.7593830028309196, -0.4912800855927354, -1.0658542503870942, 0.13424304000507656, 0.7116809562531411, 0.6156053678166579, 2.8937809238156724, -1.8107149430696532, -0.2822372077508625, -0.568212967121827, -0.08874265825935265, 1.332762737561336, 1.919814315798778, -0.3455735089578487, 0.06777680369231233, -1.669724727281851, -0.40492868712526503, -0.4966981201024149, -1.4994818337134792, -2.263167034010058, -0.18665201250845692, -0.5082862454869922, -0.4629061411108149, -1.5397170519163823, -0.8189308113744013, 0.11886341291957694, -0.3117614507492474, -0.05873435343884125, 1.2209610685266545, -2.3013989666338657, 0.574519815363108, 1.131294457644511, -0.9134440496988021, 0.2943366771603834, -2.8561534514451514, -0.36296223361449603, 0.7723653584455216, -2.2331747600383145, 1.0290017344128186, 0.4706922984223553, 0.14508729675521773, 0.2197361548157216, -0.23769923061599788, 0.2274164498364843, -0.2842007440749514, 0.7790042233010069, 0.6807870191567902, 0.1307509622781834, 0.21765243383053415, 0.970083655164415, -1.6483721948694519, -0.3876925349529135, -0.1507798137523574, -0.26728852698348565, 0.37572666712961583, -0.034820127887067356, 1.2858520260134874, -0.5228707571574449, -0.9016938152344568, -0.8633343169411123, 0.28325398467052976, -0.2973989484406313, -1.666412600729486, -0.8343997267249191, -0.8126602900112594, -0.1500036066808368, -0.21951521733765786, -1.8292080122798204, -0.11350948455633013, -1.3824329286457093, 0.8600431039151086, -0.1765274537124613, -1.1513930975720195, 0.5904287430293188, 0.630968697650017, 2.5566922687612355, 0.468789652349065, -0.46167673753167987, -0.06746701330734466, 0.043947810905504016, -1.2704750147348547, -1.5292491802382682, -0.9185398627780771, -2.1249437599658902, -0.019665514949267316, -1.8262714354208838, 0.06184798412901365, -1.6908820475166726, 2.4948409718122107, -1.3890866360838525, -0.5149552302709863, 1.2535753365994016, -0.014276774806621866, -0.5586136263524962, -0.4677319113374302, -0.9405484632240321, 0.10356842050020856, 3.0212193991686704, 0.12482523282009252, 0.33327700365646784, 0.6497688030048937, 0.7747852888982891, 1.0238795973518025, -2.5946536633692054, -0.7344446034255067, -0.5762493585242647, 0.5474311209664728, 1.33400469558471, -0.567942188612566, 1.2304469468254058, -1.0557511368851251, -2.4811134990410695, 0.002750235597686152, -0.5310050543636561, 0.40459083545331503, 2.855871170856416, 0.2246892794716756, 0.06478742754341334, 0.7212713206541178, -0.08215021544939287, -2.8722055827528123, 1.3181887776206191, -2.8336041466618513, -0.7899704776040151, 0.4075762969254031, -2.22164917496921, -1.2446623336285734, -0.27269244834169404, -0.3586985452250118, -0.5501680309434235, -2.2307212913464776, -3.7104836460297705, 0.180280084084491, 1.8687363551327536, 1.9295196522772995, -3.576717463650949, 0.505615166821026, 0.5022612023522603, -2.8603997240001355, -0.9443015716238389, 0.10254398276323196, -0.821233726498103, -1.5766871719124305, 0.15202286261222048, 0.1522086752887927, 0.8722854062521463, -3.656980934374691, -0.5508003227128393, -0.3762518717664266, 0.09626088235549518, -0.043543364760466566, 0.7254638777541563, 0.436968504210869, 0.11913004013021831, 0.10796268947294745, -0.5562378731435076, -0.7263030636882873, 0.5237824500871775, 1.1804323040239995, 0.6941386744488222, 2.9715168036053234, -0.1073949973182898, -0.7588096259988357, -2.033536680166208, -0.46943253618569947, 0.052403792478374775, -2.033536680166208, -0.1748357610610222, 1.2457001995997663, -0.855030036404967, -3.0439862328972622, -0.38041693503444807, -0.17702603091128352, 1.3263071486989022, -1.016863219485463, 2.8541815543691493, -0.13164984720174383, 1.353906539089094, -0.6565117828508985, 0.30438265357258487, 0.6208228954975638, -0.3270718189792166, -3.5359167939683402, -1.4351173409472198, -3.7199949438907245, -2.344519370214108, -1.9505052633275786, -1.0314747317552628, 1.5208821745764656, 1.1971606466662075, 0.13929230065753204, -2.2219582400943803, 2.530583319685576, -0.14928829670306218, -0.14928829670306218, -0.7846754664940292, 0.4654245172288005, -0.2941954212586184, -0.5755496940264455, 0.324420727332831, 0.42981286528803136, 0.8433577877336127, -0.4267753377431678, -0.10545422029956118, 0.9102156470300725, 1.7114748736355436, -0.6557309519536686, -0.7268068906313756, -0.5603573720787883, -2.6001653049799165, -0.4849249326480457, 2.5327268048343714, -0.2566491683037077, 1.0145020668262499, -0.89386671789442, -1.6466574305224067, -0.8906775501605645, 1.777372601936052, -2.3294257720289084, -0.36314497266061846, -1.385748494259067, 0.16838319653295533, 1.9900218271392176, -0.47762964802852687, -0.4917564704922358, 0.036729902604549634, 0.3804792386673433, 1.0969223657793228, -0.39043092499662213, -0.19530400450603283, 0.21651672432278715, 1.8941208415183421, 0.8708835712465071, 0.19476801608168634, 0.47132856878030227, 0.19476801608168634, 2.3348306011737994, -2.5587705539388166, 2.0059460664029443, -2.114654549046741], \"xaxis\": \"x\", \"y\": [0.18562693998772098, -1.7987336344516534, -3.3928249472951433, -0.05868196835839515, 0.7656537175328578, -2.1877421829466295, 0.08691451766694552, -0.10071250656936523, 2.794119288446777, -2.6835125809758305, -2.2335773537002894, -2.745656603626785, -0.4988810050348657, -2.234132553008768, 0.23785124595825882, 3.5428396655880197, 2.6495467555006695, -1.9489307992160418, 0.7379179727246472, -2.2273747223401585, 3.779127295727273, -0.6304066122704326, -1.5606646073593617, -0.43424742000674976, 1.3376045387286304, -0.43424742000674976, -0.7207410418934755, 0.40229637480232466, -1.7628027507764508, 0.9638620249679061, 0.46874675031141555, -2.686860750712061, 5.594395065530372, -1.8424841717869762, 0.475099673592993, 2.1702513188347465, -1.1081647877462784, -1.7767611262492893, 0.26939528774784877, 0.26939528774784877, -2.513881265702371, -0.8623951979653084, 5.577376034769439, -2.9007896063101515, -0.72690721637375, 1.1602235798542042, 1.9674008331034736, 2.9580046887365508, -1.1676367384247437, 0.026737303034533002, -0.3834132520789493, -1.6214130035201046, 0.028468258309495297, -1.2939063526905945, 0.40050581753411124, -0.9108581714003552, -0.3319196355140874, 0.03350359648637529, -0.7596957046003382, 0.05559628090777101, -0.5750352719249514, -2.069328274458951, 1.0786675846748197, 1.7904254701365556, -1.9281502274833175, 0.24044823755801137, -2.1613013440101376, 0.21819074678379471, -2.885497391883584, -2.1647634422756967, 2.3054732982226214, -1.171144049008295, -1.1337382976050712, -1.3332965308967235, -2.688327897270012, -2.9414039860443917, -1.5122387567801756, -1.8927866754164913, -1.7386185451952938, -3.746765863515424, 7.1319188429364475, -3.4202213464400932, -0.9900580055344516, -0.9236234406298933, -2.5242284323013475, -2.7384890567393083, -3.645878701881566, -3.430951173525301, 0.31141805649921284, -1.0876018767403444, 0.6548343955178071, -2.8513934144138324, -4.09381162001287, -3.681069156358357, 5.776264882353377, 4.584924324675678, -3.4145264400576814, -2.8868133742699045, -2.009802642225038, -2.961584339077803, 2.169718032319166, -0.7775784947223588, -0.47039476295110805, -0.9490378810328449, -3.093620251861282, -2.771161936974728, -0.9355491436898111, 3.329980467472152, 0.4692927077482353, 4.745881318913963, -3.4809693688180845, 5.7628999615846785, -1.9211635563206977, -2.9291490542969676, -1.0138435088159197, 1.704910440447083, -2.296210404291241, -0.5918826510564288, -0.8596106284554564, 0.2637959693701126, -0.5902330198368048, -0.5473071259857872, -2.641894863167637, 5.939395487210818, 5.523336099022909, -3.7334859314226527, 2.385496391279805, -3.2916056177032003, -3.6896322165254456, 3.196928080573587, -2.4913446593662045, -1.024890682991617, 2.9222169496244192, 1.365038358612626, 2.7622671234459424, 1.536036499882295, 0.2254666725170803, 5.043841501729462, 2.306910254788492, -0.47547651877069075, 1.9373392392190254, 0.2355373880389406, 2.1417152769909356, 5.078091971603221, 1.0418595120392187, -2.36491241146001, -1.2676054969607244, 0.18044675091887974, 1.4878439847049285, 3.768825671053555, 1.7921034106270288, 6.06683932595331, 2.2822901413496632, 7.8225483203392185, 1.170683729271558, -0.9088484270077214, 9.716244866473358, 10.26723278715104, 3.9716202916385126, 5.981249453376028, -3.1318397087312606, -2.663216146226318, 0.12219149633158478, 3.4345902261523, -1.0369520168743613, -0.3766099010020144, -0.48822017797365275, -2.9575602392515603, -2.1701420326606686, -3.8903900340716793, -1.681542642867151, -1.577368027200939, -2.353779340329507, -3.745216019861326, -0.7165773685002871, -1.9813396357943092, -3.772855842899115, -1.8203240648500183, -1.3800213999927913, -2.9704831439550876, -0.02028155326885084, -1.457969925336381, -1.2720625905157472, -2.4271232976572965, -1.8964744181026658, 3.266568423121725, 0.2268428022006481, -3.781150646911387, -4.428746803261037, -2.378413750511858, 3.9996769821737783, -4.2652688897522, 1.1838018049202548, -1.5059685753286467, 0.15018891439105006, -1.9666010762617632, -1.9467147614248903, 1.3556140871712394, 2.937302781920929, -0.6775823588366416, 2.7421964970746964, 7.005119203975456, -0.9781498717598385, 0.3672432969547234, 5.600860829473074, 0.7579965273490188, -1.8828518775879386, -0.9224905590074297, 0.15897785493389546, -0.6832040084838831, -0.8731269173437242, -1.7870286363164845, 2.367727537076534, -0.7784754076529945, 0.08995070814612624, -1.030531907006541, -0.8949559968004808, 3.51684727433497, 0.7979628367648904, -0.4840542543653525, -0.5185219583609283, 0.12059425782422277, -3.4668725253412602, -3.9080993043795376, -1.9747623942533297, 1.0857054004764009, -2.8423288678519887, -2.1738603547420423, -1.284574883392871, 0.18840134847322834, -3.6204615226560395, -0.9453940558697091, -3.0531918590148197, 2.37235823290302, 1.9431394484582907, 1.236437984455365, 7.228978274770161, 7.09883922446625, -3.5802092221634076, -3.77039893460386, -0.4651153747975019, -1.248474412854764, 6.024399699170135, 1.7425462313235014, 2.0443049665499418, -2.5354867889439325, -0.45495152558760293, -1.824991852600495, -0.6621198538951113, -0.45495152558760293, -3.263984443846693, 2.822209243251932, -2.3583511304955485, 1.0846329426260333, 3.80957828352476, -3.2864932013401864, 0.28248706309500626, 1.5177554731742475, 1.4911830222581954, -0.1379771957438975, -1.2417470791200003, -2.5065435687264137, 1.7664281933226103, 6.613505981257039, -0.7322084000085578, -0.19752654994004154, -0.24873349088403016, 0.16113157320495264, 0.3615792201329093, -1.0294407076043568, -0.3241836518760461, -3.172627557010888, 2.400123520798571, -0.6640801853683806, -0.9890994678785139, -0.9953212009068187, -1.824669427790929, -1.824669427790929, -0.6202754774693748, 3.2731815575917387, -0.7786460436080583, -2.6817255143452625, -0.7676644995642834, 3.4576006067132057, 0.861616622622018, 4.2306688558939385, 0.7586523603495104, -1.5624113769979961, -1.5026002097669193, 1.5799035000840027, -2.7377275266086287, -2.485180705668289, 0.5199358326489496, -1.7547203348704916, -0.22431219620141069, -2.838763332117429, -0.36131018854631947, -2.488179550220841, 0.4608478903370439, -0.6169832518532423, -2.2380049391848242, 0.9153834029334139, -1.3041715647135306, -0.4992767304753409, -1.790627483726696, 0.26416929894040403, -2.2524953223796356, -3.1410053472521873, 0.20844425662427377, 0.6144373730458229, -1.7351140188716268, -2.113488217723335, -2.0469440089809763, 2.1780994440708312, -0.8912852485131817, -1.1161744615839917, 2.7950194711742617, -1.9958210686774673, 2.7950194711742617, -0.9967877476347268, -1.4385970218043749, -1.2130127352157853, -0.9565860049679649], \"yaxis\": \"y\"}, {\"customdata\": [[\"0\", \"2019-08-26\"], [\"0\", \"2019-08-13\"], [\"0\", \"2019-10-04\"], [\"0\", \"2019-10-21\"], [\"0\", \"2019-08-13\"], [\"0\", \"2020-01-01\"], [\"0\", \"2019-11-26\"], [\"0\", \"2019-11-14\"], [\"0\", \"2019-11-13\"], [\"0\", \"2019-10-16\"], [\"0\", \"2019-12-24\"], [\"0\", \"2019-10-27\"], [\"0\", \"2019-09-03\"], [\"0\", \"2019-08-16\"], [\"0\", \"2019-12-04\"], [\"0\", \"2019-11-20\"], [\"0\", \"2019-10-07\"], [\"0\", \"2019-09-15\"], [\"0\", \"2019-09-05\"], [\"0\", \"2019-09-02\"], [\"0\", \"2019-08-28\"], [\"0\", \"2019-08-27\"], [\"0\", \"2019-08-24\"], [\"0\", \"2019-08-13\"], [\"0\", \"2019-08-13\"], [\"0\", \"2019-08-10\"], [\"0\", \"2019-08-03\"], [\"0\", \"2019-07-08\"], [\"0\", \"2019-07-04\"], [\"0\", \"2019-08-30\"], [\"0\", \"2019-08-28\"], [\"0\", \"2019-08-14\"], [\"0\", \"2019-08-11\"], [\"0\", \"2019-08-04\"], [\"0\", \"2019-07-31\"], [\"0\", \"2019-09-21\"], [\"0\", \"2019-09-12\"], [\"0\", \"2019-08-30\"], [\"0\", \"2019-08-27\"], [\"0\", \"2019-08-18\"], [\"0\", \"2019-08-15\"], [\"0\", \"2019-08-09\"], [\"0\", \"2019-08-06\"], [\"0\", \"2019-08-04\"], [\"0\", \"2019-07-30\"], [\"0\", \"2019-07-05\"], [\"0\", \"2019-11-13\"], [\"0\", \"2019-11-21\"], [\"0\", \"2019-11-26\"], [\"0\", \"2019-11-21\"], [\"0\", \"2019-10-26\"], [\"0\", \"2019-08-14\"], [\"0\", \"2019-09-01\"], [\"0\", \"2019-10-24\"], [\"0\", \"2019-11-19\"], [\"0\", \"2019-08-19\"], [\"0\", \"2019-09-11\"], [\"0\", \"2019-10-22\"], [\"0\", \"2019-09-01\"], [\"0\", \"2019-08-03\"], [\"0\", \"2019-08-06\"], [\"0\", \"2019-08-19\"], [\"0\", \"2020-01-01\"], [\"0\", \"2019-10-08\"], [\"0\", \"2019-11-26\"], [\"0\", \"2019-07-31\"], [\"0\", \"2020-01-02\"], [\"0\", \"2019-08-25\"], [\"0\", \"2019-12-06\"], [\"0\", \"2020-01-03\"], [\"0\", \"2019-10-26\"], [\"0\", \"2019-12-13\"], [\"0\", \"2019-07-02\"], [\"0\", \"2019-08-15\"], [\"0\", \"2019-08-09\"], [\"0\", \"2019-09-17\"], [\"0\", \"2019-07-01\"], [\"0\", \"2019-10-10\"], [\"0\", \"2019-12-19\"], [\"0\", \"2019-07-27\"], [\"0\", \"2019-10-10\"], [\"0\", \"2019-09-03\"], [\"0\", \"2019-08-14\"], [\"0\", \"2020-01-14\"], [\"0\", \"2019-08-26\"], [\"0\", \"2019-09-04\"]], \"hoverlabel\": {\"namelength\": 0}, \"hovertemplate\": \"<b>%{hovertext}</b><br><br>Hierarchical=%{customdata[0]}<br>source=CCTV<br>pc1=%{x}<br>pc3=%{y}<br>date=%{customdata[1]}\", \"hovertext\": [\"Hong Kong protests turn violent, several policemen injured\", \"Hong Kong cancels all flights as protesters disrupt airport\", \"Unrest-hit Hong Kong outlaws wearing masks in violent protests\", \"Double standards on Hong Kong and Catalonia will backfire\", \"Hong Kong police arrest 149 people during protests in last\", \"HKSAR gov't rejects foreign interference in Hong Kong's affairs\", \"Alibaba shares jump over 7% in Hong Kong debut\", \"Police issue statement on standoff at Chinese University of Hong\", \"China refutes U.S., U.K. remarks on Hong Kong violence\", \"China condemns U.S. House approval of bill on Hong Kong\", \"5 Hong Kong youths to join UN as junior professional\", \"Chinese experts, scholars brief journalists on Xinjiang, Hong Kong, Tibet\", \"New semester starts in Hong Kong, violence deplored\", \"Brutalities at Hong Kong airport resemble acts of terrorism\", \"Hong Kong to roll out more relief measures amid economic\", \"Two people accused of setting a man on fire granted\", \"Chinese diplomat condemns Houston Rockets manager for erroneous comments on\", \"Hong Kong residents voice support for police, national unity\", \"Hong Kong police: doxxed, ambushed, yet still resolute\", \"Don\\u2019t use the Hong Kong situation as leverage in the\", \"China voices firm opposition to G7 statement on Hong Kong\", \"Chinese in Southern California rally against violence in Hong Kong\", \"Taxis rally in Hong Kong calls for peace, restoring order\", \"China urges U.S. to stop interfering in Hong Kong affairs\", \"Commentary: Stop mobsters from pushing Hong Kong into abyss\", \"China refutes U.S. frequent intervening in Hong Kong affairs\", \"China urges Western nations not to intervene in Hong Kong\", \"Debunking the fallacies British politicians hold about Hong Kong\", \"China slashes British foreign secretary's Hong Kong comments\", \"3 leaders of Hong Kong groups advocating \\\"independence\\\" detained: police\", \"Hong Kong's embattled police force resolute in face of growing\", \"China refutes U.S. politicians' remarks on Hong Kong: FM spokesperson\", \"Hong Kong people express support for police, calling for end\", \"Hong Kong residents rally to denounce violence, support police force\", \"Hong Kong police charge 45 people following illegal assembly\", \"Hong Kong police reiterate standard procedure in handling persons under\", \"Women representative condemns violent unlawful acts in Hong Kong at\", \"Don't let violence ruin childhood, future of Hong Kong's next\", \"Demonstration staged in Hong Kong against U.S. interference in China's\", \"How violence has disrupted Hong Kong over last 2 months\", \"Hong Kong police arrest 5 people involved in unlawful assembly\", \"Hong Kong residents gather to express reverence to Chinese national\", \"China again urges U.S. side to stop interfering in Hong\", \"Central government strongly condemns flag-insulting act by radicals in Hong\", \"U.S. congressman's remarks on Hong Kong \\\"double standard\\\": Chinese FM\", \"Chinese ambassador urges Britain to reflect on words and deeds\", \"HK fire victim still in critical condition\", \"Ex-UK consulate worker Simon Cheng treated lawfully, China says\", \"China summons U.S. ambassador to lodge representations, protest against Congress\", \"Liu Xiaoming meets British foreign secretary, warns of interference in\", \"HKSAR gov't warns foreign legislatures not to interfere in its\", \"Protesters paralyze airport as HKSAR chief executive appeals for end\", \"CNN apologizes for wrongly blaming HK police\", \"Suspect in Taiwan homicide case released in HK, says to\", \"Commission of Legislative Affairs of NPC expresses concern over HK\", \"Peaceful global rallies reject HK 'independence' violence\", \"Prominent HK women speak out against protests\", \"HK to offer all necessary assistance for Taiwan to receive\", \"HKSAR gov't severely condemns illegal, violent acts of radical protesters\", \"HK police associations express confidence in safeguarding rule of law,\", \"Protesters cause mayhem as HKSAR chief executive warns of \\\"very\", \"Law must hold all wrongdoers in HK to account\", \"Chinese president delivers 2020 New Year speech, vowing to achieve\", \"Morey owes the Chinese an apology\", \"Beijing: Western media put on 'clumsy farce' on 'Chinese agent'\", \"Double standards a Western tactic to meddle in China's affairs\", \"Foreign media and analysts laud Xi Jinping's New Year speech\", \"HKSAR gov't strongly condemns vandalistic, violent acts of radical protesters\", \"HKSAR Legislative Council rejects motion to impeach Carrie Lam\", \"HK police condemn rioting behind early end of New Year\", \"China firmly opposes U.S. vice president's speech: spokeswoman\", \"Air travel during Spring Festival expected to set record\", \"5,000 HK citizens spell out \\\"I LOVE HK\\\" on anniversary\", \"Chinese journalists association denounces severe violence against reporter\", \"China summons U.S. officials for colluding with separatists in HKSAR\", \"\\\"We will certainly overcome difficulties,\\\" says HKSAR chief executive\", \"HK marks anniversary of return with tech\", \"Chinese people tell NBA: freedom of speech isn't an excuse\", \"20 years back with motherland, Macao model of \\\"one country,\", \"HK Official: Police withhold Saturday march permit for safety reasons\", \"Washington blacklisting Chinese entities exposes evil intentions over Xinjiang\", \"HKSAR chief executive says never tenders resignation to central government\", \"Central gov't spokesperson denounces severe violent acts at HK airport\", \"Expectations for the upcoming decade\", \"Commentary: Macao to further promote \\\"one country, two systems\\\" practice,\", \"FedEx will ruin its own reputation breaking the law\"], \"legendgroup\": \"Hierarchical=0, source=CCTV\", \"marker\": {\"color\": \"green\", \"opacity\": 0.8, \"symbol\": \"square\"}, \"mode\": \"markers\", \"name\": \"Hierarchical=0, source=CCTV\", \"showlegend\": true, \"type\": \"scattergl\", \"x\": [0.18489023477087685, -2.753241539504269, -0.08072009345940359, -0.40252783721029717, 1.1399605342773993, -0.31983952537353605, -2.2684272609045224, 0.9743655121933175, 0.5112916072828734, 3.414096807890219, 1.0350234330870705, 1.5048868985834107, -0.040396114750435336, 0.7485317643300334, -0.6770871332698382, -0.620003996640156, 2.24506729455966, -0.08662188774641423, -1.7253394823622192, 3.4914676529309627, 3.0266121680711553, 0.40247436730736247, 0.2698107667986535, 1.3869876661282867, 3.7045694784913747, 1.8519124629760264, 3.439346952601572, 2.7886121835861952, 2.732791798632885, -0.4891095870678259, -0.37066766293890124, 0.7008775277699985, -0.7600468807192631, 1.3371031647250302, 0.517556793779606, -0.7970064063430878, -1.8453782266842425, -0.9087021294664196, 0.012843035436037955, 2.8097474402131266, 0.3647887127423802, 0.6858383302815907, 0.6319025601507761, 0.6631956290776205, 1.6657538130251308, 3.6721465225524725, -0.2527935777882303, 2.30111310245482, 3.8412678710450203, 3.0890757387524053, 3.6019500357227403, -3.0012189696331077, 0.9732444803461898, 2.55832611690418, 1.8256631087653148, 0.2655914146583032, 0.7162569580126924, 2.2545522652435945, 2.860142298017995, 2.0318995756511287, -0.16311232805913226, 1.6785703067295628, -2.861330841035132, 0.28192047451209956, 0.6953288034038002, 1.1311530596131334, -1.4203783826952663, 2.601459916279197, 2.527610691726011, -0.0845144150965047, 2.4017524142185507, -1.74155129738421, -0.35235143835424176, 2.2713990032421747, 2.3330695016372007, -1.241473814200386, 0.38259202790407554, 1.1386455784473153, 0.8480137628316982, 2.894446423310787, 1.5862084485722467, 0.9244891420853872, 1.1796995608532306, 0.04803528077746785, 0.3985094099506973, 3.1063320143821174], \"xaxis\": \"x\", \"y\": [-1.5644314399215489, -0.5408583759498569, 0.8403068117900198, 5.147640490263729, -1.5086819491167558, 0.6547908662694991, 0.19174205987666962, -2.623168511449721, 4.271544951889304, -1.07177162234298, -0.9502654741620135, 4.807574862241902, 3.6496344234825036, 4.11183357964396, 0.6666910353115224, 0.826679046880405, 3.729823279999732, -2.6476204231374414, 0.8274755951560192, 2.0919416178826244, 2.0257653782123537, -1.6719203124384703, -0.9285428693454855, 1.47917797195751, -0.9582691229702255, 0.6380088912415508, 1.6599597245590987, 3.065566533548075, 2.6000931624285966, -1.828385355650003, -2.0297368172938626, 3.9091156283847788, -0.5200901269370365, -1.1770197911419744, -3.105179819388136, 0.10170563354141395, 0.23024897965648566, -2.170414409096253, -0.8654795945831634, -2.0780563551715354, -0.3958287080138693, -1.2564613705326113, 1.2249223127145537, -0.5688009406638788, -0.43157227985147445, 2.975119972663431, -3.1179967117530123, 5.543990571195207, 1.6169793169529603, 4.526581025448976, 1.9621728696436713, -0.22606060505711909, 0.40805944256933613, 4.1271478782792235, 0.444204974973055, -1.7391442827910266, 0.30921559656558983, 6.349461661608689, -1.7760461150315607, -0.7835476042976676, -1.389545882058511, 1.8167788394694284, 1.6595438539241765, 0.7925935492507385, 10.857922267592434, 2.4812579290219627, 7.902121389651216, -2.265891673210206, 2.3241254388142747, -2.67040303751722, 1.259596720682409, -0.8998782708872444, 8.022673185806621, 6.122991764034833, 2.6483503753402733, 2.8918665663466046, 2.053229323218493, 10.224502954816485, 2.656275618187217, -0.72293682399759, 2.4394337443775216, -0.7382998714076827, -1.3521757851414204, -0.5345704500685674, 0.4160790065208439, 2.7382178615856207], \"yaxis\": \"y\"}, {\"customdata\": [[\"0\", \"2020-03-06\"], [\"0\", \"2020-02-29\"], [\"0\", \"2020-02-27\"], [\"0\", \"2019-12-12\"], [\"0\", \"2019-12-09\"], [\"0\", \"2019-12-07\"], [\"0\", \"2019-12-02\"], [\"0\", \"2019-11-13\"], [\"0\", \"2019-11-13\"], [\"0\", \"2019-11-11\"], [\"0\", \"2019-11-09\"], [\"0\", \"2019-11-02\"], [\"0\", \"2019-10-29\"], [\"0\", \"2019-10-29\"], [\"0\", \"2019-10-24\"], [\"0\", \"2019-10-21\"], [\"0\", \"2019-10-16\"], [\"0\", \"2019-10-15\"], [\"0\", \"2019-10-14\"], [\"0\", \"2019-10-11\"], [\"0\", \"2019-10-08\"], [\"0\", \"2019-10-05\"], [\"0\", \"2019-10-05\"], [\"0\", \"2019-10-04\"], [\"0\", \"2019-10-02\"], [\"0\", \"2019-10-01\"], [\"0\", \"2019-09-30\"], [\"0\", \"2019-09-17\"], [\"0\", \"2019-09-16\"], [\"0\", \"2019-09-16\"], [\"0\", \"2019-09-09\"], [\"0\", \"2019-09-06\"], [\"0\", \"2019-09-05\"], [\"0\", \"2019-09-05\"], [\"0\", \"2019-09-05\"], [\"0\", \"2019-09-03\"], [\"0\", \"2019-09-03\"], [\"0\", \"2019-09-03\"], [\"0\", \"2019-09-02\"], [\"0\", \"2019-09-01\"], [\"0\", \"2019-09-01\"], [\"0\", \"2019-08-29\"], [\"0\", \"2019-08-26\"], [\"0\", \"2019-08-25\"], [\"0\", \"2019-08-26\"], [\"0\", \"2019-08-24\"], [\"0\", \"2019-08-26\"], [\"0\", \"2019-08-23\"], [\"0\", \"2019-08-20\"], [\"0\", \"2019-08-20\"], [\"0\", \"2019-08-17\"], [\"0\", \"2019-08-16\"], [\"0\", \"2019-08-16\"], [\"0\", \"2019-08-16\"], [\"0\", \"2019-08-16\"], [\"0\", \"2019-08-16\"], [\"0\", \"2019-09-02\"], [\"0\", \"2019-08-14\"], [\"0\", \"2019-08-13\"], [\"0\", \"2019-08-14\"], [\"0\", \"2019-08-13\"], [\"0\", \"2019-08-12\"], [\"0\", \"2019-08-12\"], [\"0\", \"2019-08-11\"], [\"0\", \"2019-08-10\"], [\"0\", \"2019-08-12\"], [\"0\", \"2019-08-08\"], [\"0\", \"2019-08-07\"], [\"0\", \"2019-08-05\"], [\"0\", \"2019-08-05\"], [\"0\", \"2019-08-03\"], [\"0\", \"2019-08-01\"], [\"0\", \"2019-07-27\"], [\"0\", \"2019-07-25\"], [\"0\", \"2019-07-25\"], [\"0\", \"2019-07-15\"], [\"0\", \"2019-07-09\"], [\"0\", \"2019-07-06\"], [\"0\", \"2019-07-04\"], [\"0\", \"2019-07-04\"], [\"0\", \"2019-07-02\"], [\"0\", \"2019-07-02\"], [\"0\", \"2019-07-01\"], [\"0\", \"2019-07-01\"], [\"0\", \"2019-06-23\"], [\"0\", \"2019-06-19\"], [\"0\", \"2019-06-17\"], [\"0\", \"2019-06-17\"], [\"0\", \"2019-06-17\"], [\"0\", \"2019-06-17\"], [\"0\", \"2019-06-17\"], [\"0\", \"2019-06-13\"], [\"0\", \"2019-06-13\"], [\"0\", \"2019-06-13\"], [\"0\", \"2019-06-12\"], [\"0\", \"2019-06-10\"], [\"0\", \"2019-06-10\"]], \"hoverlabel\": {\"namelength\": 0}, \"hovertemplate\": \"<b>%{hovertext}</b><br><br>Hierarchical=%{customdata[0]}<br>source=ABC (Australia)<br>pc1=%{x}<br>pc3=%{y}<br>date=%{customdata[1]}\", \"hovertext\": [\"Hong Kong authorities accused of seizing on coronavirus outbreak to\", \"Coronavirus outbreak creates 'uneasy calm' on Hong Kong's streets as\", \"Australian artist Badiucao's exhibition finally shown in Melbourne after China\", \"Tourism Australia splashes cash on social media stars, led by\", \"Hong Kong protest reporter, Indonesian citizen journalist Yuli Riswati, deported\", \"Hong Kong's young protesters face years in prison as courts\", \"Hong Kong anti-Government protesters return in the thousands, but it\", \"Protesters barricade financial district and university campuses\", \"Hong Kong on 'brink of total breakdown', police warn after\", \"Hong Kong protesters vandalise subway station as violence spreads on\", \"Hong Kong protests escalate after candlelight vigil marking death of\", \"Cathay Pacific crew say fear of China is fuelling paranoia\", \"Hong Kong pro-democracy activist Joshua Wong disqualified from district elections\", \"Andrew Bogut questions NBA's backdown to China over support for\", \"Hong Kong man whose murder case sparked protests leaves prison\", \"Hong Kong protesters target Chinese businesses in latest demonstrations\", \"Hong Kong leader Carrie Lam aborts policy speech as members\", \"Hong Kong police say homemade bomb detonated during protests\", \"Hong Kong police were violently attacked in chaotic protests\", \"Urban sketcher Rob Sketcherman captures human side of Hong Kong\", \"Extinction Rebellion activists to use disruption tactics from Hong Kong\", \"Hong Kong protests over mask ban turn violent\", \"Hong Kong protests over 'authoritarian' mask ban quickly turn violent,\", \"Hong Kong teen shot by police during protests to be\", \"Protester is shot in the chest by a Hong Kong\", \"China holds National Day celebrations against backdrop of Hong Kong\", \"UK \\\"won't look the other way\\\" on beaten Hong Kong\", \"What it's like to be a news cameraman filming the\", \"Chinese Government hopes Hong Kong's 'silent majority' will bring pro-democracy\", \"Hong Kong police use water cannon on protesters\", \"Protesters picket US Consulate in Hong Kong\", \"ABC News quiz: Will you carry a ______ to the\", \"Carrie Lam announces formal withdrawal of extradition bill\", \"The top stories on ABC News\", \"The twin threats to democracy that link Hong Kong protests\", \"Hong Kong student protest delegation arrives in Australia amid fears\", \"Where has the ALP gone when Hong Kong needs it\", \"Carrie Lam says she would quit Hong Kong leadership\", \"Hong Kong protesters are young and angry. Here's why many\", \"Hong Kong protests escalate as police use water cannons, tear\", \"Hong Kong protests ramp up as police fire tear gas\", \"Why Chinese and Hong Kong students clash in Australia\", \"Hong Kong police officers aim guns at demonstrators\", \"Protesters topple high-tech lampposts over surveillance fears\", \"Why Macau hasn't been swept up by Hong Kong's pro-democracy\", \"Hong Kong residents form human chain across city\", \"Hong Kong protesters join hands in symbolic move as part\", \"Hong Kong protesters plan 'stress test' of international airport to\", \"Chinese Government voices support for counter Hong Kong protests in\", \"Pro-China death threat poster directed at Hong Kong protesters guarded\", \"Chinese ambassador to Australia warns foreigners not to interfere in\", \"Cathay Pacific boss resigns amid Chinese pressure over Hong Kong\", \"China's greatest weapon against Hong Kong's protests may be nationalist\", \"In Shenzhen, just across the harbour from Hong Kong, mainland\", \"Pro-China rally in Melbourne condemning Hong Kong protests delayed over\", \"Tiananmen Square organiser fears Hong Kong protests will come to\", \"Hong Kong protests: Satellite photos show scale of China's military\", \"Hong Kong protests highlight how China rejects international rule of\", \"Demonstrators flood Hong Kong airport\", \"Protesters greet arrivals to Hong Kong\", \"After Hong Kong protests, is Taiwan the next flashpoint in\", \"Hong Kong police fire tear gas into crowds\", \"Massed protesters pack Hong Kong airport\", \"Police charge demonstrating protesters on Hong Kong streets\", \"China bans Cathay Pacific staff involved in Hong Kong protests\", \"Hong Kong protests spread across Australia revealing deep divisions in\", \"Protesters beam lasers onto Hong Kong Space Museum\", \"The Drum Wednesday 7 August\", \"Hong Kong official says there is no need to deploy\", \"Hong Kong protests shut down shopping district as police respond\", \"Hong Kong protests: Colourful 'Lennon Walls' become flashpoints of violence\", \"Protesters storm Hong Kong's Kwai Chung police station\", \"Hong Kong's controversial extradition bill is 'dead' but protesters show\", \"UQ students 'shocked' by intimidation tactics in China-Hong Kong protest\", \"Hong Kong could see exodus of funds and people as\", \"Protesters and riot police injured in violent clashes in Hong\", \"Hong Kong leader Carrie Lam says extradition bill is dead\", \"Hong Kong mothers march in support of students who protested\", \"China issues stern warning to the UK to keep its\", \"Carrie Lam has lost control of Hong Kong protests and\", \"The Drum Tuesday June 2\", \"Hong Kong protesters cause havoc in parliament before police seize\", \"China censors Taiwan's Golden Melody Awards after presenter encourages Hong\", \"Hong Kong protesters break into parliament as tensions rise on\", \"Dodging tear gas and pepper spray to report on Hong\", \"Hong Kong exposes China's weak point as Xi meets with\", \"The Drum Monday June 17\", \"Hong Kong activist Joshua Wong released from prison after millions\", \"Sunday's march was the largest Hong Kong protest in decades\", \"A timelapse of protestors filling the streets of Hong Kong\", \"Hong Kong protesters demand Chief Executive Carrie Lam steps down\", \"Hong Kong Chief Executive responds to anti-extradition protests\", \"Hong Kong Chief Executive Carrie Lam blasts protesters after day\", \"Emotional Carrie Lam says she would never 'sell out' Hong\", \"Protesters and police clash in Hong Kong protests\", \"Hong Kong protests turn violent as hundreds of thousands protest\", \"Hong Kong protests over extradition law turn ugly as riot\"], \"legendgroup\": \"Hierarchical=0, source=ABC (Australia)\", \"marker\": {\"color\": \"green\", \"opacity\": 0.8, \"symbol\": \"x\"}, \"mode\": \"markers\", \"name\": \"Hierarchical=0, source=ABC (Australia)\", \"showlegend\": true, \"type\": \"scattergl\", \"x\": [2.248624155032907, 0.18294224007836954, 0.44580472787719455, -1.340232877328868, -1.3725727117224624, -0.163701251581813, 0.5093663710199118, -0.4621032386258405, 0.1988372309628459, -0.28276989213007586, -0.9029010379794056, -0.09502906058114649, -0.1712848436906581, -0.7763993419414691, -0.1255484387533731, -0.5685319046918812, -0.0012879058003064843, -0.46035487109923445, -0.4661247287378661, -0.07601214040906193, -0.47218396663500867, -0.47111424441636324, 0.9077405504434719, -0.5119131650897426, -0.45591720009051345, -0.4750517985344239, -0.3212781440340272, -0.6682425257609563, 2.614013553426852, -0.45777865404419504, -0.45777865404419504, -0.3303587707390994, -0.21944508272662128, -0.4645640199798775, 0.108581854020412, -0.6326184789844261, -2.3488062904142706, -0.4610280727779127, -0.23199628073896308, -0.46465867496954033, -0.8493195298891155, -0.11391579073116181, -0.4613229308175704, -0.4619723230760526, 0.25733926166505916, -0.4527720476674987, -0.21146588592175045, 0.5221586918063176, 1.3188215106074843, -0.1133705586196991, -1.1719481408740118, 0.21264608716708727, 1.584372097515399, 0.9544488247379815, -0.1241821714531982, 0.6969051140524759, 0.6745579008297427, 3.9671506818827504, -0.4570966322491441, -0.4540182566072319, -0.45837667785194014, -0.45984634412550923, -0.45964608829536, -0.455518075740153, 1.1389723725496288, 1.665793426202008, -0.45777865404419504, 0.6912523186621776, 0.2893432810215972, -0.5023280161074957, -0.4026317981637037, -0.4602358043746754, 0.9759649709156191, 0.04231685628603121, -2.490436186169697, -0.9817663079289295, 1.683258735516345, 1.4970156672777613, -0.43734957953326475, -1.528157979932666, -0.45503262597154054, 1.5687788525824755, 0.7598857149921879, 1.008278563975562, 0.602721206402451, -0.1131454655919373, -1.0898628875413736, -0.20240416669269967, -0.455805662418553, -0.45748977630202087, 0.5996129454268909, -0.46102209248042914, 0.273786647380016, -0.459052703935909, -0.46034387246825664, -0.46899803202260715, -1.5415696169463453], \"xaxis\": \"x\", \"y\": [-0.6852564120644802, -1.2781671916247093, 12.407625098387696, 2.7843452700595357, 1.8321336387825098, 0.7520940623773055, -0.9092299577588296, -1.9464627149803309, -3.8101420348858333, -3.037066660979388, -3.9809963282858516, 1.2018852631481274, 0.7919353953619193, 2.430604441603482, 3.9209570642838023, -4.289354053617227, -1.3798055676123964, -1.727218038359573, -1.861616604116987, 0.04662848652204705, -2.571255764348302, -2.081124091135788, -3.108437718864973, -2.587067110053507, -1.777745804876933, -2.0300041126824633, -0.40367287000947066, 0.2858082973301851, -1.531869275744929, -1.769838179970124, -1.769838179970124, -0.5417963852633201, 0.7825273094162439, -2.055867292168502, 2.8183022465365206, 0.7173455659264706, 2.215571397820409, -1.9864838917071774, -2.0114068953988626, -2.0508317583954527, -3.578979204312122, -0.4962560856780404, -1.998526473639691, -1.8129352801903516, -1.6274420429862098, -1.6492915975967826, -2.2864470729019017, -1.4610719487524972, -0.9329342049121557, 3.7031138904069043, 0.5923850098391535, 3.5295952698521167, -0.25626965087933307, -1.0308469994735723, 1.48033106510613, -1.0221888200787121, 6.597852523054036, 2.1780749400953527, -1.8259161326069888, -1.662098519450421, -2.5682774418561602, -1.8121161844996931, -1.8461078655427132, -1.6775117184875157, -0.181027215897854, 0.29246223509291525, -1.769838179970124, -0.34764596187905944, -3.472258736593413, -3.6128513039637036, -1.4172954076524518, -1.8701930294077411, -0.9430221878041021, -2.8567065567171657, 0.7108258316960712, -3.8490987244013137, 0.12555160816333494, -0.6547944008485459, 0.2794402429885876, 0.04235400566575347, -1.7416180590793902, -2.662067138241334, 5.576040746715973, -2.23835138169768, -2.0550954155667465, 1.7240623081507596, -0.9309574076997406, 0.13018139074424281, -1.6804671619922016, -1.8419729085170076, -1.7908752578382983, -1.9023065812277788, -2.112330391965995, -1.8490222422202482, -1.8022084486050773, -2.023326749120425, -1.3013396113534716], \"yaxis\": \"y\"}, {\"customdata\": [[\"0\", \"2020-01-12\"], [\"0\", \"2020-01-10\"], [\"0\", \"2020-01-02\"], [\"0\", \"2019-12-27\"], [\"0\", \"2019-12-20\"], [\"0\", \"2019-12-20\"], [\"0\", \"2019-12-11\"], [\"0\", \"2019-12-02\"], [\"0\", \"2019-11-29\"], [\"0\", \"2019-11-20\"], [\"0\", \"2019-11-14\"], [\"0\", \"2019-11-02\"], [\"0\", \"2019-11-01\"], [\"0\", \"2019-10-29\"], [\"0\", \"2019-10-25\"], [\"0\", \"2019-10-23\"], [\"0\", \"2019-10-21\"], [\"0\", \"2019-10-16\"], [\"0\", \"2019-10-15\"], [\"0\", \"2019-10-12\"], [\"0\", \"2019-10-12\"], [\"0\", \"2019-10-12\"], [\"0\", \"2019-10-11\"], [\"0\", \"2019-10-11\"], [\"0\", \"2019-10-10\"], [\"0\", \"2019-10-10\"], [\"0\", \"2019-10-10\"], [\"0\", \"2019-10-10\"], [\"0\", \"2019-10-09\"], [\"0\", \"2019-10-09\"], [\"0\", \"2019-10-02\"], [\"0\", \"2019-09-30\"], [\"0\", \"2019-09-20\"], [\"0\", \"2019-09-18\"], [\"0\", \"2019-09-18\"], [\"0\", \"2019-09-10\"], [\"0\", \"2019-09-09\"], [\"0\", \"2019-09-08\"], [\"0\", \"2019-09-05\"], [\"0\", \"2019-08-28\"], [\"0\", \"2019-08-26\"], [\"0\", \"2019-08-20\"], [\"0\", \"2019-08-19\"], [\"0\", \"2019-08-19\"], [\"0\", \"2019-08-16\"], [\"0\", \"2019-08-16\"], [\"0\", \"2019-08-15\"], [\"0\", \"2019-08-13\"], [\"0\", \"2019-08-13\"], [\"0\", \"2019-08-12\"], [\"0\", \"2019-08-11\"], [\"0\", \"2019-08-08\"], [\"0\", \"2019-08-04\"], [\"0\", \"2019-08-01\"], [\"0\", \"2019-07-31\"], [\"0\", \"2019-07-31\"], [\"0\", \"2019-07-29\"], [\"0\", \"2019-07-22\"], [\"0\", \"2019-07-22\"], [\"0\", \"2019-07-15\"], [\"0\", \"2019-07-08\"], [\"0\", \"2019-07-04\"], [\"0\", \"2019-06-30\"], [\"0\", \"2019-06-27\"], [\"0\", \"2019-06-24\"], [\"0\", \"2019-06-20\"], [\"0\", \"2019-06-17\"], [\"0\", \"2019-06-13\"], [\"0\", \"2019-06-13\"]], \"hoverlabel\": {\"namelength\": 0}, \"hovertemplate\": \"<b>%{hovertext}</b><br><br>Hierarchical=%{customdata[0]}<br>source=CNN<br>pc1=%{x}<br>pc3=%{y}<br>date=%{customdata[1]}\", \"hovertext\": [\"Human Rights Watch head says he was denied entry to\", \"Nearly 2 million adults are estimated to have shown symptoms\", \"Hong Kong protest fallout hits HSBC and the London Stock\", \"Grand Theft Auto V becomes latest battleground of Hong Kong\", \"From an extradition bill to a political crisis: A guide\", \"Chinese government cuts US Democratic debate feed during Xinjiang discussion\", \"Foreign experts in Hong Kong leave inquiry into police brutality\", \"China bans US military visits to Hong Kong in response\", \"Trump's risky move on Hong Kong\", \"Former British consulate worker says he was tortured in China\", \"Tencent vs. Alibaba: Why one Chinese titan is slumping while\", \"Blizzard accepts 'accountability' over Hong Kong controversy, but gamers still\", \"Blizzard apologizes following Hong Kong controversy amid gamer protests\", \"Hong Kong activist Joshua Wong banned from running in local\", \"Chinese #MeToo activist and journalist who joined Hong Kong protests\", \"Murder suspect whose alleged crime sparked Hong Kong protests walks\", \"West is paying the price for supporting Hong Kong riots,\", \"Blizzard bans a college esports team for holding a \\\"Free\", \"LeBron James says NBA exec was 'misinformed' in his tweet\", \"China President Xi Jinping's balancing act over Hong Kong\", \"Blizzard said it will return prize money to Hong Kong\", \"US Sen. Ted Cruz rips Beijing 'dictatorship' during Hong Kong\", \"Apple CEO Tim Cook defends decision to remove an app\", \"Google pulls Hong Kong protest role-playing app\", \"Apple removes Quartz app in China\", \"The NBA is feeling China's wrath. Here's what other businesses\", \"Apple removes app used by Hong Kong protesters to track\", \"US businesses are trying to please America and China. That's\", \"NBA postpones Shanghai press event amid worsening spat with China\", \"ESPN faces criticism over its coverage of Hong Kong tweet\", \"Man shot with live round in major escalation of Hong\", \"5 things to know for September 30: Whistleblower, Jamal Khashoggi,\", \"A FedEx pilot was arrested by Chinese authorities\", \"Hong Kong horse races canceled over fears of political unrest\", \"Hong Kong protests are growing smaller but more violent and\", \"Hong Kong's leader warns US and other countries not to\", \"Be wary, investors: the Hong Kong protests still threaten world\", \"Hong Kong protesters march to US Consulate to call for\", \"After a summer of being tear gassed, can Hong Kong\", \"China's top diplomat says Hong Kong protests are city's worst\", \"A gun shot, petrol bombs and water cannons mark violent\", \"Twitter cracks down on state media after unveiling Chinese campaign\", \"Hong Kong protests send a message Americans can hear loud\", \"'Big 4' accounting firms are on the defensive over Hong\", \"The man taking on Hong Kong from deep inside China's\", \"The week that Cathay Pacific surrendered to China\", \"Hong Kong protests: Trump offers to meet with China's Xi\", \"Beijing says Hong Kong protests 'show signs of terrorism.' If\", \"Hong Kong protests have reached a point of no return\", \"Cathay Pacific says it could fire staff who support Hong\", \"Hong Kong isn't just battling on the streets: There is\", \"United States becomes latest country to issue travel advisory over\", \"Start your Monday smart: Here's what's happening this week\", \"Hong Kong protests: Head of China's military garrison condemns violence\", \"China is blaming the US for the Hong Kong protests.\", \"Girl, 16, among 44 people charged with rioting in Hong\", \"Beijing to speak out after weeks of Hong Kong protests\", \"Hong Kong protests: Night of violence shocks city after seventh\", \"Hong Kong protests: Dramatic images of destruction draw both criticism\", \"Hong Kong's summer of dissent: After five weeks of protest,\", \"Hong Kong protesters take to Kowloon, in bid to appeal\", \"Diplomatic spat between UK and China after Beijing slams London's\", \"Start your Monday smart: Hong Kong, Putin & the Pope,\", \"Nike pulls products in China after designer sparks social media\", \"Beijing says it won't allow Hong Kong to be brought\", \"That viral photo of the Hong Kong protests is not\", \"Joshua Wong released from prison day after hundreds of thousands\", \"Hong Kong protests: Two people in serious condition with legislature\", \"Telegram reports powerful cyberattack from China during Hong Kong protests\"], \"legendgroup\": \"Hierarchical=0, source=CNN\", \"marker\": {\"color\": \"green\", \"opacity\": 0.8, \"symbol\": \"cross\"}, \"mode\": \"markers\", \"name\": \"Hierarchical=0, source=CNN\", \"showlegend\": true, \"type\": \"scattergl\", \"x\": [-0.00027622446463521517, -1.7017689539268017, -3.536886491866096, 1.0073146653992313, 0.9753118746316264, 0.12775328798430682, -0.027636225424474758, 2.893562092738923, 0.9708725687258123, 1.6471139465349944, -2.732042080204868, -0.05162139995639045, 1.3130222166356298, 1.8431584872656503, -0.31506815471714505, -1.9404476637563095, -0.014840259844897724, 0.7775531200642165, 0.7632258134326331, -0.01609687723782799, 0.37062671214068443, 2.448985340110256, 0.5547056324000877, 0.12411338065313757, 0.4629665757137487, 0.9280062164864038, 0.4629502671113049, -1.2778876954438754, 0.6163588579597457, -0.3075744966306588, -0.583471378701202, -0.2729383983739008, -1.2624927048184096, -1.8302147030795415, -0.18768050544526815, 0.2602510953442909, -1.2750397008793597, -0.8117534254937682, -0.4101876164180423, 0.365053402786462, -0.5276073653569591, 0.6099538165309174, -0.3416759011459124, 0.08330169667792438, 0.19285773663320832, -2.613051963614893, -0.5876456289695524, -0.20414774986131337, -2.136841556119787, 0.18025827779868736, -0.1052323020690775, -0.1694887648871825, -0.3619157139804974, 0.9807980774330918, -0.116786133060616, -0.2939935963903955, -0.22138434795720321, 0.8500330270900729, 1.4832485134704059, 0.5379191348249348, 2.330753229053113, 2.11354557471163, 0.10343527743540806, -0.7265378899753637, 0.5495377898965185, 0.7465221271227197, 1.2990634627602393, 0.07073121525753374, -0.3386377133594802], \"xaxis\": \"x\", \"y\": [-0.24114751997182327, -1.1007911847868854, 1.118751457203755, 5.687440877586211, -0.6251871589783617, 9.161454357952904, 3.9032297789540613, 3.991734220823891, 4.78027475670265, 6.400977321391807, 0.8144001610543044, 4.94017443852526, 7.378242966856077, 2.07465654698759, 3.258253675610817, 0.6826862493322873, 2.49351210424271, 5.18767300832564, 5.35739240623977, 0.1393229973618013, 4.101353730760351, 4.337872306957923, 1.9591661314866144, 2.67289408984224, 1.5096341873474852, -0.15852511216820667, 1.1063769599961417, 0.860579298629556, 4.001761533170405, 3.077442234677362, -4.899511538197941, -0.7227766570578901, -0.1514013418886226, 0.23238337677525583, -3.7028104268644007, -0.4262644950715182, -0.11316707838203566, -1.2840034584746658, -1.751483746051462, -0.2334999993500006, -3.6617068630616845, 10.007190621314246, 0.9982975420214987, 1.443493093469108, 2.9448044505157687, 0.4287939594888241, 1.6635515461408397, 0.2358936943719025, -1.6263017733607124, 3.041915959798429, 1.4334661144430316, 2.2706641150295273, -1.325890813441914, -1.473769662177765, 5.00550430648393, -1.4095641158679417, -2.352931837930098, -1.1125901694552478, -2.1867599419335026, -2.2660006692450927, -2.022728488988478, 4.329100520151673, -1.1385020522522242, 2.356628710970651, 1.7756634003002112, 4.547980504692948, 4.111200779363052, -3.416018545445389, 3.1237301667175794], \"yaxis\": \"y\"}, {\"customdata\": [[\"1\", \"2020-03-15\"], [\"1\", \"2020-03-04\"], [\"1\", \"2020-02-24\"], [\"1\", \"2020-02-22\"], [\"1\", \"2020-01-14\"], [\"1\", \"2020-01-06\"], [\"1\", \"2020-01-03\"], [\"1\", \"2020-01-02\"], [\"1\", \"2019-12-11\"], [\"1\", \"2019-12-07\"], [\"1\", \"2019-12-04\"], [\"1\", \"2019-11-25\"], [\"1\", \"2019-11-05\"], [\"1\", \"2019-11-05\"], [\"1\", \"2019-10-31\"], [\"1\", \"2019-10-23\"], [\"1\", \"2019-10-17\"], [\"1\", \"2019-10-14\"], [\"1\", \"2019-10-13\"], [\"1\", \"2019-10-07\"], [\"1\", \"2019-09-28\"], [\"1\", \"2019-09-26\"], [\"1\", \"2019-09-14\"], [\"1\", \"2019-09-10\"], [\"1\", \"2019-08-08\"], [\"1\", \"2019-07-23\"]], \"hoverlabel\": {\"namelength\": 0}, \"hovertemplate\": \"<b>%{hovertext}</b><br><br>Hierarchical=%{customdata[0]}<br>source=SCMP<br>pc1=%{x}<br>pc3=%{y}<br>date=%{customdata[1]}\", \"hovertext\": [\"Senior adviser to Beijing lashes out at \\u2018insufficient\\u2019 Hong Kong\", \"Prosecutors ask appeal court to jail Hong Kong protester who\", \"Hong Kong lawmaker targets taxi driver who hit anti-government protesters\", \"Hong Kong police caught up in coronavirus crisis after first\", \"Hong Kong\\u2019s chief justice sets up task force to speed\", \"Top Hong Kong officials condemn vandalism of High Court and\", \"Man jailed for a year over possession of petrol bombs\", \"Two top legal bodies in Hong Kong express outrage over\", \"Hong Kong mask ban lifted: court refuses government request to\", \"New Hong Kong police chief Chris Tang tells top Beijing\", \"Chinese, US generals vow to manage military differences, like South\", \"Hong Kong mask law: government lodges appeal against court ruling\", \"Taiwanese robbery suspect flees Hong Kong in echoes of Chan\", \"China\\u2019s Xi Jinping meets Hong Kong leader, backs Carrie Lam\\u2019s\", \"Special measures being looked at to help businesses tackle insurance\", \"Another legal blunder by Hong Kong prosecutors sees charges dropped\", \"In rare, \\u2018significant\\u2019 move, Hong Kong judiciary appoints two judges\", \"Criminal lawyer Edwin Choy opens up on resignation from Hong\", \"Hong Kong chief secretary appeals to opposition lawmakers to cooperate\", \"Hong Kong court rejects second attempt to get mask ban\", \"Hong Kong announces HK$1.4 billion package to help needy amid\", \"US bill on Hong Kong democracy, which has angered China,\", \"Can the Lands Resumption Ordinance offer a way out of\", \"New Zealand MP Simon Bridges defends Beijing visit, interview with\", \"Hong Kong protester accused of defacing city\\u2019s famous clock tower\", \"Hong Kong protest organisers lose appeal over shortened route for\"], \"legendgroup\": \"Hierarchical=1, source=SCMP\", \"marker\": {\"color\": \"blue\", \"opacity\": 0.8, \"symbol\": \"circle\"}, \"mode\": \"markers\", \"name\": \"Hierarchical=1, source=SCMP\", \"showlegend\": true, \"type\": \"scattergl\", \"x\": [2.2477623037460073, 4.197861440988019, 1.937171966213656, 2.2922225584305873, 4.138784691782299, 3.5649785998042276, 3.885547287547342, 2.75285788774032, 5.8523659158436345, 2.1942222586465654, 6.342418669409771, 3.4313866337074286, 3.306356959603698, 3.892162282989199, 2.522595034456203, 3.0290151226678432, 5.1627266869768516, 2.0211191371741393, 7.8279775725653025, 2.118260872319733, 2.8819407535369614, 2.2919375906805555, 2.429711114727591, 3.8667701263448166, 3.27121426616226, 2.0104469020409566], \"xaxis\": \"x\", \"y\": [-0.23439488197283473, 0.4866365547482616, -0.5952864500609206, 0.2286531670204082, -0.6447213113323266, -0.5905058932995317, -0.5119816439971427, -0.39764258304995964, -0.002486357760993623, -1.2721413890288769, 0.4943765474351597, 1.2306574433935462, 0.5649392584855583, 0.8620642700346018, -0.7591571089487068, -0.2442633814793844, 0.6047374460498683, -0.20884376456835177, 0.6461428082469991, -0.3532186676239476, -1.128640880739217, -0.0108028173504342, 0.6233801867307756, 1.719567120658046, 0.9172309386769936, -0.4212446527634761], \"yaxis\": \"y\"}, {\"customdata\": [[\"1\", \"2020-03-18\"], [\"1\", \"2020-01-16\"], [\"1\", \"2020-01-04\"], [\"1\", \"2019-12-12\"], [\"1\", \"2019-11-27\"], [\"1\", \"2019-11-28\"], [\"1\", \"2019-11-28\"], [\"1\", \"2019-11-26\"], [\"1\", \"2019-11-18\"], [\"1\", \"2019-10-18\"], [\"1\", \"2019-10-16\"], [\"1\", \"2019-09-18\"], [\"1\", \"2019-08-29\"], [\"1\", \"2019-08-14\"], [\"1\", \"2019-08-12\"], [\"1\", \"2019-08-09\"], [\"1\", \"2019-08-09\"], [\"1\", \"2019-08-07\"], [\"1\", \"2019-08-06\"], [\"1\", \"2019-07-29\"], [\"1\", \"2019-07-07\"], [\"1\", \"2019-07-04\"], [\"1\", \"2019-06-18\"], [\"1\", \"2019-06-12\"], [\"1\", \"2019-06-09\"], [\"1\", \"2019-06-08\"]], \"hoverlabel\": {\"namelength\": 0}, \"hovertemplate\": \"<b>%{hovertext}</b><br><br>Hierarchical=%{customdata[0]}<br>source=Reuters<br>pc1=%{x}<br>pc3=%{y}<br>date=%{customdata[1]}\", \"hovertext\": [\"Exclusive: China's internal security force on frontlines of Hong Kong\", \"'One country, two systems' can continue beyond 2047: Hong Kong\", \"China replaces head of Hong Kong liaison office amid ongoing\", \"Enact refugee law to help Hong Kong, Taiwan presidential hopeful\", \"Trump approves legislation backing Hong Kong protesters\", \"Trump signs Hong Kong bills; Beijing vows retaliation: Now what?\", \"EXPLAINER-Trump signs Hong Kong bills; Beijing vows retaliation: Now what?\", \"Exclusive: China sets up Hong Kong crisis center in mainland,\", \"China accuses Britain of taking sides in Hong Kong protests\", \"U.S. lawmakers urge Apple to restore HKMap app used in\", \"China says U.S. House should stop interfering in Hong Kong\", \"Top U.S. diplomat for Asia welcomes plans for Hong Kong\", \"China's defense ministry says Hong Kong protests must respect law\", \"Cathay Pacific says has fired two pilots over Hong Kong\", \"U.S. Senate leader: Any violent crackdown in Hong Kong would\", \"Britain calls for independent investigation into Hong Kong protests\", \"China orders Cathay Pacific to suspend staff backing Hong Kong\", \"Hong Kong facing worst crisis since handover: senior China official\", \"China warns Hong Kong protesters not to 'play with fire'\", \"Beijing reiterates support for Hong Kong's Lam, police\", \"China's envoy to Britain laments 'Cold War mentality' over Hong\", \"Britain denies supporting violent Hong Kong protests as China media\", \"Many in Hong Kong, fearful of China's grasp, flee to\", \"Why proposed changes to Hong Kong's extradition law fueled protests\", \"Hong Kong protests against extradition law spill into Sydney\", \"Huge Hong Kong protest expected in last push to scrap\"], \"legendgroup\": \"Hierarchical=1, source=Reuters\", \"marker\": {\"color\": \"blue\", \"opacity\": 0.8, \"symbol\": \"diamond\"}, \"mode\": \"markers\", \"name\": \"Hierarchical=1, source=Reuters\", \"showlegend\": true, \"type\": \"scattergl\", \"x\": [6.114822847346972, 2.74962977100031, 6.473812144053969, 2.713324436433613, 3.34904550809392, 3.567171833949577, 3.567171833949577, 3.727269020183875, 5.692729305663415, 2.4401924707421094, 2.9852540048196445, 2.8085053640578654, 2.8760149031673388, 2.531267446123107, 2.820677707145636, 4.687752405473838, 2.672211632615258, 5.394294844721258, 3.6034939925229206, 4.322233566090555, 3.298620164818207, 3.7505771358985442, 3.317683687801525, 4.515010540820523, 3.611443881009463, 2.3106091522284893], \"xaxis\": \"x\", \"y\": [-0.02211649400595001, 0.3190316364558598, 1.4667521232469793, 0.1706149098066882, 1.0966994164381243, 0.7673616958426477, 0.7673616958426477, 0.26322229692608834, 0.23998089755146407, 0.06721141266788618, -0.7383907551824377, 0.5437587783301358, -0.37226570313747515, 0.0946583496241197, 2.639340408585056, -0.47627074391930735, -0.2150085372172846, 0.5520271126747018, -0.7973957224562751, -1.3102493308972996, 1.825175672933644, 0.699255554294879, -1.6539793808901706, -0.37081913576149367, 1.5553444249457478, 0.5737118899847745], \"yaxis\": \"y\"}, {\"customdata\": [[\"1\", \"2019-11-18\"], [\"1\", \"2019-10-17\"], [\"1\", \"2019-09-27\"], [\"1\", \"2019-10-23\"], [\"1\", \"2019-09-02\"], [\"1\", \"2019-08-09\"], [\"1\", \"2019-12-05\"], [\"1\", \"2019-12-03\"], [\"1\", \"2019-12-02\"], [\"1\", \"2019-12-02\"], [\"1\", \"2019-11-19\"], [\"1\", \"2019-08-23\"], [\"1\", \"2019-08-06\"], [\"1\", \"2019-08-05\"], [\"1\", \"2019-07-24\"], [\"1\", \"2019-11-26\"], [\"1\", \"2019-11-22\"], [\"1\", \"2019-11-20\"], [\"1\", \"2019-11-16\"], [\"1\", \"2019-11-11\"], [\"1\", \"2020-01-02\"], [\"1\", \"2019-11-08\"], [\"1\", \"2019-09-04\"], [\"1\", \"2019-08-22\"], [\"1\", \"2019-08-21\"], [\"1\", \"2019-08-17\"], [\"1\", \"2019-08-15\"], [\"1\", \"2019-08-10\"], [\"1\", \"2019-07-21\"], [\"1\", \"2019-07-03\"], [\"1\", \"2020-02-20\"], [\"1\", \"2019-11-27\"], [\"1\", \"2019-11-20\"], [\"1\", \"2019-09-28\"], [\"1\", \"2019-09-20\"], [\"1\", \"2019-09-02\"], [\"1\", \"2020-03-01\"], [\"1\", \"2019-10-17\"], [\"1\", \"2019-08-05\"], [\"1\", \"2019-09-26\"], [\"1\", \"2019-08-20\"], [\"1\", \"2019-08-16\"], [\"1\", \"2019-08-15\"], [\"1\", \"2019-08-08\"], [\"1\", \"2019-08-04\"], [\"1\", \"2019-08-01\"], [\"1\", \"2019-11-12\"], [\"1\", \"2020-01-10\"], [\"1\", \"2019-11-29\"], [\"1\", \"2019-11-21\"], [\"1\", \"2019-08-09\"], [\"1\", \"2019-11-14\"], [\"1\", \"2020-01-06\"], [\"1\", \"2019-11-15\"], [\"1\", \"2019-12-17\"], [\"1\", \"2019-11-05\"], [\"1\", \"2019-11-20\"], [\"1\", \"2019-12-17\"], [\"1\", \"2019-11-28\"], [\"1\", \"2019-08-05\"], [\"1\", \"2019-07-03\"], [\"1\", \"2019-12-06\"], [\"1\", \"2019-07-03\"], [\"1\", \"2019-08-15\"], [\"1\", \"2019-07-19\"], [\"1\", \"2019-12-20\"], [\"1\", \"2019-07-29\"], [\"1\", \"2019-12-01\"], [\"1\", \"2019-12-22\"], [\"1\", \"2019-08-16\"], [\"1\", \"2019-09-10\"], [\"1\", \"2019-08-07\"], [\"1\", \"2019-07-22\"], [\"1\", \"2019-09-05\"], [\"1\", \"2019-06-16\"], [\"1\", \"2019-08-10\"], [\"1\", \"2019-12-06\"], [\"1\", \"2019-08-16\"], [\"1\", \"2019-07-29\"], [\"1\", \"2019-07-11\"], [\"1\", \"2019-08-04\"], [\"1\", \"2019-08-21\"], [\"1\", \"2019-10-06\"], [\"1\", \"2019-12-08\"], [\"1\", \"2019-12-16\"], [\"1\", \"2019-07-23\"], [\"1\", \"2019-08-11\"], [\"1\", \"2019-12-27\"], [\"1\", \"2019-10-07\"], [\"1\", \"2019-12-26\"], [\"1\", \"2019-08-25\"], [\"1\", \"2019-09-29\"]], \"hoverlabel\": {\"namelength\": 0}, \"hovertemplate\": \"<b>%{hovertext}</b><br><br>Hierarchical=%{customdata[0]}<br>source=CCTV<br>pc1=%{x}<br>pc3=%{y}<br>date=%{customdata[1]}\", \"hovertext\": [\"Pompeo's hypocritical face on Hong Kong\", \"Washington's Hong Kong act will have a boomerang effect\", \"U.S. interference in Hong Kong will backfire\", \"Chinese FM denounces violence, foreign interference in Hong Kong\", \"Violence in Hong Kong must end now\", \"Hong Kong developers' group condemns violence\", \"Hong Kong chief executive: 'One Country' is premise of 'Two\", \"China takes countermeasures after U.S. signs Hong Kong act\", \"China takes countermeasures after U.S. signing of Hong Kong bill\", \"People of different circles slam U.S. on Hong Kong-related act\", \"Murderous violence in Hong Kong 'must not be tolerated': China's\", \"Washington\\u2019s prejudice over Hong Kong is a judgement on itself\", \"Mainland spokesperson: Chaos must be stopped in Hong Kong\", \"Commentary: Bottom line on Hong Kong brooks no challenge\", \"No external forces allowed to disrupt Hong Kong: spokesperson\", \"Lion Rock Spirit needed for Hong Kong to stop violence,\", \"Backlash grows stronger against U.S. passage of Hong Kong-related legislation\", \"Hong Kong court ruling unconvincing, unhelpful for stopping violence: legal\", \"Spokesperson: Xi Jinping's remarks point way to stabilizing Hong Kong\", \"Hong Kong, Macao affairs chief reiterates patriots' principal role in\", \"Commissioner's office of Chinese foreign ministry in HKSAR slams foreign\", \"Central gov't spokesperson strongly condemns knife attack against Hong Kong\", \"Spokesperson condemns criminality by small number of rioters in Hong\", \"China calls for objective, fair position on Hong Kong situation\", \"Spokesperson slashes foreign meddling in Russia, Hong Kong affairs\", \"China responds to U.S. remarks on Hong Kong: FM spokesperson\", \"China has zero tolerance for foreign meddling in Hong Kong\", \"PLA garrison in Hong Kong holds blood donation activity\", \"Residents of China's Hong Kong rally to appeal for peace,\", \"China opposes other countries' interference in Hong Kong affairs\", \"106 Hong Kong residents aboard virus-hit cruise brought home by\", \"Senior Chinese official opposes, condemns U.S. Congress passing Hong Kong-related\", \"China expresses strong condemnation against U.S. Senate's passing of Hong\", \"British official's remarks on Hong Kong \\\"irresponsible,\\\" says Chinese embassy\", \"China urges U.S. to immediately stop interfering in Hong Kong\", \"China slams some U.S. politicians' remarks about Hong Kong\", \"Commissioner's office of Chinese foreign ministry urges U.S. to stop\", \"Principal official of liaison office of China's central gov't in\", \"Central government strongly condemns flag-insulting acts by radicals in Hong\", \"China strongly opposes U.S. congressional committees' passing of Hong Kong-related\", \"Hong Kong gov't to start work immediately on building platform\", \"Foreign forces must stop interfering in Hong Kong's affairs: Chinese\", \"Leung Chun-ying urges Hong Kong residents to help bring radicals\", \"Hong Kong's most urgent task is to stop violence, end\", \"Hong Kong society strongly condemns act of flinging Chinese national\", \"No compromise with \\\"black sheep\\\" attempting to disrupt Hong Kong's\", \"Carrie Lam: Violence is relentlessly destroying HK society\", \"Central govt will continue to support HKSAR govt: Luo\", \"Chinese Defense Ministry: PLA HK Garrison capable of safeguarding sovereignty\", \"China summons U.S. Embassy official to lodge protest against U.S.\", \"Commissioner's office of China's foreign ministry in HK lodges representations\", \"Officials: Violence will never prevail in HKSAR\", \"'One Country, Two Systems' HK's greatest advantage: New head of\", \"Xi says HK's most pressing task is to end violence,\", \"Xi meets with HKSAR chief executive\", \"Xi meets HKSAR chief executive\", \"Liaison office of China's central gov't in HKSAR says NPC\", \"Premier Li meets with HKSAR chief executive\", \"HK govt, Chinese Foreign Ministry strongly opposes U.S. move to\", \"HKSAR gov't says protests beyond rational limit, not to condone\", \"Attempts to interfere in China's internal affairs will never succeed\", \"Ambassador Cui decries distortion of facts in portraying HK, Xinjiang\", \"Protesters' storming of HK govt building condemned\", \"HK violence condemned by overseas specialists\", \"China strongly opposes European Parliament's interference in HK issue\", \"Central government fully supports HKSAR's future work plan: Xi\", \"HKSAR gov't strongly condemns radical protesters' violent acts, at least\", \"Washington's egoistic double standard on human rights\", \"China says relevant U.S. defense act clauses blatantly interfered in\", \"Commissioner's office of Chinese foreign ministry in HK criticizes foreign\", \"Officials, residents condemn MTR vandalism\", \"HK people urged to stop violence and chaos, bring back\", \"HKSAR gov't strongly condemns protesters' storming of liaison office of\", \"Carrie Lam announces formal withdrawal of fugitive bill\", \"HKSAR chief executive announces suspension of fugitive law amendments, promises\", \"Commissioner's office of China's foreign ministry in HK denounces \\\"gangster\", \"China Islamic Association denounces U.S. House approval of Xinjiang bill\", \"Upholding rule of law only way to make things right\", \"HK people urged to resolutely defend rule of law\", \"China warns against foreign interference in its internal affairs\", \"A prosperous, stable HK conducive to betterment of int'l community\", \"Canada urged to stop interfering in China's internal affairs\", \"HKSAR chief executive vows greatest resolve to end violence\", \"Senior Chinese official opposes, condemns U.S. interference in China's internal\", \"Macao, mainland's 20-year journey of shared development\", \"HKSAR chief executive condemns violent acts, calls for upholding rule\", \"Beijing asks London to stop interfering in HK\", \"Chinese military spokesperson urges U.S. not to implement negative fiscal\", \"Xi extends Seniors' Day greetings\", \"Beijing: Taiwan's compatriots suffer from DPP's 'green terror'\", \"HKSAR chief executive calls for dialogue to solve problems\", \"Top political advisor calls for broadest patriotic united front at\"], \"legendgroup\": \"Hierarchical=1, source=CCTV\", \"marker\": {\"color\": \"blue\", \"opacity\": 0.8, \"symbol\": \"square\"}, \"mode\": \"markers\", \"name\": \"Hierarchical=1, source=CCTV\", \"showlegend\": true, \"type\": \"scattergl\", \"x\": [3.8548274875571886, 1.7047891657034828, 7.841976853978849, 4.098395460570236, 5.72043622168083, 4.794126701017729, 13.018840070587547, 2.2789105662872755, 6.543119919180939, 8.134358518223905, 5.704755859352145, 2.13078919881098, 5.341984950283551, 8.577538593126878, 11.846588786652354, 2.4467449488190076, 1.647568337619577, 7.733102222324045, 15.354120782457448, 16.902666487582692, 9.132783551024598, 14.51366467267091, 10.397778642053604, 8.919478849156977, 5.0067819659319825, 3.0222082524200333, 6.835497997474273, 4.7292138244366715, 4.770217517088381, 3.2213323653248715, 3.3602271115247166, 10.54694220878653, 13.651899019474737, 11.894357582994273, 5.527442304807611, 14.92267654950674, 6.550177951645381, 8.233933061239899, 9.477627735748115, 14.97073962754168, 6.365384471855552, 6.686014121206574, 6.853791103949468, 6.8976523638857605, 4.50119666524029, 10.36836448221991, 6.170092392981596, 11.007250745511525, 3.885138763822137, 5.05836804303604, 7.1274091265630535, 4.653891637878768, 7.67871010816789, 8.58758428973773, 6.202410464534389, 14.338387342124623, 6.674530965688924, 8.371781155284422, 13.57398363687056, 11.144325446112557, 9.94261511506713, 5.156286600486733, 12.37196134693779, 9.77116563473181, 8.65851301886885, 5.37888047145661, 4.331197127878466, 2.7801984144455387, 6.069813240273879, 4.002961144861469, 3.649283112890361, 13.556293433525399, 5.009919084837385, 7.340027623348779, 12.387837437171685, 4.406025501465714, 7.628475672261912, 14.231329297614716, 6.23850608255387, 6.623160803528256, 5.148425378359267, 9.45963609468557, 9.126346358992084, 5.225456184618851, 6.057741746806312, 3.660053486262355, 3.993465874521478, 6.368039404958252, 3.151808700026947, 5.023373523559534, 8.285141249122022, 10.803020395168899], \"xaxis\": \"x\", \"y\": [0.3145105978538111, 1.0133295858964129, 0.5609315033997829, -1.8190063944649488, -0.7422841754194289, -0.4480512548897633, 0.7746751368571875, 0.8143970898082714, -0.18383006238603897, 0.7623551491376949, -1.1980623456128834, 0.5839040164130345, 0.3197157515687945, -0.12573723128631717, 2.0282361920204246, 1.0941975899236378, 0.9828895392093114, 0.39758039835077325, 0.9982864992801207, 1.3362996248139853, 0.1943303272488091, 0.7968502399546127, 0.3318865388262484, -0.08084897069089886, 2.5155646834996928, 0.7262734239167924, 1.9520405161422576, 0.8958282597512259, -1.520705802270747, 0.5288440815474327, 0.803715752617498, 0.7936547513206796, 0.8504819550692162, 0.7913233562757117, 0.030961970479596538, 1.0499812584046373, 0.8849321161907185, 0.7281698910118756, 0.5658284646592998, 1.2425378598955727, 0.32477646396903354, 1.2969438718832689, 0.10333260704781658, 0.2846601443945876, 0.09000293178774908, 0.5161406205228335, -1.5778471016518065, 0.42333599184751497, -0.8455165918124805, 1.3377459755957957, -0.09565878744783901, -0.45966875313505506, 1.1547034519854185, 0.7825501896126521, 0.2756295112396719, 0.961809983466437, 0.4108096868549807, 0.28421037757206724, 0.8213629424064592, 0.5492427081200005, 0.28219246928106506, 1.6495719538000526, 0.20239661728657293, 0.5984064185131013, -0.4454311841485016, -0.07780219768324699, -1.6517489236590106, 1.74448631231381, 1.1646010384441785, 0.7650334522726604, -1.1683966054902708, 1.4470835766195091, -0.3483286723301355, -0.11996397104178791, 0.932571545962161, -0.33378534373517915, -0.16418514059774938, 1.5545766388093851, -0.22787904183363047, 0.39456078214612456, -0.409172609534139, 0.20888225106983938, -0.08201479003007182, 0.06045321532798154, 1.09113998383333, 0.8490618260683749, 0.4130521212970484, 1.7494248172871258, 0.20801161576347924, 0.5991133634799536, 0.35875744240063967, 1.672500873351811], \"yaxis\": \"y\"}, {\"customdata\": [[\"1\", \"2019-11-05\"]], \"hoverlabel\": {\"namelength\": 0}, \"hovertemplate\": \"<b>%{hovertext}</b><br><br>Hierarchical=%{customdata[0]}<br>source=ABC (Australia)<br>pc1=%{x}<br>pc3=%{y}<br>date=%{customdata[1]}\", \"hovertext\": [\"China's Xi Jinping meets Carrie Lam in 'vote of confidence'\"], \"legendgroup\": \"Hierarchical=1, source=ABC (Australia)\", \"marker\": {\"color\": \"blue\", \"opacity\": 0.8, \"symbol\": \"x\"}, \"mode\": \"markers\", \"name\": \"Hierarchical=1, source=ABC (Australia)\", \"showlegend\": true, \"type\": \"scattergl\", \"x\": [6.821595030061745], \"xaxis\": \"x\", \"y\": [2.22055891699438], \"yaxis\": \"y\"}, {\"customdata\": [[\"1\", \"2019-11-30\"], [\"1\", \"2019-11-21\"], [\"1\", \"2019-10-16\"], [\"1\", \"2019-09-12\"], [\"1\", \"2019-09-05\"], [\"1\", \"2019-07-02\"], [\"1\", \"2019-06-17\"]], \"hoverlabel\": {\"namelength\": 0}, \"hovertemplate\": \"<b>%{hovertext}</b><br><br>Hierarchical=%{customdata[0]}<br>source=CNN<br>pc1=%{x}<br>pc3=%{y}<br>date=%{customdata[1]}\", \"hovertext\": [\"China arrests two men for alleged involvement in Hong Kong\", \"Beijing vents fury at Washington over Hong Kong Human Rights\", \"Hong Kong leader's policy address abandoned as lawmakers say she\", \"Taiwan warns citizens not to travel to Hong Kong and\", \"Hong Kong government's attempt to outflank protesters is doomed to\", \"Beijing says 'radical' Hong Kong protests are an 'undisguised challenge'\", \"Trump may raise Hong Kong protests with Xi as city\"], \"legendgroup\": \"Hierarchical=1, source=CNN\", \"marker\": {\"color\": \"blue\", \"opacity\": 0.8, \"symbol\": \"cross\"}, \"mode\": \"markers\", \"name\": \"Hierarchical=1, source=CNN\", \"showlegend\": true, \"type\": \"scattergl\", \"x\": [4.183339987281974, 3.577199854886173, 5.963189330990292, 3.1711019860448424, 3.4735774832268516, 4.431634505127244, 2.376341102768212], \"xaxis\": \"x\", \"y\": [0.3926561504411496, 2.4999839630453113, 0.5288706341519801, 0.5142228533914551, -1.271868063860953, -0.01896620332491603, 0.4432892329898718], \"yaxis\": \"y\"}, {\"customdata\": [[\"2\", \"2020-02-17\"], [\"2\", \"2020-02-16\"], [\"2\", \"2020-01-30\"], [\"2\", \"2020-01-08\"], [\"2\", \"2020-01-03\"], [\"2\", \"2019-12-28\"], [\"2\", \"2019-12-17\"], [\"2\", \"2019-12-10\"], [\"2\", \"2019-12-16\"], [\"2\", \"2019-12-03\"], [\"2\", \"2019-11-23\"], [\"2\", \"2019-11-20\"], [\"2\", \"2019-11-18\"], [\"2\", \"2019-10-11\"], [\"2\", \"2019-10-02\"], [\"2\", \"2019-09-30\"], [\"2\", \"2019-09-10\"], [\"2\", \"2019-09-03\"], [\"2\", \"2019-08-25\"], [\"2\", \"2019-08-16\"], [\"2\", \"2019-08-14\"], [\"2\", \"2019-08-09\"], [\"2\", \"2019-12-19\"], [\"2\", \"2019-08-01\"]], \"hoverlabel\": {\"namelength\": 0}, \"hovertemplate\": \"<b>%{hovertext}</b><br><br>Hierarchical=%{customdata[0]}<br>source=SCMP<br>pc1=%{x}<br>pc3=%{y}<br>date=%{customdata[1]}\", \"hovertext\": [\"\\u2018Really scary what I saw in Hong Kong\\u2019: EU to\", \"Coronavirus: Hong Kong may see biggest ever budget deficit next\", \"\\u2018Bad timing\\u2019: industry experts pan expanded fast-track immigration scheme by\", \"Hong Kong budget deficit will not top 3 per cent\", \"Hong Kong protests continue to batter retail sector as sales\", \"Advisers to public broadcaster RTHK write to Hong Kong government\", \"Hong Kong\\u2019s biggest free-to-air broadcaster TVB to lay off 350\", \"At least 5,600 retail jobs to go in Hong Kong\", \"Holiday season brings little cheer for Hong Kong businesses hit\", \"Hong Kong\\u2019s Ocean Park going through a more challenging phase\", \"Residential sales remain sluggish as Hong Kong homebuyers \\u2018stay on\", \"From Maserati importers to newspaper owners, companies warn of falling\", \"No fanfare, no farewell dinner as Hong Kong police chief\", \"MTR Corp and Airport Authority plan to offer rent cuts\", \"Hong Kong retail sales suffer worst decline on record amid\", \"Hong Kong\\u2019s tourism industry endures worst August since Sars outbreak\", \"Hong Kong tourism suffers worst downturn since Sars outbreak in\", \"Best month in years for Singapore hotels amid Hong Kong\", \"Hong Kong\\u2019s core industries hammered by anti-government protest crisis with\", \"Hong Kong\\u2019s economy shrinks worse-than-expected 0.4 per cent in second\", \"Aviation industry expected to suffer losses of more than US$76\", \"Hong Kong\\u2019s summer of discontent could lead to \\u2018chilly winter\\u2019\", \"Hongkongers scout properties in Malaysia as political turmoil rumbles on\", \"US-China trade war brings Hong Kong\\u2019s economic expansion to near\"], \"legendgroup\": \"Hierarchical=2, source=SCMP\", \"marker\": {\"color\": \"red\", \"opacity\": 0.8, \"symbol\": \"circle\"}, \"mode\": \"markers\", \"name\": \"Hierarchical=2, source=SCMP\", \"showlegend\": true, \"type\": \"scattergl\", \"x\": [-3.4539506694239037, -6.098509378459572, -3.3314803123244285, -4.272692716122057, -4.497673904672974, -3.0671593893620597, -3.4646515251798244, -3.348449127598521, -4.495206045109402, -4.072394046920399, -3.686160114280037, -5.577779104459153, -4.77113457170389, -4.229500126335919, -6.66918152998883, -4.271570355072281, -3.737555656549689, -6.7087948717884975, -6.209100016972927, -5.038275219607724, -4.468293181902268, -4.947589381651695, -5.490921912605836, -6.991733856968647], \"xaxis\": \"x\", \"y\": [0.829159121061903, 1.2967529532271609, 0.4451849093033651, 0.9560421606054442, 0.9804014257132204, 1.5812664302795707, 0.8716450993930404, 0.8175990760098217, 0.6308611057252669, -0.32512806108828574, 0.39099630371092753, 0.3565167425399936, 0.40509949795454653, 0.3507531692195097, 1.416255429663073, 0.22281512495601863, 0.3047799754923283, 1.605672325401041, 1.1121042855441952, 1.3170758722890052, -0.20622878158793856, 0.9195971829759546, 1.6432759934674575, 1.6119610251087253], \"yaxis\": \"y\"}, {\"customdata\": [[\"2\", \"2020-02-28\"], [\"2\", \"2020-02-17\"], [\"2\", \"2020-01-24\"], [\"2\", \"2020-01-21\"], [\"2\", \"2019-12-06\"], [\"2\", \"2019-12-05\"], [\"2\", \"2019-12-03\"], [\"2\", \"2019-12-02\"], [\"2\", \"2019-12-02\"], [\"2\", \"2019-12-02\"], [\"2\", \"2019-11-29\"], [\"2\", \"2019-11-29\"], [\"2\", \"2019-11-29\"], [\"2\", \"2019-11-29\"], [\"2\", \"2019-11-28\"], [\"2\", \"2019-11-28\"], [\"2\", \"2019-11-28\"], [\"2\", \"2019-11-26\"], [\"2\", \"2019-11-25\"], [\"2\", \"2019-11-22\"], [\"2\", \"2019-11-22\"], [\"2\", \"2019-11-14\"], [\"2\", \"2019-11-14\"], [\"2\", \"2019-11-13\"], [\"2\", \"2019-11-13\"], [\"2\", \"2019-11-13\"], [\"2\", \"2019-11-13\"], [\"2\", \"2019-11-13\"], [\"2\", \"2019-11-13\"], [\"2\", \"2019-11-11\"], [\"2\", \"2019-11-11\"], [\"2\", \"2019-11-11\"], [\"2\", \"2019-11-11\"], [\"2\", \"2019-11-08\"], [\"2\", \"2019-11-06\"], [\"2\", \"2019-10-29\"], [\"2\", \"2019-10-28\"], [\"2\", \"2019-10-28\"], [\"2\", \"2019-10-27\"], [\"2\", \"2019-10-25\"], [\"2\", \"2019-10-25\"], [\"2\", \"2019-10-24\"], [\"2\", \"2019-10-25\"], [\"2\", \"2019-10-24\"], [\"2\", \"2019-10-18\"], [\"2\", \"2019-10-18\"], [\"2\", \"2019-10-18\"], [\"2\", \"2019-10-15\"], [\"2\", \"2019-10-08\"], [\"2\", \"2019-10-02\"], [\"2\", \"2019-10-02\"], [\"2\", \"2019-09-29\"], [\"2\", \"2019-09-12\"], [\"2\", \"2019-09-11\"], [\"2\", \"2019-09-09\"], [\"2\", \"2019-09-05\"], [\"2\", \"2019-09-04\"], [\"2\", \"2019-09-02\"], [\"2\", \"2019-08-28\"], [\"2\", \"2019-08-28\"], [\"2\", \"2019-08-28\"], [\"2\", \"2019-08-26\"], [\"2\", \"2019-08-19\"], [\"2\", \"2019-08-19\"], [\"2\", \"2019-08-16\"], [\"2\", \"2019-08-14\"], [\"2\", \"2019-08-14\"], [\"2\", \"2019-08-14\"], [\"2\", \"2019-08-13\"], [\"2\", \"2019-08-13\"], [\"2\", \"2019-08-13\"], [\"2\", \"2019-08-13\"], [\"2\", \"2019-08-13\"], [\"2\", \"2019-08-13\"], [\"2\", \"2019-08-13\"], [\"2\", \"2019-08-12\"], [\"2\", \"2019-08-12\"], [\"2\", \"2019-08-07\"], [\"2\", \"2019-08-07\"], [\"2\", \"2019-08-01\"], [\"2\", \"2019-07-30\"], [\"2\", \"2019-07-30\"], [\"2\", \"2019-07-18\"], [\"2\", \"2019-07-10\"], [\"2\", \"2019-06-12\"]], \"hoverlabel\": {\"namelength\": 0}, \"hovertemplate\": \"<b>%{hovertext}</b><br><br>Hierarchical=%{customdata[0]}<br>source=Reuters<br>pc1=%{x}<br>pc3=%{y}<br>date=%{customdata[1]}\", \"hovertext\": [\"Breakingviews - Hong Kong property tycoon builds model buyout\", \"Petra Diamonds warns of coronavirus hit as retail stores close\", \"Hong Kong protests weigh on Remy Cointreau Q3 sales\", \"China virus scare sends shudder through European luxury goods sector\", \"Chinese defy Hong Kong's protest gloom in hunt for bargain\", \"U.S. Uighur bill's threat to surveillance economy puts China on\", \"JGBs fall to 7 1/2-month lows after tepid auction\", \"Asian shares eke out third straight monthly gain in November\", \"Burst of social unrest tests emerging market risk models\", \"GLOBAL MARKETS-Global shares tick up as hopes for Sino-U.S. breakthrough\", \"EMERGING MARKETS-EM stocks fall on trade deal doubts; Lira firms\", \"REFILE-GLOBAL MARKETS-Stocks shy from breaking new highs as trade mood\", \"GLOBAL MARKETS-Stocks hesitate just short of new peaks as clouds\", \"GLOBAL MARKETS-Stocks stop short of new peaks as Sino-U.S. tensions\", \"World stocks stall as U.S.-China tensions flare again\", \"GLOBAL MARKETS-World stocks stall as U.S.-China tensions flare again\", \"China stocks end lower as Hong Kong tensions rekindle trade\", \"Abercrombie & Fitch trims forecast as Hollister, international business drag\", \"How LVMH's whirlwind courtship sealed $16 billion Tiffany deal\", \"GLOBAL MARKETS-Global shares inch up, but trade worries linger\", \"GLOBAL MARKETS-Asian shares recover from 3-week lows but trade deal\", \"Natura still struggling with Hong Kong protests, eyes China in\", \"EMERGING MARKETS-Stocks fall as Hong Kong protests go on; Turkish\", \"Asian airlines cancel annual gathering as Hong Kong violence escalates\", \"GLOBAL MARKETS-European shares knocked off four-year highs by Trump speech\", \"EMERGING MARKETS-Shares dip after Trump's trade speech, Hong Kong protests\", \"GLOBAL MARKETS-European shares knocked off four-year highs on Trump speech\", \"Cathay Pacific cuts profit guidance for second time amid Hong\", \"Nikkei slips as Trump speech, Hong Kong unrest dent mood\", \"Defensive stocks help European shares end flat, London lags\", \"FOREX-Euro near 4-week low vs dlr as traders look for\", \"FOREX-Euro hobbles around 4-week low vs dollar as traders look\", \"GLOBAL MARKETS-Asian shares give up gains as HK chaos hits\", \"Richemont hit by Hong Kong protests, online distributor losses\", \"Tod's nine-month sales slip; hit by Italy weakness, Hong Kong\", \"Lancome owner L'Oreal defies Chinese slowdown fears\", \"De Beers banks on 'diamonds are for me'\", \"HSBC warns of restructuring pain ahead as outlook darkens\", \"Hong Kong protests push insurer AIA to worst quarterly new\", \"What slowdown? China's riding to the rescue of luxury brands\", \"GLOBAL MARKETS-Brexit woes, mixed earnings see stocks lose steam, sterling\", \"Kering shares surge as Gucci shines despite Hong Kong protests\", \"GLOBAL MARKETS-Asian shares, sterling falter as Brexit, growth anxiety sap\", \"HSBC, StanChart results to show Hong Kong protests are starting\", \"Holiday Inn-owner IHG hit by weak China, Hong Kong bookings\", \"Cathay Pacific shelves U.S. dollar bond plans amid Hong Kong\", \"Cathay Pacific lowers full-year profit expectations as Hong Kong protests\", \"Hong Kong retail rents fall sharply in Q3 - consultancy\", \"PageGroup warns on annual profit as global problems mount\", \"Investors keep their faith in Hong Kong markets despite protests\", \"World's luxury brands count costs of Hong Kong protests\", \"Hong Kong's sky-high property prices prove resilient in face of\", \"Cathay Pacific freezes new hiring, to focus on cost cuts:\", \"Mainland China sales counter Hong Kong protest hit for Birkin-maker\", \"Japanese stocks end at 5-1/2-week high on global stimulus hopes\", \"Italy's fashion industry expects growth to stall in 2019 then\", \"Hong Kong protests overshadow Merkel trip to China\", \"GLOBAL MARKETS-Stocks slip as new U.S.-China tariffs add to growth\", \"PVH cuts profit and revenue forecast as tariffs, Hong Kong\", \"Tiffany profit tops estimates, Hong Kong and tourism hit sales\", \"Tiffany says sales could miss estimates if Hong Kong protests\", \"WRAPUP 2-China's yuan slumps to 11-year low, stocks fall as\", \"Estee Lauder sees no slowdown in China, forecasts robust fiscal\", \"China's State Council calls for Shenzhen integration with Hong Kong,\", \"FOREX-Dollar holds advantage for now, traders still wary about global\", \"Breakingviews - Western luxury brands\\u2019 China dilemma will worsen\", \"Prudential to split by year-end; monitoring Hong Kong protests\", \"Australia shares join global rally as miners bounce, CSL gains\", \"GLOBAL MARKETS-Shares fall after Argentina peso tumble, safe-havens shine\", \"FOREX-Yen and dollar rise as investors seek safety\", \"Hong Kong protests spark capital outflow fears, unnerve markets\", \"GLOBAL MARKETS-Shares shunted after Argentina crash, safe-havens shine\", \"FOREX-Yen, dollar buoyed as investors seek safety\", \"GLOBAL MARKETS-Asia shares jolted by Hong Kong unrest, Argentine peso\", \"GLOBAL MARKETS-Asia shares slip as Hong Kong unrest, Argentine peso\", \"Wall Street falls on geopolitical tensions, recession fears\", \"China stocks rally as regulator loosens margin financing; Hong Kong\", \"Cathay Pacific forward bookings drop amid Hong Kong protests\", \"Hong Kong protests take a toll as companies flag impact\", \"StanChart warns of trade war, rate risks after profit tops\", \"'We may lose Christmas': escalating Hong Kong protests taking bigger\", \"\\\"We may lose Christmas\\\": escalating Hong Kong protests taking bigger\", \"Watch sales stall at Richemont as Hong Kong protests bite\", \"PageGroup sees profit at lower end of market view, hiring\", \"Hong Kong protests send stocks lower, spark scramble for cash\"], \"legendgroup\": \"Hierarchical=2, source=Reuters\", \"marker\": {\"color\": \"red\", \"opacity\": 0.8, \"symbol\": \"diamond\"}, \"mode\": \"markers\", \"name\": \"Hierarchical=2, source=Reuters\", \"showlegend\": true, \"type\": \"scattergl\", \"x\": [-9.009814516015831, -8.916693173333053, -4.737723327716041, -7.980087189879492, -4.989933229813182, -3.284200701387525, -4.686780273602709, -7.494110768806787, -4.494701977126082, -4.858380098977985, -7.715525590935335, -5.905298812133988, -4.3294144506456025, -4.018850510217658, -8.684025548412377, -5.858694357386359, -5.282372485215668, -6.199953143680497, -6.529532866531949, -5.07219374208086, -4.216914698038389, -9.568149945065587, -3.980952626519821, -3.942041174510226, -6.357187592002147, -5.720230776785613, -6.072968589587347, -6.105021735528797, -5.985850792573869, -4.196183442451347, -6.699201104193735, -6.699201104193735, -5.328294607953616, -7.447003896345142, -7.659822357423352, -7.272271545797602, -7.232927651046359, -3.596666374519219, -9.832971032279039, -5.571806293478414, -6.483106827949393, -5.489097725879349, -4.999688955712111, -8.5082856956359, -10.008466246983234, -5.602445571469212, -9.522160744082928, -4.667922913916671, -4.966920082594398, -3.8967532110973617, -5.60410308276821, -5.793012152975621, -4.748951413989503, -6.0045717006017165, -7.016728269855789, -5.600119617303296, -4.973439777030469, -5.0448465328829615, -6.180645871561075, -5.02578791934916, -4.526075845125893, -6.997595330213755, -6.53814185891868, -4.396042524631734, -6.072025414962807, -3.2299968198909466, -5.016887185915734, -6.6314173553140945, -6.640072746583818, -6.03573864648723, -4.186213686489102, -6.259845857603124, -6.516978839083129, -4.985851146900596, -5.419015504983186, -10.545472761297537, -6.564875459897015, -7.881764880578749, -5.284669042946869, -7.267783009411945, -7.0660374929638134, -7.0660374929638134, -5.942954620206925, -5.975722395571278, -4.952473430025852], \"xaxis\": \"x\", \"y\": [3.008347819181235, 2.693623133926099, 0.6042406666037029, 2.0897446667405375, 0.5649715727287795, 0.9009406097894724, 0.3623238992475861, 2.0855077474816706, 1.8665474554117008, 0.43747619667728144, 2.3845215966333284, 1.0382804165153294, 0.07510885205555948, -0.14771546250312198, 2.4135217878855646, 0.9782978726897583, 1.0840245932958978, 1.2899039329865007, 2.02038691474053, 0.6178091824807771, 0.40884308721030704, 2.93398569047856, 0.48312033869343235, 0.9908039633799649, 1.465093871695036, 1.9609982395136203, 1.3318903248399465, 1.509985484718184, 1.1086761041348268, 0.11121938510726496, 1.8137708970204025, 1.8137708970204025, 0.5810874112534387, 1.7215972098577674, 2.0396190187372367, 1.877597996117042, 2.175136761298339, 0.5265143735249828, 2.8297727353982456, 1.8689354871474342, 1.36341598470983, 1.3607434648076235, 0.7582884217838619, 2.4823267595227367, 3.2081881344420213, 1.1499677946793316, 2.9703119444969106, 0.9375365495291006, 0.7345939891065826, 0.7241883403128705, 0.9000434164133326, 0.7950706972319942, 0.3166851643775413, 1.1924909369404344, 1.6474504538362165, 1.1375955654883134, 1.2317194821322999, 1.5340816890359168, 0.9043308342444069, 0.5233548273742431, 0.613509806521458, 1.489731480977093, 1.3610942809225315, 2.8230295025717846, 1.2123266254681047, 2.3310093971548427, 1.715676848923593, 1.4304185455105627, 1.2715742168433612, 1.187448515630036, -0.13821815321509467, 1.0797430305035043, 1.4131098438066525, 0.8778259176559075, 0.5376525835258561, 3.3613161837498136, 1.2706558629786235, 2.158382773741582, 1.185502978975606, 1.9237253611965048, 1.317402209586721, 1.317402209586721, 1.1464962706139035, 1.207538035150658, 0.5995232106756221], \"yaxis\": \"y\"}, {\"customdata\": [[\"2\", \"2019-08-19\"], [\"2\", \"2019-12-31\"], [\"2\", \"2019-10-28\"], [\"2\", \"2019-08-07\"]], \"hoverlabel\": {\"namelength\": 0}, \"hovertemplate\": \"<b>%{hovertext}</b><br><br>Hierarchical=%{customdata[0]}<br>source=CCTV<br>pc1=%{x}<br>pc3=%{y}<br>date=%{customdata[1]}\", \"hovertext\": [\"Violence pales \\\"Pearl of the Orient\\\" economic outlook\", \"Full text: Chinese President Xi Jinping's 2020 New Year speech\", \"New Beijing airport open to international flights\", \"China regrets U.S. decision to label China currency manipulator\"], \"legendgroup\": \"Hierarchical=2, source=CCTV\", \"marker\": {\"color\": \"red\", \"opacity\": 0.8, \"symbol\": \"square\"}, \"mode\": \"markers\", \"name\": \"Hierarchical=2, source=CCTV\", \"showlegend\": true, \"type\": \"scattergl\", \"x\": [-5.6622085383871585, -5.078722315664491, -4.403764885164732, -3.8644356520822063], \"xaxis\": \"x\", \"y\": [0.6356383064582203, 1.6095397154221993, 0.6070574217382005, 1.9997244563446461], \"yaxis\": \"y\"}, {\"customdata\": [[\"2\", \"2019-11-12\"], [\"2\", \"2019-10-23\"], [\"2\", \"2019-08-13\"], [\"2\", \"2019-08-10\"]], \"hoverlabel\": {\"namelength\": 0}, \"hovertemplate\": \"<b>%{hovertext}</b><br><br>Hierarchical=%{customdata[0]}<br>source=ABC (Australia)<br>pc1=%{x}<br>pc3=%{y}<br>date=%{customdata[1]}\", \"hovertext\": [\"ASX falls as global markets mostly lower on trade uncertainty,\", \"Hong Kong unrest sees residents look to Australian property safe\", \"ASX falls as Argentinian stocks lose half their value, Wall\", \"Hong Kong's protests rattle the nerves of Chinese millionaires, and\"], \"legendgroup\": \"Hierarchical=2, source=ABC (Australia)\", \"marker\": {\"color\": \"red\", \"opacity\": 0.8, \"symbol\": \"x\"}, \"mode\": \"markers\", \"name\": \"Hierarchical=2, source=ABC (Australia)\", \"showlegend\": true, \"type\": \"scattergl\", \"x\": [-10.406940336495884, -9.591075572752397, -5.60229383493068, -6.345329030386157], \"xaxis\": \"x\", \"y\": [3.204708170787647, 2.7457884657307856, 0.9186365230187604, 1.92292621860962], \"yaxis\": \"y\"}, {\"customdata\": [[\"2\", \"2020-03-11\"], [\"2\", \"2020-03-06\"], [\"2\", \"2019-12-17\"], [\"2\", \"2019-11-08\"], [\"2\", \"2019-08-16\"]], \"hoverlabel\": {\"namelength\": 0}, \"hovertemplate\": \"<b>%{hovertext}</b><br><br>Hierarchical=%{customdata[0]}<br>source=CNN<br>pc1=%{x}<br>pc3=%{y}<br>date=%{customdata[1]}\", \"hovertext\": [\"Cathay Pacific warns of 'substantial loss' as coronavirus slashes air\", \"Tens of thousands of airline jobs are at risk as\", \"Hong Kong protests and economic woes are pushing the city's\", \"Disney says Hong Kong protests could wipe out $275 million\", \"Cathay Pacific CEO resigns amid Hong Kong protests\"], \"legendgroup\": \"Hierarchical=2, source=CNN\", \"marker\": {\"color\": \"red\", \"opacity\": 0.8, \"symbol\": \"cross\"}, \"mode\": \"markers\", \"name\": \"Hierarchical=2, source=CNN\", \"showlegend\": true, \"type\": \"scattergl\", \"x\": [-7.456901029100266, -4.890137041110426, -5.161033981988195, -5.181146087880827, -3.6112294078638345], \"xaxis\": \"x\", \"y\": [2.123429282587238, 0.7233303909334972, 1.5292631767543814, 1.9099835284122162, 1.4731069398119043], \"yaxis\": \"y\"}],\n",
       "                        {\"font\": {\"color\": \"#7f7f7f\", \"family\": \"Arial\", \"size\": 12}, \"height\": 600, \"legend\": {\"orientation\": \"v\", \"tracegroupgap\": 0}, \"margin\": {\"t\": 60}, \"shapes\": [{\"fillcolor\": \"green\", \"line\": {\"color\": \"green\"}, \"opacity\": 0.2, \"type\": \"circle\", \"x0\": -4.032217550436724, \"x1\": 3.9671506818827504, \"xref\": \"x\", \"y0\": -4.899511538197941, \"y1\": 12.407625098387696, \"yref\": \"y\"}, {\"fillcolor\": \"blue\", \"line\": {\"color\": \"blue\"}, \"opacity\": 0.2, \"type\": \"circle\", \"x0\": 1.647568337619577, \"x1\": 16.902666487582692, \"xref\": \"x\", \"y0\": -1.8190063944649488, \"y1\": 2.639340408585056, \"yref\": \"y\"}, {\"fillcolor\": \"red\", \"line\": {\"color\": \"red\"}, \"opacity\": 0.2, \"type\": \"circle\", \"x0\": -10.545472761297537, \"x1\": -3.0671593893620597, \"xref\": \"x\", \"y0\": -0.32512806108828574, \"y1\": 3.3613161837498136, \"yref\": \"y\"}], \"template\": {\"data\": {\"bar\": [{\"error_x\": {\"color\": \"#2a3f5f\"}, \"error_y\": {\"color\": \"#2a3f5f\"}, \"marker\": {\"line\": {\"color\": \"#E5ECF6\", \"width\": 0.5}}, \"type\": \"bar\"}], \"barpolar\": [{\"marker\": {\"line\": {\"color\": \"#E5ECF6\", \"width\": 0.5}}, \"type\": \"barpolar\"}], \"carpet\": [{\"aaxis\": {\"endlinecolor\": \"#2a3f5f\", \"gridcolor\": \"white\", \"linecolor\": \"white\", \"minorgridcolor\": \"white\", \"startlinecolor\": \"#2a3f5f\"}, \"baxis\": {\"endlinecolor\": \"#2a3f5f\", \"gridcolor\": \"white\", \"linecolor\": \"white\", \"minorgridcolor\": \"white\", \"startlinecolor\": \"#2a3f5f\"}, \"type\": \"carpet\"}], \"choropleth\": [{\"colorbar\": {\"outlinewidth\": 0, \"ticks\": \"\"}, \"type\": \"choropleth\"}], \"contour\": [{\"colorbar\": {\"outlinewidth\": 0, \"ticks\": \"\"}, \"colorscale\": [[0.0, \"#0d0887\"], [0.1111111111111111, \"#46039f\"], [0.2222222222222222, \"#7201a8\"], [0.3333333333333333, \"#9c179e\"], [0.4444444444444444, \"#bd3786\"], [0.5555555555555556, \"#d8576b\"], [0.6666666666666666, \"#ed7953\"], [0.7777777777777778, \"#fb9f3a\"], [0.8888888888888888, \"#fdca26\"], [1.0, \"#f0f921\"]], \"type\": \"contour\"}], \"contourcarpet\": [{\"colorbar\": {\"outlinewidth\": 0, \"ticks\": \"\"}, \"type\": \"contourcarpet\"}], \"heatmap\": [{\"colorbar\": {\"outlinewidth\": 0, \"ticks\": \"\"}, \"colorscale\": [[0.0, \"#0d0887\"], [0.1111111111111111, \"#46039f\"], [0.2222222222222222, \"#7201a8\"], [0.3333333333333333, \"#9c179e\"], [0.4444444444444444, \"#bd3786\"], [0.5555555555555556, \"#d8576b\"], [0.6666666666666666, \"#ed7953\"], [0.7777777777777778, \"#fb9f3a\"], [0.8888888888888888, \"#fdca26\"], [1.0, \"#f0f921\"]], \"type\": \"heatmap\"}], \"heatmapgl\": [{\"colorbar\": {\"outlinewidth\": 0, \"ticks\": \"\"}, \"colorscale\": [[0.0, \"#0d0887\"], [0.1111111111111111, \"#46039f\"], [0.2222222222222222, \"#7201a8\"], [0.3333333333333333, \"#9c179e\"], [0.4444444444444444, \"#bd3786\"], [0.5555555555555556, \"#d8576b\"], [0.6666666666666666, \"#ed7953\"], [0.7777777777777778, \"#fb9f3a\"], [0.8888888888888888, \"#fdca26\"], [1.0, \"#f0f921\"]], \"type\": \"heatmapgl\"}], \"histogram\": [{\"marker\": {\"colorbar\": {\"outlinewidth\": 0, \"ticks\": \"\"}}, \"type\": \"histogram\"}], \"histogram2d\": [{\"colorbar\": {\"outlinewidth\": 0, \"ticks\": \"\"}, \"colorscale\": [[0.0, \"#0d0887\"], [0.1111111111111111, \"#46039f\"], [0.2222222222222222, \"#7201a8\"], [0.3333333333333333, \"#9c179e\"], [0.4444444444444444, \"#bd3786\"], [0.5555555555555556, \"#d8576b\"], [0.6666666666666666, \"#ed7953\"], [0.7777777777777778, \"#fb9f3a\"], [0.8888888888888888, \"#fdca26\"], [1.0, \"#f0f921\"]], \"type\": \"histogram2d\"}], \"histogram2dcontour\": [{\"colorbar\": {\"outlinewidth\": 0, \"ticks\": \"\"}, \"colorscale\": [[0.0, \"#0d0887\"], [0.1111111111111111, \"#46039f\"], [0.2222222222222222, \"#7201a8\"], [0.3333333333333333, \"#9c179e\"], [0.4444444444444444, \"#bd3786\"], [0.5555555555555556, \"#d8576b\"], [0.6666666666666666, \"#ed7953\"], [0.7777777777777778, \"#fb9f3a\"], [0.8888888888888888, \"#fdca26\"], [1.0, \"#f0f921\"]], \"type\": \"histogram2dcontour\"}], \"mesh3d\": [{\"colorbar\": {\"outlinewidth\": 0, \"ticks\": \"\"}, \"type\": \"mesh3d\"}], \"parcoords\": [{\"line\": {\"colorbar\": {\"outlinewidth\": 0, \"ticks\": \"\"}}, \"type\": \"parcoords\"}], \"scatter\": [{\"marker\": {\"colorbar\": {\"outlinewidth\": 0, \"ticks\": \"\"}}, \"type\": \"scatter\"}], \"scatter3d\": [{\"line\": {\"colorbar\": {\"outlinewidth\": 0, \"ticks\": \"\"}}, \"marker\": {\"colorbar\": {\"outlinewidth\": 0, \"ticks\": \"\"}}, \"type\": \"scatter3d\"}], \"scattercarpet\": [{\"marker\": {\"colorbar\": {\"outlinewidth\": 0, \"ticks\": \"\"}}, \"type\": \"scattercarpet\"}], \"scattergeo\": [{\"marker\": {\"colorbar\": {\"outlinewidth\": 0, \"ticks\": \"\"}}, \"type\": \"scattergeo\"}], \"scattergl\": [{\"marker\": {\"colorbar\": {\"outlinewidth\": 0, \"ticks\": \"\"}}, \"type\": \"scattergl\"}], \"scattermapbox\": [{\"marker\": {\"colorbar\": {\"outlinewidth\": 0, \"ticks\": \"\"}}, \"type\": \"scattermapbox\"}], \"scatterpolar\": [{\"marker\": {\"colorbar\": {\"outlinewidth\": 0, \"ticks\": \"\"}}, \"type\": \"scatterpolar\"}], \"scatterpolargl\": [{\"marker\": {\"colorbar\": {\"outlinewidth\": 0, \"ticks\": \"\"}}, \"type\": \"scatterpolargl\"}], \"scatterternary\": [{\"marker\": {\"colorbar\": {\"outlinewidth\": 0, \"ticks\": \"\"}}, \"type\": \"scatterternary\"}], \"surface\": [{\"colorbar\": {\"outlinewidth\": 0, \"ticks\": \"\"}, \"colorscale\": [[0.0, \"#0d0887\"], [0.1111111111111111, \"#46039f\"], [0.2222222222222222, \"#7201a8\"], [0.3333333333333333, \"#9c179e\"], [0.4444444444444444, \"#bd3786\"], [0.5555555555555556, \"#d8576b\"], [0.6666666666666666, \"#ed7953\"], [0.7777777777777778, \"#fb9f3a\"], [0.8888888888888888, \"#fdca26\"], [1.0, \"#f0f921\"]], \"type\": \"surface\"}], \"table\": [{\"cells\": {\"fill\": {\"color\": \"#EBF0F8\"}, \"line\": {\"color\": \"white\"}}, \"header\": {\"fill\": {\"color\": \"#C8D4E3\"}, \"line\": {\"color\": \"white\"}}, \"type\": \"table\"}]}, \"layout\": {\"annotationdefaults\": {\"arrowcolor\": \"#2a3f5f\", \"arrowhead\": 0, \"arrowwidth\": 1}, \"colorscale\": {\"diverging\": [[0, \"#8e0152\"], [0.1, \"#c51b7d\"], [0.2, \"#de77ae\"], [0.3, \"#f1b6da\"], [0.4, \"#fde0ef\"], [0.5, \"#f7f7f7\"], [0.6, \"#e6f5d0\"], [0.7, \"#b8e186\"], [0.8, \"#7fbc41\"], [0.9, \"#4d9221\"], [1, \"#276419\"]], \"sequential\": [[0.0, \"#0d0887\"], [0.1111111111111111, \"#46039f\"], [0.2222222222222222, \"#7201a8\"], [0.3333333333333333, \"#9c179e\"], [0.4444444444444444, \"#bd3786\"], [0.5555555555555556, \"#d8576b\"], [0.6666666666666666, \"#ed7953\"], [0.7777777777777778, \"#fb9f3a\"], [0.8888888888888888, \"#fdca26\"], [1.0, \"#f0f921\"]], \"sequentialminus\": [[0.0, \"#0d0887\"], [0.1111111111111111, \"#46039f\"], [0.2222222222222222, \"#7201a8\"], [0.3333333333333333, \"#9c179e\"], [0.4444444444444444, \"#bd3786\"], [0.5555555555555556, \"#d8576b\"], [0.6666666666666666, \"#ed7953\"], [0.7777777777777778, \"#fb9f3a\"], [0.8888888888888888, \"#fdca26\"], [1.0, \"#f0f921\"]]}, \"colorway\": [\"#636efa\", \"#EF553B\", \"#00cc96\", \"#ab63fa\", \"#FFA15A\", \"#19d3f3\", \"#FF6692\", \"#B6E880\", \"#FF97FF\", \"#FECB52\"], \"font\": {\"color\": \"#2a3f5f\"}, \"geo\": {\"bgcolor\": \"white\", \"lakecolor\": \"white\", \"landcolor\": \"#E5ECF6\", \"showlakes\": true, \"showland\": true, \"subunitcolor\": \"white\"}, \"hoverlabel\": {\"align\": \"left\"}, \"hovermode\": \"closest\", \"mapbox\": {\"style\": \"light\"}, \"paper_bgcolor\": \"white\", \"plot_bgcolor\": \"#E5ECF6\", \"polar\": {\"angularaxis\": {\"gridcolor\": \"white\", \"linecolor\": \"white\", \"ticks\": \"\"}, \"bgcolor\": \"#E5ECF6\", \"radialaxis\": {\"gridcolor\": \"white\", \"linecolor\": \"white\", \"ticks\": \"\"}}, \"scene\": {\"xaxis\": {\"backgroundcolor\": \"#E5ECF6\", \"gridcolor\": \"white\", \"gridwidth\": 2, \"linecolor\": \"white\", \"showbackground\": true, \"ticks\": \"\", \"zerolinecolor\": \"white\"}, \"yaxis\": {\"backgroundcolor\": \"#E5ECF6\", \"gridcolor\": \"white\", \"gridwidth\": 2, \"linecolor\": \"white\", \"showbackground\": true, \"ticks\": \"\", \"zerolinecolor\": \"white\"}, \"zaxis\": {\"backgroundcolor\": \"#E5ECF6\", \"gridcolor\": \"white\", \"gridwidth\": 2, \"linecolor\": \"white\", \"showbackground\": true, \"ticks\": \"\", \"zerolinecolor\": \"white\"}}, \"shapedefaults\": {\"line\": {\"color\": \"#2a3f5f\"}}, \"ternary\": {\"aaxis\": {\"gridcolor\": \"white\", \"linecolor\": \"white\", \"ticks\": \"\"}, \"baxis\": {\"gridcolor\": \"white\", \"linecolor\": \"white\", \"ticks\": \"\"}, \"bgcolor\": \"#E5ECF6\", \"caxis\": {\"gridcolor\": \"white\", \"linecolor\": \"white\", \"ticks\": \"\"}}, \"title\": {\"x\": 0.05}, \"xaxis\": {\"automargin\": true, \"gridcolor\": \"white\", \"linecolor\": \"white\", \"ticks\": \"\", \"zerolinecolor\": \"white\", \"zerolinewidth\": 2}, \"yaxis\": {\"automargin\": true, \"gridcolor\": \"white\", \"linecolor\": \"white\", \"ticks\": \"\", \"zerolinecolor\": \"white\", \"zerolinewidth\": 2}}}, \"title\": {\"text\": \"Hierarchical (n=3) in 2D (n-components=6)\", \"x\": 0.5, \"xanchor\": \"center\", \"y\": 0.9, \"yanchor\": \"top\"}, \"xaxis\": {\"anchor\": \"y\", \"domain\": [0.0, 0.98], \"title\": {\"text\": \"Principal Component: 1\"}}, \"yaxis\": {\"anchor\": \"x\", \"domain\": [0.0, 1.0], \"title\": {\"text\": \"Principal Component: 3\"}}},\n",
       "                        {\"responsive\": true}\n",
       "                    ).then(function(){\n",
       "                            \n",
       "var gd = document.getElementById('42adcc6e-7e66-4f67-a8c6-39e0ee4c7113');\n",
       "var x = new MutationObserver(function (mutations, observer) {{\n",
       "        var display = window.getComputedStyle(gd).display;\n",
       "        if (!display || display === 'none') {{\n",
       "            console.log([gd, 'removed!']);\n",
       "            Plotly.purge(gd);\n",
       "            observer.disconnect();\n",
       "        }}\n",
       "}});\n",
       "\n",
       "// Listen for the removal of the full notebook cells\n",
       "var notebookContainer = gd.closest('#notebook-container');\n",
       "if (notebookContainer) {{\n",
       "    x.observe(notebookContainer, {childList: true});\n",
       "}}\n",
       "\n",
       "// Listen for the clearing of the current output cell\n",
       "var outputEl = gd.closest('.output');\n",
       "if (outputEl) {{\n",
       "    x.observe(outputEl, {childList: true});\n",
       "}}\n",
       "\n",
       "                        })\n",
       "                };\n",
       "                });\n",
       "            </script>\n",
       "        </div>"
      ]
     },
     "metadata": {},
     "output_type": "display_data"
    }
   ],
   "source": [
    "two_d('Hierarchical')"
   ]
  },
  {
   "cell_type": "code",
   "execution_count": null,
   "metadata": {
    "ExecuteTime": {
     "end_time": "2020-04-10T21:33:47.101309Z",
     "start_time": "2020-04-10T21:33:47.095370Z"
    }
   },
   "outputs": [],
   "source": [
    "viz_df['Mean Shift'].unique()"
   ]
  },
  {
   "cell_type": "code",
   "execution_count": null,
   "metadata": {
    "ExecuteTime": {
     "end_time": "2020-04-11T23:21:47.123661Z",
     "start_time": "2020-04-11T23:21:47.107991Z"
    }
   },
   "outputs": [],
   "source": [
    "def three_d(mod, viz_df=viz_df, components=['pc1', 'pc4', 'pc5']):\n",
    "    fig = px.scatter_3d(viz_df, x=components[0], y=components[1], z=components[2],\n",
    "                        color=mod, symbol='source', opacity=0.8,\n",
    "                        hover_name='headline', hover_data=[mod])\n",
    "    fig.update_layout(showlegend=True)\n",
    "    fig.show()"
   ]
  },
  {
   "cell_type": "code",
   "execution_count": null,
   "metadata": {
    "ExecuteTime": {
     "end_time": "2020-04-11T23:21:49.740472Z",
     "start_time": "2020-04-11T23:21:48.950109Z"
    }
   },
   "outputs": [],
   "source": [
    "three_d('K-Means')#, components=['gov', 'poli', 'protest'])"
   ]
  },
  {
   "cell_type": "code",
   "execution_count": null,
   "metadata": {
    "ExecuteTime": {
     "end_time": "2020-04-11T15:42:10.467039Z",
     "start_time": "2020-04-11T15:42:10.460545Z"
    }
   },
   "outputs": [],
   "source": [
    "cond1 = (viz_df['source'] == 'ABC (Australia)')\n",
    "cond2 = (viz_df['source'] == 'CCTV')\n",
    "cond3 = (viz_df['source'] == 'CNN')\n",
    "cond4 = (viz_df['source'] == 'SCMP')\n",
    "cond5 = (viz_df['source'] == 'Reuters')"
   ]
  },
  {
   "cell_type": "code",
   "execution_count": null,
   "metadata": {
    "ExecuteTime": {
     "end_time": "2020-04-11T16:05:49.288731Z",
     "start_time": "2020-04-11T16:05:48.906885Z"
    }
   },
   "outputs": [],
   "source": [
    "px.density_contour(viz_df.loc[cond2|cond4], x='econ', y='gov', color='source')"
   ]
  },
  {
   "cell_type": "code",
   "execution_count": null,
   "metadata": {
    "ExecuteTime": {
     "end_time": "2020-04-11T09:43:05.487310Z",
     "start_time": "2020-04-11T09:43:05.451903Z"
    }
   },
   "outputs": [],
   "source": [
    "\n",
    "aggs = [\"count\",\"sum\",\"avg\",\"median\",\"mode\",\"rms\",\"stddev\",\"min\",\"max\",\"first\",\"last\"]\n",
    "\n",
    "agg = []\n",
    "agg_func = []\n",
    "for i in range(0, len(aggs)):\n",
    "    agg = dict(\n",
    "        args=['transforms[0].aggregations[0].func', aggs[i]],\n",
    "        label=aggs[i],\n",
    "        method='restyle'\n",
    "    )\n",
    "    agg_func.append(agg)\n",
    "\n",
    "\n",
    "data = [dict(\n",
    "  type = 'scatter',\n",
    "  x = viz_df['source'],\n",
    "  y = viz_df['gov'],\n",
    "  mode = 'markers',\n",
    "  transforms = [dict(\n",
    "    type = 'aggregate',\n",
    "    groups = viz_df['source'],\n",
    "    aggregations = [dict(\n",
    "        target = 'y', func = 'sum', enabled = True)\n",
    "    ]\n",
    "  )]\n",
    ")]\n",
    "\n",
    "layout = dict(\n",
    "  title = '<b>Plotly Aggregations</b><br>use dropdown to change aggregation',\n",
    "  xaxis = dict(title = 'Subject'),\n",
    "  yaxis = dict(title = 'Score', range = [0,7]),\n",
    "  updatemenus = [dict(\n",
    "        x = 0.85,\n",
    "        y = 1.15,\n",
    "        xref = 'paper',\n",
    "        yref = 'paper',\n",
    "        yanchor = 'top',\n",
    "        active = 1,\n",
    "        showactive = False,\n",
    "        buttons = agg_func\n",
    "  )]\n",
    ")\n",
    "\n",
    "fig_dict = dict(data=data, layout=layout)\n",
    "\n",
    "pio.show(fig_dict, validate=False)"
   ]
  },
  {
   "cell_type": "code",
   "execution_count": null,
   "metadata": {},
   "outputs": [],
   "source": []
  },
  {
   "cell_type": "code",
   "execution_count": null,
   "metadata": {},
   "outputs": [],
   "source": []
  },
  {
   "cell_type": "code",
   "execution_count": null,
   "metadata": {},
   "outputs": [],
   "source": []
  },
  {
   "cell_type": "code",
   "execution_count": null,
   "metadata": {
    "ExecuteTime": {
     "end_time": "2020-04-10T02:24:23.191931Z",
     "start_time": "2020-04-10T02:24:23.183531Z"
    }
   },
   "outputs": [],
   "source": [
    "# Convert source category to int: 0 - SCMP, 1 - ABC (Australia), 2 - Reuters, 3 - CCTV, 4 - CNN\n",
    "# cond = [df['source'] == 'SCMP',\n",
    "#         df['source'] == 'ABC (Australia)',\n",
    "#         df['source'] == 'Reuters',\n",
    "#         df['source'] == 'CCTV',\n",
    "#         df['source'] == 'CNN']\n",
    "# choice = [0, 1, 2, 3, 4]\n",
    "# df['source'] = np.select(cond, choice)"
   ]
  },
  {
   "cell_type": "code",
   "execution_count": null,
   "metadata": {
    "ExecuteTime": {
     "end_time": "2020-04-10T02:24:23.602297Z",
     "start_time": "2020-04-10T02:24:23.599669Z"
    }
   },
   "outputs": [],
   "source": [
    "# df['source'] = df['source'].astype('category')"
   ]
  },
  {
   "cell_type": "code",
   "execution_count": null,
   "metadata": {
    "ExecuteTime": {
     "end_time": "2020-04-10T02:24:37.054567Z",
     "start_time": "2020-04-10T02:24:37.048490Z"
    }
   },
   "outputs": [],
   "source": [
    "# X = df.drop(columns=['source'])\n",
    "# y = df['source']"
   ]
  },
  {
   "cell_type": "code",
   "execution_count": null,
   "metadata": {
    "ExecuteTime": {
     "end_time": "2020-04-10T02:24:38.117214Z",
     "start_time": "2020-04-10T02:24:38.110684Z"
    }
   },
   "outputs": [],
   "source": [
    "# X_train, X_test, y_train, y_test = train_test_split(X, y, random_state=0, test_size=0.2)"
   ]
  },
  {
   "cell_type": "code",
   "execution_count": null,
   "metadata": {
    "ExecuteTime": {
     "end_time": "2020-04-10T02:24:38.478729Z",
     "start_time": "2020-04-10T02:24:38.466581Z"
    }
   },
   "outputs": [],
   "source": [
    "# scaler = RobustScaler()\n",
    "# X_train = scaler.fit_transform(X_train)"
   ]
  },
  {
   "cell_type": "code",
   "execution_count": null,
   "metadata": {
    "ExecuteTime": {
     "end_time": "2020-04-10T14:17:14.559180Z",
     "start_time": "2020-04-10T14:17:14.543843Z"
    }
   },
   "outputs": [],
   "source": [
    "# pca_1 = PCA(n_components=3)\n",
    "# pca_2 = PCA(n_components=4)\n",
    "# pca_3 = PCA(n_components=5)\n",
    "\n",
    "# principalComponents = pca_1.fit_transform(X_model)\n",
    "# principalComponents = pca_2.fit_transform(X_model)\n",
    "# principalComponents = pca_3.fit_transform(X_model)\n",
    "\n",
    "# print(np.sum(pca_1.explained_variance_ratio_))\n",
    "# print(np.sum(pca_2.explained_variance_ratio_))\n",
    "# print(np.sum(pca_3.explained_variance_ratio_))\n"
   ]
  },
  {
   "cell_type": "code",
   "execution_count": null,
   "metadata": {
    "ExecuteTime": {
     "end_time": "2020-04-10T02:24:40.288900Z",
     "start_time": "2020-04-10T02:24:40.280127Z"
    }
   },
   "outputs": [],
   "source": [
    "pca = PCA(n_components=6)\n",
    "comp = pca.fit_transform(X_train)"
   ]
  },
  {
   "cell_type": "code",
   "execution_count": null,
   "metadata": {
    "ExecuteTime": {
     "end_time": "2020-04-10T02:24:47.534977Z",
     "start_time": "2020-04-10T02:24:47.530817Z"
    }
   },
   "outputs": [],
   "source": [
    "X_array = np.concatenate((comp, np.array(y_train).reshape(1072, 1)), axis=1)"
   ]
  },
  {
   "cell_type": "code",
   "execution_count": null,
   "metadata": {
    "ExecuteTime": {
     "end_time": "2020-04-10T02:24:56.218362Z",
     "start_time": "2020-04-10T02:24:56.214224Z"
    }
   },
   "outputs": [],
   "source": [
    "comp_df = pd.DataFrame(data=X_array, columns=['pc1', 'pc2', 'pc3', 'pc4', 'pc5', 'pc6', 'source'])"
   ]
  },
  {
   "cell_type": "code",
   "execution_count": null,
   "metadata": {
    "ExecuteTime": {
     "end_time": "2020-04-10T02:25:02.571681Z",
     "start_time": "2020-04-10T02:25:02.558033Z"
    }
   },
   "outputs": [],
   "source": [
    "comp_df['source'] = comp_df['source'].astype('category')"
   ]
  },
  {
   "cell_type": "code",
   "execution_count": null,
   "metadata": {
    "ExecuteTime": {
     "end_time": "2020-04-10T02:25:14.721068Z",
     "start_time": "2020-04-10T02:25:14.716292Z"
    }
   },
   "outputs": [],
   "source": [
    "X1 = comp_df.drop(columns=['source'])\n",
    "y1 = comp_df['source']"
   ]
  },
  {
   "cell_type": "code",
   "execution_count": null,
   "metadata": {},
   "outputs": [],
   "source": [
    "n = 4\n",
    "hc = AgglomerativeClustering(n_clusters=n, affinity='euclidean', linkage='ward')\n",
    "kc = KMeans(n_clusters=n)"
   ]
  },
  {
   "cell_type": "code",
   "execution_count": null,
   "metadata": {
    "ExecuteTime": {
     "end_time": "2020-04-10T02:23:16.924594Z",
     "start_time": "2020-04-10T02:23:16.921543Z"
    }
   },
   "outputs": [],
   "source": [
    "# X_train, X_test, y_train, y_test = train_test_split(X, y, test_size=0.2, random_state=0)"
   ]
  },
  {
   "cell_type": "code",
   "execution_count": null,
   "metadata": {
    "ExecuteTime": {
     "end_time": "2020-04-10T02:23:17.147902Z",
     "start_time": "2020-04-10T02:23:17.144997Z"
    }
   },
   "outputs": [],
   "source": [
    "# scaler = MinMaxScaler()\n",
    "# X_train = scaler.fit_transform(X_train)\n",
    "# X_test = scaler.transform(X_test)"
   ]
  },
  {
   "cell_type": "code",
   "execution_count": null,
   "metadata": {
    "ExecuteTime": {
     "end_time": "2020-04-10T02:23:17.332129Z",
     "start_time": "2020-04-10T02:23:17.329343Z"
    }
   },
   "outputs": [],
   "source": [
    "# pca = PCA(n_components=3)\n",
    "# comp_train = pca.fit_transform(X_train)\n",
    "# comp_test = pca.transform(X_test)"
   ]
  },
  {
   "cell_type": "code",
   "execution_count": null,
   "metadata": {
    "ExecuteTime": {
     "end_time": "2020-04-10T02:23:17.580040Z",
     "start_time": "2020-04-10T02:23:17.577207Z"
    }
   },
   "outputs": [],
   "source": [
    "# X = df.iloc[:, 1:5].values\n",
    "# y = df['source']"
   ]
  },
  {
   "cell_type": "code",
   "execution_count": null,
   "metadata": {
    "ExecuteTime": {
     "end_time": "2020-04-10T02:23:17.909407Z",
     "start_time": "2020-04-10T02:23:17.906859Z"
    }
   },
   "outputs": [],
   "source": [
    "# comp_train_df = pd.DataFrame(data = comp_train, columns = ['pc1', 'pc2', 'pc3'])\n",
    "# comp_test_df = pd.DataFrame(data = comp_test, columns = ['pc1', 'pc2', 'pc3'])"
   ]
  },
  {
   "cell_type": "code",
   "execution_count": null,
   "metadata": {
    "ExecuteTime": {
     "end_time": "2020-04-10T02:23:18.310872Z",
     "start_time": "2020-04-10T02:23:18.308112Z"
    }
   },
   "outputs": [],
   "source": [
    "# X1 = comp_train_df.values"
   ]
  },
  {
   "cell_type": "code",
   "execution_count": null,
   "metadata": {
    "ExecuteTime": {
     "end_time": "2020-04-10T02:25:19.142405Z",
     "start_time": "2020-04-10T02:25:17.534803Z"
    },
    "scrolled": false
   },
   "outputs": [],
   "source": [
    "# estimators = [('k_means_top_senti_2', KMeans(n_clusters=2)),\n",
    "#               ('k_means_top_senti_3', KMeans(n_clusters=3)),\n",
    "#               ('k_means_top_senti_5', KMeans(n_clusters=5))]\n",
    "\n",
    "# fignum = 1\n",
    "# titles = ['2 clusters', '3 clusters', '5 clusters']\n",
    "# for name, est in estimators:\n",
    "#     fig = plt.figure(fignum, figsize=(15, 10))\n",
    "#     ax = Axes3D(fig, rect=[0, 0, .95, 1], elev=48, azim=60)\n",
    "#     est.fit(X_array)\n",
    "#     labels = est.labels_\n",
    "\n",
    "#     ax.scatter(X_array[:, 0], X_array[:, 3], X_array[:, 4],\n",
    "#                c=labels.astype(np.float), edgecolor='k')\n",
    "\n",
    "#     ax.w_xaxis.set_ticklabels([])\n",
    "#     ax.w_yaxis.set_ticklabels([])\n",
    "#     ax.w_zaxis.set_ticklabels([])\n",
    "#     ax.set_xlabel('PC1')\n",
    "#     ax.set_ylabel('PC2')\n",
    "#     ax.set_zlabel('PC3')\n",
    "#     ax.set_title(titles[fignum - 1])\n",
    "#     ax.dist = 12\n",
    "#     fignum = fignum + 1\n",
    "\n",
    "# # # Plot the ground truth\n",
    "# fig = plt.figure(figsize=(15, 10))\n",
    "# ax = Axes3D(fig, rect=[0, 0, .95, 1], elev=50, azim=60)\n",
    "\n",
    "# for name, label in [('SCMP', 0),\n",
    "#                     ('ABC', 1),\n",
    "#                     ('Reuters', 2),\n",
    "#                     ('CCTV', 3),\n",
    "#                     ('CNN', 4)]:\n",
    "#     ax.text3D(X_array[y1 == label, 0].mean(),\n",
    "#               X_array[y1 == label, 3].mean(),\n",
    "#               X_array[y1 == label, 4].mean(), name,\n",
    "#               horizontalalignment='center',\n",
    "#               bbox=dict(alpha=1, edgecolor='w', facecolor='w'))\n",
    "# # Reorder the labels to have colors matching the cluster results\n",
    "# # y = np.choose(y, [1, 3, 4])\n",
    "# ax.scatter(X_array[:, 0], X_array[:, 3], X_array[:, 4], c=y1, edgecolor='k', alpha=0)\n",
    "\n",
    "# ax.w_xaxis.set_ticklabels([])\n",
    "# ax.w_yaxis.set_ticklabels([])\n",
    "# ax.w_zaxis.set_ticklabels([])\n",
    "# ax.set_xlabel('PC1')\n",
    "# ax.set_ylabel('PC4')\n",
    "# ax.set_zlabel('PC5')\n",
    "# ax.set_title('Ground Truth')\n",
    "# ax.dist = 12\n",
    "\n",
    "# fig.show()"
   ]
  },
  {
   "cell_type": "code",
   "execution_count": null,
   "metadata": {
    "ExecuteTime": {
     "end_time": "2020-04-09T16:30:11.512286Z",
     "start_time": "2020-04-09T16:30:11.505780Z"
    }
   },
   "outputs": [],
   "source": [
    "cond1 = (comp_df['source'] == 'CCTV')\n",
    "cond2 = (comp_df['source'] == 'CNN')\n",
    "cond3 = (comp_df['source'] == 'ABC (Australia)')\n",
    "cond4 = (comp_df['source'] == 'SCMP')\n",
    "cond5 = (comp_df['source'] == 'Reuters')"
   ]
  },
  {
   "cell_type": "code",
   "execution_count": null,
   "metadata": {
    "ExecuteTime": {
     "end_time": "2020-04-10T02:15:41.874549Z",
     "start_time": "2020-04-10T02:15:41.870445Z"
    }
   },
   "outputs": [],
   "source": [
    "n = 4\n",
    "hc = AgglomerativeClustering(n_clusters=n, affinity='euclidean', linkage='ward')\n",
    "kc = KMeans(n_clusters=n)"
   ]
  },
  {
   "cell_type": "code",
   "execution_count": null,
   "metadata": {
    "ExecuteTime": {
     "end_time": "2020-04-10T02:15:42.402084Z",
     "start_time": "2020-04-10T02:15:42.301978Z"
    }
   },
   "outputs": [],
   "source": [
    "y_hc = hc.fit(X1)\n",
    "y_kc = kc.fit(X1)"
   ]
  },
  {
   "cell_type": "code",
   "execution_count": null,
   "metadata": {
    "ExecuteTime": {
     "end_time": "2020-04-10T02:15:42.907449Z",
     "start_time": "2020-04-10T02:15:42.902307Z"
    }
   },
   "outputs": [],
   "source": [
    "comp_df['hc_labels'] = y_hc.labels_\n",
    "comp_df['kc_labels'] = y_kc.labels_"
   ]
  },
  {
   "cell_type": "code",
   "execution_count": null,
   "metadata": {
    "ExecuteTime": {
     "end_time": "2020-04-10T02:15:45.455776Z",
     "start_time": "2020-04-10T02:15:45.382484Z"
    }
   },
   "outputs": [],
   "source": [
    "print('Hierarchical Clustering:', sklearn.metrics.silhouette_score(X1, comp_df['hc_labels']))\n",
    "print('K-Means Clustering:', sklearn.metrics.silhouette_score(X1, comp_df['kc_labels']))"
   ]
  },
  {
   "cell_type": "code",
   "execution_count": null,
   "metadata": {
    "ExecuteTime": {
     "end_time": "2020-04-10T02:16:05.905621Z",
     "start_time": "2020-04-10T02:16:05.901860Z"
    }
   },
   "outputs": [],
   "source": [
    "n = 2\n",
    "hc2 = AgglomerativeClustering(n_clusters=n, affinity='euclidean', linkage='ward')\n",
    "kc2 = KMeans(n_clusters=n)"
   ]
  },
  {
   "cell_type": "code",
   "execution_count": null,
   "metadata": {
    "ExecuteTime": {
     "end_time": "2020-04-10T02:16:06.509103Z",
     "start_time": "2020-04-10T02:16:06.413564Z"
    }
   },
   "outputs": [],
   "source": [
    "plot2_df = comp_df\n",
    "y_hc2 = hc2.fit(X1)\n",
    "y_kc2 = kc2.fit(X1)\n",
    "plot2_df['hc_labels'] = y_hc2.labels_\n",
    "plot2_df['kc_labels'] = y_kc2.labels_"
   ]
  },
  {
   "cell_type": "code",
   "execution_count": null,
   "metadata": {
    "ExecuteTime": {
     "end_time": "2020-04-10T02:16:07.020902Z",
     "start_time": "2020-04-10T02:16:06.948618Z"
    }
   },
   "outputs": [],
   "source": [
    "print('Hierarchical Clustering:', sklearn.metrics.silhouette_score(X1, plot2_df['hc_labels']))\n",
    "print('K-Means Clustering:', sklearn.metrics.silhouette_score(X1, plot2_df['kc_labels']))"
   ]
  },
  {
   "cell_type": "code",
   "execution_count": null,
   "metadata": {
    "ExecuteTime": {
     "end_time": "2020-04-10T02:16:07.726258Z",
     "start_time": "2020-04-10T02:16:07.717508Z"
    }
   },
   "outputs": [],
   "source": [
    "plot_df['kc_labels'] = plot_df['kc_labels'].astype('str')\n",
    "plot2_df['kc_labels'] = plot2_df['kc_labels'].astype('str')\n",
    "plot_df['hc_labels'] = plot_df['hc_labels'].astype('str')\n",
    "plot2_df['hc_labels'] = plot2_df['hc_labels'].astype('str')"
   ]
  },
  {
   "cell_type": "code",
   "execution_count": null,
   "metadata": {
    "ExecuteTime": {
     "end_time": "2020-04-10T02:16:16.881688Z",
     "start_time": "2020-04-10T02:16:16.416542Z"
    }
   },
   "outputs": [],
   "source": [
    "color_map = {'0': 'lightslategray', '1': 'crimson'}\n",
    "fig = px.scatter(plot2_df, x='pc1', y='pc3',\n",
    "                 color='hc_labels',\n",
    "                 color_discrete_map=color_map, opacity=0.8)\n",
    "fig.update_layout(legend_orientation=\"h\")\n",
    "fig.update_layout(\n",
    "    shapes=[dict(type=\"circle\",\n",
    "                 xref=\"x\",\n",
    "                 yref=\"y\",\n",
    "                 x0=min(plot2_df.loc[plot2_df['hc_labels'] == '0' ]['pc1']),\n",
    "                 y0=min(plot2_df.loc[plot2_df['hc_labels'] == '0' ]['pc3']),\n",
    "                 x1=max(plot2_df.loc[plot2_df['hc_labels'] == '0' ]['pc1']),\n",
    "                 y1=max(plot2_df.loc[plot2_df['hc_labels'] == '0' ]['pc3']),\n",
    "                 opacity=0.2,\n",
    "                 fillcolor=\"lightslategray\",\n",
    "                 line_color=\"lightslategray\"),\n",
    "            dict(type=\"circle\",\n",
    "                 xref=\"x\",\n",
    "                 yref=\"y\",\n",
    "                 x0=min(plot2_df.loc[plot2_df['hc_labels'] == '1' ]['pc1']),\n",
    "                 y0=min(plot2_df.loc[plot2_df['hc_labels'] == '1' ]['pc3']),\n",
    "                 x1=max(plot2_df.loc[plot2_df['hc_labels'] == '1' ]['pc1']),\n",
    "                 y1=max(plot2_df.loc[plot2_df['hc_labels'] == '1' ]['pc3']),\n",
    "                 opacity=0.2,\n",
    "                 fillcolor=\"crimson\",\n",
    "                 line_color=\"crimson\")])\n",
    "\n",
    "fig.update_layout(\n",
    "    title={'text': 'Hierarchical Clusters (n=2) in 2D (n-components=6)',\n",
    "           'y':0.9,\n",
    "           'x':0.5,\n",
    "           'xanchor': 'center',\n",
    "           'yanchor': 'top'},\n",
    "    font=dict(family='Arial',\n",
    "              size=18,\n",
    "              color='#7f7f7f'))\n",
    "fig.update_layout(xaxis_title=\"Principal Component 1\",\n",
    "                  yaxis_title=\"Principal Component 3\",\n",
    "                  font=dict(family='Arial',\n",
    "                            size=12,\n",
    "                            color='#7f7f7f'))\n",
    "\n",
    "fig.show()"
   ]
  },
  {
   "cell_type": "code",
   "execution_count": null,
   "metadata": {
    "ExecuteTime": {
     "end_time": "2020-04-10T02:00:15.694094Z",
     "start_time": "2020-04-10T02:00:15.684522Z"
    }
   },
   "outputs": [],
   "source": [
    "plot2_df.groupby('source')['hc_labels'].value_counts()"
   ]
  },
  {
   "cell_type": "code",
   "execution_count": null,
   "metadata": {
    "ExecuteTime": {
     "end_time": "2020-04-10T02:16:50.700225Z",
     "start_time": "2020-04-10T02:16:50.509341Z"
    }
   },
   "outputs": [],
   "source": [
    "outlets = ['CCTV', 'Everyone else']\n",
    "colors = ['indianred'] * 2\n",
    "colors[0] = 'crimson'\n",
    "fig = go.Figure([go.Bar(x=outlets,\n",
    "                        y=[45, 6],\n",
    "                        marker_color=colors)])\n",
    "fig.update_layout(\n",
    "    title={'text': 'Cluster 1 (Agglomerative Clustering, n=2)',\n",
    "           'y':0.9,\n",
    "           'x':0.5,\n",
    "           'xanchor': 'center',\n",
    "           'yanchor': 'top'},\n",
    "    font=dict(family='Arial',\n",
    "              size=18,\n",
    "              color='#7f7f7f'))\n",
    "fig.update_layout(xaxis_title=\"Sources\",\n",
    "                  yaxis_title=\"Total Counts\",\n",
    "                  font=dict(family='Arial',\n",
    "                            size=12,\n",
    "                            color='#7f7f7f'))\n",
    "\n",
    "fig.show()"
   ]
  },
  {
   "cell_type": "code",
   "execution_count": null,
   "metadata": {
    "ExecuteTime": {
     "end_time": "2020-04-09T21:20:54.619037Z",
     "start_time": "2020-04-09T21:20:54.051739Z"
    }
   },
   "outputs": [],
   "source": [
    "# color_map = {'CCTV': 'red', 'SCMP': 'darkslategrey', 'ABC (Australia)': 'khaki'}\n",
    "fig = px.scatter_3d(plot_df, x='pc1', y='pc3', z='pc4', color='hc_labels', symbol='source', opacity=0.8)\n",
    "fig.update_layout(showlegend=False)\n",
    "fig.show()"
   ]
  },
  {
   "cell_type": "code",
   "execution_count": null,
   "metadata": {
    "ExecuteTime": {
     "end_time": "2020-04-09T17:11:29.492526Z",
     "start_time": "2020-04-09T17:11:20.705011Z"
    }
   },
   "outputs": [],
   "source": [
    "tsne_comp = TSNE(n_components=2, perplexity=100, early_exaggeration=100).fit_transform(X_train)"
   ]
  },
  {
   "cell_type": "code",
   "execution_count": null,
   "metadata": {
    "ExecuteTime": {
     "end_time": "2020-04-09T17:11:29.511720Z",
     "start_time": "2020-04-09T17:11:29.495750Z"
    }
   },
   "outputs": [],
   "source": [
    "tsne_array = np.concatenate((tsne_comp, np.array(y_train).reshape(1072, 2)), axis=1)"
   ]
  },
  {
   "cell_type": "code",
   "execution_count": null,
   "metadata": {
    "ExecuteTime": {
     "end_time": "2020-04-09T17:11:29.523378Z",
     "start_time": "2020-04-09T17:11:29.515705Z"
    }
   },
   "outputs": [],
   "source": [
    "tsne_df = pd.DataFrame(data=tsne_array, columns=['tsne1', 'tsne2', 'source', 'date'])"
   ]
  },
  {
   "cell_type": "code",
   "execution_count": null,
   "metadata": {
    "ExecuteTime": {
     "end_time": "2020-04-09T17:11:29.533723Z",
     "start_time": "2020-04-09T17:11:29.526959Z"
    }
   },
   "outputs": [],
   "source": [
    "tsne_df['hc_labels'] = y_hc.labels_\n",
    "tsne_df['kc_labels'] = y_kc.labels_"
   ]
  },
  {
   "cell_type": "code",
   "execution_count": null,
   "metadata": {
    "ExecuteTime": {
     "end_time": "2020-04-09T17:18:34.197536Z",
     "start_time": "2020-04-09T17:18:33.604034Z"
    }
   },
   "outputs": [],
   "source": [
    "fig = px.scatter(tsne_df, x='tsne1', y='tsne2',\n",
    "                 color='kc_labels', opacity=0.8,\n",
    "                 title='2-D TSNE Distribution of Articles')\n",
    "fig.show()"
   ]
  },
  {
   "cell_type": "code",
   "execution_count": null,
   "metadata": {
    "ExecuteTime": {
     "end_time": "2020-04-09T23:37:47.658861Z",
     "start_time": "2020-04-09T23:37:47.276793Z"
    },
    "scrolled": true
   },
   "outputs": [],
   "source": [
    "fig, ax = plt.subplots(figsize=(15,7))\n",
    "comp_df.groupby('source')['kc_labels'].value_counts(normalize=True, sort=False).plot(ax=ax, kind='bar')\n",
    "plt.show()"
   ]
  },
  {
   "cell_type": "code",
   "execution_count": null,
   "metadata": {
    "ExecuteTime": {
     "end_time": "2020-04-10T01:11:45.915000Z",
     "start_time": "2020-04-10T01:11:45.874490Z"
    }
   },
   "outputs": [],
   "source": [
    "abc = np.array(round(comp_df.groupby('source')['kc_labels'].value_counts(normalize=True, sort=False)['ABC (Australia)']*100))\n",
    "cctv = np.array(round(comp_df.groupby('source')['kc_labels'].value_counts(normalize=True, sort=False)['CCTV']*100))\n",
    "cnn = np.array(round(comp_df.groupby('source')['kc_labels'].value_counts(normalize=True, sort=False)['CNN']*100))\n",
    "reuters = np.array(round(comp_df.groupby('source')['kc_labels'].value_counts(normalize=True, sort=False)['Reuters']*100))\n",
    "scmp = np.array(round(comp_df.groupby('source')['kc_labels'].value_counts(normalize=True, sort=False)['SCMP']*100))\n",
    "\n",
    "# label_source.loc['ABC (Australia)'] = abc\n",
    "# label_source.loc['CCTV'] = cctv\n",
    "# label_source.loc['CNN'] = cnn\n",
    "# label_source.loc['Reuters'] = reuters\n",
    "# label_source.loc['SCMP'] = scmp"
   ]
  },
  {
   "cell_type": "code",
   "execution_count": null,
   "metadata": {
    "ExecuteTime": {
     "end_time": "2020-04-10T01:11:47.132980Z",
     "start_time": "2020-04-10T01:11:47.128920Z"
    }
   },
   "outputs": [],
   "source": [
    "sources = ['ABC (Australia)', 'CCTV', 'CNN', 'Reuters', 'SCMP']\n",
    "labels = ['Cluster 0', 'Cluster 1', 'Cluster 2', 'Cluster 3']"
   ]
  },
  {
   "cell_type": "code",
   "execution_count": null,
   "metadata": {
    "ExecuteTime": {
     "end_time": "2020-04-10T01:11:47.550952Z",
     "start_time": "2020-04-10T01:11:47.547561Z"
    }
   },
   "outputs": [],
   "source": [
    "ls = np.concatenate((abc, cctv, cnn, reuters, scmp), axis=0).reshape(5,4)"
   ]
  },
  {
   "cell_type": "code",
   "execution_count": null,
   "metadata": {
    "ExecuteTime": {
     "end_time": "2020-04-10T01:11:48.351501Z",
     "start_time": "2020-04-10T01:11:48.346382Z"
    }
   },
   "outputs": [],
   "source": [
    "ls"
   ]
  },
  {
   "cell_type": "code",
   "execution_count": null,
   "metadata": {
    "ExecuteTime": {
     "end_time": "2020-04-10T01:21:34.547016Z",
     "start_time": "2020-04-10T01:21:34.111269Z"
    }
   },
   "outputs": [],
   "source": [
    "x_data = ls\n",
    "y_data = sources\n",
    "top_labels = labels\n",
    "colors = ['rgba(38, 24, 74, 0.8)', 'rgba(71, 58, 131, 0.8)',\n",
    "          'rgba(122, 120, 168, 0.8)', 'rgba(164, 163, 204, 0.85)']\n",
    "\n",
    "fig = go.Figure()\n",
    "\n",
    "for i in range(0, len(x_data[0])):\n",
    "    for xd, yd in zip(x_data, y_data):\n",
    "        fig.add_trace(go.Bar(\n",
    "            x=[xd[i]], y=[yd],\n",
    "            orientation='h',\n",
    "            marker=dict(\n",
    "                color=colors[i],\n",
    "                line=dict(color='rgb(248, 248, 249)', width=1)\n",
    "            )\n",
    "        ))\n",
    "\n",
    "fig.update_layout(\n",
    "    xaxis=dict(\n",
    "        showgrid=False,\n",
    "        showline=False,\n",
    "        showticklabels=False,\n",
    "        zeroline=False,\n",
    "        domain=[0.15, 1]\n",
    "    ),\n",
    "    yaxis=dict(\n",
    "        showgrid=False,\n",
    "        showline=False,\n",
    "        showticklabels=False,\n",
    "        zeroline=False,\n",
    "    ),\n",
    "    barmode='stack',\n",
    "    paper_bgcolor='rgb(248, 248, 255)',\n",
    "    plot_bgcolor='rgb(248, 248, 255)',\n",
    "    margin=dict(l=10, r=40, t=140, b=80),\n",
    "    showlegend=False,\n",
    ")\n",
    "\n",
    "annotations = []\n",
    "\n",
    "for yd, xd in zip(y_data, x_data):\n",
    "    # labeling the y-axis\n",
    "    annotations.append(dict(xref='paper', yref='y',\n",
    "                            x=0.14, y=yd,\n",
    "                            xanchor='right',\n",
    "                            text=str(yd),\n",
    "                            font=dict(family='Arial', size=10,\n",
    "                                      color='rgb(67, 67, 67)'),\n",
    "                            showarrow=False, align='right'))\n",
    "    # labeling the first percentage of each bar (x_axis)\n",
    "    annotations.append(dict(xref='x', yref='y',\n",
    "                            x=xd[0] / 2, y=yd,\n",
    "                            text=str(xd[0]) + '%',\n",
    "                            font=dict(family='Arial', size=10,\n",
    "                                      color='rgb(248, 248, 255)'),\n",
    "                            showarrow=False))\n",
    "    # labeling the first Likert scale (on the top)\n",
    "    if yd == y_data[-1]:\n",
    "        annotations.append(dict(xref='x', yref='paper',\n",
    "                                x=xd[0] / 2, y=1.1,\n",
    "                                text=top_labels[0],\n",
    "                                font=dict(family='Arial', size=10,\n",
    "                                          color='rgb(67, 67, 67)'),\n",
    "                                showarrow=False))\n",
    "    space = xd[0]\n",
    "    for i in range(1, len(xd)):\n",
    "            # labeling the rest of percentages for each bar (x_axis)\n",
    "            annotations.append(dict(xref='x', yref='y',\n",
    "                                    x=space + (xd[i]/2), y=yd,\n",
    "                                    text=str(xd[i]) + '%',\n",
    "                                    font=dict(family='Arial', size=10,\n",
    "                                              color='rgb(248, 248, 255)'),\n",
    "                                    showarrow=False))\n",
    "            # labeling the Likert scale\n",
    "            if yd == y_data[-1]:\n",
    "                annotations.append(dict(xref='x', yref='paper',\n",
    "                                        x=space + (xd[i]/2), y=1.1,\n",
    "                                        text=top_labels[i],\n",
    "                                        font=dict(family='Arial', size=10,\n",
    "                                                  color='rgb(67, 67, 67)'),\n",
    "                                        showarrow=False))\n",
    "            space += xd[i]\n",
    "\n",
    "fig.update_layout(annotations=annotations)\n",
    "fig.update_layout(\n",
    "    title={'text': 'Cluster Groups by Source',\n",
    "           'y':0.9,\n",
    "           'x':0.5,\n",
    "           'xanchor': 'center',\n",
    "           'yanchor': 'top'},\n",
    "           font=dict(\n",
    "               family='Arial',\n",
    "               size=18,\n",
    "               color='#7f7f7f'))\n",
    "fig.show()"
   ]
  },
  {
   "cell_type": "code",
   "execution_count": null,
   "metadata": {
    "ExecuteTime": {
     "end_time": "2020-04-10T00:49:31.334789Z",
     "start_time": "2020-04-10T00:49:30.780158Z"
    }
   },
   "outputs": [],
   "source": [
    "\n",
    "fig.update_layout(barmode='stack')\n",
    "fig.show()"
   ]
  },
  {
   "cell_type": "code",
   "execution_count": null,
   "metadata": {},
   "outputs": [],
   "source": []
  }
 ],
 "metadata": {
  "kernelspec": {
   "display_name": "Python 3",
   "language": "python",
   "name": "python3"
  },
  "language_info": {
   "codemirror_mode": {
    "name": "ipython",
    "version": 3
   },
   "file_extension": ".py",
   "mimetype": "text/x-python",
   "name": "python",
   "nbconvert_exporter": "python",
   "pygments_lexer": "ipython3",
   "version": "3.6.9"
  },
  "toc": {
   "base_numbering": 1,
   "nav_menu": {},
   "number_sections": true,
   "sideBar": true,
   "skip_h1_title": false,
   "title_cell": "Table of Contents",
   "title_sidebar": "Contents",
   "toc_cell": false,
   "toc_position": {},
   "toc_section_display": true,
   "toc_window_display": true
  }
 },
 "nbformat": 4,
 "nbformat_minor": 2
}
