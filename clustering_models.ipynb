{
 "cells": [
  {
   "cell_type": "markdown",
   "metadata": {},
   "source": [
    "# Clustering Models"
   ]
  },
  {
   "cell_type": "code",
   "execution_count": 55,
   "metadata": {
    "ExecuteTime": {
     "end_time": "2020-04-09T02:35:36.004422Z",
     "start_time": "2020-04-09T02:35:35.988158Z"
    }
   },
   "outputs": [],
   "source": [
    "import numpy as np\n",
    "import pandas as pd\n",
    "import sklearn\n",
    "import pickle\n",
    "import matplotlib.pyplot as plt\n",
    "import seaborn as sns\n",
    "import dtale\n",
    "import plotly.express as px\n",
    "import plotly.graph_objects as go\n",
    "from sklearn.preprocessing import MinMaxScaler, StandardScaler, RobustScaler\n",
    "from sklearn.decomposition import PCA\n",
    "from sklearn.cluster import DBSCAN, KMeans\n",
    "from sklearn.model_selection import train_test_split\n",
    "from mpl_toolkits.mplot3d import Axes3D\n"
   ]
  },
  {
   "cell_type": "code",
   "execution_count": 107,
   "metadata": {
    "ExecuteTime": {
     "end_time": "2020-04-09T03:03:35.111347Z",
     "start_time": "2020-04-09T03:03:35.097499Z"
    }
   },
   "outputs": [],
   "source": [
    "file = open('data.p', 'rb')\n",
    "df = pickle.load(file)\n",
    "file.close()"
   ]
  },
  {
   "cell_type": "code",
   "execution_count": 108,
   "metadata": {
    "ExecuteTime": {
     "end_time": "2020-04-09T03:03:35.463242Z",
     "start_time": "2020-04-09T03:03:35.439961Z"
    }
   },
   "outputs": [
    {
     "data": {
      "text/html": [
       "<div>\n",
       "<style scoped>\n",
       "    .dataframe tbody tr th:only-of-type {\n",
       "        vertical-align: middle;\n",
       "    }\n",
       "\n",
       "    .dataframe tbody tr th {\n",
       "        vertical-align: top;\n",
       "    }\n",
       "\n",
       "    .dataframe thead th {\n",
       "        text-align: right;\n",
       "    }\n",
       "</style>\n",
       "<table border=\"1\" class=\"dataframe\">\n",
       "  <thead>\n",
       "    <tr style=\"text-align: right;\">\n",
       "      <th></th>\n",
       "      <th>source</th>\n",
       "      <th>protest</th>\n",
       "      <th>econ</th>\n",
       "      <th>poli</th>\n",
       "      <th>gov</th>\n",
       "      <th>protest_mention</th>\n",
       "      <th>econ_mention</th>\n",
       "      <th>poli_mention</th>\n",
       "      <th>gov_mention</th>\n",
       "      <th>total_sentences</th>\n",
       "      <th>w_protest</th>\n",
       "      <th>w_econ</th>\n",
       "      <th>w_gov</th>\n",
       "      <th>w_poli</th>\n",
       "      <th>hl_sent</th>\n",
       "      <th>protest_ratio</th>\n",
       "      <th>econ_ratio</th>\n",
       "      <th>poli_ratio</th>\n",
       "      <th>gov_ratio</th>\n",
       "    </tr>\n",
       "  </thead>\n",
       "  <tbody>\n",
       "    <tr>\n",
       "      <td>0</td>\n",
       "      <td>SCMP</td>\n",
       "      <td>0.97</td>\n",
       "      <td>0.00</td>\n",
       "      <td>0.62</td>\n",
       "      <td>1.14</td>\n",
       "      <td>1</td>\n",
       "      <td>0</td>\n",
       "      <td>1</td>\n",
       "      <td>2</td>\n",
       "      <td>4</td>\n",
       "      <td>0.242500</td>\n",
       "      <td>0.000000</td>\n",
       "      <td>0.57</td>\n",
       "      <td>0.155000</td>\n",
       "      <td>0.2960</td>\n",
       "      <td>0.250000</td>\n",
       "      <td>0.000000</td>\n",
       "      <td>0.250000</td>\n",
       "      <td>0.500000</td>\n",
       "    </tr>\n",
       "    <tr>\n",
       "      <td>1</td>\n",
       "      <td>SCMP</td>\n",
       "      <td>1.78</td>\n",
       "      <td>0.53</td>\n",
       "      <td>0.77</td>\n",
       "      <td>0.00</td>\n",
       "      <td>4</td>\n",
       "      <td>1</td>\n",
       "      <td>1</td>\n",
       "      <td>0</td>\n",
       "      <td>6</td>\n",
       "      <td>1.186667</td>\n",
       "      <td>0.088333</td>\n",
       "      <td>0.00</td>\n",
       "      <td>0.128333</td>\n",
       "      <td>0.7351</td>\n",
       "      <td>0.666667</td>\n",
       "      <td>0.166667</td>\n",
       "      <td>0.166667</td>\n",
       "      <td>0.000000</td>\n",
       "    </tr>\n",
       "    <tr>\n",
       "      <td>2</td>\n",
       "      <td>SCMP</td>\n",
       "      <td>2.13</td>\n",
       "      <td>0.00</td>\n",
       "      <td>1.57</td>\n",
       "      <td>0.00</td>\n",
       "      <td>4</td>\n",
       "      <td>0</td>\n",
       "      <td>2</td>\n",
       "      <td>0</td>\n",
       "      <td>6</td>\n",
       "      <td>1.420000</td>\n",
       "      <td>0.000000</td>\n",
       "      <td>0.00</td>\n",
       "      <td>0.523333</td>\n",
       "      <td>0.6249</td>\n",
       "      <td>0.666667</td>\n",
       "      <td>0.000000</td>\n",
       "      <td>0.333333</td>\n",
       "      <td>0.000000</td>\n",
       "    </tr>\n",
       "    <tr>\n",
       "      <td>3</td>\n",
       "      <td>SCMP</td>\n",
       "      <td>0.28</td>\n",
       "      <td>1.13</td>\n",
       "      <td>0.00</td>\n",
       "      <td>0.00</td>\n",
       "      <td>1</td>\n",
       "      <td>4</td>\n",
       "      <td>0</td>\n",
       "      <td>0</td>\n",
       "      <td>5</td>\n",
       "      <td>0.056000</td>\n",
       "      <td>0.904000</td>\n",
       "      <td>0.00</td>\n",
       "      <td>0.000000</td>\n",
       "      <td>0.4588</td>\n",
       "      <td>0.200000</td>\n",
       "      <td>0.800000</td>\n",
       "      <td>0.000000</td>\n",
       "      <td>0.000000</td>\n",
       "    </tr>\n",
       "    <tr>\n",
       "      <td>4</td>\n",
       "      <td>SCMP</td>\n",
       "      <td>1.04</td>\n",
       "      <td>0.00</td>\n",
       "      <td>0.80</td>\n",
       "      <td>1.19</td>\n",
       "      <td>3</td>\n",
       "      <td>0</td>\n",
       "      <td>1</td>\n",
       "      <td>3</td>\n",
       "      <td>7</td>\n",
       "      <td>0.445714</td>\n",
       "      <td>0.000000</td>\n",
       "      <td>0.51</td>\n",
       "      <td>0.114286</td>\n",
       "      <td>0.8979</td>\n",
       "      <td>0.428571</td>\n",
       "      <td>0.000000</td>\n",
       "      <td>0.142857</td>\n",
       "      <td>0.428571</td>\n",
       "    </tr>\n",
       "  </tbody>\n",
       "</table>\n",
       "</div>"
      ],
      "text/plain": [
       "  source  protest  econ  poli   gov  protest_mention  econ_mention  \\\n",
       "0   SCMP     0.97  0.00  0.62  1.14                1             0   \n",
       "1   SCMP     1.78  0.53  0.77  0.00                4             1   \n",
       "2   SCMP     2.13  0.00  1.57  0.00                4             0   \n",
       "3   SCMP     0.28  1.13  0.00  0.00                1             4   \n",
       "4   SCMP     1.04  0.00  0.80  1.19                3             0   \n",
       "\n",
       "   poli_mention  gov_mention  total_sentences  w_protest    w_econ  w_gov  \\\n",
       "0             1            2                4   0.242500  0.000000   0.57   \n",
       "1             1            0                6   1.186667  0.088333   0.00   \n",
       "2             2            0                6   1.420000  0.000000   0.00   \n",
       "3             0            0                5   0.056000  0.904000   0.00   \n",
       "4             1            3                7   0.445714  0.000000   0.51   \n",
       "\n",
       "     w_poli  hl_sent  protest_ratio  econ_ratio  poli_ratio  gov_ratio  \n",
       "0  0.155000   0.2960       0.250000    0.000000    0.250000   0.500000  \n",
       "1  0.128333   0.7351       0.666667    0.166667    0.166667   0.000000  \n",
       "2  0.523333   0.6249       0.666667    0.000000    0.333333   0.000000  \n",
       "3  0.000000   0.4588       0.200000    0.800000    0.000000   0.000000  \n",
       "4  0.114286   0.8979       0.428571    0.000000    0.142857   0.428571  "
      ]
     },
     "execution_count": 108,
     "metadata": {},
     "output_type": "execute_result"
    }
   ],
   "source": [
    "df.head()"
   ]
  },
  {
   "cell_type": "code",
   "execution_count": 81,
   "metadata": {
    "ExecuteTime": {
     "end_time": "2020-04-09T02:59:13.092318Z",
     "start_time": "2020-04-09T02:59:13.083728Z"
    }
   },
   "outputs": [],
   "source": [
    "# Convert source category to int: 0 - SCMP, 1 - ABC (Australia), 2 - Reuters, 3 - CCTV, 4 - CNN\n",
    "# cond = [df['source'] == 'SCMP',\n",
    "#         df['source'] == 'ABC (Australia)',\n",
    "#         df['source'] == 'Reuters',\n",
    "#         df['source'] == 'CCTV',\n",
    "#         df['source'] == 'CNN']\n",
    "# choice = [0, 1, 2, 3, 4]\n",
    "# df['source'] = np.select(cond, choice)"
   ]
  },
  {
   "cell_type": "code",
   "execution_count": null,
   "metadata": {
    "ExecuteTime": {
     "end_time": "2020-04-08T19:08:08.065408Z",
     "start_time": "2020-04-08T19:08:08.061989Z"
    }
   },
   "outputs": [],
   "source": [
    "# df = df.loc[(df['source'] == 1)|(df['source'] == 3)|(df['source'] == 4)]"
   ]
  },
  {
   "cell_type": "code",
   "execution_count": null,
   "metadata": {
    "ExecuteTime": {
     "end_time": "2020-04-09T01:53:35.412148Z",
     "start_time": "2020-04-09T01:53:35.406743Z"
    }
   },
   "outputs": [],
   "source": [
    "# df['source'] = df['source'].astype('category')"
   ]
  },
  {
   "cell_type": "code",
   "execution_count": 109,
   "metadata": {
    "ExecuteTime": {
     "end_time": "2020-04-09T03:03:38.645987Z",
     "start_time": "2020-04-09T03:03:38.639980Z"
    }
   },
   "outputs": [],
   "source": [
    "X = df.drop(columns='source')\n",
    "y = df['source']"
   ]
  },
  {
   "cell_type": "code",
   "execution_count": 110,
   "metadata": {
    "ExecuteTime": {
     "end_time": "2020-04-09T03:03:38.919002Z",
     "start_time": "2020-04-09T03:03:38.912254Z"
    }
   },
   "outputs": [],
   "source": [
    "X_train, X_test, y_train, y_test = train_test_split(X, y, random_state=0, test_size=0.2)"
   ]
  },
  {
   "cell_type": "code",
   "execution_count": 111,
   "metadata": {
    "ExecuteTime": {
     "end_time": "2020-04-09T03:03:39.149339Z",
     "start_time": "2020-04-09T03:03:39.135005Z"
    }
   },
   "outputs": [],
   "source": [
    "scaler = RobustScaler()\n",
    "X_train = scaler.fit_transform(X_train)"
   ]
  },
  {
   "cell_type": "code",
   "execution_count": 112,
   "metadata": {
    "ExecuteTime": {
     "end_time": "2020-04-09T03:03:39.644668Z",
     "start_time": "2020-04-09T03:03:39.620143Z"
    }
   },
   "outputs": [
    {
     "name": "stdout",
     "output_type": "stream",
     "text": [
      "0.958267444271461\n",
      "0.9691076330798856\n",
      "0.9778928355962565\n"
     ]
    }
   ],
   "source": [
    "pca_1 = PCA(n_components=6)\n",
    "pca_2 = PCA(n_components=7)\n",
    "pca_3 = PCA(n_components=8)\n",
    "\n",
    "principalComponents = pca_1.fit_transform(X_train)\n",
    "principalComponents = pca_2.fit_transform(X_train)\n",
    "principalComponents = pca_3.fit_transform(X_train)\n",
    "\n",
    "print(np.sum(pca_1.explained_variance_ratio_))\n",
    "print(np.sum(pca_2.explained_variance_ratio_))\n",
    "print(np.sum(pca_3.explained_variance_ratio_))\n"
   ]
  },
  {
   "cell_type": "code",
   "execution_count": 113,
   "metadata": {
    "ExecuteTime": {
     "end_time": "2020-04-09T03:03:41.883370Z",
     "start_time": "2020-04-09T03:03:41.872931Z"
    }
   },
   "outputs": [],
   "source": [
    "pca = PCA(n_components=6)\n",
    "comp = pca.fit_transform(X_train)"
   ]
  },
  {
   "cell_type": "code",
   "execution_count": 114,
   "metadata": {
    "ExecuteTime": {
     "end_time": "2020-04-09T03:03:42.172225Z",
     "start_time": "2020-04-09T03:03:42.167895Z"
    }
   },
   "outputs": [],
   "source": [
    "X_array = np.concatenate((comp, np.array(y_train).reshape(1072, 1)), axis=1)"
   ]
  },
  {
   "cell_type": "code",
   "execution_count": 115,
   "metadata": {
    "ExecuteTime": {
     "end_time": "2020-04-09T03:03:42.477399Z",
     "start_time": "2020-04-09T03:03:42.472267Z"
    }
   },
   "outputs": [],
   "source": [
    "comp_df = pd.DataFrame(data = X_array, columns = ['pc1', 'pc2', 'pc3', 'pc4', 'pc5', 'pc6', 'source'])"
   ]
  },
  {
   "cell_type": "code",
   "execution_count": 116,
   "metadata": {
    "ExecuteTime": {
     "end_time": "2020-04-09T03:03:42.785438Z",
     "start_time": "2020-04-09T03:03:42.779595Z"
    }
   },
   "outputs": [],
   "source": [
    "comp_df['source'] = comp_df['source'].astype('category')"
   ]
  },
  {
   "cell_type": "code",
   "execution_count": 117,
   "metadata": {
    "ExecuteTime": {
     "end_time": "2020-04-09T03:03:43.189587Z",
     "start_time": "2020-04-09T03:03:43.184147Z"
    }
   },
   "outputs": [],
   "source": [
    "X1 = comp_df.drop(columns='source')\n",
    "y1 = comp_df['source']"
   ]
  },
  {
   "cell_type": "code",
   "execution_count": null,
   "metadata": {
    "ExecuteTime": {
     "end_time": "2020-04-08T18:08:52.932720Z",
     "start_time": "2020-04-08T18:08:52.926793Z"
    }
   },
   "outputs": [],
   "source": [
    "# X_train, X_test, y_train, y_test = train_test_split(X, y, test_size=0.2, random_state=0)"
   ]
  },
  {
   "cell_type": "code",
   "execution_count": null,
   "metadata": {
    "ExecuteTime": {
     "end_time": "2020-04-08T18:08:54.235668Z",
     "start_time": "2020-04-08T18:08:54.230528Z"
    }
   },
   "outputs": [],
   "source": [
    "# scaler = MinMaxScaler()\n",
    "# X_train = scaler.fit_transform(X_train)\n",
    "# X_test = scaler.transform(X_test)"
   ]
  },
  {
   "cell_type": "code",
   "execution_count": null,
   "metadata": {
    "ExecuteTime": {
     "end_time": "2020-04-08T18:08:54.870433Z",
     "start_time": "2020-04-08T18:08:54.861876Z"
    }
   },
   "outputs": [],
   "source": [
    "# pca = PCA(n_components=3)\n",
    "# comp_train = pca.fit_transform(X_train)\n",
    "# comp_test = pca.transform(X_test)"
   ]
  },
  {
   "cell_type": "code",
   "execution_count": null,
   "metadata": {
    "ExecuteTime": {
     "end_time": "2020-04-08T17:50:49.920271Z",
     "start_time": "2020-04-08T17:50:49.915912Z"
    }
   },
   "outputs": [],
   "source": [
    "# X = df.iloc[:, 1:5].values\n",
    "# y = df['source']"
   ]
  },
  {
   "cell_type": "code",
   "execution_count": null,
   "metadata": {
    "ExecuteTime": {
     "end_time": "2020-04-08T18:08:58.475142Z",
     "start_time": "2020-04-08T18:08:58.469755Z"
    }
   },
   "outputs": [],
   "source": [
    "# comp_train_df = pd.DataFrame(data = comp_train, columns = ['pc1', 'pc2', 'pc3'])\n",
    "# comp_test_df = pd.DataFrame(data = comp_test, columns = ['pc1', 'pc2', 'pc3'])"
   ]
  },
  {
   "cell_type": "code",
   "execution_count": null,
   "metadata": {
    "ExecuteTime": {
     "end_time": "2020-04-08T18:08:59.305295Z",
     "start_time": "2020-04-08T18:08:59.301782Z"
    }
   },
   "outputs": [],
   "source": [
    "# X1 = comp_train_df.values"
   ]
  },
  {
   "cell_type": "code",
   "execution_count": 95,
   "metadata": {
    "ExecuteTime": {
     "end_time": "2020-04-09T03:00:33.878633Z",
     "start_time": "2020-04-09T03:00:33.464099Z"
    },
    "scrolled": false
   },
   "outputs": [
    {
     "name": "stderr",
     "output_type": "stream",
     "text": [
      "/Users/waynelam/opt/anaconda3/envs/learn-env/lib/python3.6/site-packages/ipykernel_launcher.py:53: UserWarning:\n",
      "\n",
      "Matplotlib is currently using module://ipykernel.pylab.backend_inline, which is a non-GUI backend, so cannot show the figure.\n",
      "\n"
     ]
    },
    {
     "data": {
      "image/png": "[encoded data removed]",
      "text/plain": [
       "<Figure size 1080x720 with 1 Axes>"
      ]
     },
     "metadata": {
      "needs_background": "light"
     },
     "output_type": "display_data"
    }
   ],
   "source": [
    "# estimators = [('k_means_top_senti_2', KMeans(n_clusters=2)),\n",
    "#               ('k_means_top_senti_3', KMeans(n_clusters=3)),\n",
    "#               ('k_means_top_senti_5', KMeans(n_clusters=5))]\n",
    "\n",
    "# fignum = 1\n",
    "# titles = ['2 clusters', '3 clusters', '5 clusters']\n",
    "# for name, est in estimators:\n",
    "#     fig = plt.figure(fignum, figsize=(15, 10))\n",
    "#     ax = Axes3D(fig, rect=[0, 0, .95, 1], elev=48, azim=60)\n",
    "#     est.fit(X_array)\n",
    "#     labels = est.labels_\n",
    "\n",
    "#     ax.scatter(X_array[:, 0], X_array[:, 3], X_array[:, 4],\n",
    "#                c=labels.astype(np.float), edgecolor='k')\n",
    "\n",
    "#     ax.w_xaxis.set_ticklabels([])\n",
    "#     ax.w_yaxis.set_ticklabels([])\n",
    "#     ax.w_zaxis.set_ticklabels([])\n",
    "#     ax.set_xlabel('PC1')\n",
    "#     ax.set_ylabel('PC2')\n",
    "#     ax.set_zlabel('PC3')\n",
    "#     ax.set_title(titles[fignum - 1])\n",
    "#     ax.dist = 12\n",
    "#     fignum = fignum + 1\n",
    "\n",
    "# # # Plot the ground truth\n",
    "# fig = plt.figure(fignum, figsize=(15, 10))\n",
    "# ax = Axes3D(fig, rect=[0, 0, .95, 1], elev=50, azim=60)\n",
    "\n",
    "# for name, label in [('SCMP', 0),\n",
    "#                     ('ABC', 1),\n",
    "#                     ('Reuters', 2),\n",
    "#                     ('CCTV', 3),\n",
    "#                     ('CNN', 4)]:\n",
    "#     ax.text3D(X_array[y1 == label, 0].mean(),\n",
    "#               X_array[y1 == label, 3].mean(),\n",
    "#               X_array[y1 == label, 4].mean(), name,\n",
    "#               horizontalalignment='center',\n",
    "#               bbox=dict(alpha=1, edgecolor='w', facecolor='w'))\n",
    "# # Reorder the labels to have colors matching the cluster results\n",
    "# # y = np.choose(y, [1, 3, 4])\n",
    "# ax.scatter(X_array[:, 0], X_array[:, 3], X_array[:, 4], c=y1, edgecolor='k', alpha=0)\n",
    "\n",
    "# ax.w_xaxis.set_ticklabels([])\n",
    "# ax.w_yaxis.set_ticklabels([])\n",
    "# ax.w_zaxis.set_ticklabels([])\n",
    "# ax.set_xlabel('PC1')\n",
    "# ax.set_ylabel('PC4')\n",
    "# ax.set_zlabel('PC5')\n",
    "# ax.set_title('Ground Truth')\n",
    "# ax.dist = 12\n",
    "\n",
    "# fig.show()"
   ]
  },
  {
   "cell_type": "code",
   "execution_count": 118,
   "metadata": {
    "ExecuteTime": {
     "end_time": "2020-04-09T03:03:53.894641Z",
     "start_time": "2020-04-09T03:03:53.888219Z"
    }
   },
   "outputs": [],
   "source": [
    "cond1 = (comp_df['source'] == 'CCTV')\n",
    "cond2 = (comp_df['source'] == 'CNN')\n",
    "cond3 = (comp_df['source'] == 'ABC (Australia)')\n",
    "cond4 = (comp_df['source'] == 'SCMP')\n",
    "cond5 = (comp_df['source'] == 'Reuters')"
   ]
  },
  {
   "cell_type": "code",
   "execution_count": 119,
   "metadata": {
    "ExecuteTime": {
     "end_time": "2020-04-09T03:03:54.582307Z",
     "start_time": "2020-04-09T03:03:54.575992Z"
    }
   },
   "outputs": [],
   "source": [
    "plot_df = comp_df.loc[cond1|cond4|cond3]"
   ]
  },
  {
   "cell_type": "code",
   "execution_count": 120,
   "metadata": {
    "ExecuteTime": {
     "end_time": "2020-04-09T03:03:55.620879Z",
     "start_time": "2020-04-09T03:03:55.601335Z"
    }
   },
   "outputs": [
    {
     "data": {
      "text/html": [
       "<div>\n",
       "<style scoped>\n",
       "    .dataframe tbody tr th:only-of-type {\n",
       "        vertical-align: middle;\n",
       "    }\n",
       "\n",
       "    .dataframe tbody tr th {\n",
       "        vertical-align: top;\n",
       "    }\n",
       "\n",
       "    .dataframe thead th {\n",
       "        text-align: right;\n",
       "    }\n",
       "</style>\n",
       "<table border=\"1\" class=\"dataframe\">\n",
       "  <thead>\n",
       "    <tr style=\"text-align: right;\">\n",
       "      <th></th>\n",
       "      <th>pc1</th>\n",
       "      <th>pc2</th>\n",
       "      <th>pc3</th>\n",
       "      <th>pc4</th>\n",
       "      <th>pc5</th>\n",
       "      <th>pc6</th>\n",
       "      <th>source</th>\n",
       "    </tr>\n",
       "  </thead>\n",
       "  <tbody>\n",
       "    <tr>\n",
       "      <td>0</td>\n",
       "      <td>-0.298181</td>\n",
       "      <td>0.439789</td>\n",
       "      <td>0.142809</td>\n",
       "      <td>-1.72591</td>\n",
       "      <td>-0.306175</td>\n",
       "      <td>-0.254915</td>\n",
       "      <td>SCMP</td>\n",
       "    </tr>\n",
       "    <tr>\n",
       "      <td>1</td>\n",
       "      <td>2.43623</td>\n",
       "      <td>0.666363</td>\n",
       "      <td>0.627224</td>\n",
       "      <td>0.496814</td>\n",
       "      <td>-0.6293</td>\n",
       "      <td>-0.894746</td>\n",
       "      <td>CCTV</td>\n",
       "    </tr>\n",
       "    <tr>\n",
       "      <td>2</td>\n",
       "      <td>3.50507</td>\n",
       "      <td>0.345035</td>\n",
       "      <td>0.384124</td>\n",
       "      <td>-1.4818</td>\n",
       "      <td>-0.334201</td>\n",
       "      <td>0.505404</td>\n",
       "      <td>CCTV</td>\n",
       "    </tr>\n",
       "    <tr>\n",
       "      <td>4</td>\n",
       "      <td>-0.875868</td>\n",
       "      <td>-1.74793</td>\n",
       "      <td>-1.38588</td>\n",
       "      <td>-0.0741227</td>\n",
       "      <td>-0.421455</td>\n",
       "      <td>1.03623</td>\n",
       "      <td>SCMP</td>\n",
       "    </tr>\n",
       "    <tr>\n",
       "      <td>5</td>\n",
       "      <td>-1.33758</td>\n",
       "      <td>-1.05467</td>\n",
       "      <td>-0.881828</td>\n",
       "      <td>0.654402</td>\n",
       "      <td>0.146827</td>\n",
       "      <td>-0.713334</td>\n",
       "      <td>SCMP</td>\n",
       "    </tr>\n",
       "    <tr>\n",
       "      <td>...</td>\n",
       "      <td>...</td>\n",
       "      <td>...</td>\n",
       "      <td>...</td>\n",
       "      <td>...</td>\n",
       "      <td>...</td>\n",
       "      <td>...</td>\n",
       "      <td>...</td>\n",
       "    </tr>\n",
       "    <tr>\n",
       "      <td>1061</td>\n",
       "      <td>-1.94833</td>\n",
       "      <td>1.77957</td>\n",
       "      <td>-0.525423</td>\n",
       "      <td>-1.04265</td>\n",
       "      <td>-0.122358</td>\n",
       "      <td>0.221859</td>\n",
       "      <td>SCMP</td>\n",
       "    </tr>\n",
       "    <tr>\n",
       "      <td>1063</td>\n",
       "      <td>11.6</td>\n",
       "      <td>5.15767</td>\n",
       "      <td>0.437971</td>\n",
       "      <td>0.653409</td>\n",
       "      <td>0.888998</td>\n",
       "      <td>-0.386793</td>\n",
       "      <td>CCTV</td>\n",
       "    </tr>\n",
       "    <tr>\n",
       "      <td>1065</td>\n",
       "      <td>-2.24138</td>\n",
       "      <td>1.10308</td>\n",
       "      <td>0.410412</td>\n",
       "      <td>-1.38136</td>\n",
       "      <td>0.761267</td>\n",
       "      <td>-0.707066</td>\n",
       "      <td>SCMP</td>\n",
       "    </tr>\n",
       "    <tr>\n",
       "      <td>1066</td>\n",
       "      <td>2.73862</td>\n",
       "      <td>-1.18854</td>\n",
       "      <td>2.6302</td>\n",
       "      <td>-0.331961</td>\n",
       "      <td>-1.06278</td>\n",
       "      <td>-0.402991</td>\n",
       "      <td>CCTV</td>\n",
       "    </tr>\n",
       "    <tr>\n",
       "      <td>1069</td>\n",
       "      <td>0.705495</td>\n",
       "      <td>-0.0152926</td>\n",
       "      <td>-0.980913</td>\n",
       "      <td>0.145594</td>\n",
       "      <td>-0.699318</td>\n",
       "      <td>-0.892068</td>\n",
       "      <td>ABC (Australia)</td>\n",
       "    </tr>\n",
       "  </tbody>\n",
       "</table>\n",
       "<p>658 rows × 7 columns</p>\n",
       "</div>"
      ],
      "text/plain": [
       "           pc1        pc2       pc3        pc4       pc5       pc6  \\\n",
       "0    -0.298181   0.439789  0.142809   -1.72591 -0.306175 -0.254915   \n",
       "1      2.43623   0.666363  0.627224   0.496814   -0.6293 -0.894746   \n",
       "2      3.50507   0.345035  0.384124    -1.4818 -0.334201  0.505404   \n",
       "4    -0.875868   -1.74793  -1.38588 -0.0741227 -0.421455   1.03623   \n",
       "5     -1.33758   -1.05467 -0.881828   0.654402  0.146827 -0.713334   \n",
       "...        ...        ...       ...        ...       ...       ...   \n",
       "1061  -1.94833    1.77957 -0.525423   -1.04265 -0.122358  0.221859   \n",
       "1063      11.6    5.15767  0.437971   0.653409  0.888998 -0.386793   \n",
       "1065  -2.24138    1.10308  0.410412   -1.38136  0.761267 -0.707066   \n",
       "1066   2.73862   -1.18854    2.6302  -0.331961  -1.06278 -0.402991   \n",
       "1069  0.705495 -0.0152926 -0.980913   0.145594 -0.699318 -0.892068   \n",
       "\n",
       "               source  \n",
       "0                SCMP  \n",
       "1                CCTV  \n",
       "2                CCTV  \n",
       "4                SCMP  \n",
       "5                SCMP  \n",
       "...               ...  \n",
       "1061             SCMP  \n",
       "1063             CCTV  \n",
       "1065             SCMP  \n",
       "1066             CCTV  \n",
       "1069  ABC (Australia)  \n",
       "\n",
       "[658 rows x 7 columns]"
      ]
     },
     "execution_count": 120,
     "metadata": {},
     "output_type": "execute_result"
    }
   ],
   "source": [
    "plot_df"
   ]
  },
  {
   "cell_type": "code",
   "execution_count": 121,
   "metadata": {
    "ExecuteTime": {
     "end_time": "2020-04-09T03:03:57.063739Z",
     "start_time": "2020-04-09T03:03:56.641282Z"
    }
   },
   "outputs": [
    {
     "data": {
      "application/vnd.plotly.v1+json": {
       "config": {
        "plotlyServerURL": "https://plot.ly"
       },
       "data": [
        {
         "hoverlabel": {
          "namelength": 0
         },
         "hovertemplate": "source=SCMP<br>pc1=%{x}<br>pc3=%{y}<br>pc5=%{z}",
         "legendgroup": "source=SCMP",
         "marker": {
          "color": "darkslategrey",
          "symbol": "circle"
         },
         "mode": "markers",
         "name": "source=SCMP",
         "scene": "scene",
         "showlegend": true,
         "type": "scatter3d",
         "x": [
          -0.2981810559207194,
          -0.8758675369488218,
          -1.337581913775586,
          0.39778537838334255,
          -0.1659134288714097,
          -1.0491289246340776,
          0.024863712041256158,
          1.3189510898919024,
          -0.9008406104670666,
          -1.7072090067606405,
          0.19410619083301822,
          -0.5814664678249198,
          2.2223207180689664,
          -1.436081249657607,
          1.007926434933623,
          -0.356423889772755,
          -0.21364372512407462,
          -1.2731865215860965,
          -3.5325810541839813,
          -0.6495664103065037,
          -1.2819014864063103,
          0.07342260166608712,
          2.2873525105895163,
          -1.2983960237616912,
          -0.04458192692513036,
          -1.8816642572351223,
          -0.5050481954093292,
          -0.08773948735020033,
          -0.7343259900902014,
          -0.8015452003947922,
          -0.2619886799051913,
          -0.5867028608258972,
          -1.5692894989111115,
          -0.8955359553749402,
          -0.8982171395936115,
          -0.8097653796344172,
          -3.7098472004720477,
          -1.7187253192511878,
          -0.43090732004270993,
          -0.1419124631015559,
          -0.47855642828483835,
          -3.0377322460529292,
          0.12837943888099848,
          1.145553595996524,
          -4.652682247472346,
          -0.7667853180992503,
          0.05467977233264052,
          -0.4045704839301529,
          -1.1666575659095444,
          -0.938513505694753,
          -2.1104267291083296,
          2.4229375003068085,
          -0.6563322357023308,
          0.43027599719815096,
          -0.8840818285045863,
          2.9826638754616313,
          -0.20768027342127016,
          -3.154507060701428,
          -1.48904343338789,
          -0.8016591998604115,
          7.325190474950164,
          -0.5910134551483714,
          -0.9141307789441828,
          -0.914098852317005,
          0.5755551112271358,
          1.7464754873980488,
          -0.8954394733151758,
          -0.8949118978179967,
          -2.5618588997906078,
          -5.5797642526082685,
          -0.3273966613807761,
          -1.5849203245673757,
          -3.533029787337445,
          -0.7293761835074758,
          4.374871561432266,
          -0.8377907429115171,
          -0.3652432264860334,
          -0.5026738115509045,
          0.2324539354245584,
          -1.5136414061560837,
          -0.8256995193541775,
          -2.330999807817079,
          -2.381321196785674,
          -5.210549727775988,
          0.45328046806682265,
          -0.6226843512406577,
          -0.7076058241140055,
          0.04430535503658174,
          0.41535811926241967,
          -2.1192818849143866,
          0.678657151155586,
          -1.8039097126437784,
          -1.0559203446759189,
          2.094154717114485,
          -0.032495887656731955,
          -1.338017663085019,
          -0.09427665726814083,
          -0.4687020666984246,
          0.3123682498591707,
          -1.493142098171012,
          -0.28614220506100724,
          -0.5561112838280029,
          1.9535646185729543,
          -1.0592725304155666,
          2.3367839434449706,
          -0.9709884554869186,
          3.518484508297448,
          -0.3650546759490225,
          -0.8175636278702342,
          -0.7213518013882813,
          -0.7376216854747273,
          -0.6430470918463042,
          0.683318239222311,
          1.3980423154625718,
          -0.592793576434898,
          -1.7395087379096923,
          -1.1753184622704629,
          2.1624137273225816,
          -0.8776773958880216,
          -2.810585977467192,
          1.667244014365869,
          -0.6032460938299815,
          0.9646963924627671,
          -0.35012017755277364,
          0.9123717652920265,
          -0.8365224440653549,
          -0.668230138482609,
          -0.1649962906999385,
          0.3605939753194501,
          -3.0539189272048444,
          -0.8987200498940457,
          -1.092162882517551,
          -0.8182968184787568,
          -0.762487997868113,
          -0.941859490480465,
          -0.772447461303165,
          -0.12867922908056514,
          -1.8148469695692973,
          -0.36405496738735077,
          0.34140638047838623,
          -0.5936082053723898,
          -0.8884230891797245,
          1.471489889645601,
          -3.8921823597094183,
          -2.078812994801531,
          -0.21735526402231936,
          -0.4909101096995061,
          -1.069666260865169,
          5.913736941214061,
          -2.7820261081367357,
          -0.7990931091702645,
          -0.9390027467264065,
          -0.9229363147396596,
          -1.4163016879738253,
          1.452558911717199,
          -0.522452840229538,
          0.0212242836330976,
          -1.295016465133523,
          -2.2245709963188545,
          -0.9384455392128683,
          0.10948307298059197,
          -0.8891722286196542,
          -0.6345912346394172,
          -0.5660708067870381,
          -0.8454242854923706,
          2.099804574618551,
          2.2635185298919263,
          -0.2454574349649342,
          -1.2467670487969222,
          -0.6233596106032676,
          0.08894506776295262,
          -0.5035273939843314,
          0.7164958882603488,
          -3.584127570383176,
          -4.23058543697553,
          -0.8893767158394698,
          0.7581598259512707,
          -1.1263525041697622,
          0.19510815533154002,
          -0.3099555227157279,
          0.08796047291051054,
          3.290075205288921,
          -0.9090418203602779,
          -3.876695962048473,
          -0.8516002656723813,
          1.564008177323185,
          0.09678453163918685,
          0.11604582206165881,
          -0.9214019879976084,
          0.9202223480963666,
          0.8527251787545754,
          -2.08950038975235,
          -0.698426359401922,
          -0.6503331336220703,
          -2.0851224509772077,
          -0.4868391793056899,
          -3.62217057155392,
          -0.8156115252247899,
          -0.35833176442974546,
          -1.01649851802468,
          -0.8802320503942648,
          -3.7083268317389453,
          -0.38476843081310663,
          2.6037509032259583,
          -0.25379084476737557,
          -0.19129478509458545,
          -1.3484289636037707,
          4.691413398403527,
          -0.24130257622879697,
          0.13377040530472856,
          -0.7727743920968305,
          0.21399794814851342,
          -0.08308185644069262,
          0.3637293840968574,
          -0.8501443540590307,
          -0.12294183471437282,
          -1.6539550359612625,
          -1.2934528984275735,
          -2.4620015015197136,
          -1.633435898602384,
          -1.0186500179425129,
          -0.713730975440514,
          -1.0031124116546284,
          -0.5779563129795862,
          0.7288341303030277,
          -0.8170331206155114,
          -0.07654398041364954,
          0.8420130358705027,
          -1.6141680940237841,
          -0.32336262418519846,
          1.166570388177398,
          -0.2967803371666696,
          -1.5836601621259783,
          -0.720595161365325,
          0.21624496498349996,
          -0.4514707630993196,
          -1.725777755003711,
          -0.7009035597443422,
          -0.7059738118398452,
          -1.693078684702703,
          -0.764210900639005,
          -0.14467617662141682,
          -1.1152153314314737,
          -0.8827421981087562,
          -0.9157977266906352,
          -1.025440419604989,
          -1.067413900357366,
          -0.30624099166346336,
          -0.6551302385633692,
          -2.6678616832989235,
          3.94022521788987,
          -0.6961325226693262,
          -0.8982854847176112,
          -0.3145503325575332,
          -1.7869119002324643,
          -1.2032459502135533,
          -0.9991290387741975,
          4.622398155277102,
          1.4025093035065581,
          -2.4678898143972856,
          3.9660699522113,
          1.8612799552399737,
          0.8381029686714442,
          -0.5332683993388925,
          -2.5732465774245443,
          -1.2067348204344932,
          -0.7666780290293098,
          2.039226016386752,
          -1.0359917179480596,
          -0.7208339494106027,
          1.5525685621444407,
          -0.9628307017841403,
          -0.8169616405766418,
          -3.4140703724332533,
          1.9904373632813828,
          4.260145941123714,
          -3.3874617143460597,
          -0.45782706585749056,
          -0.04662343645895046,
          -2.7026240334674263,
          0.6497289995454506,
          3.296801278405802,
          -0.49823034808823186,
          -0.9525218784969102,
          -0.9918968671766102,
          -0.761793185357464,
          -0.9170157463787155,
          -5.557581789433515,
          -2.4080422919091107,
          -0.180239910752285,
          1.0209795025747908,
          -0.741168203600847,
          2.4351492232964653,
          -0.21574557319584073,
          -0.21448537112035046,
          -0.9293819686490836,
          0.24172152207864547,
          -2.202973924692608,
          -1.1756814823912871,
          0.7835128295565176,
          -1.1385828527812574,
          -0.604813833376812,
          -1.0712456225099065,
          -0.8485137607192337,
          2.679061782398736,
          0.34142978405499874,
          0.3432608659948127,
          -1.5141396754890908,
          -0.7741013572345635,
          -2.0775375795552624,
          -0.17509252117454793,
          1.1571134682402915,
          1.748787128831203,
          -0.3700902435440353,
          3.1102634712238904,
          -0.581414744935415,
          -0.6257504958261745,
          -0.7153924914608107,
          -1.4100039989838231,
          -0.7700767327199448,
          -2.829989312234189,
          -1.3023063715554501,
          -0.3647430759184024,
          -1.6027203743767933,
          0.051171142946045564,
          0.8899364884300298,
          0.13512463722535958,
          -4.238725385876025,
          0.44634513624273126,
          -1.2496118064186252,
          0.6004858482811369,
          -0.8392824095725273,
          1.119473167619388,
          -0.5770095498076594,
          1.1608767948491612,
          0.8188711782385376,
          -0.733259945563964,
          -3.6492102421334986,
          -1.0614816795844866,
          -0.8329135078500343,
          1.1445908881326763,
          0.33729375157933844,
          0.6091553117990849,
          -1.1118786372327716,
          -0.6910544274563208,
          -1.3438631102614127,
          -2.6874876360534223,
          -0.9934199468421194,
          -0.6147159354077356,
          -0.7670053524785634,
          -0.8583013108854626,
          -0.8576837565732262,
          -0.4612831567880592,
          -0.845690245949105,
          -0.2710603358380479,
          -2.2437753285478186,
          -0.8004082684873003,
          -1.1978779158373154,
          2.1251555219558127,
          -1.0378290600272722,
          -0.2247515739393403,
          -0.6750297199427099,
          0.23152267943893862,
          -0.8124049383099279,
          -0.8791442453346776,
          -1.662433576992861,
          -4.103768004323067,
          -1.7194682086819164,
          3.0746824381280207,
          -4.747286363851039,
          -0.25247694314118224,
          -0.8619458528137128,
          -0.8299765265763955,
          -0.8327486534203905,
          -0.5927129604101357,
          -0.9398420661025081,
          3.5694355744496558,
          -3.0199328823989267,
          -0.8751619539692949,
          3.5370033069662097,
          -2.7241114385544045,
          0.34280564387775536,
          0.34408804666750525,
          -0.2912018113822364,
          -0.6601968806260436,
          -0.6311653912382288,
          2.0968842148262294,
          -1.6563262665105098,
          -5.112235969833741,
          -2.2816745464481114,
          -0.16065684654226628,
          -0.931032954177202,
          -0.3197338277538508,
          -0.7745710160022429,
          -0.03070002451081992,
          -0.9007037219117333,
          0.12584559157303674,
          -1.8535972937880747,
          -0.2989553654880178,
          1.8882618436955645,
          0.8493841018313607,
          -0.885599985854321,
          -0.7847967880029276,
          -0.31259184222872904,
          -0.21151003467626298,
          -0.11720812369325426,
          -0.41378615753490544,
          -0.14275328098966442,
          -2.2725989217212934,
          0.27395553776686393,
          -0.8187643071715999,
          -0.8625303040362627,
          2.7517079237101107,
          -0.665858146247613,
          -0.8061268878679385,
          -0.847268200276951,
          -0.15182074596731077,
          -1.7010131277900715,
          -2.542047437703992,
          -0.8757375703836056,
          -0.8057129319502451,
          -1.879474012743792,
          -1.871327337822348,
          -1.0592516721578458,
          -0.15174723992677358,
          -0.22934566137199064,
          1.1072030535326285,
          4.816476011843406,
          0.19792256171634603,
          0.12259817354437295,
          -1.4565436878554587,
          -1.948327405003065,
          -2.2413787293172454
         ],
         "y": [
          0.14280850214970658,
          -1.3858797306628683,
          -0.8818277784227431,
          2.1334677593131817,
          -1.6137722351664565,
          -1.2625098421218515,
          -1.2823993574265349,
          -1.1326669112858303,
          -3.0645399669614743,
          -0.7019722820446794,
          -2.076477287306974,
          2.0276818907929144,
          -0.9683786159513535,
          -2.0729197410139575,
          -1.546018781697375,
          -0.8232131152215862,
          -2.650676390074184,
          -0.2665564950632144,
          0.39161188976064654,
          -3.289646152843218,
          -0.17392227254468592,
          -0.1694857443860667,
          -0.45928301420953754,
          -0.8036552622028501,
          -2.1872862234866193,
          0.3495779542283421,
          3.873084618425275,
          -1.3589464796428086,
          -0.8505961155800188,
          -1.884418596051425,
          1.2708672845597428,
          -0.30034866541636046,
          -1.4170805824010673,
          -2.9967064956687435,
          -0.5986653267081855,
          -2.010064016867301,
          0.9609226171051771,
          -0.5282421569931379,
          -1.0104892816116156,
          -3.102660255659767,
          4.44591520431669,
          -0.19234849031996443,
          -0.4844590866267689,
          0.015568026001822008,
          1.6654291626120004,
          -2.270102570234825,
          -2.2235920379658,
          -1.1168724602611333,
          -1.5758401729869966,
          -3.493839505918686,
          -0.650292355033484,
          -1.3008175474287174,
          2.55929326341328,
          3.1675476385667314,
          -2.868380524227832,
          -0.5786592412143622,
          0.0511649578964301,
          0.3331508562914235,
          -1.7654936458409358,
          -0.009094733334385688,
          0.31907938835260263,
          1.4056839081998476,
          -1.936564295666733,
          -0.16568119995550554,
          -1.098965008872259,
          -0.8408167740958359,
          0.1521660112323798,
          -1.6912315481731408,
          1.6019495710101954,
          1.6987664494346915,
          -0.18543668678012626,
          1.641166506871895,
          0.45518347513051005,
          -0.30449375835853043,
          1.7450314557094029,
          -2.263636562100892,
          -1.180999650215179,
          3.73971685051739,
          -0.3328736275885301,
          -1.4139604397568326,
          -2.0328178003676984,
          0.2729533894257572,
          -0.5280910058862254,
          1.158311536103635,
          -1.0338114326714718,
          0.7623630786943957,
          -0.10649391193145066,
          -2.062882559061712,
          -1.8932272209157566,
          0.352388027162579,
          1.7175045161983278,
          -1.277542150161212,
          -1.9860156706892815,
          -1.594334155289208,
          -0.6504016156648863,
          1.99811030688224,
          -2.438448132382439,
          1.6853194008228216,
          -0.8589330704682812,
          -0.25561030046425925,
          0.22153933767655604,
          0.08838887987660737,
          -0.6000797290039012,
          -1.598841665593077,
          -0.35989113281249424,
          -3.7583330435548206,
          0.8467102039232962,
          -0.3307509923414548,
          -3.212566622217677,
          -0.5120368482305009,
          -0.9758403874822548,
          -1.3050508847422648,
          -0.5160667206725889,
          -1.2458075124588284,
          1.7135775241328735,
          -0.5913378209057674,
          -1.3457075928684135,
          -1.5907369341336373,
          -2.7986229702687537,
          -0.08698829521533387,
          0.7936774430148792,
          1.0509121774230472,
          -0.71858522070133,
          -1.827007405841606,
          0.6856631376801662,
          -1.8556237953812509,
          0.8178967282596327,
          -1.8652988463452616,
          -0.590760113249617,
          -0.15413322889781228,
          -0.6865721669484582,
          -0.6009324572043231,
          -1.5788659758856487,
          -1.2544857652771677,
          -2.20485753111793,
          -1.3389582779832927,
          -0.6986234961964083,
          -0.5515113213610212,
          0.06626189960338971,
          0.43770598227261787,
          2.3803513132710155,
          -2.917309301380893,
          -0.8752346009853861,
          -0.11397990145920436,
          -0.9892768980079915,
          -2.5841773016879928,
          3.8831086414913183,
          -1.2217452927873569,
          0.500410537146783,
          0.15247177276514426,
          -1.6606191693875403,
          -2.203665930600107,
          -3.2088131372479283,
          -1.2345770469913326,
          0.10017230585041297,
          0.18802489167017286,
          -0.26433931826266593,
          -0.9356286919268525,
          -1.2101672424923697,
          -2.0642588038710143,
          -0.7176900898520241,
          -2.813619340491537,
          3.3545533685377014,
          2.301342981086218,
          -2.4767063569977275,
          -0.36778413520706216,
          -1.4155801766192662,
          -2.3560258596675996,
          -0.9576210958148424,
          2.1461911983956323,
          -0.08591673927379329,
          -2.1563797674766243,
          -0.25491450704837376,
          -0.21057951835972877,
          0.9720207867060113,
          -0.09745059919870157,
          -0.0018300828151525026,
          -0.03137035863256504,
          1.7428150512914702,
          1.1626447305459824,
          0.009114765715977117,
          -0.37280482493979333,
          -3.147154615891757,
          0.5619032286090176,
          -2.468588256593876,
          -2.226799984675698,
          -0.629176461825361,
          -2.0942178595103567,
          -0.2352434861152249,
          -2.5762649778741245,
          4.271591974390086,
          0.7818920080423467,
          -0.22922846731400334,
          1.1221696918572053,
          0.35375349652798505,
          -1.6162915072705686,
          0.3742229997710274,
          2.530250150538787,
          -1.8490508044583303,
          0.3735963829593197,
          -2.8239659119605336,
          0.3078075574881927,
          0.8609232870140966,
          0.5504404989952442,
          -3.022433631278167,
          -1.7506365298980395,
          -1.7445565017367528,
          0.33822834242131694,
          2.9342514394695023,
          -1.1786467557309426,
          -2.102868269570013,
          1.202321772328587,
          -2.8257822148367318,
          -1.0056619949401973,
          -1.097909891181499,
          -1.0932761311517678,
          0.5138007303569002,
          -0.5318039083690119,
          0.8174072966293928,
          -0.003780025074712235,
          -2.1224980312959016,
          0.16650300824421754,
          -2.914282642033392,
          2.3836615966583126,
          -0.7695143795656377,
          0.4844241774668487,
          -2.046608565990973,
          -1.014026686315019,
          -0.7084721687277872,
          -0.5050912803517869,
          -1.2831068445097629,
          -0.0348205823392113,
          -1.3623847101543853,
          -0.01744668766106576,
          -2.6540730178071543,
          0.8704061318423855,
          -1.414689935385499,
          -0.6799224540731762,
          0.09912926865006833,
          0.6996042094443333,
          -1.9870886512965171,
          2.0192759277121333,
          -2.5374453511914776,
          -2.8552235338224246,
          -3.0744201139824545,
          -0.9733409078267123,
          -2.6446857095402745,
          -1.4815507975058637,
          0.5299181200630902,
          -0.3691372341387805,
          1.239841742414414,
          -0.6553596801666105,
          -3.0822448309099943,
          0.32950581529501194,
          1.0505148552388446,
          -2.648247999488858,
          -2.0162511848432896,
          -0.6499941383535147,
          -1.1126142521809816,
          0.7213924807025172,
          -0.7317199627577181,
          -0.5373471456689161,
          -2.094142894641382,
          -1.8957306162109402,
          -0.8575712668508535,
          -1.9013690930281184,
          -1.49800281422998,
          3.2448744273489303,
          -2.584932105616472,
          -0.23375787443569243,
          1.017837373386478,
          -2.169409045376872,
          -0.92974161066044,
          0.21286829139721425,
          -1.0279790966482165,
          0.762170458284031,
          0.7916430776504154,
          4.280041069098022,
          -1.0290700438297864,
          -0.3596267991352025,
          -2.387077457905571,
          -1.1682505775242955,
          -2.0760323154296616,
          -3.588510171903732,
          -0.8044030323505532,
          -1.0180380215482596,
          -0.8963266213998239,
          1.4817486115310572,
          -0.04323114399460383,
          -1.1127051580460559,
          1.6899317241488556,
          -0.5895855007978771,
          -0.13182819342037316,
          -0.6792727705349075,
          -0.9735596566479602,
          -3.3862498252800064,
          -0.8108230394351416,
          1.091367599459076,
          -1.3461683715246116,
          -0.33206734856183584,
          3.5677208012895254,
          -1.7815873034114156,
          -1.6985089881579292,
          -2.5741150875286043,
          0.09361810071713286,
          2.5314115989616974,
          1.3028036385676265,
          0.5643652040953586,
          -1.4625798972977704,
          -0.2322868265573148,
          -2.3337300337870106,
          -0.5116344137632045,
          -0.9331312236962812,
          2.242552394312075,
          -1.1754675977408438,
          -0.7239831762124513,
          -0.17050766895575178,
          -0.7835272942094104,
          -2.098176620951969,
          1.2785635700311933,
          -0.25500316452426736,
          -0.1018872120451299,
          0.2648153383159152,
          -2.035753222976453,
          -0.9136238442643011,
          -1.137339966581905,
          1.3299618560687696,
          1.347023433139461,
          3.7838114454796594,
          -0.1151459443745037,
          -1.2146189210393443,
          -2.419608868700095,
          0.06361884944572978,
          -1.8334216465780422,
          0.08353665246282942,
          -0.7585717239926798,
          -1.0766215025448207,
          1.0512822526489123,
          0.6077395812280786,
          -2.1992595038916396,
          -1.7816332172490146,
          -0.7502115497559048,
          -0.5630820536776387,
          1.3761943787375144,
          -0.16645355444526616,
          -0.5195573216653434,
          0.055029230353249685,
          -0.31772061211915414,
          -1.057333641025101,
          -1.2820401264203414,
          -2.510333576731348,
          -2.414153724211406,
          -1.6066043966818915,
          -2.478151847453569,
          -1.2173381111700519,
          -0.059597530470012434,
          -1.712961326286442,
          -2.581234486857469,
          0.798455297979088,
          -4.409297998430858,
          -1.6583865591178613,
          0.2589744799683482,
          4.308194578379062,
          -1.923143226960711,
          3.6652921804170635,
          0.26106046977127606,
          0.44371358797061583,
          -0.23077221172563747,
          -1.7427542962914302,
          0.5052031056268632,
          -0.3494399493381363,
          -2.3587745805900933,
          -2.3501339050657317,
          -0.410927592763962,
          1.9296831887112023,
          -1.5807875251634527,
          -0.1876800181425176,
          -0.3601880300968969,
          -2.5985382578429874,
          -0.047811987998089805,
          -0.0504082493866611,
          1.6706753200182445,
          3.941840741455391,
          -1.049794606387767,
          0.6300819165485428,
          -0.05799081134263438,
          1.2370814547294855,
          -1.5036837883285965,
          1.3031931493575042,
          -1.144566739445902,
          -1.4491396736741249,
          2.1194589108024147,
          -1.1905058038601357,
          -1.3205853568942014,
          -1.9365510616251609,
          -3.115874207826879,
          3.3320981588719145,
          0.19772566871994796,
          -1.3576316990625343,
          1.705434842405087,
          -0.9071764836698121,
          -2.940061511095695,
          -1.6322359252179532,
          -1.7684513632622958,
          -0.4739815211963943,
          -0.15154428035926162,
          -0.3741884746901143,
          0.9986200522087613,
          -0.5483678039002632,
          -1.3896245431427665,
          -0.22493545365928708,
          -2.4717647296985157,
          1.734958763574887,
          0.8553244118110782,
          -2.0612000605514815,
          -1.7608398466781434,
          -1.6574179790999497,
          -0.5686104544725283,
          -0.845512849449823,
          -2.829047066709972,
          -1.9095353845503797,
          0.26718162067873247,
          2.276652835899069,
          0.008584825815528585,
          2.2300377673301806,
          -2.0941791603869278,
          -2.1116956015351636,
          -0.7878945922984439,
          4.4935089623102815,
          -0.15976074978151608,
          -1.765517749244837,
          -0.5254228126231313,
          0.4104116870867175
         ],
         "z": [
          -0.30617469356888716,
          -0.42145454567225726,
          0.14682691827278263,
          -0.05787099784683469,
          0.8680742084538589,
          0.2748593285045701,
          0.474581168694992,
          0.4609675686302187,
          1.3831514316789977,
          0.9479447400434947,
          0.2368695910719822,
          1.6418351082511942,
          -0.3359751513534162,
          1.0496699611278173,
          -0.4081257685220557,
          0.2951363282468334,
          0.9609637304046792,
          -0.1333179078867823,
          -0.08472916133376358,
          0.5629121790733891,
          -0.33268974787387523,
          0.7145074722691463,
          -0.7570448874028101,
          1.2097214472528697,
          0.4119641959319997,
          -0.13627140156637227,
          1.5776919215564513,
          -0.9691213757428364,
          1.346216032649106,
          1.4044649513125609,
          0.715091499409154,
          -0.39912971252235974,
          -0.4580093763687332,
          0.828289723254576,
          -0.6708125639210264,
          0.4932348641490891,
          1.0702755312675678,
          -0.3825427875920637,
          1.0033883471094631,
          0.510861759873435,
          1.8532322242464057,
          -0.08905253167451427,
          0.23839526424394233,
          -0.8720433652254587,
          0.7493704219865216,
          -0.5023110254083412,
          0.7993285891812901,
          0.14980983688265603,
          0.0404625041769589,
          1.5716817247460997,
          -0.40055928910253047,
          0.5499157760301702,
          -0.8402662594464775,
          0.7119922720837155,
          0.9282882961277108,
          0.06435255878657528,
          0.1417831599135615,
          1.1563599636872692,
          0.17387758401517728,
          -0.857401171637372,
          0.5166248080853915,
          0.4658469702652958,
          0.17844426745636624,
          0.33207927647947744,
          -0.4678161330601132,
          -0.25599044840879914,
          0.5540768189982448,
          0.1410122595510436,
          0.3550157627107518,
          0.6521730136702527,
          0.6079555735995122,
          0.9421708132253851,
          -0.29323118850962687,
          0.9430481905361449,
          -0.36881492173952224,
          0.7011932317553247,
          -0.30980709789185046,
          0.2057350309237359,
          1.0608378823742382,
          0.2525237644481158,
          0.9608014861847931,
          -1.0776293250582636,
          0.2438809301428312,
          1.498661688716906,
          -0.3036377219576127,
          0.5946856288387303,
          1.463791298541345,
          0.779246794469168,
          1.077591124382758,
          -0.26162433412699126,
          0.3462234911472869,
          -0.3038503301571848,
          0.10905318284470784,
          0.4909208247561102,
          -0.7763107955424358,
          1.486373642693292,
          0.7907995240224417,
          -0.6586386357168756,
          -0.3378713968121711,
          -0.6060365122104164,
          -0.8793348880518003,
          -0.24022572473096787,
          0.2907400934488878,
          -0.15821666254683384,
          -0.35540822078523177,
          1.4032006417695333,
          0.6204912316085448,
          0.263713022568261,
          0.1669345082213523,
          0.16079064686375044,
          0.17687545290759765,
          0.47109157720674766,
          -0.7403600142788428,
          -0.7703299259226983,
          0.8036206799355142,
          -0.22834237448750483,
          1.0259389018123197,
          0.27576121174613116,
          1.1268813556512989,
          1.0368242829943808,
          -0.10253353902748737,
          0.4577059677021893,
          0.257236209907402,
          0.1908623853706509,
          -0.3676273219254449,
          -0.17571861802046826,
          1.0291183939124275,
          0.3332649931483885,
          -0.6786074757882177,
          -0.6297552288212901,
          0.7324828575944735,
          0.36932451688742657,
          0.7045754420935526,
          0.26680736957116313,
          0.002080747682127444,
          0.7875844001590021,
          -0.10869161075845007,
          0.4156235732841688,
          0.8002466715182801,
          -0.8308869982044552,
          1.2374172499026408,
          0.9112489941723809,
          0.3216648449478728,
          0.9299966710217554,
          -0.0844654769479959,
          -0.6184247402990702,
          0.652101359561688,
          0.35221406101033514,
          -0.7585000111800175,
          0.6486045533106131,
          0.4816835342427624,
          0.4737916862571267,
          1.0236332436906215,
          1.2334095180453115,
          0.4677478365039469,
          -0.9644728739896984,
          -0.8481802748762284,
          -0.8082827203288708,
          0.4184243540758524,
          0.65638298903524,
          -1.3054724517899932,
          0.6109251824798642,
          1.1962678099319455,
          0.1608909681699654,
          0.6184014590696314,
          0.7796587604795067,
          -0.003567106585763295,
          0.777191523855745,
          1.1674589453553554,
          0.04353851230942015,
          0.11325877135326315,
          0.12016629348387485,
          -1.2474846404804643,
          -0.20564072061075342,
          0.7000350279180876,
          -0.1586248611624933,
          -0.36320233125907125,
          0.11437179136404967,
          -0.07646691604879227,
          0.12049105583358546,
          -0.8386755672917444,
          -0.21178729544071015,
          0.6485339461785515,
          0.8421237994451177,
          0.7756335213785834,
          -0.046917137746692476,
          -0.14753999719142566,
          0.8010696698084532,
          -0.4494489395172523,
          0.3252891026151831,
          0.8879260194684395,
          -0.3146666369000116,
          0.8991040258225349,
          1.0932437470757774,
          0.7898989567678553,
          0.8863334057508241,
          0.4485658486894236,
          0.09603384792236536,
          0.2771626153008487,
          -0.2771787701994661,
          0.8700553912018328,
          0.10372017549498523,
          -0.1880185695951584,
          -0.029387574387447116,
          0.661601312159923,
          0.03048720256173288,
          0.791864885812833,
          -0.446639487661751,
          0.856101392853255,
          -0.9144701906759471,
          0.7892768416479754,
          0.007224140899460623,
          0.09744323764419235,
          -1.1706214210389412,
          0.03724386197022935,
          -0.865749453486143,
          -0.09249505379289297,
          0.2451576307872673,
          0.006925122070864264,
          -1.1760227409808766,
          -0.7146222118933862,
          0.9577557932511731,
          0.779995508323335,
          0.9640591866759374,
          -0.3007684317865829,
          0.23184090144517217,
          -0.42851494224967474,
          0.3816698313393104,
          -0.8871686046088886,
          0.6021052466658536,
          0.5258904298379159,
          -0.9124902316596495,
          0.41655034560529236,
          0.7858056821482611,
          0.6491208892893857,
          0.10155923529234147,
          -0.2430969869044143,
          -0.6153529318934285,
          -0.05680877512329795,
          0.11544378420515453,
          0.20943579882971936,
          0.5879442881944853,
          1.173962989583072,
          1.0724475814907053,
          0.8038747891280172,
          0.7434939883031867,
          0.6203785690749439,
          0.7101006065151558,
          0.14739142030319327,
          -0.9083088824926667,
          0.051719407881500847,
          -0.7278233413511107,
          1.1091170827375496,
          -0.04795239881585356,
          0.47046480123041273,
          1.0241244212270757,
          -0.12172637266338057,
          0.5268184461100005,
          0.6654339889495873,
          -0.16195864159848378,
          0.36479163878606435,
          0.2116972206687205,
          0.7328774392095859,
          0.7868453932152464,
          0.6287472389118139,
          0.5550643707401524,
          0.39094046003833005,
          1.188103474891633,
          0.5049618377067085,
          0.6341758139139069,
          -1.5155249097453918,
          0.9610983063109054,
          0.07799158139698699,
          0.016920305467165737,
          -0.07562624293594264,
          -0.411763020413011,
          -0.037056523108879864,
          0.705767207523993,
          0.17926175961935764,
          0.5220990706032133,
          0.35708322122591885,
          -0.42095273099810143,
          0.22110431831319538,
          0.6052827064898131,
          -0.1412996460362878,
          0.6450742464635492,
          -0.3027067402626929,
          1.6635988464984819,
          0.22133560371179672,
          -0.17306669201962802,
          0.23850794988140075,
          -0.5846560784823868,
          -0.8808561300553898,
          0.4164306218251333,
          0.6758298696382764,
          1.2733128328556984,
          0.11215663357633832,
          0.6950234743393263,
          -0.6790319113353549,
          -0.2271429430370269,
          0.8731809805086391,
          0.1092567835502304,
          -0.24560997980095242,
          1.4730305257051872,
          -0.2874933671629544,
          1.266278848696191,
          0.22329915379512355,
          -0.7776735788239092,
          1.054462826777279,
          0.7721258608211383,
          0.9579128202719627,
          0.5326592878911535,
          0.41501816917362816,
          0.9223641621111541,
          -0.07923340493885594,
          -0.24192854440867242,
          -0.9524521656761255,
          0.6134247851847107,
          1.28594328587696,
          1.0858633918655956,
          0.3756730595501676,
          0.5558926649989917,
          0.7211441514220803,
          0.5669433115158649,
          0.1045985254374515,
          -0.5734250043052229,
          -0.14580036135277707,
          0.8618728795693766,
          -0.7670752050934032,
          -0.6086951011257306,
          -0.06325701546979628,
          -0.6526414991395929,
          -0.7971013980870659,
          0.27824975010898634,
          0.4844750609364504,
          -1.193370457250344,
          0.24760287815219867,
          -0.21575649107672987,
          1.2538475406924896,
          1.0102281829856952,
          -0.35750506845579944,
          -0.8535305074256356,
          -0.08490472733826293,
          0.8011270929594614,
          0.8875352291679542,
          -0.325289595241561,
          -0.1793619936135487,
          -0.8814870179945558,
          0.34454736329311014,
          0.9901181770187433,
          0.6840820092551939,
          0.47249280189925974,
          0.3762987520633156,
          0.506318495954058,
          -0.231520703492359,
          -0.4756883661946877,
          0.7251227448449938,
          0.43386448869022526,
          -0.6188013590091943,
          1.0389210950324765,
          -0.33382320713837926,
          -0.34565549609031504,
          0.7983433285279626,
          1.1428189567934532,
          0.16464965179573252,
          0.01728951747552952,
          0.4303229186065694,
          -0.058105362893031635,
          -0.004552083553400691,
          0.37490150045079423,
          -0.33806097441151417,
          1.2628365648157904,
          0.46872315379735124,
          0.19233173565777897,
          1.8475266106636767,
          0.02374111224041612,
          0.0476017501468067,
          -0.7606571634313969,
          1.02096234161976,
          0.3949218534919598,
          -0.4899466177477362,
          0.7557580437900583,
          1.4746585373407777,
          0.2477924516181003,
          1.5863963556897336,
          -0.679462159810373,
          0.9082656947885981,
          -0.10111523133619436,
          1.6726981952595372,
          0.3030591475136417,
          0.8202783147959126,
          0.6752370413756406,
          0.4825356356362795,
          -0.3460279352952698,
          0.5853813631428547,
          1.5556643027870787,
          0.8497705983763275,
          1.106083035906165,
          0.04793582410566073,
          0.16785016579499765,
          -0.3607060387466962,
          1.2154511229550875,
          0.8739813446686634,
          0.4522237636228928,
          -0.06736691677935179,
          -0.6571858555930719,
          -0.2979443341248838,
          -0.6963709304821855,
          0.1545968262698765,
          0.907616628145361,
          0.9809955899567143,
          1.1235504065987674,
          -0.2642950706894144,
          0.8333230115276729,
          1.0252998683677284,
          0.6956666352889853,
          0.4383979848810252,
          0.036578626632152056,
          0.8011162454414186,
          1.2642676494375602,
          1.0287951774047372,
          0.5193723598804679,
          0.9703330549403322,
          -0.6451381447500248,
          0.35404829481142763,
          0.4376366068681377,
          0.9465405629609561,
          0.3686439057447478,
          0.039059684289884496,
          -0.21515250195929952,
          0.8717345756731383,
          -0.12235755330921605,
          0.761267034070209
         ]
        },
        {
         "hoverlabel": {
          "namelength": 0
         },
         "hovertemplate": "source=CCTV<br>pc1=%{x}<br>pc3=%{y}<br>pc5=%{z}",
         "legendgroup": "source=CCTV",
         "marker": {
          "color": "red",
          "symbol": "circle"
         },
         "mode": "markers",
         "name": "source=CCTV",
         "scene": "scene",
         "showlegend": true,
         "type": "scatter3d",
         "x": [
          2.4362322038170925,
          3.505073154072758,
          7.943118574097284,
          -0.059015673312217624,
          3.448116510726241,
          2.758227844266691,
          7.240992577284046,
          7.753154151323045,
          -0.9310972451734171,
          1.9206754774002295,
          3.827484149712558,
          6.952110673975047,
          -1.7079075968061495,
          0.12536500564448466,
          5.209978030268865,
          0.801456404998872,
          5.948921031333727,
          17.365508789321083,
          0.6550104220326487,
          8.987418024921048,
          3.224909860317033,
          12.461654273966456,
          -0.35567496828980816,
          5.402782192426739,
          7.918943980327071,
          -0.7437884829764677,
          3.168655906896423,
          -0.9716132788316049,
          5.672135498718092,
          13.420735891601613,
          5.926442230004228,
          -1.113381340436089,
          5.571684371427759,
          3.6979796899137596,
          0.8963365232203689,
          12.314335912899098,
          5.508629815816523,
          10.137237705960302,
          4.867954580324539,
          -0.6679933976671115,
          2.0856203979114385,
          9.732516542288154,
          -0.14247282265396632,
          1.114772829169442,
          7.632544403511047,
          -3.309615135994598,
          7.646728176027811,
          0.9399353941209513,
          3.1013749205840617,
          2.413108909806156,
          5.038151230675875,
          6.890691763469223,
          1.534886094103748,
          -0.8543361933543774,
          2.2886277571639573,
          16.96945806042899,
          0.23199837737715345,
          14.722264403776135,
          10.70674723954116,
          -0.6084460024866847,
          20.30280319277523,
          2.6389012239647767,
          2.4413623372428845,
          -3.8042178861722973,
          -0.11323133523317959,
          0.36102358158490905,
          8.639467677048632,
          0.02188920864842431,
          7.719147502524338,
          16.18932502442684,
          7.270125504914349,
          1.1411792852069889,
          0.034263750592157124,
          6.718771306908868,
          4.046543129880722,
          10.823114913640538,
          -1.7084514631716097,
          -0.08759065840818711,
          0.46747919372110713,
          -0.21318063757070457,
          3.0213932605931713,
          0.47885467096270756,
          -0.37340715640254313,
          8.875566019254165,
          1.776048023514914,
          -1.6528895880474788,
          3.6399695660005738,
          -0.05188046485155995,
          3.118073183316327,
          11.70054257130463,
          5.608568208637557,
          4.477636434856841,
          0.794147311356981,
          0.8353167891302372,
          18.097640736967065,
          10.094924387888664,
          0.6061456986091937,
          3.671854835211762,
          7.308656725447804,
          -2.120594349243467,
          -1.2823718857306803,
          5.9862767265080725,
          7.527527557426617,
          -0.813629436821112,
          2.8817234019439613,
          5.438219780427838,
          16.284662134599902,
          5.8817494792041005,
          17.854885830537697,
          16.145991699861842,
          3.0206761731454237,
          3.2160574016852665,
          -4.645831199477738,
          -0.6087026568546083,
          9.923356635158665,
          4.075740673630318,
          10.451982557918356,
          2.1510382901028433,
          4.222425795287042,
          12.709152404056358,
          0.36231735508685087,
          11.203946530930113,
          0.20964000205542382,
          13.980471293382799,
          0.3087503313158022,
          9.703531532318449,
          3.23440252510711,
          12.232272390505738,
          3.8661427305208558,
          -2.771002116949061,
          7.956149232214425,
          2.481858705200587,
          1.408148914603859,
          13.092742157048425,
          1.5758684138527794,
          4.380662961519525,
          5.493647644962756,
          5.300981040821718,
          -0.21272657845816864,
          11.599975445760798,
          2.7386244879686394
         ],
         "y": [
          0.6272236420048498,
          0.384124396319376,
          1.8866204002940372,
          -1.6558686055915388,
          0.6092325244263376,
          3.1460868825877513,
          1.6722057108660922,
          1.2126722903747431,
          8.453728884699943,
          6.578509682885261,
          1.9291434334637498,
          1.0040059309009395,
          8.267769964542408,
          -0.9643369487504269,
          0.7726271415700293,
          -2.5522173302127276,
          1.6041913618334631,
          0.5716256870310618,
          0.550291798206398,
          0.25752498992614015,
          0.7995794857893114,
          0.6041029071860097,
          -1.3288005954434579,
          -1.5448057337774381,
          -0.014971407795940079,
          2.9681396803335525,
          2.0346659144238637,
          0.9432147661044697,
          1.2362707834118825,
          0.3795777054006481,
          -0.050957799396791716,
          -2.0845374039512974,
          -0.6326769683445752,
          -1.06290659884586,
          -0.8978085716737871,
          0.11605713240425815,
          2.523221050431429,
          -0.5578845174947267,
          -1.678513110423279,
          0.7838856500180517,
          3.8115601683396156,
          0.6098372858539329,
          -0.49445901860432334,
          4.967726561845439,
          0.23966243524478187,
          2.1019631547408077,
          -0.4251084525087706,
          -1.401886393180298,
          -0.7409947065768703,
          4.27332053465865,
          -0.40253219372074317,
          1.067046991522917,
          -0.34573594253529893,
          -1.822809622703199,
          2.6256922510003395,
          1.3337428531293143,
          -2.9700293624557226,
          0.029415821631884633,
          -0.22519104447887023,
          3.9124603706945016,
          1.0636083991611753,
          0.9848178045255092,
          1.1691665499912485,
          0.5738771141795902,
          2.2470628451563486,
          0.7863000766313512,
          -0.2418599713816135,
          -0.3539353827801165,
          0.2535235066845037,
          0.5962375333889632,
          -0.46513856880833426,
          -1.526482712983194,
          0.845504618019371,
          0.17244435450526663,
          -0.9459996423256848,
          -0.06357031438168143,
          -0.8564434303901687,
          -0.8957954260341143,
          1.3092626472156361,
          11.414437085862083,
          4.654777588578304,
          -1.1924040525628354,
          -2.510028767272164,
          1.0787575575372528,
          0.5465536371837485,
          0.28614742864825743,
          1.6549351521073516,
          4.5180735275727955,
          -1.844925418826157,
          0.10650366606046353,
          0.5561630796331852,
          -0.981525971802547,
          2.6033258279040705,
          0.3427674665933468,
          1.0052491570378503,
          0.5829401990753247,
          2.8220122243744243,
          0.12653422060702083,
          0.15430803681264849,
          0.2500516935944417,
          0.9040598601483641,
          -0.5013340576277024,
          0.7630540181016328,
          -1.6731577881922386,
          1.0915825076358134,
          0.8387339218701559,
          0.6223889583777862,
          -0.4309162320373758,
          0.8034126432140096,
          1.2422550039060722,
          -2.0534422521458033,
          2.7926438075016993,
          0.7929971910723078,
          -2.9697354186384572,
          0.13055744431573335,
          0.7491792601077323,
          -0.22453944390155375,
          0.9968096991184912,
          0.2516888425294777,
          1.5282020426864698,
          10.665755881705213,
          -0.03183262689869972,
          -1.593265934630214,
          1.8743748356055017,
          4.069586990298314,
          0.17166508663435592,
          1.7403236609725101,
          0.3687491382778807,
          2.990299281947974,
          -0.11233088573571433,
          0.18641452167858902,
          2.3596763179431544,
          0.41903375935654313,
          0.18116157683789944,
          1.899555618926317,
          0.37398854690562483,
          0.020533821907487395,
          -0.49359844352117693,
          -1.395996818157116,
          0.43797148382257206,
          2.6302009606887156
         ],
         "z": [
          -0.6293004474357645,
          -0.3342012457397868,
          -0.24265665690907845,
          -0.4946795009974353,
          -0.504389529410166,
          -1.0219370714390676,
          0.04262856489679113,
          -0.4567882716284844,
          1.657879893692014,
          0.07938884037180842,
          -0.7128567253894658,
          -0.5500013098947526,
          1.0699452676412107,
          0.1713703838912628,
          0.5868622845156537,
          -1.1279387769267826,
          -1.164288243137005,
          2.105628932027221,
          -0.6903596231832001,
          0.004375599898726357,
          -1.1271854392414216,
          0.947435543924888,
          -0.5651572421111677,
          -0.08237388959701497,
          0.34009878367711655,
          -0.7174254299755114,
          -1.4155332033472106,
          -0.5010510635174131,
          -0.05690838453355379,
          0.7502165319138517,
          -0.065399354281185,
          -0.14036875115237607,
          0.9885108776566971,
          -1.1260812521292836,
          -0.8912078959541766,
          1.07511259650162,
          -0.5317463084637128,
          0.056546554289744075,
          0.4470756441881869,
          -0.42442193991571153,
          0.4873226020076738,
          0.27689824727399265,
          -1.4650493131840403,
          -0.848786338086694,
          -0.4399234776408775,
          -0.4141653361145651,
          0.5824054690879801,
          -0.36765197106331166,
          -0.7617526922910691,
          -0.3173440988722388,
          -0.711835391509937,
          -0.6758681396399348,
          -1.1195739787136711,
          -0.02639222278523116,
          0.4924634440756097,
          1.0651869910857772,
          -0.20950839571215668,
          1.5392275158161348,
          0.1483597819495348,
          0.6707172231000911,
          1.8367627705848113,
          -1.216593152947087,
          -0.34888423152676423,
          0.14694815502374364,
          -0.6549719448492901,
          -1.731407132708129,
          -0.714097770835976,
          0.008061415366951721,
          0.1568890552338659,
          1.158110404320731,
          0.48686114810518144,
          1.3457755347777067,
          0.15494446026404304,
          0.8687946162915245,
          -0.7238441531493089,
          1.0621739287887186,
          -0.7667913142326823,
          -0.7806982911646242,
          -0.9686761706879281,
          2.1461556766858956,
          -0.6914151269384918,
          -1.2910489193535388,
          -0.3717167997101523,
          0.5966916109455938,
          -0.9792283737105439,
          0.2535586800622299,
          -1.3218665797694027,
          0.5003877459970032,
          0.9960609734971718,
          0.17198512411584807,
          -0.23677651911690847,
          0.6322396277481843,
          -0.9513127140646953,
          -1.3034379458190901,
          1.7567525001638753,
          1.7236581370266038,
          -0.11084197840289935,
          0.0008587313037127835,
          -1.1591435170181446,
          -0.9517390767595456,
          -0.8318927531431601,
          -0.3839596358360368,
          0.036966768015737186,
          -0.43869006157587453,
          -0.706040195668541,
          -1.1920199897054717,
          0.9883398974204146,
          -0.7371729701059986,
          1.2157246841966125,
          2.060216529183682,
          -0.20914625840328058,
          -0.4325056585117067,
          0.4884561478161235,
          0.042770424120491896,
          -0.6288856452489691,
          -1.3025014639369266,
          -0.028103995405046402,
          -0.8290109516053892,
          -0.9618702673012874,
          0.9214209179476311,
          1.1071468904942956,
          1.2281040312500902,
          -0.4033190077671042,
          0.903313641662866,
          -1.0000747959461425,
          0.2011594852391867,
          -1.3781278638292334,
          0.5956850447216674,
          -0.7925188241318906,
          0.07627215854078101,
          0.17267164693165965,
          -0.8265277150324001,
          -0.21928245348487418,
          1.522670665463199,
          -1.2005750025895996,
          -0.6005413937448023,
          -0.7221875486373285,
          -0.19443462392739386,
          0.2879942049840498,
          0.8889976284039809,
          -1.0627796600992105
         ]
        },
        {
         "hoverlabel": {
          "namelength": 0
         },
         "hovertemplate": "source=ABC (Australia)<br>pc1=%{x}<br>pc3=%{y}<br>pc5=%{z}",
         "legendgroup": "source=ABC (Australia)",
         "marker": {
          "color": "khaki",
          "symbol": "circle"
         },
         "mode": "markers",
         "name": "source=ABC (Australia)",
         "scene": "scene",
         "showlegend": true,
         "type": "scatter3d",
         "x": [
          -0.178629249151963,
          2.751205101995317,
          -0.5864302277758016,
          1.6189412768235647,
          -0.7863943326741417,
          -0.7831916935593689,
          -0.3390836942225261,
          0.8312679141926453,
          0.7274040792038756,
          -0.14680237248947686,
          -0.22886918350200242,
          0.3103646288303839,
          0.7448890151399827,
          -1.2606515621910663,
          0.42776169306591016,
          0.03677369623734968,
          0.1711791222166901,
          -0.7913116438542376,
          -1.422970340863536,
          -0.22595196398293996,
          -0.47113538927426096,
          -0.810388975662402,
          -0.7900071989267634,
          -0.9602039515063228,
          -0.999310383154853,
          -0.5671155810743975,
          -0.7831916935593689,
          -0.7775498179908485,
          -0.8773671966339253,
          -0.27664116222966595,
          -2.273173479863289,
          0.6360010986408076,
          -0.7854362865212812,
          0.4617223430248918,
          -0.8132200974173522,
          -0.8715704341336648,
          -0.7893628557834689,
          1.76608730777199,
          -0.7789783361098903,
          -1.0029729265547118,
          -0.7893289942129662,
          -0.08291591939819451,
          -0.025517569835977704,
          -0.7894625259897785,
          -0.7897391259669821,
          1.519017164092168,
          -0.7757213392880902,
          -1.5048160838212592,
          -0.8071712286204755,
          -0.7842657578010628,
          1.5218513025322165,
          -1.458739813675734,
          -0.42817247159577093,
          -1.2278164965037024,
          -0.8063810442276491,
          -4.736916687017644,
          -0.8059275543850009,
          -0.7831916935593689,
          -0.5332192965572519,
          -0.7024081837481355,
          0.49204848386148997,
          -1.2488286975420793,
          -0.7813425756949098,
          7.747098146610826,
          -0.7685602998587806,
          -5.1770930573164105,
          0.8147046549716893,
          -0.6246004930644536,
          -0.8021296484497731,
          1.6558108792973725,
          1.4528045147258855,
          -1.0147115949860486,
          -0.8011552544143891,
          -0.7738722214236309,
          -0.2070587561347373,
          -0.8026428442635773,
          -0.7747113924562424,
          -0.7759149941417696,
          -8.441204178424671,
          -0.7860156225649239,
          -0.5230426428114785,
          -0.2273038042299515,
          -1.1947477711234427,
          0.705495159034147
         ],
         "y": [
          -1.189199261387558,
          -1.5053709927659864,
          4.129540635053392,
          0.3141405193173921,
          -1.9671057534939902,
          -1.9285988438848873,
          -2.691235271975621,
          -2.15196705034951,
          -2.9978887953697795,
          -3.6391597786150736,
          3.7204155197439954,
          -0.7979645036636538,
          -0.8433026898605752,
          -3.7709069002329936,
          -1.406814534090432,
          6.882584185488491,
          5.853558953737462,
          -2.0209749337566825,
          1.9443178564922425,
          0.19935519031175047,
          -0.4192385131335569,
          -2.1314219344524195,
          -1.3280522868500697,
          -3.4102722468439928,
          2.542452168097148,
          -1.9163391680288704,
          -1.9285988438848873,
          0.4226556947982861,
          -2.4393576587185652,
          2.935072159215478,
          2.318968653087434,
          -1.7425696239612378,
          -1.9576920197963903,
          -2.0200627267596922,
          -2.4278681105804694,
          -2.4406175225500673,
          -1.9988046721874515,
          -0.1966510453472396,
          -1.8879307262668388,
          0.3933130827045916,
          -2.0106600088693747,
          -1.9797743776055714,
          -3.3301088487666837,
          -1.9958140271084526,
          -2.001751144701407,
          -2.587889021646495,
          -1.8436128412028348,
          -1.181849294047618,
          -2.2128682546811596,
          -1.9366933295905047,
          0.2394193649908788,
          2.9029949960701624,
          0.11819939638654749,
          0.6673595359071344,
          -2.191973570167901,
          1.019874598141509,
          -2.187251895525915,
          -1.9285988438848873,
          1.8660328621615239,
          -0.6537284684392305,
          -0.4851337515164098,
          -1.1008462449058403,
          -1.9034379372366577,
          2.172657973544106,
          0.8498506765625782,
          2.0297406723565015,
          -1.2480012733913908,
          1.6495955311559007,
          -2.1399207273084553,
          -0.21961001002324537,
          -0.6439757011118796,
          -4.082837399315722,
          -2.1288355965238397,
          -1.8184519345546057,
          0.8627262564152429,
          -2.1599443378474117,
          -1.8298705165818843,
          -1.8462478985937452,
          3.390668620565661,
          -1.9670239845725934,
          -2.1664769389828065,
          1.2734698542359857,
          -3.4046905319614718,
          -0.9809126451935343
         ],
         "z": [
          -0.966302537881104,
          -0.8818933930994739,
          0.5183590821085907,
          -1.1214534031218717,
          1.1566425329366168,
          0.9967129624504943,
          0.20838743444803454,
          -0.3134471223394358,
          0.2467683258361465,
          0.19151560165707404,
          0.14545701251441398,
          0.003506719181571008,
          0.03522855143013089,
          0.5190920472261669,
          -0.682138360190647,
          0.2453289994035801,
          0.4101628385931109,
          1.026303174868905,
          -0.5592085333918875,
          -0.5840994846336367,
          -1.1945261597743797,
          0.692426519673517,
          0.07610101149757977,
          -0.0983322412913762,
          -0.8753783418611515,
          -0.5189894787797513,
          0.9967129624504943,
          -0.40340611088609424,
          0.12611504379053318,
          -0.39736772409233595,
          -0.989774579507472,
          -0.8822051590606228,
          1.259422919188475,
          -0.802275676608367,
          0.015730262029015677,
          -0.44157975793476334,
          1.0192015238884866,
          -0.9730015479840504,
          1.5011119755407245,
          -0.8255187663851336,
          1.8948085811468938,
          -0.13495128876002688,
          -0.2130003549227311,
          0.7244816482081355,
          0.925123821974505,
          -0.09274769591929735,
          0.9694899670255567,
          0.027560202959210498,
          1.9045407995606125,
          0.7055439122603525,
          -0.11966831860155205,
          -0.8148411432634193,
          -0.3947314133253122,
          -1.1342513149384013,
          1.0499234209682407,
          -0.2890300793780829,
          1.079565557222044,
          0.9967129624504943,
          -0.2051486477960416,
          0.7162785509508838,
          -0.045267569254588136,
          0.047960749028684524,
          0.6948914357897252,
          -0.2412140204429044,
          -0.30043535283813905,
          0.4661484804448119,
          0.12965591702326856,
          0.3292437683497774,
          0.7706423795808561,
          -1.0235340357402107,
          -1.1653612409423373,
          0.025116424857531926,
          0.7670915540906466,
          0.6676684403647876,
          -0.8420494177705588,
          1.7873740779877063,
          0.8046417978020876,
          1.0010992033572408,
          1.6989001636044079,
          1.4576476492112624,
          -0.8767933532074602,
          -0.6092188543183572,
          0.15463137522673123,
          -0.6993176025948837
         ]
        }
       ],
       "layout": {
        "height": 600,
        "legend": {
         "tracegroupgap": 0
        },
        "margin": {
         "t": 60
        },
        "scene": {
         "domain": {
          "x": [
           0,
           0.98
          ],
          "y": [
           0,
           1
          ]
         },
         "xaxis": {
          "title": {
           "text": "pc1"
          }
         },
         "yaxis": {
          "title": {
           "text": "pc3"
          }
         },
         "zaxis": {
          "title": {
           "text": "pc5"
          }
         }
        },
        "template": {
         "data": {
          "bar": [
           {
            "error_x": {
             "color": "#2a3f5f"
            },
            "error_y": {
             "color": "#2a3f5f"
            },
            "marker": {
             "line": {
              "color": "#E5ECF6",
              "width": 0.5
             }
            },
            "type": "bar"
           }
          ],
          "barpolar": [
           {
            "marker": {
             "line": {
              "color": "#E5ECF6",
              "width": 0.5
             }
            },
            "type": "barpolar"
           }
          ],
          "carpet": [
           {
            "aaxis": {
             "endlinecolor": "#2a3f5f",
             "gridcolor": "white",
             "linecolor": "white",
             "minorgridcolor": "white",
             "startlinecolor": "#2a3f5f"
            },
            "baxis": {
             "endlinecolor": "#2a3f5f",
             "gridcolor": "white",
             "linecolor": "white",
             "minorgridcolor": "white",
             "startlinecolor": "#2a3f5f"
            },
            "type": "carpet"
           }
          ],
          "choropleth": [
           {
            "colorbar": {
             "outlinewidth": 0,
             "ticks": ""
            },
            "type": "choropleth"
           }
          ],
          "contour": [
           {
            "colorbar": {
             "outlinewidth": 0,
             "ticks": ""
            },
            "colorscale": [
             [
              0,
              "#0d0887"
             ],
             [
              0.1111111111111111,
              "#46039f"
             ],
             [
              0.2222222222222222,
              "#7201a8"
             ],
             [
              0.3333333333333333,
              "#9c179e"
             ],
             [
              0.4444444444444444,
              "#bd3786"
             ],
             [
              0.5555555555555556,
              "#d8576b"
             ],
             [
              0.6666666666666666,
              "#ed7953"
             ],
             [
              0.7777777777777778,
              "#fb9f3a"
             ],
             [
              0.8888888888888888,
              "#fdca26"
             ],
             [
              1,
              "#f0f921"
             ]
            ],
            "type": "contour"
           }
          ],
          "contourcarpet": [
           {
            "colorbar": {
             "outlinewidth": 0,
             "ticks": ""
            },
            "type": "contourcarpet"
           }
          ],
          "heatmap": [
           {
            "colorbar": {
             "outlinewidth": 0,
             "ticks": ""
            },
            "colorscale": [
             [
              0,
              "#0d0887"
             ],
             [
              0.1111111111111111,
              "#46039f"
             ],
             [
              0.2222222222222222,
              "#7201a8"
             ],
             [
              0.3333333333333333,
              "#9c179e"
             ],
             [
              0.4444444444444444,
              "#bd3786"
             ],
             [
              0.5555555555555556,
              "#d8576b"
             ],
             [
              0.6666666666666666,
              "#ed7953"
             ],
             [
              0.7777777777777778,
              "#fb9f3a"
             ],
             [
              0.8888888888888888,
              "#fdca26"
             ],
             [
              1,
              "#f0f921"
             ]
            ],
            "type": "heatmap"
           }
          ],
          "heatmapgl": [
           {
            "colorbar": {
             "outlinewidth": 0,
             "ticks": ""
            },
            "colorscale": [
             [
              0,
              "#0d0887"
             ],
             [
              0.1111111111111111,
              "#46039f"
             ],
             [
              0.2222222222222222,
              "#7201a8"
             ],
             [
              0.3333333333333333,
              "#9c179e"
             ],
             [
              0.4444444444444444,
              "#bd3786"
             ],
             [
              0.5555555555555556,
              "#d8576b"
             ],
             [
              0.6666666666666666,
              "#ed7953"
             ],
             [
              0.7777777777777778,
              "#fb9f3a"
             ],
             [
              0.8888888888888888,
              "#fdca26"
             ],
             [
              1,
              "#f0f921"
             ]
            ],
            "type": "heatmapgl"
           }
          ],
          "histogram": [
           {
            "marker": {
             "colorbar": {
              "outlinewidth": 0,
              "ticks": ""
             }
            },
            "type": "histogram"
           }
          ],
          "histogram2d": [
           {
            "colorbar": {
             "outlinewidth": 0,
             "ticks": ""
            },
            "colorscale": [
             [
              0,
              "#0d0887"
             ],
             [
              0.1111111111111111,
              "#46039f"
             ],
             [
              0.2222222222222222,
              "#7201a8"
             ],
             [
              0.3333333333333333,
              "#9c179e"
             ],
             [
              0.4444444444444444,
              "#bd3786"
             ],
             [
              0.5555555555555556,
              "#d8576b"
             ],
             [
              0.6666666666666666,
              "#ed7953"
             ],
             [
              0.7777777777777778,
              "#fb9f3a"
             ],
             [
              0.8888888888888888,
              "#fdca26"
             ],
             [
              1,
              "#f0f921"
             ]
            ],
            "type": "histogram2d"
           }
          ],
          "histogram2dcontour": [
           {
            "colorbar": {
             "outlinewidth": 0,
             "ticks": ""
            },
            "colorscale": [
             [
              0,
              "#0d0887"
             ],
             [
              0.1111111111111111,
              "#46039f"
             ],
             [
              0.2222222222222222,
              "#7201a8"
             ],
             [
              0.3333333333333333,
              "#9c179e"
             ],
             [
              0.4444444444444444,
              "#bd3786"
             ],
             [
              0.5555555555555556,
              "#d8576b"
             ],
             [
              0.6666666666666666,
              "#ed7953"
             ],
             [
              0.7777777777777778,
              "#fb9f3a"
             ],
             [
              0.8888888888888888,
              "#fdca26"
             ],
             [
              1,
              "#f0f921"
             ]
            ],
            "type": "histogram2dcontour"
           }
          ],
          "mesh3d": [
           {
            "colorbar": {
             "outlinewidth": 0,
             "ticks": ""
            },
            "type": "mesh3d"
           }
          ],
          "parcoords": [
           {
            "line": {
             "colorbar": {
              "outlinewidth": 0,
              "ticks": ""
             }
            },
            "type": "parcoords"
           }
          ],
          "scatter": [
           {
            "marker": {
             "colorbar": {
              "outlinewidth": 0,
              "ticks": ""
             }
            },
            "type": "scatter"
           }
          ],
          "scatter3d": [
           {
            "line": {
             "colorbar": {
              "outlinewidth": 0,
              "ticks": ""
             }
            },
            "marker": {
             "colorbar": {
              "outlinewidth": 0,
              "ticks": ""
             }
            },
            "type": "scatter3d"
           }
          ],
          "scattercarpet": [
           {
            "marker": {
             "colorbar": {
              "outlinewidth": 0,
              "ticks": ""
             }
            },
            "type": "scattercarpet"
           }
          ],
          "scattergeo": [
           {
            "marker": {
             "colorbar": {
              "outlinewidth": 0,
              "ticks": ""
             }
            },
            "type": "scattergeo"
           }
          ],
          "scattergl": [
           {
            "marker": {
             "colorbar": {
              "outlinewidth": 0,
              "ticks": ""
             }
            },
            "type": "scattergl"
           }
          ],
          "scattermapbox": [
           {
            "marker": {
             "colorbar": {
              "outlinewidth": 0,
              "ticks": ""
             }
            },
            "type": "scattermapbox"
           }
          ],
          "scatterpolar": [
           {
            "marker": {
             "colorbar": {
              "outlinewidth": 0,
              "ticks": ""
             }
            },
            "type": "scatterpolar"
           }
          ],
          "scatterpolargl": [
           {
            "marker": {
             "colorbar": {
              "outlinewidth": 0,
              "ticks": ""
             }
            },
            "type": "scatterpolargl"
           }
          ],
          "scatterternary": [
           {
            "marker": {
             "colorbar": {
              "outlinewidth": 0,
              "ticks": ""
             }
            },
            "type": "scatterternary"
           }
          ],
          "surface": [
           {
            "colorbar": {
             "outlinewidth": 0,
             "ticks": ""
            },
            "colorscale": [
             [
              0,
              "#0d0887"
             ],
             [
              0.1111111111111111,
              "#46039f"
             ],
             [
              0.2222222222222222,
              "#7201a8"
             ],
             [
              0.3333333333333333,
              "#9c179e"
             ],
             [
              0.4444444444444444,
              "#bd3786"
             ],
             [
              0.5555555555555556,
              "#d8576b"
             ],
             [
              0.6666666666666666,
              "#ed7953"
             ],
             [
              0.7777777777777778,
              "#fb9f3a"
             ],
             [
              0.8888888888888888,
              "#fdca26"
             ],
             [
              1,
              "#f0f921"
             ]
            ],
            "type": "surface"
           }
          ],
          "table": [
           {
            "cells": {
             "fill": {
              "color": "#EBF0F8"
             },
             "line": {
              "color": "white"
             }
            },
            "header": {
             "fill": {
              "color": "#C8D4E3"
             },
             "line": {
              "color": "white"
             }
            },
            "type": "table"
           }
          ]
         },
         "layout": {
          "annotationdefaults": {
           "arrowcolor": "#2a3f5f",
           "arrowhead": 0,
           "arrowwidth": 1
          },
          "colorscale": {
           "diverging": [
            [
             0,
             "#8e0152"
            ],
            [
             0.1,
             "#c51b7d"
            ],
            [
             0.2,
             "#de77ae"
            ],
            [
             0.3,
             "#f1b6da"
            ],
            [
             0.4,
             "#fde0ef"
            ],
            [
             0.5,
             "#f7f7f7"
            ],
            [
             0.6,
             "#e6f5d0"
            ],
            [
             0.7,
             "#b8e186"
            ],
            [
             0.8,
             "#7fbc41"
            ],
            [
             0.9,
             "#4d9221"
            ],
            [
             1,
             "#276419"
            ]
           ],
           "sequential": [
            [
             0,
             "#0d0887"
            ],
            [
             0.1111111111111111,
             "#46039f"
            ],
            [
             0.2222222222222222,
             "#7201a8"
            ],
            [
             0.3333333333333333,
             "#9c179e"
            ],
            [
             0.4444444444444444,
             "#bd3786"
            ],
            [
             0.5555555555555556,
             "#d8576b"
            ],
            [
             0.6666666666666666,
             "#ed7953"
            ],
            [
             0.7777777777777778,
             "#fb9f3a"
            ],
            [
             0.8888888888888888,
             "#fdca26"
            ],
            [
             1,
             "#f0f921"
            ]
           ],
           "sequentialminus": [
            [
             0,
             "#0d0887"
            ],
            [
             0.1111111111111111,
             "#46039f"
            ],
            [
             0.2222222222222222,
             "#7201a8"
            ],
            [
             0.3333333333333333,
             "#9c179e"
            ],
            [
             0.4444444444444444,
             "#bd3786"
            ],
            [
             0.5555555555555556,
             "#d8576b"
            ],
            [
             0.6666666666666666,
             "#ed7953"
            ],
            [
             0.7777777777777778,
             "#fb9f3a"
            ],
            [
             0.8888888888888888,
             "#fdca26"
            ],
            [
             1,
             "#f0f921"
            ]
           ]
          },
          "colorway": [
           "#636efa",
           "#EF553B",
           "#00cc96",
           "#ab63fa",
           "#FFA15A",
           "#19d3f3",
           "#FF6692",
           "#B6E880",
           "#FF97FF",
           "#FECB52"
          ],
          "font": {
           "color": "#2a3f5f"
          },
          "geo": {
           "bgcolor": "white",
           "lakecolor": "white",
           "landcolor": "#E5ECF6",
           "showlakes": true,
           "showland": true,
           "subunitcolor": "white"
          },
          "hoverlabel": {
           "align": "left"
          },
          "hovermode": "closest",
          "mapbox": {
           "style": "light"
          },
          "paper_bgcolor": "white",
          "plot_bgcolor": "#E5ECF6",
          "polar": {
           "angularaxis": {
            "gridcolor": "white",
            "linecolor": "white",
            "ticks": ""
           },
           "bgcolor": "#E5ECF6",
           "radialaxis": {
            "gridcolor": "white",
            "linecolor": "white",
            "ticks": ""
           }
          },
          "scene": {
           "xaxis": {
            "backgroundcolor": "#E5ECF6",
            "gridcolor": "white",
            "gridwidth": 2,
            "linecolor": "white",
            "showbackground": true,
            "ticks": "",
            "zerolinecolor": "white"
           },
           "yaxis": {
            "backgroundcolor": "#E5ECF6",
            "gridcolor": "white",
            "gridwidth": 2,
            "linecolor": "white",
            "showbackground": true,
            "ticks": "",
            "zerolinecolor": "white"
           },
           "zaxis": {
            "backgroundcolor": "#E5ECF6",
            "gridcolor": "white",
            "gridwidth": 2,
            "linecolor": "white",
            "showbackground": true,
            "ticks": "",
            "zerolinecolor": "white"
           }
          },
          "shapedefaults": {
           "line": {
            "color": "#2a3f5f"
           }
          },
          "ternary": {
           "aaxis": {
            "gridcolor": "white",
            "linecolor": "white",
            "ticks": ""
           },
           "baxis": {
            "gridcolor": "white",
            "linecolor": "white",
            "ticks": ""
           },
           "bgcolor": "#E5ECF6",
           "caxis": {
            "gridcolor": "white",
            "linecolor": "white",
            "ticks": ""
           }
          },
          "title": {
           "x": 0.05
          },
          "xaxis": {
           "automargin": true,
           "gridcolor": "white",
           "linecolor": "white",
           "ticks": "",
           "zerolinecolor": "white",
           "zerolinewidth": 2
          },
          "yaxis": {
           "automargin": true,
           "gridcolor": "white",
           "linecolor": "white",
           "ticks": "",
           "zerolinecolor": "white",
           "zerolinewidth": 2
          }
         }
        }
       }
      },
      "text/html": [
       "<div>\n",
       "        \n",
       "        \n",
       "            <div id=\"d3c12019-acd4-4870-83f6-f54be4c23dbb\" class=\"plotly-graph-div\" style=\"height:600px; width:100%;\"></div>\n",
       "            <script type=\"text/javascript\">\n",
       "                require([\"plotly\"], function(Plotly) {\n",
       "                    window.PLOTLYENV=window.PLOTLYENV || {};\n",
       "                    \n",
       "                if (document.getElementById(\"d3c12019-acd4-4870-83f6-f54be4c23dbb\")) {\n",
       "                    Plotly.newPlot(\n",
       "                        'd3c12019-acd4-4870-83f6-f54be4c23dbb',\n",
       "                        [{\"hoverlabel\": {\"namelength\": 0}, \"hovertemplate\": \"source=SCMP<br>pc1=%{x}<br>pc3=%{y}<br>pc5=%{z}\", \"legendgroup\": \"source=SCMP\", \"marker\": {\"color\": \"darkslategrey\", \"symbol\": \"circle\"}, \"mode\": \"markers\", \"name\": \"source=SCMP\", \"scene\": \"scene\", \"showlegend\": true, \"type\": \"scatter3d\", \"x\": [-0.2981810559207194, -0.8758675369488218, -1.337581913775586, 0.39778537838334255, -0.1659134288714097, -1.0491289246340776, 0.024863712041256158, 1.3189510898919024, -0.9008406104670666, -1.7072090067606405, 0.19410619083301822, -0.5814664678249198, 2.2223207180689664, -1.436081249657607, 1.007926434933623, -0.356423889772755, -0.21364372512407462, -1.2731865215860965, -3.5325810541839813, -0.6495664103065037, -1.2819014864063103, 0.07342260166608712, 2.2873525105895163, -1.2983960237616912, -0.04458192692513036, -1.8816642572351223, -0.5050481954093292, -0.08773948735020033, -0.7343259900902014, -0.8015452003947922, -0.2619886799051913, -0.5867028608258972, -1.5692894989111115, -0.8955359553749402, -0.8982171395936115, -0.8097653796344172, -3.7098472004720477, -1.7187253192511878, -0.43090732004270993, -0.1419124631015559, -0.47855642828483835, -3.0377322460529292, 0.12837943888099848, 1.145553595996524, -4.652682247472346, -0.7667853180992503, 0.05467977233264052, -0.4045704839301529, -1.1666575659095444, -0.938513505694753, -2.1104267291083296, 2.4229375003068085, -0.6563322357023308, 0.43027599719815096, -0.8840818285045863, 2.9826638754616313, -0.20768027342127016, -3.154507060701428, -1.48904343338789, -0.8016591998604115, 7.325190474950164, -0.5910134551483714, -0.9141307789441828, -0.914098852317005, 0.5755551112271358, 1.7464754873980488, -0.8954394733151758, -0.8949118978179967, -2.5618588997906078, -5.5797642526082685, -0.3273966613807761, -1.5849203245673757, -3.533029787337445, -0.7293761835074758, 4.374871561432266, -0.8377907429115171, -0.3652432264860334, -0.5026738115509045, 0.2324539354245584, -1.5136414061560837, -0.8256995193541775, -2.330999807817079, -2.381321196785674, -5.210549727775988, 0.45328046806682265, -0.6226843512406577, -0.7076058241140055, 0.04430535503658174, 0.41535811926241967, -2.1192818849143866, 0.678657151155586, -1.8039097126437784, -1.0559203446759189, 2.094154717114485, -0.032495887656731955, -1.338017663085019, -0.09427665726814083, -0.4687020666984246, 0.3123682498591707, -1.493142098171012, -0.28614220506100724, -0.5561112838280029, 1.9535646185729543, -1.0592725304155666, 2.3367839434449706, -0.9709884554869186, 3.518484508297448, -0.3650546759490225, -0.8175636278702342, -0.7213518013882813, -0.7376216854747273, -0.6430470918463042, 0.683318239222311, 1.3980423154625718, -0.592793576434898, -1.7395087379096923, -1.1753184622704629, 2.1624137273225816, -0.8776773958880216, -2.810585977467192, 1.667244014365869, -0.6032460938299815, 0.9646963924627671, -0.35012017755277364, 0.9123717652920265, -0.8365224440653549, -0.668230138482609, -0.1649962906999385, 0.3605939753194501, -3.0539189272048444, -0.8987200498940457, -1.092162882517551, -0.8182968184787568, -0.762487997868113, -0.941859490480465, -0.772447461303165, -0.12867922908056514, -1.8148469695692973, -0.36405496738735077, 0.34140638047838623, -0.5936082053723898, -0.8884230891797245, 1.471489889645601, -3.8921823597094183, -2.078812994801531, -0.21735526402231936, -0.4909101096995061, -1.069666260865169, 5.913736941214061, -2.7820261081367357, -0.7990931091702645, -0.9390027467264065, -0.9229363147396596, -1.4163016879738253, 1.452558911717199, -0.522452840229538, 0.0212242836330976, -1.295016465133523, -2.2245709963188545, -0.9384455392128683, 0.10948307298059197, -0.8891722286196542, -0.6345912346394172, -0.5660708067870381, -0.8454242854923706, 2.099804574618551, 2.2635185298919263, -0.2454574349649342, -1.2467670487969222, -0.6233596106032676, 0.08894506776295262, -0.5035273939843314, 0.7164958882603488, -3.584127570383176, -4.23058543697553, -0.8893767158394698, 0.7581598259512707, -1.1263525041697622, 0.19510815533154002, -0.3099555227157279, 0.08796047291051054, 3.290075205288921, -0.9090418203602779, -3.876695962048473, -0.8516002656723813, 1.564008177323185, 0.09678453163918685, 0.11604582206165881, -0.9214019879976084, 0.9202223480963666, 0.8527251787545754, -2.08950038975235, -0.698426359401922, -0.6503331336220703, -2.0851224509772077, -0.4868391793056899, -3.62217057155392, -0.8156115252247899, -0.35833176442974546, -1.01649851802468, -0.8802320503942648, -3.7083268317389453, -0.38476843081310663, 2.6037509032259583, -0.25379084476737557, -0.19129478509458545, -1.3484289636037707, 4.691413398403527, -0.24130257622879697, 0.13377040530472856, -0.7727743920968305, 0.21399794814851342, -0.08308185644069262, 0.3637293840968574, -0.8501443540590307, -0.12294183471437282, -1.6539550359612625, -1.2934528984275735, -2.4620015015197136, -1.633435898602384, -1.0186500179425129, -0.713730975440514, -1.0031124116546284, -0.5779563129795862, 0.7288341303030277, -0.8170331206155114, -0.07654398041364954, 0.8420130358705027, -1.6141680940237841, -0.32336262418519846, 1.166570388177398, -0.2967803371666696, -1.5836601621259783, -0.720595161365325, 0.21624496498349996, -0.4514707630993196, -1.725777755003711, -0.7009035597443422, -0.7059738118398452, -1.693078684702703, -0.764210900639005, -0.14467617662141682, -1.1152153314314737, -0.8827421981087562, -0.9157977266906352, -1.025440419604989, -1.067413900357366, -0.30624099166346336, -0.6551302385633692, -2.6678616832989235, 3.94022521788987, -0.6961325226693262, -0.8982854847176112, -0.3145503325575332, -1.7869119002324643, -1.2032459502135533, -0.9991290387741975, 4.622398155277102, 1.4025093035065581, -2.4678898143972856, 3.9660699522113, 1.8612799552399737, 0.8381029686714442, -0.5332683993388925, -2.5732465774245443, -1.2067348204344932, -0.7666780290293098, 2.039226016386752, -1.0359917179480596, -0.7208339494106027, 1.5525685621444407, -0.9628307017841403, -0.8169616405766418, -3.4140703724332533, 1.9904373632813828, 4.260145941123714, -3.3874617143460597, -0.45782706585749056, -0.04662343645895046, -2.7026240334674263, 0.6497289995454506, 3.296801278405802, -0.49823034808823186, -0.9525218784969102, -0.9918968671766102, -0.761793185357464, -0.9170157463787155, -5.557581789433515, -2.4080422919091107, -0.180239910752285, 1.0209795025747908, -0.741168203600847, 2.4351492232964653, -0.21574557319584073, -0.21448537112035046, -0.9293819686490836, 0.24172152207864547, -2.202973924692608, -1.1756814823912871, 0.7835128295565176, -1.1385828527812574, -0.604813833376812, -1.0712456225099065, -0.8485137607192337, 2.679061782398736, 0.34142978405499874, 0.3432608659948127, -1.5141396754890908, -0.7741013572345635, -2.0775375795552624, -0.17509252117454793, 1.1571134682402915, 1.748787128831203, -0.3700902435440353, 3.1102634712238904, -0.581414744935415, -0.6257504958261745, -0.7153924914608107, -1.4100039989838231, -0.7700767327199448, -2.829989312234189, -1.3023063715554501, -0.3647430759184024, -1.6027203743767933, 0.051171142946045564, 0.8899364884300298, 0.13512463722535958, -4.238725385876025, 0.44634513624273126, -1.2496118064186252, 0.6004858482811369, -0.8392824095725273, 1.119473167619388, -0.5770095498076594, 1.1608767948491612, 0.8188711782385376, -0.733259945563964, -3.6492102421334986, -1.0614816795844866, -0.8329135078500343, 1.1445908881326763, 0.33729375157933844, 0.6091553117990849, -1.1118786372327716, -0.6910544274563208, -1.3438631102614127, -2.6874876360534223, -0.9934199468421194, -0.6147159354077356, -0.7670053524785634, -0.8583013108854626, -0.8576837565732262, -0.4612831567880592, -0.845690245949105, -0.2710603358380479, -2.2437753285478186, -0.8004082684873003, -1.1978779158373154, 2.1251555219558127, -1.0378290600272722, -0.2247515739393403, -0.6750297199427099, 0.23152267943893862, -0.8124049383099279, -0.8791442453346776, -1.662433576992861, -4.103768004323067, -1.7194682086819164, 3.0746824381280207, -4.747286363851039, -0.25247694314118224, -0.8619458528137128, -0.8299765265763955, -0.8327486534203905, -0.5927129604101357, -0.9398420661025081, 3.5694355744496558, -3.0199328823989267, -0.8751619539692949, 3.5370033069662097, -2.7241114385544045, 0.34280564387775536, 0.34408804666750525, -0.2912018113822364, -0.6601968806260436, -0.6311653912382288, 2.0968842148262294, -1.6563262665105098, -5.112235969833741, -2.2816745464481114, -0.16065684654226628, -0.931032954177202, -0.3197338277538508, -0.7745710160022429, -0.03070002451081992, -0.9007037219117333, 0.12584559157303674, -1.8535972937880747, -0.2989553654880178, 1.8882618436955645, 0.8493841018313607, -0.885599985854321, -0.7847967880029276, -0.31259184222872904, -0.21151003467626298, -0.11720812369325426, -0.41378615753490544, -0.14275328098966442, -2.2725989217212934, 0.27395553776686393, -0.8187643071715999, -0.8625303040362627, 2.7517079237101107, -0.665858146247613, -0.8061268878679385, -0.847268200276951, -0.15182074596731077, -1.7010131277900715, -2.542047437703992, -0.8757375703836056, -0.8057129319502451, -1.879474012743792, -1.871327337822348, -1.0592516721578458, -0.15174723992677358, -0.22934566137199064, 1.1072030535326285, 4.816476011843406, 0.19792256171634603, 0.12259817354437295, -1.4565436878554587, -1.948327405003065, -2.2413787293172454], \"y\": [0.14280850214970658, -1.3858797306628683, -0.8818277784227431, 2.1334677593131817, -1.6137722351664565, -1.2625098421218515, -1.2823993574265349, -1.1326669112858303, -3.0645399669614743, -0.7019722820446794, -2.076477287306974, 2.0276818907929144, -0.9683786159513535, -2.0729197410139575, -1.546018781697375, -0.8232131152215862, -2.650676390074184, -0.2665564950632144, 0.39161188976064654, -3.289646152843218, -0.17392227254468592, -0.1694857443860667, -0.45928301420953754, -0.8036552622028501, -2.1872862234866193, 0.3495779542283421, 3.873084618425275, -1.3589464796428086, -0.8505961155800188, -1.884418596051425, 1.2708672845597428, -0.30034866541636046, -1.4170805824010673, -2.9967064956687435, -0.5986653267081855, -2.010064016867301, 0.9609226171051771, -0.5282421569931379, -1.0104892816116156, -3.102660255659767, 4.44591520431669, -0.19234849031996443, -0.4844590866267689, 0.015568026001822008, 1.6654291626120004, -2.270102570234825, -2.2235920379658, -1.1168724602611333, -1.5758401729869966, -3.493839505918686, -0.650292355033484, -1.3008175474287174, 2.55929326341328, 3.1675476385667314, -2.868380524227832, -0.5786592412143622, 0.0511649578964301, 0.3331508562914235, -1.7654936458409358, -0.009094733334385688, 0.31907938835260263, 1.4056839081998476, -1.936564295666733, -0.16568119995550554, -1.098965008872259, -0.8408167740958359, 0.1521660112323798, -1.6912315481731408, 1.6019495710101954, 1.6987664494346915, -0.18543668678012626, 1.641166506871895, 0.45518347513051005, -0.30449375835853043, 1.7450314557094029, -2.263636562100892, -1.180999650215179, 3.73971685051739, -0.3328736275885301, -1.4139604397568326, -2.0328178003676984, 0.2729533894257572, -0.5280910058862254, 1.158311536103635, -1.0338114326714718, 0.7623630786943957, -0.10649391193145066, -2.062882559061712, -1.8932272209157566, 0.352388027162579, 1.7175045161983278, -1.277542150161212, -1.9860156706892815, -1.594334155289208, -0.6504016156648863, 1.99811030688224, -2.438448132382439, 1.6853194008228216, -0.8589330704682812, -0.25561030046425925, 0.22153933767655604, 0.08838887987660737, -0.6000797290039012, -1.598841665593077, -0.35989113281249424, -3.7583330435548206, 0.8467102039232962, -0.3307509923414548, -3.212566622217677, -0.5120368482305009, -0.9758403874822548, -1.3050508847422648, -0.5160667206725889, -1.2458075124588284, 1.7135775241328735, -0.5913378209057674, -1.3457075928684135, -1.5907369341336373, -2.7986229702687537, -0.08698829521533387, 0.7936774430148792, 1.0509121774230472, -0.71858522070133, -1.827007405841606, 0.6856631376801662, -1.8556237953812509, 0.8178967282596327, -1.8652988463452616, -0.590760113249617, -0.15413322889781228, -0.6865721669484582, -0.6009324572043231, -1.5788659758856487, -1.2544857652771677, -2.20485753111793, -1.3389582779832927, -0.6986234961964083, -0.5515113213610212, 0.06626189960338971, 0.43770598227261787, 2.3803513132710155, -2.917309301380893, -0.8752346009853861, -0.11397990145920436, -0.9892768980079915, -2.5841773016879928, 3.8831086414913183, -1.2217452927873569, 0.500410537146783, 0.15247177276514426, -1.6606191693875403, -2.203665930600107, -3.2088131372479283, -1.2345770469913326, 0.10017230585041297, 0.18802489167017286, -0.26433931826266593, -0.9356286919268525, -1.2101672424923697, -2.0642588038710143, -0.7176900898520241, -2.813619340491537, 3.3545533685377014, 2.301342981086218, -2.4767063569977275, -0.36778413520706216, -1.4155801766192662, -2.3560258596675996, -0.9576210958148424, 2.1461911983956323, -0.08591673927379329, -2.1563797674766243, -0.25491450704837376, -0.21057951835972877, 0.9720207867060113, -0.09745059919870157, -0.0018300828151525026, -0.03137035863256504, 1.7428150512914702, 1.1626447305459824, 0.009114765715977117, -0.37280482493979333, -3.147154615891757, 0.5619032286090176, -2.468588256593876, -2.226799984675698, -0.629176461825361, -2.0942178595103567, -0.2352434861152249, -2.5762649778741245, 4.271591974390086, 0.7818920080423467, -0.22922846731400334, 1.1221696918572053, 0.35375349652798505, -1.6162915072705686, 0.3742229997710274, 2.530250150538787, -1.8490508044583303, 0.3735963829593197, -2.8239659119605336, 0.3078075574881927, 0.8609232870140966, 0.5504404989952442, -3.022433631278167, -1.7506365298980395, -1.7445565017367528, 0.33822834242131694, 2.9342514394695023, -1.1786467557309426, -2.102868269570013, 1.202321772328587, -2.8257822148367318, -1.0056619949401973, -1.097909891181499, -1.0932761311517678, 0.5138007303569002, -0.5318039083690119, 0.8174072966293928, -0.003780025074712235, -2.1224980312959016, 0.16650300824421754, -2.914282642033392, 2.3836615966583126, -0.7695143795656377, 0.4844241774668487, -2.046608565990973, -1.014026686315019, -0.7084721687277872, -0.5050912803517869, -1.2831068445097629, -0.0348205823392113, -1.3623847101543853, -0.01744668766106576, -2.6540730178071543, 0.8704061318423855, -1.414689935385499, -0.6799224540731762, 0.09912926865006833, 0.6996042094443333, -1.9870886512965171, 2.0192759277121333, -2.5374453511914776, -2.8552235338224246, -3.0744201139824545, -0.9733409078267123, -2.6446857095402745, -1.4815507975058637, 0.5299181200630902, -0.3691372341387805, 1.239841742414414, -0.6553596801666105, -3.0822448309099943, 0.32950581529501194, 1.0505148552388446, -2.648247999488858, -2.0162511848432896, -0.6499941383535147, -1.1126142521809816, 0.7213924807025172, -0.7317199627577181, -0.5373471456689161, -2.094142894641382, -1.8957306162109402, -0.8575712668508535, -1.9013690930281184, -1.49800281422998, 3.2448744273489303, -2.584932105616472, -0.23375787443569243, 1.017837373386478, -2.169409045376872, -0.92974161066044, 0.21286829139721425, -1.0279790966482165, 0.762170458284031, 0.7916430776504154, 4.280041069098022, -1.0290700438297864, -0.3596267991352025, -2.387077457905571, -1.1682505775242955, -2.0760323154296616, -3.588510171903732, -0.8044030323505532, -1.0180380215482596, -0.8963266213998239, 1.4817486115310572, -0.04323114399460383, -1.1127051580460559, 1.6899317241488556, -0.5895855007978771, -0.13182819342037316, -0.6792727705349075, -0.9735596566479602, -3.3862498252800064, -0.8108230394351416, 1.091367599459076, -1.3461683715246116, -0.33206734856183584, 3.5677208012895254, -1.7815873034114156, -1.6985089881579292, -2.5741150875286043, 0.09361810071713286, 2.5314115989616974, 1.3028036385676265, 0.5643652040953586, -1.4625798972977704, -0.2322868265573148, -2.3337300337870106, -0.5116344137632045, -0.9331312236962812, 2.242552394312075, -1.1754675977408438, -0.7239831762124513, -0.17050766895575178, -0.7835272942094104, -2.098176620951969, 1.2785635700311933, -0.25500316452426736, -0.1018872120451299, 0.2648153383159152, -2.035753222976453, -0.9136238442643011, -1.137339966581905, 1.3299618560687696, 1.347023433139461, 3.7838114454796594, -0.1151459443745037, -1.2146189210393443, -2.419608868700095, 0.06361884944572978, -1.8334216465780422, 0.08353665246282942, -0.7585717239926798, -1.0766215025448207, 1.0512822526489123, 0.6077395812280786, -2.1992595038916396, -1.7816332172490146, -0.7502115497559048, -0.5630820536776387, 1.3761943787375144, -0.16645355444526616, -0.5195573216653434, 0.055029230353249685, -0.31772061211915414, -1.057333641025101, -1.2820401264203414, -2.510333576731348, -2.414153724211406, -1.6066043966818915, -2.478151847453569, -1.2173381111700519, -0.059597530470012434, -1.712961326286442, -2.581234486857469, 0.798455297979088, -4.409297998430858, -1.6583865591178613, 0.2589744799683482, 4.308194578379062, -1.923143226960711, 3.6652921804170635, 0.26106046977127606, 0.44371358797061583, -0.23077221172563747, -1.7427542962914302, 0.5052031056268632, -0.3494399493381363, -2.3587745805900933, -2.3501339050657317, -0.410927592763962, 1.9296831887112023, -1.5807875251634527, -0.1876800181425176, -0.3601880300968969, -2.5985382578429874, -0.047811987998089805, -0.0504082493866611, 1.6706753200182445, 3.941840741455391, -1.049794606387767, 0.6300819165485428, -0.05799081134263438, 1.2370814547294855, -1.5036837883285965, 1.3031931493575042, -1.144566739445902, -1.4491396736741249, 2.1194589108024147, -1.1905058038601357, -1.3205853568942014, -1.9365510616251609, -3.115874207826879, 3.3320981588719145, 0.19772566871994796, -1.3576316990625343, 1.705434842405087, -0.9071764836698121, -2.940061511095695, -1.6322359252179532, -1.7684513632622958, -0.4739815211963943, -0.15154428035926162, -0.3741884746901143, 0.9986200522087613, -0.5483678039002632, -1.3896245431427665, -0.22493545365928708, -2.4717647296985157, 1.734958763574887, 0.8553244118110782, -2.0612000605514815, -1.7608398466781434, -1.6574179790999497, -0.5686104544725283, -0.845512849449823, -2.829047066709972, -1.9095353845503797, 0.26718162067873247, 2.276652835899069, 0.008584825815528585, 2.2300377673301806, -2.0941791603869278, -2.1116956015351636, -0.7878945922984439, 4.4935089623102815, -0.15976074978151608, -1.765517749244837, -0.5254228126231313, 0.4104116870867175], \"z\": [-0.30617469356888716, -0.42145454567225726, 0.14682691827278263, -0.05787099784683469, 0.8680742084538589, 0.2748593285045701, 0.474581168694992, 0.4609675686302187, 1.3831514316789977, 0.9479447400434947, 0.2368695910719822, 1.6418351082511942, -0.3359751513534162, 1.0496699611278173, -0.4081257685220557, 0.2951363282468334, 0.9609637304046792, -0.1333179078867823, -0.08472916133376358, 0.5629121790733891, -0.33268974787387523, 0.7145074722691463, -0.7570448874028101, 1.2097214472528697, 0.4119641959319997, -0.13627140156637227, 1.5776919215564513, -0.9691213757428364, 1.346216032649106, 1.4044649513125609, 0.715091499409154, -0.39912971252235974, -0.4580093763687332, 0.828289723254576, -0.6708125639210264, 0.4932348641490891, 1.0702755312675678, -0.3825427875920637, 1.0033883471094631, 0.510861759873435, 1.8532322242464057, -0.08905253167451427, 0.23839526424394233, -0.8720433652254587, 0.7493704219865216, -0.5023110254083412, 0.7993285891812901, 0.14980983688265603, 0.0404625041769589, 1.5716817247460997, -0.40055928910253047, 0.5499157760301702, -0.8402662594464775, 0.7119922720837155, 0.9282882961277108, 0.06435255878657528, 0.1417831599135615, 1.1563599636872692, 0.17387758401517728, -0.857401171637372, 0.5166248080853915, 0.4658469702652958, 0.17844426745636624, 0.33207927647947744, -0.4678161330601132, -0.25599044840879914, 0.5540768189982448, 0.1410122595510436, 0.3550157627107518, 0.6521730136702527, 0.6079555735995122, 0.9421708132253851, -0.29323118850962687, 0.9430481905361449, -0.36881492173952224, 0.7011932317553247, -0.30980709789185046, 0.2057350309237359, 1.0608378823742382, 0.2525237644481158, 0.9608014861847931, -1.0776293250582636, 0.2438809301428312, 1.498661688716906, -0.3036377219576127, 0.5946856288387303, 1.463791298541345, 0.779246794469168, 1.077591124382758, -0.26162433412699126, 0.3462234911472869, -0.3038503301571848, 0.10905318284470784, 0.4909208247561102, -0.7763107955424358, 1.486373642693292, 0.7907995240224417, -0.6586386357168756, -0.3378713968121711, -0.6060365122104164, -0.8793348880518003, -0.24022572473096787, 0.2907400934488878, -0.15821666254683384, -0.35540822078523177, 1.4032006417695333, 0.6204912316085448, 0.263713022568261, 0.1669345082213523, 0.16079064686375044, 0.17687545290759765, 0.47109157720674766, -0.7403600142788428, -0.7703299259226983, 0.8036206799355142, -0.22834237448750483, 1.0259389018123197, 0.27576121174613116, 1.1268813556512989, 1.0368242829943808, -0.10253353902748737, 0.4577059677021893, 0.257236209907402, 0.1908623853706509, -0.3676273219254449, -0.17571861802046826, 1.0291183939124275, 0.3332649931483885, -0.6786074757882177, -0.6297552288212901, 0.7324828575944735, 0.36932451688742657, 0.7045754420935526, 0.26680736957116313, 0.002080747682127444, 0.7875844001590021, -0.10869161075845007, 0.4156235732841688, 0.8002466715182801, -0.8308869982044552, 1.2374172499026408, 0.9112489941723809, 0.3216648449478728, 0.9299966710217554, -0.0844654769479959, -0.6184247402990702, 0.652101359561688, 0.35221406101033514, -0.7585000111800175, 0.6486045533106131, 0.4816835342427624, 0.4737916862571267, 1.0236332436906215, 1.2334095180453115, 0.4677478365039469, -0.9644728739896984, -0.8481802748762284, -0.8082827203288708, 0.4184243540758524, 0.65638298903524, -1.3054724517899932, 0.6109251824798642, 1.1962678099319455, 0.1608909681699654, 0.6184014590696314, 0.7796587604795067, -0.003567106585763295, 0.777191523855745, 1.1674589453553554, 0.04353851230942015, 0.11325877135326315, 0.12016629348387485, -1.2474846404804643, -0.20564072061075342, 0.7000350279180876, -0.1586248611624933, -0.36320233125907125, 0.11437179136404967, -0.07646691604879227, 0.12049105583358546, -0.8386755672917444, -0.21178729544071015, 0.6485339461785515, 0.8421237994451177, 0.7756335213785834, -0.046917137746692476, -0.14753999719142566, 0.8010696698084532, -0.4494489395172523, 0.3252891026151831, 0.8879260194684395, -0.3146666369000116, 0.8991040258225349, 1.0932437470757774, 0.7898989567678553, 0.8863334057508241, 0.4485658486894236, 0.09603384792236536, 0.2771626153008487, -0.2771787701994661, 0.8700553912018328, 0.10372017549498523, -0.1880185695951584, -0.029387574387447116, 0.661601312159923, 0.03048720256173288, 0.791864885812833, -0.446639487661751, 0.856101392853255, -0.9144701906759471, 0.7892768416479754, 0.007224140899460623, 0.09744323764419235, -1.1706214210389412, 0.03724386197022935, -0.865749453486143, -0.09249505379289297, 0.2451576307872673, 0.006925122070864264, -1.1760227409808766, -0.7146222118933862, 0.9577557932511731, 0.779995508323335, 0.9640591866759374, -0.3007684317865829, 0.23184090144517217, -0.42851494224967474, 0.3816698313393104, -0.8871686046088886, 0.6021052466658536, 0.5258904298379159, -0.9124902316596495, 0.41655034560529236, 0.7858056821482611, 0.6491208892893857, 0.10155923529234147, -0.2430969869044143, -0.6153529318934285, -0.05680877512329795, 0.11544378420515453, 0.20943579882971936, 0.5879442881944853, 1.173962989583072, 1.0724475814907053, 0.8038747891280172, 0.7434939883031867, 0.6203785690749439, 0.7101006065151558, 0.14739142030319327, -0.9083088824926667, 0.051719407881500847, -0.7278233413511107, 1.1091170827375496, -0.04795239881585356, 0.47046480123041273, 1.0241244212270757, -0.12172637266338057, 0.5268184461100005, 0.6654339889495873, -0.16195864159848378, 0.36479163878606435, 0.2116972206687205, 0.7328774392095859, 0.7868453932152464, 0.6287472389118139, 0.5550643707401524, 0.39094046003833005, 1.188103474891633, 0.5049618377067085, 0.6341758139139069, -1.5155249097453918, 0.9610983063109054, 0.07799158139698699, 0.016920305467165737, -0.07562624293594264, -0.411763020413011, -0.037056523108879864, 0.705767207523993, 0.17926175961935764, 0.5220990706032133, 0.35708322122591885, -0.42095273099810143, 0.22110431831319538, 0.6052827064898131, -0.1412996460362878, 0.6450742464635492, -0.3027067402626929, 1.6635988464984819, 0.22133560371179672, -0.17306669201962802, 0.23850794988140075, -0.5846560784823868, -0.8808561300553898, 0.4164306218251333, 0.6758298696382764, 1.2733128328556984, 0.11215663357633832, 0.6950234743393263, -0.6790319113353549, -0.2271429430370269, 0.8731809805086391, 0.1092567835502304, -0.24560997980095242, 1.4730305257051872, -0.2874933671629544, 1.266278848696191, 0.22329915379512355, -0.7776735788239092, 1.054462826777279, 0.7721258608211383, 0.9579128202719627, 0.5326592878911535, 0.41501816917362816, 0.9223641621111541, -0.07923340493885594, -0.24192854440867242, -0.9524521656761255, 0.6134247851847107, 1.28594328587696, 1.0858633918655956, 0.3756730595501676, 0.5558926649989917, 0.7211441514220803, 0.5669433115158649, 0.1045985254374515, -0.5734250043052229, -0.14580036135277707, 0.8618728795693766, -0.7670752050934032, -0.6086951011257306, -0.06325701546979628, -0.6526414991395929, -0.7971013980870659, 0.27824975010898634, 0.4844750609364504, -1.193370457250344, 0.24760287815219867, -0.21575649107672987, 1.2538475406924896, 1.0102281829856952, -0.35750506845579944, -0.8535305074256356, -0.08490472733826293, 0.8011270929594614, 0.8875352291679542, -0.325289595241561, -0.1793619936135487, -0.8814870179945558, 0.34454736329311014, 0.9901181770187433, 0.6840820092551939, 0.47249280189925974, 0.3762987520633156, 0.506318495954058, -0.231520703492359, -0.4756883661946877, 0.7251227448449938, 0.43386448869022526, -0.6188013590091943, 1.0389210950324765, -0.33382320713837926, -0.34565549609031504, 0.7983433285279626, 1.1428189567934532, 0.16464965179573252, 0.01728951747552952, 0.4303229186065694, -0.058105362893031635, -0.004552083553400691, 0.37490150045079423, -0.33806097441151417, 1.2628365648157904, 0.46872315379735124, 0.19233173565777897, 1.8475266106636767, 0.02374111224041612, 0.0476017501468067, -0.7606571634313969, 1.02096234161976, 0.3949218534919598, -0.4899466177477362, 0.7557580437900583, 1.4746585373407777, 0.2477924516181003, 1.5863963556897336, -0.679462159810373, 0.9082656947885981, -0.10111523133619436, 1.6726981952595372, 0.3030591475136417, 0.8202783147959126, 0.6752370413756406, 0.4825356356362795, -0.3460279352952698, 0.5853813631428547, 1.5556643027870787, 0.8497705983763275, 1.106083035906165, 0.04793582410566073, 0.16785016579499765, -0.3607060387466962, 1.2154511229550875, 0.8739813446686634, 0.4522237636228928, -0.06736691677935179, -0.6571858555930719, -0.2979443341248838, -0.6963709304821855, 0.1545968262698765, 0.907616628145361, 0.9809955899567143, 1.1235504065987674, -0.2642950706894144, 0.8333230115276729, 1.0252998683677284, 0.6956666352889853, 0.4383979848810252, 0.036578626632152056, 0.8011162454414186, 1.2642676494375602, 1.0287951774047372, 0.5193723598804679, 0.9703330549403322, -0.6451381447500248, 0.35404829481142763, 0.4376366068681377, 0.9465405629609561, 0.3686439057447478, 0.039059684289884496, -0.21515250195929952, 0.8717345756731383, -0.12235755330921605, 0.761267034070209]}, {\"hoverlabel\": {\"namelength\": 0}, \"hovertemplate\": \"source=CCTV<br>pc1=%{x}<br>pc3=%{y}<br>pc5=%{z}\", \"legendgroup\": \"source=CCTV\", \"marker\": {\"color\": \"red\", \"symbol\": \"circle\"}, \"mode\": \"markers\", \"name\": \"source=CCTV\", \"scene\": \"scene\", \"showlegend\": true, \"type\": \"scatter3d\", \"x\": [2.4362322038170925, 3.505073154072758, 7.943118574097284, -0.059015673312217624, 3.448116510726241, 2.758227844266691, 7.240992577284046, 7.753154151323045, -0.9310972451734171, 1.9206754774002295, 3.827484149712558, 6.952110673975047, -1.7079075968061495, 0.12536500564448466, 5.209978030268865, 0.801456404998872, 5.948921031333727, 17.365508789321083, 0.6550104220326487, 8.987418024921048, 3.224909860317033, 12.461654273966456, -0.35567496828980816, 5.402782192426739, 7.918943980327071, -0.7437884829764677, 3.168655906896423, -0.9716132788316049, 5.672135498718092, 13.420735891601613, 5.926442230004228, -1.113381340436089, 5.571684371427759, 3.6979796899137596, 0.8963365232203689, 12.314335912899098, 5.508629815816523, 10.137237705960302, 4.867954580324539, -0.6679933976671115, 2.0856203979114385, 9.732516542288154, -0.14247282265396632, 1.114772829169442, 7.632544403511047, -3.309615135994598, 7.646728176027811, 0.9399353941209513, 3.1013749205840617, 2.413108909806156, 5.038151230675875, 6.890691763469223, 1.534886094103748, -0.8543361933543774, 2.2886277571639573, 16.96945806042899, 0.23199837737715345, 14.722264403776135, 10.70674723954116, -0.6084460024866847, 20.30280319277523, 2.6389012239647767, 2.4413623372428845, -3.8042178861722973, -0.11323133523317959, 0.36102358158490905, 8.639467677048632, 0.02188920864842431, 7.719147502524338, 16.18932502442684, 7.270125504914349, 1.1411792852069889, 0.034263750592157124, 6.718771306908868, 4.046543129880722, 10.823114913640538, -1.7084514631716097, -0.08759065840818711, 0.46747919372110713, -0.21318063757070457, 3.0213932605931713, 0.47885467096270756, -0.37340715640254313, 8.875566019254165, 1.776048023514914, -1.6528895880474788, 3.6399695660005738, -0.05188046485155995, 3.118073183316327, 11.70054257130463, 5.608568208637557, 4.477636434856841, 0.794147311356981, 0.8353167891302372, 18.097640736967065, 10.094924387888664, 0.6061456986091937, 3.671854835211762, 7.308656725447804, -2.120594349243467, -1.2823718857306803, 5.9862767265080725, 7.527527557426617, -0.813629436821112, 2.8817234019439613, 5.438219780427838, 16.284662134599902, 5.8817494792041005, 17.854885830537697, 16.145991699861842, 3.0206761731454237, 3.2160574016852665, -4.645831199477738, -0.6087026568546083, 9.923356635158665, 4.075740673630318, 10.451982557918356, 2.1510382901028433, 4.222425795287042, 12.709152404056358, 0.36231735508685087, 11.203946530930113, 0.20964000205542382, 13.980471293382799, 0.3087503313158022, 9.703531532318449, 3.23440252510711, 12.232272390505738, 3.8661427305208558, -2.771002116949061, 7.956149232214425, 2.481858705200587, 1.408148914603859, 13.092742157048425, 1.5758684138527794, 4.380662961519525, 5.493647644962756, 5.300981040821718, -0.21272657845816864, 11.599975445760798, 2.7386244879686394], \"y\": [0.6272236420048498, 0.384124396319376, 1.8866204002940372, -1.6558686055915388, 0.6092325244263376, 3.1460868825877513, 1.6722057108660922, 1.2126722903747431, 8.453728884699943, 6.578509682885261, 1.9291434334637498, 1.0040059309009395, 8.267769964542408, -0.9643369487504269, 0.7726271415700293, -2.5522173302127276, 1.6041913618334631, 0.5716256870310618, 0.550291798206398, 0.25752498992614015, 0.7995794857893114, 0.6041029071860097, -1.3288005954434579, -1.5448057337774381, -0.014971407795940079, 2.9681396803335525, 2.0346659144238637, 0.9432147661044697, 1.2362707834118825, 0.3795777054006481, -0.050957799396791716, -2.0845374039512974, -0.6326769683445752, -1.06290659884586, -0.8978085716737871, 0.11605713240425815, 2.523221050431429, -0.5578845174947267, -1.678513110423279, 0.7838856500180517, 3.8115601683396156, 0.6098372858539329, -0.49445901860432334, 4.967726561845439, 0.23966243524478187, 2.1019631547408077, -0.4251084525087706, -1.401886393180298, -0.7409947065768703, 4.27332053465865, -0.40253219372074317, 1.067046991522917, -0.34573594253529893, -1.822809622703199, 2.6256922510003395, 1.3337428531293143, -2.9700293624557226, 0.029415821631884633, -0.22519104447887023, 3.9124603706945016, 1.0636083991611753, 0.9848178045255092, 1.1691665499912485, 0.5738771141795902, 2.2470628451563486, 0.7863000766313512, -0.2418599713816135, -0.3539353827801165, 0.2535235066845037, 0.5962375333889632, -0.46513856880833426, -1.526482712983194, 0.845504618019371, 0.17244435450526663, -0.9459996423256848, -0.06357031438168143, -0.8564434303901687, -0.8957954260341143, 1.3092626472156361, 11.414437085862083, 4.654777588578304, -1.1924040525628354, -2.510028767272164, 1.0787575575372528, 0.5465536371837485, 0.28614742864825743, 1.6549351521073516, 4.5180735275727955, -1.844925418826157, 0.10650366606046353, 0.5561630796331852, -0.981525971802547, 2.6033258279040705, 0.3427674665933468, 1.0052491570378503, 0.5829401990753247, 2.8220122243744243, 0.12653422060702083, 0.15430803681264849, 0.2500516935944417, 0.9040598601483641, -0.5013340576277024, 0.7630540181016328, -1.6731577881922386, 1.0915825076358134, 0.8387339218701559, 0.6223889583777862, -0.4309162320373758, 0.8034126432140096, 1.2422550039060722, -2.0534422521458033, 2.7926438075016993, 0.7929971910723078, -2.9697354186384572, 0.13055744431573335, 0.7491792601077323, -0.22453944390155375, 0.9968096991184912, 0.2516888425294777, 1.5282020426864698, 10.665755881705213, -0.03183262689869972, -1.593265934630214, 1.8743748356055017, 4.069586990298314, 0.17166508663435592, 1.7403236609725101, 0.3687491382778807, 2.990299281947974, -0.11233088573571433, 0.18641452167858902, 2.3596763179431544, 0.41903375935654313, 0.18116157683789944, 1.899555618926317, 0.37398854690562483, 0.020533821907487395, -0.49359844352117693, -1.395996818157116, 0.43797148382257206, 2.6302009606887156], \"z\": [-0.6293004474357645, -0.3342012457397868, -0.24265665690907845, -0.4946795009974353, -0.504389529410166, -1.0219370714390676, 0.04262856489679113, -0.4567882716284844, 1.657879893692014, 0.07938884037180842, -0.7128567253894658, -0.5500013098947526, 1.0699452676412107, 0.1713703838912628, 0.5868622845156537, -1.1279387769267826, -1.164288243137005, 2.105628932027221, -0.6903596231832001, 0.004375599898726357, -1.1271854392414216, 0.947435543924888, -0.5651572421111677, -0.08237388959701497, 0.34009878367711655, -0.7174254299755114, -1.4155332033472106, -0.5010510635174131, -0.05690838453355379, 0.7502165319138517, -0.065399354281185, -0.14036875115237607, 0.9885108776566971, -1.1260812521292836, -0.8912078959541766, 1.07511259650162, -0.5317463084637128, 0.056546554289744075, 0.4470756441881869, -0.42442193991571153, 0.4873226020076738, 0.27689824727399265, -1.4650493131840403, -0.848786338086694, -0.4399234776408775, -0.4141653361145651, 0.5824054690879801, -0.36765197106331166, -0.7617526922910691, -0.3173440988722388, -0.711835391509937, -0.6758681396399348, -1.1195739787136711, -0.02639222278523116, 0.4924634440756097, 1.0651869910857772, -0.20950839571215668, 1.5392275158161348, 0.1483597819495348, 0.6707172231000911, 1.8367627705848113, -1.216593152947087, -0.34888423152676423, 0.14694815502374364, -0.6549719448492901, -1.731407132708129, -0.714097770835976, 0.008061415366951721, 0.1568890552338659, 1.158110404320731, 0.48686114810518144, 1.3457755347777067, 0.15494446026404304, 0.8687946162915245, -0.7238441531493089, 1.0621739287887186, -0.7667913142326823, -0.7806982911646242, -0.9686761706879281, 2.1461556766858956, -0.6914151269384918, -1.2910489193535388, -0.3717167997101523, 0.5966916109455938, -0.9792283737105439, 0.2535586800622299, -1.3218665797694027, 0.5003877459970032, 0.9960609734971718, 0.17198512411584807, -0.23677651911690847, 0.6322396277481843, -0.9513127140646953, -1.3034379458190901, 1.7567525001638753, 1.7236581370266038, -0.11084197840289935, 0.0008587313037127835, -1.1591435170181446, -0.9517390767595456, -0.8318927531431601, -0.3839596358360368, 0.036966768015737186, -0.43869006157587453, -0.706040195668541, -1.1920199897054717, 0.9883398974204146, -0.7371729701059986, 1.2157246841966125, 2.060216529183682, -0.20914625840328058, -0.4325056585117067, 0.4884561478161235, 0.042770424120491896, -0.6288856452489691, -1.3025014639369266, -0.028103995405046402, -0.8290109516053892, -0.9618702673012874, 0.9214209179476311, 1.1071468904942956, 1.2281040312500902, -0.4033190077671042, 0.903313641662866, -1.0000747959461425, 0.2011594852391867, -1.3781278638292334, 0.5956850447216674, -0.7925188241318906, 0.07627215854078101, 0.17267164693165965, -0.8265277150324001, -0.21928245348487418, 1.522670665463199, -1.2005750025895996, -0.6005413937448023, -0.7221875486373285, -0.19443462392739386, 0.2879942049840498, 0.8889976284039809, -1.0627796600992105]}, {\"hoverlabel\": {\"namelength\": 0}, \"hovertemplate\": \"source=ABC (Australia)<br>pc1=%{x}<br>pc3=%{y}<br>pc5=%{z}\", \"legendgroup\": \"source=ABC (Australia)\", \"marker\": {\"color\": \"khaki\", \"symbol\": \"circle\"}, \"mode\": \"markers\", \"name\": \"source=ABC (Australia)\", \"scene\": \"scene\", \"showlegend\": true, \"type\": \"scatter3d\", \"x\": [-0.178629249151963, 2.751205101995317, -0.5864302277758016, 1.6189412768235647, -0.7863943326741417, -0.7831916935593689, -0.3390836942225261, 0.8312679141926453, 0.7274040792038756, -0.14680237248947686, -0.22886918350200242, 0.3103646288303839, 0.7448890151399827, -1.2606515621910663, 0.42776169306591016, 0.03677369623734968, 0.1711791222166901, -0.7913116438542376, -1.422970340863536, -0.22595196398293996, -0.47113538927426096, -0.810388975662402, -0.7900071989267634, -0.9602039515063228, -0.999310383154853, -0.5671155810743975, -0.7831916935593689, -0.7775498179908485, -0.8773671966339253, -0.27664116222966595, -2.273173479863289, 0.6360010986408076, -0.7854362865212812, 0.4617223430248918, -0.8132200974173522, -0.8715704341336648, -0.7893628557834689, 1.76608730777199, -0.7789783361098903, -1.0029729265547118, -0.7893289942129662, -0.08291591939819451, -0.025517569835977704, -0.7894625259897785, -0.7897391259669821, 1.519017164092168, -0.7757213392880902, -1.5048160838212592, -0.8071712286204755, -0.7842657578010628, 1.5218513025322165, -1.458739813675734, -0.42817247159577093, -1.2278164965037024, -0.8063810442276491, -4.736916687017644, -0.8059275543850009, -0.7831916935593689, -0.5332192965572519, -0.7024081837481355, 0.49204848386148997, -1.2488286975420793, -0.7813425756949098, 7.747098146610826, -0.7685602998587806, -5.1770930573164105, 0.8147046549716893, -0.6246004930644536, -0.8021296484497731, 1.6558108792973725, 1.4528045147258855, -1.0147115949860486, -0.8011552544143891, -0.7738722214236309, -0.2070587561347373, -0.8026428442635773, -0.7747113924562424, -0.7759149941417696, -8.441204178424671, -0.7860156225649239, -0.5230426428114785, -0.2273038042299515, -1.1947477711234427, 0.705495159034147], \"y\": [-1.189199261387558, -1.5053709927659864, 4.129540635053392, 0.3141405193173921, -1.9671057534939902, -1.9285988438848873, -2.691235271975621, -2.15196705034951, -2.9978887953697795, -3.6391597786150736, 3.7204155197439954, -0.7979645036636538, -0.8433026898605752, -3.7709069002329936, -1.406814534090432, 6.882584185488491, 5.853558953737462, -2.0209749337566825, 1.9443178564922425, 0.19935519031175047, -0.4192385131335569, -2.1314219344524195, -1.3280522868500697, -3.4102722468439928, 2.542452168097148, -1.9163391680288704, -1.9285988438848873, 0.4226556947982861, -2.4393576587185652, 2.935072159215478, 2.318968653087434, -1.7425696239612378, -1.9576920197963903, -2.0200627267596922, -2.4278681105804694, -2.4406175225500673, -1.9988046721874515, -0.1966510453472396, -1.8879307262668388, 0.3933130827045916, -2.0106600088693747, -1.9797743776055714, -3.3301088487666837, -1.9958140271084526, -2.001751144701407, -2.587889021646495, -1.8436128412028348, -1.181849294047618, -2.2128682546811596, -1.9366933295905047, 0.2394193649908788, 2.9029949960701624, 0.11819939638654749, 0.6673595359071344, -2.191973570167901, 1.019874598141509, -2.187251895525915, -1.9285988438848873, 1.8660328621615239, -0.6537284684392305, -0.4851337515164098, -1.1008462449058403, -1.9034379372366577, 2.172657973544106, 0.8498506765625782, 2.0297406723565015, -1.2480012733913908, 1.6495955311559007, -2.1399207273084553, -0.21961001002324537, -0.6439757011118796, -4.082837399315722, -2.1288355965238397, -1.8184519345546057, 0.8627262564152429, -2.1599443378474117, -1.8298705165818843, -1.8462478985937452, 3.390668620565661, -1.9670239845725934, -2.1664769389828065, 1.2734698542359857, -3.4046905319614718, -0.9809126451935343], \"z\": [-0.966302537881104, -0.8818933930994739, 0.5183590821085907, -1.1214534031218717, 1.1566425329366168, 0.9967129624504943, 0.20838743444803454, -0.3134471223394358, 0.2467683258361465, 0.19151560165707404, 0.14545701251441398, 0.003506719181571008, 0.03522855143013089, 0.5190920472261669, -0.682138360190647, 0.2453289994035801, 0.4101628385931109, 1.026303174868905, -0.5592085333918875, -0.5840994846336367, -1.1945261597743797, 0.692426519673517, 0.07610101149757977, -0.0983322412913762, -0.8753783418611515, -0.5189894787797513, 0.9967129624504943, -0.40340611088609424, 0.12611504379053318, -0.39736772409233595, -0.989774579507472, -0.8822051590606228, 1.259422919188475, -0.802275676608367, 0.015730262029015677, -0.44157975793476334, 1.0192015238884866, -0.9730015479840504, 1.5011119755407245, -0.8255187663851336, 1.8948085811468938, -0.13495128876002688, -0.2130003549227311, 0.7244816482081355, 0.925123821974505, -0.09274769591929735, 0.9694899670255567, 0.027560202959210498, 1.9045407995606125, 0.7055439122603525, -0.11966831860155205, -0.8148411432634193, -0.3947314133253122, -1.1342513149384013, 1.0499234209682407, -0.2890300793780829, 1.079565557222044, 0.9967129624504943, -0.2051486477960416, 0.7162785509508838, -0.045267569254588136, 0.047960749028684524, 0.6948914357897252, -0.2412140204429044, -0.30043535283813905, 0.4661484804448119, 0.12965591702326856, 0.3292437683497774, 0.7706423795808561, -1.0235340357402107, -1.1653612409423373, 0.025116424857531926, 0.7670915540906466, 0.6676684403647876, -0.8420494177705588, 1.7873740779877063, 0.8046417978020876, 1.0010992033572408, 1.6989001636044079, 1.4576476492112624, -0.8767933532074602, -0.6092188543183572, 0.15463137522673123, -0.6993176025948837]}],\n",
       "                        {\"height\": 600, \"legend\": {\"tracegroupgap\": 0}, \"margin\": {\"t\": 60}, \"scene\": {\"domain\": {\"x\": [0.0, 0.98], \"y\": [0.0, 1.0]}, \"xaxis\": {\"title\": {\"text\": \"pc1\"}}, \"yaxis\": {\"title\": {\"text\": \"pc3\"}}, \"zaxis\": {\"title\": {\"text\": \"pc5\"}}}, \"template\": {\"data\": {\"bar\": [{\"error_x\": {\"color\": \"#2a3f5f\"}, \"error_y\": {\"color\": \"#2a3f5f\"}, \"marker\": {\"line\": {\"color\": \"#E5ECF6\", \"width\": 0.5}}, \"type\": \"bar\"}], \"barpolar\": [{\"marker\": {\"line\": {\"color\": \"#E5ECF6\", \"width\": 0.5}}, \"type\": \"barpolar\"}], \"carpet\": [{\"aaxis\": {\"endlinecolor\": \"#2a3f5f\", \"gridcolor\": \"white\", \"linecolor\": \"white\", \"minorgridcolor\": \"white\", \"startlinecolor\": \"#2a3f5f\"}, \"baxis\": {\"endlinecolor\": \"#2a3f5f\", \"gridcolor\": \"white\", \"linecolor\": \"white\", \"minorgridcolor\": \"white\", \"startlinecolor\": \"#2a3f5f\"}, \"type\": \"carpet\"}], \"choropleth\": [{\"colorbar\": {\"outlinewidth\": 0, \"ticks\": \"\"}, \"type\": \"choropleth\"}], \"contour\": [{\"colorbar\": {\"outlinewidth\": 0, \"ticks\": \"\"}, \"colorscale\": [[0.0, \"#0d0887\"], [0.1111111111111111, \"#46039f\"], [0.2222222222222222, \"#7201a8\"], [0.3333333333333333, \"#9c179e\"], [0.4444444444444444, \"#bd3786\"], [0.5555555555555556, \"#d8576b\"], [0.6666666666666666, \"#ed7953\"], [0.7777777777777778, \"#fb9f3a\"], [0.8888888888888888, \"#fdca26\"], [1.0, \"#f0f921\"]], \"type\": \"contour\"}], \"contourcarpet\": [{\"colorbar\": {\"outlinewidth\": 0, \"ticks\": \"\"}, \"type\": \"contourcarpet\"}], \"heatmap\": [{\"colorbar\": {\"outlinewidth\": 0, \"ticks\": \"\"}, \"colorscale\": [[0.0, \"#0d0887\"], [0.1111111111111111, \"#46039f\"], [0.2222222222222222, \"#7201a8\"], [0.3333333333333333, \"#9c179e\"], [0.4444444444444444, \"#bd3786\"], [0.5555555555555556, \"#d8576b\"], [0.6666666666666666, \"#ed7953\"], [0.7777777777777778, \"#fb9f3a\"], [0.8888888888888888, \"#fdca26\"], [1.0, \"#f0f921\"]], \"type\": \"heatmap\"}], \"heatmapgl\": [{\"colorbar\": {\"outlinewidth\": 0, \"ticks\": \"\"}, \"colorscale\": [[0.0, \"#0d0887\"], [0.1111111111111111, \"#46039f\"], [0.2222222222222222, \"#7201a8\"], [0.3333333333333333, \"#9c179e\"], [0.4444444444444444, \"#bd3786\"], [0.5555555555555556, \"#d8576b\"], [0.6666666666666666, \"#ed7953\"], [0.7777777777777778, \"#fb9f3a\"], [0.8888888888888888, \"#fdca26\"], [1.0, \"#f0f921\"]], \"type\": \"heatmapgl\"}], \"histogram\": [{\"marker\": {\"colorbar\": {\"outlinewidth\": 0, \"ticks\": \"\"}}, \"type\": \"histogram\"}], \"histogram2d\": [{\"colorbar\": {\"outlinewidth\": 0, \"ticks\": \"\"}, \"colorscale\": [[0.0, \"#0d0887\"], [0.1111111111111111, \"#46039f\"], [0.2222222222222222, \"#7201a8\"], [0.3333333333333333, \"#9c179e\"], [0.4444444444444444, \"#bd3786\"], [0.5555555555555556, \"#d8576b\"], [0.6666666666666666, \"#ed7953\"], [0.7777777777777778, \"#fb9f3a\"], [0.8888888888888888, \"#fdca26\"], [1.0, \"#f0f921\"]], \"type\": \"histogram2d\"}], \"histogram2dcontour\": [{\"colorbar\": {\"outlinewidth\": 0, \"ticks\": \"\"}, \"colorscale\": [[0.0, \"#0d0887\"], [0.1111111111111111, \"#46039f\"], [0.2222222222222222, \"#7201a8\"], [0.3333333333333333, \"#9c179e\"], [0.4444444444444444, \"#bd3786\"], [0.5555555555555556, \"#d8576b\"], [0.6666666666666666, \"#ed7953\"], [0.7777777777777778, \"#fb9f3a\"], [0.8888888888888888, \"#fdca26\"], [1.0, \"#f0f921\"]], \"type\": \"histogram2dcontour\"}], \"mesh3d\": [{\"colorbar\": {\"outlinewidth\": 0, \"ticks\": \"\"}, \"type\": \"mesh3d\"}], \"parcoords\": [{\"line\": {\"colorbar\": {\"outlinewidth\": 0, \"ticks\": \"\"}}, \"type\": \"parcoords\"}], \"scatter\": [{\"marker\": {\"colorbar\": {\"outlinewidth\": 0, \"ticks\": \"\"}}, \"type\": \"scatter\"}], \"scatter3d\": [{\"line\": {\"colorbar\": {\"outlinewidth\": 0, \"ticks\": \"\"}}, \"marker\": {\"colorbar\": {\"outlinewidth\": 0, \"ticks\": \"\"}}, \"type\": \"scatter3d\"}], \"scattercarpet\": [{\"marker\": {\"colorbar\": {\"outlinewidth\": 0, \"ticks\": \"\"}}, \"type\": \"scattercarpet\"}], \"scattergeo\": [{\"marker\": {\"colorbar\": {\"outlinewidth\": 0, \"ticks\": \"\"}}, \"type\": \"scattergeo\"}], \"scattergl\": [{\"marker\": {\"colorbar\": {\"outlinewidth\": 0, \"ticks\": \"\"}}, \"type\": \"scattergl\"}], \"scattermapbox\": [{\"marker\": {\"colorbar\": {\"outlinewidth\": 0, \"ticks\": \"\"}}, \"type\": \"scattermapbox\"}], \"scatterpolar\": [{\"marker\": {\"colorbar\": {\"outlinewidth\": 0, \"ticks\": \"\"}}, \"type\": \"scatterpolar\"}], \"scatterpolargl\": [{\"marker\": {\"colorbar\": {\"outlinewidth\": 0, \"ticks\": \"\"}}, \"type\": \"scatterpolargl\"}], \"scatterternary\": [{\"marker\": {\"colorbar\": {\"outlinewidth\": 0, \"ticks\": \"\"}}, \"type\": \"scatterternary\"}], \"surface\": [{\"colorbar\": {\"outlinewidth\": 0, \"ticks\": \"\"}, \"colorscale\": [[0.0, \"#0d0887\"], [0.1111111111111111, \"#46039f\"], [0.2222222222222222, \"#7201a8\"], [0.3333333333333333, \"#9c179e\"], [0.4444444444444444, \"#bd3786\"], [0.5555555555555556, \"#d8576b\"], [0.6666666666666666, \"#ed7953\"], [0.7777777777777778, \"#fb9f3a\"], [0.8888888888888888, \"#fdca26\"], [1.0, \"#f0f921\"]], \"type\": \"surface\"}], \"table\": [{\"cells\": {\"fill\": {\"color\": \"#EBF0F8\"}, \"line\": {\"color\": \"white\"}}, \"header\": {\"fill\": {\"color\": \"#C8D4E3\"}, \"line\": {\"color\": \"white\"}}, \"type\": \"table\"}]}, \"layout\": {\"annotationdefaults\": {\"arrowcolor\": \"#2a3f5f\", \"arrowhead\": 0, \"arrowwidth\": 1}, \"colorscale\": {\"diverging\": [[0, \"#8e0152\"], [0.1, \"#c51b7d\"], [0.2, \"#de77ae\"], [0.3, \"#f1b6da\"], [0.4, \"#fde0ef\"], [0.5, \"#f7f7f7\"], [0.6, \"#e6f5d0\"], [0.7, \"#b8e186\"], [0.8, \"#7fbc41\"], [0.9, \"#4d9221\"], [1, \"#276419\"]], \"sequential\": [[0.0, \"#0d0887\"], [0.1111111111111111, \"#46039f\"], [0.2222222222222222, \"#7201a8\"], [0.3333333333333333, \"#9c179e\"], [0.4444444444444444, \"#bd3786\"], [0.5555555555555556, \"#d8576b\"], [0.6666666666666666, \"#ed7953\"], [0.7777777777777778, \"#fb9f3a\"], [0.8888888888888888, \"#fdca26\"], [1.0, \"#f0f921\"]], \"sequentialminus\": [[0.0, \"#0d0887\"], [0.1111111111111111, \"#46039f\"], [0.2222222222222222, \"#7201a8\"], [0.3333333333333333, \"#9c179e\"], [0.4444444444444444, \"#bd3786\"], [0.5555555555555556, \"#d8576b\"], [0.6666666666666666, \"#ed7953\"], [0.7777777777777778, \"#fb9f3a\"], [0.8888888888888888, \"#fdca26\"], [1.0, \"#f0f921\"]]}, \"colorway\": [\"#636efa\", \"#EF553B\", \"#00cc96\", \"#ab63fa\", \"#FFA15A\", \"#19d3f3\", \"#FF6692\", \"#B6E880\", \"#FF97FF\", \"#FECB52\"], \"font\": {\"color\": \"#2a3f5f\"}, \"geo\": {\"bgcolor\": \"white\", \"lakecolor\": \"white\", \"landcolor\": \"#E5ECF6\", \"showlakes\": true, \"showland\": true, \"subunitcolor\": \"white\"}, \"hoverlabel\": {\"align\": \"left\"}, \"hovermode\": \"closest\", \"mapbox\": {\"style\": \"light\"}, \"paper_bgcolor\": \"white\", \"plot_bgcolor\": \"#E5ECF6\", \"polar\": {\"angularaxis\": {\"gridcolor\": \"white\", \"linecolor\": \"white\", \"ticks\": \"\"}, \"bgcolor\": \"#E5ECF6\", \"radialaxis\": {\"gridcolor\": \"white\", \"linecolor\": \"white\", \"ticks\": \"\"}}, \"scene\": {\"xaxis\": {\"backgroundcolor\": \"#E5ECF6\", \"gridcolor\": \"white\", \"gridwidth\": 2, \"linecolor\": \"white\", \"showbackground\": true, \"ticks\": \"\", \"zerolinecolor\": \"white\"}, \"yaxis\": {\"backgroundcolor\": \"#E5ECF6\", \"gridcolor\": \"white\", \"gridwidth\": 2, \"linecolor\": \"white\", \"showbackground\": true, \"ticks\": \"\", \"zerolinecolor\": \"white\"}, \"zaxis\": {\"backgroundcolor\": \"#E5ECF6\", \"gridcolor\": \"white\", \"gridwidth\": 2, \"linecolor\": \"white\", \"showbackground\": true, \"ticks\": \"\", \"zerolinecolor\": \"white\"}}, \"shapedefaults\": {\"line\": {\"color\": \"#2a3f5f\"}}, \"ternary\": {\"aaxis\": {\"gridcolor\": \"white\", \"linecolor\": \"white\", \"ticks\": \"\"}, \"baxis\": {\"gridcolor\": \"white\", \"linecolor\": \"white\", \"ticks\": \"\"}, \"bgcolor\": \"#E5ECF6\", \"caxis\": {\"gridcolor\": \"white\", \"linecolor\": \"white\", \"ticks\": \"\"}}, \"title\": {\"x\": 0.05}, \"xaxis\": {\"automargin\": true, \"gridcolor\": \"white\", \"linecolor\": \"white\", \"ticks\": \"\", \"zerolinecolor\": \"white\", \"zerolinewidth\": 2}, \"yaxis\": {\"automargin\": true, \"gridcolor\": \"white\", \"linecolor\": \"white\", \"ticks\": \"\", \"zerolinecolor\": \"white\", \"zerolinewidth\": 2}}}},\n",
       "                        {\"responsive\": true}\n",
       "                    ).then(function(){\n",
       "                            \n",
       "var gd = document.getElementById('d3c12019-acd4-4870-83f6-f54be4c23dbb');\n",
       "var x = new MutationObserver(function (mutations, observer) {{\n",
       "        var display = window.getComputedStyle(gd).display;\n",
       "        if (!display || display === 'none') {{\n",
       "            console.log([gd, 'removed!']);\n",
       "            Plotly.purge(gd);\n",
       "            observer.disconnect();\n",
       "        }}\n",
       "}});\n",
       "\n",
       "// Listen for the removal of the full notebook cells\n",
       "var notebookContainer = gd.closest('#notebook-container');\n",
       "if (notebookContainer) {{\n",
       "    x.observe(notebookContainer, {childList: true});\n",
       "}}\n",
       "\n",
       "// Listen for the clearing of the current output cell\n",
       "var outputEl = gd.closest('.output');\n",
       "if (outputEl) {{\n",
       "    x.observe(outputEl, {childList: true});\n",
       "}}\n",
       "\n",
       "                        })\n",
       "                };\n",
       "                });\n",
       "            </script>\n",
       "        </div>"
      ]
     },
     "metadata": {},
     "output_type": "display_data"
    },
    {
     "name": "stdout",
     "output_type": "stream",
     "text": [
      "Executing shutdown due to inactivity...\n"
     ]
    },
    {
     "name": "stderr",
     "output_type": "stream",
     "text": [
      "2020-04-08 23:13:10,822 - INFO     - Executing shutdown due to inactivity...\n"
     ]
    },
    {
     "name": "stdout",
     "output_type": "stream",
     "text": [
      "Executing shutdown...\n"
     ]
    },
    {
     "name": "stderr",
     "output_type": "stream",
     "text": [
      "2020-04-08 23:13:10,842 - INFO     - Executing shutdown...\n"
     ]
    }
   ],
   "source": [
    "color_map = {'CCTV': 'red', 'SCMP': 'darkslategrey', 'ABC (Australia)': 'khaki'}\n",
    "fig = px.scatter_3d(plot_df, x='pc1', y='pc3', z='pc5', color='source', color_discrete_map=color_map)\n",
    "fig.show()"
   ]
  },
  {
   "cell_type": "code",
   "execution_count": 105,
   "metadata": {
    "ExecuteTime": {
     "end_time": "2020-04-09T03:03:13.725189Z",
     "start_time": "2020-04-09T03:03:13.706528Z"
    }
   },
   "outputs": [
    {
     "data": {
      "text/html": [
       "<div>\n",
       "<style scoped>\n",
       "    .dataframe tbody tr th:only-of-type {\n",
       "        vertical-align: middle;\n",
       "    }\n",
       "\n",
       "    .dataframe tbody tr th {\n",
       "        vertical-align: top;\n",
       "    }\n",
       "\n",
       "    .dataframe thead th {\n",
       "        text-align: right;\n",
       "    }\n",
       "</style>\n",
       "<table border=\"1\" class=\"dataframe\">\n",
       "  <thead>\n",
       "    <tr style=\"text-align: right;\">\n",
       "      <th></th>\n",
       "      <th>pc1</th>\n",
       "      <th>pc2</th>\n",
       "      <th>pc3</th>\n",
       "      <th>pc4</th>\n",
       "      <th>pc5</th>\n",
       "      <th>pc6</th>\n",
       "      <th>source</th>\n",
       "    </tr>\n",
       "  </thead>\n",
       "  <tbody>\n",
       "    <tr>\n",
       "      <td>0</td>\n",
       "      <td>-0.298181</td>\n",
       "      <td>0.439789</td>\n",
       "      <td>0.142809</td>\n",
       "      <td>-1.725907</td>\n",
       "      <td>-0.306175</td>\n",
       "      <td>-0.254915</td>\n",
       "      <td>0.0</td>\n",
       "    </tr>\n",
       "    <tr>\n",
       "      <td>1</td>\n",
       "      <td>2.436232</td>\n",
       "      <td>0.666363</td>\n",
       "      <td>0.627224</td>\n",
       "      <td>0.496814</td>\n",
       "      <td>-0.629300</td>\n",
       "      <td>-0.894746</td>\n",
       "      <td>3.0</td>\n",
       "    </tr>\n",
       "    <tr>\n",
       "      <td>2</td>\n",
       "      <td>3.505073</td>\n",
       "      <td>0.345035</td>\n",
       "      <td>0.384124</td>\n",
       "      <td>-1.481805</td>\n",
       "      <td>-0.334201</td>\n",
       "      <td>0.505404</td>\n",
       "      <td>3.0</td>\n",
       "    </tr>\n",
       "    <tr>\n",
       "      <td>3</td>\n",
       "      <td>0.977717</td>\n",
       "      <td>-1.821650</td>\n",
       "      <td>1.249370</td>\n",
       "      <td>-0.056504</td>\n",
       "      <td>-0.798751</td>\n",
       "      <td>-0.872673</td>\n",
       "      <td>2.0</td>\n",
       "    </tr>\n",
       "    <tr>\n",
       "      <td>4</td>\n",
       "      <td>-0.875868</td>\n",
       "      <td>-1.747925</td>\n",
       "      <td>-1.385880</td>\n",
       "      <td>-0.074123</td>\n",
       "      <td>-0.421455</td>\n",
       "      <td>1.036233</td>\n",
       "      <td>0.0</td>\n",
       "    </tr>\n",
       "    <tr>\n",
       "      <td>...</td>\n",
       "      <td>...</td>\n",
       "      <td>...</td>\n",
       "      <td>...</td>\n",
       "      <td>...</td>\n",
       "      <td>...</td>\n",
       "      <td>...</td>\n",
       "      <td>...</td>\n",
       "    </tr>\n",
       "    <tr>\n",
       "      <td>1067</td>\n",
       "      <td>-0.336166</td>\n",
       "      <td>-1.010262</td>\n",
       "      <td>-2.562126</td>\n",
       "      <td>1.090755</td>\n",
       "      <td>-0.492239</td>\n",
       "      <td>-0.819836</td>\n",
       "      <td>2.0</td>\n",
       "    </tr>\n",
       "    <tr>\n",
       "      <td>1068</td>\n",
       "      <td>-0.246461</td>\n",
       "      <td>-1.783270</td>\n",
       "      <td>-3.732693</td>\n",
       "      <td>3.118177</td>\n",
       "      <td>0.296577</td>\n",
       "      <td>-0.213960</td>\n",
       "      <td>2.0</td>\n",
       "    </tr>\n",
       "    <tr>\n",
       "      <td>1069</td>\n",
       "      <td>0.705495</td>\n",
       "      <td>-0.015293</td>\n",
       "      <td>-0.980913</td>\n",
       "      <td>0.145594</td>\n",
       "      <td>-0.699318</td>\n",
       "      <td>-0.892068</td>\n",
       "      <td>1.0</td>\n",
       "    </tr>\n",
       "    <tr>\n",
       "      <td>1070</td>\n",
       "      <td>-1.966077</td>\n",
       "      <td>0.996215</td>\n",
       "      <td>-0.632859</td>\n",
       "      <td>-2.390633</td>\n",
       "      <td>0.100184</td>\n",
       "      <td>1.213376</td>\n",
       "      <td>2.0</td>\n",
       "    </tr>\n",
       "    <tr>\n",
       "      <td>1071</td>\n",
       "      <td>-6.014040</td>\n",
       "      <td>7.751859</td>\n",
       "      <td>1.999157</td>\n",
       "      <td>0.815742</td>\n",
       "      <td>0.486647</td>\n",
       "      <td>0.066760</td>\n",
       "      <td>2.0</td>\n",
       "    </tr>\n",
       "  </tbody>\n",
       "</table>\n",
       "<p>1072 rows × 7 columns</p>\n",
       "</div>"
      ],
      "text/plain": [
       "           pc1       pc2       pc3       pc4       pc5       pc6 source\n",
       "0    -0.298181  0.439789  0.142809 -1.725907 -0.306175 -0.254915    0.0\n",
       "1     2.436232  0.666363  0.627224  0.496814 -0.629300 -0.894746    3.0\n",
       "2     3.505073  0.345035  0.384124 -1.481805 -0.334201  0.505404    3.0\n",
       "3     0.977717 -1.821650  1.249370 -0.056504 -0.798751 -0.872673    2.0\n",
       "4    -0.875868 -1.747925 -1.385880 -0.074123 -0.421455  1.036233    0.0\n",
       "...        ...       ...       ...       ...       ...       ...    ...\n",
       "1067 -0.336166 -1.010262 -2.562126  1.090755 -0.492239 -0.819836    2.0\n",
       "1068 -0.246461 -1.783270 -3.732693  3.118177  0.296577 -0.213960    2.0\n",
       "1069  0.705495 -0.015293 -0.980913  0.145594 -0.699318 -0.892068    1.0\n",
       "1070 -1.966077  0.996215 -0.632859 -2.390633  0.100184  1.213376    2.0\n",
       "1071 -6.014040  7.751859  1.999157  0.815742  0.486647  0.066760    2.0\n",
       "\n",
       "[1072 rows x 7 columns]"
      ]
     },
     "execution_count": 105,
     "metadata": {},
     "output_type": "execute_result"
    }
   ],
   "source": [
    "comp_df"
   ]
  },
  {
   "cell_type": "code",
   "execution_count": null,
   "metadata": {},
   "outputs": [],
   "source": []
  }
 ],
 "metadata": {
  "kernelspec": {
   "display_name": "Python 3",
   "language": "python",
   "name": "python3"
  },
  "language_info": {
   "codemirror_mode": {
    "name": "ipython",
    "version": 3
   },
   "file_extension": ".py",
   "mimetype": "text/x-python",
   "name": "python",
   "nbconvert_exporter": "python",
   "pygments_lexer": "ipython3",
   "version": "3.6.9"
  },
  "toc": {
   "base_numbering": 1,
   "nav_menu": {},
   "number_sections": true,
   "sideBar": true,
   "skip_h1_title": false,
   "title_cell": "Table of Contents",
   "title_sidebar": "Contents",
   "toc_cell": false,
   "toc_position": {},
   "toc_section_display": true,
   "toc_window_display": false
  }
 },
 "nbformat": 4,
 "nbformat_minor": 2
}
