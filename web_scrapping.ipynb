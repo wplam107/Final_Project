{
 "cells": [
  {
   "cell_type": "markdown",
   "metadata": {},
   "source": [
    "# Web Scraping Notebook"
   ]
  },
  {
   "cell_type": "code",
   "execution_count": 1,
   "metadata": {
    "ExecuteTime": {
     "end_time": "2020-04-05T21:58:13.689015Z",
     "start_time": "2020-04-05T21:58:10.682058Z"
    }
   },
   "outputs": [],
   "source": [
    "import re\n",
    "import os\n",
    "import time\n",
    "import datetime\n",
    "import random\n",
    "import requests\n",
    "import numpy as np\n",
    "import pandas as pd\n",
    "import matplotlib.pyplot as plt\n",
    "import seaborn as sns\n",
    "import pickle\n",
    "import urllib\n",
    "from bs4 import BeautifulSoup\n",
    "from datetime import datetime\n",
    "from os import system   \n",
    "from selenium import webdriver\n",
    "from selenium.webdriver.common.by import By\n",
    "from selenium.webdriver.common.keys import Keys\n",
    "from selenium.common.exceptions import TimeoutException\n",
    "from selenium.webdriver.support.ui import WebDriverWait\n",
    "from selenium.webdriver.support import expected_conditions as EC\n",
    "from selenium.webdriver.common.action_chains import ActionChains\n",
    "from selenium.webdriver.common.touch_actions import TouchActions\n",
    "import ws_func"
   ]
  },
  {
   "cell_type": "markdown",
   "metadata": {},
   "source": [
    "## Scrape CNN Articles"
   ]
  },
  {
   "cell_type": "code",
   "execution_count": null,
   "metadata": {
    "ExecuteTime": {
     "end_time": "2020-04-03T23:08:25.852032Z",
     "start_time": "2020-04-03T23:08:25.849236Z"
    }
   },
   "outputs": [],
   "source": [
    "# Scrape CNN articles and save to cnn.tsv (tab separated to avoid comma issues with text body)\n",
    "# ws_func.scrape_cnn(start=(2019, 5, 16), stop=(2020, 3, 31), ret_csv=True, csv='cnn.tsv', ret_df=False)"
   ]
  },
  {
   "cell_type": "code",
   "execution_count": null,
   "metadata": {
    "ExecuteTime": {
     "end_time": "2020-04-04T00:00:51.395745Z",
     "start_time": "2020-04-03T23:59:07.019796Z"
    }
   },
   "outputs": [],
   "source": [
    "# driver = webdriver.Chrome()\n",
    "# urls = urls_scrape_all_cnn(driver)"
   ]
  },
  {
   "cell_type": "code",
   "execution_count": null,
   "metadata": {
    "ExecuteTime": {
     "end_time": "2020-04-04T00:01:46.039240Z",
     "start_time": "2020-04-04T00:01:46.034493Z"
    },
    "scrolled": true
   },
   "outputs": [],
   "source": [
    "# urlsfile = open('cnn_urls.p', 'wb') \n",
    "# pickle.dump(urls, urlsfile)                      \n",
    "# urlsfile.close() "
   ]
  },
  {
   "cell_type": "code",
   "execution_count": null,
   "metadata": {
    "ExecuteTime": {
     "end_time": "2020-04-04T01:21:04.121060Z",
     "start_time": "2020-04-04T00:55:51.389336Z"
    }
   },
   "outputs": [],
   "source": [
    "# df = scrape_cnn(urls, ret_csv=True, csv='cnn.tsv')"
   ]
  },
  {
   "cell_type": "markdown",
   "metadata": {},
   "source": [
    "### Notes on CNN Articles\n",
    "- Total number of articles: 141\n",
    "- Articles with text: 134"
   ]
  },
  {
   "cell_type": "code",
   "execution_count": null,
   "metadata": {
    "ExecuteTime": {
     "end_time": "2020-04-03T22:56:21.857183Z",
     "start_time": "2020-04-03T22:56:21.821404Z"
    }
   },
   "outputs": [],
   "source": [
    "# df_cnn = pd.read_csv('cnn.tsv', sep='\\t', index_col=0)"
   ]
  },
  {
   "cell_type": "markdown",
   "metadata": {},
   "source": [
    "## Scrape South China Morning Post Articles"
   ]
  },
  {
   "cell_type": "code",
   "execution_count": null,
   "metadata": {
    "ExecuteTime": {
     "end_time": "2020-04-02T15:41:12.347260Z",
     "start_time": "2020-04-02T14:46:41.163078Z"
    },
    "scrolled": true
   },
   "outputs": [],
   "source": [
    "# urls, dates = ws_func.scrape_urls_scmp(scroll=150)"
   ]
  },
  {
   "cell_type": "code",
   "execution_count": null,
   "metadata": {
    "ExecuteTime": {
     "end_time": "2020-04-02T15:41:12.368985Z",
     "start_time": "2020-04-02T15:41:12.353307Z"
    }
   },
   "outputs": [],
   "source": [
    "# urlsfile = open('scmp_urls.p', 'wb') \n",
    "# pickle.dump(urls, urlsfile)                      \n",
    "# urlsfile.close() "
   ]
  },
  {
   "cell_type": "code",
   "execution_count": null,
   "metadata": {
    "ExecuteTime": {
     "end_time": "2020-04-04T23:28:23.742821Z",
     "start_time": "2020-04-04T23:28:23.739621Z"
    }
   },
   "outputs": [],
   "source": [
    "# datesfile = open('scmp_dates.p', 'wb') \n",
    "# pickle.dump(dates, datesfile)                      \n",
    "# datesfile.close()"
   ]
  },
  {
   "cell_type": "code",
   "execution_count": 2,
   "metadata": {
    "ExecuteTime": {
     "end_time": "2020-04-05T21:58:14.407499Z",
     "start_time": "2020-04-05T21:58:14.391594Z"
    }
   },
   "outputs": [],
   "source": [
    "urlsfile = open('scmp_urls.p', 'rb')      \n",
    "urls = pickle.load(urlsfile)\n",
    "urlsfile.close()\n",
    "\n",
    "datesfile = open('scmp_dates.p', 'rb')      \n",
    "dates = pickle.load(datesfile)\n",
    "datesfile.close()"
   ]
  },
  {
   "cell_type": "code",
   "execution_count": null,
   "metadata": {
    "ExecuteTime": {
     "start_time": "2020-04-06T01:49:26.255Z"
    },
    "scrolled": true
   },
   "outputs": [
    {
     "name": "stdout",
     "output_type": "stream",
     "text": [
      "Current articles scraped: 20\n",
      "Current articles scraped: 40\n",
      "Current articles scraped: 60\n"
     ]
    }
   ],
   "source": [
    "# Run\n",
    "df = ws_func.scrape_scmp(urls[1700:1800], dates[1700:1800], ret_csv=True, csv='scmp1700_1800.tsv')"
   ]
  },
  {
   "cell_type": "markdown",
   "metadata": {},
   "source": [
    "### Notes on SCMP Articles\n",
    "- Maximum scrolls between 130 to 140, can no longer load anymore article links, end of July\n",
    "- 3762 total articles\n",
    "- 2253 articles in news category"
   ]
  },
  {
   "cell_type": "markdown",
   "metadata": {},
   "source": [
    "## Scrape Australian Broadcasting Corporation Articles"
   ]
  },
  {
   "cell_type": "code",
   "execution_count": null,
   "metadata": {
    "ExecuteTime": {
     "end_time": "2020-04-03T00:41:03.730818Z",
     "start_time": "2020-04-03T00:41:03.726416Z"
    }
   },
   "outputs": [],
   "source": [
    "# urlsfile = open('abc_urls.p', 'wb') \n",
    "# pickle.dump(urls, urlsfile)                      \n",
    "# urlsfile.close() "
   ]
  },
  {
   "cell_type": "code",
   "execution_count": null,
   "metadata": {
    "ExecuteTime": {
     "end_time": "2020-04-03T15:46:09.542172Z",
     "start_time": "2020-04-03T15:46:09.529382Z"
    }
   },
   "outputs": [],
   "source": [
    "# urlsfile = open('abc_urls.p', 'rb')      \n",
    "# urls = pickle.load(urlsfile)\n",
    "# urlsfile.close()\n",
    "# len(urls)"
   ]
  },
  {
   "cell_type": "code",
   "execution_count": null,
   "metadata": {
    "ExecuteTime": {
     "end_time": "2020-04-03T17:03:40.082837Z",
     "start_time": "2020-04-03T16:59:37.242853Z"
    },
    "scrolled": true
   },
   "outputs": [],
   "source": [
    "# df = ws_func.bs_scrape_abc(urls, ret_csv=True, csv='abc.tsv')"
   ]
  },
  {
   "cell_type": "markdown",
   "metadata": {},
   "source": [
    "### Notes on ABC Articles\n",
    "- Total articles: 140\n",
    "- Relevent articles: 132\n",
    "- BeautifulSoup used to scrape article bodies"
   ]
  },
  {
   "cell_type": "markdown",
   "metadata": {},
   "source": [
    "## Scrape CCTV News (China) Articles"
   ]
  },
  {
   "cell_type": "code",
   "execution_count": null,
   "metadata": {
    "ExecuteTime": {
     "end_time": "2020-04-03T21:34:25.724901Z",
     "start_time": "2020-04-03T21:34:25.721854Z"
    },
    "scrolled": true
   },
   "outputs": [],
   "source": [
    "# Scrape CCTV URLs\n",
    "# urls = url_scrape_all_cctv()"
   ]
  },
  {
   "cell_type": "code",
   "execution_count": null,
   "metadata": {
    "ExecuteTime": {
     "end_time": "2020-04-03T21:33:46.490367Z",
     "start_time": "2020-04-03T21:33:46.485398Z"
    }
   },
   "outputs": [],
   "source": [
    "# urlsfile = open('cctv_urls.p', 'wb') \n",
    "# pickle.dump(urls, urlsfile)                      \n",
    "# urlsfile.close() "
   ]
  },
  {
   "cell_type": "code",
   "execution_count": null,
   "metadata": {
    "ExecuteTime": {
     "end_time": "2020-04-03T21:57:12.971596Z",
     "start_time": "2020-04-03T21:49:15.416772Z"
    }
   },
   "outputs": [],
   "source": [
    "# df = scrape_cctv(urls, ret_csv=True)"
   ]
  },
  {
   "cell_type": "markdown",
   "metadata": {},
   "source": [
    "### Notes on CCTV Articles\n",
    "- Total scraped: 310"
   ]
  },
  {
   "cell_type": "markdown",
   "metadata": {},
   "source": [
    "## Scrape Reuters"
   ]
  },
  {
   "cell_type": "code",
   "execution_count": null,
   "metadata": {
    "ExecuteTime": {
     "end_time": "2020-04-04T03:58:46.881203Z",
     "start_time": "2020-04-04T03:58:04.908118Z"
    }
   },
   "outputs": [],
   "source": [
    "# clickdown_reuters(driver)"
   ]
  },
  {
   "cell_type": "code",
   "execution_count": null,
   "metadata": {
    "ExecuteTime": {
     "end_time": "2020-04-04T04:22:18.621027Z",
     "start_time": "2020-04-04T04:22:01.842405Z"
    }
   },
   "outputs": [],
   "source": [
    "# reu_urls = url_scrape_reuters(driver)\n",
    "# len(reu_urls)"
   ]
  },
  {
   "cell_type": "code",
   "execution_count": null,
   "metadata": {
    "ExecuteTime": {
     "end_time": "2020-04-04T04:24:26.817633Z",
     "start_time": "2020-04-04T04:24:26.793697Z"
    }
   },
   "outputs": [],
   "source": [
    "# urlsfile = open('reuters_urls.p', 'wb') \n",
    "# pickle.dump(reu_urls, urlsfile)                      \n",
    "# urlsfile.close()"
   ]
  },
  {
   "cell_type": "code",
   "execution_count": null,
   "metadata": {
    "ExecuteTime": {
     "end_time": "2020-04-04T05:48:05.638673Z",
     "start_time": "2020-04-04T05:09:02.478475Z"
    },
    "scrolled": true
   },
   "outputs": [],
   "source": [
    "# reu_df = scrape_reuters(reu_urls, ret_csv=True, csv='reuters.tsv')"
   ]
  },
  {
   "cell_type": "markdown",
   "metadata": {},
   "source": [
    "### Notes on Reuters Articles\n",
    "- Total Articles: 744\n",
    "- Missing body: 25"
   ]
  }
 ],
 "metadata": {
  "kernelspec": {
   "display_name": "Python 3",
   "language": "python",
   "name": "python3"
  },
  "language_info": {
   "codemirror_mode": {
    "name": "ipython",
    "version": 3
   },
   "file_extension": ".py",
   "mimetype": "text/x-python",
   "name": "python",
   "nbconvert_exporter": "python",
   "pygments_lexer": "ipython3",
   "version": "3.6.9"
  },
  "toc": {
   "base_numbering": 1,
   "nav_menu": {},
   "number_sections": true,
   "sideBar": true,
   "skip_h1_title": false,
   "title_cell": "Table of Contents",
   "title_sidebar": "Contents",
   "toc_cell": false,
   "toc_position": {
    "height": "calc(100% - 180px)",
    "left": "10px",
    "top": "150px",
    "width": "274.188px"
   },
   "toc_section_display": true,
   "toc_window_display": true
  }
 },
 "nbformat": 4,
 "nbformat_minor": 2
}
