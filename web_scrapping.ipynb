{
 "cells": [
  {
   "cell_type": "code",
   "execution_count": 1,
   "metadata": {
    "ExecuteTime": {
     "end_time": "2020-03-30T19:12:33.281204Z",
     "start_time": "2020-03-30T19:12:31.626291Z"
    }
   },
   "outputs": [],
   "source": [
    "import re\n",
    "import os\n",
    "import time\n",
    "import datetime\n",
    "import random\n",
    "import requests\n",
    "import numpy as np\n",
    "import pandas as pd\n",
    "from datetime import datetime\n",
    "from os import system   \n",
    "from math import floor\n",
    "from copy import deepcopy\n",
    "from bs4 import BeautifulSoup\n",
    "from selenium import webdriver\n",
    "from selenium.webdriver.common.by import By\n",
    "from selenium.webdriver.common.keys import Keys\n",
    "from selenium.common.exceptions import TimeoutException\n",
    "from selenium.webdriver.support.ui import WebDriverWait\n",
    "from selenium.webdriver.support import expected_conditions as EC"
   ]
  },
  {
   "cell_type": "markdown",
   "metadata": {},
   "source": [
    "## Begin Article Finding"
   ]
  },
  {
   "cell_type": "code",
   "execution_count": 15,
   "metadata": {
    "ExecuteTime": {
     "end_time": "2020-03-30T19:17:15.226778Z",
     "start_time": "2020-03-30T19:17:11.425397Z"
    }
   },
   "outputs": [],
   "source": [
    "# Initialize driver and load website\n",
    "driver = webdriver.Chrome()\n",
    "driver.get('https://www.cnn.com/search?q=Hong%20Kong%20Protest&size=10&type=article')"
   ]
  },
  {
   "cell_type": "code",
   "execution_count": null,
   "metadata": {
    "ExecuteTime": {
     "end_time": "2020-03-30T03:04:22.169877Z",
     "start_time": "2020-03-30T03:04:19.962530Z"
    }
   },
   "outputs": [],
   "source": [
    "# Locate search\n",
    "# search_button = driver.find_element_by_class_name('search-icon')\n",
    "# search_button.click()"
   ]
  },
  {
   "cell_type": "code",
   "execution_count": null,
   "metadata": {
    "ExecuteTime": {
     "end_time": "2020-03-30T03:04:36.617315Z",
     "start_time": "2020-03-30T03:04:30.836227Z"
    }
   },
   "outputs": [],
   "source": [
    "# Input search term\n",
    "# input_bar = driver.find_element_by_css_selector('input')\n",
    "# input_bar.send_keys('Hong Kong Protest')\n",
    "\n",
    "# Retrive search results\n",
    "# send_button = driver.find_element_by_xpath('//*[@id=\"header-nav-container\"]/div/div[2]/div/div[1]/form/button')\n",
    "# send_button.click()"
   ]
  },
  {
   "cell_type": "markdown",
   "metadata": {},
   "source": [
    "## Scrape Articles"
   ]
  },
  {
   "cell_type": "code",
   "execution_count": 92,
   "metadata": {
    "ExecuteTime": {
     "end_time": "2020-03-30T19:43:11.732043Z",
     "start_time": "2020-03-30T19:43:11.720340Z"
    }
   },
   "outputs": [],
   "source": [
    "# Function to scrape all urls of topic\n",
    "def scrape_urls_cnn(urls, dates, start, stop):\n",
    "    time.sleep(2)\n",
    "    xpath = '/html/body/div[5]/div[2]/div/div[2]/div[2]/div/div[3]/div[{}]/div[2]/div[1]/span[2]'\n",
    "    a_xpath = '/html/body/div[5]/div[2]/div/div[2]/div[2]/div/div[3]/div[{}]/div[2]/h3/a'\n",
    "    ymd_start = datetime(start[0], start[1], start[2]).date()\n",
    "    ymd_stop = datetime(stop[0], stop[1], stop[2]).date()\n",
    "    \n",
    "    # Scrape urls of each page\n",
    "    for i in range(10):\n",
    "        try:\n",
    "            ele = driver.find_element_by_xpath(xpath.format(i+1)).text.replace(',', '')\n",
    "            ts = datetime.strptime(ele, '%b %d %Y').date()\n",
    "            href = driver.find_element_by_xpath(a_xpath.format(i+1)).get_attribute('href')\n",
    "            if ts < ymd_start:\n",
    "                print('All URLS in date range scraped')\n",
    "                print(f'Number of article URLs: {len(urls)}\\n')\n",
    "                return urls, dates\n",
    "            elif ts < ymd_stop:\n",
    "                if re.search('(live-news)', href):\n",
    "                    continue\n",
    "                else:\n",
    "                    urls.append(href)\n",
    "                    dates.append(ts)\n",
    "        except:\n",
    "            print('All URLS in date range scraped')\n",
    "            print(f'Number of article URLs: {len(urls)}\\n')\n",
    "            return urls, dates\n",
    "    \n",
    "    # Click to next page if there is one\n",
    "    try:\n",
    "        np_xpath= '/html/body/div[5]/div[2]/div/div[2]/div[2]/div/div[5]/div/div[3]'\n",
    "        driver.find_element_by_xpath(np_xpath).click()\n",
    "    except:\n",
    "        print('No more pages')\n",
    "        print(f'Number of article URLs: {len(urls)}\\n')\n",
    "        return urls, dates\n",
    "\n",
    "    return scrape_urls_cnn(urls, dates, start, stop)"
   ]
  },
  {
   "cell_type": "code",
   "execution_count": 85,
   "metadata": {
    "ExecuteTime": {
     "end_time": "2020-03-30T19:42:09.412534Z",
     "start_time": "2020-03-30T19:42:09.408322Z"
    }
   },
   "outputs": [],
   "source": [
    "def clean_body(article):\n",
    "    cleaned = re.sub(r\"^.*?\\)|(CNN's.*)\", \"\", article)\n",
    "    return cleaned"
   ]
  },
  {
   "cell_type": "code",
   "execution_count": 86,
   "metadata": {
    "ExecuteTime": {
     "end_time": "2020-03-30T19:42:10.170135Z",
     "start_time": "2020-03-30T19:42:10.162467Z"
    }
   },
   "outputs": [],
   "source": [
    "# Function to scrape headline, byline, and article body\n",
    "def scrape_one_cnn(url):\n",
    "    try:\n",
    "        driver.get(url)\n",
    "        time.sleep(2)\n",
    "        headline = driver.find_element_by_class_name('pg-headline').text\n",
    "        texts = driver.find_elements_by_class_name('zn-body__paragraph')\n",
    "        article = ' '.join([ text.text for text in texts ])\n",
    "        article = clean_body(article)\n",
    "        byline = driver.find_element_by_class_name('metadata__byline__author').text\n",
    "    except:\n",
    "        headline = 'No headline'\n",
    "        byline = 'No byline'\n",
    "        article = 'No text'\n",
    "    return headline, byline, article     "
   ]
  },
  {
   "cell_type": "code",
   "execution_count": 87,
   "metadata": {
    "ExecuteTime": {
     "end_time": "2020-03-30T19:42:11.111990Z",
     "start_time": "2020-03-30T19:42:11.105556Z"
    },
    "scrolled": true
   },
   "outputs": [],
   "source": [
    "# Function to scrape all designated articles\n",
    "def scrape_articles_cnn(start, stop):\n",
    "    urls = []\n",
    "    dates = []\n",
    "    bodies = []\n",
    "    headlines = []\n",
    "    bylines = []\n",
    "    urls, dates = scrape_urls_cnn(urls, dates, start, stop)\n",
    "    for url in urls:\n",
    "        headline, byline, article = scrape_one_cnn(url)\n",
    "        bodies.append(article)\n",
    "        headlines.append(headline)\n",
    "        bylines.append(byline)\n",
    "    return urls, dates, headlines, bylines, bodies      "
   ]
  },
  {
   "cell_type": "code",
   "execution_count": 88,
   "metadata": {
    "ExecuteTime": {
     "end_time": "2020-03-30T19:42:12.184988Z",
     "start_time": "2020-03-30T19:42:12.177585Z"
    }
   },
   "outputs": [],
   "source": [
    "def scrape_cnn(start, stop):\n",
    "    urls = []\n",
    "    dates = []\n",
    "    headlines = []\n",
    "    bylines = []\n",
    "    bodies = []\n",
    "    \n",
    "    urls, dates, headlines, bylines, bodies = scrape_articles_cnn(start, stop)\n",
    "    df = pd.DataFrame()\n",
    "    df['url'] = urls\n",
    "    df['date'] = dates\n",
    "    df['headline'] = headlines\n",
    "    df['byline'] = bylines\n",
    "    df['body'] = bodies\n",
    "    df['source'] = 'CNN'\n",
    "    df['index'] = range(len(df.index))\n",
    "    df.set_index('index', inplace=True)\n",
    "    \n",
    "    return df\n",
    "    "
   ]
  },
  {
   "cell_type": "code",
   "execution_count": 94,
   "metadata": {
    "ExecuteTime": {
     "end_time": "2020-03-30T19:43:36.451208Z",
     "start_time": "2020-03-30T19:43:32.794319Z"
    }
   },
   "outputs": [],
   "source": [
    "driver = webdriver.Chrome()\n",
    "driver.get('https://www.cnn.com/search?q=Hong%20Kong%20Protest&size=10&type=article')"
   ]
  },
  {
   "cell_type": "code",
   "execution_count": 95,
   "metadata": {
    "ExecuteTime": {
     "end_time": "2020-03-30T19:44:30.992794Z",
     "start_time": "2020-03-30T19:43:52.505993Z"
    }
   },
   "outputs": [
    {
     "name": "stdout",
     "output_type": "stream",
     "text": [
      "All URLS in date range scraped\n",
      "Number of article URLs: 4\n",
      "\n"
     ]
    }
   ],
   "source": [
    "df = scrape_cnn(start=(2019, 1, 1), stop=(2020, 1, 1))"
   ]
  },
  {
   "cell_type": "code",
   "execution_count": 96,
   "metadata": {
    "ExecuteTime": {
     "end_time": "2020-03-30T19:44:31.010049Z",
     "start_time": "2020-03-30T19:44:30.995138Z"
    }
   },
   "outputs": [
    {
     "data": {
      "text/html": [
       "<div>\n",
       "<style scoped>\n",
       "    .dataframe tbody tr th:only-of-type {\n",
       "        vertical-align: middle;\n",
       "    }\n",
       "\n",
       "    .dataframe tbody tr th {\n",
       "        vertical-align: top;\n",
       "    }\n",
       "\n",
       "    .dataframe thead th {\n",
       "        text-align: right;\n",
       "    }\n",
       "</style>\n",
       "<table border=\"1\" class=\"dataframe\">\n",
       "  <thead>\n",
       "    <tr style=\"text-align: right;\">\n",
       "      <th></th>\n",
       "      <th>url</th>\n",
       "      <th>date</th>\n",
       "      <th>headline</th>\n",
       "      <th>byline</th>\n",
       "      <th>body</th>\n",
       "      <th>source</th>\n",
       "    </tr>\n",
       "    <tr>\n",
       "      <th>index</th>\n",
       "      <th></th>\n",
       "      <th></th>\n",
       "      <th></th>\n",
       "      <th></th>\n",
       "      <th></th>\n",
       "      <th></th>\n",
       "    </tr>\n",
       "  </thead>\n",
       "  <tbody>\n",
       "    <tr>\n",
       "      <td>0</td>\n",
       "      <td>https://www.cnn.com/2019/12/30/world/2010s-end...</td>\n",
       "      <td>2019-12-30</td>\n",
       "      <td>The 2010s were relentless. Here are some of th...</td>\n",
       "      <td>By Madeline Holcombe and Christina Maxouris, CNN</td>\n",
       "      <td>When the clock strikes midnight on January 1, ...</td>\n",
       "      <td>CNN</td>\n",
       "    </tr>\n",
       "    <tr>\n",
       "      <td>1</td>\n",
       "      <td>https://www.cnn.com/style/article/biggest-fash...</td>\n",
       "      <td>2019-12-17</td>\n",
       "      <td>No headline</td>\n",
       "      <td>No byline</td>\n",
       "      <td>No text</td>\n",
       "      <td>CNN</td>\n",
       "    </tr>\n",
       "    <tr>\n",
       "      <td>2</td>\n",
       "      <td>https://www.cnn.com/2019/12/27/tech/grand-thef...</td>\n",
       "      <td>2019-12-27</td>\n",
       "      <td>Grand Theft Auto V becomes latest battleground...</td>\n",
       "      <td>Isaac Yee, CNN Business</td>\n",
       "      <td>The Hong Kong political crisis is now playing ...</td>\n",
       "      <td>CNN</td>\n",
       "    </tr>\n",
       "    <tr>\n",
       "      <td>3</td>\n",
       "      <td>https://www.cnn.com/2019/12/25/asia/asia-youth...</td>\n",
       "      <td>2019-12-25</td>\n",
       "      <td>Young people across Asia pushed for change in ...</td>\n",
       "      <td>By Jessie Yeung, Erin Chan and Michelle Lim, CNN</td>\n",
       "      <td>2019 was the year of youth activism. Around th...</td>\n",
       "      <td>CNN</td>\n",
       "    </tr>\n",
       "  </tbody>\n",
       "</table>\n",
       "</div>"
      ],
      "text/plain": [
       "                                                     url        date  \\\n",
       "index                                                                  \n",
       "0      https://www.cnn.com/2019/12/30/world/2010s-end...  2019-12-30   \n",
       "1      https://www.cnn.com/style/article/biggest-fash...  2019-12-17   \n",
       "2      https://www.cnn.com/2019/12/27/tech/grand-thef...  2019-12-27   \n",
       "3      https://www.cnn.com/2019/12/25/asia/asia-youth...  2019-12-25   \n",
       "\n",
       "                                                headline  \\\n",
       "index                                                      \n",
       "0      The 2010s were relentless. Here are some of th...   \n",
       "1                                            No headline   \n",
       "2      Grand Theft Auto V becomes latest battleground...   \n",
       "3      Young people across Asia pushed for change in ...   \n",
       "\n",
       "                                                 byline  \\\n",
       "index                                                     \n",
       "0      By Madeline Holcombe and Christina Maxouris, CNN   \n",
       "1                                             No byline   \n",
       "2                               Isaac Yee, CNN Business   \n",
       "3      By Jessie Yeung, Erin Chan and Michelle Lim, CNN   \n",
       "\n",
       "                                                    body source  \n",
       "index                                                            \n",
       "0      When the clock strikes midnight on January 1, ...    CNN  \n",
       "1                                                No text    CNN  \n",
       "2      The Hong Kong political crisis is now playing ...    CNN  \n",
       "3      2019 was the year of youth activism. Around th...    CNN  "
      ]
     },
     "execution_count": 96,
     "metadata": {},
     "output_type": "execute_result"
    }
   ],
   "source": [
    "df"
   ]
  },
  {
   "cell_type": "code",
   "execution_count": 83,
   "metadata": {
    "ExecuteTime": {
     "end_time": "2020-03-30T19:41:40.879111Z",
     "start_time": "2020-03-30T19:41:40.867581Z"
    },
    "scrolled": true
   },
   "outputs": [
    {
     "data": {
      "text/plain": [
       "'When the clock strikes midnight on January 1, an unparalleled decade comes to a close: one that saw everything from NASA\\'s first all-female spacewalk to the aftermath of natural disasters and the death of Osama bin Laden. There were times of real change and hope. The White House was lit up in rainbow colors when the Supreme Court struck down same-sex marriage bans. The world watched in awe as a Thai soccer team and their coach were rescued one-by-one by a group of brave diving experts after being trapped for more than three weeks. And there were moments so shocking we were left feeling helpless. Twenty-six people were killed in a shooting at Sandy Hook Elementary School and eight parishioners and their pastor were gunned down during Bible study at Emanuel African Methodist Episcopal Church. Revolutionary moments made history in real time as anger and passion turned into movements -- like the one made up of thousands of students who skipped classes worldwide to demand action from their leaders on the climate crisis. Here\\'s a look back at some of the news stories that defined the past 10 years. Institutions were shaken by scandal The decade produced scandals that upended institutions from the Catholic Church to elite universities. The controversies began less than a year into 2010, when the US State Department was pushed into damage control mode after WikiLeaks released thousands of classified documents on July 25. WikiLeaks founder, Julian Assange, is now facing charges related to the leak. Chelsea Manning, a former Army intelligence analyst who helped the site get access to the classified documents, is currently jailed for refusing to testify before the grand jury investigating Assange. A year later, another release -- this time, a grand jury report made public in November 2011 -- marked the beginning of a scandal that would ripple through Penn State University and lead to the termination of the school\\'s beloved football coach. The report contained testimony that former Penn State defensive coordinator Jerry Sandusky sexually abused eight young boys, a number that would eventually increase to 10, over a period of at least 15 years. University officials purportedly failed to notify law enforcement after learning about some of these incidents. Sandusky was found guilty in 2012. Football coach Joe Paterno and university president Graham Spanier lost their jobs in the scandal. Sexual abuse within the Catholic Church was similarly far-reaching. In 2017 and 2018, the church in the US spent more than $300 million -- including $200 million in legal settlements -- on costs related to clergy sexual abuse. The payouts were only part of the fallout of the massive worldwide scandal in which the church was accused of repeatedly covering up sexual abuse. USA Gymnastics was likewise disgraced after Larry Nassar, a former USAG and Michigan State University doctor, was sentenced in 2018 to up to 175 years in prison after more than 150 women and girls testified he sexually abused them over two decades. Earlier this year, about 50 people were accused in a college admissions scandal of either cheating on standardized tests or bribing college coaches and school officials to accept students as college athletes -- even if they weren\\'t. Among those named by federal prosecutors were actresses Lori Loughlin and Felicity Huffman. Activism took center stage From #MeToo to Black Lives Matter, the 2010s were shaped by activism, beginning in 2011 with the Occupy Wall Street protest movement. The demonstrations against income inequality, corporate greed, and the influence of money in politics began in New York but spread to cities across the United States. Anger over the acquittal of George Zimmerman in the 2012 shooting death of Trayvon Martin and the police shooting of unarmed teenager Michael Brown in 2014 gave rise to the Black Lives Matter. What started as a social media hashtag quickly grew into an international movement protesting against police brutality and inequality. Another social media hashtag went offline when survivors of sexual abuse shared their stories with #MeToo. Although the hashtag was created years earlier by activist Tarana Burke, it caught fire after people in Hollywood used it to take down Harvey Weinstein. Not only did it spark a conversation about consent and harassment, but the global movement also contributed to powerful men like producers, actors, anchors and executives and politicians being called to account on harassment accusations. Communities were crushed by major disasters The decade also brought catastrophic natural and environmental disasters to points across the world. Haiti and Japan both were hit with the largest earthquakes ever to strike those countries. The 7.0-magnitude earthquake in Haiti in 2010 and 9.1-magnitude quake -- followed by a tsunami -- the following year in Japan left hundreds of thousands of people dead and thousands more displaced. The first year of the decade also saw an explosion on board the Deepwater Horizon oil rig killed 11 people and released 168 million gallons of oil into the Gulf of Mexico. The strongest hurricane to strike the Bahamas made landfall in 2019. Hurricane Dorian slammed the island over Labor Day weekend and stalled there for more than 48 hours. It was one of five Category 5 hurricanes to form this decade. The others: Matthew, Irma, Maria, Michael and Lorenzo. Hurricane Maria, which made landfall on the island nation of Dominica as a Category 5 hurricane and hit Puerto Rico as a Category 4 storm in 2017, caused about $90 billion in damage and resulted in nearly 3,000 deaths. The same year introduced a yearslong spate of wildfires in California, including the deadliest in the state\\'s history. Gun violence and terrorist attacks continued... Mass shootings in the United States shook the country\\'s sense of safety as targeted places included an elementary school, nightclubs, colleges, a music festival and places of worship. More than half of the 10 deadliest US mass shootings took place in this decade, including when a gunman opened fire inside Pulse nightclub in Orlando in June 2016. At least 49 people were killed. In October 2017, 58 people were gunned down at an outdoor music festival in Las Vegas. The shootings raised a debate across the nation about access to firearms. Violent attacks weren\\'t limited to the United States. ISIS showed its global reach in 2015 with a terror attack in Paris and a series of attacks in Tunisia, including at a hotel where 38 people were killed. At Garissa University College in Kenya, four gunmen killed 147 people and wounded scores more during morning prayer in April 2015, making it the deadliest attack in Kenya since the 1998 United States embassy bombings. The Somalia-based Al-Shabaab militant group claimed responsibility for the terror attack. An act of terrorism also devastated the city of Boston in 2013. Two bombs exploded 12 seconds apart near the finish line of the Boston Marathon killing three people and injuring at least 264. ... and so did conflicts between and within countries But bloodshed this past decade didn\\'t only come in isolated attacks. The decade was scarred by humanitarian crises and devastating conflicts -- like the yearslong civil war in Yemen, which has taken the lives of more than 100,000 people. In 2012, the American government came under fire after four Americans were killed in Benghazi, Libya. Critics said the State Department may not have done enough to protect its employees. Back home, Americans faced a rise in extremism. A 2017 government report found far-right-wing violent extremist groups were to blame for the majority of deadly extremist incidents in the country since 2001. The total number of fatalities from far-right wing violent extremists and radical Islamist violent extremists was about the same. The words \"white nationalism\" began leaking into headlines after the death of 32-year-old Heather Heyer, who was killed as a car plowed through a crowd protesting a white nationalist rally in Charlottesville, Virginia. James Alex Fields Jr., the man accused of driving into the crowd has been sentenced to life in prison on hate crime charges. Across the ocean, Europe was fighting its own battle against racism. A CNN poll in 2018 recorded frightening anti-Semitic attitudes across the continent while many blamed a substantial amount of Brexit votes on a rise in racism. With millions fleeing from violence in the Middle East and Africa, Europeans began taking measures against the influx of immigrants. A heartbreaking image of 3-year-old Syrian boy Alan Kurdi shook the world and offered a glimpse into just how badly the European migrant crisis was handled. Four years later a similar photo surfaced: a father and daughter from El Salvador lay face down in murky waters. The devastating picture offered a glimpse into the dangers and challenges migrants face trying to cross from Mexico into the US. The crisis at the border was center stage during the 2016 elections, with then-candidate Donald Trump vowing to build a wall to curb illegal migration. Trump\\'s administration would later draw worldwide condemnation for its practices of separating children from their parents at the border and holding migrants in overcrowded cage-like units.  Political divides widened The past decade\\'s politics have been marked by polarization and division. In a bitterly fought referendum, the United Kingdom voted in June 2016 to leave the European Union. The deal, called Brexit, eventually led to the resignation of British Prime Minister Theresa May and the election of hardline Brexit supporter Boris Johnson. In another divisive decision, the United States elected businessman Donald Trump, a Republican, as president over former Secretary of State Hillary Clinton, a Democrat in November 2016. Three years into his term -- and following dozens of controversial decisions and tweets -- Trump, this month, became the third US president to be impeached. The House of Representatives voted to charge him with abuse of power and obstruction of Congress. Meanwhile, citizens of countries took on their leadership and protested for change. Thousands took to the streets in Venezuela in 2019 in failed effort to remove Venezuelan President Nicolas Maduro from office. In Hong Kong, protests began in June 2019 in response to a bill that would have allowed citizens of Hong Kong to be extradited to China. The protests have continued for months nonstop and resulted in violent clashes with police. The focus of the protests also has shifted to demand greater democracy and an inquiry into allegations of police brutality. We reached historic milestones But among division and disasters, the world took major strides toward change. In 2011, American troops pulled out of Iraq after nearly nine years in the country -- fighting a war over which many high-ranking officials were criticized for not putting an end to earlier. In a landmark opinion, the US Supreme Court ruled in June 2015 that same-sex couples can marry nationwide. The divided court\\'s decision established a new civil right and gave a historic victory to gay rights advocates. Later that year, in December, about 195 nations agreed to begin tackling the climate crisis head-on by reducing greenhouse gas emissions -- the primary driver of climate change -- and entering into other agreements. The agreement became known as the 2015 Paris Climate accord. In 2019, the Trump administration announced that the US would pull out of the agreement following the President\\'s claims that it would punish American workers and benefit foreign countries. And this year, the most diverse class of lawmakers to date took office in the US Congress, bringing greater gender, racial, religious and sexuality representation. '"
      ]
     },
     "execution_count": 83,
     "metadata": {},
     "output_type": "execute_result"
    }
   ],
   "source": [
    "df.iloc[0]['body']"
   ]
  },
  {
   "cell_type": "code",
   "execution_count": 97,
   "metadata": {
    "ExecuteTime": {
     "end_time": "2020-03-30T19:45:40.220716Z",
     "start_time": "2020-03-30T19:45:39.884318Z"
    }
   },
   "outputs": [],
   "source": [
    "driver.quit()"
   ]
  },
  {
   "cell_type": "code",
   "execution_count": null,
   "metadata": {},
   "outputs": [],
   "source": []
  }
 ],
 "metadata": {
  "kernelspec": {
   "display_name": "Python 3",
   "language": "python",
   "name": "python3"
  },
  "language_info": {
   "codemirror_mode": {
    "name": "ipython",
    "version": 3
   },
   "file_extension": ".py",
   "mimetype": "text/x-python",
   "name": "python",
   "nbconvert_exporter": "python",
   "pygments_lexer": "ipython3",
   "version": "3.6.9"
  },
  "toc": {
   "base_numbering": 1,
   "nav_menu": {},
   "number_sections": true,
   "sideBar": true,
   "skip_h1_title": false,
   "title_cell": "Table of Contents",
   "title_sidebar": "Contents",
   "toc_cell": false,
   "toc_position": {},
   "toc_section_display": true,
   "toc_window_display": false
  }
 },
 "nbformat": 4,
 "nbformat_minor": 2
}
