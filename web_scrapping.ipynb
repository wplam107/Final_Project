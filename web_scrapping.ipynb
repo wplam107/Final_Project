{
 "cells": [
  {
   "cell_type": "code",
   "execution_count": 1,
   "metadata": {
    "ExecuteTime": {
     "end_time": "2020-04-01T01:25:35.290400Z",
     "start_time": "2020-04-01T01:25:34.184577Z"
    }
   },
   "outputs": [],
   "source": [
    "import re\n",
    "import os\n",
    "import time\n",
    "import datetime\n",
    "import random\n",
    "import requests\n",
    "import numpy as np\n",
    "import pandas as pd\n",
    "import ws_func\n",
    "from datetime import datetime\n",
    "from os import system   \n",
    "from selenium import webdriver\n",
    "from selenium.webdriver.common.by import By\n",
    "from selenium.webdriver.common.keys import Keys\n",
    "from selenium.common.exceptions import TimeoutException\n",
    "from selenium.webdriver.support.ui import WebDriverWait\n",
    "from selenium.webdriver.support import expected_conditions as EC\n",
    "from selenium.webdriver.common.action_chains import ActionChains"
   ]
  },
  {
   "cell_type": "markdown",
   "metadata": {},
   "source": [
    "## Scrape CNN Articles"
   ]
  },
  {
   "cell_type": "code",
   "execution_count": null,
   "metadata": {
    "ExecuteTime": {
     "end_time": "2020-03-31T04:12:32.186401Z",
     "start_time": "2020-03-31T03:42:19.257969Z"
    }
   },
   "outputs": [],
   "source": [
    "# Scrape CNN articles and save to cnn.tsv (tab separated to avoid comma issues with text body)\n",
    "# ws_func.scrape_cnn(start=(2019, 1, 1), stop=(2020, 1, 1), ret_csv=True, csv='cnn.tsv', ret_df=False)"
   ]
  },
  {
   "cell_type": "markdown",
   "metadata": {},
   "source": [
    "### Notes on CNN Articles\n",
    "- Total number of articles: 221\n",
    "- Date range of scrape: 2019 Jan 1 to 2019 Dec 31 (future scrapes from 2019 Mar 15 to 2019 Dec 31)\n",
    "- Dropped (within the script) all 'live coverage' and 'style' section articles\n",
    "- Articles with text: 220\n",
    "- Articles w/o text: 1 (index: 205)\n",
    "- Article without text is summary article (to be dropped)"
   ]
  },
  {
   "cell_type": "code",
   "execution_count": null,
   "metadata": {
    "ExecuteTime": {
     "end_time": "2020-03-31T04:12:39.154372Z",
     "start_time": "2020-03-31T04:12:39.113694Z"
    }
   },
   "outputs": [],
   "source": [
    "df = pd.read_csv('cnn.tsv', sep='\\t', index_col=0)"
   ]
  },
  {
   "cell_type": "code",
   "execution_count": 2,
   "metadata": {
    "ExecuteTime": {
     "end_time": "2020-04-01T01:27:15.108233Z",
     "start_time": "2020-04-01T01:26:48.998769Z"
    }
   },
   "outputs": [
    {
     "name": "stdout",
     "output_type": "stream",
     "text": [
      "Scrolls: 1\n",
      "Scrolls: 2\n",
      "Scrolls: 3\n",
      "Scrolls: 4\n",
      "Scrolls: 5\n",
      "Scrolls: 6\n"
     ]
    },
    {
     "ename": "KeyboardInterrupt",
     "evalue": "",
     "output_type": "error",
     "traceback": [
      "\u001b[0;31m---------------------------------------------------------------------------\u001b[0m",
      "\u001b[0;31mKeyboardInterrupt\u001b[0m                         Traceback (most recent call last)",
      "\u001b[0;32m<ipython-input-2-8ac0aefd0134>\u001b[0m in \u001b[0;36m<module>\u001b[0;34m\u001b[0m\n\u001b[0;32m----> 1\u001b[0;31m \u001b[0murls\u001b[0m\u001b[0;34m,\u001b[0m \u001b[0mdates\u001b[0m \u001b[0;34m=\u001b[0m \u001b[0mws_func\u001b[0m\u001b[0;34m.\u001b[0m\u001b[0mscrape_urls_scmp\u001b[0m\u001b[0;34m(\u001b[0m\u001b[0mstart\u001b[0m\u001b[0;34m=\u001b[0m\u001b[0;34m(\u001b[0m\u001b[0;36m2019\u001b[0m\u001b[0;34m,\u001b[0m \u001b[0;36m5\u001b[0m\u001b[0;34m,\u001b[0m \u001b[0;36m16\u001b[0m\u001b[0;34m)\u001b[0m\u001b[0;34m,\u001b[0m \u001b[0mstop\u001b[0m\u001b[0;34m=\u001b[0m\u001b[0;34m(\u001b[0m\u001b[0;36m2020\u001b[0m\u001b[0;34m,\u001b[0m \u001b[0;36m3\u001b[0m\u001b[0;34m,\u001b[0m \u001b[0;36m29\u001b[0m\u001b[0;34m)\u001b[0m\u001b[0;34m,\u001b[0m \u001b[0mscroll\u001b[0m\u001b[0;34m=\u001b[0m\u001b[0;36m100\u001b[0m\u001b[0;34m)\u001b[0m\u001b[0;34m\u001b[0m\u001b[0;34m\u001b[0m\u001b[0m\n\u001b[0m",
      "\u001b[0;32m~/Documents/Final_Project/Final_Project/ws_func.py\u001b[0m in \u001b[0;36mscrape_urls_scmp\u001b[0;34m(start, stop, scroll)\u001b[0m\n\u001b[1;32m    192\u001b[0m \u001b[0;34m\u001b[0m\u001b[0m\n\u001b[1;32m    193\u001b[0m     \u001b[0;31m# Scroll through pages\u001b[0m\u001b[0;34m\u001b[0m\u001b[0;34m\u001b[0m\u001b[0;34m\u001b[0m\u001b[0m\n\u001b[0;32m--> 194\u001b[0;31m     \u001b[0m_super_scroll\u001b[0m\u001b[0;34m(\u001b[0m\u001b[0mscroll\u001b[0m\u001b[0;34m,\u001b[0m \u001b[0mdriver\u001b[0m\u001b[0;34m)\u001b[0m\u001b[0;34m\u001b[0m\u001b[0;34m\u001b[0m\u001b[0m\n\u001b[0m\u001b[1;32m    195\u001b[0m \u001b[0;34m\u001b[0m\u001b[0m\n\u001b[1;32m    196\u001b[0m     \u001b[0murls\u001b[0m \u001b[0;34m=\u001b[0m \u001b[0;34m[\u001b[0m\u001b[0;34m]\u001b[0m\u001b[0;34m\u001b[0m\u001b[0;34m\u001b[0m\u001b[0m\n",
      "\u001b[0;32m~/Documents/Final_Project/Final_Project/ws_func.py\u001b[0m in \u001b[0;36m_super_scroll\u001b[0;34m(scroll, driver)\u001b[0m\n\u001b[1;32m    166\u001b[0m     \u001b[0;32mwhile\u001b[0m \u001b[0mi\u001b[0m \u001b[0;34m<\u001b[0m \u001b[0mscroll\u001b[0m\u001b[0;34m:\u001b[0m\u001b[0;34m\u001b[0m\u001b[0;34m\u001b[0m\u001b[0m\n\u001b[1;32m    167\u001b[0m         \u001b[0mactions\u001b[0m \u001b[0;34m=\u001b[0m \u001b[0mActionChains\u001b[0m\u001b[0;34m(\u001b[0m\u001b[0mdriver\u001b[0m\u001b[0;34m)\u001b[0m\u001b[0;34m\u001b[0m\u001b[0;34m\u001b[0m\u001b[0m\n\u001b[0;32m--> 168\u001b[0;31m         \u001b[0mtime\u001b[0m\u001b[0;34m.\u001b[0m\u001b[0msleep\u001b[0m\u001b[0;34m(\u001b[0m\u001b[0mrandom\u001b[0m\u001b[0;34m.\u001b[0m\u001b[0muniform\u001b[0m\u001b[0;34m(\u001b[0m\u001b[0;36m1\u001b[0m\u001b[0;34m,\u001b[0m \u001b[0;36m3\u001b[0m\u001b[0;34m)\u001b[0m\u001b[0;34m)\u001b[0m\u001b[0;34m\u001b[0m\u001b[0;34m\u001b[0m\u001b[0m\n\u001b[0m\u001b[1;32m    169\u001b[0m         \u001b[0mmore_content\u001b[0m \u001b[0;34m=\u001b[0m \u001b[0mdriver\u001b[0m\u001b[0;34m.\u001b[0m\u001b[0mfind_element_by_class_name\u001b[0m\u001b[0;34m(\u001b[0m\u001b[0;34m'topic-content__load-more-anchor'\u001b[0m\u001b[0;34m)\u001b[0m\u001b[0;34m\u001b[0m\u001b[0;34m\u001b[0m\u001b[0m\n\u001b[1;32m    170\u001b[0m         \u001b[0mactions\u001b[0m\u001b[0;34m.\u001b[0m\u001b[0mmove_to_element\u001b[0m\u001b[0;34m(\u001b[0m\u001b[0mmore_content\u001b[0m\u001b[0;34m)\u001b[0m\u001b[0;34m.\u001b[0m\u001b[0mdouble_click\u001b[0m\u001b[0;34m(\u001b[0m\u001b[0mmore_content\u001b[0m\u001b[0;34m)\u001b[0m\u001b[0;34m.\u001b[0m\u001b[0msend_keys\u001b[0m\u001b[0;34m(\u001b[0m\u001b[0mKeys\u001b[0m\u001b[0;34m.\u001b[0m\u001b[0mSPACE\u001b[0m\u001b[0;34m)\u001b[0m\u001b[0;34m.\u001b[0m\u001b[0mperform\u001b[0m\u001b[0;34m(\u001b[0m\u001b[0;34m)\u001b[0m\u001b[0;34m\u001b[0m\u001b[0;34m\u001b[0m\u001b[0m\n",
      "\u001b[0;31mKeyboardInterrupt\u001b[0m: "
     ]
    }
   ],
   "source": [
    "urls, dates = ws_func.scrape_urls_scmp(start=(2019, 5, 16), stop=(2020, 3, 29), scroll=100)"
   ]
  },
  {
   "cell_type": "code",
   "execution_count": null,
   "metadata": {
    "ExecuteTime": {
     "end_time": "2020-04-01T01:22:15.063870Z",
     "start_time": "2020-04-01T01:22:15.057135Z"
    }
   },
   "outputs": [],
   "source": []
  },
  {
   "cell_type": "code",
   "execution_count": null,
   "metadata": {},
   "outputs": [],
   "source": []
  },
  {
   "cell_type": "markdown",
   "metadata": {},
   "source": []
  },
  {
   "cell_type": "code",
   "execution_count": null,
   "metadata": {
    "ExecuteTime": {
     "end_time": "2020-04-01T00:37:41.877085Z",
     "start_time": "2020-04-01T00:37:41.865593Z"
    }
   },
   "outputs": [],
   "source": [
    "random.randint(1, 3)"
   ]
  },
  {
   "cell_type": "code",
   "execution_count": null,
   "metadata": {
    "ExecuteTime": {
     "end_time": "2020-03-31T23:13:39.988902Z",
     "start_time": "2020-03-31T23:13:33.401427Z"
    }
   },
   "outputs": [],
   "source": [
    "driver = webdriver.Chrome()\n",
    "driver.get('https://www.scmp.com/topics/hong-kong-protests')"
   ]
  },
  {
   "cell_type": "code",
   "execution_count": null,
   "metadata": {
    "ExecuteTime": {
     "end_time": "2020-03-31T23:13:40.854735Z",
     "start_time": "2020-03-31T23:13:40.849158Z"
    }
   },
   "outputs": [],
   "source": [
    "def super_scroll(scroll):\n",
    "    i = 0\n",
    "    while i < scroll:\n",
    "        actions = ActionChains(driver)\n",
    "        time.sleep(2)\n",
    "        more_content = driver.find_element_by_class_name('topic-content__load-more-anchor')\n",
    "        actions.move_to_element(more_content).double_click(more_content).send_keys(Keys.SPACE).perform()\n",
    "        i += 1\n",
    "        print(f'Scrolls: {i}')"
   ]
  },
  {
   "cell_type": "code",
   "execution_count": null,
   "metadata": {
    "ExecuteTime": {
     "end_time": "2020-03-31T23:13:48.518147Z",
     "start_time": "2020-03-31T23:13:43.252902Z"
    },
    "scrolled": true
   },
   "outputs": [],
   "source": [
    "super_scroll(scroll=2)"
   ]
  },
  {
   "cell_type": "code",
   "execution_count": null,
   "metadata": {
    "ExecuteTime": {
     "end_time": "2020-03-31T23:15:26.562038Z",
     "start_time": "2020-03-31T23:15:26.558512Z"
    }
   },
   "outputs": [],
   "source": [
    "def len_eles():\n",
    "    len_eles = len(driver.find_elements_by_xpath('//*[@id=\"topic-detail\"]/div[1]/div/div[5]/div[2]/*'))\n",
    "    return len_eles"
   ]
  },
  {
   "cell_type": "code",
   "execution_count": null,
   "metadata": {
    "ExecuteTime": {
     "end_time": "2020-03-31T23:48:33.564219Z",
     "start_time": "2020-03-31T23:48:33.559396Z"
    }
   },
   "outputs": [],
   "source": [
    "xpath = '//*[@id=\"topic-detail\"]/div[1]/div/div[5]/div[2]/div[{}]/div[1]/div[2]/div[1]/div/span'\n",
    "a_xpath = '//*[@id=\"topic-detail\"]/div[1]/div/div[5]/div[2]/div[{}]/div[1]/div[1]/div/div/div[2]/a'\n",
    "dates = []\n",
    "urls = []\n",
    "start = datetime(2019, 3, 15).date()\n",
    "stop = datetime(2020, 3, 30).date()"
   ]
  },
  {
   "cell_type": "code",
   "execution_count": null,
   "metadata": {
    "ExecuteTime": {
     "end_time": "2020-03-31T23:25:00.916431Z",
     "start_time": "2020-03-31T23:25:00.896126Z"
    }
   },
   "outputs": [],
   "source": [
    "start_count = 0\n",
    "stop_count = len_eles()"
   ]
  },
  {
   "cell_type": "code",
   "execution_count": null,
   "metadata": {
    "ExecuteTime": {
     "end_time": "2020-03-31T23:48:58.212169Z",
     "start_time": "2020-03-31T23:48:58.204680Z"
    },
    "scrolled": true
   },
   "outputs": [],
   "source": [
    "def scrape_urls(urls, dates, start, stop, start_count, stop_count):\n",
    "    counter = 0\n",
    "    for i in range(start_count, stop_count):\n",
    "        try:\n",
    "            ele = driver.find_element_by_xpath(xpath.format(i+1)).text[:11]\n",
    "            ts = datetime.strptime(ele, '%d %b %Y').date()\n",
    "            href = driver.find_element_by_xpath(a_xpath.format(i+1)).get_attribute('href')\n",
    "            if ts < start:\n",
    "                counter += 1\n",
    "                if counter > 5:\n",
    "                    print('All articles after start date scraped')\n",
    "                    return urls, date\n",
    "                continue\n",
    "            elif ts < stop:\n",
    "                if re.search('(news)', href):\n",
    "                    urls.append(href)\n",
    "                    dates.append(ts)    \n",
    "        except:\n",
    "            continue\n",
    "    return urls, dates"
   ]
  },
  {
   "cell_type": "code",
   "execution_count": null,
   "metadata": {
    "ExecuteTime": {
     "end_time": "2020-03-31T23:49:02.595863Z",
     "start_time": "2020-03-31T23:48:58.568380Z"
    }
   },
   "outputs": [],
   "source": [
    "urls, dates = scrape_urls(urls, dates, start, stop, start_count, stop_count)"
   ]
  },
  {
   "cell_type": "code",
   "execution_count": null,
   "metadata": {
    "ExecuteTime": {
     "end_time": "2020-03-31T23:49:03.611140Z",
     "start_time": "2020-03-31T23:49:03.605983Z"
    },
    "scrolled": true
   },
   "outputs": [],
   "source": [
    "urls"
   ]
  },
  {
   "cell_type": "code",
   "execution_count": null,
   "metadata": {
    "ExecuteTime": {
     "end_time": "2020-03-31T23:49:09.473600Z",
     "start_time": "2020-03-31T23:49:06.693006Z"
    }
   },
   "outputs": [],
   "source": [
    "driver.get(urls[0])\n",
    "driver.find_element_by_class_name('info__headline').text"
   ]
  },
  {
   "cell_type": "code",
   "execution_count": null,
   "metadata": {
    "ExecuteTime": {
     "end_time": "2020-03-31T23:57:05.224167Z",
     "start_time": "2020-03-31T23:57:05.072657Z"
    }
   },
   "outputs": [],
   "source": [
    "modal_button = driver.find_element_by_css_selector('svg')\n",
    "modal_button.click()"
   ]
  },
  {
   "cell_type": "code",
   "execution_count": null,
   "metadata": {
    "ExecuteTime": {
     "end_time": "2020-04-01T00:02:34.221623Z",
     "start_time": "2020-04-01T00:02:34.138496Z"
    }
   },
   "outputs": [],
   "source": [
    "driver.find_element_by_class_name('main-info__names').text"
   ]
  },
  {
   "cell_type": "code",
   "execution_count": null,
   "metadata": {
    "ExecuteTime": {
     "end_time": "2020-04-01T00:06:39.888027Z",
     "start_time": "2020-04-01T00:06:39.283626Z"
    }
   },
   "outputs": [],
   "source": [
    "driver.find_element_by_class_name('button-container__button').click()"
   ]
  },
  {
   "cell_type": "code",
   "execution_count": null,
   "metadata": {
    "ExecuteTime": {
     "end_time": "2020-04-01T00:06:54.444193Z",
     "start_time": "2020-04-01T00:06:52.772046Z"
    }
   },
   "outputs": [],
   "source": [
    "texts = driver.find_elements_by_class_name('generic-article__body')\n",
    "article = ' '.join([ text.text for text in texts ])\n",
    "byline = driver.find_element_by_class_name('main-info__names').text"
   ]
  },
  {
   "cell_type": "code",
   "execution_count": null,
   "metadata": {
    "ExecuteTime": {
     "end_time": "2020-04-01T00:06:55.690127Z",
     "start_time": "2020-04-01T00:06:55.684352Z"
    }
   },
   "outputs": [],
   "source": [
    "article"
   ]
  },
  {
   "cell_type": "code",
   "execution_count": null,
   "metadata": {
    "ExecuteTime": {
     "end_time": "2020-03-31T18:26:04.066957Z",
     "start_time": "2020-03-31T18:26:04.049265Z"
    }
   },
   "outputs": [],
   "source": [
    "def url_scraper(urls, dates, opin, start, stop):\n",
    "    actions = ActionChains(driver)\n",
    "    more_content = driver.find_element_by_class_name('topic-content__load-more-anchor')\n",
    "    more_move = actions.move_to_element(more_content).perform()\n",
    "    space = actions.send_keys(Keys.SPACE).perform()\n",
    "    \n",
    "    start_count = 0\n",
    "    stop_count = len_eles()\n",
    "    "
   ]
  },
  {
   "cell_type": "code",
   "execution_count": null,
   "metadata": {
    "ExecuteTime": {
     "end_time": "2020-03-31T17:29:48.045049Z",
     "start_time": "2020-03-31T17:29:48.040435Z"
    }
   },
   "outputs": [],
   "source": [
    "urls = []\n",
    "dates = []\n",
    "opin = []\n",
    "url_scraper(urls, dates, opin)"
   ]
  },
  {
   "cell_type": "code",
   "execution_count": null,
   "metadata": {
    "ExecuteTime": {
     "end_time": "2020-03-31T17:01:47.682407Z",
     "start_time": "2020-03-31T17:01:47.660865Z"
    }
   },
   "outputs": [],
   "source": [
    "elements = driver.find_elements_by_xpath(xpath.format(i+1))\n",
    "len(elements)"
   ]
  },
  {
   "cell_type": "code",
   "execution_count": null,
   "metadata": {
    "ExecuteTime": {
     "end_time": "2020-03-31T17:13:47.362065Z",
     "start_time": "2020-03-31T17:13:47.344356Z"
    }
   },
   "outputs": [],
   "source": [
    "//*[@id=\"topic-detail\"]/div[1]/div/div[5]/div[2]/div"
   ]
  },
  {
   "cell_type": "code",
   "execution_count": null,
   "metadata": {
    "ExecuteTime": {
     "end_time": "2020-03-31T17:28:34.762626Z",
     "start_time": "2020-03-31T17:28:34.742889Z"
    }
   },
   "outputs": [],
   "source": [
    "elements = driver.find_elements_by_xpath('//*[@id=\"topic-detail\"]/div[1]/div/div[5]/div[2]/*')"
   ]
  },
  {
   "cell_type": "code",
   "execution_count": null,
   "metadata": {
    "ExecuteTime": {
     "end_time": "2020-03-31T17:28:40.532377Z",
     "start_time": "2020-03-31T17:28:40.527438Z"
    }
   },
   "outputs": [],
   "source": [
    "len(elements)"
   ]
  },
  {
   "cell_type": "code",
   "execution_count": null,
   "metadata": {},
   "outputs": [],
   "source": []
  },
  {
   "cell_type": "code",
   "execution_count": null,
   "metadata": {
    "ExecuteTime": {
     "end_time": "2020-03-31T22:11:44.798707Z",
     "start_time": "2020-03-31T22:11:44.580434Z"
    }
   },
   "outputs": [],
   "source": [
    "driver.quit()"
   ]
  },
  {
   "cell_type": "code",
   "execution_count": null,
   "metadata": {},
   "outputs": [],
   "source": []
  }
 ],
 "metadata": {
  "kernelspec": {
   "display_name": "Python 3",
   "language": "python",
   "name": "python3"
  },
  "language_info": {
   "codemirror_mode": {
    "name": "ipython",
    "version": 3
   },
   "file_extension": ".py",
   "mimetype": "text/x-python",
   "name": "python",
   "nbconvert_exporter": "python",
   "pygments_lexer": "ipython3",
   "version": "3.6.9"
  },
  "toc": {
   "base_numbering": 1,
   "nav_menu": {},
   "number_sections": true,
   "sideBar": true,
   "skip_h1_title": false,
   "title_cell": "Table of Contents",
   "title_sidebar": "Contents",
   "toc_cell": false,
   "toc_position": {},
   "toc_section_display": true,
   "toc_window_display": true
  }
 },
 "nbformat": 4,
 "nbformat_minor": 2
}
