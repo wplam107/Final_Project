{
 "cells": [
  {
   "cell_type": "markdown",
   "metadata": {},
   "source": [
    "# Initial Data Cleaning"
   ]
  },
  {
   "cell_type": "code",
   "execution_count": 82,
   "metadata": {
    "ExecuteTime": {
     "end_time": "2020-04-05T17:44:15.705167Z",
     "start_time": "2020-04-05T17:44:14.744902Z"
    }
   },
   "outputs": [],
   "source": [
    "import numpy as np\n",
    "import pandas as pd\n",
    "import pickle\n",
    "import re\n",
    "import datetime\n",
    "\n",
    "import dc_func"
   ]
  },
  {
   "cell_type": "markdown",
   "metadata": {},
   "source": [
    "## Clean Reuters"
   ]
  },
  {
   "cell_type": "code",
   "execution_count": 2,
   "metadata": {
    "ExecuteTime": {
     "end_time": "2020-04-05T16:44:41.599087Z",
     "start_time": "2020-04-05T16:44:41.545583Z"
    }
   },
   "outputs": [],
   "source": [
    "df = pd.read_csv('reuters.tsv', sep='\\t')\n",
    "df.drop(columns='Unnamed: 0', inplace=True)"
   ]
  },
  {
   "cell_type": "code",
   "execution_count": 3,
   "metadata": {
    "ExecuteTime": {
     "end_time": "2020-04-05T16:44:42.063663Z",
     "start_time": "2020-04-05T16:44:42.018464Z"
    }
   },
   "outputs": [],
   "source": [
    "# Trim date values to month day, year\n",
    "df['date'] = df['date'].map(lambda x: dc_func.str_to_date(x).group(0))\n",
    "\n",
    "# Convert date to datetime\n",
    "df['date'] = df['date'].astype('datetime64[ns]')"
   ]
  },
  {
   "cell_type": "code",
   "execution_count": 4,
   "metadata": {
    "ExecuteTime": {
     "end_time": "2020-04-05T16:44:42.838063Z",
     "start_time": "2020-04-05T16:44:42.819905Z"
    }
   },
   "outputs": [],
   "source": [
    "# Find all indices where date is before protests\n",
    "df.loc[df['date'] < pd.Timestamp(2019, 3, 15)] # index = 363\n",
    "\n",
    "# Drop row\n",
    "df.drop(index=363, inplace=True)\n",
    "\n",
    "# Drop rows with no text body\n",
    "df.dropna(inplace=True)"
   ]
  },
  {
   "cell_type": "code",
   "execution_count": 5,
   "metadata": {
    "ExecuteTime": {
     "end_time": "2020-04-05T16:44:43.921746Z",
     "start_time": "2020-04-05T16:44:43.898483Z"
    }
   },
   "outputs": [],
   "source": [
    "# Only keep text in body\n",
    "df['body'] = df['body'].map(lambda x: dc_func.clean_body_reu(x))"
   ]
  },
  {
   "cell_type": "code",
   "execution_count": 6,
   "metadata": {
    "ExecuteTime": {
     "end_time": "2020-04-05T16:44:45.742216Z",
     "start_time": "2020-04-05T16:44:45.722040Z"
    }
   },
   "outputs": [],
   "source": [
    "# Drop duplicate headlines\n",
    "df.drop_duplicates(subset='headline', inplace=True)\n",
    "\n",
    "# Drop duplicate body\n",
    "df.drop_duplicates(subset='body', inplace=True)"
   ]
  },
  {
   "cell_type": "code",
   "execution_count": 7,
   "metadata": {
    "ExecuteTime": {
     "end_time": "2020-04-05T16:44:49.382509Z",
     "start_time": "2020-04-05T16:44:49.351912Z"
    },
    "scrolled": true
   },
   "outputs": [],
   "source": [
    "# Drop articles not pertaining the HK\n",
    "df = dc_func.not_HK(df)"
   ]
  },
  {
   "cell_type": "code",
   "execution_count": 8,
   "metadata": {
    "ExecuteTime": {
     "end_time": "2020-04-05T16:44:52.668519Z",
     "start_time": "2020-04-05T16:44:52.502063Z"
    }
   },
   "outputs": [],
   "source": [
    "# Save tsv for Reuters\n",
    "# df.to_csv('clean_reuters.tsv', sep='\\t')"
   ]
  },
  {
   "cell_type": "markdown",
   "metadata": {
    "ExecuteTime": {
     "end_time": "2020-04-04T17:48:56.220529Z",
     "start_time": "2020-04-04T17:48:56.211850Z"
    }
   },
   "source": [
    "### Notes\n",
    "- Total articles: 466"
   ]
  },
  {
   "cell_type": "markdown",
   "metadata": {},
   "source": [
    "## Clean CCTV"
   ]
  },
  {
   "cell_type": "code",
   "execution_count": 9,
   "metadata": {
    "ExecuteTime": {
     "end_time": "2020-04-05T16:44:58.246500Z",
     "start_time": "2020-04-05T16:44:58.204629Z"
    }
   },
   "outputs": [],
   "source": [
    "df = pd.read_csv('cctv.tsv', sep='\\t')\n",
    "df.drop(columns='Unnamed: 0', inplace=True)"
   ]
  },
  {
   "cell_type": "code",
   "execution_count": 10,
   "metadata": {
    "ExecuteTime": {
     "end_time": "2020-04-05T16:44:58.548682Z",
     "start_time": "2020-04-05T16:44:58.525734Z"
    }
   },
   "outputs": [],
   "source": [
    "# Change date strings to datetime, drop duplicates\n",
    "df['date'] = df['date'].astype('datetime64[ns]')\n",
    "df.drop_duplicates(subset='body', inplace=True)"
   ]
  },
  {
   "cell_type": "code",
   "execution_count": 11,
   "metadata": {
    "ExecuteTime": {
     "end_time": "2020-04-05T16:44:58.980097Z",
     "start_time": "2020-04-05T16:44:58.928619Z"
    },
    "scrolled": true
   },
   "outputs": [],
   "source": [
    "df['body'] = df['body'].map(lambda x: dc_func.clean_body_cctv(x))"
   ]
  },
  {
   "cell_type": "code",
   "execution_count": 12,
   "metadata": {
    "ExecuteTime": {
     "end_time": "2020-04-05T16:44:59.836966Z",
     "start_time": "2020-04-05T16:44:59.825075Z"
    }
   },
   "outputs": [],
   "source": [
    "df = dc_func.not_HK(df)"
   ]
  },
  {
   "cell_type": "code",
   "execution_count": 13,
   "metadata": {
    "ExecuteTime": {
     "end_time": "2020-04-05T16:45:04.487987Z",
     "start_time": "2020-04-05T16:45:04.458627Z"
    }
   },
   "outputs": [],
   "source": [
    "# Save tsv for CCTV\n",
    "# df.to_csv('clean_cctv.tsv', sep='\\t')"
   ]
  },
  {
   "cell_type": "markdown",
   "metadata": {
    "ExecuteTime": {
     "end_time": "2020-04-04T21:01:45.594293Z",
     "start_time": "2020-04-04T21:01:45.584979Z"
    }
   },
   "source": [
    "### Notes\n",
    "- Total articles: 182"
   ]
  },
  {
   "cell_type": "markdown",
   "metadata": {},
   "source": [
    "## Clean ABC"
   ]
  },
  {
   "cell_type": "code",
   "execution_count": 14,
   "metadata": {
    "ExecuteTime": {
     "end_time": "2020-04-05T16:45:15.779679Z",
     "start_time": "2020-04-05T16:45:15.761990Z"
    }
   },
   "outputs": [],
   "source": [
    "df = pd.read_csv('abc.tsv', sep='\\t')\n",
    "df.drop(columns='Unnamed: 0', inplace=True)"
   ]
  },
  {
   "cell_type": "code",
   "execution_count": 15,
   "metadata": {
    "ExecuteTime": {
     "end_time": "2020-04-05T16:45:17.853903Z",
     "start_time": "2020-04-05T16:45:17.797375Z"
    }
   },
   "outputs": [],
   "source": [
    "# Convert date to datetime objects\n",
    "df['date'] = df['date'].map(lambda x: dc_func.con_to_string(x))\n",
    "df['date'] = df['date'].astype('datetime64[ns]')"
   ]
  },
  {
   "cell_type": "code",
   "execution_count": 16,
   "metadata": {
    "ExecuteTime": {
     "end_time": "2020-04-05T16:45:19.007413Z",
     "start_time": "2020-04-05T16:45:18.999952Z"
    }
   },
   "outputs": [],
   "source": [
    "# Drop duplicates from headline\n",
    "df.drop_duplicates(subset='headline', inplace=True)"
   ]
  },
  {
   "cell_type": "code",
   "execution_count": 17,
   "metadata": {
    "ExecuteTime": {
     "end_time": "2020-04-05T16:45:19.911500Z",
     "start_time": "2020-04-05T16:45:19.905453Z"
    }
   },
   "outputs": [],
   "source": [
    "# Drop empty body row\n",
    "df.dropna(inplace=True)"
   ]
  },
  {
   "cell_type": "code",
   "execution_count": 18,
   "metadata": {
    "ExecuteTime": {
     "end_time": "2020-04-05T16:45:23.015523Z",
     "start_time": "2020-04-05T16:45:22.993310Z"
    }
   },
   "outputs": [],
   "source": [
    "df['body'] = df['body'].map(lambda x: dc_func.clean_body_abc(x))"
   ]
  },
  {
   "cell_type": "code",
   "execution_count": 19,
   "metadata": {
    "ExecuteTime": {
     "end_time": "2020-04-05T16:45:25.812703Z",
     "start_time": "2020-04-05T16:45:25.801736Z"
    }
   },
   "outputs": [],
   "source": [
    "df = dc_func.not_HK(df)"
   ]
  },
  {
   "cell_type": "code",
   "execution_count": 20,
   "metadata": {
    "ExecuteTime": {
     "end_time": "2020-04-05T16:45:26.775887Z",
     "start_time": "2020-04-05T16:45:26.752727Z"
    },
    "scrolled": true
   },
   "outputs": [],
   "source": [
    "# df.to_csv('clean_abc.tsv', sep='\\t')"
   ]
  },
  {
   "cell_type": "markdown",
   "metadata": {},
   "source": [
    "### Notes\n",
    "- Total articles: 111"
   ]
  },
  {
   "cell_type": "markdown",
   "metadata": {},
   "source": [
    "## Clean CNN"
   ]
  },
  {
   "cell_type": "code",
   "execution_count": 24,
   "metadata": {
    "ExecuteTime": {
     "end_time": "2020-04-05T16:46:18.742582Z",
     "start_time": "2020-04-05T16:46:18.714943Z"
    }
   },
   "outputs": [],
   "source": [
    "df = pd.read_csv('cnn.tsv', sep='\\t')\n",
    "df.drop(columns='Unnamed: 0', inplace=True)\n",
    "df.dropna(inplace=True)"
   ]
  },
  {
   "cell_type": "code",
   "execution_count": 28,
   "metadata": {
    "ExecuteTime": {
     "end_time": "2020-04-05T16:46:40.162929Z",
     "start_time": "2020-04-05T16:46:40.155435Z"
    },
    "scrolled": true
   },
   "outputs": [],
   "source": [
    "df['date'] = df['date'].map(lambda x: dc_func.string_to_date_cnn(x)).astype('datetime64[ns]')\n",
    "df['body'] = df['body'].map(lambda x: dc_func.clean_body_cnn(x))"
   ]
  },
  {
   "cell_type": "code",
   "execution_count": 31,
   "metadata": {
    "ExecuteTime": {
     "end_time": "2020-04-05T16:47:10.551939Z",
     "start_time": "2020-04-05T16:47:10.522100Z"
    }
   },
   "outputs": [],
   "source": [
    "df = dc_func.not_HK(df)"
   ]
  },
  {
   "cell_type": "code",
   "execution_count": 33,
   "metadata": {
    "ExecuteTime": {
     "end_time": "2020-04-05T16:47:44.422475Z",
     "start_time": "2020-04-05T16:47:44.386010Z"
    }
   },
   "outputs": [],
   "source": [
    "# df.to_csv('clean_cnn.tsv', sep='\\t')"
   ]
  },
  {
   "cell_type": "markdown",
   "metadata": {},
   "source": [
    "### Notes\n",
    "- Total articles: 96"
   ]
  },
  {
   "cell_type": "markdown",
   "metadata": {},
   "source": [
    "## Clean SCMP"
   ]
  },
  {
   "cell_type": "code",
   "execution_count": 122,
   "metadata": {
    "ExecuteTime": {
     "end_time": "2020-04-06T18:55:41.335570Z",
     "start_time": "2020-04-06T18:55:41.192873Z"
    }
   },
   "outputs": [],
   "source": [
    "dft1 = pd.read_csv('scmp0_200.tsv', sep='\\t')\n",
    "dft2 = pd.read_csv('scmp200_400.tsv', sep='\\t')\n",
    "dft3 = pd.read_csv('scmp400_600.tsv', sep='\\t')\n",
    "dft4 = pd.read_csv('scmp600_800.tsv', sep='\\t')\n",
    "dft5 = pd.read_csv('scmp800_1000.tsv', sep='\\t')\n",
    "dft6 = pd.read_csv('scmp1000_1200.tsv', sep='\\t')\n",
    "dft7 = pd.read_csv('scmp1200_1400.tsv', sep='\\t')\n",
    "dft8 = pd.read_csv('scmp1400_1600.tsv', sep='\\t')\n",
    "dft9 = pd.read_csv('scmp1600_1700.tsv', sep='\\t')\n",
    "dft10 = pd.read_csv('scmp1700_1800.tsv', sep='\\t')\n",
    "dft11 = pd.read_csv('scmp1800_1900.tsv', sep='\\t')\n",
    "dft12 = pd.read_csv('scmp1900_2000.tsv', sep='\\t')\n",
    "dft13 = pd.read_csv('scmp2000_2100.tsv', sep='\\t')\n",
    "dft14 = pd.read_csv('scmp2100_end.tsv', sep='\\t')"
   ]
  },
  {
   "cell_type": "code",
   "execution_count": 123,
   "metadata": {
    "ExecuteTime": {
     "end_time": "2020-04-06T18:56:59.341505Z",
     "start_time": "2020-04-06T18:56:59.324857Z"
    }
   },
   "outputs": [],
   "source": [
    "dfts = [dft2, dft3, dft4, dft5, dft6, dft7, dft8, dft9, dft10, dft11, dft12, dft13, dft14]\n",
    "for frame in dfts:\n",
    "    dft1 = pd.concat([dft1, frame])"
   ]
  },
  {
   "cell_type": "code",
   "execution_count": 125,
   "metadata": {
    "ExecuteTime": {
     "end_time": "2020-04-06T18:57:27.496281Z",
     "start_time": "2020-04-06T18:57:27.491220Z"
    }
   },
   "outputs": [],
   "source": [
    "dft1.drop(columns='Unnamed: 0', inplace=True)"
   ]
  },
  {
   "cell_type": "code",
   "execution_count": 127,
   "metadata": {
    "ExecuteTime": {
     "end_time": "2020-04-06T18:57:42.407581Z",
     "start_time": "2020-04-06T18:57:42.402601Z"
    }
   },
   "outputs": [],
   "source": [
    "dft1.reset_index(inplace=True)"
   ]
  },
  {
   "cell_type": "code",
   "execution_count": 129,
   "metadata": {
    "ExecuteTime": {
     "end_time": "2020-04-06T18:58:07.775614Z",
     "start_time": "2020-04-06T18:58:07.770696Z"
    }
   },
   "outputs": [],
   "source": [
    "dft1.drop(columns='index', inplace=True)"
   ]
  },
  {
   "cell_type": "code",
   "execution_count": 132,
   "metadata": {
    "ExecuteTime": {
     "end_time": "2020-04-06T18:59:11.942165Z",
     "start_time": "2020-04-06T18:59:11.935276Z"
    }
   },
   "outputs": [],
   "source": [
    "dft1.dropna(inplace=True)"
   ]
  },
  {
   "cell_type": "code",
   "execution_count": 136,
   "metadata": {
    "ExecuteTime": {
     "end_time": "2020-04-06T19:01:05.195111Z",
     "start_time": "2020-04-06T19:01:05.179543Z"
    }
   },
   "outputs": [],
   "source": [
    "dft1['date'] = dft1['date'].astype('datetime64[ns]')"
   ]
  },
  {
   "cell_type": "code",
   "execution_count": 142,
   "metadata": {
    "ExecuteTime": {
     "end_time": "2020-04-06T19:02:53.956305Z",
     "start_time": "2020-04-06T19:02:53.762820Z"
    }
   },
   "outputs": [],
   "source": [
    "# dft1.to_csv('clean_scmp.tsv', sep='\\t')"
   ]
  },
  {
   "cell_type": "markdown",
   "metadata": {},
   "source": [
    "# Merge Data"
   ]
  },
  {
   "cell_type": "code",
   "execution_count": 143,
   "metadata": {
    "ExecuteTime": {
     "end_time": "2020-04-06T19:03:19.798623Z",
     "start_time": "2020-04-06T19:03:19.675869Z"
    }
   },
   "outputs": [],
   "source": [
    "df_scmp = pd.read_csv('clean_scmp.tsv', sep='\\t')\n",
    "df_reu = pd.read_csv('clean_reuters.tsv', sep='\\t')\n",
    "df_cctv = pd.read_csv('clean_cctv.tsv', sep='\\t')\n",
    "df_abc = pd.read_csv('clean_abc.tsv', sep='\\t')\n",
    "df_cnn = pd.read_csv('clean_cnn.tsv', sep='\\t')"
   ]
  },
  {
   "cell_type": "code",
   "execution_count": 144,
   "metadata": {
    "ExecuteTime": {
     "end_time": "2020-04-06T19:03:32.284106Z",
     "start_time": "2020-04-06T19:03:32.163109Z"
    }
   },
   "outputs": [],
   "source": [
    "# Combine all DataFrames from different news outlets\n",
    "frames = [df_scmp, df_reu, df_cctv, df_abc, df_cnn]\n",
    "df = pd.concat(frames)\n",
    "\n",
    "# Standardize\n",
    "df.reset_index(inplace=True)\n",
    "df.drop(columns=['index', 'Unnamed: 0'], inplace=True)\n",
    "df['date'] = df['date'].astype('datetime64[ns]')"
   ]
  },
  {
   "cell_type": "code",
   "execution_count": 146,
   "metadata": {
    "ExecuteTime": {
     "end_time": "2020-04-06T19:03:49.160386Z",
     "start_time": "2020-04-06T19:03:49.114295Z"
    }
   },
   "outputs": [],
   "source": [
    "# file = open('articles.p', 'wb') \n",
    "# pickle.dump(df, file)                      \n",
    "# file.close()"
   ]
  }
 ],
 "metadata": {
  "kernelspec": {
   "display_name": "Python 3",
   "language": "python",
   "name": "python3"
  },
  "language_info": {
   "codemirror_mode": {
    "name": "ipython",
    "version": 3
   },
   "file_extension": ".py",
   "mimetype": "text/x-python",
   "name": "python",
   "nbconvert_exporter": "python",
   "pygments_lexer": "ipython3",
   "version": "3.6.9"
  },
  "toc": {
   "base_numbering": 1,
   "nav_menu": {},
   "number_sections": true,
   "sideBar": true,
   "skip_h1_title": false,
   "title_cell": "Table of Contents",
   "title_sidebar": "Contents",
   "toc_cell": false,
   "toc_position": {},
   "toc_section_display": true,
   "toc_window_display": true
  }
 },
 "nbformat": 4,
 "nbformat_minor": 2
}
