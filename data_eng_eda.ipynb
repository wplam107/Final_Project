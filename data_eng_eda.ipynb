{
 "cells": [
  {
   "cell_type": "markdown",
   "metadata": {},
   "source": [
    "# Feature Engineering and EDA"
   ]
  },
  {
   "cell_type": "code",
   "execution_count": 1,
   "metadata": {
    "ExecuteTime": {
     "end_time": "2020-04-07T18:19:00.531188Z",
     "start_time": "2020-04-07T18:18:55.734232Z"
    }
   },
   "outputs": [],
   "source": [
    "import re\n",
    "import numpy as np\n",
    "import pandas as pd\n",
    "import pickle\n",
    "import gensim\n",
    "import spacy\n",
    "import pyLDAvis\n",
    "import pyLDAvis.gensim\n",
    "import matplotlib.pyplot as plt\n",
    "import seaborn as sns\n",
    "from pprint import pprint\n",
    "from gensim.utils import simple_preprocess\n",
    "from gensim import corpora, models\n",
    "from gensim.parsing.preprocessing import STOPWORDS\n",
    "from nltk.corpus import stopwords\n",
    "from gensim.models import CoherenceModel\n",
    "from nltk.stem import WordNetLemmatizer, SnowballStemmer\n",
    "from nltk.tokenize import sent_tokenize\n",
    "from textblob import TextBlob\n",
    "from vaderSentiment.vaderSentiment import SentimentIntensityAnalyzer\n",
    "\n",
    "%matplotlib inline"
   ]
  },
  {
   "cell_type": "code",
   "execution_count": 275,
   "metadata": {
    "ExecuteTime": {
     "end_time": "2020-04-08T00:57:16.449320Z",
     "start_time": "2020-04-08T00:57:16.409577Z"
    }
   },
   "outputs": [],
   "source": [
    "file = open('articles.p', 'rb')      \n",
    "df = pickle.load(file)\n",
    "file.close()"
   ]
  },
  {
   "cell_type": "code",
   "execution_count": 276,
   "metadata": {
    "ExecuteTime": {
     "end_time": "2020-04-08T00:57:17.294046Z",
     "start_time": "2020-04-08T00:57:17.286107Z"
    }
   },
   "outputs": [],
   "source": [
    "drop_indices = df.loc[df['date'] < pd.Timestamp(2019, 3, 15)].index\n",
    "df.drop(index=drop_indices, inplace=True)"
   ]
  },
  {
   "cell_type": "code",
   "execution_count": 277,
   "metadata": {
    "ExecuteTime": {
     "end_time": "2020-04-08T00:57:18.532782Z",
     "start_time": "2020-04-08T00:57:18.463289Z"
    }
   },
   "outputs": [],
   "source": [
    "# Drop update articles and investing articles\n",
    "df = df.loc[df['headline'].map(lambda x: re.search(r'UPDATE', x)).isna()]\n",
    "df = df.loc[df['headline'].map(lambda x: re.search(r'US STOCKS', x)).isna()]\n",
    "df = df.loc[df['headline'].map(lambda x: re.search(r'PRESS', x)).isna()]\n",
    "df = df.loc[df['url'].map(lambda x: re.search(r'/education/', x)).isna()]\n",
    "df = df.loc[df['url'].map(lambda x: re.search(r'/politics/', x)).isna()]\n",
    "df = df.loc[df['url'].map(lambda x: re.search(r'/diplomacy/', x)).isna()]\n",
    "df = df.loc[df['url'].map(lambda x: re.search(r'/letters/', x)).isna()]\n",
    "df = df.loc[df['url'].map(lambda x: re.search(r'health-', x)).isna()]\n",
    "df = df.loc[df['url'].map(lambda x: re.search(r'/money/', x)).isna()]\n",
    "df = df.loc[df['url'].map(lambda x: re.search(r'/transport/', x)).isna()]\n",
    "df = df.loc[df['url'].map(lambda x: re.search(r'investing', x)).isna()]\n",
    "df = df.loc[df['url'].map(lambda x: re.search(r'/society/', x)).isna()]\n",
    "df.reset_index(inplace=True)\n",
    "df.drop(columns='index', inplace=True)\n",
    "df.drop(columns='url', inplace=True)"
   ]
  },
  {
   "cell_type": "code",
   "execution_count": 278,
   "metadata": {
    "ExecuteTime": {
     "end_time": "2020-04-08T00:57:21.396987Z",
     "start_time": "2020-04-08T00:57:21.389361Z"
    }
   },
   "outputs": [
    {
     "data": {
      "text/plain": [
       "SCMP               542\n",
       "Reuters            434\n",
       "CCTV               182\n",
       "ABC (Australia)    102\n",
       "CNN                 81\n",
       "Name: source, dtype: int64"
      ]
     },
     "execution_count": 278,
     "metadata": {},
     "output_type": "execute_result"
    }
   ],
   "source": [
    "df['source'].value_counts()"
   ]
  },
  {
   "cell_type": "markdown",
   "metadata": {},
   "source": [
    "## Add sentences and words features"
   ]
  },
  {
   "cell_type": "code",
   "execution_count": 279,
   "metadata": {
    "ExecuteTime": {
     "end_time": "2020-04-08T00:57:31.079194Z",
     "start_time": "2020-04-08T00:57:31.070063Z"
    }
   },
   "outputs": [],
   "source": [
    "def replace_words(text):\n",
    "    text = re.sub(r'U\\.S\\.', 'US', text)\n",
    "    text = re.sub(r'US\\s', 'USA ', text)\n",
    "    text = re.sub(r'U\\.K\\.', 'UK', text)\n",
    "    text = re.sub(r'Mr\\.', 'MR', text)\n",
    "    text = re.sub(r'Mrs\\.', 'MRS', text)\n",
    "    text = re.sub(r'Ms\\.', 'MS', text)\n",
    "    text = re.sub(r'\\.\\.\\.', '', text)\n",
    "    text = re.sub(r'U.S-China', 'US-China', text)\n",
    "    text = re.sub(r'(\\.)(\\w)', r'\\1 \\2', text)\n",
    "    text = text.replace('Co.', 'Co')\n",
    "    text = text.replace('\\xa0', '')\n",
    "    text = text.replace('.\"', '\".')\n",
    "    text = text.replace('immediatelywith', 'immediately with')\n",
    "    text = text.replace('theOfficeof', 'the Office of')\n",
    "    text = text.replace('theCommissionerof', 'the Commissioner of')\n",
    "    text = text.replace('entirelywithin', 'entirely within')\n",
    "    \n",
    "    return text"
   ]
  },
  {
   "cell_type": "code",
   "execution_count": 280,
   "metadata": {
    "ExecuteTime": {
     "end_time": "2020-04-08T00:57:36.047275Z",
     "start_time": "2020-04-08T00:57:35.974272Z"
    }
   },
   "outputs": [],
   "source": [
    "df['body'] = df['body'].map(replace_words)"
   ]
  },
  {
   "cell_type": "code",
   "execution_count": 281,
   "metadata": {
    "ExecuteTime": {
     "end_time": "2020-04-08T00:57:39.119683Z",
     "start_time": "2020-04-08T00:57:37.836998Z"
    }
   },
   "outputs": [],
   "source": [
    "df['sentences'] = df['body'].map(lambda x: sent_tokenize(x)[:10])"
   ]
  },
  {
   "cell_type": "code",
   "execution_count": 13,
   "metadata": {
    "ExecuteTime": {
     "end_time": "2020-04-07T18:29:28.260055Z",
     "start_time": "2020-04-07T18:29:28.247434Z"
    }
   },
   "outputs": [],
   "source": [
    "stop_words = stopwords.words('english')"
   ]
  },
  {
   "cell_type": "code",
   "execution_count": 14,
   "metadata": {
    "ExecuteTime": {
     "end_time": "2020-04-07T18:29:30.653493Z",
     "start_time": "2020-04-07T18:29:30.647666Z"
    }
   },
   "outputs": [],
   "source": [
    "# Function to preprocess each sentence\n",
    "def preprocess_sent(texts):\n",
    "    texts_out = []\n",
    "    for text in texts:\n",
    "        simple_text = gensim.utils.simple_preprocess(text)\n",
    "        no_stop = [ word for word in simple_text if word not in stop_words ]\n",
    "        texts_out.append(no_stop)\n",
    "    return texts_out\n",
    "\n",
    "# Funtion to preprocess entire body\n",
    "def preprocess_body(text):\n",
    "    simple_text = gensim.utils.simple_preprocess(text)\n",
    "    text_out = [ word for word in simple_text if word not in stop_words ]\n",
    "    return text_out"
   ]
  },
  {
   "cell_type": "code",
   "execution_count": 282,
   "metadata": {
    "ExecuteTime": {
     "end_time": "2020-04-08T00:57:44.826066Z",
     "start_time": "2020-04-08T00:57:43.668565Z"
    }
   },
   "outputs": [],
   "source": [
    "# Preprocess sentences\n",
    "df['sentence_tokens'] = df['sentences'].map(preprocess_sent)\n",
    "\n",
    "# Preprocess entire body for training\n",
    "df['word_tokens'] = df['sentence_tokens'].map(lambda x: [ item for l in x for item in l ])"
   ]
  },
  {
   "cell_type": "markdown",
   "metadata": {},
   "source": [
    "## Dictionary and bigram/trigram models\n",
    "- This section heavily borrows from https://www.machinelearningplus.com/nlp/topic-modeling-gensim-python/"
   ]
  },
  {
   "cell_type": "code",
   "execution_count": 283,
   "metadata": {
    "ExecuteTime": {
     "end_time": "2020-04-08T00:57:52.781606Z",
     "start_time": "2020-04-08T00:57:52.124919Z"
    }
   },
   "outputs": [],
   "source": [
    "nlp = spacy.load('en', disable=['parser', 'ner'])"
   ]
  },
  {
   "cell_type": "code",
   "execution_count": 284,
   "metadata": {
    "ExecuteTime": {
     "end_time": "2020-04-08T00:57:52.788364Z",
     "start_time": "2020-04-08T00:57:52.784258Z"
    }
   },
   "outputs": [],
   "source": [
    "# For bigram/trigram models\n",
    "data_words = df['word_tokens']"
   ]
  },
  {
   "cell_type": "code",
   "execution_count": 285,
   "metadata": {
    "ExecuteTime": {
     "end_time": "2020-04-08T00:57:58.641024Z",
     "start_time": "2020-04-08T00:57:52.793018Z"
    }
   },
   "outputs": [],
   "source": [
    "# Bigram and Trigram\n",
    "bigram = gensim.models.Phrases(data_words, min_count=5, threshold=10)\n",
    "trigram = gensim.models.Phrases(bigram[data_words], threshold=10)\n",
    "bigram_mod = gensim.models.phrases.Phraser(bigram)\n",
    "trigram_mod = gensim.models.phrases.Phraser(trigram)"
   ]
  },
  {
   "cell_type": "code",
   "execution_count": 286,
   "metadata": {
    "ExecuteTime": {
     "end_time": "2020-04-08T00:57:58.652823Z",
     "start_time": "2020-04-08T00:57:58.643537Z"
    },
    "scrolled": true
   },
   "outputs": [],
   "source": [
    "def make_bigrams_sent(texts):\n",
    "    return [ bigram_mod[doc] for doc in texts ]\n",
    "\n",
    "def make_bigrams(text):\n",
    "    return bigram_mod[text]\n",
    "\n",
    "def make_trigrams_sent(texts):\n",
    "    return [ trigram_mod[bigram_mod[doc]] for doc in texts ]\n",
    "\n",
    "def make_trigrams(text):\n",
    "    return trigram_mod[bigram_mod[text]]\n",
    "\n",
    "def lemmatization(text, allowed_postags=['NOUN', 'ADJ', 'VERB', 'ADV']):\n",
    "    doc = nlp(' '.join(text))\n",
    "    return [ token.lemma_ for token in doc if token.pos_ in allowed_postags ]\n",
    "\n",
    "def lemmatize_sent(texts, allowed_postags=['NOUN', 'ADJ', 'VERB', 'ADV']):\n",
    "    texts_out = []\n",
    "    for sent in texts:\n",
    "        doc = nlp(' '.join(sent))\n",
    "        texts_out.append(' '.join([ token.lemma_ for token in doc if token.pos_ in allowed_postags ]))\n",
    "    return texts_out"
   ]
  },
  {
   "cell_type": "code",
   "execution_count": 287,
   "metadata": {
    "ExecuteTime": {
     "end_time": "2020-04-08T00:58:00.060138Z",
     "start_time": "2020-04-08T00:57:58.655662Z"
    }
   },
   "outputs": [],
   "source": [
    "# Create bigrams in df['word_tokens']\n",
    "df['word_tokens'] = df['word_tokens'].map(make_bigrams)\n",
    "\n",
    "# Create bigrams in df['sentence_tokens']\n",
    "df['sentence_tokens'] = df['sentence_tokens'].map(make_bigrams_sent)"
   ]
  },
  {
   "cell_type": "code",
   "execution_count": 288,
   "metadata": {
    "ExecuteTime": {
     "end_time": "2020-04-08T00:58:50.526795Z",
     "start_time": "2020-04-08T00:58:00.063581Z"
    }
   },
   "outputs": [],
   "source": [
    "# Lemmatize df['word_tokens']\n",
    "df['word_tokens'] = df['word_tokens'].map(lemmatization)\n",
    "\n",
    "# Lemmatize df['sentence_tokens']\n",
    "df['sentence_tokens'] = df['sentence_tokens'].map(lemmatize_sent)"
   ]
  },
  {
   "cell_type": "code",
   "execution_count": 289,
   "metadata": {
    "ExecuteTime": {
     "end_time": "2020-04-08T00:58:50.541016Z",
     "start_time": "2020-04-08T00:58:50.529440Z"
    }
   },
   "outputs": [],
   "source": [
    "# Split into SCMP and not SCMP\n",
    "df1 = df.loc[df['source'] == 'SCMP'] # SCMP\n",
    "df2 = df.loc[df['source'] != 'SCMP'] # Not SCMP"
   ]
  },
  {
   "cell_type": "code",
   "execution_count": 290,
   "metadata": {
    "ExecuteTime": {
     "end_time": "2020-04-08T00:58:50.551960Z",
     "start_time": "2020-04-08T00:58:50.546231Z"
    }
   },
   "outputs": [],
   "source": [
    "# Choose corpus for training\n",
    "data_lemmatized = df2['word_tokens'] # Not SCMP"
   ]
  },
  {
   "cell_type": "code",
   "execution_count": 291,
   "metadata": {
    "ExecuteTime": {
     "end_time": "2020-04-08T00:58:50.828081Z",
     "start_time": "2020-04-08T00:58:50.555045Z"
    }
   },
   "outputs": [],
   "source": [
    "# Create Dictionary\n",
    "id2word = corpora.Dictionary(data_lemmatized)\n",
    "\n",
    "# Filter extremes from dictionary\n",
    "id2word.filter_extremes(no_below=15, no_above=0.5, keep_n=100000)\n",
    "\n",
    "# Create Corpus\n",
    "texts = data_lemmatized\n",
    "\n",
    "# Term Document Frequency\n",
    "corpus = [ id2word.doc2bow(text) for text in texts ]"
   ]
  },
  {
   "cell_type": "code",
   "execution_count": 292,
   "metadata": {
    "ExecuteTime": {
     "end_time": "2020-04-08T00:58:50.847094Z",
     "start_time": "2020-04-08T00:58:50.832036Z"
    }
   },
   "outputs": [],
   "source": [
    "# Create TF-IDF corpus\n",
    "tfidf = models.TfidfModel(corpus)\n",
    "corpus_tfidf = tfidf[corpus]"
   ]
  },
  {
   "cell_type": "markdown",
   "metadata": {},
   "source": [
    "## LDA Models"
   ]
  },
  {
   "cell_type": "markdown",
   "metadata": {},
   "source": [
    "### Standard LDA"
   ]
  },
  {
   "cell_type": "code",
   "execution_count": 148,
   "metadata": {
    "ExecuteTime": {
     "end_time": "2020-04-07T20:06:24.271889Z",
     "start_time": "2020-04-07T20:06:02.263919Z"
    }
   },
   "outputs": [],
   "source": [
    "lda_model = gensim.models.LdaMulticore(corpus=corpus,\n",
    "                                       id2word=id2word,\n",
    "                                       workers=2,\n",
    "                                       num_topics=4, \n",
    "                                       random_state=100,\n",
    "                                       passes=10,\n",
    "                                       per_word_topics=True)"
   ]
  },
  {
   "cell_type": "code",
   "execution_count": 149,
   "metadata": {
    "ExecuteTime": {
     "end_time": "2020-04-07T20:06:24.282857Z",
     "start_time": "2020-04-07T20:06:24.275922Z"
    },
    "scrolled": true
   },
   "outputs": [
    {
     "name": "stdout",
     "output_type": "stream",
     "text": [
      "[(0,\n",
      "  '0.031*\"police\" + 0.023*\"protester\" + 0.019*\"hong_kong\" + 0.014*\"government\" '\n",
      "  '+ 0.014*\"violence\" + 0.012*\"people\" + 0.010*\"law\" + 0.009*\"act\" + '\n",
      "  '0.009*\"region\" + 0.008*\"also\"'),\n",
      " (1,\n",
      "  '0.023*\"chinese\" + 0.011*\"also\" + 0.010*\"support\" + 0.010*\"hong_kong\" + '\n",
      "  '0.009*\"company\" + 0.009*\"political\" + 0.009*\"include\" + 0.008*\"people\" + '\n",
      "  '0.008*\"government\" + 0.008*\"make\"'),\n",
      " (2,\n",
      "  '0.025*\"protester\" + 0.017*\"hong_kong\" + 0.015*\"people\" + 0.013*\"police\" + '\n",
      "  '0.010*\"would\" + 0.010*\"government\" + 0.009*\"activist\" + 0.009*\"city\" + '\n",
      "  '0.008*\"call\" + 0.008*\"student\"'),\n",
      " (3,\n",
      "  '0.015*\"market\" + 0.014*\"protester\" + 0.014*\"fall\" + 0.013*\"year\" + '\n",
      "  '0.010*\"share\" + 0.009*\"sale\" + 0.009*\"investor\" + 0.009*\"hong_kong\" + '\n",
      "  '0.008*\"month\" + 0.008*\"company\"')]\n"
     ]
    }
   ],
   "source": [
    "pprint(lda_model.print_topics())\n",
    "doc_lda = lda_model[corpus]"
   ]
  },
  {
   "cell_type": "code",
   "execution_count": 150,
   "metadata": {
    "ExecuteTime": {
     "end_time": "2020-04-07T20:06:26.103243Z",
     "start_time": "2020-04-07T20:06:24.285455Z"
    }
   },
   "outputs": [
    {
     "name": "stdout",
     "output_type": "stream",
     "text": [
      "\n",
      "Perplexity:  -6.397920080811397\n",
      "\n",
      "Coherence Score:  0.407189144019925\n"
     ]
    }
   ],
   "source": [
    "print('\\nPerplexity: ', lda_model.log_perplexity(corpus))\n",
    "\n",
    "coherence_model_lda = CoherenceModel(model=lda_model, texts=data_lemmatized, dictionary=id2word, coherence='c_v')\n",
    "coherence_lda = coherence_model_lda.get_coherence()\n",
    "print('\\nCoherence Score: ', coherence_lda)"
   ]
  },
  {
   "cell_type": "markdown",
   "metadata": {},
   "source": [
    "#### Notes:\n",
    "- Topics:\n",
    "    - Topic 0: Protests\n",
    "    - Topic 1: Economic\n",
    "    - Topic 2: Government"
   ]
  },
  {
   "cell_type": "markdown",
   "metadata": {},
   "source": [
    "### TF-IDF LDA"
   ]
  },
  {
   "cell_type": "code",
   "execution_count": null,
   "metadata": {
    "ExecuteTime": {
     "end_time": "2020-04-07T18:12:10.412641Z",
     "start_time": "2020-04-07T18:11:57.017837Z"
    }
   },
   "outputs": [],
   "source": [
    "tfidf_lda_model = gensim.models.LdaMulticore(corpus=corpus_tfidf,\n",
    "                                             id2word=id2word,\n",
    "                                             workers=4,\n",
    "                                             num_topics=4,\n",
    "                                             chunksize=100,\n",
    "                                             random_state=100,\n",
    "                                             passes=10,\n",
    "                                             per_word_topics=False)"
   ]
  },
  {
   "cell_type": "code",
   "execution_count": null,
   "metadata": {
    "ExecuteTime": {
     "end_time": "2020-04-07T18:12:10.424843Z",
     "start_time": "2020-04-07T18:12:10.417270Z"
    },
    "scrolled": true
   },
   "outputs": [],
   "source": [
    "pprint(tfidf_lda_model.print_topics())\n",
    "doc_tfidf_lda = tfidf_lda_model[corpus]"
   ]
  },
  {
   "cell_type": "code",
   "execution_count": null,
   "metadata": {
    "ExecuteTime": {
     "end_time": "2020-04-07T18:12:13.027506Z",
     "start_time": "2020-04-07T18:12:10.429357Z"
    }
   },
   "outputs": [],
   "source": [
    "print('\\nPerplexity: ', tfidf_lda_model.log_perplexity(corpus))\n",
    "\n",
    "coherence_model_tfidf_lda = CoherenceModel(model=tfidf_lda_model, texts=data_lemmatized, dictionary=id2word, coherence='c_v')\n",
    "coherence_tfidf_lda = coherence_model_tfidf_lda.get_coherence()\n",
    "print('\\nCoherence Score: ', coherence_tfidf_lda)"
   ]
  },
  {
   "cell_type": "markdown",
   "metadata": {},
   "source": [
    "#### Notes:\n",
    "- Topics:\n",
    "    - Topic 0: Government\n",
    "    - Topic 1: Legal Issues\n",
    "    - Topic 2: Economic\n",
    "    - Topic 3: Protests"
   ]
  },
  {
   "cell_type": "markdown",
   "metadata": {},
   "source": [
    "### LDA Mallet"
   ]
  },
  {
   "cell_type": "code",
   "execution_count": 38,
   "metadata": {
    "ExecuteTime": {
     "end_time": "2020-04-07T18:42:39.626511Z",
     "start_time": "2020-04-07T18:42:39.623376Z"
    }
   },
   "outputs": [],
   "source": [
    "mallet_path = '/Users/waynelam/Documents/DevStuff/mallet-2.0.8/bin/mallet'"
   ]
  },
  {
   "cell_type": "code",
   "execution_count": 219,
   "metadata": {
    "ExecuteTime": {
     "end_time": "2020-04-07T21:24:09.569219Z",
     "start_time": "2020-04-07T21:23:33.740461Z"
    }
   },
   "outputs": [
    {
     "name": "stderr",
     "output_type": "stream",
     "text": [
      "/Users/waynelam/opt/anaconda3/envs/learn-env/lib/python3.6/site-packages/smart_open/smart_open_lib.py:398: UserWarning: This function is deprecated, use smart_open.open instead. See the migration notes for details: https://github.com/RaRe-Technologies/smart_open/blob/master/README.rst#migrating-to-the-new-open-function\n",
      "  'See the migration notes for details: %s' % _MIGRATION_NOTES_URL\n"
     ]
    }
   ],
   "source": [
    "ldamallet = gensim.models.wrappers.LdaMallet(mallet_path,\n",
    "                                             corpus=corpus,\n",
    "                                             random_seed=123,\n",
    "                                             num_topics=4,\n",
    "                                             id2word=id2word)"
   ]
  },
  {
   "cell_type": "code",
   "execution_count": 220,
   "metadata": {
    "ExecuteTime": {
     "end_time": "2020-04-07T21:24:09.578492Z",
     "start_time": "2020-04-07T21:24:09.572195Z"
    },
    "scrolled": true
   },
   "outputs": [
    {
     "name": "stdout",
     "output_type": "stream",
     "text": [
      "[(0,\n",
      "  '0.081*\"protester\" + 0.066*\"police\" + 0.033*\"city\" + 0.018*\"demonstration\" + '\n",
      "  '0.015*\"violence\" + 0.014*\"activist\" + 0.014*\"rally\" + 0.014*\"street\" + '\n",
      "  '0.014*\"demonstrator\" + 0.011*\"student\"'),\n",
      " (1,\n",
      "  '0.026*\"year\" + 0.018*\"week\" + 0.018*\"company\" + 0.016*\"market\" + '\n",
      "  '0.016*\"month\" + 0.014*\"fall\" + 0.013*\"business\" + 0.012*\"end\" + '\n",
      "  '0.012*\"share\" + 0.011*\"lead\"'),\n",
      " (2,\n",
      "  '0.042*\"chinese\" + 0.029*\"call\" + 0.028*\"support\" + 0.027*\"make\" + '\n",
      "  '0.022*\"people\" + 0.020*\"include\" + 0.019*\"hong_kong\" + 0.015*\"political\" + '\n",
      "  '0.015*\"show\" + 0.014*\"country\"'),\n",
      " (3,\n",
      "  '0.049*\"hong_kong\" + 0.045*\"government\" + 0.022*\"law\" + 0.018*\"region\" + '\n",
      "  '0.016*\"people\" + 0.015*\"act\" + 0.013*\"bill\" + 0.013*\"mainland\" + '\n",
      "  '0.013*\"situation\" + 0.012*\"official\"')]\n"
     ]
    }
   ],
   "source": [
    "pprint(ldamallet.show_topics())"
   ]
  },
  {
   "cell_type": "code",
   "execution_count": 221,
   "metadata": {
    "ExecuteTime": {
     "end_time": "2020-04-07T21:24:10.364376Z",
     "start_time": "2020-04-07T21:24:09.582313Z"
    }
   },
   "outputs": [
    {
     "name": "stdout",
     "output_type": "stream",
     "text": [
      "\n",
      "Coherence Score:  0.43923238860097163\n"
     ]
    }
   ],
   "source": [
    "coherence_model_ldamallet = CoherenceModel(model=ldamallet,\n",
    "                                           texts=data_lemmatized,\n",
    "                                           dictionary=id2word,\n",
    "                                           coherence='c_v')\n",
    "coherence_ldamallet = coherence_model_ldamallet.get_coherence()\n",
    "print('\\nCoherence Score: ', coherence_ldamallet)"
   ]
  },
  {
   "cell_type": "markdown",
   "metadata": {},
   "source": [
    "#### Notes:\n",
    "- Topics:\n",
    "    - Topic 0: Violence\n",
    "    - Topic 1: Economy\n",
    "    - Topic 2: Politics\n",
    "    - Topic 3: Government"
   ]
  },
  {
   "cell_type": "markdown",
   "metadata": {},
   "source": [
    "### Coherence"
   ]
  },
  {
   "cell_type": "code",
   "execution_count": 168,
   "metadata": {
    "ExecuteTime": {
     "end_time": "2020-04-07T20:38:07.771008Z",
     "start_time": "2020-04-07T20:38:07.763963Z"
    }
   },
   "outputs": [],
   "source": [
    "def compute_coherence_values(start=2, limit=10, step=3):\n",
    "    coherence_values = []\n",
    "    model_list = []\n",
    "    for num_topics in range(start, limit, step):\n",
    "        model = gensim.models.wrappers.LdaMallet(mallet_path=mallet_path,\n",
    "                                                 corpus=corpus,\n",
    "                                                 id2word=id2word,\n",
    "                                                 num_topics=num_topics)\n",
    "        model_list.append(model)\n",
    "        coherencemodel = CoherenceModel(model=model,\n",
    "                                        texts=data_lemmatized,\n",
    "                                        dictionary=id2word,\n",
    "                                        coherence='c_v')\n",
    "        coherence_values.append(coherencemodel.get_coherence())\n",
    "\n",
    "    return model_list, coherence_values"
   ]
  },
  {
   "cell_type": "code",
   "execution_count": 216,
   "metadata": {
    "ExecuteTime": {
     "end_time": "2020-04-07T21:22:36.094508Z",
     "start_time": "2020-04-07T21:15:05.062608Z"
    }
   },
   "outputs": [
    {
     "name": "stderr",
     "output_type": "stream",
     "text": [
      "/Users/waynelam/opt/anaconda3/envs/learn-env/lib/python3.6/site-packages/smart_open/smart_open_lib.py:398: UserWarning: This function is deprecated, use smart_open.open instead. See the migration notes for details: https://github.com/RaRe-Technologies/smart_open/blob/master/README.rst#migrating-to-the-new-open-function\n",
      "  'See the migration notes for details: %s' % _MIGRATION_NOTES_URL\n"
     ]
    }
   ],
   "source": [
    "model_list, coherence_values = compute_coherence_values(start=3,\n",
    "                                                        limit=15,\n",
    "                                                        step=1)"
   ]
  },
  {
   "cell_type": "code",
   "execution_count": 217,
   "metadata": {
    "ExecuteTime": {
     "end_time": "2020-04-07T21:22:36.327466Z",
     "start_time": "2020-04-07T21:22:36.097527Z"
    }
   },
   "outputs": [
    {
     "data": {
      "image/png": "[encoded data removed]",
      "text/plain": [
       "<Figure size 432x288 with 1 Axes>"
      ]
     },
     "metadata": {
      "needs_background": "light"
     },
     "output_type": "display_data"
    }
   ],
   "source": [
    "limit = 15\n",
    "start = 3\n",
    "step = 1\n",
    "x = range(start, limit, step)\n",
    "plt.plot(x, coherence_values)\n",
    "plt.xlabel(\"Num Topics\")\n",
    "plt.ylabel(\"Coherence score\")\n",
    "plt.legend((\"coherence_values\"), loc='best')\n",
    "plt.show()"
   ]
  },
  {
   "cell_type": "code",
   "execution_count": 218,
   "metadata": {
    "ExecuteTime": {
     "end_time": "2020-04-07T21:22:36.337234Z",
     "start_time": "2020-04-07T21:22:36.330428Z"
    }
   },
   "outputs": [
    {
     "name": "stdout",
     "output_type": "stream",
     "text": [
      "Num Topics = 3  has Coherence Value of 0.4388\n",
      "Num Topics = 4  has Coherence Value of 0.4663\n",
      "Num Topics = 5  has Coherence Value of 0.4155\n",
      "Num Topics = 6  has Coherence Value of 0.4439\n",
      "Num Topics = 7  has Coherence Value of 0.4256\n",
      "Num Topics = 8  has Coherence Value of 0.4081\n",
      "Num Topics = 9  has Coherence Value of 0.4313\n",
      "Num Topics = 10  has Coherence Value of 0.4146\n",
      "Num Topics = 11  has Coherence Value of 0.4087\n",
      "Num Topics = 12  has Coherence Value of 0.4563\n",
      "Num Topics = 13  has Coherence Value of 0.4168\n",
      "Num Topics = 14  has Coherence Value of 0.4293\n"
     ]
    }
   ],
   "source": [
    "for m, cv in zip(x, coherence_values):\n",
    "    print(\"Num Topics =\", m, \" has Coherence Value of\", round(cv, 4))"
   ]
  },
  {
   "cell_type": "code",
   "execution_count": 222,
   "metadata": {
    "ExecuteTime": {
     "end_time": "2020-04-07T21:24:10.371768Z",
     "start_time": "2020-04-07T21:24:10.367171Z"
    }
   },
   "outputs": [],
   "source": [
    "mallet_model = gensim.models.wrappers.ldamallet.malletmodel2ldamodel(ldamallet)"
   ]
  },
  {
   "cell_type": "code",
   "execution_count": 263,
   "metadata": {
    "ExecuteTime": {
     "end_time": "2020-04-08T00:44:23.385062Z",
     "start_time": "2020-04-08T00:43:57.096097Z"
    },
    "scrolled": true
   },
   "outputs": [
    {
     "name": "stderr",
     "output_type": "stream",
     "text": [
      "/Users/waynelam/opt/anaconda3/envs/learn-env/lib/python3.6/site-packages/pyLDAvis/_prepare.py:223: RuntimeWarning: divide by zero encountered in log\n",
      "  kernel = (topic_given_term * np.log((topic_given_term.T / topic_proportion).T))\n",
      "/Users/waynelam/opt/anaconda3/envs/learn-env/lib/python3.6/site-packages/pyLDAvis/_prepare.py:240: RuntimeWarning: divide by zero encountered in log\n",
      "  log_lift = np.log(topic_term_dists / term_proportion)\n",
      "/Users/waynelam/opt/anaconda3/envs/learn-env/lib/python3.6/site-packages/pyLDAvis/_prepare.py:241: RuntimeWarning: divide by zero encountered in log\n",
      "  log_ttd = np.log(topic_term_dists)\n",
      "/Users/waynelam/opt/anaconda3/envs/learn-env/lib/python3.6/site-packages/pyLDAvis/_prepare.py:257: FutureWarning: Sorting because non-concatenation axis is not aligned. A future version\n",
      "of pandas will change to not sort by default.\n",
      "\n",
      "To accept the future behavior, pass 'sort=False'.\n",
      "\n",
      "To retain the current behavior and silence the warning, pass 'sort=True'.\n",
      "\n",
      "  return pd.concat([default_term_info] + list(topic_dfs))\n"
     ]
    },
    {
     "data": {
      "text/html": [
       "\n",
       "<link rel=\"stylesheet\" type=\"text/css\" href=\"https://cdn.rawgit.com/bmabey/pyLDAvis/files/ldavis.v1.0.0.css\">\n",
       "\n",
       "\n",
       "<div id=\"ldavis_el6419152173776409486812091\"></div>\n",
       "<script type=\"text/javascript\">\n",
       "\n",
       "var ldavis_el6419152173776409486812091_data = {\"mdsDat\": {\"x\": [0.1578883352485748, -0.2032177953153573, -0.2638802049163144, 0.309209664983097], \"y\": [0.33118252446582325, -0.21212874462164522, 0.10222762075003632, -0.2212814005942143], \"topics\": [1, 2, 3, 4], \"cluster\": [1, 1, 1, 1], \"Freq\": [25.785082311346596, 25.130168986482836, 24.672592725622575, 24.412155976547993]}, \"tinfo\": {\"Category\": [\"Default\", \"Default\", \"Default\", \"Default\", \"Default\", \"Default\", \"Default\", \"Default\", \"Default\", \"Default\", \"Default\", \"Default\", \"Default\", \"Default\", \"Default\", \"Default\", \"Default\", \"Default\", \"Default\", \"Default\", \"Default\", \"Default\", \"Default\", \"Default\", \"Default\", \"Default\", \"Default\", \"Default\", \"Default\", \"Default\", \"Topic1\", \"Topic1\", \"Topic1\", \"Topic1\", \"Topic1\", \"Topic1\", \"Topic1\", \"Topic1\", \"Topic1\", \"Topic1\", \"Topic1\", \"Topic1\", \"Topic1\", \"Topic1\", \"Topic1\", \"Topic1\", \"Topic1\", \"Topic1\", \"Topic1\", \"Topic1\", \"Topic1\", \"Topic1\", \"Topic1\", \"Topic1\", \"Topic1\", \"Topic1\", \"Topic1\", \"Topic1\", \"Topic1\", \"Topic1\", \"Topic1\", \"Topic1\", \"Topic1\", \"Topic1\", \"Topic1\", \"Topic1\", \"Topic1\", \"Topic1\", \"Topic1\", \"Topic1\", \"Topic1\", \"Topic1\", \"Topic1\", \"Topic1\", \"Topic1\", \"Topic1\", \"Topic1\", \"Topic1\", \"Topic1\", \"Topic1\", \"Topic1\", \"Topic1\", \"Topic1\", \"Topic1\", \"Topic1\", \"Topic1\", \"Topic1\", \"Topic1\", \"Topic1\", \"Topic1\", \"Topic1\", \"Topic1\", \"Topic1\", \"Topic1\", \"Topic1\", \"Topic1\", \"Topic2\", \"Topic2\", \"Topic2\", \"Topic2\", \"Topic2\", \"Topic2\", \"Topic2\", \"Topic2\", \"Topic2\", \"Topic2\", \"Topic2\", \"Topic2\", \"Topic2\", \"Topic2\", \"Topic2\", \"Topic2\", \"Topic2\", \"Topic2\", \"Topic2\", \"Topic2\", \"Topic2\", \"Topic2\", \"Topic2\", \"Topic2\", \"Topic2\", \"Topic2\", \"Topic2\", \"Topic2\", \"Topic2\", \"Topic2\", \"Topic2\", \"Topic2\", \"Topic2\", \"Topic2\", \"Topic2\", \"Topic2\", \"Topic2\", \"Topic2\", \"Topic2\", \"Topic2\", \"Topic2\", \"Topic2\", \"Topic2\", \"Topic2\", \"Topic2\", \"Topic2\", \"Topic2\", \"Topic2\", \"Topic2\", \"Topic2\", \"Topic2\", \"Topic2\", \"Topic2\", \"Topic2\", \"Topic2\", \"Topic2\", \"Topic2\", \"Topic2\", \"Topic2\", \"Topic2\", \"Topic2\", \"Topic3\", \"Topic3\", \"Topic3\", \"Topic3\", \"Topic3\", \"Topic3\", \"Topic3\", \"Topic3\", \"Topic3\", \"Topic3\", \"Topic3\", \"Topic3\", \"Topic3\", \"Topic3\", \"Topic3\", \"Topic3\", \"Topic3\", \"Topic3\", \"Topic3\", \"Topic3\", \"Topic3\", \"Topic3\", \"Topic3\", \"Topic3\", \"Topic3\", \"Topic3\", \"Topic3\", \"Topic3\", \"Topic3\", \"Topic3\", \"Topic3\", \"Topic3\", \"Topic3\", \"Topic3\", \"Topic3\", \"Topic3\", \"Topic3\", \"Topic3\", \"Topic3\", \"Topic3\", \"Topic3\", \"Topic3\", \"Topic3\", \"Topic3\", \"Topic3\", \"Topic3\", \"Topic3\", \"Topic3\", \"Topic3\", \"Topic3\", \"Topic3\", \"Topic3\", \"Topic3\", \"Topic3\", \"Topic3\", \"Topic3\", \"Topic3\", \"Topic3\", \"Topic3\", \"Topic3\", \"Topic3\", \"Topic3\", \"Topic3\", \"Topic3\", \"Topic3\", \"Topic3\", \"Topic3\", \"Topic3\", \"Topic3\", \"Topic4\", \"Topic4\", \"Topic4\", \"Topic4\", \"Topic4\", \"Topic4\", \"Topic4\", \"Topic4\", \"Topic4\", \"Topic4\", \"Topic4\", \"Topic4\", \"Topic4\", \"Topic4\", \"Topic4\", \"Topic4\", \"Topic4\", \"Topic4\", \"Topic4\", \"Topic4\", \"Topic4\", \"Topic4\", \"Topic4\", \"Topic4\", \"Topic4\", \"Topic4\", \"Topic4\", \"Topic4\", \"Topic4\", \"Topic4\", \"Topic4\", \"Topic4\", \"Topic4\", \"Topic4\", \"Topic4\", \"Topic4\", \"Topic4\", \"Topic4\", \"Topic4\", \"Topic4\", \"Topic4\", \"Topic4\", \"Topic4\", \"Topic4\", \"Topic4\", \"Topic4\", \"Topic4\", \"Topic4\", \"Topic4\", \"Topic4\", \"Topic4\", \"Topic4\", \"Topic4\", \"Topic4\", \"Topic4\", \"Topic4\", \"Topic4\", \"Topic4\", \"Topic4\"], \"Freq\": [919.0, 750.0, 494.0, 454.0, 743.0, 379.0, 317.0, 300.0, 292.0, 274.0, 239.0, 202.0, 197.0, 194.0, 202.0, 175.0, 172.0, 167.0, 166.0, 164.0, 163.0, 159.0, 154.0, 150.0, 161.0, 147.0, 180.0, 142.0, 139.0, 139.0, 18.979933863250903, 18.979933863250903, 18.979933863250903, 49.12453470488469, 18.979933863250903, 49.12453470488469, 37.959867726501805, 24.562267352442344, 24.562267352442344, 75.91973545300361, 37.959867726501805, 49.12453470488469, 18.979933863250903, 119.46193666869685, 49.12453470488469, 18.979933863250903, 24.562267352442344, 18.979933863250903, 45.77513461136982, 45.77513461136982, 25.67873405028063, 43.54220121569325, 32.377534237310364, 31.261067539472073, 30.144600841633785, 16.747000467574328, 40.19280112217839, 50.24100140272298, 159.65473779087526, 40.19280112217839, 919.9685590187496, 750.2656209473298, 379.59867726501807, 202.0804723087302, 164.1206045822284, 163.0041378843901, 130.62660364707975, 123.92780346005001, 118.34546997085857, 109.41373638815226, 101.59846950328425, 99.36553610760767, 96.01613601409281, 96.01613601409281, 88.20086912922478, 84.85146903570993, 80.38560224435678, 80.38560224435678, 79.26913554651848, 74.80326875516533, 72.57033535948875, 66.98800187029731, 65.87153517245902, 65.87153517245902, 64.75506847462073, 63.63860177678244, 63.63860177678244, 159.65473779087526, 128.39367025140317, 81.50206894219505, 167.47000467574327, 112.76313648166713, 111.64666978382884, 98.24906940976938, 91.55026922273964, 108.29726969031397, 36.64908152961257, 18.324540764806287, 73.29816305922515, 36.64908152961257, 18.324540764806287, 18.324540764806287, 18.324540764806287, 18.324540764806287, 26.34152734940904, 29.777378742810217, 41.23021672081415, 101.93025800423499, 135.14348814044638, 19.469824562606682, 26.34152734940904, 19.469824562606682, 40.08493292301376, 32.067946338411005, 147.74160991625072, 202.7152322106696, 67.57174407022319, 35.503797731812185, 26.34152734940904, 46.95663570981612, 42.375500518614544, 33.2132301362114, 88.18685243063028, 20.615108360407074, 33.2132301362114, 239.36431374028217, 494.7626006497698, 166.066150681057, 139.72462333164796, 139.72462333164796, 137.43405573604718, 135.14348814044638, 135.14348814044638, 124.83593396024284, 122.54536636464206, 107.65667699323694, 91.62270382403145, 90.47742002623106, 89.33213622843067, 80.16986584602752, 80.16986584602752, 76.73401445262634, 76.73401445262634, 74.44344685702555, 74.44344685702555, 74.44344685702555, 72.15287926142476, 71.00759546362437, 67.57174407022319, 67.57174407022319, 131.7076367470452, 97.3491228130334, 541.7192363595859, 178.66427245686134, 97.3491228130334, 75.58873065482594, 74.44344685702555, 57.99717819481732, 24.35881484182328, 30.158532661305014, 41.75796830026847, 28.99858909740866, 105.55486431456754, 20.878984150134237, 47.55768611975021, 19.71904058623789, 26.67870196961597, 23.198871277926933, 54.51734750312829, 46.39774255585387, 53.35740393923194, 23.198871277926933, 34.7983069168904, 46.39774255585387, 31.31847622520136, 31.31847622520136, 45.23779899195752, 57.99717819481732, 45.23779899195752, 27.838645533512317, 27.838645533512317, 45.23779899195752, 47.55768611975021, 20.878984150134237, 30.158532661305014, 30.158532661305014, 17.3991534584452, 454.69787704736785, 317.82453650759896, 300.42538304915377, 292.30577810187935, 167.0318732010739, 154.2724939982141, 139.1932276675616, 139.1932276675616, 114.83441282573831, 113.67446926184196, 99.7551464950858, 96.27531580339677, 88.15571085612234, 88.15571085612234, 84.67588016443331, 83.51593660053695, 83.51593660053695, 82.35599303664061, 81.19604947274426, 80.03610590884792, 76.55627521715888, 76.55627521715888, 75.39633165326252, 70.75655739767714, 70.75655739767714, 69.5966138337808, 67.2767267059881, 66.11678314209176, 64.95683957819541, 64.95683957819541, 126.43384846470178, 109.03469500625658, 165.87192963717757, 212.26967219303143, 235.46854347095834, 117.15429995353101, 201.83018011796432, 85.83582372832966, 82.35599303664061, 175.91712740336735, 25.295273221399228, 18.396562342835804, 40.242480124953325, 20.69613263569028, 54.039901882080166, 52.89011673565293, 21.845917782117514, 18.396562342835804, 20.69613263569028, 56.339472174934656, 120.72744037485997, 74.73603451777046, 27.594843514253704, 67.83732363920703, 32.193984099962655, 34.49355439281713, 79.3351751034794, 77.03560481062493, 22.995702928544752, 59.788827614216366, 85.08410083561559, 24.14548807497199, 19.54634748926304, 91.98281171417901, 22.995702928544752, 41.39226527138056, 32.193984099962655, 52.89011673565293, 112.67894434986931, 274.7986499961098, 197.76304518548488, 194.31368974620315, 172.46777196408564, 150.62185418196816, 142.5733581569775, 129.92572154627788, 127.6261512534234, 111.52915920344205, 109.22958891058758, 101.18109288559691, 101.18109288559691, 94.28238200703349, 93.13259686060626, 93.13259686060626, 90.83302656775177, 88.5334562748973, 88.5334562748973, 88.5334562748973, 87.38367112847006, 83.93431568918835, 83.93431568918835, 81.63474539633388, 95.43216715346072, 110.37937405701481, 112.67894434986931, 112.67894434986931, 88.5334562748973, 87.38367112847006], \"Term\": [\"protester\", \"police\", \"government\", \"chinese\", \"hong_kong\", \"city\", \"call\", \"support\", \"make\", \"year\", \"law\", \"region\", \"week\", \"company\", \"demonstration\", \"market\", \"month\", \"political\", \"act\", \"activist\", \"rally\", \"demonstrator\", \"country\", \"fall\", \"street\", \"bill\", \"show\", \"business\", \"violent\", \"work\", \"shield\", \"location\", \"past\", \"black\", \"family\", \"station\", \"disrupt\", \"university\", \"ground\", \"line\", \"campus\", \"pose\", \"heart\", \"authority\", \"mark\", \"injury\", \"trial\", \"often_violent\", \"build\", \"wear\", \"surround\", \"dozen\", \"independence\", \"chant\", \"sit\", \"retreat\", \"perceive\", \"building\", \"demonstrator\", \"island\", \"protester\", \"police\", \"city\", \"demonstration\", \"activist\", \"rally\", \"student\", \"arrest\", \"officer\", \"colony\", \"movement\", \"clash\", \"weekend\", \"fire\", \"chinese_rule\", \"charge\", \"district\", \"block\", \"man\", \"tear_ga\", \"former_british\", \"young\", \"anger\", \"crowd\", \"area\", \"escalate\", \"peaceful\", \"street\", \"plan\", \"airport\", \"violence\", \"unrest\", \"group\", \"day\", \"hold\", \"people\", \"voice\", \"develop\", \"rioter\", \"fully\", \"lay\", \"vandalism\", \"destroy\", \"determination\", \"accordance_law\", \"organization\", \"violate\", \"stop\", \"public\", \"responsible\", \"administration\", \"justice\", \"criminal\", \"crime\", \"bill\", \"region\", \"system\", \"present\", \"carrie_lam\", \"lam\", \"development\", \"chinas_internal\", \"office\", \"director\", \"duty\", \"law\", \"government\", \"act\", \"mainland\", \"situation\", \"official\", \"urge\", \"resident\", \"china\", \"affair\", \"policy\", \"express\", \"response\", \"challenge\", \"recent\", \"measure\", \"order\", \"effort\", \"return\", \"interfere\", \"foreign\", \"opposition\", \"rule_law\", \"meet\", \"stress\", \"force\", \"hope\", \"hong_kong\", \"people\", \"violence\", \"damage\", \"include\", \"autonomy\", \"letter\", \"exercise\", \"speech\", \"online\", \"rule\", \"expression\", \"team\", \"initially\", \"popular\", \"agreement\", \"run\", \"player\", \"account\", \"site\", \"criticize\", \"campaign\", \"experience\", \"guarantee\", \"image\", \"provide\", \"involve\", \"detention\", \"pay\", \"write\", \"story\", \"direct\", \"ongoing\", \"deny\", \"accept\", \"chinese\", \"call\", \"support\", \"make\", \"political\", \"country\", \"work\", \"violent\", \"stand\", \"attack\", \"freedom\", \"decision\", \"accuse\", \"democracy\", \"world\", \"comment\", \"event\", \"medium\", \"power\", \"speak\", \"turn\", \"news\", \"trump\", \"claim\", \"post\", \"attempt\", \"ban\", \"politician\", \"international\", \"send\", \"statement\", \"back\", \"show\", \"include\", \"people\", \"add\", \"hong_kong\", \"issue\", \"face\", \"market\", \"operate\", \"roil\", \"sector\", \"luxury\", \"growth\", \"good\", \"forecast\", \"european\", \"delay\", \"firm\", \"lead\", \"broad\", \"potential\", \"future\", \"condition\", \"chief\", \"stock\", \"local\", \"total\", \"seek\", \"rise\", \"annual\", \"crackdown\", \"flight\", \"buy\", \"staff\", \"spend\", \"push\", \"expect\", \"year\", \"week\", \"company\", \"month\", \"fall\", \"business\", \"end\", \"share\", \"high\", \"close\", \"big\", \"fear\", \"sale\", \"investor\", \"low\", \"trade\", \"point\", \"economy\", \"deal\", \"hit\", \"global\", \"large\", \"due\", \"early\", \"demand\", \"time\", \"report\", \"give\", \"follow\"], \"Total\": [919.0, 750.0, 494.0, 454.0, 743.0, 379.0, 317.0, 300.0, 292.0, 274.0, 239.0, 202.0, 197.0, 194.0, 202.0, 175.0, 172.0, 167.0, 166.0, 164.0, 163.0, 159.0, 154.0, 150.0, 161.0, 147.0, 180.0, 142.0, 139.0, 139.0, 18.979933863250903, 18.979933863250903, 18.979933863250903, 49.12453470488469, 18.979933863250903, 49.12453470488469, 37.959867726501805, 24.562267352442344, 24.562267352442344, 75.91973545300361, 37.959867726501805, 49.12453470488469, 18.979933863250903, 119.46193666869685, 49.12453470488469, 18.979933863250903, 24.562267352442344, 18.979933863250903, 45.77513461136982, 45.77513461136982, 25.67873405028063, 43.54220121569325, 32.377534237310364, 31.261067539472073, 30.144600841633785, 16.747000467574328, 40.19280112217839, 50.24100140272298, 159.65473779087526, 40.19280112217839, 919.9685590187496, 750.2656209473298, 379.59867726501807, 202.0804723087302, 164.1206045822284, 163.0041378843901, 130.62660364707975, 123.92780346005001, 118.34546997085857, 109.41373638815226, 101.59846950328425, 99.36553610760767, 96.01613601409281, 96.01613601409281, 88.20086912922478, 84.85146903570993, 80.38560224435678, 80.38560224435678, 79.26913554651848, 74.80326875516533, 72.57033535948875, 66.98800187029731, 65.87153517245902, 65.87153517245902, 64.75506847462073, 63.63860177678244, 63.63860177678244, 161.95430808372973, 130.69324054425763, 82.65185408862229, 264.81912748877664, 147.25669087448426, 165.65056087689425, 171.8353187811126, 168.10654443989853, 522.4300856181336, 36.64908152961257, 18.324540764806287, 73.29816305922515, 36.64908152961257, 18.324540764806287, 18.324540764806287, 18.324540764806287, 18.324540764806287, 26.34152734940904, 29.777378742810217, 41.23021672081415, 101.93025800423499, 135.14348814044638, 19.469824562606682, 26.34152734940904, 19.469824562606682, 40.08493292301376, 32.067946338411005, 147.74160991625072, 202.7152322106696, 67.57174407022319, 35.503797731812185, 26.34152734940904, 46.95663570981612, 42.375500518614544, 33.2132301362114, 88.18685243063028, 20.615108360407074, 33.2132301362114, 239.36431374028217, 494.7626006497698, 166.066150681057, 139.72462333164796, 139.72462333164796, 137.43405573604718, 135.14348814044638, 135.14348814044638, 124.83593396024284, 122.54536636464206, 107.65667699323694, 91.62270382403145, 90.47742002623106, 89.33213622843067, 80.16986584602752, 80.16986584602752, 76.73401445262634, 76.73401445262634, 74.44344685702555, 74.44344685702555, 74.44344685702555, 72.15287926142476, 71.00759546362437, 67.57174407022319, 67.57174407022319, 137.28997023623666, 101.9888970686188, 743.5494164775503, 522.4300856181336, 264.81912748877664, 83.70833560210036, 304.5765862154696, 57.99717819481732, 24.35881484182328, 30.158532661305014, 41.75796830026847, 28.99858909740866, 105.55486431456754, 20.878984150134237, 47.55768611975021, 19.71904058623789, 26.67870196961597, 23.198871277926933, 54.51734750312829, 46.39774255585387, 53.35740393923194, 23.198871277926933, 34.7983069168904, 46.39774255585387, 31.31847622520136, 31.31847622520136, 45.23779899195752, 57.99717819481732, 45.23779899195752, 27.838645533512317, 27.838645533512317, 45.23779899195752, 47.55768611975021, 20.878984150134237, 30.158532661305014, 30.158532661305014, 17.3991534584452, 454.69787704736785, 317.82453650759896, 300.42538304915377, 292.30577810187935, 167.0318732010739, 154.2724939982141, 139.1932276675616, 139.1932276675616, 114.83441282573831, 113.67446926184196, 99.7551464950858, 96.27531580339677, 88.15571085612234, 88.15571085612234, 84.67588016443331, 83.51593660053695, 83.51593660053695, 82.35599303664061, 81.19604947274426, 80.03610590884792, 76.55627521715888, 76.55627521715888, 75.39633165326252, 70.75655739767714, 70.75655739767714, 69.5966138337808, 67.2767267059881, 66.11678314209176, 64.95683957819541, 64.95683957819541, 129.78324855821666, 112.4840504455383, 180.38599670907533, 304.5765862154696, 522.4300856181336, 175.53495654138896, 743.5494164775503, 144.2452974161497, 115.84999397178927, 175.91712740336735, 25.295273221399228, 18.396562342835804, 40.242480124953325, 20.69613263569028, 54.039901882080166, 52.89011673565293, 21.845917782117514, 18.396562342835804, 20.69613263569028, 56.339472174934656, 120.72744037485997, 74.73603451777046, 27.594843514253704, 67.83732363920703, 32.193984099962655, 34.49355439281713, 79.3351751034794, 77.03560481062493, 22.995702928544752, 59.788827614216366, 85.08410083561559, 24.14548807497199, 19.54634748926304, 91.98281171417901, 22.995702928544752, 41.39226527138056, 32.193984099962655, 52.89011673565293, 112.67894434986931, 274.7986499961098, 197.76304518548488, 194.31368974620315, 172.46777196408564, 150.62185418196816, 142.5733581569775, 129.92572154627788, 127.6261512534234, 111.52915920344205, 109.22958891058758, 101.18109288559691, 101.18109288559691, 94.28238200703349, 93.13259686060626, 93.13259686060626, 90.83302656775177, 88.5334562748973, 88.5334562748973, 88.5334562748973, 87.38367112847006, 83.93431568918835, 83.93431568918835, 81.63474539633388, 99.89803394481387, 140.5239748986486, 154.06050613590617, 159.0766869057232, 128.7262573970757, 121.74218506248185], \"loglift\": [30.0, 29.0, 28.0, 27.0, 26.0, 25.0, 24.0, 23.0, 22.0, 21.0, 20.0, 19.0, 18.0, 17.0, 16.0, 15.0, 14.0, 13.0, 12.0, 11.0, 10.0, 9.0, 8.0, 7.0, 6.0, 5.0, 4.0, 3.0, 2.0, 1.0, 1.3554, 1.3554, 1.3554, 1.3554, 1.3554, 1.3554, 1.3554, 1.3554, 1.3554, 1.3554, 1.3554, 1.3554, 1.3554, 1.3554, 1.3554, 1.3554, 1.3554, 1.3554, 1.3554, 1.3554, 1.3554, 1.3554, 1.3554, 1.3554, 1.3554, 1.3554, 1.3554, 1.3554, 1.3554, 1.3554, 1.3554, 1.3554, 1.3554, 1.3554, 1.3554, 1.3554, 1.3554, 1.3554, 1.3554, 1.3554, 1.3554, 1.3554, 1.3554, 1.3554, 1.3554, 1.3554, 1.3554, 1.3554, 1.3554, 1.3554, 1.3554, 1.3554, 1.3554, 1.3554, 1.3554, 1.3554, 1.3554, 1.3411, 1.3376, 1.3414, 0.8971, 1.0885, 0.9608, 0.7963, 0.7477, -0.2182, 1.3811, 1.3811, 1.3811, 1.3811, 1.3811, 1.3811, 1.3811, 1.3811, 1.3811, 1.3811, 1.3811, 1.3811, 1.3811, 1.3811, 1.3811, 1.3811, 1.3811, 1.3811, 1.3811, 1.3811, 1.3811, 1.3811, 1.3811, 1.3811, 1.3811, 1.3811, 1.3811, 1.3811, 1.3811, 1.3811, 1.3811, 1.3811, 1.3811, 1.3811, 1.3811, 1.3811, 1.3811, 1.3811, 1.3811, 1.3811, 1.3811, 1.3811, 1.3811, 1.3811, 1.3811, 1.3811, 1.3811, 1.3811, 1.3811, 1.3811, 1.3811, 1.3811, 1.3811, 1.3811, 1.3396, 1.3345, 1.0644, 0.3081, 0.3804, 1.2791, -0.0278, 1.3995, 1.3995, 1.3995, 1.3995, 1.3995, 1.3995, 1.3995, 1.3995, 1.3995, 1.3995, 1.3995, 1.3995, 1.3995, 1.3995, 1.3995, 1.3995, 1.3995, 1.3995, 1.3995, 1.3995, 1.3995, 1.3995, 1.3995, 1.3995, 1.3995, 1.3995, 1.3995, 1.3995, 1.3995, 1.3995, 1.3995, 1.3995, 1.3995, 1.3995, 1.3995, 1.3995, 1.3995, 1.3995, 1.3995, 1.3995, 1.3995, 1.3995, 1.3995, 1.3995, 1.3995, 1.3995, 1.3995, 1.3995, 1.3995, 1.3995, 1.3995, 1.3995, 1.3995, 1.3995, 1.3995, 1.3995, 1.3995, 1.3995, 1.3995, 1.3995, 1.3733, 1.3683, 1.3156, 1.0384, 0.6026, 0.9951, 0.0955, 0.8804, 1.0582, 1.4101, 1.4101, 1.4101, 1.4101, 1.4101, 1.4101, 1.4101, 1.4101, 1.4101, 1.4101, 1.4101, 1.4101, 1.4101, 1.4101, 1.4101, 1.4101, 1.4101, 1.4101, 1.4101, 1.4101, 1.4101, 1.4101, 1.4101, 1.4101, 1.4101, 1.4101, 1.4101, 1.4101, 1.4101, 1.4101, 1.4101, 1.4101, 1.4101, 1.4101, 1.4101, 1.4101, 1.4101, 1.4101, 1.4101, 1.4101, 1.4101, 1.4101, 1.4101, 1.4101, 1.4101, 1.4101, 1.4101, 1.4101, 1.4101, 1.4101, 1.4101, 1.4101, 1.4101, 1.3644, 1.1686, 1.0973, 1.0652, 1.0358, 1.0785], \"logprob\": [30.0, 29.0, 28.0, 27.0, 26.0, 25.0, 24.0, 23.0, 22.0, 21.0, 20.0, 19.0, 18.0, 17.0, 16.0, 15.0, 14.0, 13.0, 12.0, 11.0, 10.0, 9.0, 8.0, 7.0, 6.0, 5.0, 4.0, 3.0, 2.0, 1.0, -6.3946, -6.3946, -6.3946, -5.4436, -6.3946, -5.4436, -5.7014, -6.1367, -6.1367, -5.0083, -5.7014, -5.4436, -6.3946, -4.555, -5.4436, -6.3946, -6.1367, -6.3946, -5.5142, -5.5142, -6.0923, -5.5642, -5.8605, -5.8956, -5.932, -6.5197, -5.6443, -5.4211, -4.2649, -5.6443, -2.5136, -2.7175, -3.3988, -4.0293, -4.2374, -4.2442, -4.4656, -4.5183, -4.5643, -4.6428, -4.7169, -4.7392, -4.7734, -4.7734, -4.8583, -4.8971, -4.9511, -4.9511, -4.9651, -5.0231, -5.0534, -5.1334, -5.1502, -5.1502, -5.1673, -5.1847, -5.1847, -4.2649, -4.4829, -4.9373, -4.2172, -4.6127, -4.6226, -4.7505, -4.8211, -4.6531, -5.7108, -6.404, -5.0177, -5.7108, -6.404, -6.404, -6.404, -6.404, -6.0411, -5.9185, -5.5931, -4.6879, -4.4059, -6.3434, -6.0411, -6.3434, -5.6212, -5.8444, -4.3168, -4.0004, -5.099, -5.7426, -6.0411, -5.463, -5.5657, -5.8093, -4.8328, -6.2862, -5.8093, -3.8342, -3.1082, -4.1998, -4.3726, -4.3726, -4.3891, -4.4059, -4.4059, -4.4852, -4.5037, -4.6333, -4.7946, -4.8071, -4.8199, -4.9281, -4.9281, -4.9719, -4.9719, -5.0022, -5.0022, -5.0022, -5.0334, -5.0494, -5.099, -5.099, -4.4316, -4.7339, -3.0175, -4.1267, -4.7339, -4.9869, -5.0022, -5.2335, -6.101, -5.8874, -5.562, -5.9266, -4.6346, -6.2551, -5.4319, -6.3123, -6.01, -6.1497, -5.2953, -5.4566, -5.3168, -6.1497, -5.7443, -5.4566, -5.8496, -5.8496, -5.4819, -5.2335, -5.4819, -5.9674, -5.9674, -5.4819, -5.4319, -6.2551, -5.8874, -5.8874, -6.4374, -3.1742, -3.5324, -3.5887, -3.6161, -4.1757, -4.2551, -4.358, -4.358, -4.5504, -4.5605, -4.6911, -4.7266, -4.8147, -4.8147, -4.855, -4.8688, -4.8688, -4.8828, -4.897, -4.9114, -4.9558, -4.9558, -4.9711, -5.0346, -5.0346, -5.0511, -5.085, -5.1024, -5.1201, -5.1201, -4.4541, -4.6022, -4.1826, -3.936, -3.8323, -4.5304, -3.9864, -4.8414, -4.8828, -4.1132, -6.0526, -6.3711, -5.5883, -6.2533, -5.2935, -5.315, -6.1992, -6.3711, -6.2533, -5.2518, -4.4897, -4.9693, -5.9656, -5.0661, -5.8115, -5.7425, -4.9096, -4.939, -6.1479, -5.1924, -4.8396, -6.0991, -6.3105, -4.7616, -6.1479, -5.5601, -5.8115, -5.315, -4.5587, -3.6672, -3.9962, -4.0138, -4.133, -4.2685, -4.3234, -4.4163, -4.4341, -4.569, -4.5898, -4.6663, -4.6663, -4.7369, -4.7492, -4.7492, -4.7742, -4.7999, -4.7999, -4.7999, -4.8129, -4.8532, -4.8532, -4.881, -4.7248, -4.5793, -4.5587, -4.5587, -4.7999, -4.8129]}, \"token.table\": {\"Topic\": [3, 2, 3, 3, 2, 1, 1, 2, 3, 2, 2, 3, 1, 4, 1, 4, 1, 1, 3, 3, 1, 3, 3, 4, 3, 4, 2, 1, 1, 4, 1, 1, 4, 4, 3, 3, 1, 2, 2, 1, 1, 4, 2, 2, 3, 1, 1, 3, 1, 4, 1, 3, 4, 4, 3, 4, 2, 2, 3, 1, 2, 3, 1, 4, 4, 3, 4, 1, 4, 3, 1, 1, 3, 2, 3, 2, 2, 2, 3, 2, 1, 1, 1, 4, 2, 1, 4, 4, 2, 4, 1, 4, 3, 3, 4, 3, 2, 3, 1, 3, 4, 1, 4, 1, 4, 4, 2, 4, 1, 2, 4, 2, 1, 3, 2, 4, 1, 4, 4, 4, 2, 1, 1, 2, 4, 4, 3, 1, 4, 4, 1, 3, 2, 3, 2, 3, 3, 1, 2, 3, 1, 3, 1, 2, 3, 4, 3, 1, 2, 3, 2, 2, 4, 2, 2, 4, 3, 1, 4, 1, 4, 4, 2, 3, 1, 1, 4, 2, 3, 2, 4, 1, 3, 2, 1, 2, 1, 3, 3, 4, 2, 2, 2, 1, 3, 1, 1, 2, 3, 1, 1, 4, 3, 4, 1, 2, 3, 3, 3, 1, 3, 4, 3, 2, 1, 3, 2, 4, 1, 2, 2, 3, 4, 2, 2, 2, 1, 2, 2, 4, 4, 3, 2, 3, 4, 4, 4, 3, 4, 1, 1, 3, 1, 3, 2, 3, 3, 4, 4, 3, 1, 3, 1, 4, 2, 3, 1, 4, 2, 1, 3, 1, 2, 3, 1, 1, 2, 3, 4, 4, 4, 1, 3, 3, 1, 1, 4, 2, 2, 2, 1, 2, 3, 2, 1, 4, 1, 3, 3, 3, 4, 1], \"Freq\": [0.9770590299465715, 0.9870346413524611, 0.9933016992423584, 0.9982336838463424, 0.9996016606588055, 0.9992651466125451, 0.005696870980591335, 0.3247216458937061, 0.6665339047291863, 0.9870346413524611, 1.0037099210589908, 0.9914275450928445, 0.992113255101049, 0.012098942135378645, 1.0019502327857495, 0.9939745233345357, 1.0037824301811258, 1.0005825693503336, 1.0028637102092661, 1.0057960602391176, 0.9961331895197888, 1.0000486541806086, 0.9690262714425883, 0.026670447837869406, 0.9958867394485846, 0.9982102102237453, 1.0017489323684488, 0.9974649183827831, 0.9952030931710306, 1.0035319706742907, 1.004912391640992, 0.9952030931710307, 1.0029924373567238, 1.0001868641053766, 1.000552076609091, 0.9914275450928445, 1.0010572290132131, 0.9870346413524611, 0.9962820073217395, 0.9916487964097057, 1.0017504819418928, 0.9856914023067478, 1.0013142533127473, 0.9935799639078489, 1.0006644476868773, 0.9977225946727295, 1.0010572290132131, 1.0034405659528434, 0.9963212988936948, 0.9978981069792773, 0.9962186065314094, 1.0057960602391178, 0.9983856528759611, 0.9939745233345356, 0.9982336838463424, 1.0232090681384924, 0.9978811758728179, 0.9978811758728179, 1.0057960602391176, 1.0019502327857495, 0.907914360658881, 0.09556993270093485, 0.5703134879089348, 0.43064487862511397, 1.0052696883724281, 0.9971403282232906, 1.014682325904005, 0.21348670233415457, 0.7827845752252334, 0.9982336838463424, 0.999601780875654, 1.0021625553610378, 0.994743356280446, 0.9822892824998053, 1.0057960602391178, 0.9822892824998053, 0.9822892824998053, 0.9911387354952989, 1.0057960602391178, 1.018670367036835, 1.0010572290132131, 0.9952030931710306, 1.0105139099890466, 1.00447425421483, 0.9935799639078489, 0.04004082805282933, 0.9509696662546966, 1.0052696883724281, 1.0034663317079269, 1.0005716993743665, 1.00567891520441, 0.9784436714074335, 1.0057960602391178, 0.994743356280446, 1.002849295864308, 0.9898310434099253, 1.004117933222023, 1.0057960602391178, 0.2848511153831899, 0.7078118624673203, 1.0025105640883627, 1.0010572290132131, 0.9982102102237453, 0.999831944767175, 0.9939745233345355, 1.0001868641053766, 0.2792787067403969, 0.7146249260710157, 0.04370311967928699, 0.9614686329443138, 1.0070531354836745, 0.9940431713502301, 1.0059206649436416, 1.0024545450888218, 1.0095750959025775, 1.0023980362441502, 0.3107369141993612, 0.6913896340935788, 1.0007825680149092, 1.0020775765138934, 1.00047982476832, 1.017821345288554, 0.6761220692952227, 0.05433123771122325, 0.2716561885561163, 0.9992616218629109, 0.9898310434099253, 1.0010572290132131, 1.0042216833689124, 0.9956093498531781, 0.5472719715138268, 0.45804284572352894, 0.7289360841242277, 0.27166990589131734, 0.9510839197990126, 0.04902494431953674, 0.9947433562804461, 0.05909843636918986, 0.24296023840666942, 0.6960482505704584, 0.9883396235629546, 1.0142481279722195, 1.0010572290132131, 0.9940431713502301, 1.0006644476868771, 0.9985762572388621, 0.9947433562804461, 0.9952030931710306, 0.40209283102428767, 0.5962066115187714, 0.9758690911109175, 1.0009234965309666, 1.0007825680149092, 0.9984779947579092, 0.9822892824998053, 1.0022576443623235, 0.9852696100301561, 1.0010572290132131, 0.9995378135770796, 1.0010572290132131, 0.9985762572388621, 1.014682325904005, 1.0019708528231164, 0.9989539101694638, 0.9966047876684546, 0.9974649183827831, 1.0004710888465262, 0.9978811758728179, 0.9956773876008971, 1.0063377960073334, 0.9972877717456509, 1.003952131352754, 1.0057960602391176, 0.9978811758728178, 0.997080834856259, 0.9968417163146169, 1.0010572290132131, 0.994743356280446, 1.0000486541806086, 0.9883269408155895, 0.997881175872818, 1.0034663317079269, 1.0074761871792874, 1.0010572290132131, 1.0057960602391178, 1.00567891520441, 0.20672622609820715, 0.34262957844054703, 0.4498209549359137, 0.9952030931710306, 0.9793926561691949, 0.01530301025264367, 0.9914275450928445, 1.0052696883724281, 0.9996459641226871, 1.003189054467886, 0.9998091789281707, 0.9982336838463423, 1.0120432407374973, 0.9974649183827831, 1.0034405659528434, 1.0146823259040052, 0.997585480155533, 1.013976033548186, 1.000034176147589, 1.0000486541806086, 0.9989382533896324, 1.0020775765138934, 0.9999746148506179, 0.9978811758728179, 1.0014047675955324, 0.28916870784002374, 0.7103492170852757, 0.9989382533896324, 0.9947233240504355, 0.9758690911109175, 1.0151071550344513, 0.9940431713502301, 0.9959321892011914, 0.9990115563919743, 0.9784436714074335, 1.004217102530736, 0.9998930330822389, 1.0088531911213034, 0.9970049334666531, 0.9939745233345355, 1.0035319706742907, 1.0006644476868771, 1.0029292487699817, 1.0010572290132131, 0.08315501354682119, 0.920248816584821, 0.9952030931710307, 0.9914275450928445, 1.0019708528231164, 0.999548879740738, 1.0057960602391178, 0.9939745233345356, 0.9905232229062907, 1.001441964740247, 0.023115463924100306, 0.9708494848122128, 0.9974649183827831, 0.9957752018188374, 1.0006842128836966, 1.0093005761284526, 0.9879329663603678, 0.012349162079504598, 1.0063377960073334, 1.0028585015800386, 0.9985840642197528, 1.0125109730522661, 1.0063377960073334, 1.0093005761284526, 1.0026299819260382, 0.2531472924384379, 0.006490956216370204, 0.006490956216370204, 0.733478052449833, 1.0001868641053766, 1.001838245829271, 1.017821345288554, 0.9947433562804462, 1.0057960602391176, 1.017821345288554, 0.7673675085929827, 0.23088933886868507, 0.9989382533896324, 0.9822892824998053, 0.9944163106788151, 0.6306191006051014, 0.3662877410700289, 0.9986118026659812, 1.0095750959025775, 1.004912391640992, 1.001198175393653, 0.999831944767175, 0.9986118026659812, 1.0038277704930527, 0.9947433562804461, 1.0007327183153667, 1.0001791086368859], \"Term\": [\"accept\", \"accordance_law\", \"account\", \"accuse\", \"act\", \"activist\", \"add\", \"add\", \"add\", \"administration\", \"affair\", \"agreement\", \"airport\", \"airport\", \"anger\", \"annual\", \"area\", \"arrest\", \"attack\", \"attempt\", \"authority\", \"autonomy\", \"back\", \"back\", \"ban\", \"big\", \"bill\", \"black\", \"block\", \"broad\", \"build\", \"building\", \"business\", \"buy\", \"call\", \"campaign\", \"campus\", \"carrie_lam\", \"challenge\", \"chant\", \"charge\", \"chief\", \"china\", \"chinas_internal\", \"chinese\", \"chinese_rule\", \"city\", \"claim\", \"clash\", \"close\", \"colony\", \"comment\", \"company\", \"condition\", \"country\", \"crackdown\", \"crime\", \"criminal\", \"criticize\", \"crowd\", \"damage\", \"damage\", \"day\", \"day\", \"deal\", \"decision\", \"delay\", \"demand\", \"demand\", \"democracy\", \"demonstration\", \"demonstrator\", \"deny\", \"destroy\", \"detention\", \"determination\", \"develop\", \"development\", \"direct\", \"director\", \"disrupt\", \"district\", \"dozen\", \"due\", \"duty\", \"early\", \"early\", \"economy\", \"effort\", \"end\", \"escalate\", \"european\", \"event\", \"exercise\", \"expect\", \"experience\", \"express\", \"expression\", \"face\", \"face\", \"fall\", \"family\", \"fear\", \"fire\", \"firm\", \"flight\", \"follow\", \"follow\", \"force\", \"force\", \"forecast\", \"foreign\", \"former_british\", \"freedom\", \"fully\", \"future\", \"give\", \"give\", \"global\", \"good\", \"government\", \"ground\", \"group\", \"group\", \"group\", \"growth\", \"guarantee\", \"heart\", \"high\", \"hit\", \"hold\", \"hold\", \"hong_kong\", \"hong_kong\", \"hope\", \"hope\", \"image\", \"include\", \"include\", \"include\", \"independence\", \"initially\", \"injury\", \"interfere\", \"international\", \"investor\", \"involve\", \"island\", \"issue\", \"issue\", \"justice\", \"lam\", \"large\", \"law\", \"lay\", \"lead\", \"letter\", \"line\", \"local\", \"location\", \"low\", \"luxury\", \"mainland\", \"make\", \"man\", \"mark\", \"market\", \"measure\", \"medium\", \"meet\", \"month\", \"movement\", \"news\", \"office\", \"officer\", \"official\", \"often_violent\", \"ongoing\", \"online\", \"operate\", \"opposition\", \"order\", \"organization\", \"past\", \"pay\", \"peaceful\", \"people\", \"people\", \"people\", \"perceive\", \"plan\", \"plan\", \"player\", \"point\", \"police\", \"policy\", \"political\", \"politician\", \"popular\", \"pose\", \"post\", \"potential\", \"power\", \"present\", \"protester\", \"provide\", \"public\", \"push\", \"rally\", \"recent\", \"region\", \"report\", \"report\", \"resident\", \"response\", \"responsible\", \"retreat\", \"return\", \"rioter\", \"rise\", \"roil\", \"rule\", \"rule_law\", \"run\", \"sale\", \"sector\", \"seek\", \"send\", \"share\", \"shield\", \"show\", \"show\", \"sit\", \"site\", \"situation\", \"speak\", \"speech\", \"spend\", \"staff\", \"stand\", \"statement\", \"statement\", \"station\", \"stock\", \"stop\", \"story\", \"street\", \"street\", \"stress\", \"student\", \"support\", \"surround\", \"system\", \"team\", \"tear_ga\", \"time\", \"time\", \"time\", \"time\", \"total\", \"trade\", \"trial\", \"trump\", \"turn\", \"university\", \"unrest\", \"unrest\", \"urge\", \"vandalism\", \"violate\", \"violence\", \"violence\", \"violent\", \"voice\", \"wear\", \"week\", \"weekend\", \"work\", \"world\", \"write\", \"year\", \"young\"]}, \"R\": 30, \"lambda.step\": 0.01, \"plot.opts\": {\"xlab\": \"PC1\", \"ylab\": \"PC2\"}, \"topic.order\": [1, 4, 3, 2]};\n",
       "\n",
       "function LDAvis_load_lib(url, callback){\n",
       "  var s = document.createElement('script');\n",
       "  s.src = url;\n",
       "  s.async = true;\n",
       "  s.onreadystatechange = s.onload = callback;\n",
       "  s.onerror = function(){console.warn(\"failed to load library \" + url);};\n",
       "  document.getElementsByTagName(\"head\")[0].appendChild(s);\n",
       "}\n",
       "\n",
       "if(typeof(LDAvis) !== \"undefined\"){\n",
       "   // already loaded: just create the visualization\n",
       "   !function(LDAvis){\n",
       "       new LDAvis(\"#\" + \"ldavis_el6419152173776409486812091\", ldavis_el6419152173776409486812091_data);\n",
       "   }(LDAvis);\n",
       "}else if(typeof define === \"function\" && define.amd){\n",
       "   // require.js is available: use it to load d3/LDAvis\n",
       "   require.config({paths: {d3: \"https://cdnjs.cloudflare.com/ajax/libs/d3/3.5.5/d3.min\"}});\n",
       "   require([\"d3\"], function(d3){\n",
       "      window.d3 = d3;\n",
       "      LDAvis_load_lib(\"https://cdn.rawgit.com/bmabey/pyLDAvis/files/ldavis.v1.0.0.js\", function(){\n",
       "        new LDAvis(\"#\" + \"ldavis_el6419152173776409486812091\", ldavis_el6419152173776409486812091_data);\n",
       "      });\n",
       "    });\n",
       "}else{\n",
       "    // require.js not available: dynamically load d3 & LDAvis\n",
       "    LDAvis_load_lib(\"https://cdnjs.cloudflare.com/ajax/libs/d3/3.5.5/d3.min.js\", function(){\n",
       "         LDAvis_load_lib(\"https://cdn.rawgit.com/bmabey/pyLDAvis/files/ldavis.v1.0.0.js\", function(){\n",
       "                 new LDAvis(\"#\" + \"ldavis_el6419152173776409486812091\", ldavis_el6419152173776409486812091_data);\n",
       "            })\n",
       "         });\n",
       "}\n",
       "</script>"
      ],
      "text/plain": [
       "PreparedData(topic_coordinates=              x         y  topics  cluster       Freq\n",
       "topic                                                \n",
       "0      0.157888  0.331183       1        1  25.785082\n",
       "3     -0.203218 -0.212129       2        1  25.130169\n",
       "2     -0.263880  0.102228       3        1  24.672593\n",
       "1      0.309210 -0.221281       4        1  24.412156, topic_info=    Category        Freq        Term       Total  loglift  logprob\n",
       "42   Default  919.000000   protester  919.000000  30.0000  30.0000\n",
       "70   Default  750.000000      police  750.000000  29.0000  29.0000\n",
       "24   Default  494.000000  government  494.000000  28.0000  28.0000\n",
       "87   Default  454.000000     chinese  454.000000  27.0000  27.0000\n",
       "27   Default  743.000000   hong_kong  743.000000  26.0000  26.0000\n",
       "..       ...         ...         ...         ...      ...      ...\n",
       "16    Topic4  110.379374      demand  140.523975   1.1686  -4.5793\n",
       "269   Topic4  112.678944        time  154.060506   1.0973  -4.5587\n",
       "280   Topic4  112.678944      report  159.076687   1.0652  -4.5587\n",
       "23    Topic4   88.533456        give  128.726257   1.0358  -4.7999\n",
       "200   Topic4   87.383671      follow  121.742185   1.0785  -4.8129\n",
       "\n",
       "[285 rows x 6 columns], token_table=      Topic      Freq            Term\n",
       "term                                 \n",
       "558       3  0.977059          accept\n",
       "871       2  0.987035  accordance_law\n",
       "423       3  0.993302         account\n",
       "536       3  0.998234          accuse\n",
       "710       2  0.999602             act\n",
       "...     ...       ...             ...\n",
       "350       3  0.998612            work\n",
       "365       3  1.003828           world\n",
       "568       3  0.994743           write\n",
       "82        4  1.000733            year\n",
       "366       1  1.000179           young\n",
       "\n",
       "[282 rows x 3 columns], R=30, lambda_step=0.01, plot_opts={'xlab': 'PC1', 'ylab': 'PC2'}, topic_order=[1, 4, 3, 2])"
      ]
     },
     "execution_count": 263,
     "metadata": {},
     "output_type": "execute_result"
    }
   ],
   "source": [
    "pyLDAvis.enable_notebook()\n",
    "vis = pyLDAvis.gensim.prepare(mallet_model, corpus, id2word)\n",
    "vis.show()"
   ]
  },
  {
   "cell_type": "code",
   "execution_count": 531,
   "metadata": {
    "ExecuteTime": {
     "end_time": "2020-04-08T14:24:37.713607Z",
     "start_time": "2020-04-08T14:24:37.707187Z"
    }
   },
   "outputs": [],
   "source": [
    "pyLDAvis.save_html(vis, 'topic_words.html')"
   ]
  },
  {
   "cell_type": "code",
   "execution_count": 330,
   "metadata": {
    "ExecuteTime": {
     "end_time": "2020-04-08T01:57:33.870698Z",
     "start_time": "2020-04-08T01:57:33.863970Z"
    }
   },
   "outputs": [],
   "source": [
    "# file = open('mallet.p', 'wb')      \n",
    "# pickle.dump(mallet_model, file)\n",
    "# file.close()"
   ]
  },
  {
   "cell_type": "code",
   "execution_count": 329,
   "metadata": {
    "ExecuteTime": {
     "end_time": "2020-04-08T01:56:41.310968Z",
     "start_time": "2020-04-08T01:56:41.305574Z"
    }
   },
   "outputs": [],
   "source": [
    "# file = open('ldavis.p', 'wb')      \n",
    "# pickle.dump(vis, file)\n",
    "# file.close()"
   ]
  },
  {
   "cell_type": "markdown",
   "metadata": {},
   "source": [
    "## Sentiment"
   ]
  },
  {
   "cell_type": "code",
   "execution_count": 52,
   "metadata": {
    "ExecuteTime": {
     "end_time": "2020-04-07T18:56:46.715613Z",
     "start_time": "2020-04-07T18:56:46.712338Z"
    }
   },
   "outputs": [],
   "source": [
    "def vader_analysis(text):\n",
    "    analyzer = SentimentIntensityAnalyzer()\n",
    "    return analyzer.polarity_scores(text)"
   ]
  },
  {
   "cell_type": "code",
   "execution_count": 55,
   "metadata": {
    "ExecuteTime": {
     "end_time": "2020-04-07T18:57:19.717209Z",
     "start_time": "2020-04-07T18:57:19.712694Z"
    }
   },
   "outputs": [],
   "source": [
    "def polarity(text):\n",
    "    analysis = TextBlob(text)\n",
    "    return analysis.sentiment[0]\n",
    "\n",
    "def subjectivity(text):\n",
    "    analysis = TextBlob(text)\n",
    "    return analysis.sentiment[1]"
   ]
  },
  {
   "cell_type": "code",
   "execution_count": 293,
   "metadata": {
    "ExecuteTime": {
     "end_time": "2020-04-08T00:58:50.930396Z",
     "start_time": "2020-04-08T00:58:50.849789Z"
    }
   },
   "outputs": [],
   "source": [
    "# Create column for sentiment analysis\n",
    "# Sentences for sentiment analysis and sentence_tokens for topic analysis\n",
    "s = df['sentences']\n",
    "st = df['sentence_tokens']\n",
    "\n",
    "combine = []\n",
    "for i in range(len(s)):\n",
    "    total = []\n",
    "    total.append(s[i])\n",
    "    total.append(st[i])\n",
    "    combine.append(total)\n",
    "\n",
    "df['combine'] = combine"
   ]
  },
  {
   "cell_type": "code",
   "execution_count": 566,
   "metadata": {
    "ExecuteTime": {
     "end_time": "2020-04-08T21:57:17.189599Z",
     "start_time": "2020-04-08T21:57:17.160509Z"
    }
   },
   "outputs": [],
   "source": [
    "def sentiment_doc(combine):\n",
    "    topic_0 = 0\n",
    "    topic_1 = 0\n",
    "    topic_2 = 0\n",
    "    topic_3 = 0\n",
    "    count_0 = 0\n",
    "    count_1 = 0\n",
    "    count_2 = 0\n",
    "    count_3 = 0\n",
    "\n",
    "    reg = combine[0]\n",
    "    tok = combine[1]\n",
    "    num_sentences = len(tok)\n",
    "    for i in range(num_sentences):\n",
    "        tokens = tok[i].split()\n",
    "        vec = id2word.doc2bow(tokens)\n",
    "        topic = topic = sorted(mallet_model[vec], key=lambda tup: tup[1], reverse=True)[0][0]\n",
    "        sentiment = round(vader_analysis(reg[i])['compound'], 2)\n",
    "        if topic == 0:\n",
    "            topic_0 += abs(sentiment)\n",
    "            count_0 += 1\n",
    "        elif topic == 1:\n",
    "            topic_1 += abs(sentiment)\n",
    "            count_1 += 1\n",
    "        elif topic == 2:\n",
    "            topic_2 += abs(sentiment)\n",
    "            count_2 += 1\n",
    "        else:\n",
    "            topic_3 += abs(sentiment)\n",
    "            count_3 += 1\n",
    "    return ((round(topic_0, 2), count_0), (round(topic_1, 2), count_1), (round(topic_2, 2), count_2), (round(topic_3, 2), count_3))"
   ]
  },
  {
   "cell_type": "code",
   "execution_count": 567,
   "metadata": {
    "ExecuteTime": {
     "end_time": "2020-04-08T21:59:59.416887Z",
     "start_time": "2020-04-08T21:57:19.817826Z"
    }
   },
   "outputs": [],
   "source": [
    "df['sentiment'] = df['combine'].map(sentiment_doc)"
   ]
  },
  {
   "cell_type": "code",
   "execution_count": null,
   "metadata": {},
   "outputs": [],
   "source": [
    "# Topic 0: Protests\n",
    "# Topic 1: Econ\n",
    "# Topic 2: Poli\n",
    "# Topic 3: Gov"
   ]
  },
  {
   "cell_type": "code",
   "execution_count": 568,
   "metadata": {
    "ExecuteTime": {
     "end_time": "2020-04-08T21:59:59.438733Z",
     "start_time": "2020-04-08T21:59:59.419964Z"
    }
   },
   "outputs": [],
   "source": [
    "df['protest'] = df['sentiment'].map(lambda x: x[0][0])\n",
    "df['econ'] = df['sentiment'].map(lambda x: x[1][0])\n",
    "df['poli'] = df['sentiment'].map(lambda x: x[2][0])\n",
    "df['gov'] = df['sentiment'].map(lambda x: x[3][0])\n",
    "df['protest_mention'] = df['sentiment'].map(lambda x: x[0][1])\n",
    "df['econ_mention'] = df['sentiment'].map(lambda x: x[1][1])\n",
    "df['poli_mention'] = df['sentiment'].map(lambda x: x[2][1])\n",
    "df['gov_mention'] = df['sentiment'].map(lambda x: x[3][1])"
   ]
  },
  {
   "cell_type": "code",
   "execution_count": 569,
   "metadata": {
    "ExecuteTime": {
     "end_time": "2020-04-08T21:59:59.447638Z",
     "start_time": "2020-04-08T21:59:59.441726Z"
    }
   },
   "outputs": [],
   "source": [
    "df['total_sentences'] = df['protest_mention'] + df['econ_mention'] + df['poli_mention'] + df['gov_mention']"
   ]
  },
  {
   "cell_type": "markdown",
   "metadata": {},
   "source": [
    "## Data Visualization"
   ]
  },
  {
   "cell_type": "code",
   "execution_count": 570,
   "metadata": {
    "ExecuteTime": {
     "end_time": "2020-04-08T21:59:59.458751Z",
     "start_time": "2020-04-08T21:59:59.450278Z"
    }
   },
   "outputs": [],
   "source": [
    "df['w_protest'] = df['protest'] * (df['protest_mention'] / df['total_sentences'])\n",
    "df['w_econ'] = df['econ'] * (df['econ_mention'] / df['total_sentences'])\n",
    "df['w_gov'] = df['gov'] * (df['gov_mention'] / df['total_sentences'])\n",
    "df['w_poli'] = df['poli'] * (df['poli_mention'] / df['total_sentences'])"
   ]
  },
  {
   "cell_type": "code",
   "execution_count": 540,
   "metadata": {
    "ExecuteTime": {
     "end_time": "2020-04-08T19:21:25.121531Z",
     "start_time": "2020-04-08T19:21:24.685292Z"
    }
   },
   "outputs": [],
   "source": [
    "# file = open('dataframe.p', 'wb')      \n",
    "# pickle.dump(df, file)\n",
    "# file.close()"
   ]
  },
  {
   "cell_type": "code",
   "execution_count": 571,
   "metadata": {
    "ExecuteTime": {
     "end_time": "2020-04-08T21:59:59.470202Z",
     "start_time": "2020-04-08T21:59:59.460835Z"
    }
   },
   "outputs": [],
   "source": [
    "df2 = pd.DataFrame(pd.concat([df.iloc[:, 3:4], df.iloc[:, 9:]], axis=1))"
   ]
  },
  {
   "cell_type": "code",
   "execution_count": 554,
   "metadata": {
    "ExecuteTime": {
     "end_time": "2020-04-08T19:21:47.420362Z",
     "start_time": "2020-04-08T19:21:47.412014Z"
    }
   },
   "outputs": [],
   "source": [
    "from sklearn.preprocessing import MinMaxScaler, StandardScaler, RobustScaler\n",
    "from sklearn.decomposition import PCA"
   ]
  },
  {
   "cell_type": "code",
   "execution_count": 572,
   "metadata": {
    "ExecuteTime": {
     "end_time": "2020-04-08T22:00:18.543274Z",
     "start_time": "2020-04-08T21:59:59.472360Z"
    }
   },
   "outputs": [],
   "source": [
    "# Sentiment analysis of headline\n",
    "df2['hl_sent'] = df['headline'].map(lambda x: abs(vader_analysis(x)['compound']))"
   ]
  },
  {
   "cell_type": "code",
   "execution_count": 543,
   "metadata": {
    "ExecuteTime": {
     "end_time": "2020-04-08T19:21:46.506873Z",
     "start_time": "2020-04-08T19:21:46.476219Z"
    }
   },
   "outputs": [
    {
     "data": {
      "text/plain": [
       "source\n",
       "ABC (Australia)    0.396051\n",
       "CCTV               0.351529\n",
       "CNN                0.366249\n",
       "Reuters            0.346454\n",
       "SCMP               0.473217\n",
       "Name: hl_sent, dtype: float64"
      ]
     },
     "execution_count": 543,
     "metadata": {},
     "output_type": "execute_result"
    }
   ],
   "source": [
    "df2.groupby('source')['hl_sent'].mean()"
   ]
  },
  {
   "cell_type": "code",
   "execution_count": 573,
   "metadata": {
    "ExecuteTime": {
     "end_time": "2020-04-08T22:00:18.556945Z",
     "start_time": "2020-04-08T22:00:18.546089Z"
    }
   },
   "outputs": [],
   "source": [
    "df2['protest_ratio'] = df2['protest_mention'] / df2['total_sentences']\n",
    "df2['econ_ratio'] = df2['econ_mention'] / df2['total_sentences']\n",
    "df2['poli_ratio'] = df2['poli_mention'] / df2['total_sentences']\n",
    "df2['gov_ratio'] = df2['gov_mention'] / df2['total_sentences']"
   ]
  },
  {
   "cell_type": "code",
   "execution_count": 555,
   "metadata": {
    "ExecuteTime": {
     "end_time": "2020-04-08T19:22:39.505914Z",
     "start_time": "2020-04-08T19:22:39.483625Z"
    }
   },
   "outputs": [
    {
     "data": {
      "text/html": [
       "<div>\n",
       "<style scoped>\n",
       "    .dataframe tbody tr th:only-of-type {\n",
       "        vertical-align: middle;\n",
       "    }\n",
       "\n",
       "    .dataframe tbody tr th {\n",
       "        vertical-align: top;\n",
       "    }\n",
       "\n",
       "    .dataframe thead th {\n",
       "        text-align: right;\n",
       "    }\n",
       "</style>\n",
       "<table border=\"1\" class=\"dataframe\">\n",
       "  <thead>\n",
       "    <tr style=\"text-align: right;\">\n",
       "      <th></th>\n",
       "      <th>source</th>\n",
       "      <th>protest</th>\n",
       "      <th>econ</th>\n",
       "      <th>poli</th>\n",
       "      <th>gov</th>\n",
       "      <th>protest_mention</th>\n",
       "      <th>econ_mention</th>\n",
       "      <th>poli_mention</th>\n",
       "      <th>gov_mention</th>\n",
       "      <th>total_sentences</th>\n",
       "      <th>w_protest</th>\n",
       "      <th>w_econ</th>\n",
       "      <th>w_gov</th>\n",
       "      <th>w_poli</th>\n",
       "      <th>hl_sent</th>\n",
       "      <th>protest_ratio</th>\n",
       "      <th>econ_ratio</th>\n",
       "      <th>poli_ratio</th>\n",
       "      <th>gov_ratio</th>\n",
       "    </tr>\n",
       "  </thead>\n",
       "  <tbody>\n",
       "    <tr>\n",
       "      <td>0</td>\n",
       "      <td>SCMP</td>\n",
       "      <td>-0.97</td>\n",
       "      <td>0.00</td>\n",
       "      <td>-0.62</td>\n",
       "      <td>-1.14</td>\n",
       "      <td>1</td>\n",
       "      <td>0</td>\n",
       "      <td>1</td>\n",
       "      <td>2</td>\n",
       "      <td>4</td>\n",
       "      <td>-0.242500</td>\n",
       "      <td>0.000000</td>\n",
       "      <td>-0.57</td>\n",
       "      <td>-0.155000</td>\n",
       "      <td>0.2960</td>\n",
       "      <td>0.250000</td>\n",
       "      <td>0.000000</td>\n",
       "      <td>0.250000</td>\n",
       "      <td>0.500000</td>\n",
       "    </tr>\n",
       "    <tr>\n",
       "      <td>1</td>\n",
       "      <td>SCMP</td>\n",
       "      <td>-0.58</td>\n",
       "      <td>0.53</td>\n",
       "      <td>-0.77</td>\n",
       "      <td>0.00</td>\n",
       "      <td>4</td>\n",
       "      <td>1</td>\n",
       "      <td>1</td>\n",
       "      <td>0</td>\n",
       "      <td>6</td>\n",
       "      <td>-0.386667</td>\n",
       "      <td>0.088333</td>\n",
       "      <td>0.00</td>\n",
       "      <td>-0.128333</td>\n",
       "      <td>0.7351</td>\n",
       "      <td>0.666667</td>\n",
       "      <td>0.166667</td>\n",
       "      <td>0.166667</td>\n",
       "      <td>0.000000</td>\n",
       "    </tr>\n",
       "    <tr>\n",
       "      <td>2</td>\n",
       "      <td>SCMP</td>\n",
       "      <td>-2.13</td>\n",
       "      <td>0.00</td>\n",
       "      <td>-1.57</td>\n",
       "      <td>0.00</td>\n",
       "      <td>4</td>\n",
       "      <td>0</td>\n",
       "      <td>2</td>\n",
       "      <td>0</td>\n",
       "      <td>6</td>\n",
       "      <td>-1.420000</td>\n",
       "      <td>0.000000</td>\n",
       "      <td>0.00</td>\n",
       "      <td>-0.523333</td>\n",
       "      <td>0.6249</td>\n",
       "      <td>0.666667</td>\n",
       "      <td>0.000000</td>\n",
       "      <td>0.333333</td>\n",
       "      <td>0.000000</td>\n",
       "    </tr>\n",
       "    <tr>\n",
       "      <td>3</td>\n",
       "      <td>SCMP</td>\n",
       "      <td>0.28</td>\n",
       "      <td>-0.11</td>\n",
       "      <td>0.00</td>\n",
       "      <td>0.00</td>\n",
       "      <td>1</td>\n",
       "      <td>4</td>\n",
       "      <td>0</td>\n",
       "      <td>0</td>\n",
       "      <td>5</td>\n",
       "      <td>0.056000</td>\n",
       "      <td>-0.088000</td>\n",
       "      <td>0.00</td>\n",
       "      <td>0.000000</td>\n",
       "      <td>0.4588</td>\n",
       "      <td>0.200000</td>\n",
       "      <td>0.800000</td>\n",
       "      <td>0.000000</td>\n",
       "      <td>0.000000</td>\n",
       "    </tr>\n",
       "    <tr>\n",
       "      <td>4</td>\n",
       "      <td>SCMP</td>\n",
       "      <td>-0.84</td>\n",
       "      <td>0.00</td>\n",
       "      <td>-0.80</td>\n",
       "      <td>-1.19</td>\n",
       "      <td>3</td>\n",
       "      <td>0</td>\n",
       "      <td>1</td>\n",
       "      <td>3</td>\n",
       "      <td>7</td>\n",
       "      <td>-0.360000</td>\n",
       "      <td>0.000000</td>\n",
       "      <td>-0.51</td>\n",
       "      <td>-0.114286</td>\n",
       "      <td>0.8979</td>\n",
       "      <td>0.428571</td>\n",
       "      <td>0.000000</td>\n",
       "      <td>0.142857</td>\n",
       "      <td>0.428571</td>\n",
       "    </tr>\n",
       "  </tbody>\n",
       "</table>\n",
       "</div>"
      ],
      "text/plain": [
       "  source  protest  econ  poli   gov  protest_mention  econ_mention  \\\n",
       "0   SCMP    -0.97  0.00 -0.62 -1.14                1             0   \n",
       "1   SCMP    -0.58  0.53 -0.77  0.00                4             1   \n",
       "2   SCMP    -2.13  0.00 -1.57  0.00                4             0   \n",
       "3   SCMP     0.28 -0.11  0.00  0.00                1             4   \n",
       "4   SCMP    -0.84  0.00 -0.80 -1.19                3             0   \n",
       "\n",
       "   poli_mention  gov_mention  total_sentences  w_protest    w_econ  w_gov  \\\n",
       "0             1            2                4  -0.242500  0.000000  -0.57   \n",
       "1             1            0                6  -0.386667  0.088333   0.00   \n",
       "2             2            0                6  -1.420000  0.000000   0.00   \n",
       "3             0            0                5   0.056000 -0.088000   0.00   \n",
       "4             1            3                7  -0.360000  0.000000  -0.51   \n",
       "\n",
       "     w_poli  hl_sent  protest_ratio  econ_ratio  poli_ratio  gov_ratio  \n",
       "0 -0.155000   0.2960       0.250000    0.000000    0.250000   0.500000  \n",
       "1 -0.128333   0.7351       0.666667    0.166667    0.166667   0.000000  \n",
       "2 -0.523333   0.6249       0.666667    0.000000    0.333333   0.000000  \n",
       "3  0.000000   0.4588       0.200000    0.800000    0.000000   0.000000  \n",
       "4 -0.114286   0.8979       0.428571    0.000000    0.142857   0.428571  "
      ]
     },
     "execution_count": 555,
     "metadata": {},
     "output_type": "execute_result"
    }
   ],
   "source": [
    "df2.head()"
   ]
  },
  {
   "cell_type": "code",
   "execution_count": 556,
   "metadata": {
    "ExecuteTime": {
     "end_time": "2020-04-08T19:22:47.881685Z",
     "start_time": "2020-04-08T19:22:47.864435Z"
    }
   },
   "outputs": [],
   "source": [
    "X = df2.iloc[:, 1:5].values\n",
    "X = RobustScaler().fit_transform(X)\n",
    "y = df2['source']"
   ]
  },
  {
   "cell_type": "code",
   "execution_count": 557,
   "metadata": {
    "ExecuteTime": {
     "end_time": "2020-04-08T19:22:51.767119Z",
     "start_time": "2020-04-08T19:22:51.762766Z"
    }
   },
   "outputs": [
    {
     "data": {
      "text/plain": [
       "(1341, 4)"
      ]
     },
     "execution_count": 557,
     "metadata": {},
     "output_type": "execute_result"
    }
   ],
   "source": [
    "X.shape"
   ]
  },
  {
   "cell_type": "code",
   "execution_count": 558,
   "metadata": {
    "ExecuteTime": {
     "end_time": "2020-04-08T19:22:54.309532Z",
     "start_time": "2020-04-08T19:22:54.306328Z"
    }
   },
   "outputs": [],
   "source": [
    "pca = PCA(n_components=2)"
   ]
  },
  {
   "cell_type": "code",
   "execution_count": 559,
   "metadata": {
    "ExecuteTime": {
     "end_time": "2020-04-08T19:22:55.600231Z",
     "start_time": "2020-04-08T19:22:55.593703Z"
    }
   },
   "outputs": [],
   "source": [
    "components = pca.fit_transform(X)"
   ]
  },
  {
   "cell_type": "code",
   "execution_count": 560,
   "metadata": {
    "ExecuteTime": {
     "end_time": "2020-04-08T19:22:56.573516Z",
     "start_time": "2020-04-08T19:22:56.569688Z"
    }
   },
   "outputs": [],
   "source": [
    "comp_df = pd.DataFrame(data = components, columns = ['pc1', 'pc2'])"
   ]
  },
  {
   "cell_type": "code",
   "execution_count": 561,
   "metadata": {
    "ExecuteTime": {
     "end_time": "2020-04-08T19:22:57.262741Z",
     "start_time": "2020-04-08T19:22:57.258410Z"
    }
   },
   "outputs": [],
   "source": [
    "comp_df['source'] = y"
   ]
  },
  {
   "cell_type": "code",
   "execution_count": 562,
   "metadata": {
    "ExecuteTime": {
     "end_time": "2020-04-08T19:22:57.994124Z",
     "start_time": "2020-04-08T19:22:57.987391Z"
    }
   },
   "outputs": [],
   "source": [
    "cond1 = (comp_df['source'] == 'CNN')\n",
    "cond2 = (comp_df['source'] == 'ABC (Australia)')\n",
    "cond3 = (comp_df['source'] == 'CCTV')\n",
    "cond4 = (comp_df['source'] == 'Reuters')\n",
    "cond5 = (comp_df['source'] == 'SCMP')"
   ]
  },
  {
   "cell_type": "code",
   "execution_count": 563,
   "metadata": {
    "ExecuteTime": {
     "end_time": "2020-04-08T19:22:59.575508Z",
     "start_time": "2020-04-08T19:22:59.540157Z"
    }
   },
   "outputs": [
    {
     "data": {
      "text/html": [
       "<div>\n",
       "<style scoped>\n",
       "    .dataframe tbody tr th:only-of-type {\n",
       "        vertical-align: middle;\n",
       "    }\n",
       "\n",
       "    .dataframe tbody tr th {\n",
       "        vertical-align: top;\n",
       "    }\n",
       "\n",
       "    .dataframe thead th {\n",
       "        text-align: right;\n",
       "    }\n",
       "</style>\n",
       "<table border=\"1\" class=\"dataframe\">\n",
       "  <thead>\n",
       "    <tr style=\"text-align: right;\">\n",
       "      <th></th>\n",
       "      <th>protest</th>\n",
       "      <th>econ</th>\n",
       "      <th>poli</th>\n",
       "      <th>gov</th>\n",
       "      <th>protest_mention</th>\n",
       "      <th>econ_mention</th>\n",
       "      <th>poli_mention</th>\n",
       "      <th>gov_mention</th>\n",
       "      <th>total_sentences</th>\n",
       "      <th>w_protest</th>\n",
       "      <th>w_econ</th>\n",
       "      <th>w_gov</th>\n",
       "      <th>w_poli</th>\n",
       "      <th>hl_sent</th>\n",
       "      <th>protest_ratio</th>\n",
       "      <th>econ_ratio</th>\n",
       "      <th>poli_ratio</th>\n",
       "      <th>gov_ratio</th>\n",
       "    </tr>\n",
       "    <tr>\n",
       "      <th>source</th>\n",
       "      <th></th>\n",
       "      <th></th>\n",
       "      <th></th>\n",
       "      <th></th>\n",
       "      <th></th>\n",
       "      <th></th>\n",
       "      <th></th>\n",
       "      <th></th>\n",
       "      <th></th>\n",
       "      <th></th>\n",
       "      <th></th>\n",
       "      <th></th>\n",
       "      <th></th>\n",
       "      <th></th>\n",
       "      <th></th>\n",
       "      <th></th>\n",
       "      <th></th>\n",
       "      <th></th>\n",
       "    </tr>\n",
       "  </thead>\n",
       "  <tbody>\n",
       "    <tr>\n",
       "      <td>ABC (Australia)</td>\n",
       "      <td>-0.871765</td>\n",
       "      <td>-0.075098</td>\n",
       "      <td>-0.058235</td>\n",
       "      <td>-0.153039</td>\n",
       "      <td>3.274510</td>\n",
       "      <td>1.049020</td>\n",
       "      <td>1.656863</td>\n",
       "      <td>1.068627</td>\n",
       "      <td>7.049020</td>\n",
       "      <td>-0.624147</td>\n",
       "      <td>0.005725</td>\n",
       "      <td>-0.033412</td>\n",
       "      <td>-0.019549</td>\n",
       "      <td>0.396051</td>\n",
       "      <td>0.578758</td>\n",
       "      <td>0.113725</td>\n",
       "      <td>0.189542</td>\n",
       "      <td>0.117974</td>\n",
       "    </tr>\n",
       "    <tr>\n",
       "      <td>CCTV</td>\n",
       "      <td>-0.438846</td>\n",
       "      <td>-0.066648</td>\n",
       "      <td>-0.167198</td>\n",
       "      <td>-0.341209</td>\n",
       "      <td>1.670330</td>\n",
       "      <td>0.945055</td>\n",
       "      <td>1.928571</td>\n",
       "      <td>4.510989</td>\n",
       "      <td>9.054945</td>\n",
       "      <td>-0.207342</td>\n",
       "      <td>-0.016829</td>\n",
       "      <td>-0.229988</td>\n",
       "      <td>-0.075496</td>\n",
       "      <td>0.351529</td>\n",
       "      <td>0.176293</td>\n",
       "      <td>0.103979</td>\n",
       "      <td>0.209319</td>\n",
       "      <td>0.510409</td>\n",
       "    </tr>\n",
       "    <tr>\n",
       "      <td>CNN</td>\n",
       "      <td>-0.870370</td>\n",
       "      <td>-0.284074</td>\n",
       "      <td>-0.549506</td>\n",
       "      <td>-0.302593</td>\n",
       "      <td>2.814815</td>\n",
       "      <td>1.765432</td>\n",
       "      <td>3.592593</td>\n",
       "      <td>1.827160</td>\n",
       "      <td>10.000000</td>\n",
       "      <td>-0.480321</td>\n",
       "      <td>-0.146383</td>\n",
       "      <td>-0.115963</td>\n",
       "      <td>-0.284111</td>\n",
       "      <td>0.366249</td>\n",
       "      <td>0.281481</td>\n",
       "      <td>0.176543</td>\n",
       "      <td>0.359259</td>\n",
       "      <td>0.182716</td>\n",
       "    </tr>\n",
       "    <tr>\n",
       "      <td>Reuters</td>\n",
       "      <td>-0.835829</td>\n",
       "      <td>-0.213502</td>\n",
       "      <td>-0.057350</td>\n",
       "      <td>-0.135806</td>\n",
       "      <td>3.172811</td>\n",
       "      <td>2.910138</td>\n",
       "      <td>1.808756</td>\n",
       "      <td>1.230415</td>\n",
       "      <td>9.122120</td>\n",
       "      <td>-0.531461</td>\n",
       "      <td>-0.093427</td>\n",
       "      <td>-0.045353</td>\n",
       "      <td>-0.022526</td>\n",
       "      <td>0.346454</td>\n",
       "      <td>0.339544</td>\n",
       "      <td>0.314267</td>\n",
       "      <td>0.200475</td>\n",
       "      <td>0.145713</td>\n",
       "    </tr>\n",
       "    <tr>\n",
       "      <td>SCMP</td>\n",
       "      <td>-0.785443</td>\n",
       "      <td>-0.175775</td>\n",
       "      <td>-0.201716</td>\n",
       "      <td>-0.143118</td>\n",
       "      <td>2.488930</td>\n",
       "      <td>1.311808</td>\n",
       "      <td>1.308118</td>\n",
       "      <td>0.983395</td>\n",
       "      <td>6.092251</td>\n",
       "      <td>-0.503856</td>\n",
       "      <td>-0.084295</td>\n",
       "      <td>-0.048244</td>\n",
       "      <td>-0.083536</td>\n",
       "      <td>0.473217</td>\n",
       "      <td>0.408542</td>\n",
       "      <td>0.202822</td>\n",
       "      <td>0.223047</td>\n",
       "      <td>0.165589</td>\n",
       "    </tr>\n",
       "  </tbody>\n",
       "</table>\n",
       "</div>"
      ],
      "text/plain": [
       "                  protest      econ      poli       gov  protest_mention  \\\n",
       "source                                                                     \n",
       "ABC (Australia) -0.871765 -0.075098 -0.058235 -0.153039         3.274510   \n",
       "CCTV            -0.438846 -0.066648 -0.167198 -0.341209         1.670330   \n",
       "CNN             -0.870370 -0.284074 -0.549506 -0.302593         2.814815   \n",
       "Reuters         -0.835829 -0.213502 -0.057350 -0.135806         3.172811   \n",
       "SCMP            -0.785443 -0.175775 -0.201716 -0.143118         2.488930   \n",
       "\n",
       "                 econ_mention  poli_mention  gov_mention  total_sentences  \\\n",
       "source                                                                      \n",
       "ABC (Australia)      1.049020      1.656863     1.068627         7.049020   \n",
       "CCTV                 0.945055      1.928571     4.510989         9.054945   \n",
       "CNN                  1.765432      3.592593     1.827160        10.000000   \n",
       "Reuters              2.910138      1.808756     1.230415         9.122120   \n",
       "SCMP                 1.311808      1.308118     0.983395         6.092251   \n",
       "\n",
       "                 w_protest    w_econ     w_gov    w_poli   hl_sent  \\\n",
       "source                                                               \n",
       "ABC (Australia)  -0.624147  0.005725 -0.033412 -0.019549  0.396051   \n",
       "CCTV             -0.207342 -0.016829 -0.229988 -0.075496  0.351529   \n",
       "CNN              -0.480321 -0.146383 -0.115963 -0.284111  0.366249   \n",
       "Reuters          -0.531461 -0.093427 -0.045353 -0.022526  0.346454   \n",
       "SCMP             -0.503856 -0.084295 -0.048244 -0.083536  0.473217   \n",
       "\n",
       "                 protest_ratio  econ_ratio  poli_ratio  gov_ratio  \n",
       "source                                                             \n",
       "ABC (Australia)       0.578758    0.113725    0.189542   0.117974  \n",
       "CCTV                  0.176293    0.103979    0.209319   0.510409  \n",
       "CNN                   0.281481    0.176543    0.359259   0.182716  \n",
       "Reuters               0.339544    0.314267    0.200475   0.145713  \n",
       "SCMP                  0.408542    0.202822    0.223047   0.165589  "
      ]
     },
     "execution_count": 563,
     "metadata": {},
     "output_type": "execute_result"
    }
   ],
   "source": [
    "df2.groupby('source').mean()"
   ]
  },
  {
   "cell_type": "code",
   "execution_count": 564,
   "metadata": {
    "ExecuteTime": {
     "end_time": "2020-04-08T19:23:02.638413Z",
     "start_time": "2020-04-08T19:23:02.258792Z"
    }
   },
   "outputs": [
    {
     "data": {
      "image/png": "[encoded data removed]",
      "text/plain": [
       "<Figure size 720x720 with 1 Axes>"
      ]
     },
     "metadata": {
      "needs_background": "light"
     },
     "output_type": "display_data"
    }
   ],
   "source": [
    "fig = plt.figure(figsize = (10,10))\n",
    "sns.scatterplot(x='pc1', y='pc2', hue='source', alpha=0.5, data=comp_df.loc[cond4 | cond5 | cond3])\n",
    "plt.show()"
   ]
  },
  {
   "cell_type": "code",
   "execution_count": 473,
   "metadata": {
    "ExecuteTime": {
     "end_time": "2020-04-08T03:05:08.324901Z",
     "start_time": "2020-04-08T03:05:08.094110Z"
    }
   },
   "outputs": [
    {
     "data": {
      "image/png": "[encoded data removed]",
      "text/plain": [
       "<Figure size 720x720 with 1 Axes>"
      ]
     },
     "metadata": {
      "needs_background": "light"
     },
     "output_type": "display_data"
    }
   ],
   "source": [
    "fig = plt.figure(figsize = (10,10))\n",
    "pd.value_counts(df2['source']).plot.bar()\n",
    "plt.title('Article Counts by Source')\n",
    "plt.show()"
   ]
  },
  {
   "cell_type": "code",
   "execution_count": 521,
   "metadata": {
    "ExecuteTime": {
     "end_time": "2020-04-08T03:50:28.994774Z",
     "start_time": "2020-04-08T03:50:28.682436Z"
    }
   },
   "outputs": [
    {
     "data": {
      "image/png": "[encoded data removed]",
      "text/plain": [
       "<Figure size 1080x504 with 1 Axes>"
      ]
     },
     "metadata": {
      "needs_background": "light"
     },
     "output_type": "display_data"
    }
   ],
   "source": [
    "ratios = ['gov_ratio', 'econ_ratio', 'poli_ratio', 'protest_ratio']\n",
    "fig, ax = plt.subplots(figsize=(15,7))\n",
    "df2.groupby('source').mean()[ratios].plot(ax=ax, kind='bar')\n",
    "plt.title('Mean Topic Ratios of Articles by Source')\n",
    "plt.xlabel('Source')\n",
    "plt.ylabel('% of Article')\n",
    "plt.show()"
   ]
  },
  {
   "cell_type": "code",
   "execution_count": 484,
   "metadata": {
    "ExecuteTime": {
     "end_time": "2020-04-08T03:17:13.782175Z",
     "start_time": "2020-04-08T03:17:13.775647Z"
    }
   },
   "outputs": [],
   "source": [
    "ratios = ['protest_ratio', 'econ_ratio', 'poli_ratio', 'gov_ratio']\n",
    "df_ratio = df2.loc[:, features]\n",
    "df_ratio['source'] = df2['source']"
   ]
  },
  {
   "cell_type": "code",
   "execution_count": 511,
   "metadata": {
    "ExecuteTime": {
     "end_time": "2020-04-08T03:41:37.355151Z",
     "start_time": "2020-04-08T03:41:37.327658Z"
    }
   },
   "outputs": [
    {
     "data": {
      "text/html": [
       "<div>\n",
       "<style scoped>\n",
       "    .dataframe tbody tr th:only-of-type {\n",
       "        vertical-align: middle;\n",
       "    }\n",
       "\n",
       "    .dataframe tbody tr th {\n",
       "        vertical-align: top;\n",
       "    }\n",
       "\n",
       "    .dataframe thead th {\n",
       "        text-align: right;\n",
       "    }\n",
       "</style>\n",
       "<table border=\"1\" class=\"dataframe\">\n",
       "  <thead>\n",
       "    <tr style=\"text-align: right;\">\n",
       "      <th></th>\n",
       "      <th>protest</th>\n",
       "      <th>econ</th>\n",
       "      <th>poli</th>\n",
       "      <th>gov</th>\n",
       "      <th>protest_mention</th>\n",
       "      <th>econ_mention</th>\n",
       "      <th>poli_mention</th>\n",
       "      <th>gov_mention</th>\n",
       "      <th>total_sentences</th>\n",
       "      <th>w_protest</th>\n",
       "      <th>w_econ</th>\n",
       "      <th>w_gov</th>\n",
       "      <th>w_poli</th>\n",
       "      <th>hl_sent</th>\n",
       "      <th>protest_ratio</th>\n",
       "      <th>econ_ratio</th>\n",
       "      <th>poli_ratio</th>\n",
       "      <th>gov_ratio</th>\n",
       "    </tr>\n",
       "    <tr>\n",
       "      <th>source</th>\n",
       "      <th></th>\n",
       "      <th></th>\n",
       "      <th></th>\n",
       "      <th></th>\n",
       "      <th></th>\n",
       "      <th></th>\n",
       "      <th></th>\n",
       "      <th></th>\n",
       "      <th></th>\n",
       "      <th></th>\n",
       "      <th></th>\n",
       "      <th></th>\n",
       "      <th></th>\n",
       "      <th></th>\n",
       "      <th></th>\n",
       "      <th></th>\n",
       "      <th></th>\n",
       "      <th></th>\n",
       "    </tr>\n",
       "  </thead>\n",
       "  <tbody>\n",
       "    <tr>\n",
       "      <td>ABC (Australia)</td>\n",
       "      <td>1.314902</td>\n",
       "      <td>0.406471</td>\n",
       "      <td>0.659216</td>\n",
       "      <td>0.404804</td>\n",
       "      <td>3.274510</td>\n",
       "      <td>1.049020</td>\n",
       "      <td>1.656863</td>\n",
       "      <td>1.068627</td>\n",
       "      <td>7.049020</td>\n",
       "      <td>0.879206</td>\n",
       "      <td>0.195961</td>\n",
       "      <td>0.123255</td>\n",
       "      <td>0.285333</td>\n",
       "      <td>0.396051</td>\n",
       "      <td>0.578758</td>\n",
       "      <td>0.113725</td>\n",
       "      <td>0.189542</td>\n",
       "      <td>0.117974</td>\n",
       "    </tr>\n",
       "    <tr>\n",
       "      <td>CCTV</td>\n",
       "      <td>0.746538</td>\n",
       "      <td>0.385659</td>\n",
       "      <td>0.884780</td>\n",
       "      <td>2.159780</td>\n",
       "      <td>1.670330</td>\n",
       "      <td>0.945055</td>\n",
       "      <td>1.928571</td>\n",
       "      <td>4.510989</td>\n",
       "      <td>9.054945</td>\n",
       "      <td>0.331633</td>\n",
       "      <td>0.136300</td>\n",
       "      <td>1.468200</td>\n",
       "      <td>0.366193</td>\n",
       "      <td>0.351529</td>\n",
       "      <td>0.176293</td>\n",
       "      <td>0.103979</td>\n",
       "      <td>0.209319</td>\n",
       "      <td>0.510409</td>\n",
       "    </tr>\n",
       "    <tr>\n",
       "      <td>CNN</td>\n",
       "      <td>1.158025</td>\n",
       "      <td>0.639383</td>\n",
       "      <td>1.345062</td>\n",
       "      <td>0.660370</td>\n",
       "      <td>2.814815</td>\n",
       "      <td>1.765432</td>\n",
       "      <td>3.592593</td>\n",
       "      <td>1.827160</td>\n",
       "      <td>10.000000</td>\n",
       "      <td>0.600741</td>\n",
       "      <td>0.260580</td>\n",
       "      <td>0.228926</td>\n",
       "      <td>0.713765</td>\n",
       "      <td>0.366249</td>\n",
       "      <td>0.281481</td>\n",
       "      <td>0.176543</td>\n",
       "      <td>0.359259</td>\n",
       "      <td>0.182716</td>\n",
       "    </tr>\n",
       "    <tr>\n",
       "      <td>Reuters</td>\n",
       "      <td>1.211452</td>\n",
       "      <td>0.963041</td>\n",
       "      <td>0.640161</td>\n",
       "      <td>0.484101</td>\n",
       "      <td>3.172811</td>\n",
       "      <td>2.910138</td>\n",
       "      <td>1.808756</td>\n",
       "      <td>1.230415</td>\n",
       "      <td>9.122120</td>\n",
       "      <td>0.739975</td>\n",
       "      <td>0.612625</td>\n",
       "      <td>0.169493</td>\n",
       "      <td>0.301628</td>\n",
       "      <td>0.346454</td>\n",
       "      <td>0.339544</td>\n",
       "      <td>0.314267</td>\n",
       "      <td>0.200475</td>\n",
       "      <td>0.145713</td>\n",
       "    </tr>\n",
       "    <tr>\n",
       "      <td>SCMP</td>\n",
       "      <td>1.032343</td>\n",
       "      <td>0.443413</td>\n",
       "      <td>0.538838</td>\n",
       "      <td>0.413561</td>\n",
       "      <td>2.488930</td>\n",
       "      <td>1.311808</td>\n",
       "      <td>1.308118</td>\n",
       "      <td>0.983395</td>\n",
       "      <td>6.092251</td>\n",
       "      <td>0.638395</td>\n",
       "      <td>0.224564</td>\n",
       "      <td>0.152409</td>\n",
       "      <td>0.224085</td>\n",
       "      <td>0.473217</td>\n",
       "      <td>0.408542</td>\n",
       "      <td>0.202822</td>\n",
       "      <td>0.223047</td>\n",
       "      <td>0.165589</td>\n",
       "    </tr>\n",
       "  </tbody>\n",
       "</table>\n",
       "</div>"
      ],
      "text/plain": [
       "                  protest      econ      poli       gov  protest_mention  \\\n",
       "source                                                                     \n",
       "ABC (Australia)  1.314902  0.406471  0.659216  0.404804         3.274510   \n",
       "CCTV             0.746538  0.385659  0.884780  2.159780         1.670330   \n",
       "CNN              1.158025  0.639383  1.345062  0.660370         2.814815   \n",
       "Reuters          1.211452  0.963041  0.640161  0.484101         3.172811   \n",
       "SCMP             1.032343  0.443413  0.538838  0.413561         2.488930   \n",
       "\n",
       "                 econ_mention  poli_mention  gov_mention  total_sentences  \\\n",
       "source                                                                      \n",
       "ABC (Australia)      1.049020      1.656863     1.068627         7.049020   \n",
       "CCTV                 0.945055      1.928571     4.510989         9.054945   \n",
       "CNN                  1.765432      3.592593     1.827160        10.000000   \n",
       "Reuters              2.910138      1.808756     1.230415         9.122120   \n",
       "SCMP                 1.311808      1.308118     0.983395         6.092251   \n",
       "\n",
       "                 w_protest    w_econ     w_gov    w_poli   hl_sent  \\\n",
       "source                                                               \n",
       "ABC (Australia)   0.879206  0.195961  0.123255  0.285333  0.396051   \n",
       "CCTV              0.331633  0.136300  1.468200  0.366193  0.351529   \n",
       "CNN               0.600741  0.260580  0.228926  0.713765  0.366249   \n",
       "Reuters           0.739975  0.612625  0.169493  0.301628  0.346454   \n",
       "SCMP              0.638395  0.224564  0.152409  0.224085  0.473217   \n",
       "\n",
       "                 protest_ratio  econ_ratio  poli_ratio  gov_ratio  \n",
       "source                                                             \n",
       "ABC (Australia)       0.578758    0.113725    0.189542   0.117974  \n",
       "CCTV                  0.176293    0.103979    0.209319   0.510409  \n",
       "CNN                   0.281481    0.176543    0.359259   0.182716  \n",
       "Reuters               0.339544    0.314267    0.200475   0.145713  \n",
       "SCMP                  0.408542    0.202822    0.223047   0.165589  "
      ]
     },
     "execution_count": 511,
     "metadata": {},
     "output_type": "execute_result"
    }
   ],
   "source": [
    "df2.groupby('source').mean()"
   ]
  },
  {
   "cell_type": "code",
   "execution_count": 499,
   "metadata": {
    "ExecuteTime": {
     "end_time": "2020-04-08T03:21:43.015782Z",
     "start_time": "2020-04-08T03:21:43.009540Z"
    }
   },
   "outputs": [],
   "source": [
    "features = ['protest_ratio', 'econ_ratio', 'poli_ratio', 'gov_ratio']\n",
    "X2 = df2.loc[:, features].values\n",
    "X2 = MinMaxScaler().fit_transform(X2)\n",
    "y = df2['source']"
   ]
  },
  {
   "cell_type": "code",
   "execution_count": 500,
   "metadata": {
    "ExecuteTime": {
     "end_time": "2020-04-08T03:21:44.191194Z",
     "start_time": "2020-04-08T03:21:44.184918Z"
    }
   },
   "outputs": [],
   "source": [
    "comp2 = pca.fit_transform(X2)"
   ]
  },
  {
   "cell_type": "code",
   "execution_count": 501,
   "metadata": {
    "ExecuteTime": {
     "end_time": "2020-04-08T03:21:44.829436Z",
     "start_time": "2020-04-08T03:21:44.824832Z"
    }
   },
   "outputs": [],
   "source": [
    "comp2_df = pd.DataFrame(data = comp2, columns = ['pc1', 'pc2'])\n",
    "comp2_df['source'] = y"
   ]
  },
  {
   "cell_type": "code",
   "execution_count": 502,
   "metadata": {
    "ExecuteTime": {
     "end_time": "2020-04-08T03:21:45.352289Z",
     "start_time": "2020-04-08T03:21:45.344908Z"
    }
   },
   "outputs": [],
   "source": [
    "cond1 = (comp2_df['source'] == 'CNN')\n",
    "cond2 = (comp2_df['source'] == 'ABC (Australia)')\n",
    "cond3 = (comp2_df['source'] == 'CCTV')\n",
    "cond4 = (comp2_df['source'] == 'Reuters')\n",
    "cond5 = (comp2_df['source'] == 'SCMP')"
   ]
  },
  {
   "cell_type": "code",
   "execution_count": 504,
   "metadata": {
    "ExecuteTime": {
     "end_time": "2020-04-08T03:21:59.804222Z",
     "start_time": "2020-04-08T03:21:59.401126Z"
    }
   },
   "outputs": [
    {
     "data": {
      "image/png": "[encoded data removed]",
      "text/plain": [
       "<Figure size 720x720 with 1 Axes>"
      ]
     },
     "metadata": {
      "needs_background": "light"
     },
     "output_type": "display_data"
    }
   ],
   "source": [
    "fig = plt.figure(figsize = (10,10))\n",
    "sns.scatterplot(x='pc1', y='pc2', hue='source', alpha=0.5, data=comp2_df)\n",
    "plt.show()"
   ]
  },
  {
   "cell_type": "code",
   "execution_count": 532,
   "metadata": {
    "ExecuteTime": {
     "end_time": "2020-04-08T14:27:51.356576Z",
     "start_time": "2020-04-08T14:27:51.026224Z"
    }
   },
   "outputs": [],
   "source": [
    "from wordcloud import WordCloud, STOPWORDS\n",
    "import matplotlib.colors as mcolors"
   ]
  },
  {
   "cell_type": "code",
   "execution_count": 533,
   "metadata": {
    "ExecuteTime": {
     "end_time": "2020-04-08T14:28:10.547460Z",
     "start_time": "2020-04-08T14:28:05.442013Z"
    }
   },
   "outputs": [
    {
     "data": {
      "image/png": "[encoded data removed]",
      "text/plain": [
       "<Figure size 720x720 with 4 Axes>"
      ]
     },
     "metadata": {
      "needs_background": "light"
     },
     "output_type": "display_data"
    }
   ],
   "source": [
    "cols = [color for name, color in mcolors.TABLEAU_COLORS.items()]  # more colors: 'mcolors.XKCD_COLORS'\n",
    "\n",
    "cloud = WordCloud(stopwords=stop_words,\n",
    "                  background_color='white',\n",
    "                  width=2500,\n",
    "                  height=1800,\n",
    "                  max_words=10,\n",
    "                  colormap='tab10',\n",
    "                  color_func=lambda *args, **kwargs: cols[i],\n",
    "                  prefer_horizontal=1.0)\n",
    "\n",
    "topics = mallet_model.show_topics(formatted=False)\n",
    "\n",
    "fig, axes = plt.subplots(2, 2, figsize=(10,10), sharex=True, sharey=True)\n",
    "\n",
    "for i, ax in enumerate(axes.flatten()):\n",
    "    fig.add_subplot(ax)\n",
    "    topic_words = dict(topics[i][1])\n",
    "    cloud.generate_from_frequencies(topic_words, max_font_size=300)\n",
    "    plt.gca().imshow(cloud)\n",
    "    plt.gca().set_title('Topic ' + str(i), fontdict=dict(size=16))\n",
    "    plt.gca().axis('off')\n",
    "\n",
    "\n",
    "plt.subplots_adjust(wspace=0, hspace=0)\n",
    "plt.axis('off')\n",
    "plt.margins(x=0, y=0)\n",
    "plt.tight_layout()\n",
    "plt.show()"
   ]
  },
  {
   "cell_type": "code",
   "execution_count": 574,
   "metadata": {
    "ExecuteTime": {
     "end_time": "2020-04-08T22:00:18.566324Z",
     "start_time": "2020-04-08T22:00:18.560613Z"
    }
   },
   "outputs": [],
   "source": [
    "# file = open('data.p', 'wb')      \n",
    "# pickle.dump(df2, file)\n",
    "# file.close()"
   ]
  }
 ],
 "metadata": {
  "kernelspec": {
   "display_name": "Python 3",
   "language": "python",
   "name": "python3"
  },
  "language_info": {
   "codemirror_mode": {
    "name": "ipython",
    "version": 3
   },
   "file_extension": ".py",
   "mimetype": "text/x-python",
   "name": "python",
   "nbconvert_exporter": "python",
   "pygments_lexer": "ipython3",
   "version": "3.6.9"
  },
  "toc": {
   "base_numbering": 1,
   "nav_menu": {},
   "number_sections": true,
   "sideBar": true,
   "skip_h1_title": false,
   "title_cell": "Table of Contents",
   "title_sidebar": "Contents",
   "toc_cell": false,
   "toc_position": {
    "height": "calc(100% - 180px)",
    "left": "10px",
    "top": "150px",
    "width": "165px"
   },
   "toc_section_display": true,
   "toc_window_display": true
  }
 },
 "nbformat": 4,
 "nbformat_minor": 2
}
