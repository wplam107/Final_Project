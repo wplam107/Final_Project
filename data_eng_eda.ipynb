{
 "cells": [
  {
   "cell_type": "markdown",
   "metadata": {},
   "source": [
    "# Feature Engineering and EDA"
   ]
  },
  {
   "cell_type": "code",
   "execution_count": 1,
   "metadata": {
    "ExecuteTime": {
     "end_time": "2020-04-06T19:04:15.874399Z",
     "start_time": "2020-04-06T19:04:11.994785Z"
    }
   },
   "outputs": [],
   "source": [
    "import re\n",
    "import numpy as np\n",
    "import pandas as pd\n",
    "import pickle\n",
    "import gensim\n",
    "import spacy\n",
    "import pyLDAvis\n",
    "import pyLDAvis.gensim\n",
    "import matplotlib.pyplot as plt\n",
    "import seaborn as sns\n",
    "from pprint import pprint\n",
    "from gensim.utils import simple_preprocess\n",
    "from gensim import corpora, models\n",
    "from gensim.parsing.preprocessing import STOPWORDS\n",
    "from nltk.corpus import stopwords\n",
    "from gensim.models import CoherenceModel\n",
    "from nltk.stem import WordNetLemmatizer, SnowballStemmer\n",
    "from nltk.stem.porter import *\n",
    "from nltk.tokenize import sent_tokenize\n",
    "from textblob import TextBlob\n",
    "from vaderSentiment.vaderSentiment import SentimentIntensityAnalyzer\n",
    "\n",
    "%matplotlib inline"
   ]
  },
  {
   "cell_type": "code",
   "execution_count": 123,
   "metadata": {
    "ExecuteTime": {
     "end_time": "2020-04-06T20:49:33.047419Z",
     "start_time": "2020-04-06T20:49:32.985695Z"
    }
   },
   "outputs": [],
   "source": [
    "file = open('articles.p', 'rb')      \n",
    "df = pickle.load(file)\n",
    "file.close()"
   ]
  },
  {
   "cell_type": "code",
   "execution_count": 124,
   "metadata": {
    "ExecuteTime": {
     "end_time": "2020-04-06T20:49:33.385246Z",
     "start_time": "2020-04-06T20:49:33.377175Z"
    }
   },
   "outputs": [],
   "source": [
    "drop_indices = df.loc[df['date'] < pd.Timestamp(2019, 3, 15)].index\n",
    "df.drop(index=drop_indices, inplace=True)"
   ]
  },
  {
   "cell_type": "code",
   "execution_count": 125,
   "metadata": {
    "ExecuteTime": {
     "end_time": "2020-04-06T20:49:33.852669Z",
     "start_time": "2020-04-06T20:49:33.819558Z"
    }
   },
   "outputs": [],
   "source": [
    "# Drop update articles and investing articles\n",
    "df = df.loc[df['headline'].map(lambda x: re.search(r'UPDATE', x)).isna()]\n",
    "df = df.loc[df['headline'].map(lambda x: re.search(r'US STOCKS', x)).isna()]\n",
    "df = df.loc[df['headline'].map(lambda x: re.search(r'PRESS', x)).isna()]\n",
    "df = df.loc[df['url'].map(lambda x: re.search(r'investing', x)).isna()]\n",
    "df.reset_index(inplace=True)\n",
    "df.drop(columns='index', inplace=True)\n",
    "df.drop(columns='url', inplace=True)"
   ]
  },
  {
   "cell_type": "markdown",
   "metadata": {},
   "source": [
    "## Add sentences and words features"
   ]
  },
  {
   "cell_type": "code",
   "execution_count": 126,
   "metadata": {
    "ExecuteTime": {
     "end_time": "2020-04-06T20:49:39.470015Z",
     "start_time": "2020-04-06T20:49:39.460497Z"
    }
   },
   "outputs": [],
   "source": [
    "def replace_words(text):\n",
    "    text = re.sub(r'U\\.S\\.', 'US', text)\n",
    "    text = re.sub(r'US\\s', 'USA ', text)\n",
    "    text = re.sub(r'U\\.K\\.', 'UK', text)\n",
    "    text = re.sub(r'Mr\\.', 'MR', text)\n",
    "    text = re.sub(r'Mrs\\.', 'MRS', text)\n",
    "    text = re.sub(r'Ms\\.', 'MS', text)\n",
    "    text = re.sub(r'\\.\\.\\.', '', text)\n",
    "    text = re.sub(r'U.S-China', 'US-China', text)\n",
    "    text = re.sub(r'(\\.)(\\w)', r'\\1 \\2', text)\n",
    "    text = text.replace('Co.', 'Co')\n",
    "    text = text.replace('\\xa0', '')\n",
    "    text = text.replace('.\"', '\".')\n",
    "    text = text.replace('immediatelywith', 'immediately with')\n",
    "    text = text.replace('theOfficeof', 'the Office of')\n",
    "    text = text.replace('theCommissionerof', 'the Commissioner of')\n",
    "    text = text.replace('entirelywithin', 'entirely within')\n",
    "    \n",
    "    return text"
   ]
  },
  {
   "cell_type": "code",
   "execution_count": 127,
   "metadata": {
    "ExecuteTime": {
     "end_time": "2020-04-06T20:49:40.932830Z",
     "start_time": "2020-04-06T20:49:40.809715Z"
    }
   },
   "outputs": [],
   "source": [
    "df['body'] = df['body'].map(replace_words)"
   ]
  },
  {
   "cell_type": "code",
   "execution_count": 128,
   "metadata": {
    "ExecuteTime": {
     "end_time": "2020-04-06T20:49:42.094819Z",
     "start_time": "2020-04-06T20:49:42.089649Z"
    }
   },
   "outputs": [],
   "source": [
    "# Modified from: https://towardsdatascience.com/topic-modeling-and-latent-dirichlet-allocation-in-python-9bf156893c24\n",
    "def preprocess(text):\n",
    "    stop_words = stopwords.words('english')\n",
    "    result = []\n",
    "    for token in gensim.utils.simple_preprocess(text):\n",
    "        if token not in stop_words:\n",
    "            result.append(WordNetLemmatizer().lemmatize(token, pos='v'))\n",
    "    return ' '.join(result)"
   ]
  },
  {
   "cell_type": "code",
   "execution_count": 129,
   "metadata": {
    "ExecuteTime": {
     "end_time": "2020-04-06T20:49:43.101558Z",
     "start_time": "2020-04-06T20:49:43.097389Z"
    }
   },
   "outputs": [],
   "source": [
    "def preprocess_all(listy):\n",
    "    results = [ preprocess(text) for text in listy ]\n",
    "    return results"
   ]
  },
  {
   "cell_type": "code",
   "execution_count": 130,
   "metadata": {
    "ExecuteTime": {
     "end_time": "2020-04-06T20:49:48.132122Z",
     "start_time": "2020-04-06T20:49:46.265579Z"
    }
   },
   "outputs": [],
   "source": [
    "# Tokenize body sentences, keep first 10 sentences\n",
    "df['sentence_tokens'] = df['body'].map(lambda x: sent_tokenize(x)[:10])"
   ]
  },
  {
   "cell_type": "code",
   "execution_count": 131,
   "metadata": {
    "ExecuteTime": {
     "end_time": "2020-04-06T20:49:50.042147Z",
     "start_time": "2020-04-06T20:49:48.134621Z"
    }
   },
   "outputs": [],
   "source": [
    "df['sentences'] = df['body'].map(lambda x: sent_tokenize(x)[:10])"
   ]
  },
  {
   "cell_type": "code",
   "execution_count": 132,
   "metadata": {
    "ExecuteTime": {
     "end_time": "2020-04-06T20:49:59.632624Z",
     "start_time": "2020-04-06T20:49:50.045065Z"
    }
   },
   "outputs": [],
   "source": [
    "# Preprocess sentences\n",
    "df['sentence_tokens'] = df['sentence_tokens'].map(preprocess_all)\n",
    "\n",
    "# Form word tokens from the sentences\n",
    "df['word_tokens'] = df['sentence_tokens'].map(lambda x: ' '.join(x).split())"
   ]
  },
  {
   "cell_type": "code",
   "execution_count": 133,
   "metadata": {
    "ExecuteTime": {
     "end_time": "2020-04-06T20:49:59.647832Z",
     "start_time": "2020-04-06T20:49:59.635536Z"
    }
   },
   "outputs": [
    {
     "name": "stdout",
     "output_type": "stream",
     "text": [
      "<class 'pandas.core.frame.DataFrame'>\n",
      "RangeIndex: 2965 entries, 0 to 2964\n",
      "Data columns (total 7 columns):\n",
      "date               2965 non-null datetime64[ns]\n",
      "headline           2965 non-null object\n",
      "body               2965 non-null object\n",
      "source             2965 non-null object\n",
      "sentence_tokens    2965 non-null object\n",
      "sentences          2965 non-null object\n",
      "word_tokens        2965 non-null object\n",
      "dtypes: datetime64[ns](1), object(6)\n",
      "memory usage: 162.3+ KB\n"
     ]
    }
   ],
   "source": [
    "df.info()"
   ]
  },
  {
   "cell_type": "markdown",
   "metadata": {},
   "source": [
    "## Dictionary and bigram/trigram models\n",
    "- This section heavily takes from https://www.machinelearningplus.com/nlp/topic-modeling-gensim-python/"
   ]
  },
  {
   "cell_type": "code",
   "execution_count": 134,
   "metadata": {
    "ExecuteTime": {
     "end_time": "2020-04-06T20:50:05.100091Z",
     "start_time": "2020-04-06T20:50:05.096504Z"
    }
   },
   "outputs": [],
   "source": [
    "data_words = df['word_tokens']"
   ]
  },
  {
   "cell_type": "code",
   "execution_count": 135,
   "metadata": {
    "ExecuteTime": {
     "end_time": "2020-04-06T20:50:20.834060Z",
     "start_time": "2020-04-06T20:50:10.472603Z"
    }
   },
   "outputs": [],
   "source": [
    "# Build the bigram and trigram models\n",
    "bigram = gensim.models.Phrases(data_words, min_count=5, threshold=10)\n",
    "trigram = gensim.models.Phrases(bigram[data_words], threshold=10)  \n",
    "\n",
    "# Faster way to get a sentence clubbed as a trigram/bigram\n",
    "bigram_mod = gensim.models.phrases.Phraser(bigram)\n",
    "trigram_mod = gensim.models.phrases.Phraser(trigram)"
   ]
  },
  {
   "cell_type": "code",
   "execution_count": 136,
   "metadata": {
    "ExecuteTime": {
     "end_time": "2020-04-06T20:50:25.983184Z",
     "start_time": "2020-04-06T20:50:25.975627Z"
    },
    "scrolled": true
   },
   "outputs": [],
   "source": [
    "def make_bigrams(texts):\n",
    "    return [ bigram_mod[doc] for doc in texts ]\n",
    "\n",
    "def make_trigrams(texts):\n",
    "    return [ trigram_mod[bigram_mod[doc]] for doc in texts ]\n",
    "\n",
    "def lemmatization(texts, allowed_postags=['NOUN', 'ADJ', 'VERB', 'ADV']):\n",
    "    texts_out = []\n",
    "    for sent in texts:\n",
    "        doc = nlp(\" \".join(sent)) \n",
    "        texts_out.append([ token.lemma_ for token in doc if token.pos_ in allowed_postags ])\n",
    "    return texts_out"
   ]
  },
  {
   "cell_type": "code",
   "execution_count": 137,
   "metadata": {
    "ExecuteTime": {
     "end_time": "2020-04-06T20:50:30.733529Z",
     "start_time": "2020-04-06T20:50:30.728372Z"
    }
   },
   "outputs": [],
   "source": [
    "def lemmatize_one(text, allowed_postags=['NOUN', 'ADJ', 'VERB', 'ADV']):\n",
    "    text_out = []\n",
    "    text = nlp(text)\n",
    "    for token in text:\n",
    "        if token.pos_ in allowed_postags:\n",
    "            text_out.append(token.lemma_)\n",
    "    return text_out"
   ]
  },
  {
   "cell_type": "code",
   "execution_count": 138,
   "metadata": {
    "ExecuteTime": {
     "end_time": "2020-04-06T20:51:01.972191Z",
     "start_time": "2020-04-06T20:50:36.880829Z"
    }
   },
   "outputs": [],
   "source": [
    "# Form Bigrams and Trigrams\n",
    "data_words_bigrams = make_bigrams(data_words)\n",
    "data_words_trigrams = make_trigrams(data_words)\n",
    "\n",
    "# Initialize spacy 'en' model, keeping only tagger component (for efficiency)\n",
    "# python3 -m spacy download en\n",
    "nlp = spacy.load('en', disable=['parser', 'ner'])\n",
    "\n",
    "# Do lemmatization keeping only noun, adj, vb, adv\n",
    "data_lemmatized = lemmatization(data_words_bigrams, allowed_postags=['NOUN', 'ADJ', 'VERB', 'ADV'])"
   ]
  },
  {
   "cell_type": "code",
   "execution_count": 139,
   "metadata": {
    "ExecuteTime": {
     "end_time": "2020-04-06T20:51:02.417036Z",
     "start_time": "2020-04-06T20:51:01.975368Z"
    }
   },
   "outputs": [],
   "source": [
    "# Create Dictionary\n",
    "id2word = corpora.Dictionary(data_lemmatized)\n",
    "\n",
    "# Filter extremes from dictionary\n",
    "id2word.filter_extremes(no_below=15, no_above=0.5, keep_n=100000)\n",
    "\n",
    "# Create Corpus\n",
    "texts = data_lemmatized\n",
    "\n",
    "# Term Document Frequency\n",
    "corpus = [ id2word.doc2bow(text) for text in texts ]"
   ]
  },
  {
   "cell_type": "code",
   "execution_count": 140,
   "metadata": {
    "ExecuteTime": {
     "end_time": "2020-04-06T20:51:02.463695Z",
     "start_time": "2020-04-06T20:51:02.420505Z"
    }
   },
   "outputs": [],
   "source": [
    "# Create TF-IDF corpus\n",
    "tfidf = models.TfidfModel(corpus)\n",
    "corpus_tfidf = tfidf[corpus]"
   ]
  },
  {
   "cell_type": "markdown",
   "metadata": {},
   "source": [
    "## LDA Models"
   ]
  },
  {
   "cell_type": "markdown",
   "metadata": {},
   "source": [
    "### Standard LDA"
   ]
  },
  {
   "cell_type": "code",
   "execution_count": 141,
   "metadata": {
    "ExecuteTime": {
     "end_time": "2020-04-06T20:51:45.575636Z",
     "start_time": "2020-04-06T20:51:02.466358Z"
    }
   },
   "outputs": [],
   "source": [
    "lda_model = gensim.models.LdaMulticore(corpus=corpus,\n",
    "                                       id2word=id2word,\n",
    "                                       workers=2,\n",
    "                                       num_topics=5, \n",
    "                                       random_state=100,\n",
    "                                       passes=10,\n",
    "                                       per_word_topics=True)"
   ]
  },
  {
   "cell_type": "code",
   "execution_count": 142,
   "metadata": {
    "ExecuteTime": {
     "end_time": "2020-04-06T20:51:45.591129Z",
     "start_time": "2020-04-06T20:51:45.579866Z"
    },
    "scrolled": true
   },
   "outputs": [
    {
     "name": "stdout",
     "output_type": "stream",
     "text": [
      "[(0,\n",
      "  '0.030*\"protester\" + 0.018*\"police\" + 0.013*\"student\" + 0.013*\"people\" + '\n",
      "  '0.011*\"government\" + 0.011*\"city\" + 0.010*\"rally\" + 0.009*\"hong_kong\" + '\n",
      "  '0.009*\"group\" + 0.008*\"call\"'),\n",
      " (1,\n",
      "  '0.023*\"police\" + 0.014*\"arrest\" + 0.011*\"case\" + 0.011*\"court\" + '\n",
      "  '0.008*\"charge\" + 0.007*\"hong_kong\" + 0.007*\"student\" + 0.007*\"also\" + '\n",
      "  '0.007*\"use\" + 0.007*\"officer\"'),\n",
      " (2,\n",
      "  '0.018*\"hong_kong\" + 0.015*\"government\" + 0.014*\"would\" + 0.011*\"chinese\" + '\n",
      "  '0.010*\"law\" + 0.010*\"city\" + 0.008*\"protester\" + 0.008*\"also\" + '\n",
      "  '0.008*\"election\" + 0.007*\"people\"'),\n",
      " (3,\n",
      "  '0.013*\"government\" + 0.011*\"year\" + 0.011*\"city\" + 0.010*\"hong_kong\" + '\n",
      "  '0.008*\"also\" + 0.008*\"people\" + 0.007*\"would\" + 0.007*\"company\" + '\n",
      "  '0.006*\"business\" + 0.005*\"include\"'),\n",
      " (4,\n",
      "  '0.045*\"police\" + 0.035*\"protester\" + 0.011*\"station\" + 0.010*\"officer\" + '\n",
      "  '0.009*\"arrest\" + 0.008*\"people\" + 0.008*\"attack\" + 0.008*\"force\" + '\n",
      "  '0.008*\"violence\" + 0.007*\"hong_kong\"')]\n"
     ]
    }
   ],
   "source": [
    "pprint(lda_model.print_topics())\n",
    "doc_lda = lda_model[corpus]"
   ]
  },
  {
   "cell_type": "code",
   "execution_count": 143,
   "metadata": {
    "ExecuteTime": {
     "end_time": "2020-04-06T20:51:51.570331Z",
     "start_time": "2020-04-06T20:51:45.594406Z"
    }
   },
   "outputs": [
    {
     "name": "stdout",
     "output_type": "stream",
     "text": [
      "\n",
      "Perplexity:  -6.884745960454595\n",
      "\n",
      "Coherence Score:  0.36448029098007395\n"
     ]
    }
   ],
   "source": [
    "print('\\nPerplexity: ', lda_model.log_perplexity(corpus))\n",
    "\n",
    "coherence_model_lda = CoherenceModel(model=lda_model, texts=data_lemmatized, dictionary=id2word, coherence='c_v')\n",
    "coherence_lda = coherence_model_lda.get_coherence()\n",
    "print('\\nCoherence Score: ', coherence_lda)"
   ]
  },
  {
   "cell_type": "markdown",
   "metadata": {},
   "source": [
    "#### Notes:\n",
    "- Topics:\n",
    "    - Topic 0: Protests\n",
    "    - Topic 1: Police Actions\n",
    "    - Topic 2: Government Actions\n",
    "    - Topic 3: Economic Interests\n",
    "    - Topic 4: Altercations"
   ]
  },
  {
   "cell_type": "markdown",
   "metadata": {},
   "source": [
    "### TF-IDF LDA"
   ]
  },
  {
   "cell_type": "code",
   "execution_count": 208,
   "metadata": {
    "ExecuteTime": {
     "end_time": "2020-04-06T21:52:37.925722Z",
     "start_time": "2020-04-06T21:51:58.918721Z"
    }
   },
   "outputs": [],
   "source": [
    "tfidf_lda_model = gensim.models.LdaMulticore(corpus=corpus_tfidf,\n",
    "                                             id2word=id2word,\n",
    "                                             workers=2,\n",
    "                                             num_topics=7,\n",
    "                                             random_state=100,\n",
    "                                             passes=10,\n",
    "                                             per_word_topics=False)"
   ]
  },
  {
   "cell_type": "code",
   "execution_count": 209,
   "metadata": {
    "ExecuteTime": {
     "end_time": "2020-04-06T21:52:37.939247Z",
     "start_time": "2020-04-06T21:52:37.929606Z"
    },
    "scrolled": true
   },
   "outputs": [
    {
     "name": "stdout",
     "output_type": "stream",
     "text": [
      "[(0,\n",
      "  '0.007*\"student\" + 0.007*\"police\" + 0.006*\"arrest\" + 0.005*\"protester\" + '\n",
      "  '0.005*\"officer\" + 0.004*\"court\" + 0.004*\"people\" + 0.004*\"rally\" + '\n",
      "  '0.004*\"man\" + 0.004*\"attack\"'),\n",
      " (1,\n",
      "  '0.017*\"doxxe\" + 0.005*\"protestor\" + 0.003*\"flat\" + 0.003*\"case\" + '\n",
      "  '0.003*\"terrorist\" + 0.003*\"charge\" + 0.003*\"arrest\" + 0.003*\"game\" + '\n",
      "  '0.003*\"prosecutor\" + 0.002*\"bomb\"'),\n",
      " (2,\n",
      "  '0.005*\"government\" + 0.005*\"election\" + 0.005*\"would\" + 0.005*\"law\" + '\n",
      "  '0.004*\"hong_kong\" + 0.004*\"city\" + 0.004*\"meet\" + 0.004*\"call\" + '\n",
      "  '0.003*\"democracy_act\" + 0.003*\"support\"'),\n",
      " (3,\n",
      "  '0.006*\"chinese\" + 0.006*\"spokesperson\" + 0.005*\"affair\" + 0.005*\"country\" + '\n",
      "  '0.005*\"region\" + 0.004*\"hong_kong\" + 0.004*\"law\" + 0.004*\"government\" + '\n",
      "  '0.003*\"policy\" + 0.003*\"issue\"'),\n",
      " (4,\n",
      "  '0.009*\"police\" + 0.009*\"station\" + 0.008*\"protester\" + 0.005*\"arrest\" + '\n",
      "  '0.005*\"campus\" + 0.005*\"airport\" + 0.004*\"road\" + 0.004*\"officer\" + '\n",
      "  '0.004*\"fire\" + 0.004*\"tear_ga\"'),\n",
      " (5,\n",
      "  '0.004*\"activist\" + 0.003*\"draft\" + 0.003*\"entry\" + 0.003*\"style\" + '\n",
      "  '0.002*\"heart\" + 0.002*\"list\" + 0.002*\"china\" + 0.002*\"consider\" + '\n",
      "  '0.002*\"mainland\" + 0.002*\"danger\"'),\n",
      " (6,\n",
      "  '0.008*\"year\" + 0.005*\"market\" + 0.005*\"company\" + 0.005*\"business\" + '\n",
      "  '0.004*\"fall\" + 0.004*\"airline\" + 0.004*\"economy\" + 0.004*\"month\" + '\n",
      "  '0.004*\"investor\" + 0.004*\"sale\"')]\n"
     ]
    }
   ],
   "source": [
    "pprint(tfidf_lda_model.print_topics())\n",
    "doc_tfidf_lda = tfidf_lda_model[corpus]"
   ]
  },
  {
   "cell_type": "code",
   "execution_count": 210,
   "metadata": {
    "ExecuteTime": {
     "end_time": "2020-04-06T21:52:44.033311Z",
     "start_time": "2020-04-06T21:52:37.943256Z"
    }
   },
   "outputs": [
    {
     "name": "stdout",
     "output_type": "stream",
     "text": [
      "\n",
      "Perplexity:  -7.1117568560114135\n",
      "\n",
      "Coherence Score:  0.47099359944721975\n"
     ]
    }
   ],
   "source": [
    "print('\\nPerplexity: ', tfidf_lda_model.log_perplexity(corpus))\n",
    "\n",
    "coherence_model_tfidf_lda = CoherenceModel(model=tfidf_lda_model, texts=data_lemmatized, dictionary=id2word, coherence='c_v')\n",
    "coherence_tfidf_lda = coherence_model_tfidf_lda.get_coherence()\n",
    "print('\\nCoherence Score: ', coherence_tfidf_lda)"
   ]
  },
  {
   "cell_type": "markdown",
   "metadata": {},
   "source": [
    "#### Notes:\n",
    "- Topics:\n",
    "    - Topic 0: Protesters\n",
    "    - Topic 1: Legal Issues\n",
    "    - Topic 2: Government/Law\n",
    "    - Topic 3: Government Officials\n",
    "    - Topic 4: Police\n",
    "    - Topic 5: HKer Sentiment\n",
    "    - Topic 6: Economic"
   ]
  },
  {
   "cell_type": "markdown",
   "metadata": {},
   "source": [
    "### LDA Mallet"
   ]
  },
  {
   "cell_type": "code",
   "execution_count": 167,
   "metadata": {
    "ExecuteTime": {
     "end_time": "2020-04-06T21:22:39.149808Z",
     "start_time": "2020-04-06T21:22:00.410542Z"
    }
   },
   "outputs": [],
   "source": [
    "mallet_path = '/Users/waynelam/Documents/DevStuff/mallet-2.0.8/bin/mallet'\n",
    "ldamallet = gensim.models.wrappers.LdaMallet(mallet_path,\n",
    "                                             corpus=corpus,\n",
    "                                             random_seed=100,\n",
    "                                             num_topics=7,\n",
    "                                             id2word=id2word)"
   ]
  },
  {
   "cell_type": "code",
   "execution_count": 168,
   "metadata": {
    "ExecuteTime": {
     "end_time": "2020-04-06T21:22:39.162175Z",
     "start_time": "2020-04-06T21:22:39.153251Z"
    },
    "scrolled": true
   },
   "outputs": [
    {
     "name": "stdout",
     "output_type": "stream",
     "text": [
      "[(0,\n",
      "  '0.023*\"public\" + 0.021*\"post\" + 0.020*\"government\" + 0.018*\"election\" + '\n",
      "  '0.015*\"make\" + 0.013*\"report\" + 0.013*\"anti_government\" + 0.013*\"give\" + '\n",
      "  '0.012*\"decision\" + 0.011*\"rule\"'),\n",
      " (1,\n",
      "  '0.043*\"people\" + 0.034*\"student\" + 0.029*\"group\" + 0.023*\"call\" + '\n",
      "  '0.022*\"hold\" + 0.020*\"rally\" + 0.018*\"include\" + 0.017*\"demand\" + '\n",
      "  '0.016*\"demonstration\" + 0.015*\"activist\"'),\n",
      " (2,\n",
      "  '0.142*\"police\" + 0.040*\"arrest\" + 0.033*\"force\" + 0.032*\"officer\" + '\n",
      "  '0.019*\"leave\" + 0.019*\"man\" + 0.016*\"find\" + 0.015*\"attack\" + '\n",
      "  '0.015*\"accuse\" + 0.015*\"charge\"'),\n",
      " (3,\n",
      "  '0.037*\"year\" + 0.024*\"month\" + 0.016*\"business\" + 0.015*\"company\" + '\n",
      "  '0.012*\"time\" + 0.012*\"fall\" + 0.011*\"expect\" + 0.011*\"market\" + 0.011*\"big\" '\n",
      "  '+ 0.010*\"high\"'),\n",
      " (4,\n",
      "  '0.058*\"hong_kong\" + 0.035*\"chinese\" + 0.029*\"law\" + 0.023*\"people\" + '\n",
      "  '0.023*\"call\" + 0.018*\"bill\" + 0.018*\"support\" + 0.015*\"government\" + '\n",
      "  '0.014*\"country\" + 0.013*\"authority\"'),\n",
      " (5,\n",
      "  '0.061*\"city\" + 0.046*\"government\" + 0.020*\"hong_kong\" + 0.020*\"meet\" + '\n",
      "  '0.020*\"political\" + 0.018*\"end\" + 0.018*\"official\" + 0.017*\"work\" + '\n",
      "  '0.016*\"leader\" + 0.014*\"include\"'),\n",
      " (6,\n",
      "  '0.133*\"protester\" + 0.026*\"day\" + 0.021*\"station\" + 0.017*\"demonstrator\" + '\n",
      "  '0.017*\"violence\" + 0.016*\"street\" + 0.015*\"clash\" + 0.014*\"fire\" + '\n",
      "  '0.012*\"close\" + 0.012*\"area\"')]\n"
     ]
    }
   ],
   "source": [
    "pprint(ldamallet.show_topics())"
   ]
  },
  {
   "cell_type": "code",
   "execution_count": 169,
   "metadata": {
    "ExecuteTime": {
     "end_time": "2020-04-06T21:22:41.144327Z",
     "start_time": "2020-04-06T21:22:39.166623Z"
    }
   },
   "outputs": [
    {
     "name": "stdout",
     "output_type": "stream",
     "text": [
      "\n",
      "Coherence Score:  0.43371502131498946\n"
     ]
    }
   ],
   "source": [
    "coherence_model_ldamallet = CoherenceModel(model=ldamallet,\n",
    "                                           texts=data_lemmatized,\n",
    "                                           dictionary=id2word,\n",
    "                                           coherence='c_v')\n",
    "coherence_ldamallet = coherence_model_ldamallet.get_coherence()\n",
    "print('\\nCoherence Score: ', coherence_ldamallet)"
   ]
  },
  {
   "cell_type": "markdown",
   "metadata": {},
   "source": [
    "#### Notes:\n",
    "- Topics:\n",
    "    - Topic 0: Elections\n",
    "    - Topic 1: Protesters\n",
    "    - Topic 2: Police\n",
    "    - Topic 3: Economic\n",
    "    - Topic 4: Legal/Law\n",
    "    - Topic 5: Government\n",
    "    - Topic 6: Altercations"
   ]
  },
  {
   "cell_type": "code",
   "execution_count": 162,
   "metadata": {
    "ExecuteTime": {
     "end_time": "2020-04-06T21:14:37.174158Z",
     "start_time": "2020-04-06T21:14:37.166475Z"
    }
   },
   "outputs": [],
   "source": [
    "def compute_coherence_values(dictionary, corpus, texts, limit, start=2, step=3):\n",
    "    coherence_values = []\n",
    "    model_list = []\n",
    "    for num_topics in range(start, limit, step):\n",
    "        model = gensim.models.wrappers.LdaMallet(mallet_path,\n",
    "                                                 corpus=corpus,\n",
    "                                                 id2word=id2word,\n",
    "                                                 num_topics=num_topics)\n",
    "        model_list.append(model)\n",
    "        coherencemodel = CoherenceModel(model=model,\n",
    "                                        texts=texts,\n",
    "                                        dictionary=dictionary,\n",
    "                                        coherence='c_v')\n",
    "        coherence_values.append(coherencemodel.get_coherence())\n",
    "\n",
    "    return model_list, coherence_values"
   ]
  },
  {
   "cell_type": "code",
   "execution_count": 163,
   "metadata": {
    "ExecuteTime": {
     "end_time": "2020-04-06T21:19:16.450320Z",
     "start_time": "2020-04-06T21:14:37.743642Z"
    }
   },
   "outputs": [],
   "source": [
    "model_list, coherence_values = compute_coherence_values(dictionary=id2word,\n",
    "                                                        corpus=corpus,\n",
    "                                                        texts=data_lemmatized,\n",
    "                                                        start=3,\n",
    "                                                        limit=10,\n",
    "                                                        step=1)"
   ]
  },
  {
   "cell_type": "code",
   "execution_count": 164,
   "metadata": {
    "ExecuteTime": {
     "end_time": "2020-04-06T21:19:16.683064Z",
     "start_time": "2020-04-06T21:19:16.453756Z"
    }
   },
   "outputs": [
    {
     "data": {
      "image/png": "[encoded data removed]",
      "text/plain": [
       "<Figure size 432x288 with 1 Axes>"
      ]
     },
     "metadata": {
      "needs_background": "light"
     },
     "output_type": "display_data"
    }
   ],
   "source": [
    "limit = 10\n",
    "start = 3\n",
    "step = 1\n",
    "x = range(start, limit, step)\n",
    "plt.plot(x, coherence_values)\n",
    "plt.xlabel(\"Num Topics\")\n",
    "plt.ylabel(\"Coherence score\")\n",
    "plt.legend((\"coherence_values\"), loc='best')\n",
    "plt.show()"
   ]
  },
  {
   "cell_type": "code",
   "execution_count": 165,
   "metadata": {
    "ExecuteTime": {
     "end_time": "2020-04-06T21:19:16.691939Z",
     "start_time": "2020-04-06T21:19:16.686058Z"
    }
   },
   "outputs": [
    {
     "name": "stdout",
     "output_type": "stream",
     "text": [
      "Num Topics = 3  has Coherence Value of 0.4258\n",
      "Num Topics = 4  has Coherence Value of 0.3955\n",
      "Num Topics = 5  has Coherence Value of 0.4164\n",
      "Num Topics = 6  has Coherence Value of 0.4279\n",
      "Num Topics = 7  has Coherence Value of 0.4593\n",
      "Num Topics = 8  has Coherence Value of 0.4403\n",
      "Num Topics = 9  has Coherence Value of 0.4525\n"
     ]
    }
   ],
   "source": [
    "for m, cv in zip(x, coherence_values):\n",
    "    print(\"Num Topics =\", m, \" has Coherence Value of\", round(cv, 4))"
   ]
  },
  {
   "cell_type": "code",
   "execution_count": 170,
   "metadata": {
    "ExecuteTime": {
     "end_time": "2020-04-06T21:25:59.306824Z",
     "start_time": "2020-04-06T21:25:59.300529Z"
    }
   },
   "outputs": [],
   "source": [
    "mallet_model = gensim.models.wrappers.ldamallet.malletmodel2ldamodel(ldamallet)"
   ]
  },
  {
   "cell_type": "markdown",
   "metadata": {},
   "source": [
    "## Sentiment"
   ]
  },
  {
   "cell_type": "code",
   "execution_count": 171,
   "metadata": {
    "ExecuteTime": {
     "end_time": "2020-04-06T21:26:12.567682Z",
     "start_time": "2020-04-06T21:26:12.563618Z"
    }
   },
   "outputs": [],
   "source": [
    "def vader_analysis(text):\n",
    "    analyzer = SentimentIntensityAnalyzer()\n",
    "    return analyzer.polarity_scores(text)"
   ]
  },
  {
   "cell_type": "code",
   "execution_count": 172,
   "metadata": {
    "ExecuteTime": {
     "end_time": "2020-04-06T21:26:12.998329Z",
     "start_time": "2020-04-06T21:26:12.994203Z"
    }
   },
   "outputs": [],
   "source": [
    "def polarity(text):\n",
    "    analysis = TextBlob(text)\n",
    "    return analysis.sentiment[0]\n",
    "\n",
    "def subjectivity(text):\n",
    "    analysis = TextBlob(text)\n",
    "    return analysis.sentiment[1]"
   ]
  },
  {
   "cell_type": "code",
   "execution_count": 211,
   "metadata": {
    "ExecuteTime": {
     "end_time": "2020-04-06T21:52:44.050985Z",
     "start_time": "2020-04-06T21:52:44.036972Z"
    }
   },
   "outputs": [],
   "source": [
    "def topic_sent(sentence_tokens):\n",
    "    s_tokens = sentence_tokens\n",
    "    topic_0 = 0\n",
    "    topic_1 = 0\n",
    "    topic_2 = 0\n",
    "    topic_3 = 0\n",
    "    topic_4 = 0\n",
    "    topic_5 = 0\n",
    "    topic_6 = 0\n",
    "    num_sentences = len(s_tokens)\n",
    "    for i in range(num_sentences):\n",
    "        tokens = s_tokens[i].split()\n",
    "        vec = id2word.doc2bow(tokens)\n",
    "        # model can be changed\n",
    "        topic = sorted(tfidf_lda_model[vec], key=lambda tup: tup[1], reverse=True)[0][0]\n",
    "        sentiment = round(100 * vader_analysis(s_tokens[i])['compound'], 2)\n",
    "        if topic == 0:\n",
    "            topic_0 += sentiment / num_sentences\n",
    "        elif topic == 1:\n",
    "            topic_1 += sentiment / num_sentences\n",
    "        elif topic == 2:\n",
    "            topic_2 += sentiment / num_sentences\n",
    "        elif topic == 3:\n",
    "            topic_3 += sentiment / num_sentences\n",
    "        elif topic == 4:\n",
    "            topic_4 += sentiment / num_sentences\n",
    "        elif topic == 5:\n",
    "            topic_5 += sentiment / num_sentences\n",
    "        else:\n",
    "            topic_6 += sentiment / num_sentences\n",
    "    return (round(topic_0, 2), round(topic_1, 2), round(topic_2, 2), round(topic_3, 2), round(topic_4, 2), round(topic_5, 2), round(topic_6, 2))"
   ]
  },
  {
   "cell_type": "code",
   "execution_count": 214,
   "metadata": {
    "ExecuteTime": {
     "end_time": "2020-04-06T21:58:31.501323Z",
     "start_time": "2020-04-06T21:58:31.498081Z"
    },
    "scrolled": true
   },
   "outputs": [],
   "source": [
    "# Mallet Model\n",
    "df2 = pd.DataFrame()\n",
    "df2['Sentiment'] = df['sentence_tokens'].map(topic_sent)"
   ]
  },
  {
   "cell_type": "code",
   "execution_count": 188,
   "metadata": {
    "ExecuteTime": {
     "end_time": "2020-04-06T21:36:06.241697Z",
     "start_time": "2020-04-06T21:36:06.238968Z"
    }
   },
   "outputs": [],
   "source": [
    "# Topic 0: Elections\n",
    "# Topic 1: Protests\n",
    "# Topic 2: Police\n",
    "# Topic 3: Economic\n",
    "# Topic 4: Legal/Law\n",
    "# Topic 5: Government\n",
    "# Topic 6: Altercations"
   ]
  },
  {
   "cell_type": "code",
   "execution_count": 181,
   "metadata": {
    "ExecuteTime": {
     "end_time": "2020-04-06T21:34:47.854084Z",
     "start_time": "2020-04-06T21:34:47.832661Z"
    }
   },
   "outputs": [],
   "source": [
    "df2['Elections'] = df2['Sentiment'].map(lambda x: x[0])\n",
    "df2['Protesters'] = df2['Sentiment'].map(lambda x: x[1])\n",
    "df2['Police'] = df2['Sentiment'].map(lambda x: x[2])\n",
    "df2['Economic'] = df2['Sentiment'].map(lambda x: x[3])\n",
    "df2['Legal/Law'] = df2['Sentiment'].map(lambda x: x[4])\n",
    "df2['Government'] = df2['Sentiment'].map(lambda x: x[5])\n",
    "df2['Altercations'] = df2['Sentiment'].map(lambda x: x[6])\n",
    "df2['Source'] = df['source']"
   ]
  },
  {
   "cell_type": "code",
   "execution_count": 182,
   "metadata": {
    "ExecuteTime": {
     "end_time": "2020-04-06T21:34:47.868396Z",
     "start_time": "2020-04-06T21:34:47.857020Z"
    }
   },
   "outputs": [
    {
     "data": {
      "text/plain": [
       "Source\n",
       "ABC (Australia)   -1.776863\n",
       "CCTV              -0.410659\n",
       "CNN               -1.980000\n",
       "Reuters           -1.052304\n",
       "SCMP              -2.220278\n",
       "Name: Elections, dtype: float64"
      ]
     },
     "execution_count": 182,
     "metadata": {},
     "output_type": "execute_result"
    }
   ],
   "source": [
    "df2.groupby('Source')['Elections'].mean()"
   ]
  },
  {
   "cell_type": "code",
   "execution_count": 183,
   "metadata": {
    "ExecuteTime": {
     "end_time": "2020-04-06T21:34:47.880096Z",
     "start_time": "2020-04-06T21:34:47.871355Z"
    }
   },
   "outputs": [
    {
     "data": {
      "text/plain": [
       "Source\n",
       "ABC (Australia)   -0.305980\n",
       "CCTV               0.442582\n",
       "CNN                0.010805\n",
       "Reuters           -0.563848\n",
       "SCMP              -1.908940\n",
       "Name: Protesters, dtype: float64"
      ]
     },
     "execution_count": 183,
     "metadata": {},
     "output_type": "execute_result"
    }
   ],
   "source": [
    "df2.groupby('Source')['Protesters'].mean()"
   ]
  },
  {
   "cell_type": "code",
   "execution_count": 184,
   "metadata": {
    "ExecuteTime": {
     "end_time": "2020-04-06T21:34:47.891957Z",
     "start_time": "2020-04-06T21:34:47.883057Z"
    }
   },
   "outputs": [
    {
     "data": {
      "text/plain": [
       "Source\n",
       "ABC (Australia)   -2.308529\n",
       "CCTV              -3.942363\n",
       "CNN               -2.266782\n",
       "Reuters           -2.079839\n",
       "SCMP              -6.671093\n",
       "Name: Police, dtype: float64"
      ]
     },
     "execution_count": 184,
     "metadata": {},
     "output_type": "execute_result"
    }
   ],
   "source": [
    "df2.groupby('Source')['Police'].mean()"
   ]
  },
  {
   "cell_type": "code",
   "execution_count": 185,
   "metadata": {
    "ExecuteTime": {
     "end_time": "2020-04-06T21:34:47.904458Z",
     "start_time": "2020-04-06T21:34:47.894902Z"
    }
   },
   "outputs": [
    {
     "data": {
      "text/plain": [
       "Source\n",
       "ABC (Australia)   -0.322059\n",
       "CCTV              -0.542418\n",
       "CNN               -1.241494\n",
       "Reuters           -1.447765\n",
       "SCMP              -1.330843\n",
       "Name: Economic, dtype: float64"
      ]
     },
     "execution_count": 185,
     "metadata": {},
     "output_type": "execute_result"
    }
   ],
   "source": [
    "df2.groupby('Source')['Economic'].mean()"
   ]
  },
  {
   "cell_type": "code",
   "execution_count": 222,
   "metadata": {
    "ExecuteTime": {
     "end_time": "2020-04-06T21:58:31.595330Z",
     "start_time": "2020-04-06T21:58:31.586989Z"
    }
   },
   "outputs": [
    {
     "data": {
      "text/plain": [
       "Source\n",
       "ABC (Australia)   -2.273529\n",
       "CCTV              -4.988077\n",
       "CNN               -4.987701\n",
       "Reuters           -2.373871\n",
       "SCMP              -1.164741\n",
       "Name: Legal/Law, dtype: float64"
      ]
     },
     "execution_count": 222,
     "metadata": {},
     "output_type": "execute_result"
    }
   ],
   "source": [
    "df2.groupby('Source')['Legal/Law'].mean()"
   ]
  },
  {
   "cell_type": "code",
   "execution_count": 186,
   "metadata": {
    "ExecuteTime": {
     "end_time": "2020-04-06T21:34:47.915716Z",
     "start_time": "2020-04-06T21:34:47.906824Z"
    }
   },
   "outputs": [
    {
     "data": {
      "text/plain": [
       "Source\n",
       "ABC (Australia)   -1.643529\n",
       "CCTV               0.022473\n",
       "CNN               -2.271839\n",
       "Reuters           -1.399124\n",
       "SCMP              -1.615245\n",
       "Name: Government, dtype: float64"
      ]
     },
     "execution_count": 186,
     "metadata": {},
     "output_type": "execute_result"
    }
   ],
   "source": [
    "df2.groupby('Source')['Government'].mean()"
   ]
  },
  {
   "cell_type": "code",
   "execution_count": 187,
   "metadata": {
    "ExecuteTime": {
     "end_time": "2020-04-06T21:34:47.927688Z",
     "start_time": "2020-04-06T21:34:47.919296Z"
    }
   },
   "outputs": [
    {
     "data": {
      "text/plain": [
       "Source\n",
       "ABC (Australia)   -9.315000\n",
       "CCTV              -2.624396\n",
       "CNN               -3.959425\n",
       "Reuters           -4.642857\n",
       "SCMP              -5.998106\n",
       "Name: Altercations, dtype: float64"
      ]
     },
     "execution_count": 187,
     "metadata": {},
     "output_type": "execute_result"
    }
   ],
   "source": [
    "df2.groupby('Source')['Altercations'].mean()"
   ]
  },
  {
   "cell_type": "code",
   "execution_count": null,
   "metadata": {},
   "outputs": [],
   "source": [
    "# Topic 0: Protesters\n",
    "# Topic 1: Legal Issues\n",
    "# Topic 2: Government/Law\n",
    "# Topic 3: Government Officials\n",
    "# Topic 4: Police\n",
    "# Topic 5: HKer Sentiment\n",
    "# Topic 6: Economic"
   ]
  },
  {
   "cell_type": "code",
   "execution_count": 212,
   "metadata": {
    "ExecuteTime": {
     "end_time": "2020-04-06T21:58:31.459044Z",
     "start_time": "2020-04-06T21:52:44.053868Z"
    }
   },
   "outputs": [],
   "source": [
    "# TF-IDF Model\n",
    "df3 = pd.DataFrame()\n",
    "df3['Sentiment'] = df['sentence_tokens'].map(topic_sent)"
   ]
  },
  {
   "cell_type": "code",
   "execution_count": 213,
   "metadata": {
    "ExecuteTime": {
     "end_time": "2020-04-06T21:58:31.494671Z",
     "start_time": "2020-04-06T21:58:31.464192Z"
    }
   },
   "outputs": [],
   "source": [
    "df3['Protesters'] = df3['Sentiment'].map(lambda x: x[0])\n",
    "df3['Legal Issues'] = df3['Sentiment'].map(lambda x: x[1])\n",
    "df3['Government/Law'] = df3['Sentiment'].map(lambda x: x[2])\n",
    "df3['Government Officials'] = df3['Sentiment'].map(lambda x: x[3])\n",
    "df3['Police'] = df3['Sentiment'].map(lambda x: x[4])\n",
    "df3['HKer Sentiment'] = df3['Sentiment'].map(lambda x: x[5])\n",
    "df3['Economic'] = df3['Sentiment'].map(lambda x: x[6])\n",
    "df3['Source'] = df['source']"
   ]
  },
  {
   "cell_type": "code",
   "execution_count": 215,
   "metadata": {
    "ExecuteTime": {
     "end_time": "2020-04-06T21:58:31.516076Z",
     "start_time": "2020-04-06T21:58:31.503697Z"
    }
   },
   "outputs": [
    {
     "data": {
      "text/plain": [
       "Source\n",
       "ABC (Australia)   -7.031373\n",
       "CCTV              -3.654451\n",
       "CNN               -4.585632\n",
       "Reuters           -3.568157\n",
       "SCMP              -8.982722\n",
       "Name: Protesters, dtype: float64"
      ]
     },
     "execution_count": 215,
     "metadata": {},
     "output_type": "execute_result"
    }
   ],
   "source": [
    "df3.groupby('Source')['Protesters'].mean()"
   ]
  },
  {
   "cell_type": "code",
   "execution_count": 216,
   "metadata": {
    "ExecuteTime": {
     "end_time": "2020-04-06T21:58:31.526193Z",
     "start_time": "2020-04-06T21:58:31.518427Z"
    }
   },
   "outputs": [
    {
     "data": {
      "text/plain": [
       "Source\n",
       "ABC (Australia)    0.000000\n",
       "CCTV               0.000000\n",
       "CNN                0.000000\n",
       "Reuters            0.000000\n",
       "SCMP              -0.001157\n",
       "Name: Legal Issues, dtype: float64"
      ]
     },
     "execution_count": 216,
     "metadata": {},
     "output_type": "execute_result"
    }
   ],
   "source": [
    "df3.groupby('Source')['Legal Issues'].mean()"
   ]
  },
  {
   "cell_type": "code",
   "execution_count": 217,
   "metadata": {
    "ExecuteTime": {
     "end_time": "2020-04-06T21:58:31.542489Z",
     "start_time": "2020-04-06T21:58:31.530123Z"
    }
   },
   "outputs": [
    {
     "data": {
      "text/plain": [
       "Source\n",
       "ABC (Australia)   -4.503725\n",
       "CCTV              -3.670495\n",
       "CNN               -4.467586\n",
       "Reuters           -3.546935\n",
       "SCMP              -3.415620\n",
       "Name: Government/Law, dtype: float64"
      ]
     },
     "execution_count": 217,
     "metadata": {},
     "output_type": "execute_result"
    }
   ],
   "source": [
    "df3.groupby('Source')['Government/Law'].mean()"
   ]
  },
  {
   "cell_type": "code",
   "execution_count": 218,
   "metadata": {
    "ExecuteTime": {
     "end_time": "2020-04-06T21:58:31.553091Z",
     "start_time": "2020-04-06T21:58:31.545580Z"
    }
   },
   "outputs": [
    {
     "data": {
      "text/plain": [
       "Source\n",
       "ABC (Australia)   -0.366176\n",
       "CCTV              -1.233791\n",
       "CNN               -1.500115\n",
       "Reuters           -0.723641\n",
       "SCMP              -0.313481\n",
       "Name: Government Officials, dtype: float64"
      ]
     },
     "execution_count": 218,
     "metadata": {},
     "output_type": "execute_result"
    }
   ],
   "source": [
    "df3.groupby('Source')['Government Officials'].mean()"
   ]
  },
  {
   "cell_type": "code",
   "execution_count": 219,
   "metadata": {
    "ExecuteTime": {
     "end_time": "2020-04-06T21:58:31.562742Z",
     "start_time": "2020-04-06T21:58:31.555187Z"
    }
   },
   "outputs": [
    {
     "data": {
      "text/plain": [
       "Source\n",
       "ABC (Australia)   -5.960980\n",
       "CCTV              -3.484505\n",
       "CNN               -4.055632\n",
       "Reuters           -4.671429\n",
       "SCMP              -7.408167\n",
       "Name: Police, dtype: float64"
      ]
     },
     "execution_count": 219,
     "metadata": {},
     "output_type": "execute_result"
    }
   ],
   "source": [
    "df3.groupby('Source')['Police'].mean()"
   ]
  },
  {
   "cell_type": "code",
   "execution_count": 220,
   "metadata": {
    "ExecuteTime": {
     "end_time": "2020-04-06T21:58:31.574793Z",
     "start_time": "2020-04-06T21:58:31.564772Z"
    }
   },
   "outputs": [
    {
     "data": {
      "text/plain": [
       "Source\n",
       "ABC (Australia)    0.0\n",
       "CCTV               0.0\n",
       "CNN                0.0\n",
       "Reuters            0.0\n",
       "SCMP               0.0\n",
       "Name: HKer Sentiment, dtype: float64"
      ]
     },
     "execution_count": 220,
     "metadata": {},
     "output_type": "execute_result"
    }
   ],
   "source": [
    "df3.groupby('Source')['HKer Sentiment'].mean()"
   ]
  },
  {
   "cell_type": "code",
   "execution_count": 221,
   "metadata": {
    "ExecuteTime": {
     "end_time": "2020-04-06T21:58:31.584467Z",
     "start_time": "2020-04-06T21:58:31.576900Z"
    }
   },
   "outputs": [
    {
     "data": {
      "text/plain": [
       "Source\n",
       "ABC (Australia)   -0.082843\n",
       "CCTV               0.000055\n",
       "CNN               -2.087701\n",
       "Reuters           -1.049585\n",
       "SCMP              -0.788069\n",
       "Name: Economic, dtype: float64"
      ]
     },
     "execution_count": 221,
     "metadata": {},
     "output_type": "execute_result"
    }
   ],
   "source": [
    "df3.groupby('Source')['Economic'].mean()"
   ]
  },
  {
   "cell_type": "code",
   "execution_count": null,
   "metadata": {},
   "outputs": [],
   "source": []
  }
 ],
 "metadata": {
  "kernelspec": {
   "display_name": "Python 3",
   "language": "python",
   "name": "python3"
  },
  "language_info": {
   "codemirror_mode": {
    "name": "ipython",
    "version": 3
   },
   "file_extension": ".py",
   "mimetype": "text/x-python",
   "name": "python",
   "nbconvert_exporter": "python",
   "pygments_lexer": "ipython3",
   "version": "3.6.9"
  },
  "toc": {
   "base_numbering": 1,
   "nav_menu": {},
   "number_sections": true,
   "sideBar": true,
   "skip_h1_title": false,
   "title_cell": "Table of Contents",
   "title_sidebar": "Contents",
   "toc_cell": false,
   "toc_position": {},
   "toc_section_display": true,
   "toc_window_display": true
  }
 },
 "nbformat": 4,
 "nbformat_minor": 2
}
