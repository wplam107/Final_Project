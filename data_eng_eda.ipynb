{
 "cells": [
  {
   "cell_type": "markdown",
   "metadata": {},
   "source": [
    "# Feature Engineering and EDA"
   ]
  },
  {
   "cell_type": "code",
   "execution_count": 1,
   "metadata": {
    "ExecuteTime": {
     "end_time": "2020-04-06T19:04:15.874399Z",
     "start_time": "2020-04-06T19:04:11.994785Z"
    }
   },
   "outputs": [],
   "source": [
    "import re\n",
    "import numpy as np\n",
    "import pandas as pd\n",
    "import pickle\n",
    "import gensim\n",
    "import spacy\n",
    "import pyLDAvis\n",
    "import pyLDAvis.gensim\n",
    "import matplotlib.pyplot as plt\n",
    "import seaborn as sns\n",
    "from pprint import pprint\n",
    "from gensim.utils import simple_preprocess\n",
    "from gensim import corpora, models\n",
    "from gensim.parsing.preprocessing import STOPWORDS\n",
    "from nltk.corpus import stopwords\n",
    "from gensim.models import CoherenceModel\n",
    "from nltk.stem import WordNetLemmatizer, SnowballStemmer\n",
    "from nltk.stem.porter import *\n",
    "from nltk.tokenize import sent_tokenize\n",
    "from textblob import TextBlob\n",
    "from vaderSentiment.vaderSentiment import SentimentIntensityAnalyzer\n",
    "\n",
    "%matplotlib inline"
   ]
  },
  {
   "cell_type": "code",
   "execution_count": 6,
   "metadata": {
    "ExecuteTime": {
     "end_time": "2020-04-06T19:04:58.804026Z",
     "start_time": "2020-04-06T19:04:58.764488Z"
    }
   },
   "outputs": [],
   "source": [
    "file = open('articles.p', 'rb')      \n",
    "df = pickle.load(file)\n",
    "file.close()"
   ]
  },
  {
   "cell_type": "code",
   "execution_count": 7,
   "metadata": {
    "ExecuteTime": {
     "end_time": "2020-04-06T19:05:01.836892Z",
     "start_time": "2020-04-06T19:05:01.828850Z"
    }
   },
   "outputs": [],
   "source": [
    "drop_indices = df.loc[df['date'] < pd.Timestamp(2019, 3, 15)].index\n",
    "df.drop(index=drop_indices, inplace=True)"
   ]
  },
  {
   "cell_type": "code",
   "execution_count": 9,
   "metadata": {
    "ExecuteTime": {
     "end_time": "2020-04-06T19:05:24.069308Z",
     "start_time": "2020-04-06T19:05:24.035591Z"
    }
   },
   "outputs": [],
   "source": [
    "# Drop update articles and investing articles\n",
    "df = df.loc[df['headline'].map(lambda x: re.search(r'UPDATE', x)).isna()]\n",
    "df = df.loc[df['headline'].map(lambda x: re.search(r'US STOCKS', x)).isna()]\n",
    "df = df.loc[df['headline'].map(lambda x: re.search(r'PRESS', x)).isna()]\n",
    "df = df.loc[df['url'].map(lambda x: re.search(r'investing', x)).isna()]\n",
    "df.reset_index(inplace=True)\n",
    "df.drop(columns='index', inplace=True)\n",
    "df.drop(columns='url', inplace=True)"
   ]
  },
  {
   "cell_type": "markdown",
   "metadata": {},
   "source": [
    "## Add sentences and words features"
   ]
  },
  {
   "cell_type": "code",
   "execution_count": 10,
   "metadata": {
    "ExecuteTime": {
     "end_time": "2020-04-06T19:05:26.484084Z",
     "start_time": "2020-04-06T19:05:26.474224Z"
    }
   },
   "outputs": [],
   "source": [
    "def replace_words(text):\n",
    "    text = re.sub(r'U\\.S\\.', 'US', text)\n",
    "    text = re.sub(r'US\\s', 'USA ', text)\n",
    "    text = re.sub(r'Kongs', 'Kong', text)\n",
    "    text = re.sub(r'Hong Kong', 'HongKong', text)\n",
    "    text = re.sub(r'U\\.K\\.', 'UK', text)\n",
    "    text = re.sub(r'Mr\\.', 'MR', text)\n",
    "    text = re.sub(r'Mrs\\.', 'MRS', text)\n",
    "    text = re.sub(r'Ms\\.', 'MS', text)\n",
    "    text = re.sub(r'\\.\\.\\.', '', text)\n",
    "    text = re.sub(r'U.S-China', 'US-China', text)\n",
    "    text = re.sub(r'(\\.)(\\w)', r'\\1 \\2', text)\n",
    "    text = text.replace('Co.', 'Co')\n",
    "    text = text.replace('\\xa0', '')\n",
    "    text = text.replace('.\"', '\".')\n",
    "    text = text.replace('immediatelywith', 'immediately with')\n",
    "    text = text.replace('theOfficeof', 'the Office of')\n",
    "    text = text.replace('theCommissionerof', 'the Commissioner of')\n",
    "    text = text.replace('entirelywithin', 'entirely within')\n",
    "    \n",
    "    return text"
   ]
  },
  {
   "cell_type": "code",
   "execution_count": 11,
   "metadata": {
    "ExecuteTime": {
     "end_time": "2020-04-06T19:05:28.110303Z",
     "start_time": "2020-04-06T19:05:27.954247Z"
    }
   },
   "outputs": [],
   "source": [
    "df['body'] = df['body'].map(replace_words)"
   ]
  },
  {
   "cell_type": "code",
   "execution_count": 12,
   "metadata": {
    "ExecuteTime": {
     "end_time": "2020-04-06T19:05:29.561175Z",
     "start_time": "2020-04-06T19:05:29.555966Z"
    }
   },
   "outputs": [],
   "source": [
    "def preprocess(text):\n",
    "    stop_words = stopwords.words('english')\n",
    "    result = []\n",
    "    for token in gensim.utils.simple_preprocess(text):\n",
    "        if token not in stop_words:\n",
    "            result.append(WordNetLemmatizer().lemmatize(token, pos='v'))\n",
    "    return ' '.join(result)"
   ]
  },
  {
   "cell_type": "code",
   "execution_count": 13,
   "metadata": {
    "ExecuteTime": {
     "end_time": "2020-04-06T19:05:30.589545Z",
     "start_time": "2020-04-06T19:05:30.585689Z"
    }
   },
   "outputs": [],
   "source": [
    "def preprocess_all(listy):\n",
    "    results = [ preprocess(text) for text in listy ]\n",
    "    return results"
   ]
  },
  {
   "cell_type": "code",
   "execution_count": 14,
   "metadata": {
    "ExecuteTime": {
     "end_time": "2020-04-06T19:05:35.224599Z",
     "start_time": "2020-04-06T19:05:33.386228Z"
    }
   },
   "outputs": [],
   "source": [
    "# Tokenize body sentences, keep first 10 sentences\n",
    "df['sentence_tokens'] = df['body'].map(lambda x: sent_tokenize(x)[:10])"
   ]
  },
  {
   "cell_type": "code",
   "execution_count": 15,
   "metadata": {
    "ExecuteTime": {
     "end_time": "2020-04-06T19:05:38.209867Z",
     "start_time": "2020-04-06T19:05:36.362422Z"
    }
   },
   "outputs": [],
   "source": [
    "df['sentences'] = df['body'].map(lambda x: sent_tokenize(x)[:10])"
   ]
  },
  {
   "cell_type": "code",
   "execution_count": 16,
   "metadata": {
    "ExecuteTime": {
     "end_time": "2020-04-06T19:05:50.034677Z",
     "start_time": "2020-04-06T19:05:39.450122Z"
    }
   },
   "outputs": [],
   "source": [
    "# Preprocess sentences\n",
    "df['sentence_tokens'] = df['sentence_tokens'].map(preprocess_all)\n",
    "\n",
    "# Form word tokens from the sentences\n",
    "df['word_tokens'] = df['sentence_tokens'].map(lambda x: ' '.join(x).split())"
   ]
  },
  {
   "cell_type": "code",
   "execution_count": 17,
   "metadata": {
    "ExecuteTime": {
     "end_time": "2020-04-06T19:05:50.048724Z",
     "start_time": "2020-04-06T19:05:50.037343Z"
    }
   },
   "outputs": [
    {
     "name": "stdout",
     "output_type": "stream",
     "text": [
      "<class 'pandas.core.frame.DataFrame'>\n",
      "RangeIndex: 2965 entries, 0 to 2964\n",
      "Data columns (total 7 columns):\n",
      "date               2965 non-null datetime64[ns]\n",
      "headline           2965 non-null object\n",
      "body               2965 non-null object\n",
      "source             2965 non-null object\n",
      "sentence_tokens    2965 non-null object\n",
      "sentences          2965 non-null object\n",
      "word_tokens        2965 non-null object\n",
      "dtypes: datetime64[ns](1), object(6)\n",
      "memory usage: 162.3+ KB\n"
     ]
    }
   ],
   "source": [
    "df.info()"
   ]
  },
  {
   "cell_type": "markdown",
   "metadata": {},
   "source": [
    "## Dictionary and bigram/trigram models\n",
    "- This section heavily takes from https://www.machinelearningplus.com/nlp/topic-modeling-gensim-python/"
   ]
  },
  {
   "cell_type": "code",
   "execution_count": 18,
   "metadata": {
    "ExecuteTime": {
     "end_time": "2020-04-06T19:05:59.168421Z",
     "start_time": "2020-04-06T19:05:59.165175Z"
    }
   },
   "outputs": [],
   "source": [
    "data_words = df['word_tokens']"
   ]
  },
  {
   "cell_type": "code",
   "execution_count": 19,
   "metadata": {
    "ExecuteTime": {
     "end_time": "2020-04-06T19:06:10.830734Z",
     "start_time": "2020-04-06T19:06:00.741995Z"
    }
   },
   "outputs": [],
   "source": [
    "# Build the bigram and trigram models\n",
    "bigram = gensim.models.Phrases(data_words, min_count=5, threshold=10)\n",
    "trigram = gensim.models.Phrases(bigram[data_words], threshold=10)  \n",
    "\n",
    "# Faster way to get a sentence clubbed as a trigram/bigram\n",
    "bigram_mod = gensim.models.phrases.Phraser(bigram)\n",
    "trigram_mod = gensim.models.phrases.Phraser(trigram)"
   ]
  },
  {
   "cell_type": "code",
   "execution_count": 20,
   "metadata": {
    "ExecuteTime": {
     "end_time": "2020-04-06T19:06:13.079329Z",
     "start_time": "2020-04-06T19:06:13.071443Z"
    },
    "scrolled": true
   },
   "outputs": [],
   "source": [
    "def make_bigrams(texts):\n",
    "    return [ bigram_mod[doc] for doc in texts ]\n",
    "\n",
    "def make_trigrams(texts):\n",
    "    return [ trigram_mod[bigram_mod[doc]] for doc in texts ]\n",
    "\n",
    "def lemmatization(texts, allowed_postags=['NOUN', 'ADJ', 'VERB', 'ADV']):\n",
    "    texts_out = []\n",
    "    for sent in texts:\n",
    "        doc = nlp(\" \".join(sent)) \n",
    "        texts_out.append([ token.lemma_ for token in doc if token.pos_ in allowed_postags ])\n",
    "    return texts_out"
   ]
  },
  {
   "cell_type": "code",
   "execution_count": 21,
   "metadata": {
    "ExecuteTime": {
     "end_time": "2020-04-06T19:06:38.278068Z",
     "start_time": "2020-04-06T19:06:17.046347Z"
    }
   },
   "outputs": [],
   "source": [
    "# Form Bigrams and Trigrams\n",
    "data_words_bigrams = make_bigrams(data_words)\n",
    "\n",
    "# Initialize spacy 'en' model, keeping only tagger component (for efficiency)\n",
    "# python3 -m spacy download en\n",
    "nlp = spacy.load('en', disable=['parser', 'ner'])\n",
    "\n",
    "# Do lemmatization keeping only noun, adj, vb, adv\n",
    "data_lemmatized = lemmatization(data_words_bigrams, allowed_postags=['NOUN', 'ADJ', 'VERB', 'ADV'])"
   ]
  },
  {
   "cell_type": "code",
   "execution_count": null,
   "metadata": {
    "ExecuteTime": {
     "start_time": "2020-04-06T19:34:37.774Z"
    }
   },
   "outputs": [],
   "source": [
    "data_words_bigrams"
   ]
  },
  {
   "cell_type": "code",
   "execution_count": 22,
   "metadata": {
    "ExecuteTime": {
     "end_time": "2020-04-06T19:06:39.442138Z",
     "start_time": "2020-04-06T19:06:39.045968Z"
    }
   },
   "outputs": [],
   "source": [
    "# Create Dictionary\n",
    "id2word = corpora.Dictionary(data_lemmatized)\n",
    "\n",
    "# Filter extremes from dictionary\n",
    "id2word.filter_extremes(no_below=15, no_above=0.5, keep_n=100000)\n",
    "\n",
    "# Create Corpus\n",
    "texts = data_lemmatized\n",
    "\n",
    "# Term Document Frequency\n",
    "corpus = [ id2word.doc2bow(text) for text in texts ]"
   ]
  },
  {
   "cell_type": "code",
   "execution_count": 23,
   "metadata": {
    "ExecuteTime": {
     "end_time": "2020-04-06T19:06:40.594661Z",
     "start_time": "2020-04-06T19:06:40.556420Z"
    }
   },
   "outputs": [],
   "source": [
    "# Create TF-IDF corpus\n",
    "tfidf = models.TfidfModel(corpus)\n",
    "corpus_tfidf = tfidf[corpus]"
   ]
  },
  {
   "cell_type": "markdown",
   "metadata": {},
   "source": [
    "## LDA Models"
   ]
  },
  {
   "cell_type": "code",
   "execution_count": 44,
   "metadata": {
    "ExecuteTime": {
     "end_time": "2020-04-06T19:22:01.233194Z",
     "start_time": "2020-04-06T19:21:20.349573Z"
    }
   },
   "outputs": [],
   "source": [
    "lda_model = gensim.models.LdaMulticore(corpus=corpus,\n",
    "                                       id2word=id2word,\n",
    "                                       workers=2,\n",
    "                                       num_topics=5, \n",
    "                                       random_state=100,\n",
    "                                       passes=10,\n",
    "                                       per_word_topics=True)"
   ]
  },
  {
   "cell_type": "code",
   "execution_count": 45,
   "metadata": {
    "ExecuteTime": {
     "end_time": "2020-04-06T19:22:01.244494Z",
     "start_time": "2020-04-06T19:22:01.237068Z"
    },
    "scrolled": true
   },
   "outputs": [
    {
     "name": "stdout",
     "output_type": "stream",
     "text": [
      "[(0,\n",
      "  '0.019*\"government\" + 0.012*\"would\" + 0.012*\"student\" + 0.011*\"police\" + '\n",
      "  '0.010*\"city\" + 0.009*\"election\" + 0.009*\"law\" + 0.009*\"also\" + '\n",
      "  '0.006*\"people\" + 0.006*\"call\"'),\n",
      " (1,\n",
      "  '0.020*\"year\" + 0.013*\"city\" + 0.010*\"government\" + 0.009*\"would\" + '\n",
      "  '0.007*\"month\" + 0.007*\"business\" + 0.007*\"company\" + 0.006*\"also\" + '\n",
      "  '0.006*\"market\" + 0.006*\"time\"'),\n",
      " (2,\n",
      "  '0.048*\"police\" + 0.035*\"protester\" + 0.016*\"arrest\" + 0.012*\"officer\" + '\n",
      "  '0.010*\"people\" + 0.008*\"attack\" + 0.007*\"man\" + 0.006*\"student\" + '\n",
      "  '0.006*\"force\" + 0.006*\"charge\"'),\n",
      " (3,\n",
      "  '0.033*\"protester\" + 0.026*\"police\" + 0.012*\"people\" + 0.011*\"use\" + '\n",
      "  '0.009*\"station\" + 0.009*\"also\" + 0.007*\"call\" + 0.006*\"violence\" + '\n",
      "  '0.006*\"government\" + 0.006*\"city\"'),\n",
      " (4,\n",
      "  '0.016*\"chinese\" + 0.011*\"government\" + 0.011*\"people\" + 0.010*\"protester\" + '\n",
      "  '0.010*\"also\" + 0.009*\"would\" + 0.009*\"city\" + 0.008*\"call\" + '\n",
      "  '0.008*\"support\" + 0.006*\"make\"')]\n"
     ]
    }
   ],
   "source": [
    "pprint(lda_model.print_topics())\n",
    "doc_lda = lda_model[corpus]"
   ]
  },
  {
   "cell_type": "code",
   "execution_count": 46,
   "metadata": {
    "ExecuteTime": {
     "end_time": "2020-04-06T19:22:06.935392Z",
     "start_time": "2020-04-06T19:22:01.249610Z"
    }
   },
   "outputs": [
    {
     "name": "stdout",
     "output_type": "stream",
     "text": [
      "\n",
      "Perplexity:  -6.8705044614761945\n",
      "\n",
      "Coherence Score:  0.38590898213873626\n"
     ]
    }
   ],
   "source": [
    "print('\\nPerplexity: ', lda_model.log_perplexity(corpus))\n",
    "\n",
    "coherence_model_lda = CoherenceModel(model=lda_model, texts=data_lemmatized, dictionary=id2word, coherence='c_v')\n",
    "coherence_lda = coherence_model_lda.get_coherence()\n",
    "print('\\nCoherence Score: ', coherence_lda)"
   ]
  },
  {
   "cell_type": "code",
   "execution_count": 47,
   "metadata": {
    "ExecuteTime": {
     "end_time": "2020-04-06T19:22:44.649371Z",
     "start_time": "2020-04-06T19:22:06.938613Z"
    }
   },
   "outputs": [],
   "source": [
    "tfidf_lda_model = gensim.models.LdaMulticore(corpus=corpus_tfidf,\n",
    "                                             id2word=id2word,\n",
    "                                             workers=2,\n",
    "                                             num_topics=5,\n",
    "                                             random_state=100,\n",
    "                                             passes=10,\n",
    "                                             per_word_topics=False)"
   ]
  },
  {
   "cell_type": "code",
   "execution_count": 48,
   "metadata": {
    "ExecuteTime": {
     "end_time": "2020-04-06T19:22:44.659411Z",
     "start_time": "2020-04-06T19:22:44.652302Z"
    },
    "scrolled": true
   },
   "outputs": [
    {
     "name": "stdout",
     "output_type": "stream",
     "text": [
      "[(0,\n",
      "  '0.010*\"student\" + 0.008*\"school\" + 0.006*\"teacher\" + 0.005*\"decision\" + '\n",
      "  '0.005*\"court\" + 0.004*\"law\" + 0.004*\"rule\" + 0.004*\"case\" + 0.004*\"legal\" + '\n",
      "  '0.004*\"game\"'),\n",
      " (1,\n",
      "  '0.011*\"year\" + 0.009*\"flight\" + 0.008*\"airline\" + 0.005*\"sale\" + '\n",
      "  '0.005*\"drop\" + 0.005*\"visitor\" + 0.005*\"company\" + 0.005*\"profit\" + '\n",
      "  '0.004*\"decline\" + 0.004*\"impact\"'),\n",
      " (2,\n",
      "  '0.004*\"employee\" + 0.003*\"participation\" + 0.003*\"prosecutor\" + '\n",
      "  '0.003*\"year\" + 0.003*\"produce\" + 0.002*\"broadcast\" + 0.002*\"charge\" + '\n",
      "  '0.002*\"programme\" + 0.002*\"bail\" + 0.002*\"email\"'),\n",
      " (3,\n",
      "  '0.009*\"police\" + 0.007*\"protester\" + 0.006*\"arrest\" + 0.005*\"officer\" + '\n",
      "  '0.005*\"station\" + 0.004*\"attack\" + 0.004*\"student\" + 0.004*\"man\" + '\n",
      "  '0.004*\"people\" + 0.003*\"force\"'),\n",
      " (4,\n",
      "  '0.005*\"government\" + 0.004*\"chinese\" + 0.004*\"would\" + 0.004*\"election\" + '\n",
      "  '0.004*\"city\" + 0.004*\"law\" + 0.004*\"support\" + 0.004*\"people\" + '\n",
      "  '0.003*\"call\" + 0.003*\"political\"')]\n"
     ]
    }
   ],
   "source": [
    "pprint(tfidf_lda_model.print_topics())\n",
    "doc_tfidf_lda = tfidf_lda_model[corpus]"
   ]
  },
  {
   "cell_type": "code",
   "execution_count": 49,
   "metadata": {
    "ExecuteTime": {
     "end_time": "2020-04-06T19:22:49.957060Z",
     "start_time": "2020-04-06T19:22:44.662643Z"
    }
   },
   "outputs": [
    {
     "name": "stdout",
     "output_type": "stream",
     "text": [
      "\n",
      "Perplexity:  -7.068859106426063\n",
      "\n",
      "Coherence Score:  0.4356104125474727\n"
     ]
    }
   ],
   "source": [
    "print('\\nPerplexity: ', tfidf_lda_model.log_perplexity(corpus))\n",
    "\n",
    "coherence_model_tfidf_lda = CoherenceModel(model=tfidf_lda_model, texts=data_lemmatized, dictionary=id2word, coherence='c_v')\n",
    "coherence_tfidf_lda = coherence_model_tfidf_lda.get_coherence()\n",
    "print('\\nCoherence Score: ', coherence_tfidf_lda)"
   ]
  },
  {
   "cell_type": "code",
   "execution_count": 50,
   "metadata": {
    "ExecuteTime": {
     "end_time": "2020-04-06T19:23:27.834615Z",
     "start_time": "2020-04-06T19:22:49.959644Z"
    }
   },
   "outputs": [
    {
     "name": "stderr",
     "output_type": "stream",
     "text": [
      "/Users/waynelam/opt/anaconda3/envs/learn-env/lib/python3.6/site-packages/smart_open/smart_open_lib.py:398: UserWarning: This function is deprecated, use smart_open.open instead. See the migration notes for details: https://github.com/RaRe-Technologies/smart_open/blob/master/README.rst#migrating-to-the-new-open-function\n",
      "  'See the migration notes for details: %s' % _MIGRATION_NOTES_URL\n"
     ]
    }
   ],
   "source": [
    "mallet_path = '/Users/waynelam/Documents/DevStuff/mallet-2.0.8/bin/mallet'\n",
    "ldamallet = gensim.models.wrappers.LdaMallet(mallet_path,\n",
    "                                             corpus=corpus,\n",
    "                                             random_seed=100,\n",
    "                                             num_topics=5,\n",
    "                                             workers=2,\n",
    "                                             id2word=id2word)"
   ]
  },
  {
   "cell_type": "code",
   "execution_count": 51,
   "metadata": {
    "ExecuteTime": {
     "end_time": "2020-04-06T19:23:27.846952Z",
     "start_time": "2020-04-06T19:23:27.840039Z"
    },
    "scrolled": true
   },
   "outputs": [
    {
     "name": "stdout",
     "output_type": "stream",
     "text": [
      "[(0,\n",
      "  '0.025*\"student\" + 0.017*\"public\" + 0.016*\"make\" + 0.015*\"post\" + '\n",
      "  '0.015*\"report\" + 0.014*\"include\" + 0.013*\"work\" + 0.012*\"case\" + '\n",
      "  '0.011*\"mainland\" + 0.011*\"authority\"'),\n",
      " (1,\n",
      "  '0.100*\"police\" + 0.053*\"protester\" + 0.028*\"arrest\" + 0.023*\"officer\" + '\n",
      "  '0.023*\"force\" + 0.017*\"attack\" + 0.016*\"station\" + 0.015*\"anti_government\" '\n",
      "  '+ 0.014*\"leave\" + 0.013*\"man\"'),\n",
      " (2,\n",
      "  '0.048*\"protester\" + 0.040*\"people\" + 0.024*\"city\" + 0.024*\"day\" + '\n",
      "  '0.022*\"violence\" + 0.022*\"group\" + 0.019*\"call\" + 0.017*\"hold\" + '\n",
      "  '0.016*\"demonstration\" + 0.015*\"include\"'),\n",
      " (3,\n",
      "  '0.057*\"government\" + 0.026*\"chinese\" + 0.022*\"support\" + 0.021*\"law\" + '\n",
      "  '0.015*\"official\" + 0.014*\"political\" + 0.014*\"issue\" + 0.014*\"call\" + '\n",
      "  '0.014*\"meet\" + 0.013*\"add\"'),\n",
      " (4,\n",
      "  '0.028*\"year\" + 0.018*\"month\" + 0.016*\"time\" + 0.014*\"city\" + 0.013*\"week\" + '\n",
      "  '0.012*\"warn\" + 0.012*\"business\" + 0.011*\"company\" + 0.011*\"expect\" + '\n",
      "  '0.010*\"end\"')]\n"
     ]
    }
   ],
   "source": [
    "pprint(ldamallet.show_topics())"
   ]
  },
  {
   "cell_type": "code",
   "execution_count": 52,
   "metadata": {
    "ExecuteTime": {
     "end_time": "2020-04-06T19:23:29.109769Z",
     "start_time": "2020-04-06T19:23:27.850414Z"
    }
   },
   "outputs": [
    {
     "name": "stdout",
     "output_type": "stream",
     "text": [
      "\n",
      "Coherence Score:  0.428400939938084\n"
     ]
    }
   ],
   "source": [
    "coherence_model_ldamallet = CoherenceModel(model=ldamallet,\n",
    "                                           texts=data_lemmatized,\n",
    "                                           dictionary=id2word,\n",
    "                                           coherence='c_v')\n",
    "coherence_ldamallet = coherence_model_ldamallet.get_coherence()\n",
    "print('\\nCoherence Score: ', coherence_ldamallet)"
   ]
  },
  {
   "cell_type": "code",
   "execution_count": 39,
   "metadata": {
    "ExecuteTime": {
     "end_time": "2020-04-06T19:11:46.211348Z",
     "start_time": "2020-04-06T19:11:46.204170Z"
    }
   },
   "outputs": [],
   "source": [
    "def compute_coherence_values(dictionary, corpus, texts, limit, start=2, step=3):\n",
    "    coherence_values = []\n",
    "    model_list = []\n",
    "    for num_topics in range(start, limit, step):\n",
    "        model = gensim.models.LdaMulticore(corpus=corpus_tfidf,\n",
    "                                           id2word=id2word,\n",
    "                                           workers=2,\n",
    "                                           num_topics=num_topics,\n",
    "                                           random_state=100,\n",
    "                                           passes=10,\n",
    "                                           per_word_topics=True)\n",
    "        model_list.append(model)\n",
    "        coherencemodel = CoherenceModel(model=model,\n",
    "                                        texts=texts,\n",
    "                                        dictionary=dictionary,\n",
    "                                        coherence='c_v')\n",
    "        coherence_values.append(coherencemodel.get_coherence())\n",
    "\n",
    "    return model_list, coherence_values"
   ]
  },
  {
   "cell_type": "code",
   "execution_count": 40,
   "metadata": {
    "ExecuteTime": {
     "end_time": "2020-04-06T19:15:24.646349Z",
     "start_time": "2020-04-06T19:11:47.687327Z"
    }
   },
   "outputs": [],
   "source": [
    "model_list, coherence_values = compute_coherence_values(dictionary=id2word,\n",
    "                                                        corpus=corpus,\n",
    "                                                        texts=data_lemmatized,\n",
    "                                                        start=3,\n",
    "                                                        limit=15,\n",
    "                                                        step=2)"
   ]
  },
  {
   "cell_type": "code",
   "execution_count": 41,
   "metadata": {
    "ExecuteTime": {
     "end_time": "2020-04-06T19:15:24.855171Z",
     "start_time": "2020-04-06T19:15:24.650416Z"
    }
   },
   "outputs": [
    {
     "data": {
      "image/png": "[encoded data removed]",
      "text/plain": [
       "<Figure size 432x288 with 1 Axes>"
      ]
     },
     "metadata": {
      "needs_background": "light"
     },
     "output_type": "display_data"
    }
   ],
   "source": [
    "limit = 15\n",
    "start = 3\n",
    "step = 2\n",
    "x = range(start, limit, step)\n",
    "plt.plot(x, coherence_values)\n",
    "plt.xlabel(\"Num Topics\")\n",
    "plt.ylabel(\"Coherence score\")\n",
    "plt.legend((\"coherence_values\"), loc='best')\n",
    "plt.show()"
   ]
  },
  {
   "cell_type": "code",
   "execution_count": 42,
   "metadata": {
    "ExecuteTime": {
     "end_time": "2020-04-06T19:15:24.863142Z",
     "start_time": "2020-04-06T19:15:24.858132Z"
    }
   },
   "outputs": [
    {
     "name": "stdout",
     "output_type": "stream",
     "text": [
      "Num Topics = 3  has Coherence Value of 0.4311\n",
      "Num Topics = 5  has Coherence Value of 0.4356\n",
      "Num Topics = 7  has Coherence Value of 0.4073\n",
      "Num Topics = 9  has Coherence Value of 0.3769\n",
      "Num Topics = 11  has Coherence Value of 0.3844\n",
      "Num Topics = 13  has Coherence Value of 0.3781\n"
     ]
    }
   ],
   "source": [
    "for m, cv in zip(x, coherence_values):\n",
    "    print(\"Num Topics =\", m, \" has Coherence Value of\", round(cv, 4))"
   ]
  },
  {
   "cell_type": "markdown",
   "metadata": {},
   "source": [
    "## Sentiment"
   ]
  },
  {
   "cell_type": "code",
   "execution_count": 53,
   "metadata": {
    "ExecuteTime": {
     "end_time": "2020-04-06T19:24:44.110467Z",
     "start_time": "2020-04-06T19:24:44.106392Z"
    }
   },
   "outputs": [],
   "source": [
    "def vader_analysis(text):\n",
    "    analyzer = SentimentIntensityAnalyzer()\n",
    "    return analyzer.polarity_scores(text)"
   ]
  },
  {
   "cell_type": "code",
   "execution_count": 54,
   "metadata": {
    "ExecuteTime": {
     "end_time": "2020-04-06T19:24:45.128188Z",
     "start_time": "2020-04-06T19:24:45.123785Z"
    }
   },
   "outputs": [],
   "source": [
    "def polarity(text):\n",
    "    analysis = TextBlob(text)\n",
    "    return analysis.sentiment[0]\n",
    "\n",
    "def subjectivity(text):\n",
    "    analysis = TextBlob(text)\n",
    "    return analysis.sentiment[1]"
   ]
  },
  {
   "cell_type": "code",
   "execution_count": 55,
   "metadata": {
    "ExecuteTime": {
     "end_time": "2020-04-06T19:26:20.034164Z",
     "start_time": "2020-04-06T19:26:20.024423Z"
    }
   },
   "outputs": [],
   "source": [
    "def topic_sent(sentence_tokens):\n",
    "    s_tokens = sentence_tokens\n",
    "    topic_0 = 0\n",
    "    topic_1 = 0\n",
    "    topic_2 = 0\n",
    "    topic_3 = 0\n",
    "    topic_4 = 0\n",
    "    num_sentences = len(s_tokens)\n",
    "    for i in range(num_sentences):\n",
    "        tokens = s_tokens[i].split()\n",
    "        vec = id2word.doc2bow(tokens)\n",
    "        topic = sorted(ldamallet[vec], key=lambda tup: tup[1], reverse=True)[0][0]\n",
    "        sentiment = round(100 * vader_analysis(s_tokens[i])['compound'], 2)\n",
    "        if topic == 0:\n",
    "            topic_0 += sentiment / num_sentences\n",
    "        elif topic == 1:\n",
    "            topic_1 += sentiment / num_sentences\n",
    "        elif topic == 2:\n",
    "            topic_2 += sentiment / num_sentences\n",
    "        elif topic == 3:\n",
    "            topic_3 += sentiment / num_sentences\n",
    "        else:\n",
    "            topic_4 += sentiment / num_sentences\n",
    "    return (round(topic_0, 2), round(topic_1, 2), round(topic_2, 2), round(topic_3, 2), round(topic_4, 2))"
   ]
  },
  {
   "cell_type": "code",
   "execution_count": null,
   "metadata": {
    "ExecuteTime": {
     "start_time": "2020-04-06T19:26:22.405Z"
    },
    "scrolled": true
   },
   "outputs": [],
   "source": [
    "df2 = pd.DataFrame()\n",
    "df2['Sentiment'] = df['sentence_tokens'].map(topic_sent)"
   ]
  },
  {
   "cell_type": "code",
   "execution_count": null,
   "metadata": {
    "ExecuteTime": {
     "start_time": "2020-04-06T19:28:24.371Z"
    }
   },
   "outputs": [],
   "source": [
    "df2['Student'] = df2['Sentiment'].map(lambda x: x[0])\n",
    "df2['Police'] = df2['Sentiment'].map(lambda x: x[1])\n",
    "df2['Protests'] = df2['Sentiment'].map(lambda x: x[2])\n",
    "df2['Government'] = df2['Sentiment'].map(lambda x: x[3])\n",
    "df2['Economy'] = df2['Sentiment'].map(lambda x: x[4])\n",
    "df2['Source'] = df['source']"
   ]
  },
  {
   "cell_type": "code",
   "execution_count": null,
   "metadata": {
    "ExecuteTime": {
     "start_time": "2020-04-06T19:30:23.597Z"
    }
   },
   "outputs": [],
   "source": [
    "df2.groupby('Source')['Student'].mean()"
   ]
  },
  {
   "cell_type": "code",
   "execution_count": null,
   "metadata": {
    "ExecuteTime": {
     "start_time": "2020-04-06T19:30:23.980Z"
    }
   },
   "outputs": [],
   "source": [
    "df2.groupby('Source')['Police'].mean()"
   ]
  },
  {
   "cell_type": "code",
   "execution_count": null,
   "metadata": {
    "ExecuteTime": {
     "start_time": "2020-04-06T19:30:24.348Z"
    }
   },
   "outputs": [],
   "source": [
    "df2.groupby('Source')['Government'].mean()"
   ]
  },
  {
   "cell_type": "code",
   "execution_count": null,
   "metadata": {
    "ExecuteTime": {
     "start_time": "2020-04-06T19:30:24.757Z"
    }
   },
   "outputs": [],
   "source": [
    "df2.groupby('Source')['Protests'].mean()"
   ]
  },
  {
   "cell_type": "code",
   "execution_count": null,
   "metadata": {
    "ExecuteTime": {
     "start_time": "2020-04-06T19:30:25.117Z"
    }
   },
   "outputs": [],
   "source": [
    "df2.groupby('Source')['Economy'].mean()"
   ]
  },
  {
   "cell_type": "code",
   "execution_count": null,
   "metadata": {},
   "outputs": [],
   "source": []
  }
 ],
 "metadata": {
  "kernelspec": {
   "display_name": "Python 3",
   "language": "python",
   "name": "python3"
  },
  "language_info": {
   "codemirror_mode": {
    "name": "ipython",
    "version": 3
   },
   "file_extension": ".py",
   "mimetype": "text/x-python",
   "name": "python",
   "nbconvert_exporter": "python",
   "pygments_lexer": "ipython3",
   "version": "3.6.9"
  },
  "toc": {
   "base_numbering": 1,
   "nav_menu": {},
   "number_sections": true,
   "sideBar": true,
   "skip_h1_title": false,
   "title_cell": "Table of Contents",
   "title_sidebar": "Contents",
   "toc_cell": false,
   "toc_position": {},
   "toc_section_display": true,
   "toc_window_display": true
  }
 },
 "nbformat": 4,
 "nbformat_minor": 2
}
