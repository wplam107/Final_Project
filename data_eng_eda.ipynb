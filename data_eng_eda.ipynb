{
 "cells": [
  {
   "cell_type": "markdown",
   "metadata": {},
   "source": [
    "# Feature Engineering and EDA"
   ]
  },
  {
   "cell_type": "code",
   "execution_count": 371,
   "metadata": {
    "ExecuteTime": {
     "end_time": "2020-04-06T04:22:15.673754Z",
     "start_time": "2020-04-06T04:22:15.655705Z"
    }
   },
   "outputs": [],
   "source": [
    "import re\n",
    "import numpy as np\n",
    "import pandas as pd\n",
    "import pickle\n",
    "import gensim\n",
    "import spacy\n",
    "import pyLDAvis\n",
    "import pyLDAvis.gensim\n",
    "import matplotlib.pyplot as plt\n",
    "import seaborn as sns\n",
    "from pprint import pprint\n",
    "from gensim.utils import simple_preprocess\n",
    "from gensim import corpora, models\n",
    "from gensim.parsing.preprocessing import STOPWORDS\n",
    "from nltk.corpus import stopwords\n",
    "from gensim.models import CoherenceModel\n",
    "from nltk.stem import WordNetLemmatizer, SnowballStemmer\n",
    "from nltk.stem.porter import *\n",
    "from nltk.tokenize import sent_tokenize\n",
    "from textblob import TextBlob\n",
    "from vaderSentiment.vaderSentiment import SentimentIntensityAnalyzer\n",
    "\n",
    "%matplotlib inline"
   ]
  },
  {
   "cell_type": "code",
   "execution_count": 343,
   "metadata": {
    "ExecuteTime": {
     "end_time": "2020-04-06T03:33:20.643082Z",
     "start_time": "2020-04-06T03:33:20.626107Z"
    }
   },
   "outputs": [],
   "source": [
    "file = open('articles.p', 'rb')      \n",
    "df = pickle.load(file)\n",
    "file.close()"
   ]
  },
  {
   "cell_type": "code",
   "execution_count": 344,
   "metadata": {
    "ExecuteTime": {
     "end_time": "2020-04-06T03:33:21.011437Z",
     "start_time": "2020-04-06T03:33:21.004535Z"
    }
   },
   "outputs": [],
   "source": [
    "drop_indices = df.loc[df['date'] < pd.Timestamp(2019, 3, 15)].index\n",
    "df.drop(index=drop_indices, inplace=True)"
   ]
  },
  {
   "cell_type": "code",
   "execution_count": 345,
   "metadata": {
    "ExecuteTime": {
     "end_time": "2020-04-06T03:33:21.565040Z",
     "start_time": "2020-04-06T03:33:21.547677Z"
    }
   },
   "outputs": [],
   "source": [
    "# Drop update articles and investing articles\n",
    "df = df.loc[df['headline'].map(lambda x: re.search(r'UPDATE', x)).isna()]\n",
    "df = df.loc[df['headline'].map(lambda x: re.search(r'US STOCKS', x)).isna()]\n",
    "df = df.loc[df['url'].map(lambda x: re.search(r'investing', x)).isna()]\n",
    "df.reset_index(inplace=True)\n",
    "df.drop(columns='index', inplace=True)\n",
    "df.drop(columns='url', inplace=True)"
   ]
  },
  {
   "cell_type": "markdown",
   "metadata": {},
   "source": [
    "## Add sentences and words features"
   ]
  },
  {
   "cell_type": "code",
   "execution_count": 348,
   "metadata": {
    "ExecuteTime": {
     "end_time": "2020-04-06T03:33:51.866648Z",
     "start_time": "2020-04-06T03:33:51.857484Z"
    }
   },
   "outputs": [],
   "source": [
    "def replace_words(text):\n",
    "    text = re.sub(r'U\\.S\\.', 'US', text)\n",
    "    text = re.sub(r'US\\s', 'USA ', text)\n",
    "    text = re.sub(r'Kongs', 'Kong', text)\n",
    "    text = re.sub(r'Hong Kong', 'HongKong', text)\n",
    "    text = re.sub(r'U\\.K\\.', 'UK', text)\n",
    "    text = re.sub(r'Mr\\.', 'MR', text)\n",
    "    text = re.sub(r'Mrs\\.', 'MRS', text)\n",
    "    text = re.sub(r'Ms\\.', 'MS', text)\n",
    "    text = re.sub(r'\\.\\.\\.', '', text)\n",
    "    text = re.sub(r'U.S-China', 'US-China', text)\n",
    "    text = re.sub(r'(\\.)(\\w)', r'\\1 \\2', text)\n",
    "    text = text.replace('Co.', 'Co')\n",
    "    text = text.replace('\\xa0', '')\n",
    "    text = text.replace('.\"', '\".')\n",
    "    text = text.replace('immediatelywith', 'immediately with')\n",
    "    text = text.replace('theOfficeof', 'the Office of')\n",
    "    text = text.replace('theCommissionerof', 'the Commissioner of')\n",
    "    text = text.replace('entirelywithin', 'entirely within')\n",
    "    \n",
    "    return text"
   ]
  },
  {
   "cell_type": "code",
   "execution_count": 349,
   "metadata": {
    "ExecuteTime": {
     "end_time": "2020-04-06T03:33:54.979776Z",
     "start_time": "2020-04-06T03:33:54.913153Z"
    }
   },
   "outputs": [],
   "source": [
    "df['body'] = df['body'].map(replace_words)"
   ]
  },
  {
   "cell_type": "code",
   "execution_count": 351,
   "metadata": {
    "ExecuteTime": {
     "end_time": "2020-04-06T03:34:06.342133Z",
     "start_time": "2020-04-06T03:34:06.336244Z"
    }
   },
   "outputs": [],
   "source": [
    "def preprocess(text):\n",
    "    stop_words = stopwords.words('english')\n",
    "    result = []\n",
    "    for token in gensim.utils.simple_preprocess(text):\n",
    "        if token not in stop_words:\n",
    "            result.append(WordNetLemmatizer().lemmatize(token, pos='v'))\n",
    "    return ' '.join(result)"
   ]
  },
  {
   "cell_type": "code",
   "execution_count": 352,
   "metadata": {
    "ExecuteTime": {
     "end_time": "2020-04-06T03:34:06.701647Z",
     "start_time": "2020-04-06T03:34:06.698182Z"
    }
   },
   "outputs": [],
   "source": [
    "def preprocess_all(listy):\n",
    "    results = [ preprocess(text) for text in listy ]\n",
    "    return results"
   ]
  },
  {
   "cell_type": "code",
   "execution_count": 353,
   "metadata": {
    "ExecuteTime": {
     "end_time": "2020-04-06T03:34:08.769929Z",
     "start_time": "2020-04-06T03:34:07.737036Z"
    }
   },
   "outputs": [],
   "source": [
    "# Tokenize body sentences, keep first 10 sentences\n",
    "df['sentence_tokens'] = df['body'].map(lambda x: sent_tokenize(x)[:10])"
   ]
  },
  {
   "cell_type": "code",
   "execution_count": 354,
   "metadata": {
    "ExecuteTime": {
     "end_time": "2020-04-06T03:34:13.525859Z",
     "start_time": "2020-04-06T03:34:10.641844Z"
    }
   },
   "outputs": [],
   "source": [
    "# Preprocess sentences\n",
    "df['sentence_tokens'] = df['sentence_tokens'].map(preprocess_all)\n",
    "\n",
    "# Form word tokens from the sentences\n",
    "df['word_tokens'] = df['sentence_tokens'].map(lambda x: ' '.join(x).split())"
   ]
  },
  {
   "cell_type": "markdown",
   "metadata": {},
   "source": [
    "## Dictionary and bigram/trigram models\n",
    "- This section heavily takes from https://www.machinelearningplus.com/nlp/topic-modeling-gensim-python/"
   ]
  },
  {
   "cell_type": "code",
   "execution_count": 357,
   "metadata": {
    "ExecuteTime": {
     "end_time": "2020-04-06T03:35:32.036497Z",
     "start_time": "2020-04-06T03:35:32.030067Z"
    }
   },
   "outputs": [],
   "source": [
    "data_words = df['word_tokens']"
   ]
  },
  {
   "cell_type": "code",
   "execution_count": 358,
   "metadata": {
    "ExecuteTime": {
     "end_time": "2020-04-06T03:35:36.621343Z",
     "start_time": "2020-04-06T03:35:33.014754Z"
    }
   },
   "outputs": [],
   "source": [
    "# Build the bigram and trigram models\n",
    "bigram = gensim.models.Phrases(data_words, min_count=5, threshold=10)\n",
    "trigram = gensim.models.Phrases(bigram[data_words], threshold=10)  \n",
    "\n",
    "# Faster way to get a sentence clubbed as a trigram/bigram\n",
    "bigram_mod = gensim.models.phrases.Phraser(bigram)\n",
    "trigram_mod = gensim.models.phrases.Phraser(trigram)"
   ]
  },
  {
   "cell_type": "code",
   "execution_count": 359,
   "metadata": {
    "ExecuteTime": {
     "end_time": "2020-04-06T03:35:36.630970Z",
     "start_time": "2020-04-06T03:35:36.624319Z"
    },
    "scrolled": true
   },
   "outputs": [],
   "source": [
    "def make_bigrams(texts):\n",
    "    return [ bigram_mod[doc] for doc in texts ]\n",
    "\n",
    "def make_trigrams(texts):\n",
    "    return [ trigram_mod[bigram_mod[doc]] for doc in texts ]\n",
    "\n",
    "def lemmatization(texts, allowed_postags=['NOUN', 'ADJ', 'VERB', 'ADV']):\n",
    "    texts_out = []\n",
    "    for sent in texts:\n",
    "        doc = nlp(\" \".join(sent)) \n",
    "        texts_out.append([ token.lemma_ for token in doc if token.pos_ in allowed_postags ])\n",
    "    return texts_out"
   ]
  },
  {
   "cell_type": "code",
   "execution_count": 360,
   "metadata": {
    "ExecuteTime": {
     "end_time": "2020-04-06T03:35:44.713159Z",
     "start_time": "2020-04-06T03:35:36.635038Z"
    }
   },
   "outputs": [],
   "source": [
    "# Form Bigrams\n",
    "data_words_bigrams = make_bigrams(data_words)\n",
    "\n",
    "# Initialize spacy 'en' model, keeping only tagger component (for efficiency)\n",
    "# python3 -m spacy download en\n",
    "nlp = spacy.load('en', disable=['parser', 'ner'])\n",
    "\n",
    "# Do lemmatization keeping only noun, adj, vb, adv\n",
    "data_lemmatized = lemmatization(data_words_bigrams, allowed_postags=['NOUN', 'ADJ', 'VERB', 'ADV'])"
   ]
  },
  {
   "cell_type": "code",
   "execution_count": 384,
   "metadata": {
    "ExecuteTime": {
     "end_time": "2020-04-06T04:39:46.349407Z",
     "start_time": "2020-04-06T04:39:46.107840Z"
    }
   },
   "outputs": [],
   "source": [
    "# Create Dictionary\n",
    "id2word = corpora.Dictionary(data_lemmatized)\n",
    "\n",
    "# Filter extremes from dictionary\n",
    "id2word.filter_extremes(no_below=15, no_above=0.5, keep_n=100000)\n",
    "\n",
    "# Create Corpus\n",
    "texts = data_lemmatized\n",
    "\n",
    "# Term Document Frequency\n",
    "corpus = [ id2word.doc2bow(text) for text in texts ]"
   ]
  },
  {
   "cell_type": "code",
   "execution_count": 385,
   "metadata": {
    "ExecuteTime": {
     "end_time": "2020-04-06T04:39:50.689883Z",
     "start_time": "2020-04-06T04:39:50.659496Z"
    }
   },
   "outputs": [],
   "source": [
    "# Create TF-IDF corpus\n",
    "tfidf = models.TfidfModel(corpus)\n",
    "corpus_tfidf = tfidf[corpus]"
   ]
  },
  {
   "cell_type": "markdown",
   "metadata": {},
   "source": [
    "## LDA Models"
   ]
  },
  {
   "cell_type": "code",
   "execution_count": 426,
   "metadata": {
    "ExecuteTime": {
     "end_time": "2020-04-06T05:31:20.766348Z",
     "start_time": "2020-04-06T05:30:58.947718Z"
    }
   },
   "outputs": [],
   "source": [
    "lda_model = gensim.models.LdaMulticore(corpus=corpus,\n",
    "                                       id2word=id2word,\n",
    "                                       workers=2,\n",
    "                                       num_topics=3, \n",
    "                                       random_state=100,\n",
    "                                       passes=10,\n",
    "                                       per_word_topics=True)"
   ]
  },
  {
   "cell_type": "code",
   "execution_count": 427,
   "metadata": {
    "ExecuteTime": {
     "end_time": "2020-04-06T05:31:20.777811Z",
     "start_time": "2020-04-06T05:31:20.770111Z"
    },
    "scrolled": true
   },
   "outputs": [
    {
     "name": "stdout",
     "output_type": "stream",
     "text": [
      "[(0,\n",
      "  '0.017*\"government\" + 0.017*\"people\" + 0.015*\"chinese\" + 0.012*\"police\" + '\n",
      "  '0.012*\"also\" + 0.010*\"law\" + 0.009*\"support\" + 0.009*\"would\" + '\n",
      "  '0.008*\"violence\" + 0.008*\"make\"'),\n",
      " (1,\n",
      "  '0.013*\"market\" + 0.013*\"year\" + 0.013*\"company\" + 0.011*\"chinese\" + '\n",
      "  '0.010*\"fall\" + 0.009*\"share\" + 0.009*\"also\" + 0.009*\"business\" + '\n",
      "  '0.008*\"month\" + 0.008*\"would\"'),\n",
      " (2,\n",
      "  '0.039*\"protester\" + 0.027*\"police\" + 0.015*\"people\" + 0.011*\"city\" + '\n",
      "  '0.010*\"government\" + 0.008*\"demonstration\" + 0.008*\"many\" + 0.008*\"include\" '\n",
      "  '+ 0.008*\"demonstrator\" + 0.007*\"student\"')]\n"
     ]
    }
   ],
   "source": [
    "pprint(lda_model.print_topics())\n",
    "doc_lda = lda_model[corpus]"
   ]
  },
  {
   "cell_type": "code",
   "execution_count": 428,
   "metadata": {
    "ExecuteTime": {
     "end_time": "2020-04-06T05:31:22.505753Z",
     "start_time": "2020-04-06T05:31:20.782319Z"
    }
   },
   "outputs": [
    {
     "name": "stdout",
     "output_type": "stream",
     "text": [
      "\n",
      "Perplexity:  -6.325431204033311\n",
      "\n",
      "Coherence Score:  0.41365911722653365\n"
     ]
    }
   ],
   "source": [
    "print('\\nPerplexity: ', lda_model.log_perplexity(corpus))\n",
    "\n",
    "coherence_model_lda = CoherenceModel(model=lda_model, texts=data_lemmatized, dictionary=id2word, coherence='c_v')\n",
    "coherence_lda = coherence_model_lda.get_coherence()\n",
    "print('\\nCoherence Score: ', coherence_lda)"
   ]
  },
  {
   "cell_type": "code",
   "execution_count": 447,
   "metadata": {
    "ExecuteTime": {
     "end_time": "2020-04-06T05:47:30.101419Z",
     "start_time": "2020-04-06T05:46:58.908028Z"
    }
   },
   "outputs": [],
   "source": [
    "tfidf_lda_model = gensim.models.LdaMulticore(corpus=corpus_tfidf,\n",
    "                                             id2word=id2word,\n",
    "                                             workers=2,\n",
    "                                             num_topics=3,\n",
    "                                             random_state=100,\n",
    "                                             passes=10,\n",
    "                                             per_word_topics=False)"
   ]
  },
  {
   "cell_type": "code",
   "execution_count": 448,
   "metadata": {
    "ExecuteTime": {
     "end_time": "2020-04-06T05:47:30.112193Z",
     "start_time": "2020-04-06T05:47:30.104875Z"
    },
    "scrolled": true
   },
   "outputs": [
    {
     "name": "stdout",
     "output_type": "stream",
     "text": [
      "[(0,\n",
      "  '0.007*\"law\" + 0.006*\"chinese\" + 0.006*\"government\" + 0.006*\"spokesperson\" + '\n",
      "  '0.005*\"situation\" + 0.005*\"support\" + 0.005*\"statement\" + 0.005*\"add\" + '\n",
      "  '0.005*\"official\" + 0.005*\"people\"'),\n",
      " (1,\n",
      "  '0.010*\"market\" + 0.009*\"fall\" + 0.009*\"company\" + 0.009*\"share\" + '\n",
      "  '0.008*\"investor\" + 0.007*\"sale\" + 0.007*\"index\" + 0.006*\"low\" + '\n",
      "  '0.006*\"rise\" + 0.006*\"gain\"'),\n",
      " (2,\n",
      "  '0.010*\"police\" + 0.010*\"protester\" + 0.006*\"student\" + 0.005*\"people\" + '\n",
      "  '0.005*\"activist\" + 0.005*\"arrest\" + 0.005*\"city\" + 0.005*\"demonstrator\" + '\n",
      "  '0.005*\"rally\" + 0.005*\"street\"')]\n"
     ]
    }
   ],
   "source": [
    "pprint(tfidf_lda_model.print_topics())\n",
    "doc_tfidf_lda = tfidf_lda_model[corpus]"
   ]
  },
  {
   "cell_type": "code",
   "execution_count": 449,
   "metadata": {
    "ExecuteTime": {
     "end_time": "2020-04-06T05:47:31.862042Z",
     "start_time": "2020-04-06T05:47:30.116253Z"
    }
   },
   "outputs": [
    {
     "name": "stdout",
     "output_type": "stream",
     "text": [
      "\n",
      "Perplexity:  -6.517892484883535\n",
      "\n",
      "Coherence Score:  0.5219591196554754\n"
     ]
    }
   ],
   "source": [
    "print('\\nPerplexity: ', tfidf_lda_model.log_perplexity(corpus))\n",
    "\n",
    "coherence_model_tfidf_lda = CoherenceModel(model=tfidf_lda_model, texts=data_lemmatized, dictionary=id2word, coherence='c_v')\n",
    "coherence_tfidf_lda = coherence_model_tfidf_lda.get_coherence()\n",
    "print('\\nCoherence Score: ', coherence_tfidf_lda)"
   ]
  },
  {
   "cell_type": "code",
   "execution_count": 423,
   "metadata": {
    "ExecuteTime": {
     "end_time": "2020-04-06T05:28:50.603116Z",
     "start_time": "2020-04-06T05:28:14.538134Z"
    }
   },
   "outputs": [
    {
     "name": "stderr",
     "output_type": "stream",
     "text": [
      "/Users/waynelam/opt/anaconda3/envs/learn-env/lib/python3.6/site-packages/smart_open/smart_open_lib.py:398: UserWarning: This function is deprecated, use smart_open.open instead. See the migration notes for details: https://github.com/RaRe-Technologies/smart_open/blob/master/README.rst#migrating-to-the-new-open-function\n",
      "  'See the migration notes for details: %s' % _MIGRATION_NOTES_URL\n"
     ]
    }
   ],
   "source": [
    "mallet_path = '/Users/waynelam/Documents/DevStuff/mallet-2.0.8/bin/mallet'\n",
    "ldamallet = gensim.models.wrappers.LdaMallet(mallet_path,\n",
    "                                             corpus=corpus,\n",
    "                                             random_seed=100,\n",
    "                                             num_topics=3,\n",
    "                                             workers=2,\n",
    "                                             id2word=id2word)"
   ]
  },
  {
   "cell_type": "code",
   "execution_count": 424,
   "metadata": {
    "ExecuteTime": {
     "end_time": "2020-04-06T05:28:50.613833Z",
     "start_time": "2020-04-06T05:28:50.606259Z"
    },
    "scrolled": true
   },
   "outputs": [
    {
     "name": "stdout",
     "output_type": "stream",
     "text": [
      "[(0,\n",
      "  '0.063*\"protester\" + 0.051*\"police\" + 0.029*\"people\" + 0.024*\"city\" + '\n",
      "  '0.019*\"violence\" + 0.015*\"demonstration\" + 0.014*\"include\" + 0.013*\"day\" + '\n",
      "  '0.013*\"activist\" + 0.012*\"hold\"'),\n",
      " (1,\n",
      "  '0.039*\"chinese\" + 0.038*\"government\" + 0.021*\"make\" + 0.021*\"call\" + '\n",
      "  '0.020*\"support\" + 0.016*\"law\" + 0.014*\"add\" + 0.014*\"people\" + '\n",
      "  '0.012*\"political\" + 0.011*\"issue\"'),\n",
      " (2,\n",
      "  '0.023*\"year\" + 0.016*\"month\" + 0.013*\"company\" + 0.013*\"mainland\" + '\n",
      "  '0.013*\"market\" + 0.013*\"time\" + 0.012*\"fall\" + 0.012*\"business\" + '\n",
      "  '0.012*\"end\" + 0.012*\"concern\"')]\n"
     ]
    }
   ],
   "source": [
    "pprint(ldamallet.show_topics())"
   ]
  },
  {
   "cell_type": "code",
   "execution_count": 425,
   "metadata": {
    "ExecuteTime": {
     "end_time": "2020-04-06T05:28:51.167315Z",
     "start_time": "2020-04-06T05:28:50.618325Z"
    }
   },
   "outputs": [
    {
     "name": "stdout",
     "output_type": "stream",
     "text": [
      "\n",
      "Coherence Score:  0.40153582244804964\n"
     ]
    }
   ],
   "source": [
    "coherence_model_ldamallet = CoherenceModel(model=ldamallet, texts=data_lemmatized, dictionary=id2word, coherence='c_v')\n",
    "coherence_ldamallet = coherence_model_ldamallet.get_coherence()\n",
    "print('\\nCoherence Score: ', coherence_ldamallet)"
   ]
  },
  {
   "cell_type": "code",
   "execution_count": 410,
   "metadata": {
    "ExecuteTime": {
     "end_time": "2020-04-06T05:17:38.397562Z",
     "start_time": "2020-04-06T05:17:38.391018Z"
    }
   },
   "outputs": [],
   "source": [
    "def compute_coherence_values(dictionary, corpus, texts, limit, start=2, step=3):\n",
    "    coherence_values = []\n",
    "    model_list = []\n",
    "    for num_topics in range(start, limit, step):\n",
    "        model = gensim.models.LdaMulticore(corpus=corpus_tfidf,\n",
    "                                           id2word=id2word,\n",
    "                                           workers=2,\n",
    "                                           num_topics=num_topics,\n",
    "                                           random_state=100,\n",
    "                                           passes=10,\n",
    "                                           per_word_topics=True)\n",
    "        model_list.append(model)\n",
    "        coherencemodel = CoherenceModel(model=model,\n",
    "                                        texts=texts,\n",
    "                                        dictionary=dictionary,\n",
    "                                        coherence='c_v')\n",
    "        coherence_values.append(coherencemodel.get_coherence())\n",
    "\n",
    "    return model_list, coherence_values"
   ]
  },
  {
   "cell_type": "code",
   "execution_count": 438,
   "metadata": {
    "ExecuteTime": {
     "end_time": "2020-04-06T05:45:08.079905Z",
     "start_time": "2020-04-06T05:43:18.435114Z"
    }
   },
   "outputs": [],
   "source": [
    "model_list, coherence_values = compute_coherence_values(dictionary=id2word, corpus=corpus, texts=data_lemmatized, start=3, limit=15, step=2)"
   ]
  },
  {
   "cell_type": "code",
   "execution_count": 439,
   "metadata": {
    "ExecuteTime": {
     "end_time": "2020-04-06T05:45:08.300350Z",
     "start_time": "2020-04-06T05:45:08.083017Z"
    }
   },
   "outputs": [
    {
     "data": {
      "image/png": "[encoded data removed]",
      "text/plain": [
       "<Figure size 432x288 with 1 Axes>"
      ]
     },
     "metadata": {
      "needs_background": "light"
     },
     "output_type": "display_data"
    }
   ],
   "source": [
    "limit = 15\n",
    "start = 3\n",
    "step = 2\n",
    "x = range(start, limit, step)\n",
    "plt.plot(x, coherence_values)\n",
    "plt.xlabel(\"Num Topics\")\n",
    "plt.ylabel(\"Coherence score\")\n",
    "plt.legend((\"coherence_values\"), loc='best')\n",
    "plt.show()"
   ]
  },
  {
   "cell_type": "code",
   "execution_count": 440,
   "metadata": {
    "ExecuteTime": {
     "end_time": "2020-04-06T05:45:08.309026Z",
     "start_time": "2020-04-06T05:45:08.303569Z"
    }
   },
   "outputs": [
    {
     "name": "stdout",
     "output_type": "stream",
     "text": [
      "Num Topics = 3  has Coherence Value of 0.534\n",
      "Num Topics = 5  has Coherence Value of 0.3972\n",
      "Num Topics = 7  has Coherence Value of 0.3644\n",
      "Num Topics = 9  has Coherence Value of 0.3688\n",
      "Num Topics = 11  has Coherence Value of 0.3509\n",
      "Num Topics = 13  has Coherence Value of 0.3673\n"
     ]
    }
   ],
   "source": [
    "for m, cv in zip(x, coherence_values):\n",
    "    print(\"Num Topics =\", m, \" has Coherence Value of\", round(cv, 4))"
   ]
  },
  {
   "cell_type": "code",
   "execution_count": null,
   "metadata": {},
   "outputs": [],
   "source": []
  },
  {
   "cell_type": "code",
   "execution_count": null,
   "metadata": {},
   "outputs": [],
   "source": []
  },
  {
   "cell_type": "code",
   "execution_count": null,
   "metadata": {},
   "outputs": [],
   "source": []
  },
  {
   "cell_type": "code",
   "execution_count": null,
   "metadata": {},
   "outputs": [],
   "source": []
  },
  {
   "cell_type": "code",
   "execution_count": null,
   "metadata": {
    "ExecuteTime": {
     "end_time": "2020-04-05T23:22:42.986344Z",
     "start_time": "2020-04-05T23:22:42.982894Z"
    }
   },
   "outputs": [],
   "source": [
    "def vader_analysis(text):\n",
    "    analyzer = SentimentIntensityAnalyzer()\n",
    "    return analyzer.polarity_scores(text)"
   ]
  },
  {
   "cell_type": "code",
   "execution_count": null,
   "metadata": {
    "ExecuteTime": {
     "end_time": "2020-04-05T23:46:45.942702Z",
     "start_time": "2020-04-05T23:46:45.938561Z"
    }
   },
   "outputs": [],
   "source": [
    "def polarity(text):\n",
    "    analysis = TextBlob(text)\n",
    "    return analysis.sentiment[0]\n",
    "\n",
    "def subjectivity(text):\n",
    "    analysis = TextBlob(text)\n",
    "    return analysis.sentiment[1]"
   ]
  },
  {
   "cell_type": "code",
   "execution_count": null,
   "metadata": {},
   "outputs": [],
   "source": []
  }
 ],
 "metadata": {
  "kernelspec": {
   "display_name": "Python 3",
   "language": "python",
   "name": "python3"
  },
  "language_info": {
   "codemirror_mode": {
    "name": "ipython",
    "version": 3
   },
   "file_extension": ".py",
   "mimetype": "text/x-python",
   "name": "python",
   "nbconvert_exporter": "python",
   "pygments_lexer": "ipython3",
   "version": "3.6.9"
  },
  "toc": {
   "base_numbering": 1,
   "nav_menu": {},
   "number_sections": true,
   "sideBar": true,
   "skip_h1_title": false,
   "title_cell": "Table of Contents",
   "title_sidebar": "Contents",
   "toc_cell": false,
   "toc_position": {},
   "toc_section_display": true,
   "toc_window_display": true
  }
 },
 "nbformat": 4,
 "nbformat_minor": 2
}
